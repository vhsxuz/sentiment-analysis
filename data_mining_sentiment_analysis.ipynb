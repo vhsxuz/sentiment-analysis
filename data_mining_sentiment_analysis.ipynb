{
  "cells": [
    {
      "cell_type": "markdown",
      "source": [
        "## Get Kaggle Dataset"
      ],
      "metadata": {
        "id": "DC-jOb7hT0pV"
      }
    },
    {
      "cell_type": "code",
      "source": [
        "!pip install -q kaggle"
      ],
      "metadata": {
        "id": "hUZDxdtET4RL"
      },
      "execution_count": null,
      "outputs": []
    },
    {
      "cell_type": "code",
      "source": [
        "from google.colab import files\n",
        "files.upload()"
      ],
      "metadata": {
        "colab": {
          "base_uri": "https://localhost:8080/",
          "height": 92
        },
        "id": "aK4rM2zxT94K",
        "outputId": "c731d996-261c-4767-a79e-90d7198110b8"
      },
      "execution_count": null,
      "outputs": [
        {
          "output_type": "display_data",
          "data": {
            "text/plain": [
              "<IPython.core.display.HTML object>"
            ],
            "text/html": [
              "\n",
              "     <input type=\"file\" id=\"files-75d59145-b236-4c6a-8568-34a373fd9ad6\" name=\"files[]\" multiple disabled\n",
              "        style=\"border:none\" />\n",
              "     <output id=\"result-75d59145-b236-4c6a-8568-34a373fd9ad6\">\n",
              "      Upload widget is only available when the cell has been executed in the\n",
              "      current browser session. Please rerun this cell to enable.\n",
              "      </output>\n",
              "      <script>// Copyright 2017 Google LLC\n",
              "//\n",
              "// Licensed under the Apache License, Version 2.0 (the \"License\");\n",
              "// you may not use this file except in compliance with the License.\n",
              "// You may obtain a copy of the License at\n",
              "//\n",
              "//      http://www.apache.org/licenses/LICENSE-2.0\n",
              "//\n",
              "// Unless required by applicable law or agreed to in writing, software\n",
              "// distributed under the License is distributed on an \"AS IS\" BASIS,\n",
              "// WITHOUT WARRANTIES OR CONDITIONS OF ANY KIND, either express or implied.\n",
              "// See the License for the specific language governing permissions and\n",
              "// limitations under the License.\n",
              "\n",
              "/**\n",
              " * @fileoverview Helpers for google.colab Python module.\n",
              " */\n",
              "(function(scope) {\n",
              "function span(text, styleAttributes = {}) {\n",
              "  const element = document.createElement('span');\n",
              "  element.textContent = text;\n",
              "  for (const key of Object.keys(styleAttributes)) {\n",
              "    element.style[key] = styleAttributes[key];\n",
              "  }\n",
              "  return element;\n",
              "}\n",
              "\n",
              "// Max number of bytes which will be uploaded at a time.\n",
              "const MAX_PAYLOAD_SIZE = 100 * 1024;\n",
              "\n",
              "function _uploadFiles(inputId, outputId) {\n",
              "  const steps = uploadFilesStep(inputId, outputId);\n",
              "  const outputElement = document.getElementById(outputId);\n",
              "  // Cache steps on the outputElement to make it available for the next call\n",
              "  // to uploadFilesContinue from Python.\n",
              "  outputElement.steps = steps;\n",
              "\n",
              "  return _uploadFilesContinue(outputId);\n",
              "}\n",
              "\n",
              "// This is roughly an async generator (not supported in the browser yet),\n",
              "// where there are multiple asynchronous steps and the Python side is going\n",
              "// to poll for completion of each step.\n",
              "// This uses a Promise to block the python side on completion of each step,\n",
              "// then passes the result of the previous step as the input to the next step.\n",
              "function _uploadFilesContinue(outputId) {\n",
              "  const outputElement = document.getElementById(outputId);\n",
              "  const steps = outputElement.steps;\n",
              "\n",
              "  const next = steps.next(outputElement.lastPromiseValue);\n",
              "  return Promise.resolve(next.value.promise).then((value) => {\n",
              "    // Cache the last promise value to make it available to the next\n",
              "    // step of the generator.\n",
              "    outputElement.lastPromiseValue = value;\n",
              "    return next.value.response;\n",
              "  });\n",
              "}\n",
              "\n",
              "/**\n",
              " * Generator function which is called between each async step of the upload\n",
              " * process.\n",
              " * @param {string} inputId Element ID of the input file picker element.\n",
              " * @param {string} outputId Element ID of the output display.\n",
              " * @return {!Iterable<!Object>} Iterable of next steps.\n",
              " */\n",
              "function* uploadFilesStep(inputId, outputId) {\n",
              "  const inputElement = document.getElementById(inputId);\n",
              "  inputElement.disabled = false;\n",
              "\n",
              "  const outputElement = document.getElementById(outputId);\n",
              "  outputElement.innerHTML = '';\n",
              "\n",
              "  const pickedPromise = new Promise((resolve) => {\n",
              "    inputElement.addEventListener('change', (e) => {\n",
              "      resolve(e.target.files);\n",
              "    });\n",
              "  });\n",
              "\n",
              "  const cancel = document.createElement('button');\n",
              "  inputElement.parentElement.appendChild(cancel);\n",
              "  cancel.textContent = 'Cancel upload';\n",
              "  const cancelPromise = new Promise((resolve) => {\n",
              "    cancel.onclick = () => {\n",
              "      resolve(null);\n",
              "    };\n",
              "  });\n",
              "\n",
              "  // Wait for the user to pick the files.\n",
              "  const files = yield {\n",
              "    promise: Promise.race([pickedPromise, cancelPromise]),\n",
              "    response: {\n",
              "      action: 'starting',\n",
              "    }\n",
              "  };\n",
              "\n",
              "  cancel.remove();\n",
              "\n",
              "  // Disable the input element since further picks are not allowed.\n",
              "  inputElement.disabled = true;\n",
              "\n",
              "  if (!files) {\n",
              "    return {\n",
              "      response: {\n",
              "        action: 'complete',\n",
              "      }\n",
              "    };\n",
              "  }\n",
              "\n",
              "  for (const file of files) {\n",
              "    const li = document.createElement('li');\n",
              "    li.append(span(file.name, {fontWeight: 'bold'}));\n",
              "    li.append(span(\n",
              "        `(${file.type || 'n/a'}) - ${file.size} bytes, ` +\n",
              "        `last modified: ${\n",
              "            file.lastModifiedDate ? file.lastModifiedDate.toLocaleDateString() :\n",
              "                                    'n/a'} - `));\n",
              "    const percent = span('0% done');\n",
              "    li.appendChild(percent);\n",
              "\n",
              "    outputElement.appendChild(li);\n",
              "\n",
              "    const fileDataPromise = new Promise((resolve) => {\n",
              "      const reader = new FileReader();\n",
              "      reader.onload = (e) => {\n",
              "        resolve(e.target.result);\n",
              "      };\n",
              "      reader.readAsArrayBuffer(file);\n",
              "    });\n",
              "    // Wait for the data to be ready.\n",
              "    let fileData = yield {\n",
              "      promise: fileDataPromise,\n",
              "      response: {\n",
              "        action: 'continue',\n",
              "      }\n",
              "    };\n",
              "\n",
              "    // Use a chunked sending to avoid message size limits. See b/62115660.\n",
              "    let position = 0;\n",
              "    do {\n",
              "      const length = Math.min(fileData.byteLength - position, MAX_PAYLOAD_SIZE);\n",
              "      const chunk = new Uint8Array(fileData, position, length);\n",
              "      position += length;\n",
              "\n",
              "      const base64 = btoa(String.fromCharCode.apply(null, chunk));\n",
              "      yield {\n",
              "        response: {\n",
              "          action: 'append',\n",
              "          file: file.name,\n",
              "          data: base64,\n",
              "        },\n",
              "      };\n",
              "\n",
              "      let percentDone = fileData.byteLength === 0 ?\n",
              "          100 :\n",
              "          Math.round((position / fileData.byteLength) * 100);\n",
              "      percent.textContent = `${percentDone}% done`;\n",
              "\n",
              "    } while (position < fileData.byteLength);\n",
              "  }\n",
              "\n",
              "  // All done.\n",
              "  yield {\n",
              "    response: {\n",
              "      action: 'complete',\n",
              "    }\n",
              "  };\n",
              "}\n",
              "\n",
              "scope.google = scope.google || {};\n",
              "scope.google.colab = scope.google.colab || {};\n",
              "scope.google.colab._files = {\n",
              "  _uploadFiles,\n",
              "  _uploadFilesContinue,\n",
              "};\n",
              "})(self);\n",
              "</script> "
            ]
          },
          "metadata": {}
        },
        {
          "output_type": "stream",
          "name": "stdout",
          "text": [
            "Saving kaggle.json to kaggle.json\n"
          ]
        },
        {
          "output_type": "execute_result",
          "data": {
            "text/plain": [
              "{'kaggle.json': b'{\"username\":\"krakenhaus404\",\"key\":\"fd796646710cfe35a86fe469e08d9ddf\"}'}"
            ]
          },
          "metadata": {},
          "execution_count": 3
        }
      ]
    },
    {
      "cell_type": "code",
      "source": [
        "! mkdir ~/.kaggle\n",
        "! cp kaggle.json ~/.kaggle"
      ],
      "metadata": {
        "id": "c4U5q8NtUQ08"
      },
      "execution_count": null,
      "outputs": []
    },
    {
      "cell_type": "code",
      "source": [
        "! chmod 600 ~/.kaggle/kaggle.json"
      ],
      "metadata": {
        "id": "DKGkeu06UZgQ"
      },
      "execution_count": null,
      "outputs": []
    },
    {
      "cell_type": "code",
      "source": [
        "!kaggle datasets list"
      ],
      "metadata": {
        "id": "o0-9lLM7Uwtq",
        "colab": {
          "base_uri": "https://localhost:8080/"
        },
        "outputId": "fb0e9b6f-44ca-4a53-e4b9-1dd393d050e5"
      },
      "execution_count": null,
      "outputs": [
        {
          "output_type": "stream",
          "name": "stdout",
          "text": [
            "ref                                                             title                                              size  lastUpdated          downloadCount  voteCount  usabilityRating  \n",
            "--------------------------------------------------------------  ------------------------------------------------  -----  -------------------  -------------  ---------  ---------------  \n",
            "ahsan81/hotel-reservations-classification-dataset               Hotel Reservations Dataset                        480KB  2023-01-04 12:50:31           5081        178  1.0              \n",
            "senapatirajesh/netflix-tv-shows-and-movies                      Latest Netflix TV shows and movies                  1MB  2023-01-14 17:03:12           1507         47  0.9411765        \n",
            "johnny1994/divorce-rates-data-should-you-get-married            Divorce Rates Data: Should You Get Married?        22KB  2023-01-15 12:49:06            845         32  0.88235295       \n",
            "rakkesharv/spotify-top-10000-streamed-songs                     Spotify Top 10000 Streamed Songs                  280KB  2023-01-02 08:17:15           2205         66  1.0              \n",
            "die9origephit/fifa-world-cup-2022-complete-dataset              Fifa World Cup 2022: Complete Dataset               7KB  2022-12-18 22:51:11           7446        227  1.0              \n",
            "themrityunjaypathak/imdb-top-100-movies                         IMDb Top 100 Movies                                 4KB  2023-01-11 17:15:09           1266         41  1.0              \n",
            "thedevastator/tesla-accident-fatalities-analysis-and-statistic  Tesla Deaths                                       18KB  2023-01-02 23:34:23           1134         30  0.9411765        \n",
            "rishikeshkonapure/home-loan-approval                            Home Loan Approval                                 13KB  2023-01-12 06:28:57           1422         36  1.0              \n",
            "ayushnitb/starcraft-players-dataset                             Starcraft Players Dataset - Gamers Analytics      205KB  2023-01-18 23:14:29            227         29  1.0              \n",
            "ruddygunawan/per-capita-income-by-county-2021-vs-education      Per Capita Income by County (2021) vs. Education   89KB  2022-12-28 14:37:42           1455         31  1.0              \n",
            "nguyenthicamlai/population-2022                                 Word Population (1955-2020)                       121KB  2023-01-20 12:01:55            729         35  0.7647059        \n",
            "schmoyote/coffee-reviews-dataset                                Coffee Reviews Dataset                            569KB  2023-01-19 02:25:42            737         26  1.0              \n",
            "thedevastator/state-ut-wise-road-accidents-due-to-driver-viola  Road Accidents due to Driver Violations (India)     2KB  2023-01-06 14:29:20            822         33  1.0              \n",
            "thedevastator/global-fossil-co2-emissions-by-country-2002-2022  Emissions by Country                                2MB  2023-01-24 04:24:10           2253         72  1.0              \n",
            "sudhanshuy17/mobilephone                                        MobilePhone's Dataset                             876KB  2023-01-20 14:24:37            955         33  0.88235295       \n",
            "thedevastator/physical-strength-correlation-with-fear-related   Physical Strength & Fear-Related Personality       27KB  2023-01-24 04:33:10            461         23  1.0              \n",
            "omkargowda/suicide-rates-overview-1985-to-2021                  Suicide Rates Overview (1985 to 2021)             539KB  2023-01-04 15:11:45           1534         64  1.0              \n",
            "gan2gan/1000-imdb-movies-20062016                               1000 IMDB movies (2006-2016)                      134KB  2023-01-17 12:32:25            605         30  1.0              \n",
            "arbazmohammad/world-airports-and-airlines-datasets              Worlds Airports and Airlines Datasets             769KB  2023-01-11 07:39:19            618         30  1.0              \n",
            "ahsan81/used-handheld-device-data                               Used Phones & Tablets Pricing Dataset              77KB  2023-01-07 16:47:53            696         26  1.0              \n"
          ]
        }
      ]
    },
    {
      "cell_type": "code",
      "source": [
        "!kaggle datasets download -d kritanjalijain/amazon-reviews"
      ],
      "metadata": {
        "id": "SqcN4iYKU_Cu",
        "colab": {
          "base_uri": "https://localhost:8080/"
        },
        "outputId": "9f92f4b4-6a70-494f-faad-34ad91e0fcfe"
      },
      "execution_count": null,
      "outputs": [
        {
          "output_type": "stream",
          "name": "stdout",
          "text": [
            "Downloading amazon-reviews.zip to /content\n",
            "100% 1.29G/1.29G [00:19<00:00, 113MB/s] \n",
            "100% 1.29G/1.29G [00:19<00:00, 71.0MB/s]\n"
          ]
        }
      ]
    },
    {
      "cell_type": "code",
      "source": [
        "!unzip amazon-reviews.zip"
      ],
      "metadata": {
        "id": "nYd1BO6oXIAP",
        "colab": {
          "base_uri": "https://localhost:8080/"
        },
        "outputId": "2bf71c20-00f6-424f-c8e5-cb4526511a79"
      },
      "execution_count": null,
      "outputs": [
        {
          "output_type": "stream",
          "name": "stdout",
          "text": [
            "Archive:  amazon-reviews.zip\n",
            "  inflating: amazon_review_polarity_csv.tgz  \n",
            "  inflating: test.csv                \n",
            "  inflating: train.csv               \n"
          ]
        }
      ]
    },
    {
      "cell_type": "code",
      "execution_count": null,
      "metadata": {
        "id": "nYbEeHYMXDpY",
        "colab": {
          "base_uri": "https://localhost:8080/"
        },
        "outputId": "459d223b-c3cc-4912-b54f-a225322c27a1"
      },
      "outputs": [
        {
          "output_type": "stream",
          "name": "stdout",
          "text": [
            "\u001b[2K     \u001b[90m━━━━━━━━━━━━━━━━━━━━━━━━━━━━━━━━━━━━━━━━\u001b[0m \u001b[32m55.4/55.4 KB\u001b[0m \u001b[31m4.4 MB/s\u001b[0m eta \u001b[36m0:00:00\u001b[0m\n",
            "\u001b[2K     \u001b[90m━━━━━━━━━━━━━━━━━━━━━━━━━━━━━━━━━━━━━━━━\u001b[0m \u001b[32m4.2/4.2 MB\u001b[0m \u001b[31m46.3 MB/s\u001b[0m eta \u001b[36m0:00:00\u001b[0m\n",
            "\u001b[2K     \u001b[90m━━━━━━━━━━━━━━━━━━━━━━━━━━━━━━━━━━━━━━\u001b[0m \u001b[32m128.2/128.2 KB\u001b[0m \u001b[31m11.3 MB/s\u001b[0m eta \u001b[36m0:00:00\u001b[0m\n",
            "\u001b[2K     \u001b[90m━━━━━━━━━━━━━━━━━━━━━━━━━━━━━━━━━━━━━━━━\u001b[0m \u001b[32m62.8/62.8 KB\u001b[0m \u001b[31m5.1 MB/s\u001b[0m eta \u001b[36m0:00:00\u001b[0m\n",
            "\u001b[2K     \u001b[90m━━━━━━━━━━━━━━━━━━━━━━━━━━━━━━━━━━━━━━━\u001b[0m \u001b[32m112.2/112.2 KB\u001b[0m \u001b[31m7.6 MB/s\u001b[0m eta \u001b[36m0:00:00\u001b[0m\n",
            "\u001b[2K     \u001b[90m━━━━━━━━━━━━━━━━━━━━━━━━━━━━━━━━━━━━━━\u001b[0m \u001b[32m111.0/111.0 KB\u001b[0m \u001b[31m11.7 MB/s\u001b[0m eta \u001b[36m0:00:00\u001b[0m\n",
            "\u001b[?25hLooking in indexes: https://pypi.org/simple, https://us-python.pkg.dev/colab-wheels/public/simple/\n",
            "Collecting snscrape\n",
            "  Downloading snscrape-0.5.0.20230113-py3-none-any.whl (69 kB)\n",
            "\u001b[2K     \u001b[90m━━━━━━━━━━━━━━━━━━━━━━━━━━━━━━━━━━━━━━━━\u001b[0m \u001b[32m69.2/69.2 KB\u001b[0m \u001b[31m4.4 MB/s\u001b[0m eta \u001b[36m0:00:00\u001b[0m\n",
            "\u001b[?25hRequirement already satisfied: lxml in /usr/local/lib/python3.8/dist-packages (from snscrape) (4.9.2)\n",
            "Requirement already satisfied: requests[socks] in /usr/local/lib/python3.8/dist-packages (from snscrape) (2.28.2)\n",
            "Requirement already satisfied: beautifulsoup4 in /usr/local/lib/python3.8/dist-packages (from snscrape) (4.11.1)\n",
            "Requirement already satisfied: filelock in /usr/local/lib/python3.8/dist-packages (from snscrape) (3.9.0)\n",
            "Requirement already satisfied: pytz in /usr/local/lib/python3.8/dist-packages (from snscrape) (2022.7)\n",
            "Requirement already satisfied: soupsieve>1.2 in /usr/local/lib/python3.8/dist-packages (from beautifulsoup4->snscrape) (2.3.2.post1)\n",
            "Requirement already satisfied: charset-normalizer<4,>=2 in /usr/local/lib/python3.8/dist-packages (from requests[socks]->snscrape) (2.1.1)\n",
            "Requirement already satisfied: idna<4,>=2.5 in /usr/local/lib/python3.8/dist-packages (from requests[socks]->snscrape) (2.10)\n",
            "Requirement already satisfied: urllib3<1.27,>=1.21.1 in /usr/local/lib/python3.8/dist-packages (from requests[socks]->snscrape) (1.24.3)\n",
            "Requirement already satisfied: certifi>=2017.4.17 in /usr/local/lib/python3.8/dist-packages (from requests[socks]->snscrape) (2022.12.7)\n",
            "Requirement already satisfied: PySocks!=1.5.7,>=1.5.6 in /usr/local/lib/python3.8/dist-packages (from requests[socks]->snscrape) (1.7.1)\n",
            "Installing collected packages: snscrape\n",
            "Successfully installed snscrape-0.5.0.20230113\n",
            "Looking in indexes: https://pypi.org/simple, https://us-python.pkg.dev/colab-wheels/public/simple/\n",
            "Collecting transformers\n",
            "  Downloading transformers-4.26.0-py3-none-any.whl (6.3 MB)\n",
            "\u001b[2K     \u001b[90m━━━━━━━━━━━━━━━━━━━━━━━━━━━━━━━━━━━━━━━━\u001b[0m \u001b[32m6.3/6.3 MB\u001b[0m \u001b[31m51.5 MB/s\u001b[0m eta \u001b[36m0:00:00\u001b[0m\n",
            "\u001b[?25hRequirement already satisfied: pyyaml>=5.1 in /usr/local/lib/python3.8/dist-packages (from transformers) (6.0)\n",
            "Collecting huggingface-hub<1.0,>=0.11.0\n",
            "  Downloading huggingface_hub-0.12.0-py3-none-any.whl (190 kB)\n",
            "\u001b[2K     \u001b[90m━━━━━━━━━━━━━━━━━━━━━━━━━━━━━━━━━━━━━━\u001b[0m \u001b[32m190.3/190.3 KB\u001b[0m \u001b[31m18.3 MB/s\u001b[0m eta \u001b[36m0:00:00\u001b[0m\n",
            "\u001b[?25hRequirement already satisfied: tqdm>=4.27 in /usr/local/lib/python3.8/dist-packages (from transformers) (4.64.1)\n",
            "Requirement already satisfied: regex!=2019.12.17 in /usr/local/lib/python3.8/dist-packages (from transformers) (2022.6.2)\n",
            "Collecting tokenizers!=0.11.3,<0.14,>=0.11.1\n",
            "  Downloading tokenizers-0.13.2-cp38-cp38-manylinux_2_17_x86_64.manylinux2014_x86_64.whl (7.6 MB)\n",
            "\u001b[2K     \u001b[90m━━━━━━━━━━━━━━━━━━━━━━━━━━━━━━━━━━━━━━━━\u001b[0m \u001b[32m7.6/7.6 MB\u001b[0m \u001b[31m73.8 MB/s\u001b[0m eta \u001b[36m0:00:00\u001b[0m\n",
            "\u001b[?25hRequirement already satisfied: requests in /usr/local/lib/python3.8/dist-packages (from transformers) (2.28.2)\n",
            "Requirement already satisfied: numpy>=1.17 in /usr/local/lib/python3.8/dist-packages (from transformers) (1.21.6)\n",
            "Requirement already satisfied: filelock in /usr/local/lib/python3.8/dist-packages (from transformers) (3.9.0)\n",
            "Requirement already satisfied: packaging>=20.0 in /usr/local/lib/python3.8/dist-packages (from transformers) (21.3)\n",
            "Requirement already satisfied: typing-extensions>=3.7.4.3 in /usr/local/lib/python3.8/dist-packages (from huggingface-hub<1.0,>=0.11.0->transformers) (4.4.0)\n",
            "Requirement already satisfied: pyparsing!=3.0.5,>=2.0.2 in /usr/local/lib/python3.8/dist-packages (from packaging>=20.0->transformers) (3.0.9)\n",
            "Requirement already satisfied: idna<4,>=2.5 in /usr/local/lib/python3.8/dist-packages (from requests->transformers) (2.10)\n",
            "Requirement already satisfied: charset-normalizer<4,>=2 in /usr/local/lib/python3.8/dist-packages (from requests->transformers) (2.1.1)\n",
            "Requirement already satisfied: urllib3<1.27,>=1.21.1 in /usr/local/lib/python3.8/dist-packages (from requests->transformers) (1.24.3)\n",
            "Requirement already satisfied: certifi>=2017.4.17 in /usr/local/lib/python3.8/dist-packages (from requests->transformers) (2022.12.7)\n",
            "Installing collected packages: tokenizers, huggingface-hub, transformers\n",
            "Successfully installed huggingface-hub-0.12.0 tokenizers-0.13.2 transformers-4.26.0\n",
            "Looking in indexes: https://pypi.org/simple, https://us-python.pkg.dev/colab-wheels/public/simple/\n",
            "Requirement already satisfied: textblob in /usr/local/lib/python3.8/dist-packages (0.15.3)\n",
            "Requirement already satisfied: nltk>=3.1 in /usr/local/lib/python3.8/dist-packages (from textblob) (3.7)\n",
            "Requirement already satisfied: tqdm in /usr/local/lib/python3.8/dist-packages (from nltk>=3.1->textblob) (4.64.1)\n",
            "Requirement already satisfied: regex>=2021.8.3 in /usr/local/lib/python3.8/dist-packages (from nltk>=3.1->textblob) (2022.6.2)\n",
            "Requirement already satisfied: click in /usr/local/lib/python3.8/dist-packages (from nltk>=3.1->textblob) (7.1.2)\n",
            "Requirement already satisfied: joblib in /usr/local/lib/python3.8/dist-packages (from nltk>=3.1->textblob) (1.2.0)\n",
            "Looking in indexes: https://pypi.org/simple, https://us-python.pkg.dev/colab-wheels/public/simple/\n",
            "Collecting tokenizer\n",
            "  Downloading tokenizer-3.4.2-py2.py3-none-any.whl (79 kB)\n",
            "\u001b[2K     \u001b[90m━━━━━━━━━━━━━━━━━━━━━━━━━━━━━━━━━━━━━━━━\u001b[0m \u001b[32m79.1/79.1 KB\u001b[0m \u001b[31m4.8 MB/s\u001b[0m eta \u001b[36m0:00:00\u001b[0m\n",
            "\u001b[?25hInstalling collected packages: tokenizer\n",
            "Successfully installed tokenizer-3.4.2\n",
            "Looking in indexes: https://pypi.org/simple, https://us-python.pkg.dev/colab-wheels/public/simple/\n",
            "Requirement already satisfied: nltk in /usr/local/lib/python3.8/dist-packages (3.7)\n",
            "Requirement already satisfied: joblib in /usr/local/lib/python3.8/dist-packages (from nltk) (1.2.0)\n",
            "Requirement already satisfied: regex>=2021.8.3 in /usr/local/lib/python3.8/dist-packages (from nltk) (2022.6.2)\n",
            "Requirement already satisfied: click in /usr/local/lib/python3.8/dist-packages (from nltk) (7.1.2)\n",
            "Requirement already satisfied: tqdm in /usr/local/lib/python3.8/dist-packages (from nltk) (4.64.1)\n",
            "Looking in indexes: https://pypi.org/simple, https://us-python.pkg.dev/colab-wheels/public/simple/\n",
            "Collecting emoji\n",
            "  Using cached emoji-2.2.0-py3-none-any.whl\n",
            "Installing collected packages: emoji\n",
            "Successfully installed emoji-2.2.0\n"
          ]
        }
      ],
      "source": [
        "!pip install yfinance -q\n",
        "!pip install snscrape\n",
        "!pip install transformers\n",
        "!pip install textblob\n",
        "!pip install tokenizer\n",
        "!pip install nltk\n",
        "!pip install emoji"
      ]
    },
    {
      "cell_type": "markdown",
      "metadata": {
        "id": "0c7aJ-jjOG5R"
      },
      "source": [
        "## Import Necessary Liraries"
      ]
    },
    {
      "cell_type": "code",
      "execution_count": null,
      "metadata": {
        "id": "s-PA4TBdxb9s"
      },
      "outputs": [],
      "source": [
        "import pandas as pd\n",
        "import numpy as np\n",
        "import matplotlib.pyplot as plt\n",
        "import yfinance as yf\n",
        "import plotly.graph_objects as graph_obj\n",
        "import snscrape.modules.twitter as sntwitter"
      ]
    },
    {
      "cell_type": "markdown",
      "metadata": {
        "id": "2SRjVB4MkWG5"
      },
      "source": [
        "## Get Multiple Stocks"
      ]
    },
    {
      "cell_type": "code",
      "execution_count": null,
      "metadata": {
        "id": "mqD6TBC9LrdV"
      },
      "outputs": [],
      "source": [
        "stock_list = ['TSLA', 'AAPL', 'AMZN', 'NVDA', 'MSFT', 'META']"
      ]
    },
    {
      "cell_type": "markdown",
      "source": [
        "gather the company stock condition from year 2019 until 2022 using the history function from yfinance library."
      ],
      "metadata": {
        "id": "wfmzfDsdfRGl"
      }
    },
    {
      "cell_type": "code",
      "execution_count": null,
      "metadata": {
        "colab": {
          "base_uri": "https://localhost:8080/"
        },
        "id": "VrdD6HkVMyOx",
        "outputId": "9b604b0b-6176-4f50-85f2-d884a5e0b7fd"
      },
      "outputs": [
        {
          "name": "stdout",
          "output_type": "stream",
          "text": [
            "757\n",
            "757\n",
            "757\n",
            "757\n",
            "757\n",
            "757\n"
          ]
        }
      ],
      "source": [
        "company_histories = {}\n",
        "for stock in stock_list:\n",
        "    company_ticker = yf.Ticker(stock)\n",
        "    history = company_ticker.history(period=\"3y\")\n",
        "    company_histories[stock] = history\n",
        "    print(len(history))"
      ]
    },
    {
      "cell_type": "markdown",
      "source": [
        "convert into csv file"
      ],
      "metadata": {
        "id": "1uiSm1FpfnhP"
      }
    },
    {
      "cell_type": "code",
      "execution_count": null,
      "metadata": {
        "id": "0U7wWn-aWZQa"
      },
      "outputs": [],
      "source": [
        "for stock in stock_list:\n",
        "    temp_df = company_histories[stock].copy()\n",
        "    file_name = stock + '_stock_value.csv'\n",
        "    temp_df.to_csv(file_name, encoding='utf-8')"
      ]
    },
    {
      "cell_type": "markdown",
      "source": [
        "plot the stock market value using graph object from plotly library. The reason of using this graph is because the graph is more flexible, which means you could see the stock market from any range time that you want (you could change it by slide the bar below the graph)."
      ],
      "metadata": {
        "id": "x-9zDpKWf6XI"
      }
    },
    {
      "cell_type": "code",
      "execution_count": null,
      "metadata": {
        "colab": {
          "base_uri": "https://localhost:8080/",
          "height": 1000
        },
        "id": "UHxsbtDDM6cM",
        "outputId": "84f98902-86fb-4c9a-cf1e-f4a47f0152c2"
      },
      "outputs": [
        {
          "data": {
            "text/html": [
              "<html>\n",
              "<head><meta charset=\"utf-8\" /></head>\n",
              "<body>\n",
              "    <div>            <script src=\"https://cdnjs.cloudflare.com/ajax/libs/mathjax/2.7.5/MathJax.js?config=TeX-AMS-MML_SVG\"></script><script type=\"text/javascript\">if (window.MathJax) {MathJax.Hub.Config({SVG: {font: \"STIX-Web\"}});}</script>                <script type=\"text/javascript\">window.PlotlyConfig = {MathJaxConfig: 'local'};</script>\n",
              "        <script src=\"https://cdn.plot.ly/plotly-2.8.3.min.js\"></script>                <div id=\"a9405b1b-d669-46c2-820a-9d8ec478ebc4\" class=\"plotly-graph-div\" style=\"height:350px; width:100%;\"></div>            <script type=\"text/javascript\">                                    window.PLOTLYENV=window.PLOTLYENV || {};                                    if (document.getElementById(\"a9405b1b-d669-46c2-820a-9d8ec478ebc4\")) {                    Plotly.newPlot(                        \"a9405b1b-d669-46c2-820a-9d8ec478ebc4\",                        [{\"close\":[22.635332107543945,23.256000518798828,23.51333236694336,23.978666305541992,23.892667770385742,25.433332443237305,25.266000747680664,26.209999084472656,26.93600082397461,27.03933334350586,27.947999954223633,28.350000381469727,28.729333877563477,28.691999435424805,27.64666748046875,27.8886661529541,28.68400001525879,29.534000396728516,30.1026668548584,31.270666122436523,32.80933380126953,32.089332580566406,31.876667022705078,34.990665435791016,35.861331939697266,34.56666564941406,34.232666015625,34.03333282470703,36.47999954223633,37.97066879272461,38.14666748046875,37.654666900634766,37.201332092285156,37.793331146240234,38.732666015625,42.72066879272461,43.371334075927734,52.0,59.137332916259766,48.97999954223633,49.930667877197266,49.871334075927734,51.41866683959961,51.62533187866211,51.15266799926758,53.599998474121094,53.33533477783203,57.22666549682617,61.16133117675781,59.96066665649414,60.06666564941406,55.58599853515625,53.32733154296875,51.91999816894531,45.266666412353516,44.53266525268555,49.574668884277344,49.70066833496094,49.96666717529297,48.30266571044922,46.89866638183594,40.53333282470703,43.02199935913086,42.28200149536133,37.369998931884766,36.44133377075195,29.67133331298828,28.68000030517578,24.08133316040039,28.50933265686035,28.50200080871582,28.952667236328125,33.66666793823242,35.95000076293945,35.21066665649414,34.29066848754883,33.47533416748047,34.93333435058594,32.104000091552734,30.29800033569336,32.000667572021484,34.41600036621094,36.36333465576172,36.589332580566406,38.20000076293945,43.39666748046875,47.32600021362305,48.65533447265625,49.680667877197266,50.259334564208984,49.75733184814453,45.781333923339844,48.807334899902344,47.04199981689453,48.34333419799805,53.25,51.27466583251953,53.367332458496094,52.12533187866211,46.75466537475586,50.74599838256836,51.2140007019043,52.172000885009766,52.00266647338867,54.62799835205078,54.08599853515625,53.96066665649414,52.73066711425781,53.55533218383789,53.27799987792969,54.242000579833984,53.867332458496094,54.37066650390625,55.17333221435547,54.45866775512695,54.591331481933594,54.68199920654297,53.72066879272461,55.66666793823242,59.87333297729492,58.770668029785156,58.86399841308594,57.62533187866211,59.04399871826172,63.327999114990234,62.711334228515625,68.336669921875,64.85600280761719,62.35200119018555,66.05999755859375,65.47533416748047,66.11933135986328,66.9306640625,66.72666931152344,66.28800201416016,66.78533172607422,64.0566635131836,65.73200225830078,63.982666015625,67.29000091552734,71.98733520507812,74.64199829101562,80.57733154296875,91.43866729736328,92.65733337402344,91.05867004394531,92.9520034790039,102.97666931152344,99.80400085449219,101.12000274658203,103.06732940673828,100.04266357421875,100.05599975585938,109.53333282470703,104.55733489990234,106.15533447265625,100.87133026123047,94.46666717529297,102.63999938964844,98.43267059326172,99.94066619873047,99.16600036621094,95.38400268554688,99.0,99.13333129882812,99.00133514404297,99.30533599853516,96.84733581542969,94.57133483886719,91.6259994506836,103.65066528320312,108.06666564941406,110.04733276367188,122.3759994506836,125.80599975585938,125.23533630371094,133.45533752441406,136.6653289794922,134.27999877929688,134.8893280029297,143.54466247558594,149.25,147.55999755859375,166.10667419433594,158.35000610351562,149.1233367919922,135.6666717529297,139.44000244140625,110.06999969482422,122.09333038330078,123.77999877929688,124.23999786376953,139.8733367919922,149.9199981689453,147.25332641601562,141.14332580566406,147.38333129882812,149.79666137695312,141.41000366210938,126.78666687011719,129.26333618164062,135.77999877929688,140.39999389648438,139.69000244140625,143.00332641601562,149.3866729736328,138.3633270263672,141.89332580566406,137.9933319091797,141.76666259765625,141.97332763671875,144.6666717529297,147.43333435058594,148.88333129882812,153.76666259765625,149.6266632080078,146.55667114257812,143.61000061035156,140.64666748046875,140.8800048828125,141.92999267578125,140.2100067138672,140.0933380126953,141.55999755859375,135.33999633789062,136.94332885742188,129.34666442871094,133.50332641601562,141.3000030517578,140.32666015625,146.02999877929688,143.31666564941406,140.4199981689453,136.7866668701172,139.0433349609375,137.25332641601562,136.1666717529297,136.02999877929688,147.20333862304688,162.2133331298828,166.42333984375,163.20333862304688,173.9499969482422,185.1266632080078,191.3333282470703,195.25332641601562,189.1999969482422,194.9199981689453,189.60667419433594,197.7933349609375,199.67999267578125,213.9199981689453,216.6266632080078,201.4933319091797,209.02333068847656,203.3300018310547,213.27667236328125,211.0833282470703,207.58999633789062,218.63333129882812,231.6666717529297,216.6199951171875,213.44667053222656,215.32666015625,220.58999633789062,221.22999572753906,221.99667358398438,231.5933380126953,235.22332763671875,243.2566680908203,245.0366668701172,251.9933319091797,272.0133361816406,293.3399963378906,270.39666748046875,283.14666748046875,284.8033447265625,281.6666564941406,275.38665771484375,281.51666259765625,283.48333740234375,281.663330078125,282.21331787109375,293.6000061035156,294.36334228515625,288.0533447265625,278.4766540527344,264.510009765625,279.9366760253906,290.92999267578125,284.89666748046875,283.3299865722656,284.07666015625,287.8066711425781,283.1533203125,268.2733459472656,270.5533447265625,272.0400085449219,265.40667724609375,266.04998779296875,262.4599914550781,260.4333190917969,238.1666717529297,232.94667053222656,247.33999633789062,227.4066619873047,225.1666717529297,239.47666931152344,228.81333923339844,217.73333740234375,207.14666748046875,199.31666564941406,187.6666717529297,224.52667236328125,222.68666076660156,233.1999969482422,231.2433319091797,235.97999572753906,225.6266632080078,233.93666076660156,217.72000122070312,218.2899932861328,223.3333282470703,220.72000122070312,210.08999633789062,213.4633331298828,206.23666381835938,203.76333618164062,211.8733367919922,222.64332580566406,220.5833282470703,230.35000610351562,230.5399932861328,223.6566619873047,227.93333435058594,225.67333984375,233.9933319091797,254.10667419433594,244.07666015625,246.28334045410156,246.5933380126953,238.2100067138672,239.663330078125,248.0399932861328,239.89666748046875,243.13333129882812,246.06666564941406,234.913330078125,231.46665954589844,225.6666717529297,236.47999572753906,228.3000030517578,224.53334045410156,223.64666748046875,221.17999267578125,224.1233367919922,209.67999267578125,205.73333740234375,196.6300048828125,190.56333923339844,196.5800018310547,192.27667236328125,192.6233367919922,187.82000732421875,195.5933380126953,193.6266632080078,202.14666748046875,201.56333923339844,206.3766632080078,210.28334045410156,208.4066619873047,207.96665954589844,201.7066650390625,190.94667053222656,199.68333435058594,201.7100067138672,201.19667053222656,199.5933380126953,203.3733367919922,203.29666137695312,205.89666748046875,199.7866668701172,201.6233367919922,205.53334045410156,207.77000427246094,206.94332885742188,207.90333557128906,218.85667419433594,226.60667419433594,223.9566650390625,229.57333374023438,226.9199981689453,226.56666564941406,225.97332763671875,226.3000030517578,219.86000061035156,214.88333129882812,217.60333251953125,218.98333740234375,228.56666564941406,222.84666442871094,217.7933349609375,216.86666870117188,214.74000549316406,215.4066619873047,220.1666717529297,218.42999267578125,216.4199981689453,214.4600067138672,219.2066650390625,214.92666625976562,215.66000366210938,225.78334045410156,229.06666564941406,236.55667114257812,236.5800018310547,236.97332763671875,238.2100067138672,233.03334045410156,237.9199981689453,236.663330078125,235.94000244140625,240.75,239.05667114257812,228.72332763671875,221.90333557128906,229.663330078125,224.49000549316406,226.75332641601562,235.43333435058594,236.163330078125,237.06666564941406,233.72000122070312,237.30667114257812,243.6366729736328,245.24000549316406,244.69667053222656,244.1300048828125,244.52333068847656,250.97332763671875,251.2899932861328,251.6199951171875,245.42333984375,247.6666717529297,248.163330078125,251.94332885742188,252.3300018310547,253.163330078125,243.38999938964844,246.4600067138672,250.64666748046875,251.2133331298828,258.1300048828125,263.78668212890625,259.1866760253906,260.4366760253906,258.49334716796875,258.40667724609375,260.510009765625,260.1966552734375,260.9166564941406,264.53668212890625,261.8299865722656,263.9800109863281,268.5733337402344,270.3599853515625,272.7733459472656,281.010009765625,290.03668212890625,288.0899963378906,288.6000061035156,298.0,303.2266540527344,341.6199951171875,339.4766540527344,345.9533386230469,359.0133361816406,371.3333435058594,402.86334228515625,390.6666564941406,404.6199951171875,409.9700012207031,407.36334228515625,387.64666748046875,341.1666564941406,355.98333740234375,354.5033264160156,344.47332763671875,337.7966613769531,351.57666015625,363.0033264160156,365.4599914550781,379.0199890136719,385.6233215332031,369.6766662597656,372.0,360.6400146484375,378.9966735839844,381.586669921875,365.0,361.5333251953125,338.3233337402344,336.336669921875,350.5833435058594,356.32000732421875,334.6000061035156,339.010009765625,322.13665771484375,319.5033264160156,325.3299865722656,308.97332763671875,310.8566589355469,299.9800109863281,312.84332275390625,336.2900085449219,355.6666564941406,364.64666748046875,362.8233337402344,362.0633239746094,356.7799987792969,352.260009765625,399.9266662597656,383.1966552734375,362.7066650390625,354.8999938964844,342.32000732421875,352.7066650390625,354.79998779296875,368.739990234375,343.85333251953125,349.8699951171875,343.5033264160156,331.8833312988281,332.0899963378906,314.6333312988281,310.0,306.1333312988281,312.4700012207031,276.3666687011719,282.1166687011719,312.239990234375,310.4166564941406,301.88665771484375,297.0466613769531,307.7733459472656,302.4466552734375,307.3333435058594,310.6666564941406,301.51666259765625,286.6666564941406,291.9200134277344,307.4766540527344,307.7966613769531,292.1166687011719,285.6600036621094,273.84332275390625,254.67999267578125,266.92333984375,269.9566650390625,290.1433410644531,288.1233215332031,293.2966613769531,279.7633361816406,279.42999267578125,268.1933288574219,274.79998779296875,286.3233337402344,279.4333190917969,265.1166687011719,255.4566650390625,267.2966613769531,280.07666015625,290.5333251953125,301.7966613769531,307.0533447265625,331.32666015625,333.03668212890625,337.97332763671875,336.8800048828125,363.9466552734375,366.5233459472656,364.663330078125,359.20001220703125,361.5299987792969,381.8166809082031,363.7533264160156,348.586669921875,352.4200134277344,341.8299865722656,325.30999755859375,328.98333740234375,340.7900085449219,328.3333435058594,334.7633361816406,342.7166748046875,325.73333740234375,336.260009765625,335.01666259765625,332.67333984375,292.1400146484375,293.836669921875,292.5033264160156,290.2533264160156,300.9800109863281,303.0833435058594,317.5400085449219,291.09332275390625,288.54998779296875,262.3699951171875,266.67999267578125,244.6666717529297,242.6666717529297,256.5299987792969,241.4566650390625,253.8699951171875,236.60333251953125,236.47332763671875,221.3000030517578,224.96665954589844,209.3866729736328,219.60000610351562,235.91000366210938,253.2100067138672,252.75332641601562,246.7899932861328,258.3333435058594,234.51666259765625,238.27999877929688,238.8866729736328,241.86666870117188,239.7066650390625,232.22999572753906,215.73666381835938,220.88999938964844,233.0,213.10000610351562,216.75999450683594,237.0366668701172,236.086669921875,235.07000732421875,245.7066650390625,244.9199981689453,232.663330078125,228.49000549316406,224.47332763671875,227.26333618164062,233.06666564941406,231.73333740234375,244.5433349609375,250.76333618164062,234.3433380126953,233.07000732421875,237.0399932861328,238.31333923339844,240.06666564941406,240.54666137695312,245.52999877929688,247.5,271.7066650390625,272.24334716796875,268.4333190917969,258.8599853515625,274.82000732421875,280.8999938964844,297.1499938964844,297.27667236328125,300.586669921875,307.39666748046875,308.6333312988281,288.1700134277344,290.42333984375,283.3333435058594,294.3566589355469,286.6300048828125,300.0299987792969,309.32000732421875,306.5633239746094,303.9966735839844,302.8699951171875,296.6666564941406,289.913330078125,296.4533386230469,297.0966796875,296.07000732421875,288.0899963378906,284.82000732421875,277.70001220703125,275.6099853515625,277.1600036621094,270.2099914550781,274.4200134277344,283.70001220703125,289.260009765625,299.67999267578125,304.4200134277344,292.1300048828125,302.6099853515625,303.75,303.3500061035156,309.07000732421875,308.7300109863281,300.79998779296875,288.5899963378906,275.3299865722656,276.010009765625,282.94000244140625,287.80999755859375,268.2099914550781,265.25,242.39999389648438,249.44000244140625,240.80999755859375,238.1300048828125,223.07000732421875,222.9600067138672,216.5,217.24000549316406,221.72000122070312,204.99000549316406,219.35000610351562,220.19000244140625,222.0399932861328,207.27999877929688,214.44000244140625,211.25,222.4199981689453,224.63999938964844,225.08999633789062,228.52000427246094,227.5399932861328,227.82000732421875,214.97999572753906,215.30999755859375,207.47000122070312,197.0800018310547,191.3000030517578,177.58999633789062,190.72000122070312,195.97000122070312,190.9499969482422,194.4199981689453,186.9199981689453,183.1699981689453,180.19000244140625,167.8699951171875,169.91000366210938,183.1999969482422,182.86000061035156,182.9199981689453,180.8300018310547,194.6999969482422,194.6999969482422,194.86000061035156,182.4499969482422,179.82000732421875,174.0399932861328],\"high\":[22.963333129882812,23.381999969482422,23.812667846679688,24.182666778564453,24.347333908081055,25.573999404907227,25.700000762939453,26.347999572753906,27.123332977294922,27.53333282470703,28.134000778198242,28.364667892456055,28.898666381835938,29.020666122436523,28.600000381469727,28.086000442504883,28.713333129882812,30.266666412353516,30.104000091552734,31.441999435424805,33.232666015625,33.253334045410156,32.3293342590332,35.04199981689453,36.49399948120117,35.85599899291992,34.297332763671875,34.37799835205078,36.571998596191406,39.633331298828125,38.79999923706055,38.25733184814453,37.62933349609375,38.45399856567383,39.31999969482422,43.391998291015625,43.53333282470703,52.409332275390625,64.59933471679688,56.39866638183594,53.05533218383789,51.31666564941406,54.66600036621094,52.23400115966797,52.650001525878906,54.53333282470703,54.198001861572266,57.33333206176758,62.98533248901367,60.79999923706055,60.87066650390625,57.56666564941406,57.106666564941406,54.22066879272461,49.31800079345703,46.03466796875,49.5793342590332,53.798667907714844,51.10133361816406,49.71666717529297,47.133331298828125,44.20000076293945,44.53333282470703,43.571998596191406,39.633331298828125,40.50466537475586,32.9913330078125,31.456666946411133,26.99066734313965,30.133333206176758,31.799999237060547,29.46666717529297,34.24599838256836,37.133331298828125,37.33333206176758,35.0533332824707,34.44333267211914,36.19733428955078,34.26333236694336,32.95066833496094,34.36600112915039,34.733333587646484,37.66666793823242,37.14733123779297,38.345333099365234,43.46666717529297,49.45866775512695,50.20866775512695,50.630001068115234,51.663333892822266,51.03799819946289,50.22200012207031,48.93333435058594,48.93333435058594,48.71533203125,53.29933166503906,53.66666793823242,53.54666519165039,57.987998962402344,51.518001556396484,50.79999923706055,53.26133346557617,52.6533317565918,53.09333419799805,54.93333435058594,54.93333435058594,56.21933364868164,55.06666564941406,53.557334899902344,53.66999816894531,55.64799880981445,54.80466842651367,55.06666564941406,55.5,55.45199966430664,55.63999938964844,55.180667877197266,54.983333587646484,55.66666793823242,59.93333435058594,60.57733154296875,59.862667083740234,59.71666717529297,59.10133361816406,63.33333206176758,63.62933349609375,68.49866485595703,67.9306640625,65.8653335571289,66.5893325805664,67.52532958984375,67.0,67.94667053222656,67.73133087158203,67.2586669921875,67.46666717529297,66.72533416748047,65.73200225830078,66.33333587646484,67.33333587646484,72.51266479492188,75.68866729736328,81.86666870117188,91.85266876220703,95.30000305175781,94.48400115966797,93.90399932861328,103.2613296508789,119.66600036621094,106.0,103.33333587646484,102.11399841308594,102.50066375732422,110.0,111.66666412353516,108.4280014038086,112.5999984741211,97.66666412353516,103.19599914550781,104.3133316040039,102.32066345214844,100.8826675415039,101.13666534423828,100.65399932861328,101.82733154296875,99.98933410644531,101.15399932861328,99.98332977294922,97.16666412353516,94.66666412353516,105.66666412353516,110.07866668701172,111.25333404541016,123.05733489990234,128.25999450683594,127.4000015258789,134.79933166503906,139.69932556152344,141.93333435058594,135.19667053222656,144.39999389648438,153.0399932861328,154.5659942626953,166.7133331298828,167.49667358398438,159.67999267578125,143.93333435058594,142.6666717529297,122.913330078125,123.0,132.99667358398438,127.5,140.0,153.97999572753906,152.59666442871094,145.92999267578125,150.3333282470703,151.89332580566406,145.9199981689453,137.38333129882812,133.1666717529297,136.2433319091797,142.69332885742188,142.8333282470703,144.64332580566406,149.6266632080078,146.3766632080078,144.54666137695312,142.92666625976562,143.3000030517578,146.3333282470703,144.8633270263672,149.5800018310547,149.6300048828125,155.3000030517578,152.19000244140625,151.98333740234375,149.0,143.9166717529297,144.31666564941406,148.41000366210938,140.9633331298828,141.9199981689453,143.5,139.53334045410156,139.35333251953125,135.8633270263672,135.66000366210938,142.58999633789062,145.13333129882812,146.6666717529297,145.52333068847656,150.8333282470703,140.02999877929688,139.56666564941406,141.0,137.50999450683594,137.48333740234375,154.0,165.3333282470703,169.5366668701172,167.5,175.3333282470703,186.663330078125,191.3333282470703,199.5933380126953,202.60000610351562,199.28334045410156,190.51333618164062,199.6566619873047,199.67999267578125,216.26333618164062,217.0933380126953,218.10667419433594,209.25,208.0,214.25,215.63333129882812,210.8333282470703,219.60667419433594,231.6666717529297,222.8333282470703,216.6266632080078,217.1666717529297,222.02999877929688,227.13333129882812,223.3000030517578,232.1999969482422,239.57333374023438,248.163330078125,246.94667053222656,258.0,272.3299865722656,294.8299865722656,284.80999755859375,289.3333435058594,286.8233337402344,287.6666564941406,286.6333312988281,283.3333435058594,286.5,285.239990234375,282.6666564941406,300.1333312988281,298.6333312988281,297.1666564941406,282.6666564941406,280.8033447265625,280.6666564941406,293.5,292.6933288574219,285.5,288.25665283203125,292.5899963378906,286.6000061035156,281.6066589355469,276.6266784667969,272.4433288574219,273.6666564941406,266.61334228515625,264.89666748046875,265.5966796875,256.1666564941406,237.8699951171875,248.3333282470703,245.73666381835938,235.56666564941406,239.6666717529297,240.3699951171875,233.56666564941406,222.81666564941406,209.27999877929688,206.7100067138672,226.02999877929688,239.28334045410156,234.1666717529297,231.6266632080078,237.72666931152344,235.97332763671875,234.57666015625,229.7433319091797,219.07666015625,233.2066650390625,225.93333435058594,222.67333984375,215.1666717529297,214.60667419433594,205.4933319091797,212.55332946777344,224.0,230.80667114257812,236.05332946777344,232.18333435058594,230.4600067138672,229.85000610351562,226.99000549316406,234.93333435058594,254.3333282470703,260.2633361816406,247.89666748046875,249.80332946777344,241.8000030517578,245.75,248.27999877929688,251.2566680908203,245.7866668701172,249.76666259765625,241.3333282470703,236.1666717529297,234.0833282470703,238.49000549316406,235.3333282470703,227.81666564941406,228.43333435058594,227.0066680908203,230.0,221.68333435058594,209.03334045410156,206.80332946777344,202.15333557128906,197.6233367919922,196.57666015625,198.75,188.73666381835938,196.28334045410156,198.89332580566406,204.82666015625,204.663330078125,208.72332763671875,210.3766632080078,211.8633270263672,211.26666259765625,207.7866668701172,201.51666259765625,200.20333862304688,203.3333282470703,207.69667053222656,203.92999267578125,205.52999877929688,204.18666076660156,208.49667358398438,205.59666442871094,202.8333282470703,207.1566619873047,209.4499969482422,210.4633331298828,209.52333068847656,219.06666564941406,232.5399932861328,231.27000427246094,231.56666564941406,229.1699981689453,230.93666076660156,229.3300018310547,233.3333282470703,228.0,221.89999389648438,218.14332580566406,219.6366729736328,229.0800018310547,231.0933380126953,226.20333862304688,222.04666137695312,218.89999389648438,215.73333740234375,220.79666137695312,221.6199951171875,220.72332763671875,216.26666259765625,222.73333740234375,222.1666717529297,218.32333374023438,227.89666748046875,232.50999450683594,242.31333923339844,240.88333129882812,241.63333129882812,240.31666564941406,238.77667236328125,239.67666625976562,238.8633270263672,238.39332580566406,240.93333435058594,243.3000030517578,236.5,224.86000061035156,231.92333984375,228.85000610351562,230.7100067138672,237.3766632080078,238.4066619873047,238.99000549316406,238.46665954589844,238.3333282470703,243.6666717529297,246.79666137695312,247.3300018310547,246.99000549316406,244.6666717529297,253.39999389648438,254.81666564941406,254.03334045410156,254.20333862304688,248.25999450683594,251.49000549316406,252.2866668701172,252.97000122070312,253.67999267578125,247.3333282470703,248.24667358398438,251.22332763671875,252.73333740234375,258.26666259765625,266.3333435058594,265.21331787109375,264.5,263.0433349609375,260.260009765625,268.989990234375,265.7699890136719,262.2200012207031,268.3333435058594,265.4599914550781,267.0799865722656,270.7733459472656,271.8033447265625,273.4166564941406,281.07000732421875,291.7533264160156,292.6499938964844,289.8299865722656,300.0,303.3333435058594,348.3399963378906,364.9800109863281,356.9599914550781,360.3333435058594,371.7366638183594,403.25,402.86334228515625,405.1300048828125,414.4966735839844,413.2900085449219,399.0,391.5,359.3666687011719,368.3233337402344,351.5,343.99334716796875,352.3999938964844,373.21331787109375,370.6666564941406,379.5733337402344,400.6499938964844,393.5,377.5899963378906,369.59332275390625,380.8900146484375,389.3333435058594,390.9466552734375,371.0,363.52667236328125,340.5466613769531,352.5566711425781,357.4599914550781,354.163330078125,340.32666015625,335.0,322.13665771484375,326.25,331.6600036621094,320.2200012207031,307.2300109863281,313.1666564941406,338.5533447265625,357.6600036621094,372.3333435058594,373.0,368.0,365.1833190917969,360.6666564941406,400.3566589355469,402.6666564941406,390.11334228515625,362.6666564941406,360.30999755859375,353.0333251953125,358.6166687011719,371.61334228515625,371.8666687011719,350.6666564941406,356.92999267578125,351.5566711425781,347.2200012207031,334.8500061035156,311.1700134277344,317.086669921875,329.2300109863281,311.7966613769531,285.8333435058594,312.663330078125,314.5666809082031,310.5,312.3333435058594,312.1666564941406,315.92333984375,308.7633361816406,315.42333984375,314.60333251953125,305.32000732421875,299.6266784667969,307.6666564941406,308.80999755859375,306.1666564941406,295.6233215332031,285.57666015625,278.4333190917969,267.49334716796875,273.1666564941406,292.28668212890625,296.6266784667969,295.49334716796875,295.4800109863281,285.2166748046875,288.71331787109375,283.3299865722656,286.85333251953125,284.8166809082031,281.26666259765625,266.8999938964844,268.5233459472656,280.6666564941406,291.6666564941406,302.6166687011719,314.2833251953125,332.6199951171875,346.8999938964844,341.4966735839844,340.6000061035156,365.9599914550781,371.5899963378906,371.3166809082031,367.71331787109375,364.9166564941406,383.3033447265625,384.2900085449219,359.6666564941406,358.86334228515625,349.4800109863281,336.15667724609375,340.39666748046875,342.0799865722656,337.57000732421875,338.3066711425781,344.9800109863281,344.6666564941406,364.0733337402344,344.95001220703125,336.2066650390625,333.3333435058594,306.0,300.0,311.4666748046875,302.1199951171875,308.02667236328125,318.5,315.20001220703125,296.0,281.8766784667969,275.1199951171875,269.92333984375,253.22000122070312,262.45001220703125,256.586669921875,254.82666015625,253.5,244.6666717529297,240.52667236328125,226.65333557128906,217.97332763671875,223.10667419433594,239.55667114257812,253.26666259765625,259.6000061035156,257.32666015625,264.2099914550781,247.79666137695312,244.86666870117188,239.99667358398438,249.9633331298828,255.54666137695312,239.5,226.63333129882812,226.3300018310547,235.663330078125,225.1666717529297,220.97000122070312,243.57666015625,246.8333282470703,239.31666564941406,246.06666564941406,252.07000732421875,249.97000122070312,231.17333984375,229.4566650390625,230.22999572753906,233.14666748046875,234.56333923339844,245.3633270263672,254.97999572753906,253.06333923339844,239.77333068847656,242.05999755859375,238.65333557128906,243.6233367919922,250.51666259765625,247.13999938964844,250.663330078125,273.26666259765625,280.78668212890625,274.14666748046875,267.30999755859375,275.9266662597656,283.29998779296875,298.32000732421875,311.8766784667969,307.8333435058594,309.54998779296875,313.6066589355469,304.6066589355469,305.20001220703125,292.39666748046875,297.510009765625,298.2366638183594,300.1600036621094,313.1333312988281,314.6666564941406,309.65667724609375,306.5,300.3599853515625,292.3999938964844,298.82666015625,303.64666748046875,302.9599914550781,302.0,287.739990234375,288.4800109863281,281.25,277.5799865722656,282.3500061035156,275.989990234375,283.8399963378906,289.5,299.8500061035156,305.489990234375,297.3999938964844,306.0,309.1199951171875,303.7099914550781,309.8399963378906,313.3299865722656,313.79998779296875,301.2900085449219,284.5,284.0899963378906,288.6700134277344,289.0,283.6499938964844,275.57000732421875,255.16000366210938,257.5,246.6699981689453,244.5800018310547,234.57000732421875,226.99000549316406,225.75,219.3000030517578,222.99000549316406,226.25999450683594,221.86000061035156,229.82000732421875,222.92999267578125,215.5500030517578,214.66000366210938,213.5,224.35000610351562,230.60000610351562,233.80999755859375,228.86000061035156,229.85000610351562,237.39999389648438,227.8699951171875,221.1999969482422,223.8000030517578,208.89999389648438,195.1999969482422,195.88999938964844,191.0,196.52000427246094,195.72999572753906,200.82000732421875,192.57000732421875,186.16000366210938,185.19000244140625,176.77000427246094,170.9199981689453,183.6199951171875,185.1999969482422,188.5,186.3800048828125,194.75999450683594,198.9199981689453,196.25,191.27000427246094,183.64999389648438,179.3800048828125],\"low\":[22.338666915893555,22.62066650390625,23.4060001373291,23.548667907714844,23.642667770385742,24.166667938232422,25.059999465942383,25.371999740600586,26.433332443237305,26.679332733154297,27.333332061767578,27.512666702270508,28.42333221435547,28.407333374023438,27.284000396728516,26.80533218383789,28.11400032043457,29.128000259399414,29.333332061767578,30.224000930786133,31.215333938598633,31.524667739868164,31.579999923706055,32.79999923706055,34.99333190917969,34.452667236328125,32.81133270263672,33.54399871826172,35.227333068847656,37.27333450317383,37.040000915527344,36.95066833496094,35.95199966430664,37.2053337097168,37.82866668701172,41.20000076293945,42.167999267578125,44.90133285522461,55.59199905395508,46.94066619873047,45.79999923706055,48.66666793823242,50.15999984741211,50.53333282470703,50.891334533691406,49.0,52.366668701171875,55.490665435791016,60.06800079345703,57.3293342590332,58.6966667175293,54.813331604003906,52.46666717529297,51.740665435791016,44.599998474121094,40.768001556396484,45.77799987792969,47.740665435791016,48.31533432006836,47.871334075927734,45.61800003051758,40.33333206176758,40.53333282470703,40.866668701171875,36.41666793823242,33.46666717529297,29.47800064086914,26.399999618530273,23.367332458496094,23.8973331451416,28.38599967956543,27.366666793823242,31.600000381469727,34.07400131225586,34.150001525878906,32.935333251953125,32.7486686706543,33.133331298828125,31.67333221435547,29.760000228881836,31.22599983215332,33.19733428955078,35.48933410644531,35.55533218383789,37.14066696166992,38.70199966430664,46.1619987487793,47.33333206176758,47.11466598510742,49.84400177001953,47.48066711425781,44.919334411621094,45.91400146484375,46.87533187866211,46.54533386230469,49.0,50.44599914550781,52.21066665649414,50.900001525878906,45.5359992980957,46.53333282470703,50.8120002746582,50.740665435791016,51.4900016784668,52.46733474731445,52.33333206176758,53.866668701171875,50.88666534423828,50.93333435058594,52.436668395996094,53.59199905395508,53.73866653442383,54.119998931884766,53.06666564941406,54.133331298828125,54.38066864013672,52.33333206176758,53.44599914550781,53.61399841308594,56.939998626708984,58.06666564941406,58.67333221435547,57.229331970214844,57.746665954589844,60.61066818237305,61.595333099365234,65.5,64.80000305175781,60.84000015258789,60.56666564941406,64.15933227539062,65.50466918945312,66.2979965209961,66.0893325805664,66.00133514404297,66.267333984375,63.542667388916016,62.47666549682617,63.65800094604492,63.23466873168945,66.91533660888672,72.03333282470703,79.04000091552734,84.40266418457031,89.11399841308594,87.42266845703125,90.08533477783203,91.73400115966797,98.0739974975586,95.4000015258789,97.13333129882812,97.73332977294922,99.33333587646484,99.19999694824219,103.86666870117188,104.13333129882812,98.71800231933594,91.10266876220703,94.19999694824219,98.29467010498047,99.13333129882812,98.06666564941406,94.73200225830078,96.29199981689453,97.46666717529297,97.88733673095703,98.48400115966797,94.33399963378906,92.38933563232422,91.0,95.66666412353516,104.48400115966797,108.44266510009766,111.52200317382812,123.00733184814453,122.74732971191406,123.80400085449219,135.00332641601562,128.50132751464844,131.1999969482422,136.90866088867188,142.8333282470703,145.76800537109375,146.70333862304688,156.836669921875,135.0399932861328,134.0,124.00666809082031,109.95999908447266,113.836669921875,120.1866683959961,120.16666412353516,124.43333435058594,143.56666564941406,145.10333251953125,136.0,142.93333435058594,135.69000244140625,139.1999969482422,125.2933349609375,117.0999984741211,130.43333435058594,138.51666259765625,137.1999969482422,140.1566619873047,144.80667114257812,138.3333282470703,139.77667236328125,135.35000610351562,137.9499969482422,141.76666259765625,142.15333557128906,146.19332885742188,145.53334045410156,149.11666870117188,147.5,146.28334045410156,142.9566650390625,139.68333435058594,140.4166717529297,141.50332641601562,135.7933349609375,136.6666717529297,140.03334045410156,135.3333282470703,135.48666381835938,126.37000274658203,130.76666259765625,135.56333923339844,139.03334045410156,141.3333282470703,141.42666625976562,140.3333282470703,132.00999450683594,136.86000061035156,136.5066680908203,133.8866729736328,134.69667053222656,144.336669921875,147.8333282470703,162.52333068847656,163.02000427246094,167.26333618164062,175.39999389648438,181.7899932861328,192.81666564941406,184.836669921875,190.68333435058594,180.40333557128906,194.14332580566406,195.1666717529297,201.01666259765625,206.1666717529297,196.0,188.77999877929688,198.93333435058594,203.39999389648438,207.93333435058594,201.6666717529297,206.5,209.51333618164062,215.35667419433594,204.7433319091797,207.52333068847656,213.6666717529297,220.26666259765625,218.3333282470703,222.7866668701172,230.3733367919922,239.06333923339844,239.73333740234375,249.6999969482422,258.3999938964844,279.46331787109375,267.8733215332031,275.7799987792969,277.3333435058594,279.5833435058594,273.0333251953125,277.6666564941406,279.09332275390625,280.47332763671875,276.2066650390625,279.6066589355469,290.5333251953125,286.2200012207031,267.0,260.0333251953125,265.1866760253906,280.73333740234375,284.35333251953125,277.8066711425781,279.65667724609375,284.9166564941406,280.5833435058594,266.67333984375,267.24334716796875,261.77667236328125,264.14666748046875,254.00332641601562,258.75665283203125,259.1233215332031,236.73333740234375,206.3333282470703,231.38999938964844,223.52667236328125,219.836669921875,228.35000610351562,228.3333282470703,217.23666381835938,200.0,179.8300018310547,186.26333618164062,198.40333557128906,218.35333251953125,225.72666931152344,222.04666137695312,228.01333618164062,223.6666717529297,217.00332641601562,217.3333282470703,208.2066650390625,222.9166717529297,219.1699981689453,210.0366668701172,203.1666717529297,199.9633331298828,198.67333984375,197.00332641601562,213.70333862304688,219.80667114257812,228.23333740234375,227.1233367919922,222.6133270263672,223.88333129882812,223.14332580566406,227.3633270263672,236.8866729736328,242.67666625976562,240.43666076660156,241.53334045410156,230.60000610351562,236.89666748046875,232.6666717529297,239.34666442871094,238.48666381835938,244.20333862304688,234.4499969482422,231.1999969482422,222.8333282470703,222.04666137695312,226.8333282470703,219.23333740234375,222.44667053222656,216.6666717529297,220.07333374023438,209.20333862304688,198.53334045410156,195.58999633789062,186.5500030517578,190.15333557128906,187.06666564941406,187.7933349609375,182.32666015625,190.35667419433594,193.3333282470703,191.21665954589844,198.57000732421875,200.5,205.40333557128906,207.4600067138672,206.85000610351562,199.7133331298828,190.4066619873047,192.39999389648438,194.2933349609375,198.5,199.2100067138672,200.1666717529297,200.5066680908203,203.05999755859375,199.41000366210938,197.8333282470703,200.44667053222656,203.93333435058594,202.9600067138672,205.1666717529297,210.01333618164062,222.5366668701172,222.89999389648438,223.44000244140625,225.29666137695312,226.04666137695312,224.26666259765625,224.4199981689453,217.13333129882812,212.77333068847656,206.82000732421875,214.89666748046875,220.72000122070312,222.10000610351562,217.6133270263672,212.6266632080078,214.06666564941406,207.09666442871094,213.5,216.76333618164062,214.86666870117188,212.43333435058594,215.70333862304688,209.0800018310547,213.13333129882812,216.26666259765625,223.0,232.8000030517578,233.6699981689453,236.30999755859375,237.1366729736328,232.5433349609375,235.0433349609375,233.9600067138672,234.73666381835938,233.13333129882812,238.1133270263672,225.46665954589844,216.27999877929688,223.11666870117188,222.52999877929688,224.56666564941406,226.9166717529297,234.2133331298828,234.6666717529297,232.5399932861328,234.03334045410156,237.57666015625,242.14666748046875,243.7566680908203,243.51333618164062,241.39999389648438,246.4199981689453,246.92333984375,250.5433349609375,244.83999633789062,236.28334045410156,245.46665954589844,246.1199951171875,249.20333862304688,250.0,239.5399932861328,243.47999572753906,246.3733367919922,249.30667114257812,248.18666076660156,256.4366760253906,255.39332580566406,256.8933410644531,258.3333435058594,254.52999877929688,258.7066650390625,258.0666809082031,257.739990234375,261.1266784667969,260.3033447265625,261.8333435058594,265.5233459472656,268.59332275390625,271.1166687011719,274.1166687011719,283.8233337402344,287.5033264160156,285.7933349609375,285.1666564941406,296.9866638183594,314.73333740234375,333.8133239746094,343.59332275390625,351.3999938964844,357.7366638183594,372.88665771484375,382.0,384.2066650390625,405.6666564941406,402.6666564941406,377.6666564941406,337.17333984375,329.10333251953125,351.55999755859375,339.73333740234375,326.20001220703125,334.05999755859375,351.8333435058594,358.3399963378906,364.23333740234375,377.4766540527344,354.23333740234375,354.0,360.3333435058594,366.7300109863281,372.6666564941406,363.586669921875,352.2166748046875,333.4033203125,316.8333435058594,342.2699890136719,344.3333435058594,334.1199951171875,327.510009765625,317.1400146484375,310.0,309.4166564941406,307.2833251953125,303.0133361816406,297.7966613769531,295.3733215332031,319.01666259765625,332.5199890136719,356.90667724609375,359.47332763671875,354.71331787109375,351.04998779296875,351.5299987792969,378.67999267578125,374.3500061035156,360.336669921875,340.1666564941406,336.6666564941406,326.6666564941406,346.2733459472656,357.5299987792969,342.17999267578125,337.7933349609375,338.6866760253906,331.6666564941406,331.3333435058594,313.5,283.8233337402344,301.07000732421875,302.0,276.3333435058594,264.0033264160156,287.3500061035156,301.6666564941406,296.4700012207031,293.50665283203125,293.72332763671875,300.9033203125,298.26666259765625,306.6666564941406,298.8999938964844,283.5666809082031,284.3833312988281,297.7933349609375,300.4033203125,291.3666687011719,279.2033386230469,267.0333251953125,253.52000427246094,233.3333282470703,260.79998779296875,271.57000732421875,284.59332275390625,281.42333984375,277.5333251953125,275.0533447265625,268.19000244140625,260.72332763671875,277.336669921875,270.1199951171875,264.5899963378906,252.01333618164062,252.19000244140625,267.4200134277344,275.239990234375,289.1300048828125,302.36334228515625,307.25,325.4666748046875,329.6000061035156,332.44000244140625,351.20001220703125,357.7033386230469,361.3333435058594,358.8800048828125,355.5466613769531,357.510009765625,362.4333190917969,342.5666809082031,340.5133361816406,340.8133239746094,324.8800048828125,325.5333251953125,324.3666687011719,327.39666748046875,324.4700012207031,331.77667236328125,325.0833435058594,332.1400146484375,331.3333435058594,325.1000061035156,291.6666564941406,292.4533386230469,273.8999938964844,290.0,282.6766662597656,296.1966552734375,295.09332275390625,285.8999938964844,281.03668212890625,260.3833312988281,258.0833435058594,242.39999389648438,226.6666717529297,250.52333068847656,239.69667053222656,242.9499969482422,233.60333251953125,231.3699951171875,211.0,212.68666076660156,206.85667419433594,207.6699981689453,217.8866729736328,240.17666625976562,244.7433319091797,243.63999938964844,242.06666564941406,233.4166717529297,234.35000610351562,230.0933380126953,239.17666625976562,239.32666015625,227.913330078125,214.68333435058594,211.73666381835938,218.14999389648438,208.69332885742188,213.19667053222656,224.3333282470703,233.82666015625,228.6366729736328,236.086669921875,242.56666564941406,232.3433380126953,222.27333068847656,218.8633270263672,222.1199951171875,216.1666717529297,227.18666076660156,232.2100067138672,241.16000366210938,233.6266632080078,228.3699951171875,225.03334045410156,229.3333282470703,236.88999938964844,239.60333251953125,236.97666931152344,243.48333740234375,254.86666870117188,270.71331787109375,267.3999938964844,256.2633361816406,261.7900085449219,272.79998779296875,279.1000061035156,295.0,292.6666564941406,301.1499938964844,305.0,285.5433349609375,289.086669921875,279.35333251953125,283.3699951171875,285.8333435058594,285.0333251953125,301.2300109863281,302.8833312988281,300.0333251953125,301.85333251953125,292.5,286.2966613769531,287.92333984375,296.5,291.6000061035156,287.4700012207031,280.70001220703125,272.6499938964844,271.80999755859375,266.1499938964844,269.0799865722656,265.739990234375,272.2699890136719,279.760009765625,291.25,300.3999938964844,290.3999938964844,291.6400146484375,300.7200012207031,295.6000061035156,297.79998779296875,305.5799865722656,300.6300048828125,285.82000732421875,272.82000732421875,270.30999755859375,277.510009765625,277.57000732421875,265.7799987792969,262.4700012207031,241.00999450683594,242.00999450683594,233.27000427246094,235.35000610351562,222.02000427246094,218.36000061035156,215.0,211.50999450683594,206.22000122070312,204.16000366210938,209.4499969482422,217.25,217.77999877929688,202.0,203.8000030517578,198.58999633789062,210.0,218.1999969482422,222.85000610351562,216.35000610351562,221.94000244140625,227.27999877929688,214.82000732421875,210.13999938964844,203.0800018310547,196.66000366210938,186.75,177.1199951171875,180.02999877929688,182.58999633789062,186.33999633789062,192.05999755859375,185.66000366210938,180.89999389648438,176.5500030517578,167.5399932861328,166.19000244140625,172.5,180.6300048828125,179.0,178.75,180.6300048828125,191.8000030517578,191.11000061035156,180.5500030517578,175.3300018310547,172.22000122070312],\"open\":[22.439332962036133,22.663999557495117,23.458667755126953,23.661333084106445,24.06999969482422,24.170000076293945,25.266000747680664,25.375333786010742,26.488000869750977,27.3526668548584,27.45199966430664,27.890666961669922,28.527332305908203,29.0,28.586000442504883,27.0,28.299999237060547,29.366666793823242,29.364667892456055,30.760000228881836,31.579999923706055,33.13999938964844,32.11933135986328,32.900001525878906,36.284000396728516,35.31733322143555,32.91666793823242,33.840667724609375,35.349998474121094,38.125999450683594,37.616668701171875,38.04199981689453,36.132667541503906,37.89933395385742,38.37933349609375,42.16133117675781,42.66666793823242,44.91266632080078,58.86399841308594,54.88399887084961,46.66133117675781,48.70333480834961,53.33333206176758,51.25266647338867,51.858001708984375,49.45600128173828,52.4813346862793,56.106666564941406,61.56666564941406,60.79666519165039,60.46533203125,55.93333435058594,56.599998474121094,52.16666793823242,48.66666793823242,41.97999954223633,47.41733169555664,53.66666793823242,50.930667877197266,48.2513313293457,46.0,40.35933303833008,43.96200180053711,42.68000030517578,38.72600173950195,39.66666793823242,31.299999237060547,29.333999633789062,25.933332443237305,24.979999542236328,29.213333129882812,28.906667709350586,31.81999969482422,36.349998474121094,36.49266815185547,33.66666793823242,34.017333984375,33.41666793823242,33.599998474121094,32.068668365478516,33.96666717529297,34.08000183105469,36.33333206176758,36.9466667175293,37.4726676940918,39.34400177001953,46.597999572753906,49.46666717529297,47.79600143432617,51.48533248901367,48.8466682434082,48.67466735839844,46.93199920654297,48.50666809082031,47.387332916259766,49.17399978637695,53.042667388916016,52.678001403808594,57.01266860961914,50.33333206176758,46.733333587646484,52.65266799926758,51.766666412353516,51.81399917602539,52.917999267578125,52.70066833496094,55.133331298828125,54.72200012207031,52.0,52.689998626708984,55.185333251953125,54.34466552734375,54.70000076293945,54.400001525878906,54.81133270263672,55.633331298828125,54.7239990234375,54.23400115966797,53.91666793823242,57.20000076293945,59.64666748046875,59.20800018310547,59.32533264160156,58.522666931152344,61.266666412353516,62.66733169555664,66.12533569335938,66.01333618164062,65.33333587646484,61.18600082397461,67.4566650390625,65.84733581542969,66.86666870117188,67.51866912841797,66.663330078125,66.59200286865234,66.27400207519531,63.61800003051758,66.31866455078125,64.60066986083984,67.0999984741211,72.19999694824219,81.43199920654297,85.11266326904297,93.6673355102539,93.66666412353516,93.1326675415039,93.06666564941406,110.5999984741211,103.73332977294922,102.86666870117188,98.47733306884766,100.89666748046875,101.267333984375,109.32866668701172,106.5999984741211,111.93000030517578,94.40066528320312,95.66666412353516,100.26667022705078,100.06666564941406,99.19999694824219,101.0,96.61333465576172,99.6673355102539,99.53266906738281,99.38866424560547,99.96932983398438,96.53333282470703,93.06666564941406,98.0,107.4000015258789,110.99933624267578,111.80000305175781,126.59933471679688,124.33333587646484,124.04533386230469,136.3173370361328,141.7519989013672,131.65933227539062,137.3333282470703,145.36399841308594,153.00799560546875,148.20333862304688,167.3800048828125,159.663330078125,135.7433319091797,134.27000427246094,118.66666412353516,118.86666870117188,128.73666381835938,127.3133316040039,126.98332977294922,145.52000427246094,146.6233367919922,138.53334045410156,149.31333923339844,151.0433349609375,143.1999969482422,135.05332946777344,121.26667022705078,131.1566619873047,141.5399932861328,138.6666717529297,140.44000244140625,146.9199981689453,140.4633331298828,141.11666870117188,141.26333618164062,139.9566650390625,146.14666748046875,143.3766632080078,147.3333282470703,147.78334045410156,149.92666625976562,150.10333251953125,151.47999572753906,148.74667358398438,143.9166717529297,140.89999389648438,147.30667114257812,140.6133270263672,137.2100067138672,141.25332641601562,138.82666015625,136.65333557128906,135.63333129882812,131.3333282470703,136.57666015625,143.5399932861328,142.76666259765625,145.36666870117188,146.5,140.02999877929688,138.81666564941406,138.35000610351562,136.9499969482422,136.30999755859375,153.38999938964844,149.4499969482422,164.0,165.99667358398438,167.8333282470703,180.13333129882812,183.35333251953125,193.72000122070312,200.73666381835938,199.19667053222656,185.47999572753906,196.67333984375,197.00332641601562,201.63999938964844,208.50332641601562,217.89666748046875,191.4566650390625,205.00332641601562,206.3333282470703,214.42666625976562,209.41000366210938,209.39666748046875,222.96665954589844,222.0800018310547,216.0,210.73333740234375,214.3300018310547,224.836669921875,220.3333282470703,224.0,233.3300018310547,239.82000732421875,241.22000122070312,252.8300018310547,259.2099914550781,285.3333435058594,283.1333312988281,277.0,284.2533264160156,281.1300048828125,284.0,279.26666259765625,286.2466735839844,285.0,278.10333251953125,285.0,297.1266784667969,290.1166687011719,273.3333435058594,276.6666564941406,271.42999267578125,281.55999755859375,292.3399963378906,285.0,281.6666564941406,289.8900146484375,285.0400085449219,281.21331787109375,270.8133239746094,267.086669921875,272.6666564941406,259.6966552734375,260.29998779296875,265.0,254.2133331298828,220.7100067138672,237.28334045410156,242.0500030517578,233.3333282470703,230.0366668701172,239.42666625976562,229.3300018310547,218.60000610351562,208.68666076660156,200.18333435058594,202.72666931152344,233.43333435058594,233.13333129882812,223.3333282470703,231.3633270263672,234.4499969482422,218.9566650390625,228.09666442871094,215.53334045410156,228.19667053222656,225.2566680908203,222.6366729736328,204.3333282470703,213.9566650390625,205.2133331298828,200.5833282470703,215.5399932861328,229.4566650390625,235.90333557128906,230.10000610351562,229.0,225.7933349609375,225.92333984375,228.56666564941406,237.56666564941406,256.8999938964844,247.6999969482422,242.88333129882812,239.86666870117188,239.13999938964844,234.92333984375,247.1666717529297,239.93333435058594,247.0,239.32000732421875,232.1366729736328,233.1699981689453,222.52999877929688,234.60000610351562,226.31333923339844,227.02000427246094,226.9199981689453,221.93333435058594,221.63333129882812,199.74667358398438,200.8300018310547,200.51333618164062,194.47000122070312,191.85000610351562,189.3333282470703,184.18333435058594,191.6666717529297,198.70333862304688,193.86666870117188,202.43666076660156,202.52000427246094,206.74667358398438,209.5,209.26666259765625,206.7100067138672,200.60000610351562,193.23666381835938,197.27667236328125,207.6699981689453,200.72332763671875,201.2933349609375,203.41000366210938,204.07666015625,205.56333923339844,199.17999267578125,200.6300048828125,204.4566650390625,208.16000366210938,206.0833282470703,210.6666717529297,224.99667358398438,229.86000061035156,223.8800048828125,228.21665954589844,226.58999633789062,227.97332763671875,226.32666015625,227.23666381835938,221.42333984375,209.4566650390625,217.72666931152344,220.73333740234375,228.77333068847656,223.5833282470703,219.4633331298828,218.22666931152344,209.9633331298828,217.3300018310547,219.8699951171875,218.81333923339844,215.45333862304688,216.99000549316406,221.13333129882812,215.6666717529297,216.59666442871094,223.9199981689453,233.3333282470703,239.6666717529297,237.0,238.6666717529297,237.3000030517578,236.72332763671875,237.99667358398438,237.57000732421875,235.44667053222656,241.23666381835938,235.02333068847656,224.22000122070312,223.25,226.07000732421875,227.61666870117188,228.47999572753906,236.89332580566406,235.67666625976562,236.10333251953125,235.0,238.24000549316406,244.3333282470703,244.69332885742188,244.8333282470703,244.0833282470703,246.6666717529297,253.86000061035156,251.1366729736328,253.1999969482422,246.73666381835938,247.52333068847656,248.3333282470703,250.94332885742188,252.38333129882812,244.85333251953125,244.92999267578125,247.8433380126953,251.6666717529297,248.6300048828125,257.7066650390625,262.3999938964844,259.9333190917969,260.3333435058594,259.4666748046875,265.5,261.6000061035156,258.73333740234375,261.82000732421875,265.4033203125,262.54998779296875,266.9766540527344,270.15667724609375,271.8299865722656,274.5799865722656,283.92999267578125,292.510009765625,288.45001220703125,285.3333435058594,298.5,316.84332275390625,341.5633239746094,346.5533447265625,356.10333251953125,360.6199951171875,381.6666564941406,386.4533386230469,392.4433288574219,411.4700012207031,409.3333435058594,383.2633361816406,391.20001220703125,336.8033447265625,367.5899963378906,349.1666564941406,339.2099914550781,334.4366760253906,354.5033264160156,368.8500061035156,366.2900085449219,387.4433288574219,389.1700134277344,360.1300048828125,366.489990234375,366.9966735839844,381.4566650390625,386.8999938964844,366.35333251953125,361.5966796875,333.836669921875,348.0666809082031,350.9033203125,353.5466613769531,336.25,333.6966552734375,315.0,317.7366638183594,331.5,304.92333984375,303.5666809082031,305.6233215332031,321.88665771484375,335.6000061035156,357.8900146484375,369.8299865722656,366.21331787109375,353.77667236328125,357.8133239746094,382.5833435058594,396.51666259765625,382.2166748046875,359.0,360.1233215332031,333.3333435058594,351.22332763671875,359.6166687011719,369.69000244140625,339.9599914550781,342.2033386230469,347.2366638183594,336.57666015625,332.11334228515625,301.586669921875,304.73333740234375,317.4766540527344,311.1199951171875,277.1866760253906,290.9033203125,311.7366638183594,309.3933410644531,294.0,299.0733337402344,307.92999267578125,301.84332275390625,311.6666564941406,302.7900085449219,303.2099914550781,287.19000244140625,300.0,304.6833190917969,304.4200134277344,295.3333435058594,278.0433349609375,276.80999755859375,233.4633331298828,269.74334716796875,271.6700134277344,289.8933410644531,290.7099914550781,292.92333984375,283.0333251953125,285.4333190917969,265.1766662597656,279.82666015625,283.8166809082031,280.0666809082031,260.2033386230469,258.42333984375,269.6666564941406,276.9966735839844,291.4966735839844,304.99334716796875,310.0,326.64666748046875,336.57666015625,336.0,355.0333251953125,369.3299865722656,363.72332763671875,364.8566589355469,360.3833312988281,363.1266784667969,378.76666259765625,357.8233337402344,350.7966613769531,347.7366638183594,326.79998779296875,332.5466613769531,327.02667236328125,333.0966796875,329.6766662597656,335.0199890136719,343.3333435058594,358.24334716796875,338.3033447265625,326.3233337402344,331.80999755859375,299.52667236328125,299.99334716796875,300.75,286.92333984375,301.05999755859375,301.3133239746094,313.00665283203125,295.6666564941406,278.8166809082031,273.10333251953125,265.0,233.6666717529297,257.82666015625,255.72000122070312,249.1199951171875,248.17333984375,235.6666717529297,237.99667358398438,218.33999633789062,217.8433380126953,207.9499969482422,220.47332763671875,241.0833282470703,257.9466552734375,251.72000122070312,244.1566619873047,243.22666931152344,244.35333251953125,234.0,240.086669921875,249.33999633789062,235.1566619873047,223.1666717529297,218.2866668701172,220.9166717529297,222.73666381835938,213.43333435058594,224.60333251953125,234.50332641601562,237.9066619873047,237.47000122070312,249.36666870117188,244.48333740234375,230.5,224.50999450683594,227.0,223.0,230.77999877929688,233.9199981689453,242.3333282470703,252.10333251953125,236.84666442871094,225.5,234.89666748046875,240.0,244.93666076660156,245.0,246.78334045410156,255.10667419433594,276.2200012207031,272.2166748046875,266.5133361816406,263.80999755859375,280.0666809082031,280.70001220703125,301.27667236328125,294.0033264160156,305.0,311.0,302.6700134277344,295.0,290.2933349609375,297.0666809082031,296.5133361816406,289.4166564941406,301.78668212890625,311.6666564941406,303.39666748046875,306.0,299.0,291.913330078125,291.4533386230469,297.5633239746094,302.3599853515625,297.42999267578125,282.8299865722656,287.8699951171875,280.6199951171875,272.5799865722656,281.07000732421875,272.67999267578125,273.1000061035156,281.29998779296875,291.6700134277344,300.7200012207031,292.8999938964844,292.239990234375,301.8299865722656,299.6099853515625,300.0899963378906,306.9100036621094,308.2900085449219,299.8599853515625,283.0899963378906,271.8299865722656,283.8399963378906,283.0799865722656,282.760009765625,266.1499938964844,254.5,250.52000427246094,245.00999450683594,239.44000244140625,233.94000244140625,223.92999267578125,220.9499969482422,215.3300018310547,208.3000030517578,224.00999450683594,210.0399932861328,229.5,219.8000030517578,208.27999877929688,206.4199981689453,205.82000732421875,210.10000610351562,219.39999389648438,229.77000427246094,225.39999389648438,226.19000244140625,234.0500030517578,226.0399932861328,211.36000061035156,222.60000610351562,208.64999389648438,194.02000427246094,190.77999877929688,189.89999389648438,186.0,192.77000427246094,195.8800048828125,191.50999450683594,183.9600067138672,185.0500030517578,175.85000610351562,168.6300048828125,173.57000732421875,185.05999755859375,179.9600067138672,184.99000549316406,182.42999267578125,197.0800018310547,191.77999877929688,189.44000244140625,181.22000122070312,175.02999877929688],\"x\":[\"2019-12-09T00:00:00-05:00\",\"2019-12-10T00:00:00-05:00\",\"2019-12-11T00:00:00-05:00\",\"2019-12-12T00:00:00-05:00\",\"2019-12-13T00:00:00-05:00\",\"2019-12-16T00:00:00-05:00\",\"2019-12-17T00:00:00-05:00\",\"2019-12-18T00:00:00-05:00\",\"2019-12-19T00:00:00-05:00\",\"2019-12-20T00:00:00-05:00\",\"2019-12-23T00:00:00-05:00\",\"2019-12-24T00:00:00-05:00\",\"2019-12-26T00:00:00-05:00\",\"2019-12-27T00:00:00-05:00\",\"2019-12-30T00:00:00-05:00\",\"2019-12-31T00:00:00-05:00\",\"2020-01-02T00:00:00-05:00\",\"2020-01-03T00:00:00-05:00\",\"2020-01-06T00:00:00-05:00\",\"2020-01-07T00:00:00-05:00\",\"2020-01-08T00:00:00-05:00\",\"2020-01-09T00:00:00-05:00\",\"2020-01-10T00:00:00-05:00\",\"2020-01-13T00:00:00-05:00\",\"2020-01-14T00:00:00-05:00\",\"2020-01-15T00:00:00-05:00\",\"2020-01-16T00:00:00-05:00\",\"2020-01-17T00:00:00-05:00\",\"2020-01-21T00:00:00-05:00\",\"2020-01-22T00:00:00-05:00\",\"2020-01-23T00:00:00-05:00\",\"2020-01-24T00:00:00-05:00\",\"2020-01-27T00:00:00-05:00\",\"2020-01-28T00:00:00-05:00\",\"2020-01-29T00:00:00-05:00\",\"2020-01-30T00:00:00-05:00\",\"2020-01-31T00:00:00-05:00\",\"2020-02-03T00:00:00-05:00\",\"2020-02-04T00:00:00-05:00\",\"2020-02-05T00:00:00-05:00\",\"2020-02-06T00:00:00-05:00\",\"2020-02-07T00:00:00-05:00\",\"2020-02-10T00:00:00-05:00\",\"2020-02-11T00:00:00-05:00\",\"2020-02-12T00:00:00-05:00\",\"2020-02-13T00:00:00-05:00\",\"2020-02-14T00:00:00-05:00\",\"2020-02-18T00:00:00-05:00\",\"2020-02-19T00:00:00-05:00\",\"2020-02-20T00:00:00-05:00\",\"2020-02-21T00:00:00-05:00\",\"2020-02-24T00:00:00-05:00\",\"2020-02-25T00:00:00-05:00\",\"2020-02-26T00:00:00-05:00\",\"2020-02-27T00:00:00-05:00\",\"2020-02-28T00:00:00-05:00\",\"2020-03-02T00:00:00-05:00\",\"2020-03-03T00:00:00-05:00\",\"2020-03-04T00:00:00-05:00\",\"2020-03-05T00:00:00-05:00\",\"2020-03-06T00:00:00-05:00\",\"2020-03-09T00:00:00-04:00\",\"2020-03-10T00:00:00-04:00\",\"2020-03-11T00:00:00-04:00\",\"2020-03-12T00:00:00-04:00\",\"2020-03-13T00:00:00-04:00\",\"2020-03-16T00:00:00-04:00\",\"2020-03-17T00:00:00-04:00\",\"2020-03-18T00:00:00-04:00\",\"2020-03-19T00:00:00-04:00\",\"2020-03-20T00:00:00-04:00\",\"2020-03-23T00:00:00-04:00\",\"2020-03-24T00:00:00-04:00\",\"2020-03-25T00:00:00-04:00\",\"2020-03-26T00:00:00-04:00\",\"2020-03-27T00:00:00-04:00\",\"2020-03-30T00:00:00-04:00\",\"2020-03-31T00:00:00-04:00\",\"2020-04-01T00:00:00-04:00\",\"2020-04-02T00:00:00-04:00\",\"2020-04-03T00:00:00-04:00\",\"2020-04-06T00:00:00-04:00\",\"2020-04-07T00:00:00-04:00\",\"2020-04-08T00:00:00-04:00\",\"2020-04-09T00:00:00-04:00\",\"2020-04-13T00:00:00-04:00\",\"2020-04-14T00:00:00-04:00\",\"2020-04-15T00:00:00-04:00\",\"2020-04-16T00:00:00-04:00\",\"2020-04-17T00:00:00-04:00\",\"2020-04-20T00:00:00-04:00\",\"2020-04-21T00:00:00-04:00\",\"2020-04-22T00:00:00-04:00\",\"2020-04-23T00:00:00-04:00\",\"2020-04-24T00:00:00-04:00\",\"2020-04-27T00:00:00-04:00\",\"2020-04-28T00:00:00-04:00\",\"2020-04-29T00:00:00-04:00\",\"2020-04-30T00:00:00-04:00\",\"2020-05-01T00:00:00-04:00\",\"2020-05-04T00:00:00-04:00\",\"2020-05-05T00:00:00-04:00\",\"2020-05-06T00:00:00-04:00\",\"2020-05-07T00:00:00-04:00\",\"2020-05-08T00:00:00-04:00\",\"2020-05-11T00:00:00-04:00\",\"2020-05-12T00:00:00-04:00\",\"2020-05-13T00:00:00-04:00\",\"2020-05-14T00:00:00-04:00\",\"2020-05-15T00:00:00-04:00\",\"2020-05-18T00:00:00-04:00\",\"2020-05-19T00:00:00-04:00\",\"2020-05-20T00:00:00-04:00\",\"2020-05-21T00:00:00-04:00\",\"2020-05-22T00:00:00-04:00\",\"2020-05-26T00:00:00-04:00\",\"2020-05-27T00:00:00-04:00\",\"2020-05-28T00:00:00-04:00\",\"2020-05-29T00:00:00-04:00\",\"2020-06-01T00:00:00-04:00\",\"2020-06-02T00:00:00-04:00\",\"2020-06-03T00:00:00-04:00\",\"2020-06-04T00:00:00-04:00\",\"2020-06-05T00:00:00-04:00\",\"2020-06-08T00:00:00-04:00\",\"2020-06-09T00:00:00-04:00\",\"2020-06-10T00:00:00-04:00\",\"2020-06-11T00:00:00-04:00\",\"2020-06-12T00:00:00-04:00\",\"2020-06-15T00:00:00-04:00\",\"2020-06-16T00:00:00-04:00\",\"2020-06-17T00:00:00-04:00\",\"2020-06-18T00:00:00-04:00\",\"2020-06-19T00:00:00-04:00\",\"2020-06-22T00:00:00-04:00\",\"2020-06-23T00:00:00-04:00\",\"2020-06-24T00:00:00-04:00\",\"2020-06-25T00:00:00-04:00\",\"2020-06-26T00:00:00-04:00\",\"2020-06-29T00:00:00-04:00\",\"2020-06-30T00:00:00-04:00\",\"2020-07-01T00:00:00-04:00\",\"2020-07-02T00:00:00-04:00\",\"2020-07-06T00:00:00-04:00\",\"2020-07-07T00:00:00-04:00\",\"2020-07-08T00:00:00-04:00\",\"2020-07-09T00:00:00-04:00\",\"2020-07-10T00:00:00-04:00\",\"2020-07-13T00:00:00-04:00\",\"2020-07-14T00:00:00-04:00\",\"2020-07-15T00:00:00-04:00\",\"2020-07-16T00:00:00-04:00\",\"2020-07-17T00:00:00-04:00\",\"2020-07-20T00:00:00-04:00\",\"2020-07-21T00:00:00-04:00\",\"2020-07-22T00:00:00-04:00\",\"2020-07-23T00:00:00-04:00\",\"2020-07-24T00:00:00-04:00\",\"2020-07-27T00:00:00-04:00\",\"2020-07-28T00:00:00-04:00\",\"2020-07-29T00:00:00-04:00\",\"2020-07-30T00:00:00-04:00\",\"2020-07-31T00:00:00-04:00\",\"2020-08-03T00:00:00-04:00\",\"2020-08-04T00:00:00-04:00\",\"2020-08-05T00:00:00-04:00\",\"2020-08-06T00:00:00-04:00\",\"2020-08-07T00:00:00-04:00\",\"2020-08-10T00:00:00-04:00\",\"2020-08-11T00:00:00-04:00\",\"2020-08-12T00:00:00-04:00\",\"2020-08-13T00:00:00-04:00\",\"2020-08-14T00:00:00-04:00\",\"2020-08-17T00:00:00-04:00\",\"2020-08-18T00:00:00-04:00\",\"2020-08-19T00:00:00-04:00\",\"2020-08-20T00:00:00-04:00\",\"2020-08-21T00:00:00-04:00\",\"2020-08-24T00:00:00-04:00\",\"2020-08-25T00:00:00-04:00\",\"2020-08-26T00:00:00-04:00\",\"2020-08-27T00:00:00-04:00\",\"2020-08-28T00:00:00-04:00\",\"2020-08-31T00:00:00-04:00\",\"2020-09-01T00:00:00-04:00\",\"2020-09-02T00:00:00-04:00\",\"2020-09-03T00:00:00-04:00\",\"2020-09-04T00:00:00-04:00\",\"2020-09-08T00:00:00-04:00\",\"2020-09-09T00:00:00-04:00\",\"2020-09-10T00:00:00-04:00\",\"2020-09-11T00:00:00-04:00\",\"2020-09-14T00:00:00-04:00\",\"2020-09-15T00:00:00-04:00\",\"2020-09-16T00:00:00-04:00\",\"2020-09-17T00:00:00-04:00\",\"2020-09-18T00:00:00-04:00\",\"2020-09-21T00:00:00-04:00\",\"2020-09-22T00:00:00-04:00\",\"2020-09-23T00:00:00-04:00\",\"2020-09-24T00:00:00-04:00\",\"2020-09-25T00:00:00-04:00\",\"2020-09-28T00:00:00-04:00\",\"2020-09-29T00:00:00-04:00\",\"2020-09-30T00:00:00-04:00\",\"2020-10-01T00:00:00-04:00\",\"2020-10-02T00:00:00-04:00\",\"2020-10-05T00:00:00-04:00\",\"2020-10-06T00:00:00-04:00\",\"2020-10-07T00:00:00-04:00\",\"2020-10-08T00:00:00-04:00\",\"2020-10-09T00:00:00-04:00\",\"2020-10-12T00:00:00-04:00\",\"2020-10-13T00:00:00-04:00\",\"2020-10-14T00:00:00-04:00\",\"2020-10-15T00:00:00-04:00\",\"2020-10-16T00:00:00-04:00\",\"2020-10-19T00:00:00-04:00\",\"2020-10-20T00:00:00-04:00\",\"2020-10-21T00:00:00-04:00\",\"2020-10-22T00:00:00-04:00\",\"2020-10-23T00:00:00-04:00\",\"2020-10-26T00:00:00-04:00\",\"2020-10-27T00:00:00-04:00\",\"2020-10-28T00:00:00-04:00\",\"2020-10-29T00:00:00-04:00\",\"2020-10-30T00:00:00-04:00\",\"2020-11-02T00:00:00-05:00\",\"2020-11-03T00:00:00-05:00\",\"2020-11-04T00:00:00-05:00\",\"2020-11-05T00:00:00-05:00\",\"2020-11-06T00:00:00-05:00\",\"2020-11-09T00:00:00-05:00\",\"2020-11-10T00:00:00-05:00\",\"2020-11-11T00:00:00-05:00\",\"2020-11-12T00:00:00-05:00\",\"2020-11-13T00:00:00-05:00\",\"2020-11-16T00:00:00-05:00\",\"2020-11-17T00:00:00-05:00\",\"2020-11-18T00:00:00-05:00\",\"2020-11-19T00:00:00-05:00\",\"2020-11-20T00:00:00-05:00\",\"2020-11-23T00:00:00-05:00\",\"2020-11-24T00:00:00-05:00\",\"2020-11-25T00:00:00-05:00\",\"2020-11-27T00:00:00-05:00\",\"2020-11-30T00:00:00-05:00\",\"2020-12-01T00:00:00-05:00\",\"2020-12-02T00:00:00-05:00\",\"2020-12-03T00:00:00-05:00\",\"2020-12-04T00:00:00-05:00\",\"2020-12-07T00:00:00-05:00\",\"2020-12-08T00:00:00-05:00\",\"2020-12-09T00:00:00-05:00\",\"2020-12-10T00:00:00-05:00\",\"2020-12-11T00:00:00-05:00\",\"2020-12-14T00:00:00-05:00\",\"2020-12-15T00:00:00-05:00\",\"2020-12-16T00:00:00-05:00\",\"2020-12-17T00:00:00-05:00\",\"2020-12-18T00:00:00-05:00\",\"2020-12-21T00:00:00-05:00\",\"2020-12-22T00:00:00-05:00\",\"2020-12-23T00:00:00-05:00\",\"2020-12-24T00:00:00-05:00\",\"2020-12-28T00:00:00-05:00\",\"2020-12-29T00:00:00-05:00\",\"2020-12-30T00:00:00-05:00\",\"2020-12-31T00:00:00-05:00\",\"2021-01-04T00:00:00-05:00\",\"2021-01-05T00:00:00-05:00\",\"2021-01-06T00:00:00-05:00\",\"2021-01-07T00:00:00-05:00\",\"2021-01-08T00:00:00-05:00\",\"2021-01-11T00:00:00-05:00\",\"2021-01-12T00:00:00-05:00\",\"2021-01-13T00:00:00-05:00\",\"2021-01-14T00:00:00-05:00\",\"2021-01-15T00:00:00-05:00\",\"2021-01-19T00:00:00-05:00\",\"2021-01-20T00:00:00-05:00\",\"2021-01-21T00:00:00-05:00\",\"2021-01-22T00:00:00-05:00\",\"2021-01-25T00:00:00-05:00\",\"2021-01-26T00:00:00-05:00\",\"2021-01-27T00:00:00-05:00\",\"2021-01-28T00:00:00-05:00\",\"2021-01-29T00:00:00-05:00\",\"2021-02-01T00:00:00-05:00\",\"2021-02-02T00:00:00-05:00\",\"2021-02-03T00:00:00-05:00\",\"2021-02-04T00:00:00-05:00\",\"2021-02-05T00:00:00-05:00\",\"2021-02-08T00:00:00-05:00\",\"2021-02-09T00:00:00-05:00\",\"2021-02-10T00:00:00-05:00\",\"2021-02-11T00:00:00-05:00\",\"2021-02-12T00:00:00-05:00\",\"2021-02-16T00:00:00-05:00\",\"2021-02-17T00:00:00-05:00\",\"2021-02-18T00:00:00-05:00\",\"2021-02-19T00:00:00-05:00\",\"2021-02-22T00:00:00-05:00\",\"2021-02-23T00:00:00-05:00\",\"2021-02-24T00:00:00-05:00\",\"2021-02-25T00:00:00-05:00\",\"2021-02-26T00:00:00-05:00\",\"2021-03-01T00:00:00-05:00\",\"2021-03-02T00:00:00-05:00\",\"2021-03-03T00:00:00-05:00\",\"2021-03-04T00:00:00-05:00\",\"2021-03-05T00:00:00-05:00\",\"2021-03-08T00:00:00-05:00\",\"2021-03-09T00:00:00-05:00\",\"2021-03-10T00:00:00-05:00\",\"2021-03-11T00:00:00-05:00\",\"2021-03-12T00:00:00-05:00\",\"2021-03-15T00:00:00-04:00\",\"2021-03-16T00:00:00-04:00\",\"2021-03-17T00:00:00-04:00\",\"2021-03-18T00:00:00-04:00\",\"2021-03-19T00:00:00-04:00\",\"2021-03-22T00:00:00-04:00\",\"2021-03-23T00:00:00-04:00\",\"2021-03-24T00:00:00-04:00\",\"2021-03-25T00:00:00-04:00\",\"2021-03-26T00:00:00-04:00\",\"2021-03-29T00:00:00-04:00\",\"2021-03-30T00:00:00-04:00\",\"2021-03-31T00:00:00-04:00\",\"2021-04-01T00:00:00-04:00\",\"2021-04-05T00:00:00-04:00\",\"2021-04-06T00:00:00-04:00\",\"2021-04-07T00:00:00-04:00\",\"2021-04-08T00:00:00-04:00\",\"2021-04-09T00:00:00-04:00\",\"2021-04-12T00:00:00-04:00\",\"2021-04-13T00:00:00-04:00\",\"2021-04-14T00:00:00-04:00\",\"2021-04-15T00:00:00-04:00\",\"2021-04-16T00:00:00-04:00\",\"2021-04-19T00:00:00-04:00\",\"2021-04-20T00:00:00-04:00\",\"2021-04-21T00:00:00-04:00\",\"2021-04-22T00:00:00-04:00\",\"2021-04-23T00:00:00-04:00\",\"2021-04-26T00:00:00-04:00\",\"2021-04-27T00:00:00-04:00\",\"2021-04-28T00:00:00-04:00\",\"2021-04-29T00:00:00-04:00\",\"2021-04-30T00:00:00-04:00\",\"2021-05-03T00:00:00-04:00\",\"2021-05-04T00:00:00-04:00\",\"2021-05-05T00:00:00-04:00\",\"2021-05-06T00:00:00-04:00\",\"2021-05-07T00:00:00-04:00\",\"2021-05-10T00:00:00-04:00\",\"2021-05-11T00:00:00-04:00\",\"2021-05-12T00:00:00-04:00\",\"2021-05-13T00:00:00-04:00\",\"2021-05-14T00:00:00-04:00\",\"2021-05-17T00:00:00-04:00\",\"2021-05-18T00:00:00-04:00\",\"2021-05-19T00:00:00-04:00\",\"2021-05-20T00:00:00-04:00\",\"2021-05-21T00:00:00-04:00\",\"2021-05-24T00:00:00-04:00\",\"2021-05-25T00:00:00-04:00\",\"2021-05-26T00:00:00-04:00\",\"2021-05-27T00:00:00-04:00\",\"2021-05-28T00:00:00-04:00\",\"2021-06-01T00:00:00-04:00\",\"2021-06-02T00:00:00-04:00\",\"2021-06-03T00:00:00-04:00\",\"2021-06-04T00:00:00-04:00\",\"2021-06-07T00:00:00-04:00\",\"2021-06-08T00:00:00-04:00\",\"2021-06-09T00:00:00-04:00\",\"2021-06-10T00:00:00-04:00\",\"2021-06-11T00:00:00-04:00\",\"2021-06-14T00:00:00-04:00\",\"2021-06-15T00:00:00-04:00\",\"2021-06-16T00:00:00-04:00\",\"2021-06-17T00:00:00-04:00\",\"2021-06-18T00:00:00-04:00\",\"2021-06-21T00:00:00-04:00\",\"2021-06-22T00:00:00-04:00\",\"2021-06-23T00:00:00-04:00\",\"2021-06-24T00:00:00-04:00\",\"2021-06-25T00:00:00-04:00\",\"2021-06-28T00:00:00-04:00\",\"2021-06-29T00:00:00-04:00\",\"2021-06-30T00:00:00-04:00\",\"2021-07-01T00:00:00-04:00\",\"2021-07-02T00:00:00-04:00\",\"2021-07-06T00:00:00-04:00\",\"2021-07-07T00:00:00-04:00\",\"2021-07-08T00:00:00-04:00\",\"2021-07-09T00:00:00-04:00\",\"2021-07-12T00:00:00-04:00\",\"2021-07-13T00:00:00-04:00\",\"2021-07-14T00:00:00-04:00\",\"2021-07-15T00:00:00-04:00\",\"2021-07-16T00:00:00-04:00\",\"2021-07-19T00:00:00-04:00\",\"2021-07-20T00:00:00-04:00\",\"2021-07-21T00:00:00-04:00\",\"2021-07-22T00:00:00-04:00\",\"2021-07-23T00:00:00-04:00\",\"2021-07-26T00:00:00-04:00\",\"2021-07-27T00:00:00-04:00\",\"2021-07-28T00:00:00-04:00\",\"2021-07-29T00:00:00-04:00\",\"2021-07-30T00:00:00-04:00\",\"2021-08-02T00:00:00-04:00\",\"2021-08-03T00:00:00-04:00\",\"2021-08-04T00:00:00-04:00\",\"2021-08-05T00:00:00-04:00\",\"2021-08-06T00:00:00-04:00\",\"2021-08-09T00:00:00-04:00\",\"2021-08-10T00:00:00-04:00\",\"2021-08-11T00:00:00-04:00\",\"2021-08-12T00:00:00-04:00\",\"2021-08-13T00:00:00-04:00\",\"2021-08-16T00:00:00-04:00\",\"2021-08-17T00:00:00-04:00\",\"2021-08-18T00:00:00-04:00\",\"2021-08-19T00:00:00-04:00\",\"2021-08-20T00:00:00-04:00\",\"2021-08-23T00:00:00-04:00\",\"2021-08-24T00:00:00-04:00\",\"2021-08-25T00:00:00-04:00\",\"2021-08-26T00:00:00-04:00\",\"2021-08-27T00:00:00-04:00\",\"2021-08-30T00:00:00-04:00\",\"2021-08-31T00:00:00-04:00\",\"2021-09-01T00:00:00-04:00\",\"2021-09-02T00:00:00-04:00\",\"2021-09-03T00:00:00-04:00\",\"2021-09-07T00:00:00-04:00\",\"2021-09-08T00:00:00-04:00\",\"2021-09-09T00:00:00-04:00\",\"2021-09-10T00:00:00-04:00\",\"2021-09-13T00:00:00-04:00\",\"2021-09-14T00:00:00-04:00\",\"2021-09-15T00:00:00-04:00\",\"2021-09-16T00:00:00-04:00\",\"2021-09-17T00:00:00-04:00\",\"2021-09-20T00:00:00-04:00\",\"2021-09-21T00:00:00-04:00\",\"2021-09-22T00:00:00-04:00\",\"2021-09-23T00:00:00-04:00\",\"2021-09-24T00:00:00-04:00\",\"2021-09-27T00:00:00-04:00\",\"2021-09-28T00:00:00-04:00\",\"2021-09-29T00:00:00-04:00\",\"2021-09-30T00:00:00-04:00\",\"2021-10-01T00:00:00-04:00\",\"2021-10-04T00:00:00-04:00\",\"2021-10-05T00:00:00-04:00\",\"2021-10-06T00:00:00-04:00\",\"2021-10-07T00:00:00-04:00\",\"2021-10-08T00:00:00-04:00\",\"2021-10-11T00:00:00-04:00\",\"2021-10-12T00:00:00-04:00\",\"2021-10-13T00:00:00-04:00\",\"2021-10-14T00:00:00-04:00\",\"2021-10-15T00:00:00-04:00\",\"2021-10-18T00:00:00-04:00\",\"2021-10-19T00:00:00-04:00\",\"2021-10-20T00:00:00-04:00\",\"2021-10-21T00:00:00-04:00\",\"2021-10-22T00:00:00-04:00\",\"2021-10-25T00:00:00-04:00\",\"2021-10-26T00:00:00-04:00\",\"2021-10-27T00:00:00-04:00\",\"2021-10-28T00:00:00-04:00\",\"2021-10-29T00:00:00-04:00\",\"2021-11-01T00:00:00-04:00\",\"2021-11-02T00:00:00-04:00\",\"2021-11-03T00:00:00-04:00\",\"2021-11-04T00:00:00-04:00\",\"2021-11-05T00:00:00-04:00\",\"2021-11-08T00:00:00-05:00\",\"2021-11-09T00:00:00-05:00\",\"2021-11-10T00:00:00-05:00\",\"2021-11-11T00:00:00-05:00\",\"2021-11-12T00:00:00-05:00\",\"2021-11-15T00:00:00-05:00\",\"2021-11-16T00:00:00-05:00\",\"2021-11-17T00:00:00-05:00\",\"2021-11-18T00:00:00-05:00\",\"2021-11-19T00:00:00-05:00\",\"2021-11-22T00:00:00-05:00\",\"2021-11-23T00:00:00-05:00\",\"2021-11-24T00:00:00-05:00\",\"2021-11-26T00:00:00-05:00\",\"2021-11-29T00:00:00-05:00\",\"2021-11-30T00:00:00-05:00\",\"2021-12-01T00:00:00-05:00\",\"2021-12-02T00:00:00-05:00\",\"2021-12-03T00:00:00-05:00\",\"2021-12-06T00:00:00-05:00\",\"2021-12-07T00:00:00-05:00\",\"2021-12-08T00:00:00-05:00\",\"2021-12-09T00:00:00-05:00\",\"2021-12-10T00:00:00-05:00\",\"2021-12-13T00:00:00-05:00\",\"2021-12-14T00:00:00-05:00\",\"2021-12-15T00:00:00-05:00\",\"2021-12-16T00:00:00-05:00\",\"2021-12-17T00:00:00-05:00\",\"2021-12-20T00:00:00-05:00\",\"2021-12-21T00:00:00-05:00\",\"2021-12-22T00:00:00-05:00\",\"2021-12-23T00:00:00-05:00\",\"2021-12-27T00:00:00-05:00\",\"2021-12-28T00:00:00-05:00\",\"2021-12-29T00:00:00-05:00\",\"2021-12-30T00:00:00-05:00\",\"2021-12-31T00:00:00-05:00\",\"2022-01-03T00:00:00-05:00\",\"2022-01-04T00:00:00-05:00\",\"2022-01-05T00:00:00-05:00\",\"2022-01-06T00:00:00-05:00\",\"2022-01-07T00:00:00-05:00\",\"2022-01-10T00:00:00-05:00\",\"2022-01-11T00:00:00-05:00\",\"2022-01-12T00:00:00-05:00\",\"2022-01-13T00:00:00-05:00\",\"2022-01-14T00:00:00-05:00\",\"2022-01-18T00:00:00-05:00\",\"2022-01-19T00:00:00-05:00\",\"2022-01-20T00:00:00-05:00\",\"2022-01-21T00:00:00-05:00\",\"2022-01-24T00:00:00-05:00\",\"2022-01-25T00:00:00-05:00\",\"2022-01-26T00:00:00-05:00\",\"2022-01-27T00:00:00-05:00\",\"2022-01-28T00:00:00-05:00\",\"2022-01-31T00:00:00-05:00\",\"2022-02-01T00:00:00-05:00\",\"2022-02-02T00:00:00-05:00\",\"2022-02-03T00:00:00-05:00\",\"2022-02-04T00:00:00-05:00\",\"2022-02-07T00:00:00-05:00\",\"2022-02-08T00:00:00-05:00\",\"2022-02-09T00:00:00-05:00\",\"2022-02-10T00:00:00-05:00\",\"2022-02-11T00:00:00-05:00\",\"2022-02-14T00:00:00-05:00\",\"2022-02-15T00:00:00-05:00\",\"2022-02-16T00:00:00-05:00\",\"2022-02-17T00:00:00-05:00\",\"2022-02-18T00:00:00-05:00\",\"2022-02-22T00:00:00-05:00\",\"2022-02-23T00:00:00-05:00\",\"2022-02-24T00:00:00-05:00\",\"2022-02-25T00:00:00-05:00\",\"2022-02-28T00:00:00-05:00\",\"2022-03-01T00:00:00-05:00\",\"2022-03-02T00:00:00-05:00\",\"2022-03-03T00:00:00-05:00\",\"2022-03-04T00:00:00-05:00\",\"2022-03-07T00:00:00-05:00\",\"2022-03-08T00:00:00-05:00\",\"2022-03-09T00:00:00-05:00\",\"2022-03-10T00:00:00-05:00\",\"2022-03-11T00:00:00-05:00\",\"2022-03-14T00:00:00-04:00\",\"2022-03-15T00:00:00-04:00\",\"2022-03-16T00:00:00-04:00\",\"2022-03-17T00:00:00-04:00\",\"2022-03-18T00:00:00-04:00\",\"2022-03-21T00:00:00-04:00\",\"2022-03-22T00:00:00-04:00\",\"2022-03-23T00:00:00-04:00\",\"2022-03-24T00:00:00-04:00\",\"2022-03-25T00:00:00-04:00\",\"2022-03-28T00:00:00-04:00\",\"2022-03-29T00:00:00-04:00\",\"2022-03-30T00:00:00-04:00\",\"2022-03-31T00:00:00-04:00\",\"2022-04-01T00:00:00-04:00\",\"2022-04-04T00:00:00-04:00\",\"2022-04-05T00:00:00-04:00\",\"2022-04-06T00:00:00-04:00\",\"2022-04-07T00:00:00-04:00\",\"2022-04-08T00:00:00-04:00\",\"2022-04-11T00:00:00-04:00\",\"2022-04-12T00:00:00-04:00\",\"2022-04-13T00:00:00-04:00\",\"2022-04-14T00:00:00-04:00\",\"2022-04-18T00:00:00-04:00\",\"2022-04-19T00:00:00-04:00\",\"2022-04-20T00:00:00-04:00\",\"2022-04-21T00:00:00-04:00\",\"2022-04-22T00:00:00-04:00\",\"2022-04-25T00:00:00-04:00\",\"2022-04-26T00:00:00-04:00\",\"2022-04-27T00:00:00-04:00\",\"2022-04-28T00:00:00-04:00\",\"2022-04-29T00:00:00-04:00\",\"2022-05-02T00:00:00-04:00\",\"2022-05-03T00:00:00-04:00\",\"2022-05-04T00:00:00-04:00\",\"2022-05-05T00:00:00-04:00\",\"2022-05-06T00:00:00-04:00\",\"2022-05-09T00:00:00-04:00\",\"2022-05-10T00:00:00-04:00\",\"2022-05-11T00:00:00-04:00\",\"2022-05-12T00:00:00-04:00\",\"2022-05-13T00:00:00-04:00\",\"2022-05-16T00:00:00-04:00\",\"2022-05-17T00:00:00-04:00\",\"2022-05-18T00:00:00-04:00\",\"2022-05-19T00:00:00-04:00\",\"2022-05-20T00:00:00-04:00\",\"2022-05-23T00:00:00-04:00\",\"2022-05-24T00:00:00-04:00\",\"2022-05-25T00:00:00-04:00\",\"2022-05-26T00:00:00-04:00\",\"2022-05-27T00:00:00-04:00\",\"2022-05-31T00:00:00-04:00\",\"2022-06-01T00:00:00-04:00\",\"2022-06-02T00:00:00-04:00\",\"2022-06-03T00:00:00-04:00\",\"2022-06-06T00:00:00-04:00\",\"2022-06-07T00:00:00-04:00\",\"2022-06-08T00:00:00-04:00\",\"2022-06-09T00:00:00-04:00\",\"2022-06-10T00:00:00-04:00\",\"2022-06-13T00:00:00-04:00\",\"2022-06-14T00:00:00-04:00\",\"2022-06-15T00:00:00-04:00\",\"2022-06-16T00:00:00-04:00\",\"2022-06-17T00:00:00-04:00\",\"2022-06-21T00:00:00-04:00\",\"2022-06-22T00:00:00-04:00\",\"2022-06-23T00:00:00-04:00\",\"2022-06-24T00:00:00-04:00\",\"2022-06-27T00:00:00-04:00\",\"2022-06-28T00:00:00-04:00\",\"2022-06-29T00:00:00-04:00\",\"2022-06-30T00:00:00-04:00\",\"2022-07-01T00:00:00-04:00\",\"2022-07-05T00:00:00-04:00\",\"2022-07-06T00:00:00-04:00\",\"2022-07-07T00:00:00-04:00\",\"2022-07-08T00:00:00-04:00\",\"2022-07-11T00:00:00-04:00\",\"2022-07-12T00:00:00-04:00\",\"2022-07-13T00:00:00-04:00\",\"2022-07-14T00:00:00-04:00\",\"2022-07-15T00:00:00-04:00\",\"2022-07-18T00:00:00-04:00\",\"2022-07-19T00:00:00-04:00\",\"2022-07-20T00:00:00-04:00\",\"2022-07-21T00:00:00-04:00\",\"2022-07-22T00:00:00-04:00\",\"2022-07-25T00:00:00-04:00\",\"2022-07-26T00:00:00-04:00\",\"2022-07-27T00:00:00-04:00\",\"2022-07-28T00:00:00-04:00\",\"2022-07-29T00:00:00-04:00\",\"2022-08-01T00:00:00-04:00\",\"2022-08-02T00:00:00-04:00\",\"2022-08-03T00:00:00-04:00\",\"2022-08-04T00:00:00-04:00\",\"2022-08-05T00:00:00-04:00\",\"2022-08-08T00:00:00-04:00\",\"2022-08-09T00:00:00-04:00\",\"2022-08-10T00:00:00-04:00\",\"2022-08-11T00:00:00-04:00\",\"2022-08-12T00:00:00-04:00\",\"2022-08-15T00:00:00-04:00\",\"2022-08-16T00:00:00-04:00\",\"2022-08-17T00:00:00-04:00\",\"2022-08-18T00:00:00-04:00\",\"2022-08-19T00:00:00-04:00\",\"2022-08-22T00:00:00-04:00\",\"2022-08-23T00:00:00-04:00\",\"2022-08-24T00:00:00-04:00\",\"2022-08-25T00:00:00-04:00\",\"2022-08-26T00:00:00-04:00\",\"2022-08-29T00:00:00-04:00\",\"2022-08-30T00:00:00-04:00\",\"2022-08-31T00:00:00-04:00\",\"2022-09-01T00:00:00-04:00\",\"2022-09-02T00:00:00-04:00\",\"2022-09-06T00:00:00-04:00\",\"2022-09-07T00:00:00-04:00\",\"2022-09-08T00:00:00-04:00\",\"2022-09-09T00:00:00-04:00\",\"2022-09-12T00:00:00-04:00\",\"2022-09-13T00:00:00-04:00\",\"2022-09-14T00:00:00-04:00\",\"2022-09-15T00:00:00-04:00\",\"2022-09-16T00:00:00-04:00\",\"2022-09-19T00:00:00-04:00\",\"2022-09-20T00:00:00-04:00\",\"2022-09-21T00:00:00-04:00\",\"2022-09-22T00:00:00-04:00\",\"2022-09-23T00:00:00-04:00\",\"2022-09-26T00:00:00-04:00\",\"2022-09-27T00:00:00-04:00\",\"2022-09-28T00:00:00-04:00\",\"2022-09-29T00:00:00-04:00\",\"2022-09-30T00:00:00-04:00\",\"2022-10-03T00:00:00-04:00\",\"2022-10-04T00:00:00-04:00\",\"2022-10-05T00:00:00-04:00\",\"2022-10-06T00:00:00-04:00\",\"2022-10-07T00:00:00-04:00\",\"2022-10-10T00:00:00-04:00\",\"2022-10-11T00:00:00-04:00\",\"2022-10-12T00:00:00-04:00\",\"2022-10-13T00:00:00-04:00\",\"2022-10-14T00:00:00-04:00\",\"2022-10-17T00:00:00-04:00\",\"2022-10-18T00:00:00-04:00\",\"2022-10-19T00:00:00-04:00\",\"2022-10-20T00:00:00-04:00\",\"2022-10-21T00:00:00-04:00\",\"2022-10-24T00:00:00-04:00\",\"2022-10-25T00:00:00-04:00\",\"2022-10-26T00:00:00-04:00\",\"2022-10-27T00:00:00-04:00\",\"2022-10-28T00:00:00-04:00\",\"2022-10-31T00:00:00-04:00\",\"2022-11-01T00:00:00-04:00\",\"2022-11-02T00:00:00-04:00\",\"2022-11-03T00:00:00-04:00\",\"2022-11-04T00:00:00-04:00\",\"2022-11-07T00:00:00-05:00\",\"2022-11-08T00:00:00-05:00\",\"2022-11-09T00:00:00-05:00\",\"2022-11-10T00:00:00-05:00\",\"2022-11-11T00:00:00-05:00\",\"2022-11-14T00:00:00-05:00\",\"2022-11-15T00:00:00-05:00\",\"2022-11-16T00:00:00-05:00\",\"2022-11-17T00:00:00-05:00\",\"2022-11-18T00:00:00-05:00\",\"2022-11-21T00:00:00-05:00\",\"2022-11-22T00:00:00-05:00\",\"2022-11-23T00:00:00-05:00\",\"2022-11-25T00:00:00-05:00\",\"2022-11-28T00:00:00-05:00\",\"2022-11-29T00:00:00-05:00\",\"2022-11-30T00:00:00-05:00\",\"2022-12-01T00:00:00-05:00\",\"2022-12-02T00:00:00-05:00\",\"2022-12-05T00:00:00-05:00\",\"2022-12-06T00:00:00-05:00\",\"2022-12-07T00:00:00-05:00\"],\"type\":\"candlestick\"}],                        {\"template\":{\"data\":{\"bar\":[{\"error_x\":{\"color\":\"#2a3f5f\"},\"error_y\":{\"color\":\"#2a3f5f\"},\"marker\":{\"line\":{\"color\":\"#E5ECF6\",\"width\":0.5},\"pattern\":{\"fillmode\":\"overlay\",\"size\":10,\"solidity\":0.2}},\"type\":\"bar\"}],\"barpolar\":[{\"marker\":{\"line\":{\"color\":\"#E5ECF6\",\"width\":0.5},\"pattern\":{\"fillmode\":\"overlay\",\"size\":10,\"solidity\":0.2}},\"type\":\"barpolar\"}],\"carpet\":[{\"aaxis\":{\"endlinecolor\":\"#2a3f5f\",\"gridcolor\":\"white\",\"linecolor\":\"white\",\"minorgridcolor\":\"white\",\"startlinecolor\":\"#2a3f5f\"},\"baxis\":{\"endlinecolor\":\"#2a3f5f\",\"gridcolor\":\"white\",\"linecolor\":\"white\",\"minorgridcolor\":\"white\",\"startlinecolor\":\"#2a3f5f\"},\"type\":\"carpet\"}],\"choropleth\":[{\"colorbar\":{\"outlinewidth\":0,\"ticks\":\"\"},\"type\":\"choropleth\"}],\"contour\":[{\"colorbar\":{\"outlinewidth\":0,\"ticks\":\"\"},\"colorscale\":[[0.0,\"#0d0887\"],[0.1111111111111111,\"#46039f\"],[0.2222222222222222,\"#7201a8\"],[0.3333333333333333,\"#9c179e\"],[0.4444444444444444,\"#bd3786\"],[0.5555555555555556,\"#d8576b\"],[0.6666666666666666,\"#ed7953\"],[0.7777777777777778,\"#fb9f3a\"],[0.8888888888888888,\"#fdca26\"],[1.0,\"#f0f921\"]],\"type\":\"contour\"}],\"contourcarpet\":[{\"colorbar\":{\"outlinewidth\":0,\"ticks\":\"\"},\"type\":\"contourcarpet\"}],\"heatmap\":[{\"colorbar\":{\"outlinewidth\":0,\"ticks\":\"\"},\"colorscale\":[[0.0,\"#0d0887\"],[0.1111111111111111,\"#46039f\"],[0.2222222222222222,\"#7201a8\"],[0.3333333333333333,\"#9c179e\"],[0.4444444444444444,\"#bd3786\"],[0.5555555555555556,\"#d8576b\"],[0.6666666666666666,\"#ed7953\"],[0.7777777777777778,\"#fb9f3a\"],[0.8888888888888888,\"#fdca26\"],[1.0,\"#f0f921\"]],\"type\":\"heatmap\"}],\"heatmapgl\":[{\"colorbar\":{\"outlinewidth\":0,\"ticks\":\"\"},\"colorscale\":[[0.0,\"#0d0887\"],[0.1111111111111111,\"#46039f\"],[0.2222222222222222,\"#7201a8\"],[0.3333333333333333,\"#9c179e\"],[0.4444444444444444,\"#bd3786\"],[0.5555555555555556,\"#d8576b\"],[0.6666666666666666,\"#ed7953\"],[0.7777777777777778,\"#fb9f3a\"],[0.8888888888888888,\"#fdca26\"],[1.0,\"#f0f921\"]],\"type\":\"heatmapgl\"}],\"histogram\":[{\"marker\":{\"pattern\":{\"fillmode\":\"overlay\",\"size\":10,\"solidity\":0.2}},\"type\":\"histogram\"}],\"histogram2d\":[{\"colorbar\":{\"outlinewidth\":0,\"ticks\":\"\"},\"colorscale\":[[0.0,\"#0d0887\"],[0.1111111111111111,\"#46039f\"],[0.2222222222222222,\"#7201a8\"],[0.3333333333333333,\"#9c179e\"],[0.4444444444444444,\"#bd3786\"],[0.5555555555555556,\"#d8576b\"],[0.6666666666666666,\"#ed7953\"],[0.7777777777777778,\"#fb9f3a\"],[0.8888888888888888,\"#fdca26\"],[1.0,\"#f0f921\"]],\"type\":\"histogram2d\"}],\"histogram2dcontour\":[{\"colorbar\":{\"outlinewidth\":0,\"ticks\":\"\"},\"colorscale\":[[0.0,\"#0d0887\"],[0.1111111111111111,\"#46039f\"],[0.2222222222222222,\"#7201a8\"],[0.3333333333333333,\"#9c179e\"],[0.4444444444444444,\"#bd3786\"],[0.5555555555555556,\"#d8576b\"],[0.6666666666666666,\"#ed7953\"],[0.7777777777777778,\"#fb9f3a\"],[0.8888888888888888,\"#fdca26\"],[1.0,\"#f0f921\"]],\"type\":\"histogram2dcontour\"}],\"mesh3d\":[{\"colorbar\":{\"outlinewidth\":0,\"ticks\":\"\"},\"type\":\"mesh3d\"}],\"parcoords\":[{\"line\":{\"colorbar\":{\"outlinewidth\":0,\"ticks\":\"\"}},\"type\":\"parcoords\"}],\"pie\":[{\"automargin\":true,\"type\":\"pie\"}],\"scatter\":[{\"marker\":{\"colorbar\":{\"outlinewidth\":0,\"ticks\":\"\"}},\"type\":\"scatter\"}],\"scatter3d\":[{\"line\":{\"colorbar\":{\"outlinewidth\":0,\"ticks\":\"\"}},\"marker\":{\"colorbar\":{\"outlinewidth\":0,\"ticks\":\"\"}},\"type\":\"scatter3d\"}],\"scattercarpet\":[{\"marker\":{\"colorbar\":{\"outlinewidth\":0,\"ticks\":\"\"}},\"type\":\"scattercarpet\"}],\"scattergeo\":[{\"marker\":{\"colorbar\":{\"outlinewidth\":0,\"ticks\":\"\"}},\"type\":\"scattergeo\"}],\"scattergl\":[{\"marker\":{\"colorbar\":{\"outlinewidth\":0,\"ticks\":\"\"}},\"type\":\"scattergl\"}],\"scattermapbox\":[{\"marker\":{\"colorbar\":{\"outlinewidth\":0,\"ticks\":\"\"}},\"type\":\"scattermapbox\"}],\"scatterpolar\":[{\"marker\":{\"colorbar\":{\"outlinewidth\":0,\"ticks\":\"\"}},\"type\":\"scatterpolar\"}],\"scatterpolargl\":[{\"marker\":{\"colorbar\":{\"outlinewidth\":0,\"ticks\":\"\"}},\"type\":\"scatterpolargl\"}],\"scatterternary\":[{\"marker\":{\"colorbar\":{\"outlinewidth\":0,\"ticks\":\"\"}},\"type\":\"scatterternary\"}],\"surface\":[{\"colorbar\":{\"outlinewidth\":0,\"ticks\":\"\"},\"colorscale\":[[0.0,\"#0d0887\"],[0.1111111111111111,\"#46039f\"],[0.2222222222222222,\"#7201a8\"],[0.3333333333333333,\"#9c179e\"],[0.4444444444444444,\"#bd3786\"],[0.5555555555555556,\"#d8576b\"],[0.6666666666666666,\"#ed7953\"],[0.7777777777777778,\"#fb9f3a\"],[0.8888888888888888,\"#fdca26\"],[1.0,\"#f0f921\"]],\"type\":\"surface\"}],\"table\":[{\"cells\":{\"fill\":{\"color\":\"#EBF0F8\"},\"line\":{\"color\":\"white\"}},\"header\":{\"fill\":{\"color\":\"#C8D4E3\"},\"line\":{\"color\":\"white\"}},\"type\":\"table\"}]},\"layout\":{\"annotationdefaults\":{\"arrowcolor\":\"#2a3f5f\",\"arrowhead\":0,\"arrowwidth\":1},\"autotypenumbers\":\"strict\",\"coloraxis\":{\"colorbar\":{\"outlinewidth\":0,\"ticks\":\"\"}},\"colorscale\":{\"diverging\":[[0,\"#8e0152\"],[0.1,\"#c51b7d\"],[0.2,\"#de77ae\"],[0.3,\"#f1b6da\"],[0.4,\"#fde0ef\"],[0.5,\"#f7f7f7\"],[0.6,\"#e6f5d0\"],[0.7,\"#b8e186\"],[0.8,\"#7fbc41\"],[0.9,\"#4d9221\"],[1,\"#276419\"]],\"sequential\":[[0.0,\"#0d0887\"],[0.1111111111111111,\"#46039f\"],[0.2222222222222222,\"#7201a8\"],[0.3333333333333333,\"#9c179e\"],[0.4444444444444444,\"#bd3786\"],[0.5555555555555556,\"#d8576b\"],[0.6666666666666666,\"#ed7953\"],[0.7777777777777778,\"#fb9f3a\"],[0.8888888888888888,\"#fdca26\"],[1.0,\"#f0f921\"]],\"sequentialminus\":[[0.0,\"#0d0887\"],[0.1111111111111111,\"#46039f\"],[0.2222222222222222,\"#7201a8\"],[0.3333333333333333,\"#9c179e\"],[0.4444444444444444,\"#bd3786\"],[0.5555555555555556,\"#d8576b\"],[0.6666666666666666,\"#ed7953\"],[0.7777777777777778,\"#fb9f3a\"],[0.8888888888888888,\"#fdca26\"],[1.0,\"#f0f921\"]]},\"colorway\":[\"#636efa\",\"#EF553B\",\"#00cc96\",\"#ab63fa\",\"#FFA15A\",\"#19d3f3\",\"#FF6692\",\"#B6E880\",\"#FF97FF\",\"#FECB52\"],\"font\":{\"color\":\"#2a3f5f\"},\"geo\":{\"bgcolor\":\"white\",\"lakecolor\":\"white\",\"landcolor\":\"#E5ECF6\",\"showlakes\":true,\"showland\":true,\"subunitcolor\":\"white\"},\"hoverlabel\":{\"align\":\"left\"},\"hovermode\":\"closest\",\"mapbox\":{\"style\":\"light\"},\"paper_bgcolor\":\"white\",\"plot_bgcolor\":\"#E5ECF6\",\"polar\":{\"angularaxis\":{\"gridcolor\":\"white\",\"linecolor\":\"white\",\"ticks\":\"\"},\"bgcolor\":\"#E5ECF6\",\"radialaxis\":{\"gridcolor\":\"white\",\"linecolor\":\"white\",\"ticks\":\"\"}},\"scene\":{\"xaxis\":{\"backgroundcolor\":\"#E5ECF6\",\"gridcolor\":\"white\",\"gridwidth\":2,\"linecolor\":\"white\",\"showbackground\":true,\"ticks\":\"\",\"zerolinecolor\":\"white\"},\"yaxis\":{\"backgroundcolor\":\"#E5ECF6\",\"gridcolor\":\"white\",\"gridwidth\":2,\"linecolor\":\"white\",\"showbackground\":true,\"ticks\":\"\",\"zerolinecolor\":\"white\"},\"zaxis\":{\"backgroundcolor\":\"#E5ECF6\",\"gridcolor\":\"white\",\"gridwidth\":2,\"linecolor\":\"white\",\"showbackground\":true,\"ticks\":\"\",\"zerolinecolor\":\"white\"}},\"shapedefaults\":{\"line\":{\"color\":\"#2a3f5f\"}},\"ternary\":{\"aaxis\":{\"gridcolor\":\"white\",\"linecolor\":\"white\",\"ticks\":\"\"},\"baxis\":{\"gridcolor\":\"white\",\"linecolor\":\"white\",\"ticks\":\"\"},\"bgcolor\":\"#E5ECF6\",\"caxis\":{\"gridcolor\":\"white\",\"linecolor\":\"white\",\"ticks\":\"\"}},\"title\":{\"x\":0.05},\"xaxis\":{\"automargin\":true,\"gridcolor\":\"white\",\"linecolor\":\"white\",\"ticks\":\"\",\"title\":{\"standoff\":15},\"zerolinecolor\":\"white\",\"zerolinewidth\":2},\"yaxis\":{\"automargin\":true,\"gridcolor\":\"white\",\"linecolor\":\"white\",\"ticks\":\"\",\"title\":{\"standoff\":15},\"zerolinecolor\":\"white\",\"zerolinewidth\":2}}},\"margin\":{\"l\":20,\"r\":20,\"t\":60,\"b\":20},\"height\":350,\"paper_bgcolor\":\"LightSteelBlue\",\"title\":{\"text\":\"TSLA\"}},                        {\"responsive\": true}                    ).then(function(){\n",
              "                            \n",
              "var gd = document.getElementById('a9405b1b-d669-46c2-820a-9d8ec478ebc4');\n",
              "var x = new MutationObserver(function (mutations, observer) {{\n",
              "        var display = window.getComputedStyle(gd).display;\n",
              "        if (!display || display === 'none') {{\n",
              "            console.log([gd, 'removed!']);\n",
              "            Plotly.purge(gd);\n",
              "            observer.disconnect();\n",
              "        }}\n",
              "}});\n",
              "\n",
              "// Listen for the removal of the full notebook cells\n",
              "var notebookContainer = gd.closest('#notebook-container');\n",
              "if (notebookContainer) {{\n",
              "    x.observe(notebookContainer, {childList: true});\n",
              "}}\n",
              "\n",
              "// Listen for the clearing of the current output cell\n",
              "var outputEl = gd.closest('.output');\n",
              "if (outputEl) {{\n",
              "    x.observe(outputEl, {childList: true});\n",
              "}}\n",
              "\n",
              "                        })                };                            </script>        </div>\n",
              "</body>\n",
              "</html>"
            ]
          },
          "metadata": {},
          "output_type": "display_data"
        },
        {
          "data": {
            "text/html": [
              "<html>\n",
              "<head><meta charset=\"utf-8\" /></head>\n",
              "<body>\n",
              "    <div>            <script src=\"https://cdnjs.cloudflare.com/ajax/libs/mathjax/2.7.5/MathJax.js?config=TeX-AMS-MML_SVG\"></script><script type=\"text/javascript\">if (window.MathJax) {MathJax.Hub.Config({SVG: {font: \"STIX-Web\"}});}</script>                <script type=\"text/javascript\">window.PlotlyConfig = {MathJaxConfig: 'local'};</script>\n",
              "        <script src=\"https://cdn.plot.ly/plotly-2.8.3.min.js\"></script>                <div id=\"b5b151df-5b29-4932-8f27-1ab9845d2ac2\" class=\"plotly-graph-div\" style=\"height:350px; width:100%;\"></div>            <script type=\"text/javascript\">                                    window.PLOTLYENV=window.PLOTLYENV || {};                                    if (document.getElementById(\"b5b151df-5b29-4932-8f27-1ab9845d2ac2\")) {                    Plotly.newPlot(                        \"b5b151df-5b29-4932-8f27-1ab9845d2ac2\",                        [{\"close\":[65.37388610839844,65.7559585571289,66.31680297851562,66.48580932617188,67.38956451416016,68.54313659667969,68.6778335571289,68.51374053955078,68.58232879638672,68.44026184082031,69.55709838867188,69.62323760986328,71.00456237792969,70.97763061523438,71.3989028930664,71.92057037353516,73.5615234375,72.84636688232422,73.42681884765625,73.08149719238281,74.25709533691406,75.83438873291016,76.00582885742188,77.6296615600586,76.5813980102539,76.2531967163086,77.2083740234375,78.06315612792969,77.53412628173828,77.81089782714844,78.18561553955078,77.96028900146484,75.66785430908203,77.80843353271484,79.43714141845703,79.32202911376953,75.80500030517578,75.5968246459961,78.092529296875,78.72933959960938,79.65023803710938,78.56756591796875,78.94072723388672,78.4644546508789,80.32781982421875,79.75579071044922,79.77543640136719,78.314697265625,79.44891357421875,78.63386535644531,76.8539810180664,73.20337677001953,70.72381591796875,71.84577178955078,67.14933776855469,67.11005401611328,73.35806274414062,71.02824401855469,74.3228530883789,71.91206359863281,70.95704650878906,65.34491729736328,70.05115509033203,67.61824035644531,60.94062423706055,68.24180603027344,59.46270751953125,62.077293395996094,60.55764389038086,60.093650817871094,56.27857208251953,55.082977294921875,60.60919952392578,60.27531433105469,63.44718933105469,60.82032775878906,62.55602264404297,62.42835998535156,59.14356231689453,60.13047409057617,59.26630783081055,64.43655395507812,63.69022750854492,65.32035827636719,65.79170989990234,67.08306121826172,70.470947265625,69.8277359008789,70.38258361816406,69.42758178710938,67.98649597167969,65.88500213623047,67.78272247314453,67.52005004882812,69.46929931640625,69.51842498779297,68.39157104492188,70.63790130615234,72.12808227539062,70.96688079833984,71.9709701538086,73.05116271972656,73.80485534667969,74.56837463378906,76.34322357177734,77.54450988769531,76.65830993652344,75.73271179199219,76.19798278808594,75.74749755859375,77.5322036743164,77.08418273925781,78.58333587646484,77.99744415283203,78.4996337890625,77.9678955078125,78.3076171875,78.34207153320312,78.26578521728516,79.22826385498047,79.59505462646484,80.0332260131836,79.3439712524414,81.60377502441406,82.08624267578125,84.67837524414062,86.85692596435547,82.68689727783203,83.40077209472656,84.43219757080078,86.66983795166016,86.54924774169922,86.58369445800781,86.08890533447266,88.34131622314453,90.2269287109375,88.63424682617188,89.81090545654297,87.0514144897461,89.05765533447266,89.80106353759766,89.63121032714844,89.63121032714844,92.02886199951172,91.74331665039062,93.88003540039062,94.28373718261719,94.44866943359375,94.01295471191406,95.56871795654297,96.22599029541016,95.04192352294922,94.84992218017578,96.84878540039062,95.51211547851562,95.78041076660156,91.42082977294922,91.19437408447266,93.35569763183594,91.82207489013672,93.58216094970703,94.71452331542969,104.63007354736328,107.26648712158203,107.98282623291016,108.37423706054688,112.15532684326172,109.60539245605469,111.19850158691406,107.89144897460938,111.4771499633789,113.45003509521484,113.34891510009766,113.05298614501953,113.99503326416016,114.1380615234375,116.67073822021484,122.6830825805664,124.150390625,123.13189697265625,124.80638122558594,123.31439971923828,123.11463928222656,127.28972625732422,132.36001586914062,129.61769104003906,119.24040985107422,119.31932067871094,111.28972625732422,115.72869110107422,111.95064544677734,110.48084259033203,113.79528045654297,113.97283935546875,110.60909271240234,108.8433609008789,105.39083862304688,108.58689880371094,110.29344177246094,105.66705322265625,106.75214385986328,110.75704956054688,113.40070343017578,112.54251861572266,114.23917388916016,115.20587921142578,111.48700714111328,114.91981506347656,111.62512969970703,113.51907348632812,113.41056823730469,115.38343811035156,122.7126693725586,119.4574203491211,119.54620361328125,119.07270050048828,117.40562438964844,114.40686798095703,115.91612243652344,115.28480529785156,114.17999267578125,113.4796142578125,113.48948669433594,115.0184555053711,109.69170379638672,113.75582885742188,107.38345336914062,107.294677734375,108.9420166015625,113.39083862304688,117.41548919677734,117.2821044921875,114.94021606445312,114.59437561035156,118.07261657714844,117.79593658447266,117.84534454345703,118.87301635742188,117.97380065917969,116.62992858886719,117.23269653320312,115.94811248779297,112.49951171875,113.80386352539062,114.65364837646484,115.2070083618164,117.6378402709961,121.26429748535156,121.62003326416016,121.48168182373047,120.79986572265625,122.28207397460938,122.90460205078125,120.33544158935547,121.77812957763672,120.95797729492188,120.33544158935547,126.36310577392578,126.29391479492188,127.1733627319336,125.15756225585938,126.70893859863281,130.3156280517578,129.40658569335938,130.40457153320312,135.068603515625,133.27017211914062,132.1338348388672,131.1160430908203,127.87495422363281,129.45594787597656,125.0982894897461,129.36703491210938,130.48361206054688,127.45001983642578,127.27218627929688,129.33737182617188,127.3808822631836,125.63187408447266,126.31368255615234,130.46388244628906,135.24647521972656,137.42037963867188,141.22470092773438,141.4618377685547,140.37489318847656,135.46383666992188,130.3946990966797,132.54885864257812,133.38876342773438,132.3511962890625,135.76028442382812,135.33970642089844,135.48814392089844,134.59747314453125,133.9839324951172,133.72662353515625,133.96412658691406,131.80677795410156,129.48118591308594,128.3629150390625,128.52125549316406,124.69143676757812,124.55289459228516,124.0481948852539,119.73347473144531,120.00067138671875,126.46284484863281,123.82058715820312,120.79235076904297,118.88240814208984,120.15900421142578,115.15155792236328,119.83243560791016,118.73397064208984,120.69338989257812,119.77306365966797,122.70231628417969,124.26590728759766,123.46431732177734,119.27824401855469,118.74385833740234,122.1085433959961,121.26738739013672,118.84281921386719,119.3376235961914,119.95118713378906,120.12931823730469,118.65480041503906,120.88142395019531,121.72260284423828,124.59248352050781,124.89926147460938,126.57170104980469,129.0061492919922,131.61874389648438,129.87701416015625,133.0338897705078,130.6588134765625,133.10316467285156,132.76670837402344,133.43963623046875,131.7276153564453,132.11354064941406,130.56976318359375,132.925048828125,133.32089233398438,132.99429321289062,132.19273376464844,132.09376525878906,130.09474182128906,131.1634979248047,126.52222442626953,126.7696304321289,128.39260864257812,129.0766143798828,125.74584197998047,124.81403350830078,121.70134735107422,123.8822021484375,126.34062194824219,125.17089080810547,123.76325225830078,123.60465240478516,126.20183563232422,124.33819580078125,125.99365997314453,125.79541015625,125.74584197998047,124.18950653076172,123.52533721923828,123.19820404052734,123.97142028808594,122.46465301513672,124.79419708251953,124.80411529541016,125.63680267333984,126.02340698242188,125.01229095458984,126.24148559570312,129.34423828125,128.51156616210938,129.01710510253906,130.64283752441406,129.3244171142578,131.14840698242188,132.81378173828125,132.53622436523438,132.24874877929688,131.9513702392578,133.60682678222656,135.14332580566406,135.76785278320312,136.07516479492188,138.74172973632812,140.78379821777344,143.31161499023438,141.99317932128906,143.84689331054688,143.24220275878906,144.37228393554688,147.8517303466797,147.18756103515625,145.1157684326172,141.2100372314453,144.8778533935547,144.13436889648438,145.52220153808594,147.26686096191406,147.69313049316406,145.49244689941406,143.71803283691406,144.37228393554688,144.59036254882812,144.25332641601562,146.07730102539062,145.67086791992188,145.77993774414062,145.08499145507812,145.0353240966797,144.5488739013672,144.80699157714844,147.81512451171875,148.0236358642578,150.02902221679688,149.1057586669922,145.30340576171875,145.6409454345703,147.12017822265625,148.6292266845703,148.5398406982422,147.2889404296875,146.47488403320312,147.5272216796875,152.01458740234375,150.73391723632812,151.4090118408203,152.540771484375,153.18606567382812,155.55882263183594,153.990234375,152.95773315429688,147.8945770263672,148.47036743164062,147.05067443847656,147.95411682128906,147.71585083007812,145.00555419921875,141.9080810546875,142.39454650878906,144.79705810546875,145.77001953125,145.85934448242188,144.32052612304688,140.88552856445312,141.79888916015625,140.47850036621094,141.62017822265625,138.13551330566406,140.09129333496094,140.97486877441406,142.2555694580078,141.8683624267578,141.77902221679688,140.48841857910156,139.8927459716797,142.72215270996094,143.79434204101562,145.49203491210938,147.68606567382812,148.18243408203125,148.40086364746094,147.6165771484375,147.56692504882812,148.24203491210938,147.7754364013672,151.46856689453125,148.7185516357422,147.8846435546875,148.9369659423828,150.39637756347656,149.8701934814453,150.4070587158203,149.57191467285156,149.93975830078125,147.06646728515625,147.01673889160156,149.12452697753906,149.13446044921875,150.12867736816406,152.6043243408203,156.9590301513672,159.62356567382812,160.0908660888672,160.4786376953125,161.00555419921875,155.90516662597656,159.31536865234375,164.34617614746094,163.81922912597656,162.8150634765625,160.90614318847656,164.36605834960938,170.19224548339844,174.06973266601562,173.552734375,178.41452026367188,174.72593688964844,173.32406616210938,178.26539611816406,171.2659912109375,170.1524658203125,168.77049255371094,171.99179077148438,174.62649536132812,175.26280212402344,179.28945922851562,178.25543212890625,178.3449249267578,177.17173767089844,176.54537963867188,180.95974731445312,178.66307067871094,173.91065979003906,171.00750732421875,171.17654418945312,171.1964111328125,174.06973266601562,174.5171356201172,171.1964111328125,172.07135009765625,168.82020568847656,165.27081298828125,163.5607147216797,161.47283935546875,160.68740844726562,158.85801696777344,158.76853942871094,158.30125427246094,169.34715270996094,173.77145385742188,173.60244750976562,174.82534790039062,171.90231323242188,171.61363220214844,170.8869171142578,174.0426483154297,175.48609924316406,171.34483337402344,167.88052368164062,168.11944580078125,172.01182556152344,171.77291870117188,168.11944580078125,166.5465545654297,163.57997131347656,159.34912109375,162.00709533691406,164.1075897216797,164.37637329101562,162.4650115966797,165.8098907470703,165.4813690185547,162.43515014648438,158.5825958251953,156.73095703125,162.2161407470703,157.8061065673828,154.0331573486328,149.94166564941406,154.3915252685547,158.8712615966797,159.89663696289062,163.24148559570312,164.6352081298828,168.05970764160156,169.44345092773438,173.28607177734375,173.93313598632812,174.80918884277344,178.15403747558594,176.9694061279297,173.82363891601562,173.5249786376953,177.63638305664062,174.2716064453125,171.05616760253906,171.36474609375,169.32398986816406,165.0035400390625,166.90493774414062,169.63258361816406,164.54559326171875,164.32659912109375,166.64608764648438,166.4768524169922,165.67050170898438,161.0613555908203,162.14645385742188,156.09384155273438,155.86488342285156,162.9030303955078,156.94000244140625,157.2486114501953,158.7617645263672,165.27232360839844,156.06398010253906,156.8017120361328,151.59759521484375,154.04013061523438,146.05450439453125,142.12648010253906,146.66265869140625,145.09742736816406,148.7861785888672,140.39178466796875,136.9323272705078,137.1715850830078,142.6748046875,139.93316650390625,140.0926971435547,143.34275817871094,149.18495178222656,148.38739013671875,148.25778198242188,150.75018310546875,144.9379119873047,145.6956024169922,148.25778198242188,147.51007080078125,142.20623779296875,136.71299743652344,131.4789581298828,132.3562774658203,135.01815795898438,129.66448974609375,131.15992736816406,135.4568328857422,134.93841552734375,137.8495330810547,141.22921752929688,141.22921752929688,137.02206420898438,138.80661010742188,136.3042449951172,138.50750732421875,141.1295166015625,142.4853973388672,145.90496826171875,146.5928497314453,144.429443359375,145.41644287109375,145.04757690429688,148.0185089111328,149.71334838867188,146.62277221679688,150.5408172607422,152.57461547851562,154.87759399414062,153.6214141845703,152.48489379882812,151.13900756835938,156.31320190429688,156.87152099609375,162.01580810546875,161.01885986328125,159.52340698242188,165.62481689453125,165.3057861328125,165.076171875,164.59695434570312,164.64686584472656,168.95973205566406,168.21096801757812,171.8149871826172,172.90318298339844,172.74343872070312,174.26092529296875,173.86158752441406,171.23594665527344,167.29249572753906,166.9530487060547,167.25254821777344,169.7484130859375,163.34901428222656,161.1127471923828,158.64683532714844,156.95962524414062,157.6984100341797,155.5519561767578,154.27407836914062,155.70172119140625,154.20420837402344,157.109375,163.15933227539062,153.58522033691406,155.0527801513672,152.11764526367188,150.45042419433594,154.22415161132812,156.64015197753906,153.46542358398438,152.48704528808594,150.1808624267578,150.5203094482422,151.5086669921875,149.5918426513672,142.24403381347656,137.9711151123047,142.21408081054688,145.85804748535156,146.15753173828125,145.18914794921875,139.8579864501953,140.18743896484375,138.7498321533203,138.1108856201172,142.75320434570312,138.1508331298828,142.17416381835938,143.51193237304688,143.6217498779297,143.15252685546875,147.02610778808594,149.20248413085938,152.08770751953125,149.1026611328125,144.56019592285156,155.48208618164062,153.08604431152344,150.40049743652344,144.78981018066406,138.65000915527344,138.3800048828125,138.9199981689453,139.5,134.8699951171875,146.8699951171875,149.6999969482422,148.27999877929688,150.0399932861328,148.7899932861328,150.72000122070312,151.2899932861328,148.00999450683594,150.17999267578125,151.07000732421875,148.11000061035156,144.22000122070312,141.1699981689453,148.02999877929688,148.30999755859375,147.80999755859375,146.6300048828125,142.91000366210938,140.94000244140625],\"high\":[66.32416705211273,66.14537947869482,66.39763054144619,66.7552221249565,67.4263009255288,68.77091730888273,69.01092027441767,69.04276726306732,68.86643620186167,69.22645083943517,69.61832822880275,69.77509392168598,71.02170852451522,71.9989476794219,71.68546188819064,71.92791765554566,73.6227532709798,73.61786140779569,73.46600684095525,73.69623975199961,74.56324451209697,76.03032124693294,76.57894679121559,77.65660658440824,77.77905749227989,77.27206220522292,77.3210423067268,78.06560023915696,78.13417424997003,78.37175788212363,78.26643564538186,79.18978162592443,76.35852136112565,77.98232418875281,80.29681073238784,79.37591167003217,79.03058438008034,76.7797820865908,78.28601765898298,79.54002216911746,79.65268962296366,79.39490183810997,78.94072723388672,79.51765447676871,80.33272714032142,80.08721806867904,80.02830176226746,78.49882272941565,79.68214217217218,79.70179482032233,78.67069195251214,74.67638056440117,74.2713029041434,73.12974303034119,70.21318869988217,68.34983679254012,74.00373077662645,74.63219146625927,74.48488439180457,73.5397268389517,71.39649473253604,68.27128111806324,70.32120730574748,69.03969117831444,66.28517434317837,68.72053522480704,63.604298082985444,63.243417716548606,61.375161490965624,62.07238552370684,61.8244310372461,56.09689613495687,60.808054444015426,63.40053622971065,63.506107090279855,62.816245344341475,62.73032976109352,64.44146460951832,61.06092178839802,60.18448453477234,60.31950388247012,64.59367047043882,66.70252507452545,65.63950611736435,66.30235539394546,67.19353952176856,70.7655509951357,70.2941855560959,70.75329200592888,70.44641549242323,69.15262410661074,68.06504890494008,68.2246205909595,69.16981487726115,69.47912143737454,69.85475969228719,70.17145084237839,71.11417314349038,72.30730043288393,73.40470066444642,72.1010851962763,73.89568543838918,74.4456083926177,74.91944630247235,76.39738022258109,78.04668153750966,78.69655760112346,77.77588717652479,76.25952409186301,75.79426955126935,77.9113002561186,78.40854534928019,78.65471839043695,78.991953651931,78.58332906576616,79.81659079075754,78.45531782698902,79.61966946728685,79.05597361711939,79.35134644369029,79.61967264886374,80.29908862744209,80.15631342987051,81.66531633287893,82.12070940853576,85.07716171561152,87.33202298479516,86.41876297690288,85.61625903657148,85.0943825443143,86.94554927854331,87.48713683418949,87.0070989316356,87.77267462180372,88.48655280955536,91.66699660556645,90.78327186034407,89.85029278774198,89.92908672870169,89.15366337873475,90.09154418811467,90.4312472535787,91.19682495730073,92.50395903500664,93.20307460532591,93.91203808323648,94.84006543521667,94.50775419456949,98.42177445224694,95.76318305493984,97.72513569745416,95.91088639999931,95.65734381713985,96.98910138556617,97.72760269322346,96.47213433428108,95.58840465075735,91.54393203599435,93.44924161942158,93.09967275715974,93.76924890089846,94.82037254685203,104.78269479102552,109.92506830691244,109.0905696195682,108.6991769507832,112.65750597118888,112.1331351533622,112.23179423809913,110.95679736440097,111.73855493764331,114.46853172636759,113.44015924142874,114.51291504739683,114.42659910128786,115.57332797831491,116.78664476994302,123.17383222048521,127.03818798169998,123.48208513880554,125.27000747350253,125.7558279723926,124.72745705766307,129.223147917673,132.9716166120441,136.10844205980268,127.0924414097518,122.02215373294885,117.37603550291462,117.5240046284715,118.86556551467893,113.66703448715012,114.35754878862934,117.2182153538547,114.4266036646814,110.67813273727084,109.37604172225646,108.69540738788524,111.32920291170313,110.589367975572,108.75460846232524,110.91488295675978,113.75582106043221,113.74597215678115,115.66951089439938,116.12326513474781,113.8051380473787,115.06778199577909,114.54498009757255,113.9826996790874,114.82117226850913,115.41302999081888,123.4820884331761,123.68923248059505,121.36124258040657,119.55605208131033,119.90131410986429,118.78663936905289,117.36618488553368,117.09984435472951,116.43893252686067,114.96913493396174,114.96914097965501,115.689232399608,113.8643322857782,115.34399183328179,110.47099619684097,109.17877476225298,109.97777009853796,114.02215719144274,117.99749041627896,117.78604945647126,120.54295692013959,116.19515449275085,118.21095530466135,119.10027851499189,118.25047721888276,119.55482651946747,119.23861615130419,118.39869653863505,117.64771270091867,117.36115016818157,116.22479626432568,114.47579773705856,115.36510892681909,116.09633408936067,119.53506355641507,122.0054009909688,121.90659420394212,122.3117140819563,121.40263048192993,123.09234680969344,123.49749088346373,124.45597514262191,122.40066136588368,121.30382409027739,121.88681791112913,126.38287275899931,126.84726965996661,128.0429290320229,127.5686213797753,126.78799145238494,132.81561567450032,130.85913498013582,131.8769025638987,135.7108872695481,137.1436714117604,134.37691266479257,133.14172915250597,132.0251311983447,130.17729943812822,129.49550882302822,130.06861957927504,131.05673384902636,128.62590632880097,128.15162855743316,129.8907266492701,129.44608721147563,128.67534116073972,127.1832488224687,130.91843264243647,138.0132652896063,138.19112618878017,143.36895887868096,142.58831447007339,142.5883279149893,140.30572198338456,135.11799760226708,133.77415544873054,134.6930978390031,134.15949050390856,135.77016037620277,135.9928557734464,135.5376276729387,136.44806267122848,135.56732204184615,134.9735324745745,134.122468550557,134.5974834213827,130.84685905427867,128.6498966258562,129.35254331246887,128.37280420397985,125.39406549517248,124.25601305576443,125.14666809043253,123.553384261808,126.60139028227528,127.38319837183248,124.4044454228206,122.31637227099056,120.67360803704646,119.74336916053974,120.79236303655712,120.90122162092308,121.93040808295405,119.91160911102548,122.71221454455886,125.89877291742624,124.55289185156984,121.90072416337004,120.16890583262766,122.58356172025476,122.94972937597241,121.6236415032318,120.3965184894709,120.21838730916663,121.30696205232763,119.14960774992234,122.23719110943972,122.89034844182356,124.8497854385458,125.80970512164843,126.59149001851466,129.03583651953463,131.6583218369738,131.4702941305642,133.26151201158746,133.59797002514122,133.5979719764681,133.271406421975,134.06309829416725,134.12248115541172,132.360944283589,132.75680316834337,133.71672847854072,133.65735770473216,134.00370423979862,133.61778135222085,135.64649349003741,132.17292341887872,132.67762198754073,130.12442849723612,129.09521557428837,128.40249935284814,130.1174627207821,128.4124219297406,125.17089296887632,123.55507269140227,125.05193116270581,126.77679443499858,125.82514952766786,125.88462420488167,123.83264616050273,126.60827044315172,126.88582495238396,126.82635214860326,127.20305562258979,126.28114249720356,126.52896465709985,124.70498132602285,124.25888992740406,124.14985379136884,123.76324776400317,125.06185111821718,125.2204576247638,127.34183988446868,126.63801297747256,127.0741876545455,126.33070612711832,129.40371359370513,129.4632166319185,129.75066922828108,131.3962318440567,130.36526528469057,131.2574501001991,132.91291734977827,133.1508379491899,133.4680381242167,132.72457966936256,134.0727369487992,135.30193672584394,136.21393278047907,136.13464011668796,138.78137490230222,141.9039519033873,143.62882172301087,142.8060338027429,144.38218623516985,145.04636786715048,146.1764491049925,148.2680878029359,148.69433452696776,148.4564299059679,142.8159461848172,145.8195963631086,144.85802554860788,146.9100093699731,147.42547187634926,148.52581513086986,147.9112103749654,145.69071653977244,145.2743665202697,145.05627264491676,145.67087173058115,146.7513746843465,146.50355249379894,146.5531471510094,146.04799008245527,145.64092090987205,146.64364175419732,145.66078357370958,147.97397306658465,148.36117772914653,150.0985241406979,150.58499244215355,149.63193087216786,146.93156354952933,147.42793782396225,149.1057572476367,149.77089419664173,149.23479720329843,148.0434796378346,147.67613272886896,152.38192659012006,151.69691586609366,153.86118191191372,153.60305426481054,153.51368512402004,156.12469979838258,155.9062940959472,154.98299916236704,154.35757545654153,150.32686262708447,149.97938966225493,148.3611605723309,147.89455925410556,147.74563876959647,143.794358396653,143.55611340524726,145.37285752878267,146.01821475312806,146.40537691907133,144.90627825148897,143.70502243281712,143.40718927299793,143.33771426716405,141.88823328625858,141.18335748737573,141.21314043880406,141.12377982986368,143.17886357854405,143.13912056869756,143.76458379708646,142.21586278475985,140.37919886788706,142.84129669898005,143.85390645471477,145.7799346898761,148.093109435624,148.66890205310764,148.5597122046088,149.09581082098862,148.29165073003142,149.75105080668752,148.64907325314067,152.0642262576946,148.85754032755958,148.6192916958809,150.4757790683375,150.87290813348224,151.32956729390574,151.32174816407235,150.69539905977695,150.5561757765699,149.26372177480076,148.56773477525977,149.53214964886567,151.003617208153,150.61585535883862,154.10560574825575,157.75441690632866,160.09085480054026,164.74385367348816,160.86638671540297,161.20439709785055,159.52416235454638,160.25988380985393,164.56490790004904,169.31731805965157,163.25252700752526,164.00815040341917,166.91128390882116,170.58994649556547,174.94465963136815,175.73009984996457,178.59348950210148,181.07906420944948,176.7143930945743,178.46423903279873,180.09475521134792,172.46902278147712,169.59570502998537,172.2005705001319,174.84522709829068,175.82952030853437,179.37893626832664,180.28366916576843,179.58771202727155,179.52807248459536,178.19578945323522,181.8247374938345,181.88438030728767,179.130365789669,174.288468347727,173.13517812449018,171.50461990648532,174.16914653069787,176.15760853419263,175.6008413359915,172.7772447244718,171.54438535065597,170.09283351603224,168.7008802061988,165.370217720934,161.36349257070873,161.82081716470665,163.4414158729681,162.89459063834667,169.36704155248356,173.99018559010867,173.83111609162236,174.8651255842545,175.2230520407535,173.31593781323846,173.1665972058991,174.56031072901186,175.85442803998657,174.68970184398432,172.30053042801637,168.81629027969024,172.17110863974193,172.5593542277633,171.13579883739982,169.77195325352088,165.9392928568214,165.40172603047597,162.11660055239162,164.3763628162782,164.67502527189285,165.849708515611,166.60629096653253,168.14930737740656,164.80443650321237,164.2768370325082,162.1464599255113,162.67407578995943,159.66768012775296,158.56266911338648,153.42590311313617,154.86937445338154,159.27941875285043,160.27493047950333,163.73923376575104,165.60084090374724,168.65699636081558,171.86249991705532,173.35574862897565,174.49061155197825,174.9385930565758,178.20380014214706,178.80111592917942,177.22823501437304,174.09241888864904,177.6861609154981,177.49702041800688,172.84806436343942,172.57925289147934,171.00638132225865,168.26876724815926,169.10497638286253,170.26970071833287,170.49867267018354,165.84970740791573,167.064209492619,168.11943052885604,170.75748869471153,167.11397551504817,162.43514112153832,161.608885030912,159.07036795436642,163.7790720889061,165.45149975676915,157.5173845301029,159.98623605764243,165.73024346542968,163.3410565995918,158.95514715090755,155.35613520452472,156.26336015261032,154.97728506762394,145.75541044545304,147.6496537097199,147.0714174295219,149.31456568432304,146.91189034473368,141.2292182060907,140.272128179785,142.8243424542106,141.5382711099196,141.35882424900942,143.90105276282335,149.22482345081568,150.20186301709586,151.27856658431048,150.80999821387627,147.52003228349827,148.1182209429532,148.5468934036497,149.4142510644879,147.50008789622572,140.33194839177074,134.7888541080491,133.48284605572456,136.92235341124507,131.98740612470633,132.67530935109914,136.64321669108614,137.34107531248333,138.16855206887655,141.4784572827176,143.05365434982312,142.98387550113446,140.24223363375714,137.949221372376,138.61717342331295,141.17936759509803,143.68174525494817,146.10435703635997,147.1013085749407,146.1940650231533,147.99856307491393,146.00464906836694,148.49704498771322,150.40125261161174,151.1090878632022,150.77011358385616,153.2525555836581,155.0969262014118,155.80475690708397,154.5685347009658,152.6244669103347,156.8515683073005,157.1606324426124,163.13241257463397,163.092536630918,161.91611775288482,166.083409552577,166.68159456040644,165.57534383079556,167.53208785668818,165.5453844494596,169.05955730846873,170.70682775010692,171.88486333251956,173.10284871727785,173.42232047417798,175.85826634245387,174.61034546419793,173.45227128874944,169.57869657072,168.43060866897252,167.83158949349544,169.85823152491722,170.76671693740585,162.63021898743415,162.2907845266709,160.31406127343777,158.15763969999333,160.0944238386611,156.8298362614536,156.41053682892846,156.10105572600887,157.55864194276378,163.98795952015158,160.27412135126607,156.83982416493836,154.98290242890369,151.09935687596484,154.30402094627766,157.81820570217937,158.47711416392738,154.21417588495666,151.2191485918326,153.51534105631126,154.46377168208483,150.39052079848423,146.47701740994071,142.86300904965964,142.83306436689293,145.97784387665592,147.13591966730942,147.29565421489838,142.86301119157918,141.6550056155542,141.1159175755205,140.1275444780847,143.35220156489618,144.28066403872864,142.6633425983608,146.45704376460742,144.70994104117318,145.6483865295187,147.60514906774915,149.9811911088892,152.23746824607005,151.73828830588909,148.8031573850313,157.23916598091603,153.9845629284234,155.19255104375597,151.91798479983692,142.56351551258913,142.6699981689453,139.14999389648438,141.42999267578125,138.5500030517578,146.8699951171875,150.00999450683594,150.27999877929688,153.58999633789062,149.8699951171875,151.47999572753906,152.6999969482422,150.3699951171875,150.4199981689453,151.8300018310547,148.8800048828125,146.63999938964844,144.80999755859375,148.72000122070312,149.1300048828125,148.0,150.9199981689453,147.3000030517578,143.3699951171875],\"low\":[64.88159574842395,65.11426349601302,65.7608388012025,65.47184703264088,66.35600445302711,67.83777503502873,68.28350953002176,68.3618917296642,68.32027071469045,68.22473162297501,68.66803991407627,69.292602387646,69.72853478803067,70.5661678664399,69.85591361751253,70.90905219546201,72.29773877755555,72.61859366063811,71.70014040325958,72.85861966025138,72.78023201480548,74.9943170543767,75.49639982936195,76.206680249175,76.4564941958543,75.81478894568708,76.43687956059827,77.14960415620428,77.39452044784692,77.71537567167276,77.30879998280936,77.76680059410057,74.67103052181022,76.46137702750151,78.71218223220387,78.06804323094346,75.50619836019911,74.01954307563842,76.81405010460821,78.11704113476358,78.43789146042451,78.06919994129731,77.05037681457834,78.24350557696594,78.92109832993798,79.38263243951421,79.25988355612907,77.23694595470323,78.56020248237049,78.12076983071154,76.22795731233566,71.00615060531774,70.24509420012495,70.3359441209733,67.01185799843925,62.93900037453601,68.1804539383131,70.16407700664278,71.96359579662601,71.54135516860957,69.04214459919076,64.56667686900236,66.13050938113562,66.7418012621472,60.88416013743791,62.099379613970186,58.92014949467586,58.527352412376324,58.213111972217455,59.56091483907246,55.97414991859739,52.19589112250332,57.52080100679328,59.9758032697053,60.48154099467463,60.65093172379199,61.22786317293176,61.86616513299701,58.70657146086103,58.15910411554406,58.66728569582597,61.22295144288469,63.58466403431031,64.13213605610741,64.98401824036407,65.26144286505759,68.26144177054705,68.8948365904449,69.31711167092885,67.96930730649564,67.9668592153985,65.16322969275001,66.82527155648917,67.48076904195044,68.00366055635668,68.72791256519432,68.2982870868209,69.69517975478524,70.79010833383536,70.17636833765467,70.29174663717268,72.29010931147914,73.37277184187006,74.13384112449602,74.90561953778388,75.63180128260403,76.53522732993561,74.6397378543301,74.22619701111127,73.90125841308199,76.39000084081557,77.0521800577897,77.91622263654152,77.75619955537947,77.62820677152833,77.91127481534375,77.07187044558736,77.69711993889882,77.90392197602819,78.08605382581817,78.509465196255,79.33903836884421,78.96487473053706,79.56799124484829,80.57479230600258,81.72932059037264,85.19531090839692,82.58351209062886,82.2733387119844,81.86961699720628,84.85806573490683,86.42616510475962,85.96581735953657,84.96392841997175,86.44092031833088,89.17826257525678,88.25515029112064,88.02128726081123,86.90124978783547,86.47292045646071,88.61947356172104,89.58198179294153,89.51551989119754,91.0491217939815,91.63008275239696,92.64674515686045,93.22030169843006,93.25231007505477,93.79632812868554,92.43749632331618,95.0099334153685,94.43389516337936,94.36989698680098,94.58899037412132,95.2585655755493,95.12068987489583,90.59863893705614,87.7775992996819,92.04610434273637,91.81714677869313,92.2750243719924,92.32918196271945,99.27843623212534,106.2375183768316,106.72491816963056,107.22710624491835,108.11329833366194,108.79651509395272,108.50799561081821,107.62757551032732,108.80144043625418,112.3822136412517,111.51167472810589,112.41673810089348,112.46112467344697,114.04188790890822,114.16272097435659,117.63252612885069,122.25643495178402,121.38343969254984,123.38591059808172,122.1528655973734,122.88775564382802,124.29096669944121,128.75952938507675,125.27737843772753,118.86556678961345,109.38590854316563,111.1516257982539,113.69663500025938,110.97407568797826,108.50797040121897,111.2700061967741,112.06901719002991,110.52031706337576,107.2354726898088,104.65101148268171,101.70157080987465,107.67939156316628,105.3217945163441,103.5758175831669,106.20957831343277,111.25027223624998,112.0295750294235,112.07888372924383,114.25890140765961,110.69786275945536,112.00983134047388,110.72746909946987,112.58195463209476,113.03571767424359,113.36124098476357,117.66211313042535,118.02709089302184,117.99749910458227,116.54742649760225,117.19847370632498,114.091208714014,114.0616175244674,114.87049636016314,113.03572304603153,112.7299206854187,111.34891444188212,112.98639941073165,109.59306168033983,110.6781450262208,106.25891661906898,105.8643480471543,107.25521159856449,110.82610599819975,115.2847911085201,114.75246602405785,114.67342211180399,112.77619760283103,115.05879996902253,117.16352883263878,116.47183327350751,116.74851793621797,117.54890099802269,116.60028565466966,115.42440210957757,115.89871010977208,112.40069942483679,111.25446541004206,113.80384911230776,114.84140211858335,115.42440556577878,118.586444389722,119.4560085175728,120.76033780407724,120.07852169407002,120.79986701734138,121.62990312274543,119.56469517379709,118.72478666175947,119.12003999515292,120.09829058585161,122.65758765670861,125.0587423005223,126.52118800686662,124.6239668330799,121.98563990092106,128.1120697299038,129.22871297637522,129.5448963082019,131.92631641913354,132.74646016617098,131.81762339301355,130.1575479554538,125.25638676961194,126.90655014629793,124.88089788842436,126.3433348164011,128.68519385416764,126.97571787470544,125.3551960133438,126.96584684781136,127.23265250596188,125.49353535726918,125.434240337824,127.02516580833635,132.0053830194595,133.41841711908398,134.92037477998565,139.69306232912595,138.7444713881024,135.0784634477176,128.6654575703892,129.37692836008148,133.0132661364373,132.02510896397993,132.99349490215303,134.4490591949313,133.51880535213607,134.43914628849816,133.00420851429243,132.3807470972342,132.30158126962556,131.4109230329942,128.12541858326674,126.08679846331023,127.46237562262384,124.29558942653793,117.16047229660344,120.960602008914,119.2881511577376,119.94128937518629,121.5147720752306,123.7117289431895,120.57463435783272,117.38809541955395,116.34898947050795,115.00311421915698,117.55632641900772,118.20946852832951,120.00066272603156,117.9224890378951,119.16939234486291,123.42473637228002,121.06944429604177,119.07042586294955,118.43708021557597,119.0110524539514,120.87153999636331,118.82303024301787,117.7641399719043,117.68496874892188,119.47617651353825,117.62560025246259,119.89180935797131,121.21789725498547,121.79187230346815,124.34507969817874,123.84036280808387,127.18526220123387,128.1254055108665,129.27334870303721,130.55985315259028,130.29266090933683,132.25209550661828,131.89584262823573,131.955214250479,130.4411132065021,129.93639168873855,130.045268611668,130.78747753123116,132.17293566873946,132.71720235849534,131.69792641342593,131.0744633309781,129.7087927317138,130.4608800927385,125.38416613229735,126.64097570798162,125.80970628176946,128.3529576583037,125.70618924948413,121.70135834435692,121.1858770097073,123.17838323790942,124.75455049138064,124.08046717181993,123.69386186987934,121.79057961788365,124.01107334692051,124.12010957906682,124.84376109453967,125.22045690682849,125.31958458087605,123.99125044398117,123.46586190729442,122.86116719936301,122.97021721803988,122.05821820986671,122.77195323840866,123.74342932511294,125.11141721354832,125.41871606101314,124.84377251469544,125.0023661698266,125.96392441065032,128.2637422521141,127.34182838961748,128.52146559326,129.10633089497486,128.08530730027496,130.47432349107504,132.07031420322323,131.77291600364543,131.65397850630094,132.18928126016573,133.18056482784033,134.6873290774825,134.5782986092727,136.5509599485152,138.85077492085867,141.41823672650995,139.4455425099917,141.40829967933962,142.74655499837803,142.3797853165828,146.39452462769367,145.8096608069118,144.6102131005284,140.43682797188308,141.71563297158278,143.37108220321372,144.54081341884157,145.64113690387668,146.41435075400105,144.2830651616384,141.29926913619502,143.3215130680543,142.85559542006334,143.9856723938504,143.91626903586175,145.00670176271262,144.89768520933026,144.57867867982526,144.4694469934253,144.25103666592273,144.47937213268102,144.78714020985268,147.19962591269945,145.41259778492315,148.01369366974308,145.09491511789204,143.45683062774992,145.7203537632016,146.82235827880044,148.07323256611025,146.7329856796932,146.4451018187623,145.7699955561876,147.53715156113435,150.1978070977816,151.2402409031648,151.2997954223523,151.9847943564578,153.2754238111941,152.8683871951633,152.8385891665528,147.62652193243076,147.67613978458527,145.84941825835543,145.31331633955773,146.15719282748358,144.70771694392135,140.25013904075044,141.749245031764,142.6625707036481,144.58860785132904,144.50916207026674,142.7817281504307,140.6671155740808,141.00466145862492,140.26008735163066,138.10574077758397,137.27179889849654,138.35392700886229,137.37106974621003,141.6896922184693,141.53082060906831,140.78624142665208,140.02181034795194,138.19508414061116,140.48839606090831,142.47394199237362,142.1265084755349,145.4920285991745,147.05066474914145,146.80248601916205,147.56693507952724,146.5542844766955,147.93426014219608,147.41803468744004,148.63913568645097,145.35302567443514,146.73301412154242,147.57684607238897,148.7384353492072,149.5524963599352,149.19409734143946,149.29353157762523,149.19408612687982,146.9968790893196,146.82783282384352,146.62900057378218,148.56774221755563,148.478252505788,150.11875005455812,152.16685112225184,155.626758425015,160.07097724761283,158.14219156736792,158.71882293810157,155.45776626701243,157.87372348637777,158.9972153862923,163.58060854057484,156.88946247736482,158.7983809195449,163.3320509844665,167.36863656535334,169.7150018512266,172.91642797247195,173.6819922567765,174.51714197280188,171.21630404374005,171.31572474672893,169.76470992576907,168.71083582700155,166.49371320263393,168.1441117511219,171.1566284165498,174.25863563534787,176.04827558583963,177.49982303579066,177.11207466158146,177.0623717920286,176.23715568034442,176.68457162105662,178.08641564312208,173.6322766837181,170.64958402764074,170.04312281538412,167.19960356892346,169.83431972788244,173.81124103846915,170.798710158121,170.1027642699142,168.43245671323794,164.9824930256262,163.23261711576475,161.363473488319,153.807340350361,156.11394851397696,156.90933478874848,157.36667592581514,161.8606040134593,168.53185944927247,171.31571617897487,172.32983679925042,171.12681526126593,169.91132659105838,170.18010798065197,170.6579512297869,174.11230938896466,170.77740833192377,167.28321972507666,165.80988673917378,169.48327125260457,169.28417752958163,167.71128860953797,165.4415529285655,161.41973081666197,159.03055494441176,151.31545815417417,160.14550306199234,161.6984853395987,161.24055526165984,162.21614785818323,164.8044387303815,161.3699768685901,158.32375701299947,155.0983435284274,158.69209005727862,155.2775369968631,153.80419742445676,149.42401844879706,149.70274596671578,153.7643755621634,156.920112261345,159.040489825293,162.27587120886042,164.1673131159355,166.8949673539937,169.44345492962842,171.97200682069266,171.22539542072982,175.54582665083754,175.90421764748558,173.61457797406737,171.1656569817865,173.65439738916183,173.63448932367697,169.36382656893872,169.0850660692005,168.43799862305795,164.75466592135652,165.88952711623114,166.01894194864445,164.29671916173487,162.83335451126285,163.17181500796403,165.3519518568213,165.16280403595255,160.77266831895557,157.7463617180189,156.01420001639806,154.68024024008278,158.21423566479427,156.54180995475113,152.5797310990753,155.6160073892082,158.54275793662092,154.25216930268923,153.71113301701791,151.02933644989548,152.46493355950471,145.366600199237,138.37791954127903,142.67482215866445,143.74156232154976,146.23395056543447,139.47456892929358,136.18460800666242,132.20673352522766,137.23140179342516,136.91238193674863,137.91931839275315,136.72295128694586,144.81826627090933,146.3934719186632,147.2309002004097,146.41340519727262,144.02071148406793,144.45936765524692,143.66180030955843,147.0115912654091,142.09657168935152,136.64320300207683,131.0402937347601,131.08017110397645,131.75811279137469,128.64758727023528,129.41524906812032,132.91459925987849,133.5027920398187,135.21756177887553,139.34496560193165,140.5413133758737,136.90243398226752,136.25439726610963,133.36321878696964,135.24746232933964,136.5135914656233,140.65099618671707,142.84429656699703,144.55905999462664,143.34276171616824,144.60890850106705,141.68781457889983,142.81438153960943,147.74933771625098,146.25388703033556,146.46325837796405,149.91273648069367,151.4779599938253,152.94348934213212,151.81693301637966,150.34143723573172,151.69729187237277,153.94045879828096,159.01496687168523,160.40075008502782,159.1445729000321,160.2611721740242,163.9299777052186,162.73005758935318,163.92806575898842,162.97963344395,166.62359568394717,167.91146180297088,169.11944653013776,171.06623385807742,171.37571249263212,172.28420869872858,172.83329450579237,171.02628773761222,166.8631999263058,166.3740074071035,165.97466927601403,168.0712026362684,163.28911608916886,159.55533310963472,157.45880362989854,156.87975590611944,154.41385005392553,154.7133509807654,153.4354731670102,153.35560693533935,152.42714218402796,154.4937188512033,159.0361824280015,153.11599749006893,153.3555986613324,151.12929461647695,148.12428105595117,148.85307212925608,152.8264861970504,153.3456271922269,150.66007421270643,148.31396424749428,149.39217600114358,149.70166694416562,144.60012327378405,140.4470117567928,137.7714493917738,137.46196948758993,144.02108316207872,142.77314673799478,144.97950425826855,139.21904699480626,138.34051201702687,137.9910962668431,137.93119103781746,134.14746929156544,137.96114535238044,140.03770840110545,140.3771332074216,141.26565773324995,142.41374690788328,142.4137486938082,145.75820092287856,149.11264693456073,147.7948178840182,143.89130735565956,147.57520423462256,151.66839785394538,148.88302572715594,144.75986108325935,138.5202195703192,134.3800048828125,135.6699981689453,137.49000549316406,134.58999633789062,139.5,144.3699951171875,147.42999267578125,148.55999755859375,147.2899932861328,146.14999389648438,149.97000122070312,147.72000122070312,146.92999267578125,149.33999633789062,147.1199951171875,143.3800048828125,140.35000610351562,140.5500030517578,146.61000061035156,145.64999389648438,145.77000427246094,141.9199981689453,140.0],\"open\":[66.12823453212653,65.78534768715707,65.83676319404961,65.58450784873412,66.48581142276046,67.84267073204244,68.47210220686024,68.52843510345298,68.45497339711052,69.12358890095594,68.70722790868153,69.7261070502145,69.75792391112321,71.30092597829261,70.89436951220416,71.00947003250286,72.55490108843274,72.77778975726778,71.95485862253025,73.43662580783472,72.78023201480548,75.24902782773704,76.07196187443074,76.32669585416318,77.56597880513345,76.37810798836769,76.80425858807843,77.46064907584717,77.68597509431655,78.02642062473379,77.8647717530988,78.4354332072881,75.93971126505768,76.56179486390256,79.46408643373073,78.50645096261003,78.60197546163369,74.52897215068542,77.22551278217011,79.23631704799834,79.0036546910802,79.14203649018475,77.13138872868495,79.44400728282599,78.92109832993798,79.58885207545868,79.72387587238387,77.4210714184939,78.56020248237049,79.2058861404093,78.22142153510327,72.9775203837818,73.88341521774299,70.34330884161665,69.01023696532927,63.15749954900354,69.29993651837923,74.55117955493485,72.776202225264,72.55035938287412,69.23117738639321,64.75080237338165,68.03805424068614,68.0994270114041,62.83343586378559,65.03066129298783,59.39887496011166,60.7638634436246,58.863690931647234,60.73440768565062,60.68285073207011,55.99378631587504,58.02653172851322,61.55928154733765,60.52082199818653,62.05028457326851,61.556836904686136,62.74996899045691,60.515910047314854,59.003626974564874,59.607553555767524,61.59610972244075,66.48156851085425,64.5028369346627,65.9660207374329,65.87028725231399,68.7401709579809,69.32936996799563,70.55197967005094,69.89158161825254,68.23691143979966,67.82691299682463,67.17142083659647,67.7262697158715,68.0527636691151,69.18208279121319,69.98732534608979,69.90139939176383,71.18536075291136,70.27456710768492,70.99142497545893,72.43741117954062,73.76311694320322,74.44071697650455,75.23794409897202,75.8435072824158,78.2386863981863,76.84045503862015,74.95977205658583,73.93572514973405,77.09157329346257,77.5494311115587,77.95560997823335,78.44300255830373,77.73159196118776,79.63443097239717,77.82267889950374,77.97774434840865,78.58826111452606,78.21898512508699,78.95748766187157,79.91999212833707,79.85353503344476,79.59752987093275,81.29605451432013,81.76132327231947,85.64086930759805,85.98797383470124,84.85807347747013,82.03455098279257,86.51721673379257,87.42559551571969,86.5049197856198,87.30004158274589,86.48769231372704,89.60413106747413,89.85030359082883,88.79178549409278,89.70507546019036,86.95786625311571,88.63916347262712,89.87983959131925,90.55187331397244,91.08112447212591,92.4128863508004,92.7353685487695,94.78590878984512,93.8726437225528,95.77303443209695,93.38522633001315,97.47158580211405,95.08131085740965,95.49980197967604,94.93854830892181,97.65129206792844,95.20930573540917,95.5096299867236,89.59184345627517,92.2725721430702,92.9199694738635,92.31194764857874,92.74273768946183,101.30684287614962,106.54029676836566,107.45849316124685,107.69974676820448,108.71147798630648,111.66950894717374,111.07272854734609,110.45125187099832,108.99872465331433,112.87790026462419,113.27246689920347,114.48825263696165,112.80144636629915,114.4093329793971,114.17998541335902,117.6448535719587,126.95186578422648,123.00613147342949,124.46852800953711,125.41797475543528,124.30328918876135,125.84953777062117,130.95927812554947,135.72373260210605,125.18862669351493,118.44139307139378,112.40439639865185,115.66950733919751,118.72746504478457,113.01598305230593,113.16396189160075,116.72499725426859,113.66705107244609,108.23177530602197,108.90255656693284,103.12204134749382,111.15164407428766,110.10601632301078,103.74350995779692,106.95927189362294,113.45002825001006,112.99628595572179,112.24657607698917,116.04434843628964,111.35877315464535,112.3649489676356,114.13067115274161,113.06531376228367,114.67320533708559,113.71635860219278,118.43153219104286,123.570857429215,119.35877832992627,117.10969477249203,119.63497214136957,118.33287964319169,114.6238858693988,115.08751353564013,115.8569312425125,114.81130153939021,112.46359215340543,113.9235107585151,113.48948923443562,110.84584490960525,109.55361016116026,107.63007000452447,108.17259756783473,112.59182770621386,116.35013638969359,116.9164907092705,119.07063335715333,114.17935942149956,115.79990352593968,118.20107680552923,118.02320969188403,117.50938095553985,118.13190636514274,117.20305044633504,116.19514857501929,117.23269493865345,115.79001312443381,112.55881494348169,114.179346368825,115.1872489184909,115.58251127567796,119.57458239721164,120.57260180246523,122.0547961044079,121.14571250119991,120.85915288318589,122.8947260987593,123.05282102512359,119.07063346695503,120.97773673798731,121.14571442864691,122.86509576660526,125.8986656278297,127.37098732437482,127.43028266337632,123.5370163460552,130.04882660317074,130.5923485213482,129.76228787186943,132.40063357794176,136.41245891474836,133.97177240396448,132.48955440679032,131.93620238865157,127.36110023919089,126.20500694243128,126.8374038536813,130.8590942077807,127.6575354259339,126.97574184309346,127.23263323036996,129.24846261297037,127.25241992219507,126.2642726405136,127.13386161103735,132.21289868276244,134.66346575899934,141.37293069516602,141.89662089506876,141.72863753276044,137.86501988349428,134.21878838992654,132.16348534449838,134.11997594936716,134.14959947485903,134.68321758118782,135.92359059380667,134.61727820601723,135.20113864034755,135.06260888491136,134.48861589241844,132.9547305444121,134.08289467442495,129.8869315710232,127.8582019342484,128.88742319820705,126.680556632279,122.47470543510465,123.64245680477924,123.38515521642688,121.31685309814868,122.46480114170464,127.07642024779078,123.51379080885134,120.48558663300578,119.7235789168548,119.67409643906485,117.79383182346696,120.42621081055992,121.26736814495092,119.14960912855915,120.14911626806808,124.39455446988754,122.76169187481891,121.60383676955696,118.65479664403101,119.08032517309744,122.04918391654492,121.54447051951338,118.29853277359437,119.10011795693379,120.38662015280558,118.86261858967076,120.38661665408331,122.37575214211374,122.5835670281263,125.18625062316394,124.52319925605401,127.61078919622143,128.4519801461068,131.14371952914055,131.06456628685098,133.53859556562574,132.4302339880869,132.90525382446043,132.12344692950595,133.61778308672913,130.98538068158913,131.65833027046986,130.78747753123116,133.42975055397005,133.60784937614892,132.91514826934318,135.0527186329164,130.41141064078445,130.66869067956193,129.82754109875287,127.85819738154831,126.56181552111818,129.71104299643716,128.28356379085128,122.42500746518449,122.3258683673853,123.49559750128805,125.15107024634234,125.7161064077408,125.45836680086859,122.08797132697697,124.13994661034627,126.7073914585253,124.91315147891251,126.70740027141068,125.85488509809916,125.33941301044669,124.47698002526354,123.99124346900794,123.19821096152168,123.59472933581138,122.99003947105564,125.07176177485603,125.49802189388492,126.10271244558686,125.9143660339546,125.42862355484752,126.70739606827901,128.8089578792979,129.23519132570644,128.6701690054911,129.57224098835493,129.16581584172303,130.97989393335106,132.6056223206693,133.27968954126763,132.29832978203615,132.24875657913734,133.62664480562256,134.98472078432332,135.4109984919139,136.6996482283799,138.85077492085867,142.2905665861234,140.34762508623882,141.50743528158833,144.93732475482128,142.77629748794877,146.81088208394985,147.94095534404696,147.16775767209793,142.49872437270523,142.21128079725483,144.26324216006225,144.66968669107783,146.26565792573442,146.9793964819963,147.82198228292324,143.5495143988765,143.43055618407539,143.12324944091552,145.0860110116752,144.54079002210557,145.9880897343333,145.7006322760039,145.29348209702547,145.14453057606292,145.38280604170677,144.99562233141432,145.1346195300428,147.89456950177453,147.4676460618379,149.14546323569508,148.7185743083196,143.98300325830013,146.37559267809078,147.23932441506267,148.3710698002459,148.72846936777228,147.27904926900777,146.41529696748296,147.92433545739297,151.5579271539952,151.72670900485514,152.75918448318168,152.64995561037543,153.8512384806521,155.84672967022723,154.36747996211045,153.8810448495928,149.54257248287047,149.26458633663265,147.48750864787667,147.36838663393357,147.74563876959647,142.76187309495893,142.8909369214647,143.40715616154674,145.59131109420807,144.6084462037055,144.41981025292014,142.21585121589675,141.4414874518988,142.62291079192576,140.87559260603106,140.73659402981673,138.48299335493476,138.46313464828162,142.02723409108066,142.99020951637337,141.24292725551706,142.19600292530146,140.220365453066,141.08407056010842,142.7320746499102,142.41440825330164,145.9486992818354,147.62647934287563,147.7357023566155,148.60935793211266,147.60662961207794,148.25195726650685,148.28174918416659,148.73841982129426,146.1571756162808,147.91442576859353,147.58678357458552,149.30431256072012,150.48571271858052,151.01353940301072,150.53631867086452,149.33327765917852,149.15435589213533,148.10046077967547,147.57351581045359,149.50232059702276,149.07479636495108,150.12868689023622,152.8230463329006,156.7402907248874,160.74704614285213,160.1903025540378,159.82241847185972,158.64925047967537,158.450378518616,159.06681874881656,166.51358307146032,157.82404089883207,163.07357198734798,163.3419878198221,168.10437205980554,171.13675816992443,173.90072083903902,174.19899595911113,180.07488248047267,174.23875566952893,174.0995710638402,178.24548748614683,168.94944123951373,167.3089736725762,170.5700344984383,172.04149219944725,174.8352906549283,176.0681492586359,179.1204222640714,178.29521040858907,178.43441369589706,177.06236817299694,176.80387433376782,181.5761715334321,178.57359957702712,171.70346507569235,171.89239086473282,168.10435621926305,171.3256642347838,175.10372749404806,174.7656920452508,170.35132170738993,170.52032997577606,169.01906352725237,166.0164631777702,163.47123546894298,159.09664993875282,158.06263019007068,162.5565520679295,161.51261196021377,164.75381618545572,169.17811781247988,173.0059036249537,173.74164116159096,173.47319801702386,170.9068230398649,172.08150976634272,170.95660320647164,175.25713933082056,173.35574033020816,171.5539080773467,166.61623643548782,170.20002991451724,171.07607421114074,170.2597570981597,169.05520980399945,164.2369873752477,164.79447259961125,151.89284790941298,163.10212862313415,162.3256529804338,163.95825621648387,163.64966521520103,167.71128651326146,163.74921272116143,162.6243091933775,158.10474693621077,160.7527597751045,159.4785333657766,158.21423928914774,150.7679294993337,150.22039313184166,156.34270750760857,157.89569454147875,159.78711208036492,162.7736194349732,164.76460183514953,167.23344767844202,170.28961778555933,173.096922637853,171.39462800037205,175.8942564571803,177.74589213476534,177.03908825500807,173.24624085514364,173.78381678417725,176.7006202184449,171.58377953907205,170.38916389543385,171.00638132225865,167.95021627633236,167.26331707222218,166.63614486722585,169.85159089618367,163.18176913951493,164.27681659544726,167.99996063613114,168.14929310334455,165.71033713795472,160.39437052186543,161.51929399880987,155.20785213307005,158.53280180423712,161.11113481592176,156.00424100224518,157.43775246731067,158.95091512359198,163.11209667315114,155.5355698326698,154.45886290542302,155.04706894771004,153.03321791508907,142.3358481970326,144.15031741630997,145.10740669554997,148.40732927046932,146.403446691406,139.45463237022196,138.66702358217904,137.37097544648412,140.38179501353008,138.0090410608773,136.9721910271665,144.94787581550264,148.61670168471503,149.44415043321345,147.38045668289442,146.45327879488477,146.58289540841923,143.9110400635914,148.12818055667853,146.63273839368173,139.8534123140927,132.46593780652177,132.72516265725096,133.88162524105692,131.67835125762866,129.6744681514834,133.0142860460048,134.38010567255995,136.40394549077536,139.47455992928707,142.26604821007672,141.69780492676145,137.04200346765757,136.83263208417065,135.62629640698464,137.35104860481295,140.92017941186177,142.85426068139316,144.81826386712297,145.22701359024109,145.31674088440934,142.55517929229885,143.64185936284724,149.3245349425392,150.28161004071202,147.47018154675837,150.66045581308373,154.03017271946675,154.9174639736648,153.5416680281462,151.79698902131753,152.11601284560462,156.50263578343228,160.7496810776541,160.52038030987978,159.61314485544992,160.35089484028686,165.50517491057096,162.93971651353576,166.0944701995919,163.74836247351178,167.402302730013,169.77836000817638,169.5387643636264,171.2359504935509,172.49385275303948,172.4838744257244,173.46225604993703,172.7434404308192,169.408979934634,166.80330321215317,167.04290453472152,168.5004832036769,170.28751615942616,160.8831171219248,161.86150395493547,160.04450416180606,156.38058876667466,159.48543346772217,156.21086793133617,154.56360975588248,154.38390296728724,155.21252767940254,159.32569544917405,159.63518187119254,154.53363708650917,154.39386798878215,150.95958933790186,149.0627158041703,153.14594832394877,157.07942358150916,152.12764089237984,150.93961352435525,149.41214714391592,152.4870549966071,147.39548917193434,145.85804907011808,141.04601595573746,137.98111256382643,144.78981221782533,143.83140400205696,145.56852351086846,142.3039258387853,140.18743896484375,139.6683067212198,138.89958579848155,134.7664528883069,144.0710051179316,140.83638659793823,145.24905620375083,141.4553455060851,142.78314449843526,142.63338556656043,146.9462325321471,149.8414337231216,150.709995351885,147.82478465443154,147.95456456200571,152.90634972825453,154.82316868777446,148.70331632123754,141.82473552414714,142.08999633789062,137.11000061035156,140.41000366210938,138.5,141.24000549316406,145.82000732421875,148.97000122070312,152.22000122070312,149.1300048828125,146.42999267578125,152.30999755859375,150.16000366210938,148.1300048828125,149.4499969482422,148.30999755859375,145.13999938964844,144.2899932861328,141.39999389648438,148.2100067138672,145.9600067138672,147.77000427246094,147.07000732421875,142.19000244140625],\"x\":[\"2019-12-09T00:00:00-05:00\",\"2019-12-10T00:00:00-05:00\",\"2019-12-11T00:00:00-05:00\",\"2019-12-12T00:00:00-05:00\",\"2019-12-13T00:00:00-05:00\",\"2019-12-16T00:00:00-05:00\",\"2019-12-17T00:00:00-05:00\",\"2019-12-18T00:00:00-05:00\",\"2019-12-19T00:00:00-05:00\",\"2019-12-20T00:00:00-05:00\",\"2019-12-23T00:00:00-05:00\",\"2019-12-24T00:00:00-05:00\",\"2019-12-26T00:00:00-05:00\",\"2019-12-27T00:00:00-05:00\",\"2019-12-30T00:00:00-05:00\",\"2019-12-31T00:00:00-05:00\",\"2020-01-02T00:00:00-05:00\",\"2020-01-03T00:00:00-05:00\",\"2020-01-06T00:00:00-05:00\",\"2020-01-07T00:00:00-05:00\",\"2020-01-08T00:00:00-05:00\",\"2020-01-09T00:00:00-05:00\",\"2020-01-10T00:00:00-05:00\",\"2020-01-13T00:00:00-05:00\",\"2020-01-14T00:00:00-05:00\",\"2020-01-15T00:00:00-05:00\",\"2020-01-16T00:00:00-05:00\",\"2020-01-17T00:00:00-05:00\",\"2020-01-21T00:00:00-05:00\",\"2020-01-22T00:00:00-05:00\",\"2020-01-23T00:00:00-05:00\",\"2020-01-24T00:00:00-05:00\",\"2020-01-27T00:00:00-05:00\",\"2020-01-28T00:00:00-05:00\",\"2020-01-29T00:00:00-05:00\",\"2020-01-30T00:00:00-05:00\",\"2020-01-31T00:00:00-05:00\",\"2020-02-03T00:00:00-05:00\",\"2020-02-04T00:00:00-05:00\",\"2020-02-05T00:00:00-05:00\",\"2020-02-06T00:00:00-05:00\",\"2020-02-07T00:00:00-05:00\",\"2020-02-10T00:00:00-05:00\",\"2020-02-11T00:00:00-05:00\",\"2020-02-12T00:00:00-05:00\",\"2020-02-13T00:00:00-05:00\",\"2020-02-14T00:00:00-05:00\",\"2020-02-18T00:00:00-05:00\",\"2020-02-19T00:00:00-05:00\",\"2020-02-20T00:00:00-05:00\",\"2020-02-21T00:00:00-05:00\",\"2020-02-24T00:00:00-05:00\",\"2020-02-25T00:00:00-05:00\",\"2020-02-26T00:00:00-05:00\",\"2020-02-27T00:00:00-05:00\",\"2020-02-28T00:00:00-05:00\",\"2020-03-02T00:00:00-05:00\",\"2020-03-03T00:00:00-05:00\",\"2020-03-04T00:00:00-05:00\",\"2020-03-05T00:00:00-05:00\",\"2020-03-06T00:00:00-05:00\",\"2020-03-09T00:00:00-04:00\",\"2020-03-10T00:00:00-04:00\",\"2020-03-11T00:00:00-04:00\",\"2020-03-12T00:00:00-04:00\",\"2020-03-13T00:00:00-04:00\",\"2020-03-16T00:00:00-04:00\",\"2020-03-17T00:00:00-04:00\",\"2020-03-18T00:00:00-04:00\",\"2020-03-19T00:00:00-04:00\",\"2020-03-20T00:00:00-04:00\",\"2020-03-23T00:00:00-04:00\",\"2020-03-24T00:00:00-04:00\",\"2020-03-25T00:00:00-04:00\",\"2020-03-26T00:00:00-04:00\",\"2020-03-27T00:00:00-04:00\",\"2020-03-30T00:00:00-04:00\",\"2020-03-31T00:00:00-04:00\",\"2020-04-01T00:00:00-04:00\",\"2020-04-02T00:00:00-04:00\",\"2020-04-03T00:00:00-04:00\",\"2020-04-06T00:00:00-04:00\",\"2020-04-07T00:00:00-04:00\",\"2020-04-08T00:00:00-04:00\",\"2020-04-09T00:00:00-04:00\",\"2020-04-13T00:00:00-04:00\",\"2020-04-14T00:00:00-04:00\",\"2020-04-15T00:00:00-04:00\",\"2020-04-16T00:00:00-04:00\",\"2020-04-17T00:00:00-04:00\",\"2020-04-20T00:00:00-04:00\",\"2020-04-21T00:00:00-04:00\",\"2020-04-22T00:00:00-04:00\",\"2020-04-23T00:00:00-04:00\",\"2020-04-24T00:00:00-04:00\",\"2020-04-27T00:00:00-04:00\",\"2020-04-28T00:00:00-04:00\",\"2020-04-29T00:00:00-04:00\",\"2020-04-30T00:00:00-04:00\",\"2020-05-01T00:00:00-04:00\",\"2020-05-04T00:00:00-04:00\",\"2020-05-05T00:00:00-04:00\",\"2020-05-06T00:00:00-04:00\",\"2020-05-07T00:00:00-04:00\",\"2020-05-08T00:00:00-04:00\",\"2020-05-11T00:00:00-04:00\",\"2020-05-12T00:00:00-04:00\",\"2020-05-13T00:00:00-04:00\",\"2020-05-14T00:00:00-04:00\",\"2020-05-15T00:00:00-04:00\",\"2020-05-18T00:00:00-04:00\",\"2020-05-19T00:00:00-04:00\",\"2020-05-20T00:00:00-04:00\",\"2020-05-21T00:00:00-04:00\",\"2020-05-22T00:00:00-04:00\",\"2020-05-26T00:00:00-04:00\",\"2020-05-27T00:00:00-04:00\",\"2020-05-28T00:00:00-04:00\",\"2020-05-29T00:00:00-04:00\",\"2020-06-01T00:00:00-04:00\",\"2020-06-02T00:00:00-04:00\",\"2020-06-03T00:00:00-04:00\",\"2020-06-04T00:00:00-04:00\",\"2020-06-05T00:00:00-04:00\",\"2020-06-08T00:00:00-04:00\",\"2020-06-09T00:00:00-04:00\",\"2020-06-10T00:00:00-04:00\",\"2020-06-11T00:00:00-04:00\",\"2020-06-12T00:00:00-04:00\",\"2020-06-15T00:00:00-04:00\",\"2020-06-16T00:00:00-04:00\",\"2020-06-17T00:00:00-04:00\",\"2020-06-18T00:00:00-04:00\",\"2020-06-19T00:00:00-04:00\",\"2020-06-22T00:00:00-04:00\",\"2020-06-23T00:00:00-04:00\",\"2020-06-24T00:00:00-04:00\",\"2020-06-25T00:00:00-04:00\",\"2020-06-26T00:00:00-04:00\",\"2020-06-29T00:00:00-04:00\",\"2020-06-30T00:00:00-04:00\",\"2020-07-01T00:00:00-04:00\",\"2020-07-02T00:00:00-04:00\",\"2020-07-06T00:00:00-04:00\",\"2020-07-07T00:00:00-04:00\",\"2020-07-08T00:00:00-04:00\",\"2020-07-09T00:00:00-04:00\",\"2020-07-10T00:00:00-04:00\",\"2020-07-13T00:00:00-04:00\",\"2020-07-14T00:00:00-04:00\",\"2020-07-15T00:00:00-04:00\",\"2020-07-16T00:00:00-04:00\",\"2020-07-17T00:00:00-04:00\",\"2020-07-20T00:00:00-04:00\",\"2020-07-21T00:00:00-04:00\",\"2020-07-22T00:00:00-04:00\",\"2020-07-23T00:00:00-04:00\",\"2020-07-24T00:00:00-04:00\",\"2020-07-27T00:00:00-04:00\",\"2020-07-28T00:00:00-04:00\",\"2020-07-29T00:00:00-04:00\",\"2020-07-30T00:00:00-04:00\",\"2020-07-31T00:00:00-04:00\",\"2020-08-03T00:00:00-04:00\",\"2020-08-04T00:00:00-04:00\",\"2020-08-05T00:00:00-04:00\",\"2020-08-06T00:00:00-04:00\",\"2020-08-07T00:00:00-04:00\",\"2020-08-10T00:00:00-04:00\",\"2020-08-11T00:00:00-04:00\",\"2020-08-12T00:00:00-04:00\",\"2020-08-13T00:00:00-04:00\",\"2020-08-14T00:00:00-04:00\",\"2020-08-17T00:00:00-04:00\",\"2020-08-18T00:00:00-04:00\",\"2020-08-19T00:00:00-04:00\",\"2020-08-20T00:00:00-04:00\",\"2020-08-21T00:00:00-04:00\",\"2020-08-24T00:00:00-04:00\",\"2020-08-25T00:00:00-04:00\",\"2020-08-26T00:00:00-04:00\",\"2020-08-27T00:00:00-04:00\",\"2020-08-28T00:00:00-04:00\",\"2020-08-31T00:00:00-04:00\",\"2020-09-01T00:00:00-04:00\",\"2020-09-02T00:00:00-04:00\",\"2020-09-03T00:00:00-04:00\",\"2020-09-04T00:00:00-04:00\",\"2020-09-08T00:00:00-04:00\",\"2020-09-09T00:00:00-04:00\",\"2020-09-10T00:00:00-04:00\",\"2020-09-11T00:00:00-04:00\",\"2020-09-14T00:00:00-04:00\",\"2020-09-15T00:00:00-04:00\",\"2020-09-16T00:00:00-04:00\",\"2020-09-17T00:00:00-04:00\",\"2020-09-18T00:00:00-04:00\",\"2020-09-21T00:00:00-04:00\",\"2020-09-22T00:00:00-04:00\",\"2020-09-23T00:00:00-04:00\",\"2020-09-24T00:00:00-04:00\",\"2020-09-25T00:00:00-04:00\",\"2020-09-28T00:00:00-04:00\",\"2020-09-29T00:00:00-04:00\",\"2020-09-30T00:00:00-04:00\",\"2020-10-01T00:00:00-04:00\",\"2020-10-02T00:00:00-04:00\",\"2020-10-05T00:00:00-04:00\",\"2020-10-06T00:00:00-04:00\",\"2020-10-07T00:00:00-04:00\",\"2020-10-08T00:00:00-04:00\",\"2020-10-09T00:00:00-04:00\",\"2020-10-12T00:00:00-04:00\",\"2020-10-13T00:00:00-04:00\",\"2020-10-14T00:00:00-04:00\",\"2020-10-15T00:00:00-04:00\",\"2020-10-16T00:00:00-04:00\",\"2020-10-19T00:00:00-04:00\",\"2020-10-20T00:00:00-04:00\",\"2020-10-21T00:00:00-04:00\",\"2020-10-22T00:00:00-04:00\",\"2020-10-23T00:00:00-04:00\",\"2020-10-26T00:00:00-04:00\",\"2020-10-27T00:00:00-04:00\",\"2020-10-28T00:00:00-04:00\",\"2020-10-29T00:00:00-04:00\",\"2020-10-30T00:00:00-04:00\",\"2020-11-02T00:00:00-05:00\",\"2020-11-03T00:00:00-05:00\",\"2020-11-04T00:00:00-05:00\",\"2020-11-05T00:00:00-05:00\",\"2020-11-06T00:00:00-05:00\",\"2020-11-09T00:00:00-05:00\",\"2020-11-10T00:00:00-05:00\",\"2020-11-11T00:00:00-05:00\",\"2020-11-12T00:00:00-05:00\",\"2020-11-13T00:00:00-05:00\",\"2020-11-16T00:00:00-05:00\",\"2020-11-17T00:00:00-05:00\",\"2020-11-18T00:00:00-05:00\",\"2020-11-19T00:00:00-05:00\",\"2020-11-20T00:00:00-05:00\",\"2020-11-23T00:00:00-05:00\",\"2020-11-24T00:00:00-05:00\",\"2020-11-25T00:00:00-05:00\",\"2020-11-27T00:00:00-05:00\",\"2020-11-30T00:00:00-05:00\",\"2020-12-01T00:00:00-05:00\",\"2020-12-02T00:00:00-05:00\",\"2020-12-03T00:00:00-05:00\",\"2020-12-04T00:00:00-05:00\",\"2020-12-07T00:00:00-05:00\",\"2020-12-08T00:00:00-05:00\",\"2020-12-09T00:00:00-05:00\",\"2020-12-10T00:00:00-05:00\",\"2020-12-11T00:00:00-05:00\",\"2020-12-14T00:00:00-05:00\",\"2020-12-15T00:00:00-05:00\",\"2020-12-16T00:00:00-05:00\",\"2020-12-17T00:00:00-05:00\",\"2020-12-18T00:00:00-05:00\",\"2020-12-21T00:00:00-05:00\",\"2020-12-22T00:00:00-05:00\",\"2020-12-23T00:00:00-05:00\",\"2020-12-24T00:00:00-05:00\",\"2020-12-28T00:00:00-05:00\",\"2020-12-29T00:00:00-05:00\",\"2020-12-30T00:00:00-05:00\",\"2020-12-31T00:00:00-05:00\",\"2021-01-04T00:00:00-05:00\",\"2021-01-05T00:00:00-05:00\",\"2021-01-06T00:00:00-05:00\",\"2021-01-07T00:00:00-05:00\",\"2021-01-08T00:00:00-05:00\",\"2021-01-11T00:00:00-05:00\",\"2021-01-12T00:00:00-05:00\",\"2021-01-13T00:00:00-05:00\",\"2021-01-14T00:00:00-05:00\",\"2021-01-15T00:00:00-05:00\",\"2021-01-19T00:00:00-05:00\",\"2021-01-20T00:00:00-05:00\",\"2021-01-21T00:00:00-05:00\",\"2021-01-22T00:00:00-05:00\",\"2021-01-25T00:00:00-05:00\",\"2021-01-26T00:00:00-05:00\",\"2021-01-27T00:00:00-05:00\",\"2021-01-28T00:00:00-05:00\",\"2021-01-29T00:00:00-05:00\",\"2021-02-01T00:00:00-05:00\",\"2021-02-02T00:00:00-05:00\",\"2021-02-03T00:00:00-05:00\",\"2021-02-04T00:00:00-05:00\",\"2021-02-05T00:00:00-05:00\",\"2021-02-08T00:00:00-05:00\",\"2021-02-09T00:00:00-05:00\",\"2021-02-10T00:00:00-05:00\",\"2021-02-11T00:00:00-05:00\",\"2021-02-12T00:00:00-05:00\",\"2021-02-16T00:00:00-05:00\",\"2021-02-17T00:00:00-05:00\",\"2021-02-18T00:00:00-05:00\",\"2021-02-19T00:00:00-05:00\",\"2021-02-22T00:00:00-05:00\",\"2021-02-23T00:00:00-05:00\",\"2021-02-24T00:00:00-05:00\",\"2021-02-25T00:00:00-05:00\",\"2021-02-26T00:00:00-05:00\",\"2021-03-01T00:00:00-05:00\",\"2021-03-02T00:00:00-05:00\",\"2021-03-03T00:00:00-05:00\",\"2021-03-04T00:00:00-05:00\",\"2021-03-05T00:00:00-05:00\",\"2021-03-08T00:00:00-05:00\",\"2021-03-09T00:00:00-05:00\",\"2021-03-10T00:00:00-05:00\",\"2021-03-11T00:00:00-05:00\",\"2021-03-12T00:00:00-05:00\",\"2021-03-15T00:00:00-04:00\",\"2021-03-16T00:00:00-04:00\",\"2021-03-17T00:00:00-04:00\",\"2021-03-18T00:00:00-04:00\",\"2021-03-19T00:00:00-04:00\",\"2021-03-22T00:00:00-04:00\",\"2021-03-23T00:00:00-04:00\",\"2021-03-24T00:00:00-04:00\",\"2021-03-25T00:00:00-04:00\",\"2021-03-26T00:00:00-04:00\",\"2021-03-29T00:00:00-04:00\",\"2021-03-30T00:00:00-04:00\",\"2021-03-31T00:00:00-04:00\",\"2021-04-01T00:00:00-04:00\",\"2021-04-05T00:00:00-04:00\",\"2021-04-06T00:00:00-04:00\",\"2021-04-07T00:00:00-04:00\",\"2021-04-08T00:00:00-04:00\",\"2021-04-09T00:00:00-04:00\",\"2021-04-12T00:00:00-04:00\",\"2021-04-13T00:00:00-04:00\",\"2021-04-14T00:00:00-04:00\",\"2021-04-15T00:00:00-04:00\",\"2021-04-16T00:00:00-04:00\",\"2021-04-19T00:00:00-04:00\",\"2021-04-20T00:00:00-04:00\",\"2021-04-21T00:00:00-04:00\",\"2021-04-22T00:00:00-04:00\",\"2021-04-23T00:00:00-04:00\",\"2021-04-26T00:00:00-04:00\",\"2021-04-27T00:00:00-04:00\",\"2021-04-28T00:00:00-04:00\",\"2021-04-29T00:00:00-04:00\",\"2021-04-30T00:00:00-04:00\",\"2021-05-03T00:00:00-04:00\",\"2021-05-04T00:00:00-04:00\",\"2021-05-05T00:00:00-04:00\",\"2021-05-06T00:00:00-04:00\",\"2021-05-07T00:00:00-04:00\",\"2021-05-10T00:00:00-04:00\",\"2021-05-11T00:00:00-04:00\",\"2021-05-12T00:00:00-04:00\",\"2021-05-13T00:00:00-04:00\",\"2021-05-14T00:00:00-04:00\",\"2021-05-17T00:00:00-04:00\",\"2021-05-18T00:00:00-04:00\",\"2021-05-19T00:00:00-04:00\",\"2021-05-20T00:00:00-04:00\",\"2021-05-21T00:00:00-04:00\",\"2021-05-24T00:00:00-04:00\",\"2021-05-25T00:00:00-04:00\",\"2021-05-26T00:00:00-04:00\",\"2021-05-27T00:00:00-04:00\",\"2021-05-28T00:00:00-04:00\",\"2021-06-01T00:00:00-04:00\",\"2021-06-02T00:00:00-04:00\",\"2021-06-03T00:00:00-04:00\",\"2021-06-04T00:00:00-04:00\",\"2021-06-07T00:00:00-04:00\",\"2021-06-08T00:00:00-04:00\",\"2021-06-09T00:00:00-04:00\",\"2021-06-10T00:00:00-04:00\",\"2021-06-11T00:00:00-04:00\",\"2021-06-14T00:00:00-04:00\",\"2021-06-15T00:00:00-04:00\",\"2021-06-16T00:00:00-04:00\",\"2021-06-17T00:00:00-04:00\",\"2021-06-18T00:00:00-04:00\",\"2021-06-21T00:00:00-04:00\",\"2021-06-22T00:00:00-04:00\",\"2021-06-23T00:00:00-04:00\",\"2021-06-24T00:00:00-04:00\",\"2021-06-25T00:00:00-04:00\",\"2021-06-28T00:00:00-04:00\",\"2021-06-29T00:00:00-04:00\",\"2021-06-30T00:00:00-04:00\",\"2021-07-01T00:00:00-04:00\",\"2021-07-02T00:00:00-04:00\",\"2021-07-06T00:00:00-04:00\",\"2021-07-07T00:00:00-04:00\",\"2021-07-08T00:00:00-04:00\",\"2021-07-09T00:00:00-04:00\",\"2021-07-12T00:00:00-04:00\",\"2021-07-13T00:00:00-04:00\",\"2021-07-14T00:00:00-04:00\",\"2021-07-15T00:00:00-04:00\",\"2021-07-16T00:00:00-04:00\",\"2021-07-19T00:00:00-04:00\",\"2021-07-20T00:00:00-04:00\",\"2021-07-21T00:00:00-04:00\",\"2021-07-22T00:00:00-04:00\",\"2021-07-23T00:00:00-04:00\",\"2021-07-26T00:00:00-04:00\",\"2021-07-27T00:00:00-04:00\",\"2021-07-28T00:00:00-04:00\",\"2021-07-29T00:00:00-04:00\",\"2021-07-30T00:00:00-04:00\",\"2021-08-02T00:00:00-04:00\",\"2021-08-03T00:00:00-04:00\",\"2021-08-04T00:00:00-04:00\",\"2021-08-05T00:00:00-04:00\",\"2021-08-06T00:00:00-04:00\",\"2021-08-09T00:00:00-04:00\",\"2021-08-10T00:00:00-04:00\",\"2021-08-11T00:00:00-04:00\",\"2021-08-12T00:00:00-04:00\",\"2021-08-13T00:00:00-04:00\",\"2021-08-16T00:00:00-04:00\",\"2021-08-17T00:00:00-04:00\",\"2021-08-18T00:00:00-04:00\",\"2021-08-19T00:00:00-04:00\",\"2021-08-20T00:00:00-04:00\",\"2021-08-23T00:00:00-04:00\",\"2021-08-24T00:00:00-04:00\",\"2021-08-25T00:00:00-04:00\",\"2021-08-26T00:00:00-04:00\",\"2021-08-27T00:00:00-04:00\",\"2021-08-30T00:00:00-04:00\",\"2021-08-31T00:00:00-04:00\",\"2021-09-01T00:00:00-04:00\",\"2021-09-02T00:00:00-04:00\",\"2021-09-03T00:00:00-04:00\",\"2021-09-07T00:00:00-04:00\",\"2021-09-08T00:00:00-04:00\",\"2021-09-09T00:00:00-04:00\",\"2021-09-10T00:00:00-04:00\",\"2021-09-13T00:00:00-04:00\",\"2021-09-14T00:00:00-04:00\",\"2021-09-15T00:00:00-04:00\",\"2021-09-16T00:00:00-04:00\",\"2021-09-17T00:00:00-04:00\",\"2021-09-20T00:00:00-04:00\",\"2021-09-21T00:00:00-04:00\",\"2021-09-22T00:00:00-04:00\",\"2021-09-23T00:00:00-04:00\",\"2021-09-24T00:00:00-04:00\",\"2021-09-27T00:00:00-04:00\",\"2021-09-28T00:00:00-04:00\",\"2021-09-29T00:00:00-04:00\",\"2021-09-30T00:00:00-04:00\",\"2021-10-01T00:00:00-04:00\",\"2021-10-04T00:00:00-04:00\",\"2021-10-05T00:00:00-04:00\",\"2021-10-06T00:00:00-04:00\",\"2021-10-07T00:00:00-04:00\",\"2021-10-08T00:00:00-04:00\",\"2021-10-11T00:00:00-04:00\",\"2021-10-12T00:00:00-04:00\",\"2021-10-13T00:00:00-04:00\",\"2021-10-14T00:00:00-04:00\",\"2021-10-15T00:00:00-04:00\",\"2021-10-18T00:00:00-04:00\",\"2021-10-19T00:00:00-04:00\",\"2021-10-20T00:00:00-04:00\",\"2021-10-21T00:00:00-04:00\",\"2021-10-22T00:00:00-04:00\",\"2021-10-25T00:00:00-04:00\",\"2021-10-26T00:00:00-04:00\",\"2021-10-27T00:00:00-04:00\",\"2021-10-28T00:00:00-04:00\",\"2021-10-29T00:00:00-04:00\",\"2021-11-01T00:00:00-04:00\",\"2021-11-02T00:00:00-04:00\",\"2021-11-03T00:00:00-04:00\",\"2021-11-04T00:00:00-04:00\",\"2021-11-05T00:00:00-04:00\",\"2021-11-08T00:00:00-05:00\",\"2021-11-09T00:00:00-05:00\",\"2021-11-10T00:00:00-05:00\",\"2021-11-11T00:00:00-05:00\",\"2021-11-12T00:00:00-05:00\",\"2021-11-15T00:00:00-05:00\",\"2021-11-16T00:00:00-05:00\",\"2021-11-17T00:00:00-05:00\",\"2021-11-18T00:00:00-05:00\",\"2021-11-19T00:00:00-05:00\",\"2021-11-22T00:00:00-05:00\",\"2021-11-23T00:00:00-05:00\",\"2021-11-24T00:00:00-05:00\",\"2021-11-26T00:00:00-05:00\",\"2021-11-29T00:00:00-05:00\",\"2021-11-30T00:00:00-05:00\",\"2021-12-01T00:00:00-05:00\",\"2021-12-02T00:00:00-05:00\",\"2021-12-03T00:00:00-05:00\",\"2021-12-06T00:00:00-05:00\",\"2021-12-07T00:00:00-05:00\",\"2021-12-08T00:00:00-05:00\",\"2021-12-09T00:00:00-05:00\",\"2021-12-10T00:00:00-05:00\",\"2021-12-13T00:00:00-05:00\",\"2021-12-14T00:00:00-05:00\",\"2021-12-15T00:00:00-05:00\",\"2021-12-16T00:00:00-05:00\",\"2021-12-17T00:00:00-05:00\",\"2021-12-20T00:00:00-05:00\",\"2021-12-21T00:00:00-05:00\",\"2021-12-22T00:00:00-05:00\",\"2021-12-23T00:00:00-05:00\",\"2021-12-27T00:00:00-05:00\",\"2021-12-28T00:00:00-05:00\",\"2021-12-29T00:00:00-05:00\",\"2021-12-30T00:00:00-05:00\",\"2021-12-31T00:00:00-05:00\",\"2022-01-03T00:00:00-05:00\",\"2022-01-04T00:00:00-05:00\",\"2022-01-05T00:00:00-05:00\",\"2022-01-06T00:00:00-05:00\",\"2022-01-07T00:00:00-05:00\",\"2022-01-10T00:00:00-05:00\",\"2022-01-11T00:00:00-05:00\",\"2022-01-12T00:00:00-05:00\",\"2022-01-13T00:00:00-05:00\",\"2022-01-14T00:00:00-05:00\",\"2022-01-18T00:00:00-05:00\",\"2022-01-19T00:00:00-05:00\",\"2022-01-20T00:00:00-05:00\",\"2022-01-21T00:00:00-05:00\",\"2022-01-24T00:00:00-05:00\",\"2022-01-25T00:00:00-05:00\",\"2022-01-26T00:00:00-05:00\",\"2022-01-27T00:00:00-05:00\",\"2022-01-28T00:00:00-05:00\",\"2022-01-31T00:00:00-05:00\",\"2022-02-01T00:00:00-05:00\",\"2022-02-02T00:00:00-05:00\",\"2022-02-03T00:00:00-05:00\",\"2022-02-04T00:00:00-05:00\",\"2022-02-07T00:00:00-05:00\",\"2022-02-08T00:00:00-05:00\",\"2022-02-09T00:00:00-05:00\",\"2022-02-10T00:00:00-05:00\",\"2022-02-11T00:00:00-05:00\",\"2022-02-14T00:00:00-05:00\",\"2022-02-15T00:00:00-05:00\",\"2022-02-16T00:00:00-05:00\",\"2022-02-17T00:00:00-05:00\",\"2022-02-18T00:00:00-05:00\",\"2022-02-22T00:00:00-05:00\",\"2022-02-23T00:00:00-05:00\",\"2022-02-24T00:00:00-05:00\",\"2022-02-25T00:00:00-05:00\",\"2022-02-28T00:00:00-05:00\",\"2022-03-01T00:00:00-05:00\",\"2022-03-02T00:00:00-05:00\",\"2022-03-03T00:00:00-05:00\",\"2022-03-04T00:00:00-05:00\",\"2022-03-07T00:00:00-05:00\",\"2022-03-08T00:00:00-05:00\",\"2022-03-09T00:00:00-05:00\",\"2022-03-10T00:00:00-05:00\",\"2022-03-11T00:00:00-05:00\",\"2022-03-14T00:00:00-04:00\",\"2022-03-15T00:00:00-04:00\",\"2022-03-16T00:00:00-04:00\",\"2022-03-17T00:00:00-04:00\",\"2022-03-18T00:00:00-04:00\",\"2022-03-21T00:00:00-04:00\",\"2022-03-22T00:00:00-04:00\",\"2022-03-23T00:00:00-04:00\",\"2022-03-24T00:00:00-04:00\",\"2022-03-25T00:00:00-04:00\",\"2022-03-28T00:00:00-04:00\",\"2022-03-29T00:00:00-04:00\",\"2022-03-30T00:00:00-04:00\",\"2022-03-31T00:00:00-04:00\",\"2022-04-01T00:00:00-04:00\",\"2022-04-04T00:00:00-04:00\",\"2022-04-05T00:00:00-04:00\",\"2022-04-06T00:00:00-04:00\",\"2022-04-07T00:00:00-04:00\",\"2022-04-08T00:00:00-04:00\",\"2022-04-11T00:00:00-04:00\",\"2022-04-12T00:00:00-04:00\",\"2022-04-13T00:00:00-04:00\",\"2022-04-14T00:00:00-04:00\",\"2022-04-18T00:00:00-04:00\",\"2022-04-19T00:00:00-04:00\",\"2022-04-20T00:00:00-04:00\",\"2022-04-21T00:00:00-04:00\",\"2022-04-22T00:00:00-04:00\",\"2022-04-25T00:00:00-04:00\",\"2022-04-26T00:00:00-04:00\",\"2022-04-27T00:00:00-04:00\",\"2022-04-28T00:00:00-04:00\",\"2022-04-29T00:00:00-04:00\",\"2022-05-02T00:00:00-04:00\",\"2022-05-03T00:00:00-04:00\",\"2022-05-04T00:00:00-04:00\",\"2022-05-05T00:00:00-04:00\",\"2022-05-06T00:00:00-04:00\",\"2022-05-09T00:00:00-04:00\",\"2022-05-10T00:00:00-04:00\",\"2022-05-11T00:00:00-04:00\",\"2022-05-12T00:00:00-04:00\",\"2022-05-13T00:00:00-04:00\",\"2022-05-16T00:00:00-04:00\",\"2022-05-17T00:00:00-04:00\",\"2022-05-18T00:00:00-04:00\",\"2022-05-19T00:00:00-04:00\",\"2022-05-20T00:00:00-04:00\",\"2022-05-23T00:00:00-04:00\",\"2022-05-24T00:00:00-04:00\",\"2022-05-25T00:00:00-04:00\",\"2022-05-26T00:00:00-04:00\",\"2022-05-27T00:00:00-04:00\",\"2022-05-31T00:00:00-04:00\",\"2022-06-01T00:00:00-04:00\",\"2022-06-02T00:00:00-04:00\",\"2022-06-03T00:00:00-04:00\",\"2022-06-06T00:00:00-04:00\",\"2022-06-07T00:00:00-04:00\",\"2022-06-08T00:00:00-04:00\",\"2022-06-09T00:00:00-04:00\",\"2022-06-10T00:00:00-04:00\",\"2022-06-13T00:00:00-04:00\",\"2022-06-14T00:00:00-04:00\",\"2022-06-15T00:00:00-04:00\",\"2022-06-16T00:00:00-04:00\",\"2022-06-17T00:00:00-04:00\",\"2022-06-21T00:00:00-04:00\",\"2022-06-22T00:00:00-04:00\",\"2022-06-23T00:00:00-04:00\",\"2022-06-24T00:00:00-04:00\",\"2022-06-27T00:00:00-04:00\",\"2022-06-28T00:00:00-04:00\",\"2022-06-29T00:00:00-04:00\",\"2022-06-30T00:00:00-04:00\",\"2022-07-01T00:00:00-04:00\",\"2022-07-05T00:00:00-04:00\",\"2022-07-06T00:00:00-04:00\",\"2022-07-07T00:00:00-04:00\",\"2022-07-08T00:00:00-04:00\",\"2022-07-11T00:00:00-04:00\",\"2022-07-12T00:00:00-04:00\",\"2022-07-13T00:00:00-04:00\",\"2022-07-14T00:00:00-04:00\",\"2022-07-15T00:00:00-04:00\",\"2022-07-18T00:00:00-04:00\",\"2022-07-19T00:00:00-04:00\",\"2022-07-20T00:00:00-04:00\",\"2022-07-21T00:00:00-04:00\",\"2022-07-22T00:00:00-04:00\",\"2022-07-25T00:00:00-04:00\",\"2022-07-26T00:00:00-04:00\",\"2022-07-27T00:00:00-04:00\",\"2022-07-28T00:00:00-04:00\",\"2022-07-29T00:00:00-04:00\",\"2022-08-01T00:00:00-04:00\",\"2022-08-02T00:00:00-04:00\",\"2022-08-03T00:00:00-04:00\",\"2022-08-04T00:00:00-04:00\",\"2022-08-05T00:00:00-04:00\",\"2022-08-08T00:00:00-04:00\",\"2022-08-09T00:00:00-04:00\",\"2022-08-10T00:00:00-04:00\",\"2022-08-11T00:00:00-04:00\",\"2022-08-12T00:00:00-04:00\",\"2022-08-15T00:00:00-04:00\",\"2022-08-16T00:00:00-04:00\",\"2022-08-17T00:00:00-04:00\",\"2022-08-18T00:00:00-04:00\",\"2022-08-19T00:00:00-04:00\",\"2022-08-22T00:00:00-04:00\",\"2022-08-23T00:00:00-04:00\",\"2022-08-24T00:00:00-04:00\",\"2022-08-25T00:00:00-04:00\",\"2022-08-26T00:00:00-04:00\",\"2022-08-29T00:00:00-04:00\",\"2022-08-30T00:00:00-04:00\",\"2022-08-31T00:00:00-04:00\",\"2022-09-01T00:00:00-04:00\",\"2022-09-02T00:00:00-04:00\",\"2022-09-06T00:00:00-04:00\",\"2022-09-07T00:00:00-04:00\",\"2022-09-08T00:00:00-04:00\",\"2022-09-09T00:00:00-04:00\",\"2022-09-12T00:00:00-04:00\",\"2022-09-13T00:00:00-04:00\",\"2022-09-14T00:00:00-04:00\",\"2022-09-15T00:00:00-04:00\",\"2022-09-16T00:00:00-04:00\",\"2022-09-19T00:00:00-04:00\",\"2022-09-20T00:00:00-04:00\",\"2022-09-21T00:00:00-04:00\",\"2022-09-22T00:00:00-04:00\",\"2022-09-23T00:00:00-04:00\",\"2022-09-26T00:00:00-04:00\",\"2022-09-27T00:00:00-04:00\",\"2022-09-28T00:00:00-04:00\",\"2022-09-29T00:00:00-04:00\",\"2022-09-30T00:00:00-04:00\",\"2022-10-03T00:00:00-04:00\",\"2022-10-04T00:00:00-04:00\",\"2022-10-05T00:00:00-04:00\",\"2022-10-06T00:00:00-04:00\",\"2022-10-07T00:00:00-04:00\",\"2022-10-10T00:00:00-04:00\",\"2022-10-11T00:00:00-04:00\",\"2022-10-12T00:00:00-04:00\",\"2022-10-13T00:00:00-04:00\",\"2022-10-14T00:00:00-04:00\",\"2022-10-17T00:00:00-04:00\",\"2022-10-18T00:00:00-04:00\",\"2022-10-19T00:00:00-04:00\",\"2022-10-20T00:00:00-04:00\",\"2022-10-21T00:00:00-04:00\",\"2022-10-24T00:00:00-04:00\",\"2022-10-25T00:00:00-04:00\",\"2022-10-26T00:00:00-04:00\",\"2022-10-27T00:00:00-04:00\",\"2022-10-28T00:00:00-04:00\",\"2022-10-31T00:00:00-04:00\",\"2022-11-01T00:00:00-04:00\",\"2022-11-02T00:00:00-04:00\",\"2022-11-03T00:00:00-04:00\",\"2022-11-04T00:00:00-04:00\",\"2022-11-07T00:00:00-05:00\",\"2022-11-08T00:00:00-05:00\",\"2022-11-09T00:00:00-05:00\",\"2022-11-10T00:00:00-05:00\",\"2022-11-11T00:00:00-05:00\",\"2022-11-14T00:00:00-05:00\",\"2022-11-15T00:00:00-05:00\",\"2022-11-16T00:00:00-05:00\",\"2022-11-17T00:00:00-05:00\",\"2022-11-18T00:00:00-05:00\",\"2022-11-21T00:00:00-05:00\",\"2022-11-22T00:00:00-05:00\",\"2022-11-23T00:00:00-05:00\",\"2022-11-25T00:00:00-05:00\",\"2022-11-28T00:00:00-05:00\",\"2022-11-29T00:00:00-05:00\",\"2022-11-30T00:00:00-05:00\",\"2022-12-01T00:00:00-05:00\",\"2022-12-02T00:00:00-05:00\",\"2022-12-05T00:00:00-05:00\",\"2022-12-06T00:00:00-05:00\",\"2022-12-07T00:00:00-05:00\"],\"type\":\"candlestick\"}],                        {\"template\":{\"data\":{\"bar\":[{\"error_x\":{\"color\":\"#2a3f5f\"},\"error_y\":{\"color\":\"#2a3f5f\"},\"marker\":{\"line\":{\"color\":\"#E5ECF6\",\"width\":0.5},\"pattern\":{\"fillmode\":\"overlay\",\"size\":10,\"solidity\":0.2}},\"type\":\"bar\"}],\"barpolar\":[{\"marker\":{\"line\":{\"color\":\"#E5ECF6\",\"width\":0.5},\"pattern\":{\"fillmode\":\"overlay\",\"size\":10,\"solidity\":0.2}},\"type\":\"barpolar\"}],\"carpet\":[{\"aaxis\":{\"endlinecolor\":\"#2a3f5f\",\"gridcolor\":\"white\",\"linecolor\":\"white\",\"minorgridcolor\":\"white\",\"startlinecolor\":\"#2a3f5f\"},\"baxis\":{\"endlinecolor\":\"#2a3f5f\",\"gridcolor\":\"white\",\"linecolor\":\"white\",\"minorgridcolor\":\"white\",\"startlinecolor\":\"#2a3f5f\"},\"type\":\"carpet\"}],\"choropleth\":[{\"colorbar\":{\"outlinewidth\":0,\"ticks\":\"\"},\"type\":\"choropleth\"}],\"contour\":[{\"colorbar\":{\"outlinewidth\":0,\"ticks\":\"\"},\"colorscale\":[[0.0,\"#0d0887\"],[0.1111111111111111,\"#46039f\"],[0.2222222222222222,\"#7201a8\"],[0.3333333333333333,\"#9c179e\"],[0.4444444444444444,\"#bd3786\"],[0.5555555555555556,\"#d8576b\"],[0.6666666666666666,\"#ed7953\"],[0.7777777777777778,\"#fb9f3a\"],[0.8888888888888888,\"#fdca26\"],[1.0,\"#f0f921\"]],\"type\":\"contour\"}],\"contourcarpet\":[{\"colorbar\":{\"outlinewidth\":0,\"ticks\":\"\"},\"type\":\"contourcarpet\"}],\"heatmap\":[{\"colorbar\":{\"outlinewidth\":0,\"ticks\":\"\"},\"colorscale\":[[0.0,\"#0d0887\"],[0.1111111111111111,\"#46039f\"],[0.2222222222222222,\"#7201a8\"],[0.3333333333333333,\"#9c179e\"],[0.4444444444444444,\"#bd3786\"],[0.5555555555555556,\"#d8576b\"],[0.6666666666666666,\"#ed7953\"],[0.7777777777777778,\"#fb9f3a\"],[0.8888888888888888,\"#fdca26\"],[1.0,\"#f0f921\"]],\"type\":\"heatmap\"}],\"heatmapgl\":[{\"colorbar\":{\"outlinewidth\":0,\"ticks\":\"\"},\"colorscale\":[[0.0,\"#0d0887\"],[0.1111111111111111,\"#46039f\"],[0.2222222222222222,\"#7201a8\"],[0.3333333333333333,\"#9c179e\"],[0.4444444444444444,\"#bd3786\"],[0.5555555555555556,\"#d8576b\"],[0.6666666666666666,\"#ed7953\"],[0.7777777777777778,\"#fb9f3a\"],[0.8888888888888888,\"#fdca26\"],[1.0,\"#f0f921\"]],\"type\":\"heatmapgl\"}],\"histogram\":[{\"marker\":{\"pattern\":{\"fillmode\":\"overlay\",\"size\":10,\"solidity\":0.2}},\"type\":\"histogram\"}],\"histogram2d\":[{\"colorbar\":{\"outlinewidth\":0,\"ticks\":\"\"},\"colorscale\":[[0.0,\"#0d0887\"],[0.1111111111111111,\"#46039f\"],[0.2222222222222222,\"#7201a8\"],[0.3333333333333333,\"#9c179e\"],[0.4444444444444444,\"#bd3786\"],[0.5555555555555556,\"#d8576b\"],[0.6666666666666666,\"#ed7953\"],[0.7777777777777778,\"#fb9f3a\"],[0.8888888888888888,\"#fdca26\"],[1.0,\"#f0f921\"]],\"type\":\"histogram2d\"}],\"histogram2dcontour\":[{\"colorbar\":{\"outlinewidth\":0,\"ticks\":\"\"},\"colorscale\":[[0.0,\"#0d0887\"],[0.1111111111111111,\"#46039f\"],[0.2222222222222222,\"#7201a8\"],[0.3333333333333333,\"#9c179e\"],[0.4444444444444444,\"#bd3786\"],[0.5555555555555556,\"#d8576b\"],[0.6666666666666666,\"#ed7953\"],[0.7777777777777778,\"#fb9f3a\"],[0.8888888888888888,\"#fdca26\"],[1.0,\"#f0f921\"]],\"type\":\"histogram2dcontour\"}],\"mesh3d\":[{\"colorbar\":{\"outlinewidth\":0,\"ticks\":\"\"},\"type\":\"mesh3d\"}],\"parcoords\":[{\"line\":{\"colorbar\":{\"outlinewidth\":0,\"ticks\":\"\"}},\"type\":\"parcoords\"}],\"pie\":[{\"automargin\":true,\"type\":\"pie\"}],\"scatter\":[{\"marker\":{\"colorbar\":{\"outlinewidth\":0,\"ticks\":\"\"}},\"type\":\"scatter\"}],\"scatter3d\":[{\"line\":{\"colorbar\":{\"outlinewidth\":0,\"ticks\":\"\"}},\"marker\":{\"colorbar\":{\"outlinewidth\":0,\"ticks\":\"\"}},\"type\":\"scatter3d\"}],\"scattercarpet\":[{\"marker\":{\"colorbar\":{\"outlinewidth\":0,\"ticks\":\"\"}},\"type\":\"scattercarpet\"}],\"scattergeo\":[{\"marker\":{\"colorbar\":{\"outlinewidth\":0,\"ticks\":\"\"}},\"type\":\"scattergeo\"}],\"scattergl\":[{\"marker\":{\"colorbar\":{\"outlinewidth\":0,\"ticks\":\"\"}},\"type\":\"scattergl\"}],\"scattermapbox\":[{\"marker\":{\"colorbar\":{\"outlinewidth\":0,\"ticks\":\"\"}},\"type\":\"scattermapbox\"}],\"scatterpolar\":[{\"marker\":{\"colorbar\":{\"outlinewidth\":0,\"ticks\":\"\"}},\"type\":\"scatterpolar\"}],\"scatterpolargl\":[{\"marker\":{\"colorbar\":{\"outlinewidth\":0,\"ticks\":\"\"}},\"type\":\"scatterpolargl\"}],\"scatterternary\":[{\"marker\":{\"colorbar\":{\"outlinewidth\":0,\"ticks\":\"\"}},\"type\":\"scatterternary\"}],\"surface\":[{\"colorbar\":{\"outlinewidth\":0,\"ticks\":\"\"},\"colorscale\":[[0.0,\"#0d0887\"],[0.1111111111111111,\"#46039f\"],[0.2222222222222222,\"#7201a8\"],[0.3333333333333333,\"#9c179e\"],[0.4444444444444444,\"#bd3786\"],[0.5555555555555556,\"#d8576b\"],[0.6666666666666666,\"#ed7953\"],[0.7777777777777778,\"#fb9f3a\"],[0.8888888888888888,\"#fdca26\"],[1.0,\"#f0f921\"]],\"type\":\"surface\"}],\"table\":[{\"cells\":{\"fill\":{\"color\":\"#EBF0F8\"},\"line\":{\"color\":\"white\"}},\"header\":{\"fill\":{\"color\":\"#C8D4E3\"},\"line\":{\"color\":\"white\"}},\"type\":\"table\"}]},\"layout\":{\"annotationdefaults\":{\"arrowcolor\":\"#2a3f5f\",\"arrowhead\":0,\"arrowwidth\":1},\"autotypenumbers\":\"strict\",\"coloraxis\":{\"colorbar\":{\"outlinewidth\":0,\"ticks\":\"\"}},\"colorscale\":{\"diverging\":[[0,\"#8e0152\"],[0.1,\"#c51b7d\"],[0.2,\"#de77ae\"],[0.3,\"#f1b6da\"],[0.4,\"#fde0ef\"],[0.5,\"#f7f7f7\"],[0.6,\"#e6f5d0\"],[0.7,\"#b8e186\"],[0.8,\"#7fbc41\"],[0.9,\"#4d9221\"],[1,\"#276419\"]],\"sequential\":[[0.0,\"#0d0887\"],[0.1111111111111111,\"#46039f\"],[0.2222222222222222,\"#7201a8\"],[0.3333333333333333,\"#9c179e\"],[0.4444444444444444,\"#bd3786\"],[0.5555555555555556,\"#d8576b\"],[0.6666666666666666,\"#ed7953\"],[0.7777777777777778,\"#fb9f3a\"],[0.8888888888888888,\"#fdca26\"],[1.0,\"#f0f921\"]],\"sequentialminus\":[[0.0,\"#0d0887\"],[0.1111111111111111,\"#46039f\"],[0.2222222222222222,\"#7201a8\"],[0.3333333333333333,\"#9c179e\"],[0.4444444444444444,\"#bd3786\"],[0.5555555555555556,\"#d8576b\"],[0.6666666666666666,\"#ed7953\"],[0.7777777777777778,\"#fb9f3a\"],[0.8888888888888888,\"#fdca26\"],[1.0,\"#f0f921\"]]},\"colorway\":[\"#636efa\",\"#EF553B\",\"#00cc96\",\"#ab63fa\",\"#FFA15A\",\"#19d3f3\",\"#FF6692\",\"#B6E880\",\"#FF97FF\",\"#FECB52\"],\"font\":{\"color\":\"#2a3f5f\"},\"geo\":{\"bgcolor\":\"white\",\"lakecolor\":\"white\",\"landcolor\":\"#E5ECF6\",\"showlakes\":true,\"showland\":true,\"subunitcolor\":\"white\"},\"hoverlabel\":{\"align\":\"left\"},\"hovermode\":\"closest\",\"mapbox\":{\"style\":\"light\"},\"paper_bgcolor\":\"white\",\"plot_bgcolor\":\"#E5ECF6\",\"polar\":{\"angularaxis\":{\"gridcolor\":\"white\",\"linecolor\":\"white\",\"ticks\":\"\"},\"bgcolor\":\"#E5ECF6\",\"radialaxis\":{\"gridcolor\":\"white\",\"linecolor\":\"white\",\"ticks\":\"\"}},\"scene\":{\"xaxis\":{\"backgroundcolor\":\"#E5ECF6\",\"gridcolor\":\"white\",\"gridwidth\":2,\"linecolor\":\"white\",\"showbackground\":true,\"ticks\":\"\",\"zerolinecolor\":\"white\"},\"yaxis\":{\"backgroundcolor\":\"#E5ECF6\",\"gridcolor\":\"white\",\"gridwidth\":2,\"linecolor\":\"white\",\"showbackground\":true,\"ticks\":\"\",\"zerolinecolor\":\"white\"},\"zaxis\":{\"backgroundcolor\":\"#E5ECF6\",\"gridcolor\":\"white\",\"gridwidth\":2,\"linecolor\":\"white\",\"showbackground\":true,\"ticks\":\"\",\"zerolinecolor\":\"white\"}},\"shapedefaults\":{\"line\":{\"color\":\"#2a3f5f\"}},\"ternary\":{\"aaxis\":{\"gridcolor\":\"white\",\"linecolor\":\"white\",\"ticks\":\"\"},\"baxis\":{\"gridcolor\":\"white\",\"linecolor\":\"white\",\"ticks\":\"\"},\"bgcolor\":\"#E5ECF6\",\"caxis\":{\"gridcolor\":\"white\",\"linecolor\":\"white\",\"ticks\":\"\"}},\"title\":{\"x\":0.05},\"xaxis\":{\"automargin\":true,\"gridcolor\":\"white\",\"linecolor\":\"white\",\"ticks\":\"\",\"title\":{\"standoff\":15},\"zerolinecolor\":\"white\",\"zerolinewidth\":2},\"yaxis\":{\"automargin\":true,\"gridcolor\":\"white\",\"linecolor\":\"white\",\"ticks\":\"\",\"title\":{\"standoff\":15},\"zerolinecolor\":\"white\",\"zerolinewidth\":2}}},\"margin\":{\"l\":20,\"r\":20,\"t\":60,\"b\":20},\"height\":350,\"paper_bgcolor\":\"LightSteelBlue\",\"title\":{\"text\":\"AAPL\"}},                        {\"responsive\": true}                    ).then(function(){\n",
              "                            \n",
              "var gd = document.getElementById('b5b151df-5b29-4932-8f27-1ab9845d2ac2');\n",
              "var x = new MutationObserver(function (mutations, observer) {{\n",
              "        var display = window.getComputedStyle(gd).display;\n",
              "        if (!display || display === 'none') {{\n",
              "            console.log([gd, 'removed!']);\n",
              "            Plotly.purge(gd);\n",
              "            observer.disconnect();\n",
              "        }}\n",
              "}});\n",
              "\n",
              "// Listen for the removal of the full notebook cells\n",
              "var notebookContainer = gd.closest('#notebook-container');\n",
              "if (notebookContainer) {{\n",
              "    x.observe(notebookContainer, {childList: true});\n",
              "}}\n",
              "\n",
              "// Listen for the clearing of the current output cell\n",
              "var outputEl = gd.closest('.output');\n",
              "if (outputEl) {{\n",
              "    x.observe(outputEl, {childList: true});\n",
              "}}\n",
              "\n",
              "                        })                };                            </script>        </div>\n",
              "</body>\n",
              "</html>"
            ]
          },
          "metadata": {},
          "output_type": "display_data"
        },
        {
          "data": {
            "text/html": [
              "<html>\n",
              "<head><meta charset=\"utf-8\" /></head>\n",
              "<body>\n",
              "    <div>            <script src=\"https://cdnjs.cloudflare.com/ajax/libs/mathjax/2.7.5/MathJax.js?config=TeX-AMS-MML_SVG\"></script><script type=\"text/javascript\">if (window.MathJax) {MathJax.Hub.Config({SVG: {font: \"STIX-Web\"}});}</script>                <script type=\"text/javascript\">window.PlotlyConfig = {MathJaxConfig: 'local'};</script>\n",
              "        <script src=\"https://cdn.plot.ly/plotly-2.8.3.min.js\"></script>                <div id=\"9ded2dd2-1d9e-47e8-ba54-c99b66ed4900\" class=\"plotly-graph-div\" style=\"height:350px; width:100%;\"></div>            <script type=\"text/javascript\">                                    window.PLOTLYENV=window.PLOTLYENV || {};                                    if (document.getElementById(\"9ded2dd2-1d9e-47e8-ba54-c99b66ed4900\")) {                    Plotly.newPlot(                        \"9ded2dd2-1d9e-47e8-ba54-c99b66ed4900\",                        [{\"close\":[87.47550201416016,86.96050262451172,87.43599700927734,88.0165023803711,88.0469970703125,88.46050262451172,89.53299713134766,89.20149993896484,89.61399841308594,89.32499694824219,89.6500015258789,89.46050262451172,93.4384994506836,93.48999786376953,92.34449768066406,92.39199829101562,94.90049743652344,93.74849700927734,95.14399719238281,95.34300231933594,94.59850311279297,95.05249786376953,94.15799713134766,94.56500244140625,93.47200012207031,93.10099792480469,93.89700317382812,93.23600006103516,94.5999984741211,94.37300109863281,94.22899627685547,93.08200073242188,91.41699981689453,92.6624984741211,92.9000015258789,93.53399658203125,100.43599700927734,100.20999908447266,102.4834976196289,101.99349975585938,102.5114974975586,103.96399688720703,106.69550323486328,107.54000091552734,108.0,107.49349975585938,106.74349975585938,107.78350067138672,108.51100158691406,107.65499877929688,104.79850006103516,100.4645004272461,98.63700103759766,98.97949981689453,94.21499633789062,94.1875,97.69750213623047,95.44950103759766,98.79149627685547,96.20149993896484,95.05449676513672,90.03050231933594,94.59100341796875,91.04299926757812,83.83049774169922,89.25,84.4574966430664,90.39199829101562,91.5,94.04650115966797,92.30449676513672,95.1415023803711,97.00499725341797,94.29199981689453,97.77449798583984,95.00499725341797,98.19750213623047,97.48600006103516,95.38500213623047,95.94149780273438,95.32949829101562,99.87950134277344,100.58000183105469,102.1500015258789,102.13800048828125,108.44349670410156,114.16600036621094,115.38400268554688,120.40950012207031,118.75,119.68049621582031,116.40599822998047,118.17449951171875,119.97250366210938,120.51100158691406,118.80000305175781,115.7040023803711,118.635498046875,123.69999694824219,114.302001953125,115.79949951171875,115.88999938964844,117.56300354003906,118.38050079345703,118.98049926757812,120.44999694824219,117.84750366210938,118.39600372314453,119.44249725341797,120.48899841308594,121.31300354003906,122.46649932861328,124.89700317382812,122.33699798583984,121.84400177001953,121.09300231933594,120.51950073242188,120.05500030517578,122.11849975585938,123.552001953125,123.62049865722656,123.91999816894531,123.02999877929688,124.1500015258789,126.2030029296875,130.04299926757812,132.37249755859375,127.89800262451172,127.2509994506836,128.63400268554688,130.7635040283203,132.0489959716797,132.69900512695312,133.75050354003906,135.6909942626953,138.2205047607422,136.72000122070312,137.72900390625,134.64349365234375,134.0189971923828,137.9409942626953,143.93499755859375,144.51499938964844,152.8520050048828,150.00599670410156,154.0554962158203,159.13150024414062,160.0,155.1999969482422,154.1999969482422,150.44349670410156,149.9949951171875,148.09849548339844,159.8419952392578,156.9145050048828,154.99549865722656,149.32749938964844,150.44549560546875,152.760498046875,150.01649475097656,151.67649841308594,152.593994140625,158.23399353027344,155.59449768066406,156.94149780273438,160.25149536132812,161.25,158.3730010986328,157.4080047607422,154.0334930419922,158.11199951171875,158.05099487304688,157.4010009765625,159.12049865722656,165.62449645996094,163.0240020751953,164.86849975585938,164.23599243164062,165.3730010986328,167.32449340820312,172.09249877929688,170.0,170.08999633789062,172.54800415039062,174.95599365234375,176.57249450683594,168.39999389648438,164.7310028076172,157.49200439453125,163.4304962158203,158.7554931640625,155.81100463867188,155.14849853515625,157.80650329589844,153.90499877929688,150.43649291992188,147.74549865722656,148.02349853515625,156.44949340820312,149.9929962158203,150.989501953125,154.75650024414062,158.70249938964844,157.24400329589844,157.43649291992188,161.06300354003906,156.25,159.9600067138672,154.9980010986328,159.7845001220703,159.52749633789062,164.33250427246094,172.14649963378906,172.18150329589844,168.1855010986328,166.9324951171875,163.635498046875,160.36050415039062,160.85049438476562,159.2469940185547,158.82000732421875,160.22000122070312,160.3520050048828,164.31649780273438,158.13900756835938,160.55050659179688,151.8074951171875,150.2239990234375,152.42050170898438,162.05799865722656,166.10000610351562,165.56849670410156,157.18699645996094,151.75100708007812,156.8695068359375,155.51400756835938,156.4405059814453,156.55299377441406,156.7830047607422,155.2729949951172,155.8509979248047,154.97000122070312,154.91949462890625,155.9029998779297,159.2534942626953,159.76699829101562,158.40199279785156,161.00399780273438,160.17649841308594,159.3365020751953,158.12899780273438,157.89999389648438,158.864501953125,155.2100067138672,155.07449340820312,155.8209991455078,157.84849548339844,158.25599670410156,162.04800415039062,161.8040008544922,160.08250427246094,160.3090057373047,160.3260040283203,159.2635040283203,158.63450622558594,164.197998046875,166.10000610351562,164.29249572753906,162.84649658203125,159.3314971923828,160.92550659179688,156.91900634765625,158.10800170898438,159.13499450683594,155.7104949951172,156.04150390625,158.29449462890625,156.37350463867188,155.21249389648438,156.03799438476562,163.16900634765625,165.34950256347656,164.6114959716797,164.6999969482422,166.30650329589844,161.62899780273438,161.88099670410156,160.30999755859375,167.1439971923828,169.0,165.62649536132812,166.5500030517578,167.6074981689453,166.14700317382812,165.25,164.32899475097656,163.10650634765625,163.885498046875,163.44749450683594,165.4320068359375,166.4114990234375,162.4949951171875,159.03700256347656,159.72500610351562,157.97650146484375,152.85800170898438,154.64649963378906,157.3070068359375,154.72650146484375,150.25,148.8784942626953,150.0229949951172,147.59750366210938,153.1425018310547,152.8820037841797,155.67950439453125,154.47450256347656,154.08399963378906,154.59300231933594,156.7864990234375,151.39950561523438,153.7480010986328,155.5435028076172,156.875,154.35350036621094,152.31300354003906,152.60150146484375,153.7864990234375,152.76449584960938,154.70399475097656,158.0500030517578,161.3365020751953,161.1909942626953,163.96949768066406,164.96499633789062,168.61000061035156,168.96949768066406,170.0,166.64999389648438,168.95449829101562,169.9720001220703,168.60049438476562,166.7344970703125,168.1009979248047,165.45199584960938,167.04400634765625,170.4499969482422,170.8715057373047,172.9250030517578,173.5655059814453,173.37100219726562,169.32449340820312,165.593505859375,163.52699279785156,165.31849670410156,164.58050537109375,159.52450561523438,161.19549560546875,157.5970001220703,158.07350158691406,161.14500427246094,163.51950073242188,161.61399841308594,161.58999633789062,162.38400268554688,160.1540069580078,162.24949645996094,162.95249938964844,163.25799560546875,161.5054931640625,161.15350341796875,160.9324951171875,161.69949340820312,159.35049438476562,160.31100463867188,159.90049743652344,163.20550537109375,164.0574951171875,167.4824981689453,167.3415069580078,169.19349670410156,169.156494140625,170.7624969482422,174.46200561523438,174.34500122070312,172.697998046875,175.27200317382812,175.1909942626953,172.45399475097656,170.072998046875,172.1945037841797,172.40699768066406,172.00799560546875,171.64849853515625,175.5489959716797,183.78700256347656,184.82899475097656,186.57049560546875,185.9669952392578,185.92750549316406,183.8679962158203,184.08399963378906,181.55999755859375,178.68150329589844,177.47950744628906,178.6595001220703,179.25999450683594,181.90150451660156,182.83200073242188,184.99099731445312,181.3195037841797,181.51600646972656,179.99600219726562,166.37950134277344,166.57400512695312,168.31199645996094,167.73599243164062,168.79949951171875,167.2469940185547,167.093505859375,166.03399658203125,164.60549926757812,165.1750030517578,164.69850158691406,164.94949340820312,162.09800720214844,160.06100463867188,159.3874969482422,159.99749755859375,163.2935028076172,165.28900146484375,164.95899963378906,165.8000030517578,167.48150634765625,171.07850646972656,173.5395050048828,173.9499969482422,173.156005859375,173.90249633789062,175.46449279785156,176.27499389648438,174.20799255371094,173.45750427246094,172.85850524902344,172.5,173.7895050048828,174.41200256347656,173.12600708007812,167.7864990234375,167.18150329589844,169.00250244140625,170.8000030517578,171.2760009765625,170.2899932861328,165.79800415039062,165.05599975585938,164.2519989013672,164.16299438476562,159.48899841308594,161.0500030517578,163.10049438476562,165.1215057373047,164.43099975585938,162.31500244140625,162.3665008544922,164.21400451660156,164.9929962158203,170.4510040283203,172.33700561523438,172.20750427246094,170.7530059814453,171.75050354003906,166.77749633789062,166.01849365234375,168.80349731445312,169.62449645996094,172.32850646972656,168.6215057373047,165.90550231933594,165.6374969482422,169.1999969482422,173.85000610351562,175.94949340820312,174.44900512695312,178.81149291992188,174.1024932861328,173.625,176.25750732421875,177.28399658203125,177.03500366210938,177.4499969482422,184.80299377441406,183.82850646972656,178.6284942626953,179.0019989013672,179.02049255371094,175.22799682617188,178.07850646972656,175.35350036621094,172.18600463867188,171.8679962158203,169.489501953125,171.36849975585938,176.1645050048828,176.1580047607422,174.17100524902344,172.21200561523438,169.5675048828125,169.0915069580078,173.31500244140625,168.87100219726562,170.0175018310547,167.07899475097656,170.41700744628906,171.03700256347656,171.06849670410156,169.66949462890625,170.66099548339844,169.2010040283203,168.64450073242188,166.7169952392578,170.4044952392578,167.52200317382812,164.35699462890625,163.25399780273438,162.5540008544922,161.48599243164062,165.36199951171875,165.20700073242188,161.21400451660156,162.13800048828125,158.91749572753906,156.2989959716797,151.66749572753906,142.64300537109375,144.54400634765625,139.98599243164062,138.87249755859375,139.6374969482422,143.97799682617188,149.57350158691406,151.19349670410156,150.6125030517578,138.8455047607422,157.63949584960938,157.9355010986328,161.4134979248047,161.1894989013672,159.0034942626953,153.2935028076172,155.16700744628906,156.510498046875,158.10049438476562,154.65249633789062,152.60150146484375,150.19749450683594,144.82699584960938,151.35800170898438,153.7884979248047,153.56300354003906,151.14199829101562,152.05250549316406,147.89849853515625,145.64100646972656,137.4530029296875,136.01449584960938,139.2790069580078,146.8175048828125,145.52450561523438,141.85299682617188,147.3665008544922,153.10400390625,157.23899841308594,161.25050354003906,161.4915008544922,164.88900756835938,163.4080047607422,163.64950561523438,164.77349853515625,168.99049377441406,169.31500244140625,166.30099487304688,162.99749755859375,163.55999755859375,168.34649658203125,164.05499267578125,158.75599670410156,157.7845001220703,154.4604949951172,151.1219940185547,150.78750610351562,155.54100036621094,151.7064971923828,152.78500366210938,158.11549377441406,153.9980010986328,148.29600524902344,144.35000610351562,146.07400512695312,139.39100646972656,138.16700744628906,144.59649658203125,124.28150177001953,124.5,124.25350189208984,125.92849731445312,116.40699768066406,114.77249908447266,108.78900146484375,108.85900115966797,105.37200164794922,106.93049621582031,113.05500030517578,110.81050109863281,115.36849975585938,107.11250305175781,107.31900024414062,107.59100341796875,107.55699920654297,104.0999984741211,106.7750015258789,111.07749938964844,115.14649963378906,120.20950317382812,121.68399810791016,125.51100158691406,122.3499984741211,124.79000091552734,123.0,121.18000030517578,116.1500015258789,109.6500015258789,103.66999816894531,102.30999755859375,107.66999816894531,103.66000366210938,106.22000122070312,108.68000030517578,108.94999694824219,112.44000244140625,116.45999908447266,113.22000122070312,107.4000015258789,108.91999816894531,106.20999908447266,109.55999755859375,113.5,114.33000183105469,116.33000183105469,115.54000091552734,111.75,109.22000122070312,110.4000015258789,110.62999725341797,113.55000305175781,113.76000213623047,118.20999908447266,122.7699966430664,124.62999725341797,122.41999816894531,121.13999938964844,114.80999755859375,120.97000122070312,122.27999877929688,134.9499969482422,135.38999938964844,134.16000366210938,139.52000427246094,142.57000732421875,140.8000030517578,139.41000366210938,137.8300018310547,142.69000244140625,140.63999938964844,143.5500030517578,143.17999267578125,144.77999877929688,142.10000610351562,142.3000030517578,138.22999572753906,133.22000122070312,133.6199951171875,133.8000030517578,137.27999877929688,130.75,129.7899932861328,128.72999572753906,126.7699966430664,127.81999969482422,127.51000213623047,126.11000061035156,129.47999572753906,129.82000732421875,133.27000427246094,136.4499969482422,126.81999969482422,128.5500030517578,126.27999877929688,123.52999877929688,124.66000366210938,122.19000244140625,118.54000091552734,117.30999755859375,113.77999877929688,115.1500015258789,114.41000366210938,118.01000213623047,114.80000305175781,113.0,115.87999725341797,121.08999633789062,120.94999694824219,120.30000305175781,114.55999755859375,113.66999816894531,112.20999908447266,112.9000015258789,112.52999877929688,106.9000015258789,113.79000091552734,116.36000061035156,115.06999969482422,115.25,119.31999969482422,119.81999969482422,120.5999984741211,115.66000366210938,110.95999908447266,103.41000366210938,102.44000244140625,96.79000091552734,92.12000274658203,89.30000305175781,90.9800033569336,90.52999877929688,89.9800033569336,86.13999938964844,96.62999725341797,100.79000091552734,98.48999786376953,98.94000244140625,97.12000274658203,94.8499984741211,94.13999938964844,92.45999908447266,93.19999694824219,94.12999725341797,93.41000366210938,93.94999694824219,92.41999816894531,96.54000091552734,95.5,94.12999725341797,91.01000213623047,88.25,88.45999908447266],\"high\":[88.34449768066406,87.53350067138672,87.5,88.19999694824219,88.44950103759766,88.4749984741211,89.5999984741211,89.91000366210938,89.64949798583984,90.14849853515625,89.6500015258789,89.77850341796875,93.52300262451172,95.06999969482422,94.19999694824219,92.66300201416016,94.90049743652344,94.30999755859375,95.18450164794922,95.69450378417969,95.55000305175781,95.89099884033203,95.34700012207031,94.9000015258789,94.35549926757812,93.94300079345703,94.27950286865234,94.33200073242188,94.7135009765625,95.125,94.4990005493164,94.74949645996094,92.05000305175781,92.90550231933594,93.73750305175781,93.64350128173828,102.78600311279297,102.42500305175781,102.98999786376953,103.5510025024414,102.81500244140625,104.92649841308594,106.77999877929688,109.29750061035156,109.01249694824219,108.51399993896484,107.9520034790039,108.30349731445312,109.25499725341797,108.8395004272461,107.22750091552734,101.96499633789062,101.7300033569336,100.7334976196289,98.75,94.48799896240234,97.72550201416016,99.81649780273438,98.9000015258789,98.03600311279297,95.54350280761719,93.13849639892578,94.7135009765625,93.56600189208984,88.25,89.31549835205078,87.97250366210938,92.88899993896484,92.08300018310547,97.25,97.8499984741211,95.97000122070312,97.75,97.51300048828125,97.82450103759766,96.989501953125,98.68150329589844,99.6510009765625,97.24800109863281,96.37650299072266,96.31649780273438,99.9260025024414,101.78600311279297,102.19999694824219,102.6500015258789,109.0,114.5999984741211,116.66850280761719,123.05000305175781,120.0,122.2490005493164,121.41549682617188,119.69999694824219,121.21099853515625,121.02149963378906,122.24400329589844,118.67500305175781,119.59449768066406,123.75,118.12200164794922,116.3489990234375,117.55000305175781,117.87249755859375,118.80000305175781,119.36199951171875,120.9834976196289,120.94999694824219,120.38500213623047,119.56849670410156,120.55000305175781,121.6500015258789,124.25,125.00050354003906,126.27249908447266,123.49250030517578,123.0999984741211,120.67900085449219,121.84850311279297,122.11849975585938,123.84649658203125,123.67649841308594,124.4000015258789,125.37699890136719,124.43250274658203,126.5,131.32150268554688,136.11749267578125,133.56900024414062,131.07400512695312,129.1999969482422,131.0,132.75,132.98199462890625,134.8715057373047,135.75,139.15550231933594,139.8000030517578,137.81149291992188,139.1284942626953,134.83999633789062,138.48150634765625,144.75,147.7779998779297,152.99400329589844,153.4774932861328,154.19850158691406,159.69400024414062,160.75,167.21449279785156,156.36900329589844,154.91749572753906,151.60000610351562,151.1999969482422,160.0679931640625,162.0290069580078,157.5,154.9134979248047,151.57899475097656,154.89999389648438,153.85450744628906,151.95799255371094,154.60000610351562,162.34100341796875,159.1999969482422,158.36199951171875,160.67950439453125,162.37350463867188,162.04049682617188,158.62550354003906,157.96099853515625,158.71949768066406,160.87600708007812,158.91200256347656,159.74850463867188,166.0,165.7949981689453,165.63099670410156,165.72000122070312,169.01600646972656,167.8699951171875,172.58700561523438,172.64999389648438,171.6685028076172,174.75,175.69349670410156,177.6125030517578,174.42050170898438,169.0749969482422,162.54249572753906,165.15899658203125,167.4945068359375,160.86700439453125,159.3695068359375,158.75100708007812,159.36199951171875,151.47149658203125,151.88999938964844,148.10000610351562,156.69949340820312,156.35000610351562,153.46499633789062,155.07699584960938,158.7519989013672,159.41299438476562,160.6439971923828,161.1999969482422,159.7899932861328,160.12649536132812,159.10000610351562,160.0,161.6645050048828,164.44949340820312,174.81199645996094,174.61900329589844,173.24400329589844,167.79400634765625,169.98300170898438,166.4499969482422,163.3000030517578,161.69400024414062,159.9375,160.26649475097656,164.1490020751953,164.58299255371094,163.2010040283203,162.8625030517578,158.35000610351562,153.98550415039062,153.7449951171875,162.24249267578125,168.33999633789062,166.10000610351562,164.4499969482422,155.6999969482422,156.95750427246094,158.79400634765625,157.08599853515625,157.13499450683594,159.46249389648438,157.0,156.25,156.64450073242188,156.9875030517578,156.71249389648438,159.89999389648438,160.8094940185547,161.41949462890625,162.44749450683594,161.60000610351562,161.4320068359375,159.91050720214844,159.03799438476562,159.2064971923828,158.72149658203125,157.10499572753906,155.93350219726562,159.52349853515625,159.4250030517578,162.35000610351562,163.17550659179688,162.4709930419922,161.34849548339844,161.10000610351562,160.50650024414062,160.10000610351562,165.1999969482422,167.53250122070312,167.10499572753906,164.14599609375,163.60000610351562,161.16900634765625,159.87550354003906,160.427001953125,159.53199768066406,157.81900024414062,157.10699462890625,159.49749755859375,158.89999389648438,157.12750244140625,157.25,163.99000549316406,167.42750549316406,166.0955047607422,168.1945037841797,166.89999389648438,167.3260040283203,165.08399963378906,161.84950256347656,167.51300048828125,171.38699340820312,171.6999969482422,167.35000610351562,168.85000610351562,168.25,166.89999389648438,165.8975067138672,164.60000610351562,164.0124969482422,165.4149932861328,166.04550170898438,166.89999389648438,166.6750030517578,161.61599731445312,160.2364959716797,158.56149291992188,158.91299438476562,156.1219940185547,157.47799682617188,158.17599487304688,155.38900756835938,152.906494140625,150.4499969482422,153.22950744628906,154.54800415039062,155.822998046875,156.58900451660156,154.94900512695312,154.11199951171875,156.44549560546875,158.65249633789062,155.8314971923828,153.864501953125,156.32899475097656,159.10000610351562,158.0155029296875,155.48899841308594,152.83299255371094,154.5625,153.64999389648438,155.9665069580078,158.1219940185547,161.79800415039062,162.36549377441406,165.1804962158203,166.22500610351562,168.61000061035156,169.7519989013672,171.60000610351562,170.2064971923828,169.85000610351562,170.33999633789062,171.79649353027344,169.14950561523438,168.14300537109375,168.64349365234375,168.75,171.42250061035156,173.0,174.49400329589844,175.72250366210938,177.6999969482422,174.33250427246094,168.3990020751953,167.73500061035156,165.72000122070312,166.54449462890625,164.14999389648438,161.89999389648438,160.39700317382812,160.19200134277344,161.4429931640625,164.6374969482422,165.60000610351562,161.7375030517578,162.98399353027344,162.83450317382812,162.8975067138672,163.99099731445312,164.7864990234375,163.01800537109375,162.39950561523438,162.5489959716797,161.75,160.7220001220703,161.0500030517578,160.39999389648438,163.97650146484375,164.87899780273438,167.5500030517578,168.32899475097656,169.25,169.84950256347656,171.3175048828125,174.86000061035156,175.35000610351562,174.10000610351562,176.18899536132812,176.0500030517578,176.2429962158203,173.24099731445312,172.39999389648438,172.80149841308594,173.5800018310547,172.85000610351562,175.58599853515625,184.2740020751953,186.7100067138672,187.99949645996094,187.39999389648438,187.864501953125,188.6540069580078,185.88299560546875,184.77000427246094,182.30299377441406,177.510498046875,179.60000610351562,179.32249450683594,182.00100708007812,183.3054962158203,185.60400390625,184.9250030517578,182.92100524902344,181.8975067138672,168.40699768066406,167.9459991455078,169.5500030517578,169.44400024414062,169.4499969482422,168.75,167.74400329589844,167.89999389648438,166.88499450683594,165.72549438476562,165.30349731445312,165.0,164.02450561523438,162.7050018310547,161.64999389648438,160.3905029296875,164.0449981689453,165.77450561523438,166.0500030517578,166.60000610351562,167.61599731445312,172.25,173.62899780273438,176.35000610351562,175.59800720214844,174.1334991455078,176.4044952392578,177.281494140625,177.49949645996094,175.42250061035156,174.8979949951172,174.3404998779297,174.27099609375,174.62750244140625,174.87049865722656,170.9499969482422,168.98500061035156,169.4499969482422,171.447998046875,171.46299743652344,170.77850341796875,168.45950317382812,167.56500244140625,166.3925018310547,165.45849609375,163.99949645996094,163.0364990234375,163.2169952392578,166.28750610351562,166.07150268554688,164.62950134277344,163.37649536132812,164.41900634765625,165.6300048828125,170.52099609375,172.45849609375,172.7344970703125,173.14300537109375,172.01400756835938,171.49200439453125,167.38999938964844,170.80599975585938,171.85000610351562,173.9499969482422,168.74099731445312,168.79299926757812,166.55599975585938,169.74600219726562,174.93150329589844,178.3125,178.9499969482422,179.68850708007812,180.2725067138672,177.16200256347656,177.0364990234375,179.69400024414062,178.8249969482422,179.3625030517578,185.2100067138672,188.1074981689453,185.67300415039062,181.05250549316406,180.6820068359375,181.6750030517578,179.8000030517578,179.2884979248047,177.99400329589844,174.63499450683594,173.49349975585938,173.69549560546875,177.49949645996094,177.17999267578125,176.96949768066406,175.927001953125,172.10000610351562,169.49899291992188,173.60000610351562,174.16600036621094,170.89849853515625,167.87449645996094,170.7165069580078,172.0500030517578,171.97500610351562,172.9429931640625,172.17599487304688,171.21200561523438,170.88800048828125,169.35000610351562,170.70350646972656,171.39999389648438,167.12649536132812,164.8000030517578,165.24349975585938,161.6614990234375,166.35000610351562,166.8780059814453,166.22149658203125,162.25,159.7344970703125,159.25,158.0,150.89999389648438,144.94500732421875,143.60000610351562,145.18499755859375,144.24349975585938,143.9980010986328,150.36050415039062,151.70799255371094,155.0749969482422,144.24749755859375,161.1999969482422,162.6909942626953,161.79249572753906,163.83450317382812,160.7165069580078,159.0,158.44850158691406,158.0070037841797,158.83399963378906,160.3489990234375,155.49949645996094,152.9824981689453,151.76300048828125,151.74899291992188,153.99000549316406,154.4499969482422,154.0989990234375,152.99949645996094,153.9290008544922,147.85000610351562,146.09449768066406,140.69949340820312,140.25,148.67449951171875,149.6750030517578,147.4499969482422,147.98500061035156,153.14999389648438,157.49850463867188,161.593994140625,163.08399963378906,166.16700744628906,166.3699951171875,164.11849975585938,165.36849975585938,169.03750610351562,170.8314971923828,168.95050048828125,166.4949951171875,165.82699584960938,168.39450073242188,168.11050415039062,162.1999969482422,160.07899475097656,157.36849975585938,154.13650512695312,155.0989990234375,156.02499389648438,155.89700317382812,154.0395050048828,158.6490020751953,157.6024932861328,156.73800659179688,149.61500549316406,146.22149658203125,144.8560028076172,141.94850158691406,145.9375,130.76100158691406,124.66799926757812,126.22049713134766,126.0,123.4990005493164,119.05049896240234,114.0,112.64250183105469,110.15599822998047,110.78050231933594,113.18399810791016,113.99250030517578,115.80000305175781,112.85299682617188,110.03399658203125,109.89800262451172,108.81900024414062,105.4000015258789,108.17500305175781,112.66549682617188,115.18699645996094,121.99449920654297,125.17900085449219,125.61000061035156,124.4000015258789,128.99000549316406,124.0999984741211,123.75,121.30000305175781,114.5,106.54000091552734,104.87999725341797,109.05999755859375,104.58000183105469,106.9800033569336,111.62999725341797,112.12999725341797,113.0,116.70999908447266,117.9800033569336,114.8499984741211,110.98999786376953,108.18000030517578,109.75,114.08000183105469,115.4800033569336,116.98999786376953,116.58000183105469,114.30000305175781,113.2300033569336,111.77999877929688,111.18000030517578,115.58999633789062,117.23999786376953,118.94999694824219,123.4800033569336,124.8499984741211,125.5,123.63999938964844,118.1500015258789,121.9000015258789,122.83999633789062,137.64999389648438,138.8300018310547,137.44000244140625,140.49000549316406,143.55999755859375,142.86000061035156,144.22999572753906,138.9499969482422,144.60000610351562,144.49000549316406,143.57000732421875,143.75999450683594,146.57000732421875,143.3800048828125,142.77000427246094,141.11000061035156,136.32000732421875,134.99000549316406,135.47000122070312,137.4199981689453,137.8300018310547,131.9499969482422,132.07000732421875,130.58999633789062,128.02000427246094,131.3800048828125,128.6199951171875,129.82000732421875,130.27999877929688,133.69000244140625,136.49000549316406,131.39999389648438,128.83999633789062,130.3699951171875,123.87000274658203,124.70999908447266,124.4000015258789,123.76000213623047,118.79000091552734,116.05000305175781,117.33999633789062,118.31999969482422,118.69999694824219,116.06999969482422,116.91999816894531,116.91000366210938,123.0,121.75,121.52999877929688,118.16999816894531,116.25,115.4800033569336,113.83000183105469,113.44000244140625,114.95999908447266,114.19000244140625,119.5199966430664,116.58999633789062,118.23999786376953,119.58999633789062,120.38999938964844,121.31999969482422,119.3499984741211,114.12000274658203,103.95999908447266,104.87000274658203,104.58000183105469,97.73999786376953,93.5,92.44000244140625,92.0999984741211,91.72000122070312,89.4800033569336,98.69000244140625,101.19000244140625,100.12000274658203,103.79000091552734,98.48999786376953,96.97000122070312,95.98999786376953,95.0199966430664,93.3499984741211,94.58000183105469,94.43000030517578,96.4000015258789,94.41000366210938,96.54000091552734,97.2300033569336,95.36000061035156,94.05999755859375,91.04000091552734,89.88999938964844],\"low\":[87.28050231933594,86.75,86.7854995727539,87.27200317382812,87.75,87.85250091552734,88.86949920654297,89.11799621582031,88.7030029296875,89.12249755859375,89.22550201416016,89.37899780273438,89.9749984741211,93.30049896240234,92.03099822998047,91.61150360107422,93.2074966430664,93.2249984741211,93.0,94.60199737548828,94.3219985961914,94.79000091552734,94.0,94.04000091552734,92.92749786376953,92.75450134277344,93.3010025024414,92.86250305175781,93.0,94.16699981689453,93.63800048828125,92.37200164794922,90.76699829101562,91.5009994506836,92.7509994506836,92.53050231933594,100.1135025024414,100.01249694824219,100.76850128173828,101.5999984741211,101.23999786376953,101.90499877929688,104.24800109863281,106.80000305175781,107.7645034790039,107.0999984741211,106.29450225830078,106.20549774169922,108.05599975585938,106.37249755859375,104.4000015258789,99.39849853515625,97.9209976196289,98.02249908447266,94.13800048828125,90.55650329589844,93.5,94.40450286865234,96.0999984741211,95.5,93.4749984741211,88.06449890136719,90.90850067138672,90.07499694824219,83.75,84.03099822998047,81.30149841308594,84.46199798583984,87.25,91.63249969482422,91.0364990234375,90.5999984741211,95.01699829101562,94.28900146484375,94.4645004272461,94.99600219726562,95.61699676513672,97.20050048828125,94.6500015258789,94.5,94.4574966430664,96.5009994506836,99.88099670410156,100.55750274658203,100.88300323486328,101.9000015258789,109.31050109863281,112.25,116.75,115.8010025024414,119.30249786376953,113.98300170898438,117.55000305175781,119.10399627685547,119.0999984741211,118.1500015258789,115.30000305175781,115.5,119.80049896240234,112.90950012207031,112.81900024414062,115.35649871826172,116.0,117.15550231933594,117.8499984741211,118.60549926757812,117.75,116.88999938964844,117.6604995727539,117.81849670410156,119.20050048828125,121.44850158691406,123.3635025024414,122.12699890136719,121.50650024414062,120.7030029296875,116.5,118.9114990234375,119.91000366210938,122.20850372314453,122.2655029296875,123.05850219726562,122.50050354003906,121.85649871826172,124.36699676513672,126.25,131.31300354003906,126.8115005493164,125.1675033569336,125.4000015258789,128.8000030517578,131.59100341796875,131.8054962158203,132.9499969482422,133.4499969482422,135.90199279785156,136.0500030517578,135.60699462890625,134.39999389648438,131.50399780273438,133.75149536132812,137.6999969482422,143.55499267578125,146.5,149.5,150.6215057373047,153.6999969482422,156.78500366210938,153.41949462890625,147.5,148.65899658203125,145.9114990234375,147.42250061035156,149.7010040283203,155.28599548339844,153.26300048828125,148.5,144.39999389648438,150.7884979248047,149.78799438476562,149.8385009765625,150.25,157.5500030517578,155.1999969482422,155.0605010986328,156.36500549316406,158.27149963378906,157.0334930419922,155.0760040283203,153.64999389648438,155.0709991455078,157.75,156.0,157.70899963378906,160.29100036621094,162.8000030517578,161.89999389648438,163.76950073242188,162.8780059814453,163.35000610351562,167.22850036621094,168.89999389648438,169.3249969482422,170.25,173.35000610351562,174.33450317382812,165.14999389648438,155.55650329589844,156.5,159.25,158.52749633789062,154.19900512695312,154.8000030517578,155.4459991455078,153.70750427246094,148.62750244140625,145.27699279785156,143.5500030517578,150.00999450683594,149.61900329589844,148.25,149.9499969482422,155.85850524902344,156.6269989013672,156.69949340820312,158.60000610351562,156.14999389648438,157.04249572753906,154.5,156.6195068359375,158.74949645996094,159.89149475097656,166.9774932861328,171.21099853515625,167.0,164.0,158.0,159.63699340820312,159.60049438476562,158.0,156.0970001220703,157.0,157.6649932861328,160.56500244140625,158.12350463867188,158.1999969482422,150.9499969482422,147.50599670410156,149.0489959716797,156.9864959716797,164.44400024414062,161.60000610351562,155.60549926757812,150.9739990234375,152.5,154.30250549316406,154.26950073242188,153.63450622558594,156.76300048828125,155.2550048828125,154.04600524902344,154.90249633789062,153.2729949951172,154.31300354003906,157.01300048828125,159.50250244140625,156.27749633789062,157.85899353027344,158.66299438476562,159.0655059814453,157.93800354003906,157.08450317382812,156.00100708007812,154.39999389648438,153.8000030517578,153.64100646972656,156.3000030517578,156.52450561523438,158.1840057373047,161.0500030517578,158.5800018310547,158.3000030517578,159.00399780273438,159.20849609375,158.4499969482422,158.63450622558594,164.06100463867188,164.12350463867188,162.05999755859375,157.2010040283203,158.2530059814453,156.55799865722656,157.75,157.11000061035156,155.5,154.3000030517578,156.10400390625,156.0294952392578,154.7584991455078,154.8000030517578,158.75,164.47850036621094,164.1580047607422,162.15750122070312,164.14349365234375,160.35400390625,161.4344940185547,159.2274932861328,161.75149536132812,168.05650329589844,165.43099975585938,163.8874969482422,165.135498046875,165.1999969482422,164.89199829101562,162.6999969482422,162.4029998779297,161.66549682617188,162.67950439453125,162.97500610351562,163.69700622558594,162.28750610351562,158.61300659179688,154.67999267578125,156.2689971923828,152.38800048828125,151.8350067138672,154.89950561523438,154.3560028076172,149.75,147.27149963378906,144.0500030517578,147.5655059814453,150.25750732421875,151.50250244140625,154.14649963378906,152.27499389648438,151.60450744628906,153.79299926757812,153.51100158691406,151.25,150.8314971923828,153.00250244140625,156.04249572753906,154.25750732421875,151.85699462890625,149.8000030517578,151.42250061035156,151.6999969482422,153.125,155.77749633789062,158.06199645996094,160.8520050048828,161.1824951171875,164.60000610351562,164.44500732421875,167.5574951171875,169.781494140625,166.3000030517578,167.60000610351562,167.7794952392578,168.00799560546875,165.8000030517578,165.1905059814453,165.07249450683594,165.4250030517578,166.5469970703125,169.90049743652344,171.25,171.75,173.125,168.63499450683594,163.60650634765625,163.21800231933594,162.36000061035156,164.45350646972656,159.5,156.36849975585938,156.65499877929688,156.64999389648438,159.14999389648438,161.72950744628906,161.51849365234375,159.1999969482422,161.8090057373047,159.85049438476562,160.52499389648438,160.68800354003906,162.92550659179688,161.5019989013672,160.98500061035156,160.4530029296875,160.39999389648438,159.20150756835938,159.9405059814453,158.61000061035156,160.90049743652344,163.53500366210938,164.0574951171875,166.67250061035156,166.77499389648438,168.15550231933594,168.02650451660156,170.0500030517578,173.6855010986328,171.6999969482422,172.80450439453125,174.16000366210938,171.54249572753906,169.70899963378906,170.67550659179688,171.15150451660156,171.75,170.4709930419922,171.8459930419922,176.4499969482422,183.94549560546875,181.05599975585938,184.6699981689453,184.83949279785156,183.5659942626953,183.04150390625,181.04600524902344,178.5229949951172,174.95799255371094,175.89999389648438,177.1820068359375,179.11349487304688,181.1020050048828,182.3625030517578,179.3074951171875,180.0500030517578,179.00050354003906,165.3489990234375,165.85000610351562,164.98849487304688,167.2779998779297,167.04600524902344,166.45199584960938,166.42599487304688,165.75,163.88949584960938,163.48350524902344,164.14999389648438,160.55650329589844,161.28399658203125,160.0,159.1230010986328,158.78799438476562,160.50050354003906,163.72900390625,164.3074951171875,164.8000030517578,165.6875,167.76100158691406,169.7794952392578,173.76199340820312,172.75,171.82200622558594,173.8470001220703,174.7834930419922,174.01849365234375,173.14549255371094,171.89999389648438,171.885498046875,170.10049438476562,172.3070068359375,172.60650634765625,165.25050354003906,166.6195068359375,167.05250549316406,169.00250244140625,169.6699981689453,166.98049926757812,164.5050048828125,164.89349365234375,163.69949340820312,162.7969970703125,158.8125,160.1230010986328,159.93099975585938,164.1529998779297,164.41000366210938,161.90499877929688,161.81399536132812,163.05450439453125,164.53900146484375,165.1999969482422,169.2550048828125,171.10000610351562,170.01849365234375,170.14999389648438,166.56500244140625,164.88499450683594,167.19900512695312,168.57249450683594,169.3000030517578,163.66600036621094,164.6009979248047,164.17750549316406,164.87600708007812,168.25,173.8489990234375,174.39300537109375,175.07150268554688,173.1544952392578,173.37350463867188,172.3524932861328,176.29049682617188,176.25750732421875,177.2675018310547,178.0500030517578,183.78599548339844,178.375,176.385498046875,176.84249877929688,175.20750427246094,176.5749969482422,174.60049438476562,172.0800018310547,171.1875,166.92999267578125,166.9344940185547,173.33450317382812,174.75050354003906,174.13949584960938,170.5,169.1300048828125,166.44000244140625,165.19500732421875,168.16050720214844,165.61349487304688,165.60000610351562,165.6475067138672,168.50050354003906,170.14999389648438,169.2154998779297,169.135498046875,168.60049438476562,168.5240020751953,166.55850219726562,166.16050720214844,166.34950256347656,164.35699462890625,161.93699645996094,162.031005859375,156.30450439453125,160.70150756835938,164.41700744628906,161.09100341796875,159.80050659179688,157.6645050048828,156.25,151.3509979248047,142.07049560546875,135.3520050048828,138.14500427246094,137.31849670410156,139.35000610351562,137.92950439453125,144.30050659179688,147.62750244140625,148.86349487304688,138.33299255371094,150.60800170898438,157.25,155.55050659179688,160.25,157.75,152.73399353027344,151.64999389648438,154.6374969482422,154.7344970703125,154.5,150.89300537109375,148.48550415039062,144.6510009765625,139.5,149.2135009765625,150.85000610351562,149.9770050048828,148.75,146.8560028076172,143.8070068359375,137.41650390625,133.57249450683594,136.8280029296875,143.97799682617188,145.36900329589844,140.88400268554688,142.0,147.35350036621094,152.13999938964844,156.01100158691406,159.55299377441406,161.69900512695312,162.68699645996094,160.0500030517578,162.25,164.89999389648438,167.86849975585938,165.5,162.95350646972656,162.3195037841797,163.20550537109375,163.26600646972656,157.25450134277344,154.51150512695312,154.2310028076172,150.5345001220703,150.38299560546875,149.60000610351562,151.4720001220703,150.25050354003906,151.55050659179688,153.60350036621094,147.58949279785156,143.69749450683594,142.30650329589844,138.92950439453125,135.7834930419922,140.3000030517578,121.625,118.375,122.82499694824219,119.18299865722656,115.07250213623047,113.08149719238281,107.95700073242188,107.1709976196289,104.42849731445312,102.40550231933594,107.80000305175781,110.35399627685547,111.27649688720703,106.2490005493164,106.19300079345703,105.0094985961914,103.94999694824219,101.26000213623047,103.6500015258789,107.45349884033203,112.62799835205078,115.67500305175781,120.62249755859375,120.04499816894531,121.04650115966797,123.80999755859375,120.62999725341797,120.75,116.0999984741211,109.05000305175781,101.86000061035156,101.43000030517578,103.52999877929688,102.01000213623047,102.51000213623047,103.55999755859375,107.0199966430664,107.93000030517578,111.43000030517578,112.69999694824219,107.04000091552734,106.91000366210938,102.5199966430664,105.8499984741211,106.31999969482422,112.01000213623047,113.48999786376953,113.69000244140625,110.87000274658203,108.33999633789062,106.01000213623047,107.58000183105469,111.58999633789062,113.1500015258789,114.02999877929688,118.31999969482422,121.26000213623047,121.3499984741211,120.02999877929688,114.52999877929688,117.16000366210938,118.08000183105469,132.41000366210938,133.50999450683594,134.08999633789062,136.0500030517578,139.5500030517578,139.60000610351562,138.2899932861328,136.2100067138672,141.00999450683594,139.75999450683594,140.1199951171875,141.49000549316406,142.0,140.77999877929688,140.3800048828125,137.91000366210938,132.85000610351562,132.9499969482422,132.10000610351562,134.27999877929688,130.5,128.77000427246094,126.8499984741211,126.73999786376953,123.66000366210938,126.38999938964844,124.73999786376953,125.4000015258789,127.0999984741211,130.75999450683594,134.0,126.2699966430664,126.33000183105469,125.5,120.69999694824219,121.80000305175781,121.13999938964844,118.44999694824219,116.26000213623047,112.05999755859375,113.12999725341797,113.05000305175781,113.80000305175781,113.05999755859375,112.83999633789062,112.44999694824219,119.79000091552734,117.69000244140625,119.5,113.87999725341797,112.43000030517578,110.38999938964844,111.4000015258789,105.3499984741211,106.5999984741211,110.08999633789062,114.79000091552734,113.22000122070312,113.51000213623047,114.5,116.56999969482422,118.94999694824219,114.76000213623047,109.7699966430664,97.66000366210938,100.73999786376953,96.05999755859375,92.01000213623047,89.0199966430664,88.04000091552734,89.04000091552734,88.2300033569336,85.87000274658203,91.6500015258789,96.66000366210938,97.29000091552734,97.33999633789062,95.54000091552734,94.02999877929688,92.4800033569336,90.58999633789062,90.87000274658203,92.83000183105469,93.06999969482422,93.43000030517578,91.44000244140625,91.52999877929688,94.91999816894531,93.77999877929688,90.81999969482422,87.9000015258789,87.4800033569336],\"open\":[87.53299713134766,87.37000274658203,87.08350372314453,87.5,88.25,88.3499984741211,88.90049743652344,89.7509994506836,89.0250015258789,89.98100280761719,89.41300201416016,89.69049835205078,90.05049896240234,94.14600372314453,93.69999694824219,92.0999984741211,93.75,93.2249984741211,93.0,95.2249984741211,94.9020004272461,95.49449920654297,95.26850128173828,94.56549835205078,94.29399871826172,93.61250305175781,94.14949798583984,94.29450225830078,93.25,94.80449676513672,94.25550079345703,94.56849670410156,91.0,92.0250015258789,93.19999694824219,92.9000015258789,102.57350158691406,100.52999877929688,101.49400329589844,103.5510025024414,102.0510025024414,102.09950256347656,104.25050354003906,107.54499816894531,108.16000366210938,107.24949645996094,107.78399658203125,106.2509994506836,108.38999938964844,108.65350341796875,107.10749816894531,100.15899658203125,101.32099914550781,98.51399993896484,96.71900177001953,90.73149871826172,95.32450103759766,98.76850128173828,97.32849884033203,96.6500015258789,93.75,88.69300079345703,93.54399871826172,92.89250183105469,86.0989990234375,87.75,82.07550048828125,88.77349853515625,87.5,93.0,96.31549835205078,91.38749694824219,97.57499694824219,96.03450012207031,95.0999984741211,96.54299926757812,96.1415023803711,98.21749877929688,96.64849853515625,95.08200073242188,95.55750274658203,96.80000305175781,100.85549926757812,101.05000305175781,102.21499633789062,102.0,110.02349853515625,112.88400268554688,117.30000305175781,118.61650085449219,119.49749755859375,120.83049774169922,118.44999694824219,119.9990005493164,120.8499984741211,122.16000366210938,118.6050033569336,116.50050354003906,120.99199676513672,116.83999633789062,112.81900024414062,117.0,116.47200012207031,118.73899841308594,118.60700225830078,118.73500061035156,120.59249877929688,118.33999633789062,118.05049896240234,118.4260025024414,120.21749877929688,121.49150085449219,123.89350128173828,125.0,122.75050354003906,122.9000015258789,120.24949645996094,119.21649932861328,120.7969970703125,122.4000015258789,123.3499984741211,123.40049743652344,123.87149810791016,122.22550201416016,125.01000213623047,126.47200012207031,132.25,130.1750030517578,130.0605010986328,126.33000183105469,131.0,132.375,132.35049438476562,133.9040069580078,134.22500610351562,136.30099487304688,139.0,136.9774932861328,138.7530059814453,134.50050354003906,134.2534942626953,137.89950561523438,145.60049438476562,146.74850463867188,152.92750549316406,151.1304931640625,155.79949951171875,159.58799743652344,162.55299377441406,154.4499969482422,154.01150512695312,148.55299377441406,150.4499969482422,150.00999450683594,161.62449645996094,156.25,154.9134979248047,146.5,153.10000610351562,152.7135009765625,151.54949951171875,150.6999969482422,162.1999969482422,159.02549743652344,155.0605010986328,157.18850708007812,159.71800231933594,161.20050048828125,158.5155029296875,155.66000366210938,155.39999389648438,159.14950561523438,158.90899658203125,158.656005859375,160.60000610351562,165.15049743652344,162.60000610351562,164.75,165.50750732421875,164.74949645996094,167.5554962158203,172.50250244140625,171.14999389648438,170.44949340820312,174.47900390625,177.35000610351562,174.25,165.89999389648438,157.1999969482422,160.14950561523438,165.36099243164062,160.4344940185547,158.64700317382812,156.80799865722656,158.99949645996094,150.46249389648438,151.58700561523438,145.3249969482422,151.69200134277344,156.02149963378906,148.88949584960938,152.7429962158203,157.4425048828125,158.76950073242188,157.0570068359375,160.39999389648438,157.68150329589844,157.29200744628906,158.25,156.75,161.24949645996094,160.5,167.4969940185547,173.39950561523438,172.35000610351562,164.60049438476562,168.1614990234375,164.98049926757812,161.11399841308594,160.625,159.49349975585938,159.5500030517578,159.93699645996094,161.2469940185547,162.46499633789062,160.06350708007812,157.8874969482422,153.08700561523438,150.92649841308594,157.99949645996094,165.99850463867188,165.23199462890625,161.55149841308594,154.75100708007812,153.08900451660156,157.99749755859375,156.10000610351562,154.66000366210938,159.177001953125,156.6999969482422,155.2655029296875,155.8509979248047,155.8350067138672,155.02499389648438,157.093505859375,160.56300354003906,160.4239959716797,159.4250030517578,161.08250427246094,160.2729949951172,159.91050720214844,157.82400512695312,157.94500732421875,158.39450073242188,154.44949340820312,154.83299255371094,157.14999389648438,159.05050659179688,158.80050659179688,162.5,162.19949340820312,160.00050354003906,160.14199829101562,160.25,159.69500732421875,159.6999969482422,165.4969940185547,167.0500030517578,163.75,163.5,158.30050659179688,157.32400512695312,157.85000610351562,159.0,157.40049743652344,156.0,156.4219970703125,158.37600708007812,156.1510009765625,155.35000610351562,159.09950256347656,164.64999389648438,165.2154998779297,166.4250030517578,164.8179931640625,167.07449340820312,161.7519989013672,161.5,162.1179962158203,169.0,171.25050354003906,166.5,165.9499969482422,167.9250030517578,165.62449645996094,165.6999969482422,164.60000610351562,162.5,162.70249938964844,163.17999267578125,164.12100219726562,166.4114990234375,160.406494140625,156.35150146484375,158.33749389648438,156.83700561523438,154.75999450683594,156.39450073242188,157.17349243164062,154.0590057373047,150.60000610351562,150.25,150.75,150.89950561523438,154.92250061035156,155.20050048828125,153.75,153.72850036621094,155.24850463867188,153.66099548339844,155.0500030517578,151.4615020751953,153.3925018310547,156.35000610351562,157.552001953125,153.64950561523438,152.2030029296875,152.77200317382812,153.50050354003906,153.2030029296875,155.89700317382812,158.64999389648438,161.1875,161.69000244140625,165.5449981689453,165.23500061035156,167.760498046875,170.04249572753906,170.20199584960938,168.5500030517578,169.0,169.51649475097656,168.67999267578125,165.8000030517578,168.58399963378906,165.9550018310547,167.39999389648438,172.17349243164062,171.74000549316406,175.2550048828125,176.25599670410156,174.2364959716797,167.8094940185547,166.9429931640625,163.5,165.95449829101562,164.11599731445312,156.81399536132812,159.25,159.27349853515625,159.2779998779297,162.29649353027344,164.62899780273438,159.75,162.22000122070312,162.5,160.77499389648438,163.33349609375,163.72950744628906,162.8000030517578,162.10000610351562,162.1750030517578,161.15499877929688,160.2115020751953,160.60000610351562,159.8665008544922,161.1304931640625,163.64349365234375,164.10049438476562,167.4824981689453,167.3415069580078,169.1999969482422,169.60000610351562,170.15899658203125,173.99949645996094,173.8209991455078,172.9029998779297,175.25,175.3820037841797,173.1999969482422,170.8000030517578,171.9409942626953,172.05299377441406,171.73049926757812,172.58200073242188,176.5054931640625,185.86900329589844,182.17799377441406,186.12600708007812,187.1999969482422,185.10499572753906,185.4425048828125,184.7100067138672,181.66549682617188,176.62899780273438,178.36599731445312,178.81900024414062,179.3614959716797,182.0,183.6584930419922,184.9250030517578,181.68899536132812,181.3874969482422,167.3975067138672,167.65499877929688,167.03599548339844,168.96749877929688,167.81100463867188,168.75,167.1804962158203,167.25050354003906,166.57249450683594,164.5,165.2834930419922,164.14999389648438,163.875,162.09950256347656,159.7010040283203,160.19349670410156,160.59500122070312,164.0,165.49349975585938,164.9499969482422,166.6614990234375,167.8715057373047,171.24000549316406,174.82000732421875,174.73800659179688,172.60000610351562,173.89999389648438,175.58250427246094,176.30099487304688,175.0915069580078,174.13999938964844,173.77749633789062,172.12600708007812,172.9980010986328,174.42050170898438,169.8000030517578,168.75,167.5500030517578,169.00250244140625,170.10049438476562,168.5749969482422,167.885498046875,166.10549926757812,165.8000030517578,164.45050048828125,163.96949768066406,160.22500610351562,160.67649841308594,164.57699584960938,165.85000610351562,163.75,162.85000610351562,163.48550415039062,165.12249755859375,165.5709991455078,169.41799926757812,171.71449279785156,172.63299560546875,170.71249389648438,171.0500030517578,166.75,167.47549438476562,169.39999389648438,170.10499572753906,165.00100708007812,168.08999633789062,165.75050354003906,165.4499969482422,168.5,173.85000610351562,176.16200256347656,175.7624969482422,178.19349670410156,175.64999389648438,174.25,176.85000610351562,176.9499969482422,178.23599243164062,178.3175048828125,185.63450622558594,183.81900024414062,179.2519989013672,178.1334991455078,180.10499572753906,177.3820037841797,178.1750030517578,177.25,173.0,172.75,169.64999389648438,174.60000610351562,176.15049743652344,175.75,175.41700744628906,172.0,167.5500030517578,168.59800720214844,173.36849975585938,167.7104949951172,166.85000610351562,167.85049438476562,169.27000427246094,170.42799377441406,171.03700256347656,170.1824951171875,170.83999633789062,169.6999969482422,168.95599365234375,167.5500030517578,170.43800354003906,166.88299560546875,163.45050048828125,163.83900451660156,160.5854949951172,161.5,166.5749969482422,165.25050354003906,160.14999389648438,159.10499572753906,158.76199340820312,156.76600646972656,149.9499969482422,139.0,142.24249267578125,144.75,140.8000030517578,140.86050415039062,144.75,150.0,155.05050659179688,141.7375030517578,155.60650634765625,158.52000427246094,156.75050354003906,162.87350463867188,158.35000610351562,158.13450622558594,151.75100708007812,157.60549926757812,155.79049682617188,158.14599609375,155.49949645996094,150.47850036621094,151.65049743652344,139.83749389648438,150.5500030517578,152.4250030517578,152.7324981689453,150.8489990234375,153.531494140625,147.15899658203125,145.44349670410156,136.68350219726562,139.5,145.68499755859375,149.57449340820312,145.9810028076172,142.85000610351562,148.5,152.6405029296875,156.81300354003906,161.12100219726562,161.8054962158203,163.7050018310547,163.74949645996094,164.0,164.97500610351562,170.38400268554688,168.50950622558594,166.44500732421875,164.14950561523438,164.125,167.7415008544922,161.65049743652344,158.39999389648438,156.75,152.71299743652344,153.6925048828125,150.01849365234375,155.38999938964844,151.52349853515625,152.0294952392578,157.6024932861328,154.71400451660156,148.25,144.0229949951172,144.8000030517578,140.19149780273438,142.17799377441406,129.8489990234375,122.4010009765625,124.05349731445312,123.5999984741211,123.0,114.8499984741211,111.3125,111.25,108.10350036621094,102.75,109.06900024414062,113.0999984741211,113.2750015258789,111.43949890136719,106.28050231933594,109.56849670410156,108.46099853515625,104.0250015258789,103.65550231933594,107.97000122070312,113.55000305175781,116.27999877929688,122.25599670410156,121.68399810791016,124.19999694824219,125.25,122.01000213623047,122.61000061035156,119.98999786376953,113.41999816894531,104.19000244140625,104.19000244140625,103.86000061035156,104.47000122070312,102.80000305175781,108.19999694824219,107.43000030517578,110.38999938964844,112.37999725341797,117.08999633789062,113.5,107.37999725341797,108.11000061035156,106.29000091552734,107.5999984741211,113.20999908447266,113.8499984741211,114.5999984741211,114.08000183105469,112.16000366210938,107.02999877929688,110.23999786376953,112.5,115.0,115.69999694824219,118.62000274658203,123.19999694824219,125.01000213623047,122.69999694824219,115.79000091552734,117.30999755859375,121.56999969482422,134.89999389648438,134.9600067138672,134.72000122070312,136.2100067138672,140.5800018310547,140.10000610351562,142.0500030517578,138.0500030517578,142.89999389648438,143.86000061035156,142.0500030517578,142.8000030517578,143.91000366210938,142.69000244140625,141.32000732421875,140.47000122070312,135.72000122070312,133.41000366210938,132.75,135.25999450683594,136.5500030517578,129.89999389648438,131.25,129.4499969482422,126.0,129.5,127.91999816894531,126.12000274658203,127.72000122070312,130.91000366210938,134.10000610351562,131.00999450683594,127.36000061035156,127.37999725341797,122.77999877929688,122.16000366210938,123.3499984741211,122.48999786376953,117.08000183105469,116.0,113.30000305175781,117.19999694824219,114.37999725341797,115.5999984741211,114.08000183105469,113.58000183105469,119.88999938964844,118.58000183105469,120.7699966430664,118.0,115.0999984741211,112.70999908447266,112.48999786376953,107.87999725341797,114.0999984741211,110.11000061035156,119.05999755859375,114.70999908447266,113.83000183105469,114.79000091552734,119.9800033569336,119.6500015258789,116.0,113.91999816894531,97.91000366210938,103.55999755859375,103.98999786376953,97.31999969482422,92.47000122070312,91.48999786376953,91.94999694824219,90.79000091552734,89.47000122070312,92.94000244140625,97.87999725341797,98.7699966430664,103.20999908447266,96.8499984741211,95.37000274658203,95.94999694824219,93.97000122070312,92.62000274658203,93.23999786376953,93.79000091552734,93.93000030517578,94.04000091552734,92.47000122070312,96.98999786376953,94.4800033569336,93.05000305175781,90.5,88.33999633789062],\"x\":[\"2019-12-09T00:00:00-05:00\",\"2019-12-10T00:00:00-05:00\",\"2019-12-11T00:00:00-05:00\",\"2019-12-12T00:00:00-05:00\",\"2019-12-13T00:00:00-05:00\",\"2019-12-16T00:00:00-05:00\",\"2019-12-17T00:00:00-05:00\",\"2019-12-18T00:00:00-05:00\",\"2019-12-19T00:00:00-05:00\",\"2019-12-20T00:00:00-05:00\",\"2019-12-23T00:00:00-05:00\",\"2019-12-24T00:00:00-05:00\",\"2019-12-26T00:00:00-05:00\",\"2019-12-27T00:00:00-05:00\",\"2019-12-30T00:00:00-05:00\",\"2019-12-31T00:00:00-05:00\",\"2020-01-02T00:00:00-05:00\",\"2020-01-03T00:00:00-05:00\",\"2020-01-06T00:00:00-05:00\",\"2020-01-07T00:00:00-05:00\",\"2020-01-08T00:00:00-05:00\",\"2020-01-09T00:00:00-05:00\",\"2020-01-10T00:00:00-05:00\",\"2020-01-13T00:00:00-05:00\",\"2020-01-14T00:00:00-05:00\",\"2020-01-15T00:00:00-05:00\",\"2020-01-16T00:00:00-05:00\",\"2020-01-17T00:00:00-05:00\",\"2020-01-21T00:00:00-05:00\",\"2020-01-22T00:00:00-05:00\",\"2020-01-23T00:00:00-05:00\",\"2020-01-24T00:00:00-05:00\",\"2020-01-27T00:00:00-05:00\",\"2020-01-28T00:00:00-05:00\",\"2020-01-29T00:00:00-05:00\",\"2020-01-30T00:00:00-05:00\",\"2020-01-31T00:00:00-05:00\",\"2020-02-03T00:00:00-05:00\",\"2020-02-04T00:00:00-05:00\",\"2020-02-05T00:00:00-05:00\",\"2020-02-06T00:00:00-05:00\",\"2020-02-07T00:00:00-05:00\",\"2020-02-10T00:00:00-05:00\",\"2020-02-11T00:00:00-05:00\",\"2020-02-12T00:00:00-05:00\",\"2020-02-13T00:00:00-05:00\",\"2020-02-14T00:00:00-05:00\",\"2020-02-18T00:00:00-05:00\",\"2020-02-19T00:00:00-05:00\",\"2020-02-20T00:00:00-05:00\",\"2020-02-21T00:00:00-05:00\",\"2020-02-24T00:00:00-05:00\",\"2020-02-25T00:00:00-05:00\",\"2020-02-26T00:00:00-05:00\",\"2020-02-27T00:00:00-05:00\",\"2020-02-28T00:00:00-05:00\",\"2020-03-02T00:00:00-05:00\",\"2020-03-03T00:00:00-05:00\",\"2020-03-04T00:00:00-05:00\",\"2020-03-05T00:00:00-05:00\",\"2020-03-06T00:00:00-05:00\",\"2020-03-09T00:00:00-04:00\",\"2020-03-10T00:00:00-04:00\",\"2020-03-11T00:00:00-04:00\",\"2020-03-12T00:00:00-04:00\",\"2020-03-13T00:00:00-04:00\",\"2020-03-16T00:00:00-04:00\",\"2020-03-17T00:00:00-04:00\",\"2020-03-18T00:00:00-04:00\",\"2020-03-19T00:00:00-04:00\",\"2020-03-20T00:00:00-04:00\",\"2020-03-23T00:00:00-04:00\",\"2020-03-24T00:00:00-04:00\",\"2020-03-25T00:00:00-04:00\",\"2020-03-26T00:00:00-04:00\",\"2020-03-27T00:00:00-04:00\",\"2020-03-30T00:00:00-04:00\",\"2020-03-31T00:00:00-04:00\",\"2020-04-01T00:00:00-04:00\",\"2020-04-02T00:00:00-04:00\",\"2020-04-03T00:00:00-04:00\",\"2020-04-06T00:00:00-04:00\",\"2020-04-07T00:00:00-04:00\",\"2020-04-08T00:00:00-04:00\",\"2020-04-09T00:00:00-04:00\",\"2020-04-13T00:00:00-04:00\",\"2020-04-14T00:00:00-04:00\",\"2020-04-15T00:00:00-04:00\",\"2020-04-16T00:00:00-04:00\",\"2020-04-17T00:00:00-04:00\",\"2020-04-20T00:00:00-04:00\",\"2020-04-21T00:00:00-04:00\",\"2020-04-22T00:00:00-04:00\",\"2020-04-23T00:00:00-04:00\",\"2020-04-24T00:00:00-04:00\",\"2020-04-27T00:00:00-04:00\",\"2020-04-28T00:00:00-04:00\",\"2020-04-29T00:00:00-04:00\",\"2020-04-30T00:00:00-04:00\",\"2020-05-01T00:00:00-04:00\",\"2020-05-04T00:00:00-04:00\",\"2020-05-05T00:00:00-04:00\",\"2020-05-06T00:00:00-04:00\",\"2020-05-07T00:00:00-04:00\",\"2020-05-08T00:00:00-04:00\",\"2020-05-11T00:00:00-04:00\",\"2020-05-12T00:00:00-04:00\",\"2020-05-13T00:00:00-04:00\",\"2020-05-14T00:00:00-04:00\",\"2020-05-15T00:00:00-04:00\",\"2020-05-18T00:00:00-04:00\",\"2020-05-19T00:00:00-04:00\",\"2020-05-20T00:00:00-04:00\",\"2020-05-21T00:00:00-04:00\",\"2020-05-22T00:00:00-04:00\",\"2020-05-26T00:00:00-04:00\",\"2020-05-27T00:00:00-04:00\",\"2020-05-28T00:00:00-04:00\",\"2020-05-29T00:00:00-04:00\",\"2020-06-01T00:00:00-04:00\",\"2020-06-02T00:00:00-04:00\",\"2020-06-03T00:00:00-04:00\",\"2020-06-04T00:00:00-04:00\",\"2020-06-05T00:00:00-04:00\",\"2020-06-08T00:00:00-04:00\",\"2020-06-09T00:00:00-04:00\",\"2020-06-10T00:00:00-04:00\",\"2020-06-11T00:00:00-04:00\",\"2020-06-12T00:00:00-04:00\",\"2020-06-15T00:00:00-04:00\",\"2020-06-16T00:00:00-04:00\",\"2020-06-17T00:00:00-04:00\",\"2020-06-18T00:00:00-04:00\",\"2020-06-19T00:00:00-04:00\",\"2020-06-22T00:00:00-04:00\",\"2020-06-23T00:00:00-04:00\",\"2020-06-24T00:00:00-04:00\",\"2020-06-25T00:00:00-04:00\",\"2020-06-26T00:00:00-04:00\",\"2020-06-29T00:00:00-04:00\",\"2020-06-30T00:00:00-04:00\",\"2020-07-01T00:00:00-04:00\",\"2020-07-02T00:00:00-04:00\",\"2020-07-06T00:00:00-04:00\",\"2020-07-07T00:00:00-04:00\",\"2020-07-08T00:00:00-04:00\",\"2020-07-09T00:00:00-04:00\",\"2020-07-10T00:00:00-04:00\",\"2020-07-13T00:00:00-04:00\",\"2020-07-14T00:00:00-04:00\",\"2020-07-15T00:00:00-04:00\",\"2020-07-16T00:00:00-04:00\",\"2020-07-17T00:00:00-04:00\",\"2020-07-20T00:00:00-04:00\",\"2020-07-21T00:00:00-04:00\",\"2020-07-22T00:00:00-04:00\",\"2020-07-23T00:00:00-04:00\",\"2020-07-24T00:00:00-04:00\",\"2020-07-27T00:00:00-04:00\",\"2020-07-28T00:00:00-04:00\",\"2020-07-29T00:00:00-04:00\",\"2020-07-30T00:00:00-04:00\",\"2020-07-31T00:00:00-04:00\",\"2020-08-03T00:00:00-04:00\",\"2020-08-04T00:00:00-04:00\",\"2020-08-05T00:00:00-04:00\",\"2020-08-06T00:00:00-04:00\",\"2020-08-07T00:00:00-04:00\",\"2020-08-10T00:00:00-04:00\",\"2020-08-11T00:00:00-04:00\",\"2020-08-12T00:00:00-04:00\",\"2020-08-13T00:00:00-04:00\",\"2020-08-14T00:00:00-04:00\",\"2020-08-17T00:00:00-04:00\",\"2020-08-18T00:00:00-04:00\",\"2020-08-19T00:00:00-04:00\",\"2020-08-20T00:00:00-04:00\",\"2020-08-21T00:00:00-04:00\",\"2020-08-24T00:00:00-04:00\",\"2020-08-25T00:00:00-04:00\",\"2020-08-26T00:00:00-04:00\",\"2020-08-27T00:00:00-04:00\",\"2020-08-28T00:00:00-04:00\",\"2020-08-31T00:00:00-04:00\",\"2020-09-01T00:00:00-04:00\",\"2020-09-02T00:00:00-04:00\",\"2020-09-03T00:00:00-04:00\",\"2020-09-04T00:00:00-04:00\",\"2020-09-08T00:00:00-04:00\",\"2020-09-09T00:00:00-04:00\",\"2020-09-10T00:00:00-04:00\",\"2020-09-11T00:00:00-04:00\",\"2020-09-14T00:00:00-04:00\",\"2020-09-15T00:00:00-04:00\",\"2020-09-16T00:00:00-04:00\",\"2020-09-17T00:00:00-04:00\",\"2020-09-18T00:00:00-04:00\",\"2020-09-21T00:00:00-04:00\",\"2020-09-22T00:00:00-04:00\",\"2020-09-23T00:00:00-04:00\",\"2020-09-24T00:00:00-04:00\",\"2020-09-25T00:00:00-04:00\",\"2020-09-28T00:00:00-04:00\",\"2020-09-29T00:00:00-04:00\",\"2020-09-30T00:00:00-04:00\",\"2020-10-01T00:00:00-04:00\",\"2020-10-02T00:00:00-04:00\",\"2020-10-05T00:00:00-04:00\",\"2020-10-06T00:00:00-04:00\",\"2020-10-07T00:00:00-04:00\",\"2020-10-08T00:00:00-04:00\",\"2020-10-09T00:00:00-04:00\",\"2020-10-12T00:00:00-04:00\",\"2020-10-13T00:00:00-04:00\",\"2020-10-14T00:00:00-04:00\",\"2020-10-15T00:00:00-04:00\",\"2020-10-16T00:00:00-04:00\",\"2020-10-19T00:00:00-04:00\",\"2020-10-20T00:00:00-04:00\",\"2020-10-21T00:00:00-04:00\",\"2020-10-22T00:00:00-04:00\",\"2020-10-23T00:00:00-04:00\",\"2020-10-26T00:00:00-04:00\",\"2020-10-27T00:00:00-04:00\",\"2020-10-28T00:00:00-04:00\",\"2020-10-29T00:00:00-04:00\",\"2020-10-30T00:00:00-04:00\",\"2020-11-02T00:00:00-05:00\",\"2020-11-03T00:00:00-05:00\",\"2020-11-04T00:00:00-05:00\",\"2020-11-05T00:00:00-05:00\",\"2020-11-06T00:00:00-05:00\",\"2020-11-09T00:00:00-05:00\",\"2020-11-10T00:00:00-05:00\",\"2020-11-11T00:00:00-05:00\",\"2020-11-12T00:00:00-05:00\",\"2020-11-13T00:00:00-05:00\",\"2020-11-16T00:00:00-05:00\",\"2020-11-17T00:00:00-05:00\",\"2020-11-18T00:00:00-05:00\",\"2020-11-19T00:00:00-05:00\",\"2020-11-20T00:00:00-05:00\",\"2020-11-23T00:00:00-05:00\",\"2020-11-24T00:00:00-05:00\",\"2020-11-25T00:00:00-05:00\",\"2020-11-27T00:00:00-05:00\",\"2020-11-30T00:00:00-05:00\",\"2020-12-01T00:00:00-05:00\",\"2020-12-02T00:00:00-05:00\",\"2020-12-03T00:00:00-05:00\",\"2020-12-04T00:00:00-05:00\",\"2020-12-07T00:00:00-05:00\",\"2020-12-08T00:00:00-05:00\",\"2020-12-09T00:00:00-05:00\",\"2020-12-10T00:00:00-05:00\",\"2020-12-11T00:00:00-05:00\",\"2020-12-14T00:00:00-05:00\",\"2020-12-15T00:00:00-05:00\",\"2020-12-16T00:00:00-05:00\",\"2020-12-17T00:00:00-05:00\",\"2020-12-18T00:00:00-05:00\",\"2020-12-21T00:00:00-05:00\",\"2020-12-22T00:00:00-05:00\",\"2020-12-23T00:00:00-05:00\",\"2020-12-24T00:00:00-05:00\",\"2020-12-28T00:00:00-05:00\",\"2020-12-29T00:00:00-05:00\",\"2020-12-30T00:00:00-05:00\",\"2020-12-31T00:00:00-05:00\",\"2021-01-04T00:00:00-05:00\",\"2021-01-05T00:00:00-05:00\",\"2021-01-06T00:00:00-05:00\",\"2021-01-07T00:00:00-05:00\",\"2021-01-08T00:00:00-05:00\",\"2021-01-11T00:00:00-05:00\",\"2021-01-12T00:00:00-05:00\",\"2021-01-13T00:00:00-05:00\",\"2021-01-14T00:00:00-05:00\",\"2021-01-15T00:00:00-05:00\",\"2021-01-19T00:00:00-05:00\",\"2021-01-20T00:00:00-05:00\",\"2021-01-21T00:00:00-05:00\",\"2021-01-22T00:00:00-05:00\",\"2021-01-25T00:00:00-05:00\",\"2021-01-26T00:00:00-05:00\",\"2021-01-27T00:00:00-05:00\",\"2021-01-28T00:00:00-05:00\",\"2021-01-29T00:00:00-05:00\",\"2021-02-01T00:00:00-05:00\",\"2021-02-02T00:00:00-05:00\",\"2021-02-03T00:00:00-05:00\",\"2021-02-04T00:00:00-05:00\",\"2021-02-05T00:00:00-05:00\",\"2021-02-08T00:00:00-05:00\",\"2021-02-09T00:00:00-05:00\",\"2021-02-10T00:00:00-05:00\",\"2021-02-11T00:00:00-05:00\",\"2021-02-12T00:00:00-05:00\",\"2021-02-16T00:00:00-05:00\",\"2021-02-17T00:00:00-05:00\",\"2021-02-18T00:00:00-05:00\",\"2021-02-19T00:00:00-05:00\",\"2021-02-22T00:00:00-05:00\",\"2021-02-23T00:00:00-05:00\",\"2021-02-24T00:00:00-05:00\",\"2021-02-25T00:00:00-05:00\",\"2021-02-26T00:00:00-05:00\",\"2021-03-01T00:00:00-05:00\",\"2021-03-02T00:00:00-05:00\",\"2021-03-03T00:00:00-05:00\",\"2021-03-04T00:00:00-05:00\",\"2021-03-05T00:00:00-05:00\",\"2021-03-08T00:00:00-05:00\",\"2021-03-09T00:00:00-05:00\",\"2021-03-10T00:00:00-05:00\",\"2021-03-11T00:00:00-05:00\",\"2021-03-12T00:00:00-05:00\",\"2021-03-15T00:00:00-04:00\",\"2021-03-16T00:00:00-04:00\",\"2021-03-17T00:00:00-04:00\",\"2021-03-18T00:00:00-04:00\",\"2021-03-19T00:00:00-04:00\",\"2021-03-22T00:00:00-04:00\",\"2021-03-23T00:00:00-04:00\",\"2021-03-24T00:00:00-04:00\",\"2021-03-25T00:00:00-04:00\",\"2021-03-26T00:00:00-04:00\",\"2021-03-29T00:00:00-04:00\",\"2021-03-30T00:00:00-04:00\",\"2021-03-31T00:00:00-04:00\",\"2021-04-01T00:00:00-04:00\",\"2021-04-05T00:00:00-04:00\",\"2021-04-06T00:00:00-04:00\",\"2021-04-07T00:00:00-04:00\",\"2021-04-08T00:00:00-04:00\",\"2021-04-09T00:00:00-04:00\",\"2021-04-12T00:00:00-04:00\",\"2021-04-13T00:00:00-04:00\",\"2021-04-14T00:00:00-04:00\",\"2021-04-15T00:00:00-04:00\",\"2021-04-16T00:00:00-04:00\",\"2021-04-19T00:00:00-04:00\",\"2021-04-20T00:00:00-04:00\",\"2021-04-21T00:00:00-04:00\",\"2021-04-22T00:00:00-04:00\",\"2021-04-23T00:00:00-04:00\",\"2021-04-26T00:00:00-04:00\",\"2021-04-27T00:00:00-04:00\",\"2021-04-28T00:00:00-04:00\",\"2021-04-29T00:00:00-04:00\",\"2021-04-30T00:00:00-04:00\",\"2021-05-03T00:00:00-04:00\",\"2021-05-04T00:00:00-04:00\",\"2021-05-05T00:00:00-04:00\",\"2021-05-06T00:00:00-04:00\",\"2021-05-07T00:00:00-04:00\",\"2021-05-10T00:00:00-04:00\",\"2021-05-11T00:00:00-04:00\",\"2021-05-12T00:00:00-04:00\",\"2021-05-13T00:00:00-04:00\",\"2021-05-14T00:00:00-04:00\",\"2021-05-17T00:00:00-04:00\",\"2021-05-18T00:00:00-04:00\",\"2021-05-19T00:00:00-04:00\",\"2021-05-20T00:00:00-04:00\",\"2021-05-21T00:00:00-04:00\",\"2021-05-24T00:00:00-04:00\",\"2021-05-25T00:00:00-04:00\",\"2021-05-26T00:00:00-04:00\",\"2021-05-27T00:00:00-04:00\",\"2021-05-28T00:00:00-04:00\",\"2021-06-01T00:00:00-04:00\",\"2021-06-02T00:00:00-04:00\",\"2021-06-03T00:00:00-04:00\",\"2021-06-04T00:00:00-04:00\",\"2021-06-07T00:00:00-04:00\",\"2021-06-08T00:00:00-04:00\",\"2021-06-09T00:00:00-04:00\",\"2021-06-10T00:00:00-04:00\",\"2021-06-11T00:00:00-04:00\",\"2021-06-14T00:00:00-04:00\",\"2021-06-15T00:00:00-04:00\",\"2021-06-16T00:00:00-04:00\",\"2021-06-17T00:00:00-04:00\",\"2021-06-18T00:00:00-04:00\",\"2021-06-21T00:00:00-04:00\",\"2021-06-22T00:00:00-04:00\",\"2021-06-23T00:00:00-04:00\",\"2021-06-24T00:00:00-04:00\",\"2021-06-25T00:00:00-04:00\",\"2021-06-28T00:00:00-04:00\",\"2021-06-29T00:00:00-04:00\",\"2021-06-30T00:00:00-04:00\",\"2021-07-01T00:00:00-04:00\",\"2021-07-02T00:00:00-04:00\",\"2021-07-06T00:00:00-04:00\",\"2021-07-07T00:00:00-04:00\",\"2021-07-08T00:00:00-04:00\",\"2021-07-09T00:00:00-04:00\",\"2021-07-12T00:00:00-04:00\",\"2021-07-13T00:00:00-04:00\",\"2021-07-14T00:00:00-04:00\",\"2021-07-15T00:00:00-04:00\",\"2021-07-16T00:00:00-04:00\",\"2021-07-19T00:00:00-04:00\",\"2021-07-20T00:00:00-04:00\",\"2021-07-21T00:00:00-04:00\",\"2021-07-22T00:00:00-04:00\",\"2021-07-23T00:00:00-04:00\",\"2021-07-26T00:00:00-04:00\",\"2021-07-27T00:00:00-04:00\",\"2021-07-28T00:00:00-04:00\",\"2021-07-29T00:00:00-04:00\",\"2021-07-30T00:00:00-04:00\",\"2021-08-02T00:00:00-04:00\",\"2021-08-03T00:00:00-04:00\",\"2021-08-04T00:00:00-04:00\",\"2021-08-05T00:00:00-04:00\",\"2021-08-06T00:00:00-04:00\",\"2021-08-09T00:00:00-04:00\",\"2021-08-10T00:00:00-04:00\",\"2021-08-11T00:00:00-04:00\",\"2021-08-12T00:00:00-04:00\",\"2021-08-13T00:00:00-04:00\",\"2021-08-16T00:00:00-04:00\",\"2021-08-17T00:00:00-04:00\",\"2021-08-18T00:00:00-04:00\",\"2021-08-19T00:00:00-04:00\",\"2021-08-20T00:00:00-04:00\",\"2021-08-23T00:00:00-04:00\",\"2021-08-24T00:00:00-04:00\",\"2021-08-25T00:00:00-04:00\",\"2021-08-26T00:00:00-04:00\",\"2021-08-27T00:00:00-04:00\",\"2021-08-30T00:00:00-04:00\",\"2021-08-31T00:00:00-04:00\",\"2021-09-01T00:00:00-04:00\",\"2021-09-02T00:00:00-04:00\",\"2021-09-03T00:00:00-04:00\",\"2021-09-07T00:00:00-04:00\",\"2021-09-08T00:00:00-04:00\",\"2021-09-09T00:00:00-04:00\",\"2021-09-10T00:00:00-04:00\",\"2021-09-13T00:00:00-04:00\",\"2021-09-14T00:00:00-04:00\",\"2021-09-15T00:00:00-04:00\",\"2021-09-16T00:00:00-04:00\",\"2021-09-17T00:00:00-04:00\",\"2021-09-20T00:00:00-04:00\",\"2021-09-21T00:00:00-04:00\",\"2021-09-22T00:00:00-04:00\",\"2021-09-23T00:00:00-04:00\",\"2021-09-24T00:00:00-04:00\",\"2021-09-27T00:00:00-04:00\",\"2021-09-28T00:00:00-04:00\",\"2021-09-29T00:00:00-04:00\",\"2021-09-30T00:00:00-04:00\",\"2021-10-01T00:00:00-04:00\",\"2021-10-04T00:00:00-04:00\",\"2021-10-05T00:00:00-04:00\",\"2021-10-06T00:00:00-04:00\",\"2021-10-07T00:00:00-04:00\",\"2021-10-08T00:00:00-04:00\",\"2021-10-11T00:00:00-04:00\",\"2021-10-12T00:00:00-04:00\",\"2021-10-13T00:00:00-04:00\",\"2021-10-14T00:00:00-04:00\",\"2021-10-15T00:00:00-04:00\",\"2021-10-18T00:00:00-04:00\",\"2021-10-19T00:00:00-04:00\",\"2021-10-20T00:00:00-04:00\",\"2021-10-21T00:00:00-04:00\",\"2021-10-22T00:00:00-04:00\",\"2021-10-25T00:00:00-04:00\",\"2021-10-26T00:00:00-04:00\",\"2021-10-27T00:00:00-04:00\",\"2021-10-28T00:00:00-04:00\",\"2021-10-29T00:00:00-04:00\",\"2021-11-01T00:00:00-04:00\",\"2021-11-02T00:00:00-04:00\",\"2021-11-03T00:00:00-04:00\",\"2021-11-04T00:00:00-04:00\",\"2021-11-05T00:00:00-04:00\",\"2021-11-08T00:00:00-05:00\",\"2021-11-09T00:00:00-05:00\",\"2021-11-10T00:00:00-05:00\",\"2021-11-11T00:00:00-05:00\",\"2021-11-12T00:00:00-05:00\",\"2021-11-15T00:00:00-05:00\",\"2021-11-16T00:00:00-05:00\",\"2021-11-17T00:00:00-05:00\",\"2021-11-18T00:00:00-05:00\",\"2021-11-19T00:00:00-05:00\",\"2021-11-22T00:00:00-05:00\",\"2021-11-23T00:00:00-05:00\",\"2021-11-24T00:00:00-05:00\",\"2021-11-26T00:00:00-05:00\",\"2021-11-29T00:00:00-05:00\",\"2021-11-30T00:00:00-05:00\",\"2021-12-01T00:00:00-05:00\",\"2021-12-02T00:00:00-05:00\",\"2021-12-03T00:00:00-05:00\",\"2021-12-06T00:00:00-05:00\",\"2021-12-07T00:00:00-05:00\",\"2021-12-08T00:00:00-05:00\",\"2021-12-09T00:00:00-05:00\",\"2021-12-10T00:00:00-05:00\",\"2021-12-13T00:00:00-05:00\",\"2021-12-14T00:00:00-05:00\",\"2021-12-15T00:00:00-05:00\",\"2021-12-16T00:00:00-05:00\",\"2021-12-17T00:00:00-05:00\",\"2021-12-20T00:00:00-05:00\",\"2021-12-21T00:00:00-05:00\",\"2021-12-22T00:00:00-05:00\",\"2021-12-23T00:00:00-05:00\",\"2021-12-27T00:00:00-05:00\",\"2021-12-28T00:00:00-05:00\",\"2021-12-29T00:00:00-05:00\",\"2021-12-30T00:00:00-05:00\",\"2021-12-31T00:00:00-05:00\",\"2022-01-03T00:00:00-05:00\",\"2022-01-04T00:00:00-05:00\",\"2022-01-05T00:00:00-05:00\",\"2022-01-06T00:00:00-05:00\",\"2022-01-07T00:00:00-05:00\",\"2022-01-10T00:00:00-05:00\",\"2022-01-11T00:00:00-05:00\",\"2022-01-12T00:00:00-05:00\",\"2022-01-13T00:00:00-05:00\",\"2022-01-14T00:00:00-05:00\",\"2022-01-18T00:00:00-05:00\",\"2022-01-19T00:00:00-05:00\",\"2022-01-20T00:00:00-05:00\",\"2022-01-21T00:00:00-05:00\",\"2022-01-24T00:00:00-05:00\",\"2022-01-25T00:00:00-05:00\",\"2022-01-26T00:00:00-05:00\",\"2022-01-27T00:00:00-05:00\",\"2022-01-28T00:00:00-05:00\",\"2022-01-31T00:00:00-05:00\",\"2022-02-01T00:00:00-05:00\",\"2022-02-02T00:00:00-05:00\",\"2022-02-03T00:00:00-05:00\",\"2022-02-04T00:00:00-05:00\",\"2022-02-07T00:00:00-05:00\",\"2022-02-08T00:00:00-05:00\",\"2022-02-09T00:00:00-05:00\",\"2022-02-10T00:00:00-05:00\",\"2022-02-11T00:00:00-05:00\",\"2022-02-14T00:00:00-05:00\",\"2022-02-15T00:00:00-05:00\",\"2022-02-16T00:00:00-05:00\",\"2022-02-17T00:00:00-05:00\",\"2022-02-18T00:00:00-05:00\",\"2022-02-22T00:00:00-05:00\",\"2022-02-23T00:00:00-05:00\",\"2022-02-24T00:00:00-05:00\",\"2022-02-25T00:00:00-05:00\",\"2022-02-28T00:00:00-05:00\",\"2022-03-01T00:00:00-05:00\",\"2022-03-02T00:00:00-05:00\",\"2022-03-03T00:00:00-05:00\",\"2022-03-04T00:00:00-05:00\",\"2022-03-07T00:00:00-05:00\",\"2022-03-08T00:00:00-05:00\",\"2022-03-09T00:00:00-05:00\",\"2022-03-10T00:00:00-05:00\",\"2022-03-11T00:00:00-05:00\",\"2022-03-14T00:00:00-04:00\",\"2022-03-15T00:00:00-04:00\",\"2022-03-16T00:00:00-04:00\",\"2022-03-17T00:00:00-04:00\",\"2022-03-18T00:00:00-04:00\",\"2022-03-21T00:00:00-04:00\",\"2022-03-22T00:00:00-04:00\",\"2022-03-23T00:00:00-04:00\",\"2022-03-24T00:00:00-04:00\",\"2022-03-25T00:00:00-04:00\",\"2022-03-28T00:00:00-04:00\",\"2022-03-29T00:00:00-04:00\",\"2022-03-30T00:00:00-04:00\",\"2022-03-31T00:00:00-04:00\",\"2022-04-01T00:00:00-04:00\",\"2022-04-04T00:00:00-04:00\",\"2022-04-05T00:00:00-04:00\",\"2022-04-06T00:00:00-04:00\",\"2022-04-07T00:00:00-04:00\",\"2022-04-08T00:00:00-04:00\",\"2022-04-11T00:00:00-04:00\",\"2022-04-12T00:00:00-04:00\",\"2022-04-13T00:00:00-04:00\",\"2022-04-14T00:00:00-04:00\",\"2022-04-18T00:00:00-04:00\",\"2022-04-19T00:00:00-04:00\",\"2022-04-20T00:00:00-04:00\",\"2022-04-21T00:00:00-04:00\",\"2022-04-22T00:00:00-04:00\",\"2022-04-25T00:00:00-04:00\",\"2022-04-26T00:00:00-04:00\",\"2022-04-27T00:00:00-04:00\",\"2022-04-28T00:00:00-04:00\",\"2022-04-29T00:00:00-04:00\",\"2022-05-02T00:00:00-04:00\",\"2022-05-03T00:00:00-04:00\",\"2022-05-04T00:00:00-04:00\",\"2022-05-05T00:00:00-04:00\",\"2022-05-06T00:00:00-04:00\",\"2022-05-09T00:00:00-04:00\",\"2022-05-10T00:00:00-04:00\",\"2022-05-11T00:00:00-04:00\",\"2022-05-12T00:00:00-04:00\",\"2022-05-13T00:00:00-04:00\",\"2022-05-16T00:00:00-04:00\",\"2022-05-17T00:00:00-04:00\",\"2022-05-18T00:00:00-04:00\",\"2022-05-19T00:00:00-04:00\",\"2022-05-20T00:00:00-04:00\",\"2022-05-23T00:00:00-04:00\",\"2022-05-24T00:00:00-04:00\",\"2022-05-25T00:00:00-04:00\",\"2022-05-26T00:00:00-04:00\",\"2022-05-27T00:00:00-04:00\",\"2022-05-31T00:00:00-04:00\",\"2022-06-01T00:00:00-04:00\",\"2022-06-02T00:00:00-04:00\",\"2022-06-03T00:00:00-04:00\",\"2022-06-06T00:00:00-04:00\",\"2022-06-07T00:00:00-04:00\",\"2022-06-08T00:00:00-04:00\",\"2022-06-09T00:00:00-04:00\",\"2022-06-10T00:00:00-04:00\",\"2022-06-13T00:00:00-04:00\",\"2022-06-14T00:00:00-04:00\",\"2022-06-15T00:00:00-04:00\",\"2022-06-16T00:00:00-04:00\",\"2022-06-17T00:00:00-04:00\",\"2022-06-21T00:00:00-04:00\",\"2022-06-22T00:00:00-04:00\",\"2022-06-23T00:00:00-04:00\",\"2022-06-24T00:00:00-04:00\",\"2022-06-27T00:00:00-04:00\",\"2022-06-28T00:00:00-04:00\",\"2022-06-29T00:00:00-04:00\",\"2022-06-30T00:00:00-04:00\",\"2022-07-01T00:00:00-04:00\",\"2022-07-05T00:00:00-04:00\",\"2022-07-06T00:00:00-04:00\",\"2022-07-07T00:00:00-04:00\",\"2022-07-08T00:00:00-04:00\",\"2022-07-11T00:00:00-04:00\",\"2022-07-12T00:00:00-04:00\",\"2022-07-13T00:00:00-04:00\",\"2022-07-14T00:00:00-04:00\",\"2022-07-15T00:00:00-04:00\",\"2022-07-18T00:00:00-04:00\",\"2022-07-19T00:00:00-04:00\",\"2022-07-20T00:00:00-04:00\",\"2022-07-21T00:00:00-04:00\",\"2022-07-22T00:00:00-04:00\",\"2022-07-25T00:00:00-04:00\",\"2022-07-26T00:00:00-04:00\",\"2022-07-27T00:00:00-04:00\",\"2022-07-28T00:00:00-04:00\",\"2022-07-29T00:00:00-04:00\",\"2022-08-01T00:00:00-04:00\",\"2022-08-02T00:00:00-04:00\",\"2022-08-03T00:00:00-04:00\",\"2022-08-04T00:00:00-04:00\",\"2022-08-05T00:00:00-04:00\",\"2022-08-08T00:00:00-04:00\",\"2022-08-09T00:00:00-04:00\",\"2022-08-10T00:00:00-04:00\",\"2022-08-11T00:00:00-04:00\",\"2022-08-12T00:00:00-04:00\",\"2022-08-15T00:00:00-04:00\",\"2022-08-16T00:00:00-04:00\",\"2022-08-17T00:00:00-04:00\",\"2022-08-18T00:00:00-04:00\",\"2022-08-19T00:00:00-04:00\",\"2022-08-22T00:00:00-04:00\",\"2022-08-23T00:00:00-04:00\",\"2022-08-24T00:00:00-04:00\",\"2022-08-25T00:00:00-04:00\",\"2022-08-26T00:00:00-04:00\",\"2022-08-29T00:00:00-04:00\",\"2022-08-30T00:00:00-04:00\",\"2022-08-31T00:00:00-04:00\",\"2022-09-01T00:00:00-04:00\",\"2022-09-02T00:00:00-04:00\",\"2022-09-06T00:00:00-04:00\",\"2022-09-07T00:00:00-04:00\",\"2022-09-08T00:00:00-04:00\",\"2022-09-09T00:00:00-04:00\",\"2022-09-12T00:00:00-04:00\",\"2022-09-13T00:00:00-04:00\",\"2022-09-14T00:00:00-04:00\",\"2022-09-15T00:00:00-04:00\",\"2022-09-16T00:00:00-04:00\",\"2022-09-19T00:00:00-04:00\",\"2022-09-20T00:00:00-04:00\",\"2022-09-21T00:00:00-04:00\",\"2022-09-22T00:00:00-04:00\",\"2022-09-23T00:00:00-04:00\",\"2022-09-26T00:00:00-04:00\",\"2022-09-27T00:00:00-04:00\",\"2022-09-28T00:00:00-04:00\",\"2022-09-29T00:00:00-04:00\",\"2022-09-30T00:00:00-04:00\",\"2022-10-03T00:00:00-04:00\",\"2022-10-04T00:00:00-04:00\",\"2022-10-05T00:00:00-04:00\",\"2022-10-06T00:00:00-04:00\",\"2022-10-07T00:00:00-04:00\",\"2022-10-10T00:00:00-04:00\",\"2022-10-11T00:00:00-04:00\",\"2022-10-12T00:00:00-04:00\",\"2022-10-13T00:00:00-04:00\",\"2022-10-14T00:00:00-04:00\",\"2022-10-17T00:00:00-04:00\",\"2022-10-18T00:00:00-04:00\",\"2022-10-19T00:00:00-04:00\",\"2022-10-20T00:00:00-04:00\",\"2022-10-21T00:00:00-04:00\",\"2022-10-24T00:00:00-04:00\",\"2022-10-25T00:00:00-04:00\",\"2022-10-26T00:00:00-04:00\",\"2022-10-27T00:00:00-04:00\",\"2022-10-28T00:00:00-04:00\",\"2022-10-31T00:00:00-04:00\",\"2022-11-01T00:00:00-04:00\",\"2022-11-02T00:00:00-04:00\",\"2022-11-03T00:00:00-04:00\",\"2022-11-04T00:00:00-04:00\",\"2022-11-07T00:00:00-05:00\",\"2022-11-08T00:00:00-05:00\",\"2022-11-09T00:00:00-05:00\",\"2022-11-10T00:00:00-05:00\",\"2022-11-11T00:00:00-05:00\",\"2022-11-14T00:00:00-05:00\",\"2022-11-15T00:00:00-05:00\",\"2022-11-16T00:00:00-05:00\",\"2022-11-17T00:00:00-05:00\",\"2022-11-18T00:00:00-05:00\",\"2022-11-21T00:00:00-05:00\",\"2022-11-22T00:00:00-05:00\",\"2022-11-23T00:00:00-05:00\",\"2022-11-25T00:00:00-05:00\",\"2022-11-28T00:00:00-05:00\",\"2022-11-29T00:00:00-05:00\",\"2022-11-30T00:00:00-05:00\",\"2022-12-01T00:00:00-05:00\",\"2022-12-02T00:00:00-05:00\",\"2022-12-05T00:00:00-05:00\",\"2022-12-06T00:00:00-05:00\",\"2022-12-07T00:00:00-05:00\"],\"type\":\"candlestick\"}],                        {\"template\":{\"data\":{\"bar\":[{\"error_x\":{\"color\":\"#2a3f5f\"},\"error_y\":{\"color\":\"#2a3f5f\"},\"marker\":{\"line\":{\"color\":\"#E5ECF6\",\"width\":0.5},\"pattern\":{\"fillmode\":\"overlay\",\"size\":10,\"solidity\":0.2}},\"type\":\"bar\"}],\"barpolar\":[{\"marker\":{\"line\":{\"color\":\"#E5ECF6\",\"width\":0.5},\"pattern\":{\"fillmode\":\"overlay\",\"size\":10,\"solidity\":0.2}},\"type\":\"barpolar\"}],\"carpet\":[{\"aaxis\":{\"endlinecolor\":\"#2a3f5f\",\"gridcolor\":\"white\",\"linecolor\":\"white\",\"minorgridcolor\":\"white\",\"startlinecolor\":\"#2a3f5f\"},\"baxis\":{\"endlinecolor\":\"#2a3f5f\",\"gridcolor\":\"white\",\"linecolor\":\"white\",\"minorgridcolor\":\"white\",\"startlinecolor\":\"#2a3f5f\"},\"type\":\"carpet\"}],\"choropleth\":[{\"colorbar\":{\"outlinewidth\":0,\"ticks\":\"\"},\"type\":\"choropleth\"}],\"contour\":[{\"colorbar\":{\"outlinewidth\":0,\"ticks\":\"\"},\"colorscale\":[[0.0,\"#0d0887\"],[0.1111111111111111,\"#46039f\"],[0.2222222222222222,\"#7201a8\"],[0.3333333333333333,\"#9c179e\"],[0.4444444444444444,\"#bd3786\"],[0.5555555555555556,\"#d8576b\"],[0.6666666666666666,\"#ed7953\"],[0.7777777777777778,\"#fb9f3a\"],[0.8888888888888888,\"#fdca26\"],[1.0,\"#f0f921\"]],\"type\":\"contour\"}],\"contourcarpet\":[{\"colorbar\":{\"outlinewidth\":0,\"ticks\":\"\"},\"type\":\"contourcarpet\"}],\"heatmap\":[{\"colorbar\":{\"outlinewidth\":0,\"ticks\":\"\"},\"colorscale\":[[0.0,\"#0d0887\"],[0.1111111111111111,\"#46039f\"],[0.2222222222222222,\"#7201a8\"],[0.3333333333333333,\"#9c179e\"],[0.4444444444444444,\"#bd3786\"],[0.5555555555555556,\"#d8576b\"],[0.6666666666666666,\"#ed7953\"],[0.7777777777777778,\"#fb9f3a\"],[0.8888888888888888,\"#fdca26\"],[1.0,\"#f0f921\"]],\"type\":\"heatmap\"}],\"heatmapgl\":[{\"colorbar\":{\"outlinewidth\":0,\"ticks\":\"\"},\"colorscale\":[[0.0,\"#0d0887\"],[0.1111111111111111,\"#46039f\"],[0.2222222222222222,\"#7201a8\"],[0.3333333333333333,\"#9c179e\"],[0.4444444444444444,\"#bd3786\"],[0.5555555555555556,\"#d8576b\"],[0.6666666666666666,\"#ed7953\"],[0.7777777777777778,\"#fb9f3a\"],[0.8888888888888888,\"#fdca26\"],[1.0,\"#f0f921\"]],\"type\":\"heatmapgl\"}],\"histogram\":[{\"marker\":{\"pattern\":{\"fillmode\":\"overlay\",\"size\":10,\"solidity\":0.2}},\"type\":\"histogram\"}],\"histogram2d\":[{\"colorbar\":{\"outlinewidth\":0,\"ticks\":\"\"},\"colorscale\":[[0.0,\"#0d0887\"],[0.1111111111111111,\"#46039f\"],[0.2222222222222222,\"#7201a8\"],[0.3333333333333333,\"#9c179e\"],[0.4444444444444444,\"#bd3786\"],[0.5555555555555556,\"#d8576b\"],[0.6666666666666666,\"#ed7953\"],[0.7777777777777778,\"#fb9f3a\"],[0.8888888888888888,\"#fdca26\"],[1.0,\"#f0f921\"]],\"type\":\"histogram2d\"}],\"histogram2dcontour\":[{\"colorbar\":{\"outlinewidth\":0,\"ticks\":\"\"},\"colorscale\":[[0.0,\"#0d0887\"],[0.1111111111111111,\"#46039f\"],[0.2222222222222222,\"#7201a8\"],[0.3333333333333333,\"#9c179e\"],[0.4444444444444444,\"#bd3786\"],[0.5555555555555556,\"#d8576b\"],[0.6666666666666666,\"#ed7953\"],[0.7777777777777778,\"#fb9f3a\"],[0.8888888888888888,\"#fdca26\"],[1.0,\"#f0f921\"]],\"type\":\"histogram2dcontour\"}],\"mesh3d\":[{\"colorbar\":{\"outlinewidth\":0,\"ticks\":\"\"},\"type\":\"mesh3d\"}],\"parcoords\":[{\"line\":{\"colorbar\":{\"outlinewidth\":0,\"ticks\":\"\"}},\"type\":\"parcoords\"}],\"pie\":[{\"automargin\":true,\"type\":\"pie\"}],\"scatter\":[{\"marker\":{\"colorbar\":{\"outlinewidth\":0,\"ticks\":\"\"}},\"type\":\"scatter\"}],\"scatter3d\":[{\"line\":{\"colorbar\":{\"outlinewidth\":0,\"ticks\":\"\"}},\"marker\":{\"colorbar\":{\"outlinewidth\":0,\"ticks\":\"\"}},\"type\":\"scatter3d\"}],\"scattercarpet\":[{\"marker\":{\"colorbar\":{\"outlinewidth\":0,\"ticks\":\"\"}},\"type\":\"scattercarpet\"}],\"scattergeo\":[{\"marker\":{\"colorbar\":{\"outlinewidth\":0,\"ticks\":\"\"}},\"type\":\"scattergeo\"}],\"scattergl\":[{\"marker\":{\"colorbar\":{\"outlinewidth\":0,\"ticks\":\"\"}},\"type\":\"scattergl\"}],\"scattermapbox\":[{\"marker\":{\"colorbar\":{\"outlinewidth\":0,\"ticks\":\"\"}},\"type\":\"scattermapbox\"}],\"scatterpolar\":[{\"marker\":{\"colorbar\":{\"outlinewidth\":0,\"ticks\":\"\"}},\"type\":\"scatterpolar\"}],\"scatterpolargl\":[{\"marker\":{\"colorbar\":{\"outlinewidth\":0,\"ticks\":\"\"}},\"type\":\"scatterpolargl\"}],\"scatterternary\":[{\"marker\":{\"colorbar\":{\"outlinewidth\":0,\"ticks\":\"\"}},\"type\":\"scatterternary\"}],\"surface\":[{\"colorbar\":{\"outlinewidth\":0,\"ticks\":\"\"},\"colorscale\":[[0.0,\"#0d0887\"],[0.1111111111111111,\"#46039f\"],[0.2222222222222222,\"#7201a8\"],[0.3333333333333333,\"#9c179e\"],[0.4444444444444444,\"#bd3786\"],[0.5555555555555556,\"#d8576b\"],[0.6666666666666666,\"#ed7953\"],[0.7777777777777778,\"#fb9f3a\"],[0.8888888888888888,\"#fdca26\"],[1.0,\"#f0f921\"]],\"type\":\"surface\"}],\"table\":[{\"cells\":{\"fill\":{\"color\":\"#EBF0F8\"},\"line\":{\"color\":\"white\"}},\"header\":{\"fill\":{\"color\":\"#C8D4E3\"},\"line\":{\"color\":\"white\"}},\"type\":\"table\"}]},\"layout\":{\"annotationdefaults\":{\"arrowcolor\":\"#2a3f5f\",\"arrowhead\":0,\"arrowwidth\":1},\"autotypenumbers\":\"strict\",\"coloraxis\":{\"colorbar\":{\"outlinewidth\":0,\"ticks\":\"\"}},\"colorscale\":{\"diverging\":[[0,\"#8e0152\"],[0.1,\"#c51b7d\"],[0.2,\"#de77ae\"],[0.3,\"#f1b6da\"],[0.4,\"#fde0ef\"],[0.5,\"#f7f7f7\"],[0.6,\"#e6f5d0\"],[0.7,\"#b8e186\"],[0.8,\"#7fbc41\"],[0.9,\"#4d9221\"],[1,\"#276419\"]],\"sequential\":[[0.0,\"#0d0887\"],[0.1111111111111111,\"#46039f\"],[0.2222222222222222,\"#7201a8\"],[0.3333333333333333,\"#9c179e\"],[0.4444444444444444,\"#bd3786\"],[0.5555555555555556,\"#d8576b\"],[0.6666666666666666,\"#ed7953\"],[0.7777777777777778,\"#fb9f3a\"],[0.8888888888888888,\"#fdca26\"],[1.0,\"#f0f921\"]],\"sequentialminus\":[[0.0,\"#0d0887\"],[0.1111111111111111,\"#46039f\"],[0.2222222222222222,\"#7201a8\"],[0.3333333333333333,\"#9c179e\"],[0.4444444444444444,\"#bd3786\"],[0.5555555555555556,\"#d8576b\"],[0.6666666666666666,\"#ed7953\"],[0.7777777777777778,\"#fb9f3a\"],[0.8888888888888888,\"#fdca26\"],[1.0,\"#f0f921\"]]},\"colorway\":[\"#636efa\",\"#EF553B\",\"#00cc96\",\"#ab63fa\",\"#FFA15A\",\"#19d3f3\",\"#FF6692\",\"#B6E880\",\"#FF97FF\",\"#FECB52\"],\"font\":{\"color\":\"#2a3f5f\"},\"geo\":{\"bgcolor\":\"white\",\"lakecolor\":\"white\",\"landcolor\":\"#E5ECF6\",\"showlakes\":true,\"showland\":true,\"subunitcolor\":\"white\"},\"hoverlabel\":{\"align\":\"left\"},\"hovermode\":\"closest\",\"mapbox\":{\"style\":\"light\"},\"paper_bgcolor\":\"white\",\"plot_bgcolor\":\"#E5ECF6\",\"polar\":{\"angularaxis\":{\"gridcolor\":\"white\",\"linecolor\":\"white\",\"ticks\":\"\"},\"bgcolor\":\"#E5ECF6\",\"radialaxis\":{\"gridcolor\":\"white\",\"linecolor\":\"white\",\"ticks\":\"\"}},\"scene\":{\"xaxis\":{\"backgroundcolor\":\"#E5ECF6\",\"gridcolor\":\"white\",\"gridwidth\":2,\"linecolor\":\"white\",\"showbackground\":true,\"ticks\":\"\",\"zerolinecolor\":\"white\"},\"yaxis\":{\"backgroundcolor\":\"#E5ECF6\",\"gridcolor\":\"white\",\"gridwidth\":2,\"linecolor\":\"white\",\"showbackground\":true,\"ticks\":\"\",\"zerolinecolor\":\"white\"},\"zaxis\":{\"backgroundcolor\":\"#E5ECF6\",\"gridcolor\":\"white\",\"gridwidth\":2,\"linecolor\":\"white\",\"showbackground\":true,\"ticks\":\"\",\"zerolinecolor\":\"white\"}},\"shapedefaults\":{\"line\":{\"color\":\"#2a3f5f\"}},\"ternary\":{\"aaxis\":{\"gridcolor\":\"white\",\"linecolor\":\"white\",\"ticks\":\"\"},\"baxis\":{\"gridcolor\":\"white\",\"linecolor\":\"white\",\"ticks\":\"\"},\"bgcolor\":\"#E5ECF6\",\"caxis\":{\"gridcolor\":\"white\",\"linecolor\":\"white\",\"ticks\":\"\"}},\"title\":{\"x\":0.05},\"xaxis\":{\"automargin\":true,\"gridcolor\":\"white\",\"linecolor\":\"white\",\"ticks\":\"\",\"title\":{\"standoff\":15},\"zerolinecolor\":\"white\",\"zerolinewidth\":2},\"yaxis\":{\"automargin\":true,\"gridcolor\":\"white\",\"linecolor\":\"white\",\"ticks\":\"\",\"title\":{\"standoff\":15},\"zerolinecolor\":\"white\",\"zerolinewidth\":2}}},\"margin\":{\"l\":20,\"r\":20,\"t\":60,\"b\":20},\"height\":350,\"paper_bgcolor\":\"LightSteelBlue\",\"title\":{\"text\":\"AMZN\"}},                        {\"responsive\": true}                    ).then(function(){\n",
              "                            \n",
              "var gd = document.getElementById('9ded2dd2-1d9e-47e8-ba54-c99b66ed4900');\n",
              "var x = new MutationObserver(function (mutations, observer) {{\n",
              "        var display = window.getComputedStyle(gd).display;\n",
              "        if (!display || display === 'none') {{\n",
              "            console.log([gd, 'removed!']);\n",
              "            Plotly.purge(gd);\n",
              "            observer.disconnect();\n",
              "        }}\n",
              "}});\n",
              "\n",
              "// Listen for the removal of the full notebook cells\n",
              "var notebookContainer = gd.closest('#notebook-container');\n",
              "if (notebookContainer) {{\n",
              "    x.observe(notebookContainer, {childList: true});\n",
              "}}\n",
              "\n",
              "// Listen for the clearing of the current output cell\n",
              "var outputEl = gd.closest('.output');\n",
              "if (outputEl) {{\n",
              "    x.observe(outputEl, {childList: true});\n",
              "}}\n",
              "\n",
              "                        })                };                            </script>        </div>\n",
              "</body>\n",
              "</html>"
            ]
          },
          "metadata": {},
          "output_type": "display_data"
        },
        {
          "data": {
            "text/html": [
              "<html>\n",
              "<head><meta charset=\"utf-8\" /></head>\n",
              "<body>\n",
              "    <div>            <script src=\"https://cdnjs.cloudflare.com/ajax/libs/mathjax/2.7.5/MathJax.js?config=TeX-AMS-MML_SVG\"></script><script type=\"text/javascript\">if (window.MathJax) {MathJax.Hub.Config({SVG: {font: \"STIX-Web\"}});}</script>                <script type=\"text/javascript\">window.PlotlyConfig = {MathJaxConfig: 'local'};</script>\n",
              "        <script src=\"https://cdn.plot.ly/plotly-2.8.3.min.js\"></script>                <div id=\"b0971171-c0cd-4b84-8163-7f3e14c35e72\" class=\"plotly-graph-div\" style=\"height:350px; width:100%;\"></div>            <script type=\"text/javascript\">                                    window.PLOTLYENV=window.PLOTLYENV || {};                                    if (document.getElementById(\"b0971171-c0cd-4b84-8163-7f3e14c35e72\")) {                    Plotly.newPlot(                        \"b0971171-c0cd-4b84-8163-7f3e14c35e72\",                        [{\"close\":[52.85947799682617,53.31041717529297,54.14752197265625,55.82421875,55.804290771484375,56.09328079223633,56.87557601928711,57.179527282714844,58.66188430786133,59.63602066040039,59.499000549316406,59.44916534423828,59.5911750793457,59.013179779052734,57.87959671020508,58.622032165527344,59.77055358886719,58.81386184692383,59.06050109863281,59.77552795410156,59.88764190673828,60.54536819458008,60.8692512512207,62.77763748168945,61.606693267822266,61.18067932128906,62.01776885986328,62.10496520996094,61.7711181640625,62.31174850463867,62.99687957763672,62.4039306640625,59.842796325683594,61.778602600097656,61.17319107055664,61.24046325683594,58.90354919433594,59.87518310546875,61.56932830810547,62.473690032958984,63.34318161010742,62.68046951293945,65.5156478881836,66.74141693115234,67.89990234375,67.46143341064453,72.19752502441406,73.88666534423828,78.4035415649414,76.90870666503906,73.26384735107422,68.08425903320312,65.28643035888672,66.6816177368164,62.969749450683594,67.32478332519531,68.91023254394531,66.28276062011719,70.92447662353516,68.12748718261719,66.32014465332031,61.18485641479492,65.08370208740234,61.441619873046875,53.92314147949219,60.03813552856445,48.95985412597656,54.1624641418457,50.56026840209961,53.09052658081055,51.29067611694336,53.02072525024414,62.117183685302734,61.2297248840332,64.1264419555664,63.00215148925781,66.20797729492188,65.71190643310547,60.59404754638672,63.685203552246094,60.80345153808594,66.9084701538086,64.5726547241211,66.5470199584961,65.54985809326172,67.26993560791016,70.78486633300781,70.00959014892578,73.46470642089844,72.87140655517578,71.55765533447266,67.18518829345703,71.33329772949219,70.79984283447266,72.19084930419922,74.05799102783203,72.632080078125,74.40203094482422,72.86143493652344,70.49320983886719,72.61463165283203,73.22538757324219,74.2350082397461,75.99996185302734,77.90199279785156,80.4247817993164,77.80227661132812,77.57793426513672,80.07579040527344,84.66513061523438,87.25272369384766,87.80366516113281,89.44396209716797,87.50202941894531,90.00485229492188,86.92865753173828,85.00914764404297,84.62775421142578,88.50164031982422,87.8111343383789,88.0005874633789,87.44468688964844,87.45465850830078,88.98597717285156,87.8387451171875,90.24295806884766,93.44276428222656,87.75144958496094,89.11067962646484,91.51738739013672,90.46741485595703,92.13839721679688,91.95883178710938,92.39030456542969,95.03892517089844,94.27326202392578,92.13341522216797,94.67229461669922,91.33035278320312,91.77925872802734,94.74962615966797,95.07135009765625,95.89187622070312,98.15641784667969,98.48065185546875,101.91488647460938,104.83786010742188,104.54108428955078,100.28131866455078,103.52101135253906,102.0271224975586,101.1043472290039,101.7702407836914,104.85530853271484,103.03718566894531,104.13703918457031,101.0544662475586,101.70040130615234,103.96495819091797,101.9098892211914,104.40390014648438,105.88532257080078,105.89281463623047,109.83833312988281,112.00811004638672,112.59669494628906,113.0830307006836,111.72628784179688,111.38211822509766,108.23967742919922,114.12801361083984,114.15544891357422,115.362548828125,123.0739974975586,122.3133316040039,121.09376525878906,121.11870574951172,126.53067779541016,126.89730834960938,127.19408416748047,127.42353820800781,125.97949981689453,131.1620330810547,133.42408752441406,137.91966247558594,143.16360473632812,129.8815460205078,125.9598159790039,118.87973022460938,126.88287353515625,122.85884857177734,121.38944244384766,128.4520721435547,129.63706970214844,124.882080078125,124.3731689453125,121.63642120361328,124.9095458984375,126.11199951171875,120.98279571533203,123.22059631347656,128.46705627441406,130.07614135742188,131.9796600341797,135.02073669433594,135.8589630126953,130.3480987548828,136.13839721679688,137.07643127441406,139.3466339111328,138.09677124023438,137.33836364746094,141.9611358642578,142.18316650390625,140.65640258789062,139.40650939941406,137.82485961914062,134.69393920898438,136.1683349609375,134.96339416503906,133.32931518554688,135.6169891357422,131.13641357421875,133.68605041503906,126.00473022460938,129.96640014648438,125.0766830444336,125.5431900024414,129.92149353027344,137.65269470214844,141.30252075195312,145.31407165527344,136.02113342285156,127.43171691894531,133.8981170654297,134.2847900390625,132.69064331054688,134.8685760498047,133.94052124023438,134.00538635253906,134.1201171875,130.6025390625,131.1239471435547,129.30528259277344,132.0694580078125,132.33389282226562,133.7334442138672,133.61868286132812,135.1604461669922,133.71807861328125,135.33763122558594,135.82177734375,133.25889587402344,129.073974609375,129.48822021484375,129.89747619628906,132.8471221923828,133.3637237548828,132.1858367919922,133.17156982421875,132.4803009033203,133.0817108154297,132.54269409179688,129.8575439453125,129.70281982421875,128.7670440673828,129.19873046875,131.22010803222656,130.31422424316406,130.89816284179688,133.805419921875,125.91717529296875,133.19898986816406,132.5277099609375,135.968994140625,134.60398864746094,135.07310485839844,131.7641143798828,128.3627471923828,130.0172576904297,133.4160919189453,138.424560546875,136.8773193359375,136.28590393066406,134.10984802246094,128.94419860839844,130.27430725097656,129.6628875732422,132.1309356689453,135.32266235351562,135.0606231689453,136.39572143554688,135.66453552246094,144.12673950195312,142.37490844726562,147.3758544921875,152.23207092285156,149.34228515625,153.02561950683594,148.79078674316406,148.02218627929688,148.99542236328125,143.2982177734375,141.16458129882812,144.72813415527344,132.83465576171875,136.89732360839844,138.16749572753906,133.82037353515625,127.81623840332031,123.47908782958984,124.38994598388672,115.72312927246094,125.01951599121094,124.50027465820312,129.74510192871094,128.3721160888672,131.7197265625,132.71824645996094,133.217529296875,127.03905487060547,128.26974487304688,131.66976928710938,130.5164794921875,126.24522399902344,125.16930389404297,128.20484924316406,129.29324340820312,128.52938842773438,133.2873992919922,137.91563415527344,139.67056274414062,138.41241455078125,141.22830200195312,142.96075439453125,143.78952026367188,151.8677215576172,156.56582641601562,152.54672241210938,161.1366424560547,158.89244079589844,153.39297485351562,151.49075317382812,153.38050842285156,148.2854766845703,152.4293975830078,154.55380249023438,153.5926971435547,152.54421997070312,153.0235137939453,149.87564086914062,148.150634765625,143.302734375,144.37368774414062,145.0177459716797,147.906005859375,142.4490203857422,142.85340881347656,137.38392639160156,136.45277404785156,142.22186279296875,141.44796752929688,139.9526824951172,140.45193481445312,145.91143798828125,149.69837951660156,155.891845703125,156.24880981445312,156.77053833007812,154.65367126464844,162.20758056640625,162.40728759765625,167.5372772216797,169.44947814941406,175.52560424804688,175.93251037597656,174.3148651123047,173.3685302734375,174.0352020263672,178.0327911376953,179.96539306640625,177.6657257080078,177.88294982910156,186.34251403808594,186.15774536132812,184.04534912109375,188.63467407226562,190.3375701904297,191.81826782226562,190.07540893554688,199.60365295410156,200.0206298828125,199.7784423828125,201.87083435058594,204.61744689941406,206.7298583984375,203.4663848876953,198.78216552734375,200.25537109375,204.8721466064453,202.25039672851562,198.17042541503906,189.42872619628906,181.38612365722656,187.56600952148438,185.89056396484375,193.86074829101562,195.69845581054688,195.33889770507812,192.70217895507812,191.84323120117188,194.78961181640625,196.3776397705078,194.74964904785156,197.2565460205078,197.90574645996094,202.4901123046875,206.11561584472656,203.40895080566406,202.6998291015625,199.11427307128906,196.74717712402344,198.8046417236328,201.63116455078125,199.25408935546875,194.3401641845703,190.16529846191406,197.73597717285156,207.9033966064453,219.30934143066406,217.66136169433594,221.85618591308594,220.40798950195312,226.0809783935547,226.600341796875,223.61349487304688,224.17291259765625,223.72340393066406,228.18865966796875,226.3805694580078,223.15399169921875,221.5356903076172,224.54251098632812,221.28594970703125,222.1850128173828,223.1739501953125,222.1850128173828,218.7686004638672,210.90695190429688,212.2355499267578,219.17819213867188,224.58248901367188,220.5767059326172,216.3711700439453,206.7713165283203,204.95323181152344,206.9411163330078,207.2008514404297,197.11151123046875,204.29393005371094,206.7812957763672,210.52734375,208.0898895263672,206.73135375976562,206.49160766601562,209.1687469482422,217.23025512695312,218.38900756835938,221.9852294921875,222.66448974609375,220.7964630126953,226.6802520751953,227.0198974609375,231.41525268554688,246.90884399414062,244.2516632080078,249.146484375,255.39987182617188,257.9971008300781,263.7310791015625,265.6990051269531,297.69512939453125,297.2056884765625,307.71453857421875,306.24609375,294.27874755859375,303.5788879394531,303.5788879394531,299.93280029296875,301.7109069824219,292.30084228515625,316.4153747558594,329.50152587890625,319.22235107421875,317.1246337890625,326.394775390625,314.6971435546875,333.4073791503906,326.414794921875,314.05633544921875,320.9598693847656,306.6432189941406,300.0893859863281,323.9670104980469,317.96270751953125,304.6151428222656,301.6979064941406,281.346923828125,283.10528564453125,304.305419921875,283.6048278808594,277.75030517578125,276.9310302734375,290.4783935546875,293.725341796875,296.12310791015625,309.1609191894531,302.93670654296875,299.729736328125,295.5835876464844,293.8352355957031,300.9285888671875,292.6263732910156,275.7821350097656,281.5167541503906,272.2154846191406,273.7440185546875,277.9101257324219,279.7284240722656,265.501708984375,269.1683349609375,258.7880554199219,250.43580627441406,241.27438354492188,233.52163696289062,233.5016632080078,223.0314483642578,227.50726318359375,219.23500061035156,228.18661499023438,244.63125610351562,246.1498260498047,252.18418884277344,239.2562713623047,242.96279907226562,247.04898071289062,250.84544372558594,266.80047607421875,257.99871826171875,239.26625061035156,242.44329833984375,264.7024841308594,264.8623352050781,244.841064453125,236.19912719726562,233.68148803710938,223.66085815429688,237.25814819335938,241.34432983398438,243.6221923828125,234.55068969726562,242.01495361328125,236.9588165283203,229.1847686767578,213.35687255859375,214.9756317138672,229.9641571044922,226.40689086914062,220.83116149902344,213.1370391845703,229.55447387695312,244.77285766601562,247.47079467773438,264.327880859375,267.1357727050781,265.037353515625,256.1441650390625,281.2849426269531,276.70843505859375,281.9743957519531,286.3410949707031,276.6884765625,272.6515197753906,266.9159240722656,273.3909912109375,259.1119079589844,243.88352966308594,241.89505004882812,231.0133819580078,219.00254821777344,214.8756866455078,221.8603515625,212.41758728027344,217.66358947753906,221.81039428710938,214.6558837890625,201.67581176757812,195.00091552734375,198.86795043945312,187.7364501953125,184.00930786132812,197.66888427734375,185.32830810546875,195.18077087402344,195.87025451660156,203.18463134765625,188.29603576660156,186.60731506347656,169.37049865722656,175.81556701660156,166.17294311523438,161.6264190673828,176.9247283935547,172.5081024169922,181.63113403320312,169.25059509277344,171.1091766357422,166.8124542236328,168.85089111328125,161.4165802001953,169.62030029296875,178.3736114501953,187.96629333496094,186.5773468017578,183.06002807617188,195.77032470703125,187.05697631835938,187.71649169921875,189.11538696289062,186.3769073486328,180.38023376464844,169.64617919921875,156.38351440429688,158.2724609375,165.17864990234375,155.92376708984375,158.71221923828125,165.5684356689453,163.50958251953125,162.16030883789062,171.1653289794922,168.5967559814453,159.73167419433594,155.33409118652344,151.50621032714844,145.14971923828125,149.5572967529297,151.21636962890625,158.4923553466797,158.29246520996094,151.43624877929688,150.7366485595703,151.55618286132812,153.63502502441406,157.53286743164062,160.92098999023438,169.82608032226562,177.97157287597656,180.4002227783203,173.09426879882812,170.14590454101562,165.23861694335938,177.80166625976562,179.74058532714844,181.52960205078125,184.30807495117188,185.1575927734375,188.8255615234375,192.0437774658203,189.7850341796875,177.83163452148438,170.76556396484375,180.86997985839844,179.32083129882812,186.98658752441406,190.21481323242188,188.6856231689453,183.2486572265625,187.626220703125,178.39134216308594,170.245849609375,171.71502685546875,172.1248016357422,179.03099060058594,162.51011657714844,157.9226531982422,154.59449768066406,150.8565673828125,139.29296875,136.39456176757812,134.57557678222656,137.10491943359375,139.8642120361328,143.83319091796875,145.01290893554688,131.2764129638672,131.24642944335938,129.25692749023438,131.9462432861328,133.78578186035156,131.72628784179688,132.57608032226562,125.57787322998047,125.12799072265625,122.24872589111328,124.09825134277344,127.32742309570312,122.16873931884766,121.35895538330078,125.08800506591797,131.63632202148438,132.05621337890625,131.26641845703125,120.72911834716797,116.67015075683594,115.83036804199219,114.97058868408203,119.56941223144531,112.24127960205078,118.84959411621094,119.63938903808594,120.47917938232422,121.9088134765625,124.62812042236328,125.95777130126953,132.57608032226562,128.92701721191406,131.72628784179688,138.3046112060547,134.93548583984375,135.39535522460938,132.15618896484375,134.17567443847656,141.52378845214844,142.97341918945312,145.98265075683594,137.72476196289062,157.459716796875,163.22824096679688,162.9083251953125,166.61737060546875,159.05931091308594,156.7299041748047,154.0505828857422,153.13082885742188,160.3389892578125,165.1477508544922,162.65838623046875,158.22952270507812,156.35000610351562,169.22999572753906,171.35000610351562,168.75999450683594,166.10000610351562,159.8699951171875,161.1999969482422],\"high\":[53.407579478102015,53.82862339808442,54.2023325051526,56.006087986616485,57.047484035276796,56.81827149598996,57.10229196823043,57.7849331836236,58.79641680924122,59.89014188322281,60.24391900313762,59.62107075898336,59.87270155672718,59.87768693526548,58.84624713891676,58.71670179439755,59.770553588867195,59.25234225767008,59.112821616150775,60.23394360862886,60.30120704962881,61.27035509369747,61.92310138634078,63.029268674619274,62.603242824146186,61.95798687129707,62.07756320220086,62.284344426030685,62.10745132195909,63.17874549813136,63.08158537651053,64.6511509244001,60.3535287014205,62.102481986789996,61.995345191019425,61.37499958075328,60.90163205537761,60.069509945133454,61.76116137345452,62.88227519713016,63.343181610107415,63.163796615183536,65.52312170440737,67.88993661300354,67.96467289119377,68.13410751705453,73.48805485570058,74.07102454933313,78.58042698724749,78.80713214635641,76.0367482197169,70.22434809341839,69.45699418235137,68.62489384809932,66.55947227666564,67.92057389577724,69.19940565911281,70.06692612206096,71.01920667345526,70.59791649346069,66.90596911473783,64.66489253048323,65.08370208740234,63.966892345312324,58.86150453768181,60.083009058444375,56.36366426032099,55.05740151974773,52.335186315257836,54.02784210489699,57.415644709203036,53.965519036589015,62.98470310106049,65.26816764225103,65.36789117643556,65.59223706115655,66.30021205020542,68.65348335195748,65.19587239614245,63.81732505371665,63.7250886810894,67.2774167751123,69.36393955008869,66.79630640507953,68.03524366035643,67.35718736819672,71.12638743558936,70.83971810323749,74.5366349167886,74.50173422947657,73.16555559589601,70.98929404828915,71.76207061709843,73.07582920310286,72.2107964769183,75.65841286141138,75.83292407063956,74.93051699597926,74.40202319482106,72.01884143187618,72.75173611858241,74.85322752477649,75.28450198160829,76.63315159164436,77.96431439208985,80.89344147562359,81.49171179746817,80.55441462564764,80.13063372627144,84.76234834306284,88.91047651184351,90.61561573862079,90.17188177174778,90.26661492595706,90.67045033484341,91.55541246017783,86.08107599421454,87.35494817785055,88.50164031982422,88.15515078735625,88.12024005693848,88.40942408237488,89.21791941554278,89.75413395487438,88.68420775688448,90.8789330793564,94.77206382862785,92.39029417657486,91.65206802269171,91.60218252716048,92.44516398030217,92.76688289021955,92.60228088242972,94.22338989558682,95.08381537510265,96.19364633181172,95.3357125288931,94.8219362228386,94.77207236682561,91.8241489300917,95.03393841569097,95.5277490706746,97.14137360298082,98.84974995206325,100.45839353647003,102.00466688015429,105.44639717928418,106.29685620256244,107.66356560323092,103.7778932036859,104.07968879488944,101.82261338680703,102.23911435802619,105.05981849270322,105.34662597305987,105.7706148842618,105.21695613680669,103.3988158597748,104.1669793443795,103.57089515219985,104.91018219780366,105.97511057874729,107.40667545718242,110.72121188968971,112.00811004638672,113.44465400125749,113.30748933597228,114.77146170313145,113.80877702511344,111.10029777998592,114.39487363219257,116.93625935498436,116.76667308578688,123.79975289890201,124.66018827163715,122.85452991678302,123.4530877555668,127.78016743662133,128.81519639367045,127.3063172861815,128.37624107300044,128.19167794418834,131.16452951823422,135.42428160073712,139.64352673561405,146.95812191701324,138.5532909599835,131.47321018693575,125.23635093729865,127.82339070682394,130.3780146877039,126.25919531651239,132.87026071836434,132.70810343040426,130.65244048118606,125.63301364018432,126.05960421288856,124.96193347791473,126.21428508596429,127.00261566741209,125.43093938253288,128.56435510459357,130.24328517722986,134.14509945918047,135.93881730854534,137.33834644639117,134.91100304493432,136.15586227946756,141.12290528607667,140.8958777921593,140.5491127654436,137.95206186148027,143.16860060583497,143.18356285699397,143.12620948319955,139.7632565213758,140.91833814067758,139.5412482114942,137.70759018855753,137.62528650174158,135.83153955789695,135.6469248928888,136.63982616611324,134.13759916207488,132.3214416809166,131.65035508350027,129.09323649165026,128.09780157225518,130.77469308198323,137.98448517332827,143.08875346775355,145.58101150934027,146.6063468220143,135.77914869267002,134.06777334126866,137.37079174233833,136.40033196214233,136.20825458788886,135.67685600218903,135.7716568604895,134.59162812115343,134.66149843622628,133.54385571852882,131.34348743920117,132.41623160792275,133.79331411435183,133.84321372142185,135.00328003838894,136.4477292610731,136.35331023638835,135.3551014469081,137.06452409468315,135.74190643702352,133.89775170905534,130.45147373508703,129.96484392792155,133.64568034431414,134.39685834485232,134.12981402515337,133.55337112820635,133.80790067094756,133.45853147817817,133.1316248877181,132.51024555985862,131.08781081361374,130.3891095449758,130.48890708474826,131.8988727240634,131.27248191320774,136.27842781589277,134.19221707692756,132.21078859334753,133.53587420026778,133.967609530411,139.35786708736407,137.29661187083587,136.00391577493795,135.75189479186272,133.01183655095952,130.70351601934263,134.06241388889438,139.73967082787095,138.16748050595535,138.03524110117164,136.20106559828218,132.08850331573015,133.15660491615677,133.1066531831036,132.46783528462961,135.4748832744536,139.0658885212241,136.4880531593154,137.12438799707536,144.4761135098949,145.56912609851875,148.7808137182055,152.44667896629915,152.63632801175666,153.44735702138652,151.9600555592144,148.46389201237884,151.4959031328046,151.05918458477223,142.13033269081595,144.80549357066099,143.48788121506345,138.29478914871117,138.9984963890076,138.95358764004737,134.2720564544925,129.5156664169226,125.27334982618889,124.48727142135954,125.98310960561734,129.61029554744366,130.27182734844075,128.69913686099983,131.87449882352038,134.92750666318125,134.3358875879674,131.64730776016947,129.02612975321657,133.74922971557342,133.24998177197838,131.4001775281452,126.96167875419331,128.374598950588,130.43407533086292,129.5628795145949,134.50811613489438,138.49728709856274,139.93517481834294,140.33708768709658,142.22684058462215,144.50349453978117,143.86940515886334,153.3006219120903,156.770528616154,156.97523797503746,161.90552132338533,161.42124079763363,157.84396431353846,154.7434993738337,153.40048345990135,154.15937190973406,153.12588795121735,154.56378239104646,156.4759739501326,155.095478321376,154.13938839917455,153.42543800585116,152.24464819015682,146.16105349839745,147.91848703395817,145.49953898245127,149.48869597176426,147.84362147145356,143.3377005773234,142.39407991326078,140.60170015454054,143.07062680085977,141.4854188169884,143.8319996773942,140.5892308153354,146.62289057335505,151.9975197168965,157.2199039065346,157.95381866091552,157.70666813698546,157.26983765665676,162.53708483611751,163.64298195500112,168.9402225125807,172.33775252990998,176.3518942904247,177.86468004132405,175.9574498977706,175.53335414340296,174.7043742885749,179.1713853815607,180.17264156009415,179.9404299446091,179.3261759210785,188.11783456715253,193.51117298266547,185.13650114825032,189.40372915375212,191.2913947626522,193.96062818625475,193.21653646883902,200.5399973070136,200.73974355010597,201.37647631315608,204.30782891106253,204.79973229041835,208.1630870923787,208.49268275830042,201.0818328421188,200.5550043737714,205.0743963792364,204.3602958905315,203.925834704497,198.22536510666112,191.33385232501305,190.1852744235549,188.14778780387064,195.02930425906587,198.62483651403832,196.7571453503799,194.18035039662556,195.97812735126465,196.21785717462188,198.28528914713664,196.0580318244171,199.36394567873117,201.97073693388347,202.929557168093,207.07443921888733,205.44642938035423,204.82720841776762,204.04818655483427,200.24286269553318,200.0431034694567,201.89083858447552,202.61993049936638,197.45631362245413,196.09797899418678,204.69738757801397,208.39278281051125,219.69886009624804,219.31931915616107,224.42300995724838,223.1246381352473,226.9399189258178,230.14595370602913,226.71021038773486,226.7302054972051,225.69130869884938,229.61715681968607,228.7480759009301,225.86113533762446,225.14187672515723,226.020943047523,229.39736536461334,223.8632458339674,223.43366999374825,222.53464914161617,222.97415880512838,214.10356814475696,214.02365214572853,219.3679938382949,225.11192785875227,221.2559954207472,217.75970091109068,213.96370653981336,209.9479492078446,210.43741819804782,208.3696134640016,205.2029433057454,206.26184997155437,206.98108141940506,212.99473542759853,211.83592713795318,210.40747375676503,210.3475300003736,209.67820256816822,217.32015638160635,219.07828097318986,222.67450295751166,223.55354881023368,224.09297934886368,226.8700537747388,231.0556377926213,233.30325527303265,252.32311551681116,250.63491139370169,249.23638562540236,256.8183697060146,258.66640632133107,266.49814157894235,267.5570254181331,313.318588160988,313.6682899559807,310.6714025513543,322.7586273798742,308.174054619618,305.57677470507684,306.47581765254097,306.11626329403884,303.5789264677036,304.7676681135669,327.25391855174655,330.5304364841867,346.1039216777462,323.25816226274657,328.2028606090001,326.7543979188247,333.76698416322984,333.1776315893916,332.57902363042393,324.47656981345625,320.98981787987304,302.1274887316227,324.1868061627456,322.5983572142013,321.74911443510933,312.75754192031917,302.6570158191354,286.51210385903954,304.71504052027865,311.30893584642774,288.9498247552767,281.17705959735184,290.9279853792049,295.2738815733061,300.30919620519745,310.57957552947454,313.0072755090868,305.1946273991819,304.2854725603844,300.019455500833,306.8230707501328,304.39536745964136,293.88520262712257,284.11433127511134,283.95450884178916,274.4333763690054,280.3877892137997,285.6828782027566,284.5338983170737,271.7159406850691,266.1311963526986,265.1820110533126,255.55102669594785,247.99809011419555,233.58159030245156,229.2156526857255,240.34526469787411,239.72583458865103,228.36645475537728,244.8610369725268,251.21508150985306,257.92883247002186,250.53573267973252,246.11985046055077,251.58474781491094,252.06430522519253,267.0003014046657,268.99844144557653,261.27565157514545,248.5176202954032,265.2020170086387,265.5716939169926,257.6091242373361,249.62657356718216,240.4151971184269,241.32434961393096,237.77766669157538,241.94376016033576,246.41956432332654,243.5422821871884,243.90350902359634,243.07413576531258,236.6190869273275,230.15402708769628,223.55906526595768,232.02258068777056,227.70590069653193,231.2731749096188,222.44991065962301,230.20398640221762,245.78208053868633,248.2302085587662,265.4869982041352,271.3125722436518,272.1719133714465,265.91669237460945,282.9836560767574,283.3633197075735,282.2841564575515,289.2388735678638,284.7423172802375,282.26419569127336,274.74993090628493,275.36945908686675,272.98130976194767,252.80669952533773,247.03112242244646,239.04723299107727,223.02946800311832,227.07636400089376,224.8280834842627,227.59598431476638,220.71126246373288,223.55905721833534,226.52679704297034,223.74893223019433,204.70350460344247,199.29761459532122,197.72880943079426,191.52356703674582,200.21692402708888,201.12622733446102,195.59046129577902,198.09854663579205,203.84413072401583,199.09777457236683,194.9709151486855,182.4105312492888,181.8409587351553,177.39435867128748,167.7517404774264,179.14303359191706,177.74410454556119,183.5696543345595,181.04156745358532,176.73486489859897,173.96698738320833,169.02075939970447,165.84320370383426,170.97926177707157,180.78177385032456,188.66575551815134,191.85331165242908,190.38442962280703,196.0401227092055,193.17231101189398,193.22227704333002,189.85482704138715,191.6939737089767,189.22534794661388,176.87217843988142,163.02983260066785,160.5711925727768,168.58675340619868,159.33188602778114,159.86157742413738,169.98599069921397,166.52790235092917,165.75832487218577,171.30525098319833,173.20420833030474,171.9249281575599,158.11255334692262,155.5839570814467,150.54674351584555,149.62726538568674,153.1053242920844,159.36186962131097,160.28135553848466,155.18417589723177,154.22470986369436,153.66501720336905,154.64446120773462,157.7327690778216,168.87659650179185,171.00543604517472,179.2308708766129,181.33970560292892,179.57068260139377,171.1453517863803,169.09648396804366,179.26086600896338,181.29972055846676,182.33915185269035,188.35583944980263,189.27532582988135,189.5751469605449,192.6334629166356,192.18370143514784,182.28917578238364,174.37356927877306,181.07985525207815,186.96661223276593,187.07653411932165,191.5340757089426,191.31417408741868,186.77670475742732,188.54571030745828,185.09762455837708,175.48295895726966,174.55345334030707,173.96378086245844,179.37079900517426,179.140916940919,163.28969525734192,160.30134834966938,155.31409348978963,143.72052832818252,141.6316706303821,137.71384078603066,138.34460773747386,140.0441739305383,144.70297873165794,145.4327996969737,139.18439351827556,132.86601031495874,132.29615855578976,132.0862068724675,134.595572256035,134.79550980086034,140.27410768968028,131.45637417877072,126.07774468437005,126.55762117563877,127.32742863509557,128.19719567615587,124.96802615571283,126.29769447955572,126.74757657799829,132.16618524737277,133.17593730423823,136.52506753523298,126.6675940341088,121.20899056062504,118.42970153568766,117.31998614474635,120.74911076591748,121.0790224242028,119.44944677029595,124.888046195774,123.46841249655677,127.65734278159563,124.94803827355932,127.06748798825694,132.9659799540407,133.8457567868709,138.3446046955998,138.46457394181718,138.34461747428725,139.21438554724557,142.06365770244767,137.77474436918106,142.25359745678938,144.08313591318012,148.87191085300267,142.07365553891412,157.68965369924194,163.84807749364376,165.35769559756255,169.93651338848716,163.57814378718146,162.61839696533158,159.9790740308419,154.73042580027771,160.53893505878207,165.2277322230233,164.82782941980085,163.5281701466453,159.2792647533097,169.3000030517578,172.64999389648438,169.3300018310547,169.9499969482422,165.72999572753906,161.86000061035156],\"low\":[52.54307245657363,52.63276317637606,53.390145944170015,53.768835210778235,55.2636630388907,55.99861117084481,56.185468150554456,57.13966818510897,57.475988044320026,59.135255834473575,59.39186948177366,59.00072106416336,59.294700966268756,58.74909472066574,57.56568118512713,57.33399223766995,58.97580468735316,58.323060914836006,57.617997477783824,58.89358332820185,59.33206283741254,60.00723053214538,60.727241108814056,61.47465001688592,61.474650755732135,60.92157427026279,61.482124990319804,61.62911190617774,61.42980119449452,62.0352058685848,61.823440816871305,61.86081299355761,57.857171155718426,59.96986640899075,60.77457354049284,59.643491621652466,58.485000218784826,58.65939155348689,60.79451082405312,61.63908206425849,62.005315038019326,62.42635213464302,62.857352874458854,65.97904954720622,66.88093139188224,67.04537055460688,71.25329220514374,70.96926151613825,75.11243108946555,73.831858724749,72.41428778517145,66.76881404567966,64.2674596528367,65.27399307097603,62.04489518469901,60.27496007228618,65.06374550703914,65.427702536994,66.60932961619683,67.68126236506812,64.31588020967699,59.375034663404506,61.32197432745035,60.46940442569746,53.79600678273168,54.745786333488894,48.36156820577923,47.613708508605974,45.04106397143421,48.20949825895469,51.13611976822039,49.48833740366875,56.849764609438964,60.74112566591079,62.3216105485192,61.99254079756184,63.216540348899684,64.2535792525046,60.147822756773905,60.404593273289315,59.427389436362695,63.05200913110827,64.1413865211502,64.96404950116755,64.91916384241505,64.06660389179689,68.27704611155191,68.64848856449636,71.43301613891218,71.53024442716095,71.11392586378349,66.58689477438548,68.65346908385732,70.54806110070017,69.94976695169024,73.29019235998335,72.577244374777,73.22789390795667,72.72183514916028,70.00959360087187,70.01955952795984,72.61464043386083,73.64170531816883,75.11499796295797,76.37885668632389,77.5654663217439,77.70505127660596,75.73072104388173,76.65558015082459,78.51523255231321,86.55721260021764,87.37738750333452,88.6337812535066,87.12560448729496,86.88378928423501,86.47246677171914,79.73923011968233,83.55333038016461,84.6077886144615,86.64696350384429,86.33286097209312,86.75167097182191,86.56679457307649,86.8710686127754,86.64910140541164,87.30252788556521,91.3153811538854,87.64919460397152,86.82368428024455,87.22770179836228,88.17542669425262,90.4848729113482,90.92631142100115,92.05111634509431,92.51000377881223,93.8492787005466,91.2255949394835,91.6021795037921,91.0310695102404,88.78645681298298,92.44267442497129,93.90415149001461,95.55269561702993,96.89195727259997,98.27115660909753,99.41589196503043,102.08947275643645,103.53849062302054,100.00947337842398,97.62021047624972,100.31624085278419,98.71758557102123,100.63547296517521,101.32380131705376,102.62068405321698,102.6680761234675,100.07182886427825,97.53541541092224,101.93234819120872,101.84753918299029,103.22174575133548,102.70547079357019,104.07967818536707,106.89540646755623,108.79833098023222,111.39458430138129,111.51928673229072,110.11017204439226,108.30452101905188,107.69847569317388,109.31957840720219,113.28504473449846,114.13051130679655,117.88896587992977,120.57252317382274,120.68973818586262,118.50249271426205,121.65989291598942,124.77491032585131,125.43581604842444,126.47331655808544,125.36348113789427,126.12166552688643,130.06467480681982,134.08273862914217,138.7079884732404,128.51692641643587,116.80159885844584,116.79662171305888,122.0605218159078,121.4143874243235,118.70758839665586,126.04713162838176,128.0079921883839,124.87459613937615,120.09467764724383,119.63562858078971,118.79491573833405,121.29962883418037,120.53873091840761,119.88760903335316,122.20024266078757,127.2321231032454,129.0608018447267,131.2262349352724,134.32468721634444,130.23583203839183,131.94970570856034,136.3629217627244,138.34374041287808,137.29097251610864,136.32050228103205,138.83272732845367,139.89298973851578,139.30675046412213,137.38826687828472,137.635256326431,133.7858624645313,134.78625007291419,134.49188305285702,132.03953470919174,132.6332803440873,130.11106073916702,131.63785697008777,125.82510806180744,127.23215079675737,122.74160255272463,123.68958669357238,125.76273765494845,133.08979154677306,139.6160688115974,138.6580860464107,135.82155663833487,126.01719915385262,129.210490714828,132.88024585830775,130.31813578609427,131.28362417726873,132.75801319325285,131.57300720788115,130.7247694818988,130.37550849520665,129.88156752770263,128.57931762670415,129.9264629386144,131.42829820250543,129.44996668872793,132.00458838240814,132.06445579087762,133.0492752114338,133.64568522266515,134.75620029336167,132.5751354370601,128.4501033167036,128.26292859393533,127.99840070835468,130.53879884001108,131.62935839110224,131.88637556093406,131.54700657040615,130.46894072395506,129.44080681928097,130.30423615918008,129.81512496759916,129.15381013321414,127.40201327622987,128.1905600866101,128.73459918568233,128.91674356343972,129.39089540651494,130.63365278797852,125.63269397096518,128.6322560476714,130.18444613376874,133.38367529645504,133.20900562783098,133.60825656203647,131.56696130423936,128.25294525293316,128.2080311869319,130.3316766659287,132.29065395048144,136.02636585730306,132.1259352984574,133.63321710576753,127.70643268332014,129.3709428038215,128.88179969578624,128.79447342317872,132.6150521421513,134.92087662718615,133.1366187312629,135.2128533955627,137.02459862588893,141.96814318681993,143.1559809703082,148.98044682438706,147.48314600553493,149.2299818758807,147.53306785791793,145.48678014017423,148.19936206274073,142.9912780192224,133.65317819864964,137.3115458085688,131.92381292854463,133.3687040800688,135.28771189600772,133.71806535922983,127.75634920426306,120.61926426420125,116.58157872597197,115.45611054826908,120.41625289474761,124.392925983563,127.15889078337982,125.71600745482677,127.48591749708203,130.97578652188955,129.7051681478628,126.98413495022089,125.94064989616433,128.87885636231474,130.0221925578284,126.18281534221023,122.54065147868766,123.5541552124814,126.81437371881027,126.86432961211878,129.6352438985728,134.91503631934214,137.1292842709367,137.5336958275579,136.9146232477976,142.2817555319502,141.542809009552,141.1858611049481,151.03642917439208,152.05243552133638,156.08653915623074,158.42062769200174,152.10736572574467,149.41130789509828,150.80179360933067,147.6189564541648,148.78473808401557,151.02896246937252,153.3205887043723,151.9326121408952,150.49471403112193,149.75082355373186,147.65886193035942,139.897714886103,143.6647187442846,141.97220041783658,146.50306058699397,142.29174933860665,137.29903861496217,136.8921382567868,134.39328846203531,137.28409673801445,138.3325323393599,139.83534628039916,135.23456488901553,142.49643815424807,148.47767787623076,151.53821667627122,154.59872851141225,155.63470387832814,154.37408166106698,154.78343463263286,158.8000644634528,162.11770434718605,165.58763789324328,170.70515999739175,171.67624283421534,172.2578630997838,172.3447846401354,171.548265962955,174.22249100985317,176.409783715326,177.06147572457627,175.62824052994944,177.3436257919322,185.61091963065533,178.0077875412938,183.6333547859271,188.84441799767282,190.64722766314114,188.71210127793435,192.95185901341904,196.32769331804988,198.39265566820734,199.9432208479011,202.62741041773734,203.25165296704898,203.06938340341873,196.76466644873685,197.29901276551075,201.62865217169434,200.89207246681374,197.28402240247,188.35255494319497,180.50720358698624,178.43477731700597,181.41609075293562,187.18897448336776,192.52236805660903,192.26269279161485,188.90685989814972,187.17898958365032,189.71587141292315,193.0417603382752,192.39255751664078,193.3713417489942,191.96308371079365,198.03560290397093,203.16925517159805,201.85087626502224,201.18169847384905,198.1055234654557,194.06049063209488,195.9581487136716,198.2653081003081,194.29021433127443,192.43251477664322,189.76579761555766,187.388745692867,199.08427986729836,209.24176448943896,215.08455533749873,216.9522347972988,217.6314172611568,221.39675707458375,225.23202016085463,220.96628561461947,223.333803722992,222.71446119091172,221.76546018713745,224.98205466517155,219.53782104458242,221.07616961979005,222.46470674868436,218.3490536261365,220.62666338655526,219.42791241941157,219.03834686995552,218.06934314562096,206.4017068385634,209.27867035953383,211.73606627704086,218.66872997407896,218.3790333395712,213.02470319331366,206.291812682931,204.4537600718913,206.66141340321792,201.81654678004253,195.3433772142567,198.33023612890315,200.58784938618825,209.49843315891525,207.5304836818636,204.8933013826,205.06311060349398,206.91114046998288,210.9968423456448,216.39112071037735,216.21133718529086,220.1371640274937,219.5877500097893,220.59668995572855,225.3716467602195,227.45942975608395,238.98722996750286,242.56346154170362,244.97089291408696,249.73586425401103,252.0034556753746,257.7274190043324,262.0728353167006,270.89346117036604,293.78931844118864,298.75401490822776,299.3234231169604,287.475945096417,297.4553601251633,295.9869121330166,292.16102070878765,296.7461565203401,287.6957273928365,312.87910599380604,318.7129175812046,318.6629452079781,308.4737783619874,308.95323116699143,313.1687613455246,320.02151239067564,318.30337840293043,313.5068309743137,309.960145831006,301.0184743897839,280.11807063252286,306.22362511416384,313.91647252923667,303.99572693196785,298.33102907891197,280.89736248196544,272.2454447099489,278.1199162882019,280.66757173999775,277.34068452086285,271.19640277834606,273.7540411165021,284.22421639245385,294.0350639700705,296.123092409118,299.83959673661866,293.3856624868034,295.1240259236743,293.03599513013484,297.5717425501857,283.22516024329053,275.07277633181474,270.3971471454183,270.3172655235054,256.20042622804533,268.1392641757595,275.8220731287798,264.73243937372933,261.85516561507404,257.4593111030735,250.28595251179112,240.5550549706911,232.4126733560309,208.68487205327418,219.79446977588975,222.79167142973353,216.54751118124886,212.76105235956808,230.30465597318099,238.67680321253735,245.30062605135487,237.57784815078637,236.09922233585422,241.79390028631298,239.57598268375943,253.2931191363772,255.76082083590563,237.5078852172257,237.328086269703,247.60845319893798,255.28131252192637,241.4242459805868,230.7841925604722,229.7851374563161,222.80166094734753,208.70484504449746,233.59156955908674,236.84852772986218,231.10391562503554,233.971100848187,234.51069145938348,224.64824396317434,213.13703942132764,206.34223331251684,222.30001932491314,218.65282512963924,220.29158075432488,211.4283389371964,213.05709359047543,231.54296751557558,238.87735886573293,246.05186230357688,259.47164896973663,260.5208176605123,255.55461942969958,258.8720857781783,272.5016297172383,271.85213067848196,279.5862491625197,274.8199098902041,272.49166885066273,262.46934202503263,265.92669664764617,258.00277053675717,239.84660782001933,234.60062427964002,230.4438100979877,216.43451967403678,212.65739691893145,214.38607110075299,211.46831614502526,210.62895918345905,212.97715205382798,211.83803096421735,199.8472079848608,194.8510362137247,190.81411082225475,186.55734387701796,182.76026283037388,184.75874099278283,185.02853424639278,183.76949751560426,191.1838350091065,187.36672466819095,184.858661459914,179.7625426557364,168.14144267068056,170.11992499995011,165.5534064522919,155.5510625055497,165.80322654072148,170.92930770745653,176.20527456363428,168.51115497895012,167.21214712147173,157.42962913414925,161.66638199957757,157.6794472380463,159.87774990795288,160.09759186451097,180.86172443378177,183.35980566781635,181.08154510940412,181.8409717574788,185.07849330578148,185.49818636884277,181.74103615427904,185.24754239643045,180.31028038797098,168.59675655214923,155.97373736653194,154.03479927290584,159.17196221962757,153.92487249872815,153.19526639539293,163.97931819602258,161.71057434993145,158.442364019237,163.00985108434713,166.1680912778567,159.36186832451068,151.61614616246965,148.53785066961038,143.84044578633237,140.47232425002952,147.808250899199,153.80494504943383,153.80494142913338,150.29687954545886,148.6877785519288,144.57004097932034,147.19858260712448,154.3646215442091,159.931547011342,161.6306156601843,167.91712108386616,175.35301127932692,171.27526751380452,166.39797737089796,164.6889179015608,169.03652453290292,174.30358998178397,176.82219897067637,179.8005579976102,180.81999535145488,181.2697427574514,187.49630480935056,186.55682389203895,172.32468589174724,167.14756966817833,173.07428783568386,178.66119242602934,179.4307685450748,186.02712669835321,184.9077141133075,181.34969832374438,181.72948825672628,177.6017703085749,169.56623276479732,169.60619258144456,168.8566049526864,168.23695726088675,162.2802327468956,157.58284479609043,151.73609310518927,149.5073075217543,132.62665692493144,135.83487377086018,133.43620743690548,133.42586808770838,133.6558088945409,141.22385798667247,141.9436867144378,130.95650274143523,129.09698531735066,127.8672912190843,126.13773157091318,130.0667320576756,130.53660508010438,131.06647205665166,124.24821157466428,122.53864921652293,122.10876230605514,122.54865232754193,123.50840052160298,119.42944232119848,120.71911966566171,121.01904621626383,128.75705373372367,126.17771997673778,130.99648324766136,120.18925553427457,114.05082570715311,112.80114422079546,113.42098204649317,108.10234432383001,112.01134270409165,115.14054385083158,116.1502838441831,118.30972860475867,121.01904172476152,118.83960036662975,120.60914128546358,126.60760616709564,127.04749325668783,131.18643269602214,130.57659268630186,132.93599729247097,135.15542636991742,132.076207597818,129.5268548025154,136.9349661723876,139.50430543396809,142.1236375768973,137.55480727150191,145.43279488668554,154.7804054676646,159.17928335217536,163.77810076297035,158.6893951797375,155.3102692262695,151.16132270600588,150.76143980590103,151.18132817746994,160.4389488458438,161.67864113800283,157.2097793245776,155.16030797893478,155.97000122070312,166.35000610351562,164.4499969482422,164.72000122070312,158.19000244140625,156.6699981689453],\"open\":[52.630272061075715,53.1609370235387,53.41505740341877,53.858521024834296,55.85411749401399,56.28013383125315,56.28013777858584,57.22437399463249,57.52581475588538,59.3270927047488,59.922533403580076,59.34452809211846,59.48404402096978,59.74315440041119,58.793930419093535,57.52582530244321,59.48155329712846,58.57219828943756,57.87959246230491,59.344521364142935,59.73317415309526,60.75215267972494,61.619153454924636,61.70136595059314,62.34912162285382,61.73376090773178,61.71631474589003,62.20960245241251,61.73872909050018,62.22454890348665,62.712863109650826,64.1528761581234,59.354489202717254,60.503020303440564,61.63409674762154,60.19408694447159,60.78204717686797,58.72167589444442,61.29527564112806,62.78013175723851,62.817501563464596,62.942064509688876,62.90717958312875,66.59940679863799,67.2695850888221,67.3194232499247,71.56720774364518,71.16359594711089,75.11243108946555,77.92268994970934,75.78511697732958,67.31442548511936,68.83663709787402,65.2889407054185,63.54310515758537,60.441985316200196,69.02739744743889,69.4686403190354,67.3571888217337,68.92769445282259,66.33011063013294,59.80380758825451,63.95194709808145,63.682705998871064,56.204114360021244,57.46051507125393,52.950932369561436,50.084137962464055,49.88220910416778,50.345884599924226,54.5937208729555,51.28070723590573,57.08658593004643,63.268889631772836,63.30379973937334,62.32160067495374,63.65777836350442,66.60933912944589,63.73006713549223,60.885718053432775,63.30878081667387,63.627863926791996,69.12711443130931,65.66454380745752,67.80589683840458,64.95156755620485,68.55375032484373,69.10219162851183,71.5651376289416,74.28735156453739,71.60502035726675,70.37605155962073,69.10966742984473,71.75460653311244,70.6976261686913,73.53698343043182,75.5337773549001,73.98073624019959,73.86107592069332,70.88459132352831,70.01955952795984,73.65665580089741,74.02061795363838,75.62852746201632,76.71788250732422,77.85214417679038,81.00311264860032,78.94900952773791,78.19368082998348,78.67228418180619,87.35493201716803,87.65159648550006,89.65336937915625,90.25664133894426,88.00059510264514,91.30612606270752,86.00379782796394,83.88238266348642,85.3008043872872,88.08036030283841,87.7114143495823,87.97068517247892,87.07058014182194,87.73399106561611,88.55950766876303,87.78886126941958,91.45753346520063,91.28046039779447,91.40516428459296,87.94098256860896,92.02866234924615,90.91882676125275,92.04861219576789,92.20325442063081,92.77686378895262,95.28084081793192,94.53513249389486,93.33301708337385,94.77207236682561,91.47748666603192,92.91653325906942,94.97906563925805,96.15873624956028,97.1837587939601,99.2238671620229,99.69771536758357,103.55345065245876,105.63345076290058,105.69579450612797,100.50826087662973,103.89263865296915,99.90971818128139,102.00966283465968,102.49598512568093,104.87775245488054,103.42625478044047,104.24928215643192,98.51306742896999,102.07700456172788,103.49358171371756,103.65819605802758,103.50105784711337,105.37905090768126,107.06749319898697,110.23487843795876,112.17022278710331,113.22518301600985,112.85357383938278,113.07055464784287,110.4718120703892,109.64380321039665,115.18297642137368,115.02336823024962,118.22814645468166,124.20129284193746,122.66996860845295,119.46268491902322,121.7247393939242,128.52838009017583,126.00444812025903,127.68540534207776,127.50832396423655,126.445882694488,131.51119263399445,134.51682236797853,146.7286093650393,137.99696712764282,127.56893136914304,117.09848409253956,123.73948981162324,129.6196168173825,124.59270551253513,130.5351804498871,132.52099735786211,129.30027623139188,121.06762784473922,125.67292134639995,118.9994869141157,125.48581537248941,125.49079913331173,120.46888957964782,124.213506201868,130.1285213100628,129.10320829701044,131.29857714176242,137.29094563503332,131.97218230037674,132.08193465732413,138.00946460500785,139.70338102291785,140.45431112416605,137.38077009659858,139.6011139821846,142.66465102568688,142.60480039135072,137.8173562076151,140.0726148766495,138.7379313979873,135.54964233949838,135.96379073128466,134.94092790496015,134.2174391955723,133.98790825140884,132.78045573686646,131.70273381492825,128.115286126546,128.23004819532613,126.31156893653765,126.81801879876498,133.61120050063312,141.32746213913126,140.80108120478812,145.2192676135342,135.77914869267002,130.2632823651405,134.50681101323462,135.98621053925746,131.44828608209974,135.2402751275682,134.36960979216883,131.8499030448233,134.25733530090315,131.43579063964071,131.14890501368365,130.05120032915198,133.46899996352502,132.37130649194754,134.63904138673198,133.2245195446261,135.6296134740249,134.24210974448982,135.7668687493153,135.60465781148943,132.76480692480789,128.45758372800302,129.4383002963287,130.6436201641178,134.1548035769945,133.98258894711014,133.42609894979967,133.54836049862251,130.51136437476202,132.9519572813278,132.32058627422612,130.13703173353102,130.3891095449758,129.01656495122657,129.6679082525748,131.12775475580628,130.80583111661088,130.760924968629,131.98620408830442,129.44079062970383,133.38365939930702,133.94515943006968,137.2766437231868,134.65634794816225,135.5048441980017,132.04108931710115,129.92742389195826,130.88067108278418,133.94266385629177,137.15181652743811,137.56858669175767,135.5597241478233,132.061056638846,129.72779536885938,130.51384109739465,130.29676027584725,133.74551409452414,136.11372569142713,135.06562370517182,137.00211168229745,137.02459862588893,143.14850267994876,144.37129613696982,149.53195446421628,150.22817917991884,150.37042018719475,151.43600983150287,147.02399224746034,149.9736481894023,147.48065270537705,140.4982911268806,140.97241754840877,140.2013319263591,137.276626980065,138.4993994540381,138.7489560569639,134.02001004910105,127.77632075117762,125.27334982618889,124.27515367208922,121.12521431586691,128.21733012531257,129.31074010442234,126.29765281967686,128.4594987074266,133.36978913510202,130.2069362029344,131.17301113049783,127.31364013289159,128.9387662268706,132.34878916674,131.3202926190457,124.81232819253354,125.36150736171635,128.01511550617656,128.2323225907814,129.96476339683093,135.52414541466305,138.47231967674304,139.7928860530737,138.60463943815196,142.31919158359193,141.9322383508067,142.68866647012175,152.092378655478,156.0216319322888,156.3960836357244,160.29538618699183,155.1379336142913,153.00853583067152,150.9665457646466,153.52530540182858,149.1242375236473,151.62809172087174,155.55732037918114,153.4204398724643,153.77491639142315,151.52322333794078,151.028928939759,146.15855471464164,146.87501618753024,144.74065518726772,147.86607102631052,147.6563954854817,138.04794246195289,139.89025254447674,140.13238585667187,138.69702232491278,141.3631002907119,142.46150781381053,135.4667232693777,142.81596255056414,151.41586682024342,151.9026887605703,157.42959201487938,157.11253653394925,156.76806954629464,154.78343463263286,162.46219989792223,162.28497050635013,166.76342243805684,170.87490972286483,175.45569968371254,175.0163377663134,174.94158573341232,173.2861265513613,174.57954853203225,178.83928043344886,178.92916580426302,177.68819812657387,177.52589595467126,187.60845431950864,184.1252370917962,184.48729655278464,189.84318526827496,192.0404972288293,192.56732855761297,193.37383881139726,198.57990319160626,199.7459812232288,201.00191170844084,204.15052441721457,207.11937705128557,208.2779514372464,198.32024172295513,199.37895022667962,202.15049956223856,203.75354652914368,203.32656817319287,197.87329106730715,190.07039710405311,178.931661628612,187.0691172970752,188.5872579141825,196.1778598194508,196.31768532845962,192.87196757931162,192.41252065633984,192.95188339183235,194.94940971490402,193.94063470113883,196.7571623596964,197.1566709393101,199.653601248276,204.74730943408278,204.98700495938522,204.20797754224435,202.96951591454663,200.18292385558155,198.4550670592586,198.8046510225711,201.10181507706307,196.60737046917487,194.75963439491446,194.6997308045082,199.66356670719466,209.45151234320602,217.26186084954978,217.10204379677108,221.72636982692597,221.56654569561502,228.01858960853272,226.71021038773486,224.61245017276644,224.94210103713337,223.01413958008303,228.08876953744956,224.89215890651997,222.88425480206536,223.2438814324673,226.60032075220565,222.51466600354527,222.85428098862224,221.5956398069718,222.76437398832135,211.2366050975946,213.94373483389342,213.43426714089384,221.16608876886136,220.46682154083152,216.87064179820865,211.91586935613333,209.17875846086415,207.46055592109388,207.28076874665695,204.82333995106353,199.2892285973486,200.987420672264,210.69716231678728,210.7870335581759,205.53262461129535,208.0599409594406,208.95896213846925,212.65509217503148,217.86956796000433,217.2602309263203,222.524638272274,222.81433299004286,220.7365414328657,227.98887388874596,229.48728382254393,239.6365370952818,244.48143118162406,248.51714513684954,249.7458482012209,256.21898279827167,257.94718779033866,266.41824567184074,272.00230418558453,301.55109922747914,301.17144090452535,322.47892443971097,293.2498370235235,304.3580625586331,299.7829152789012,305.1972218163119,297.27559536100995,303.858625872245,323.3280776510516,322.0893515534852,334.815873430343,315.01687737904183,314.2775863793479,325.6555540626508,323.31804410171065,331.33957916761466,331.8796653856604,311.8483947143337,319.701014627717,298.5208453811487,309.2807635937508,319.69107192888555,317.0435232625907,311.2090020990814,302.2074239839052,276.7312406295847,283.7346606811775,311.22899350175237,279.58858267090557,272.7948835443314,283.4749322459294,288.64010059248125,297.27202752458646,296.3229177616325,312.827450998225,302.44719648663914,297.991339839945,296.4627835976362,297.87145008239395,302.4871480801177,289.219551874488,276.1417753780013,281.1471361263921,265.561667531756,272.97473861900704,280.40781198914,283.52486269564304,262.7543187830575,262.3547282285668,260.5463618914648,252.8035958274239,234.8503962572024,223.09139925813068,225.24937559701357,232.18288376886827,235.45981937326593,219.91435166247206,231.6034445817622,250.8054608908584,257.6990363586485,244.35151299426295,239.49603974456943,243.49230903490368,243.36243537072684,255.98060823884586,259.70714257177343,258.91787115169546,239.1164073624245,249.25692084232972,262.34470021684047,256.0605539442196,246.4495364956856,230.13481658938952,237.79764852186244,209.95367732754144,236.98840238654765,239.69585600742838,242.68308496170326,237.37849923177524,242.4346253565234,233.66134167011595,227.99567369297316,212.9271948712658,223.69894353283135,225.13785690147031,230.04411886821026,218.52292054734528,215.01558754268618,234.8204603811246,241.0157233240033,247.80052519110762,264.867517758172,267.0658014266258,261.0604198156555,261.46010343824076,278.64692476345635,277.3479284148237,286.73081168775946,282.8238009994616,277.6077522813099,273.5408638455805,267.0758120139939,272.3318124025498,249.1494922286242,244.22327173287363,238.98728126836608,221.97028030235597,225.19779558244278,217.11398091116556,224.87806121887544,211.83804150645568,217.03404761473126,224.99796719021606,216.9241482478555,202.874900741627,191.8732985291336,197.0293320866064,185.83791161630097,189.52510125779978,193.8717792299084,185.2683515245458,193.851793429224,199.07777104524308,198.51821585813403,187.21684960743795,180.20221302413538,176.75485127405707,173.337463115235,162.06608533622605,167.75174898989272,174.9562275673797,180.60192216139126,176.91473322615357,169.24059496399948,173.18758455127406,162.61566837537063,164.97387324423389,160.07759404591175,160.2374842935114,181.72106804373917,189.65499550583795,187.0969499647149,182.78025608220003,190.67422100965325,191.24379386252778,184.5788625412706,187.88608236274325,184.70784214771882,175.90271340167337,159.91156202136483,157.22303831592208,160.86103049812138,158.51234717560857,156.3934944020115,164.65893500820783,162.1703115625009,165.09868605750597,164.90879474183856,173.02429989838674,168.90659305302177,158.0525889514306,153.5250981136686,148.90765064273816,141.67165798715115,150.0170359975852,154.47457291327527,154.2147184743382,155.1741716646904,152.59560589048806,145.81935006227457,150.9964850226433,156.50343800529728,162.92988864503607,164.76887951555528,169.37632072776427,178.7511409694081,178.83108615852353,170.09592912867643,168.79664674066672,170.2258692445072,179.65063873696187,178.03153680771933,181.71951017872138,181.11983257770564,181.73948418473375,188.38581222626175,187.99603034545692,174.92325473447474,172.42465012035814,176.88217962457205,181.20978607067528,181.49963173007995,186.90662993258195,189.0954001658087,185.12760766416253,182.90882864586436,183.95825532242134,174.80332686233643,169.7960899959856,170.02595637131643,168.3468970682953,178.47128916444487,160.111445098001,159.51179171000243,153.75495825056518,142.01146669295244,140.92205640217279,137.23411033809438,135.59531117833416,134.55557260190932,141.53379149791866,143.6532561226419,137.98470348810457,132.50610175961583,130.11670815622728,127.3874118970753,130.08671595900833,132.11618746232463,132.09620737274696,130.66656769502944,124.16822955557643,124.87805815494113,125.0380133811009,124.06825483798112,124.44816252297998,120.83909172301031,123.43842550471908,128.75705373372367,129.07697980653583,132.1661821484161,125.0180221156184,120.33921794593513,115.58043198245525,115.7603875564224,109.68194208866355,120.53915963309787,115.15054342905121,123.40842902078435,118.7596180850582,121.09901546606173,120.94906131988724,125.04800803341318,126.90753248112706,128.65708200975408,136.2651349678232,131.00647537691668,137.7447648081206,138.07467772279932,138.46457246072006,130.39662736616398,139.82422633981696,142.24361016093124,147.97213192992388,141.58377536616788,147.96214657738096,158.02957414078364,162.1385178386441,167.17722491188974,161.5786553546091,157.10979660152879,159.61916550217745,151.4312666399419,153.2407989117415,160.93882095799864,163.13825919852945,160.21900394898375,158.22953021662735,156.97000122070312,169.99000549316406,166.58999633789062,166.7899932861328,165.3000030517578,157.72000122070312],\"x\":[\"2019-12-09T00:00:00-05:00\",\"2019-12-10T00:00:00-05:00\",\"2019-12-11T00:00:00-05:00\",\"2019-12-12T00:00:00-05:00\",\"2019-12-13T00:00:00-05:00\",\"2019-12-16T00:00:00-05:00\",\"2019-12-17T00:00:00-05:00\",\"2019-12-18T00:00:00-05:00\",\"2019-12-19T00:00:00-05:00\",\"2019-12-20T00:00:00-05:00\",\"2019-12-23T00:00:00-05:00\",\"2019-12-24T00:00:00-05:00\",\"2019-12-26T00:00:00-05:00\",\"2019-12-27T00:00:00-05:00\",\"2019-12-30T00:00:00-05:00\",\"2019-12-31T00:00:00-05:00\",\"2020-01-02T00:00:00-05:00\",\"2020-01-03T00:00:00-05:00\",\"2020-01-06T00:00:00-05:00\",\"2020-01-07T00:00:00-05:00\",\"2020-01-08T00:00:00-05:00\",\"2020-01-09T00:00:00-05:00\",\"2020-01-10T00:00:00-05:00\",\"2020-01-13T00:00:00-05:00\",\"2020-01-14T00:00:00-05:00\",\"2020-01-15T00:00:00-05:00\",\"2020-01-16T00:00:00-05:00\",\"2020-01-17T00:00:00-05:00\",\"2020-01-21T00:00:00-05:00\",\"2020-01-22T00:00:00-05:00\",\"2020-01-23T00:00:00-05:00\",\"2020-01-24T00:00:00-05:00\",\"2020-01-27T00:00:00-05:00\",\"2020-01-28T00:00:00-05:00\",\"2020-01-29T00:00:00-05:00\",\"2020-01-30T00:00:00-05:00\",\"2020-01-31T00:00:00-05:00\",\"2020-02-03T00:00:00-05:00\",\"2020-02-04T00:00:00-05:00\",\"2020-02-05T00:00:00-05:00\",\"2020-02-06T00:00:00-05:00\",\"2020-02-07T00:00:00-05:00\",\"2020-02-10T00:00:00-05:00\",\"2020-02-11T00:00:00-05:00\",\"2020-02-12T00:00:00-05:00\",\"2020-02-13T00:00:00-05:00\",\"2020-02-14T00:00:00-05:00\",\"2020-02-18T00:00:00-05:00\",\"2020-02-19T00:00:00-05:00\",\"2020-02-20T00:00:00-05:00\",\"2020-02-21T00:00:00-05:00\",\"2020-02-24T00:00:00-05:00\",\"2020-02-25T00:00:00-05:00\",\"2020-02-26T00:00:00-05:00\",\"2020-02-27T00:00:00-05:00\",\"2020-02-28T00:00:00-05:00\",\"2020-03-02T00:00:00-05:00\",\"2020-03-03T00:00:00-05:00\",\"2020-03-04T00:00:00-05:00\",\"2020-03-05T00:00:00-05:00\",\"2020-03-06T00:00:00-05:00\",\"2020-03-09T00:00:00-04:00\",\"2020-03-10T00:00:00-04:00\",\"2020-03-11T00:00:00-04:00\",\"2020-03-12T00:00:00-04:00\",\"2020-03-13T00:00:00-04:00\",\"2020-03-16T00:00:00-04:00\",\"2020-03-17T00:00:00-04:00\",\"2020-03-18T00:00:00-04:00\",\"2020-03-19T00:00:00-04:00\",\"2020-03-20T00:00:00-04:00\",\"2020-03-23T00:00:00-04:00\",\"2020-03-24T00:00:00-04:00\",\"2020-03-25T00:00:00-04:00\",\"2020-03-26T00:00:00-04:00\",\"2020-03-27T00:00:00-04:00\",\"2020-03-30T00:00:00-04:00\",\"2020-03-31T00:00:00-04:00\",\"2020-04-01T00:00:00-04:00\",\"2020-04-02T00:00:00-04:00\",\"2020-04-03T00:00:00-04:00\",\"2020-04-06T00:00:00-04:00\",\"2020-04-07T00:00:00-04:00\",\"2020-04-08T00:00:00-04:00\",\"2020-04-09T00:00:00-04:00\",\"2020-04-13T00:00:00-04:00\",\"2020-04-14T00:00:00-04:00\",\"2020-04-15T00:00:00-04:00\",\"2020-04-16T00:00:00-04:00\",\"2020-04-17T00:00:00-04:00\",\"2020-04-20T00:00:00-04:00\",\"2020-04-21T00:00:00-04:00\",\"2020-04-22T00:00:00-04:00\",\"2020-04-23T00:00:00-04:00\",\"2020-04-24T00:00:00-04:00\",\"2020-04-27T00:00:00-04:00\",\"2020-04-28T00:00:00-04:00\",\"2020-04-29T00:00:00-04:00\",\"2020-04-30T00:00:00-04:00\",\"2020-05-01T00:00:00-04:00\",\"2020-05-04T00:00:00-04:00\",\"2020-05-05T00:00:00-04:00\",\"2020-05-06T00:00:00-04:00\",\"2020-05-07T00:00:00-04:00\",\"2020-05-08T00:00:00-04:00\",\"2020-05-11T00:00:00-04:00\",\"2020-05-12T00:00:00-04:00\",\"2020-05-13T00:00:00-04:00\",\"2020-05-14T00:00:00-04:00\",\"2020-05-15T00:00:00-04:00\",\"2020-05-18T00:00:00-04:00\",\"2020-05-19T00:00:00-04:00\",\"2020-05-20T00:00:00-04:00\",\"2020-05-21T00:00:00-04:00\",\"2020-05-22T00:00:00-04:00\",\"2020-05-26T00:00:00-04:00\",\"2020-05-27T00:00:00-04:00\",\"2020-05-28T00:00:00-04:00\",\"2020-05-29T00:00:00-04:00\",\"2020-06-01T00:00:00-04:00\",\"2020-06-02T00:00:00-04:00\",\"2020-06-03T00:00:00-04:00\",\"2020-06-04T00:00:00-04:00\",\"2020-06-05T00:00:00-04:00\",\"2020-06-08T00:00:00-04:00\",\"2020-06-09T00:00:00-04:00\",\"2020-06-10T00:00:00-04:00\",\"2020-06-11T00:00:00-04:00\",\"2020-06-12T00:00:00-04:00\",\"2020-06-15T00:00:00-04:00\",\"2020-06-16T00:00:00-04:00\",\"2020-06-17T00:00:00-04:00\",\"2020-06-18T00:00:00-04:00\",\"2020-06-19T00:00:00-04:00\",\"2020-06-22T00:00:00-04:00\",\"2020-06-23T00:00:00-04:00\",\"2020-06-24T00:00:00-04:00\",\"2020-06-25T00:00:00-04:00\",\"2020-06-26T00:00:00-04:00\",\"2020-06-29T00:00:00-04:00\",\"2020-06-30T00:00:00-04:00\",\"2020-07-01T00:00:00-04:00\",\"2020-07-02T00:00:00-04:00\",\"2020-07-06T00:00:00-04:00\",\"2020-07-07T00:00:00-04:00\",\"2020-07-08T00:00:00-04:00\",\"2020-07-09T00:00:00-04:00\",\"2020-07-10T00:00:00-04:00\",\"2020-07-13T00:00:00-04:00\",\"2020-07-14T00:00:00-04:00\",\"2020-07-15T00:00:00-04:00\",\"2020-07-16T00:00:00-04:00\",\"2020-07-17T00:00:00-04:00\",\"2020-07-20T00:00:00-04:00\",\"2020-07-21T00:00:00-04:00\",\"2020-07-22T00:00:00-04:00\",\"2020-07-23T00:00:00-04:00\",\"2020-07-24T00:00:00-04:00\",\"2020-07-27T00:00:00-04:00\",\"2020-07-28T00:00:00-04:00\",\"2020-07-29T00:00:00-04:00\",\"2020-07-30T00:00:00-04:00\",\"2020-07-31T00:00:00-04:00\",\"2020-08-03T00:00:00-04:00\",\"2020-08-04T00:00:00-04:00\",\"2020-08-05T00:00:00-04:00\",\"2020-08-06T00:00:00-04:00\",\"2020-08-07T00:00:00-04:00\",\"2020-08-10T00:00:00-04:00\",\"2020-08-11T00:00:00-04:00\",\"2020-08-12T00:00:00-04:00\",\"2020-08-13T00:00:00-04:00\",\"2020-08-14T00:00:00-04:00\",\"2020-08-17T00:00:00-04:00\",\"2020-08-18T00:00:00-04:00\",\"2020-08-19T00:00:00-04:00\",\"2020-08-20T00:00:00-04:00\",\"2020-08-21T00:00:00-04:00\",\"2020-08-24T00:00:00-04:00\",\"2020-08-25T00:00:00-04:00\",\"2020-08-26T00:00:00-04:00\",\"2020-08-27T00:00:00-04:00\",\"2020-08-28T00:00:00-04:00\",\"2020-08-31T00:00:00-04:00\",\"2020-09-01T00:00:00-04:00\",\"2020-09-02T00:00:00-04:00\",\"2020-09-03T00:00:00-04:00\",\"2020-09-04T00:00:00-04:00\",\"2020-09-08T00:00:00-04:00\",\"2020-09-09T00:00:00-04:00\",\"2020-09-10T00:00:00-04:00\",\"2020-09-11T00:00:00-04:00\",\"2020-09-14T00:00:00-04:00\",\"2020-09-15T00:00:00-04:00\",\"2020-09-16T00:00:00-04:00\",\"2020-09-17T00:00:00-04:00\",\"2020-09-18T00:00:00-04:00\",\"2020-09-21T00:00:00-04:00\",\"2020-09-22T00:00:00-04:00\",\"2020-09-23T00:00:00-04:00\",\"2020-09-24T00:00:00-04:00\",\"2020-09-25T00:00:00-04:00\",\"2020-09-28T00:00:00-04:00\",\"2020-09-29T00:00:00-04:00\",\"2020-09-30T00:00:00-04:00\",\"2020-10-01T00:00:00-04:00\",\"2020-10-02T00:00:00-04:00\",\"2020-10-05T00:00:00-04:00\",\"2020-10-06T00:00:00-04:00\",\"2020-10-07T00:00:00-04:00\",\"2020-10-08T00:00:00-04:00\",\"2020-10-09T00:00:00-04:00\",\"2020-10-12T00:00:00-04:00\",\"2020-10-13T00:00:00-04:00\",\"2020-10-14T00:00:00-04:00\",\"2020-10-15T00:00:00-04:00\",\"2020-10-16T00:00:00-04:00\",\"2020-10-19T00:00:00-04:00\",\"2020-10-20T00:00:00-04:00\",\"2020-10-21T00:00:00-04:00\",\"2020-10-22T00:00:00-04:00\",\"2020-10-23T00:00:00-04:00\",\"2020-10-26T00:00:00-04:00\",\"2020-10-27T00:00:00-04:00\",\"2020-10-28T00:00:00-04:00\",\"2020-10-29T00:00:00-04:00\",\"2020-10-30T00:00:00-04:00\",\"2020-11-02T00:00:00-05:00\",\"2020-11-03T00:00:00-05:00\",\"2020-11-04T00:00:00-05:00\",\"2020-11-05T00:00:00-05:00\",\"2020-11-06T00:00:00-05:00\",\"2020-11-09T00:00:00-05:00\",\"2020-11-10T00:00:00-05:00\",\"2020-11-11T00:00:00-05:00\",\"2020-11-12T00:00:00-05:00\",\"2020-11-13T00:00:00-05:00\",\"2020-11-16T00:00:00-05:00\",\"2020-11-17T00:00:00-05:00\",\"2020-11-18T00:00:00-05:00\",\"2020-11-19T00:00:00-05:00\",\"2020-11-20T00:00:00-05:00\",\"2020-11-23T00:00:00-05:00\",\"2020-11-24T00:00:00-05:00\",\"2020-11-25T00:00:00-05:00\",\"2020-11-27T00:00:00-05:00\",\"2020-11-30T00:00:00-05:00\",\"2020-12-01T00:00:00-05:00\",\"2020-12-02T00:00:00-05:00\",\"2020-12-03T00:00:00-05:00\",\"2020-12-04T00:00:00-05:00\",\"2020-12-07T00:00:00-05:00\",\"2020-12-08T00:00:00-05:00\",\"2020-12-09T00:00:00-05:00\",\"2020-12-10T00:00:00-05:00\",\"2020-12-11T00:00:00-05:00\",\"2020-12-14T00:00:00-05:00\",\"2020-12-15T00:00:00-05:00\",\"2020-12-16T00:00:00-05:00\",\"2020-12-17T00:00:00-05:00\",\"2020-12-18T00:00:00-05:00\",\"2020-12-21T00:00:00-05:00\",\"2020-12-22T00:00:00-05:00\",\"2020-12-23T00:00:00-05:00\",\"2020-12-24T00:00:00-05:00\",\"2020-12-28T00:00:00-05:00\",\"2020-12-29T00:00:00-05:00\",\"2020-12-30T00:00:00-05:00\",\"2020-12-31T00:00:00-05:00\",\"2021-01-04T00:00:00-05:00\",\"2021-01-05T00:00:00-05:00\",\"2021-01-06T00:00:00-05:00\",\"2021-01-07T00:00:00-05:00\",\"2021-01-08T00:00:00-05:00\",\"2021-01-11T00:00:00-05:00\",\"2021-01-12T00:00:00-05:00\",\"2021-01-13T00:00:00-05:00\",\"2021-01-14T00:00:00-05:00\",\"2021-01-15T00:00:00-05:00\",\"2021-01-19T00:00:00-05:00\",\"2021-01-20T00:00:00-05:00\",\"2021-01-21T00:00:00-05:00\",\"2021-01-22T00:00:00-05:00\",\"2021-01-25T00:00:00-05:00\",\"2021-01-26T00:00:00-05:00\",\"2021-01-27T00:00:00-05:00\",\"2021-01-28T00:00:00-05:00\",\"2021-01-29T00:00:00-05:00\",\"2021-02-01T00:00:00-05:00\",\"2021-02-02T00:00:00-05:00\",\"2021-02-03T00:00:00-05:00\",\"2021-02-04T00:00:00-05:00\",\"2021-02-05T00:00:00-05:00\",\"2021-02-08T00:00:00-05:00\",\"2021-02-09T00:00:00-05:00\",\"2021-02-10T00:00:00-05:00\",\"2021-02-11T00:00:00-05:00\",\"2021-02-12T00:00:00-05:00\",\"2021-02-16T00:00:00-05:00\",\"2021-02-17T00:00:00-05:00\",\"2021-02-18T00:00:00-05:00\",\"2021-02-19T00:00:00-05:00\",\"2021-02-22T00:00:00-05:00\",\"2021-02-23T00:00:00-05:00\",\"2021-02-24T00:00:00-05:00\",\"2021-02-25T00:00:00-05:00\",\"2021-02-26T00:00:00-05:00\",\"2021-03-01T00:00:00-05:00\",\"2021-03-02T00:00:00-05:00\",\"2021-03-03T00:00:00-05:00\",\"2021-03-04T00:00:00-05:00\",\"2021-03-05T00:00:00-05:00\",\"2021-03-08T00:00:00-05:00\",\"2021-03-09T00:00:00-05:00\",\"2021-03-10T00:00:00-05:00\",\"2021-03-11T00:00:00-05:00\",\"2021-03-12T00:00:00-05:00\",\"2021-03-15T00:00:00-04:00\",\"2021-03-16T00:00:00-04:00\",\"2021-03-17T00:00:00-04:00\",\"2021-03-18T00:00:00-04:00\",\"2021-03-19T00:00:00-04:00\",\"2021-03-22T00:00:00-04:00\",\"2021-03-23T00:00:00-04:00\",\"2021-03-24T00:00:00-04:00\",\"2021-03-25T00:00:00-04:00\",\"2021-03-26T00:00:00-04:00\",\"2021-03-29T00:00:00-04:00\",\"2021-03-30T00:00:00-04:00\",\"2021-03-31T00:00:00-04:00\",\"2021-04-01T00:00:00-04:00\",\"2021-04-05T00:00:00-04:00\",\"2021-04-06T00:00:00-04:00\",\"2021-04-07T00:00:00-04:00\",\"2021-04-08T00:00:00-04:00\",\"2021-04-09T00:00:00-04:00\",\"2021-04-12T00:00:00-04:00\",\"2021-04-13T00:00:00-04:00\",\"2021-04-14T00:00:00-04:00\",\"2021-04-15T00:00:00-04:00\",\"2021-04-16T00:00:00-04:00\",\"2021-04-19T00:00:00-04:00\",\"2021-04-20T00:00:00-04:00\",\"2021-04-21T00:00:00-04:00\",\"2021-04-22T00:00:00-04:00\",\"2021-04-23T00:00:00-04:00\",\"2021-04-26T00:00:00-04:00\",\"2021-04-27T00:00:00-04:00\",\"2021-04-28T00:00:00-04:00\",\"2021-04-29T00:00:00-04:00\",\"2021-04-30T00:00:00-04:00\",\"2021-05-03T00:00:00-04:00\",\"2021-05-04T00:00:00-04:00\",\"2021-05-05T00:00:00-04:00\",\"2021-05-06T00:00:00-04:00\",\"2021-05-07T00:00:00-04:00\",\"2021-05-10T00:00:00-04:00\",\"2021-05-11T00:00:00-04:00\",\"2021-05-12T00:00:00-04:00\",\"2021-05-13T00:00:00-04:00\",\"2021-05-14T00:00:00-04:00\",\"2021-05-17T00:00:00-04:00\",\"2021-05-18T00:00:00-04:00\",\"2021-05-19T00:00:00-04:00\",\"2021-05-20T00:00:00-04:00\",\"2021-05-21T00:00:00-04:00\",\"2021-05-24T00:00:00-04:00\",\"2021-05-25T00:00:00-04:00\",\"2021-05-26T00:00:00-04:00\",\"2021-05-27T00:00:00-04:00\",\"2021-05-28T00:00:00-04:00\",\"2021-06-01T00:00:00-04:00\",\"2021-06-02T00:00:00-04:00\",\"2021-06-03T00:00:00-04:00\",\"2021-06-04T00:00:00-04:00\",\"2021-06-07T00:00:00-04:00\",\"2021-06-08T00:00:00-04:00\",\"2021-06-09T00:00:00-04:00\",\"2021-06-10T00:00:00-04:00\",\"2021-06-11T00:00:00-04:00\",\"2021-06-14T00:00:00-04:00\",\"2021-06-15T00:00:00-04:00\",\"2021-06-16T00:00:00-04:00\",\"2021-06-17T00:00:00-04:00\",\"2021-06-18T00:00:00-04:00\",\"2021-06-21T00:00:00-04:00\",\"2021-06-22T00:00:00-04:00\",\"2021-06-23T00:00:00-04:00\",\"2021-06-24T00:00:00-04:00\",\"2021-06-25T00:00:00-04:00\",\"2021-06-28T00:00:00-04:00\",\"2021-06-29T00:00:00-04:00\",\"2021-06-30T00:00:00-04:00\",\"2021-07-01T00:00:00-04:00\",\"2021-07-02T00:00:00-04:00\",\"2021-07-06T00:00:00-04:00\",\"2021-07-07T00:00:00-04:00\",\"2021-07-08T00:00:00-04:00\",\"2021-07-09T00:00:00-04:00\",\"2021-07-12T00:00:00-04:00\",\"2021-07-13T00:00:00-04:00\",\"2021-07-14T00:00:00-04:00\",\"2021-07-15T00:00:00-04:00\",\"2021-07-16T00:00:00-04:00\",\"2021-07-19T00:00:00-04:00\",\"2021-07-20T00:00:00-04:00\",\"2021-07-21T00:00:00-04:00\",\"2021-07-22T00:00:00-04:00\",\"2021-07-23T00:00:00-04:00\",\"2021-07-26T00:00:00-04:00\",\"2021-07-27T00:00:00-04:00\",\"2021-07-28T00:00:00-04:00\",\"2021-07-29T00:00:00-04:00\",\"2021-07-30T00:00:00-04:00\",\"2021-08-02T00:00:00-04:00\",\"2021-08-03T00:00:00-04:00\",\"2021-08-04T00:00:00-04:00\",\"2021-08-05T00:00:00-04:00\",\"2021-08-06T00:00:00-04:00\",\"2021-08-09T00:00:00-04:00\",\"2021-08-10T00:00:00-04:00\",\"2021-08-11T00:00:00-04:00\",\"2021-08-12T00:00:00-04:00\",\"2021-08-13T00:00:00-04:00\",\"2021-08-16T00:00:00-04:00\",\"2021-08-17T00:00:00-04:00\",\"2021-08-18T00:00:00-04:00\",\"2021-08-19T00:00:00-04:00\",\"2021-08-20T00:00:00-04:00\",\"2021-08-23T00:00:00-04:00\",\"2021-08-24T00:00:00-04:00\",\"2021-08-25T00:00:00-04:00\",\"2021-08-26T00:00:00-04:00\",\"2021-08-27T00:00:00-04:00\",\"2021-08-30T00:00:00-04:00\",\"2021-08-31T00:00:00-04:00\",\"2021-09-01T00:00:00-04:00\",\"2021-09-02T00:00:00-04:00\",\"2021-09-03T00:00:00-04:00\",\"2021-09-07T00:00:00-04:00\",\"2021-09-08T00:00:00-04:00\",\"2021-09-09T00:00:00-04:00\",\"2021-09-10T00:00:00-04:00\",\"2021-09-13T00:00:00-04:00\",\"2021-09-14T00:00:00-04:00\",\"2021-09-15T00:00:00-04:00\",\"2021-09-16T00:00:00-04:00\",\"2021-09-17T00:00:00-04:00\",\"2021-09-20T00:00:00-04:00\",\"2021-09-21T00:00:00-04:00\",\"2021-09-22T00:00:00-04:00\",\"2021-09-23T00:00:00-04:00\",\"2021-09-24T00:00:00-04:00\",\"2021-09-27T00:00:00-04:00\",\"2021-09-28T00:00:00-04:00\",\"2021-09-29T00:00:00-04:00\",\"2021-09-30T00:00:00-04:00\",\"2021-10-01T00:00:00-04:00\",\"2021-10-04T00:00:00-04:00\",\"2021-10-05T00:00:00-04:00\",\"2021-10-06T00:00:00-04:00\",\"2021-10-07T00:00:00-04:00\",\"2021-10-08T00:00:00-04:00\",\"2021-10-11T00:00:00-04:00\",\"2021-10-12T00:00:00-04:00\",\"2021-10-13T00:00:00-04:00\",\"2021-10-14T00:00:00-04:00\",\"2021-10-15T00:00:00-04:00\",\"2021-10-18T00:00:00-04:00\",\"2021-10-19T00:00:00-04:00\",\"2021-10-20T00:00:00-04:00\",\"2021-10-21T00:00:00-04:00\",\"2021-10-22T00:00:00-04:00\",\"2021-10-25T00:00:00-04:00\",\"2021-10-26T00:00:00-04:00\",\"2021-10-27T00:00:00-04:00\",\"2021-10-28T00:00:00-04:00\",\"2021-10-29T00:00:00-04:00\",\"2021-11-01T00:00:00-04:00\",\"2021-11-02T00:00:00-04:00\",\"2021-11-03T00:00:00-04:00\",\"2021-11-04T00:00:00-04:00\",\"2021-11-05T00:00:00-04:00\",\"2021-11-08T00:00:00-05:00\",\"2021-11-09T00:00:00-05:00\",\"2021-11-10T00:00:00-05:00\",\"2021-11-11T00:00:00-05:00\",\"2021-11-12T00:00:00-05:00\",\"2021-11-15T00:00:00-05:00\",\"2021-11-16T00:00:00-05:00\",\"2021-11-17T00:00:00-05:00\",\"2021-11-18T00:00:00-05:00\",\"2021-11-19T00:00:00-05:00\",\"2021-11-22T00:00:00-05:00\",\"2021-11-23T00:00:00-05:00\",\"2021-11-24T00:00:00-05:00\",\"2021-11-26T00:00:00-05:00\",\"2021-11-29T00:00:00-05:00\",\"2021-11-30T00:00:00-05:00\",\"2021-12-01T00:00:00-05:00\",\"2021-12-02T00:00:00-05:00\",\"2021-12-03T00:00:00-05:00\",\"2021-12-06T00:00:00-05:00\",\"2021-12-07T00:00:00-05:00\",\"2021-12-08T00:00:00-05:00\",\"2021-12-09T00:00:00-05:00\",\"2021-12-10T00:00:00-05:00\",\"2021-12-13T00:00:00-05:00\",\"2021-12-14T00:00:00-05:00\",\"2021-12-15T00:00:00-05:00\",\"2021-12-16T00:00:00-05:00\",\"2021-12-17T00:00:00-05:00\",\"2021-12-20T00:00:00-05:00\",\"2021-12-21T00:00:00-05:00\",\"2021-12-22T00:00:00-05:00\",\"2021-12-23T00:00:00-05:00\",\"2021-12-27T00:00:00-05:00\",\"2021-12-28T00:00:00-05:00\",\"2021-12-29T00:00:00-05:00\",\"2021-12-30T00:00:00-05:00\",\"2021-12-31T00:00:00-05:00\",\"2022-01-03T00:00:00-05:00\",\"2022-01-04T00:00:00-05:00\",\"2022-01-05T00:00:00-05:00\",\"2022-01-06T00:00:00-05:00\",\"2022-01-07T00:00:00-05:00\",\"2022-01-10T00:00:00-05:00\",\"2022-01-11T00:00:00-05:00\",\"2022-01-12T00:00:00-05:00\",\"2022-01-13T00:00:00-05:00\",\"2022-01-14T00:00:00-05:00\",\"2022-01-18T00:00:00-05:00\",\"2022-01-19T00:00:00-05:00\",\"2022-01-20T00:00:00-05:00\",\"2022-01-21T00:00:00-05:00\",\"2022-01-24T00:00:00-05:00\",\"2022-01-25T00:00:00-05:00\",\"2022-01-26T00:00:00-05:00\",\"2022-01-27T00:00:00-05:00\",\"2022-01-28T00:00:00-05:00\",\"2022-01-31T00:00:00-05:00\",\"2022-02-01T00:00:00-05:00\",\"2022-02-02T00:00:00-05:00\",\"2022-02-03T00:00:00-05:00\",\"2022-02-04T00:00:00-05:00\",\"2022-02-07T00:00:00-05:00\",\"2022-02-08T00:00:00-05:00\",\"2022-02-09T00:00:00-05:00\",\"2022-02-10T00:00:00-05:00\",\"2022-02-11T00:00:00-05:00\",\"2022-02-14T00:00:00-05:00\",\"2022-02-15T00:00:00-05:00\",\"2022-02-16T00:00:00-05:00\",\"2022-02-17T00:00:00-05:00\",\"2022-02-18T00:00:00-05:00\",\"2022-02-22T00:00:00-05:00\",\"2022-02-23T00:00:00-05:00\",\"2022-02-24T00:00:00-05:00\",\"2022-02-25T00:00:00-05:00\",\"2022-02-28T00:00:00-05:00\",\"2022-03-01T00:00:00-05:00\",\"2022-03-02T00:00:00-05:00\",\"2022-03-03T00:00:00-05:00\",\"2022-03-04T00:00:00-05:00\",\"2022-03-07T00:00:00-05:00\",\"2022-03-08T00:00:00-05:00\",\"2022-03-09T00:00:00-05:00\",\"2022-03-10T00:00:00-05:00\",\"2022-03-11T00:00:00-05:00\",\"2022-03-14T00:00:00-04:00\",\"2022-03-15T00:00:00-04:00\",\"2022-03-16T00:00:00-04:00\",\"2022-03-17T00:00:00-04:00\",\"2022-03-18T00:00:00-04:00\",\"2022-03-21T00:00:00-04:00\",\"2022-03-22T00:00:00-04:00\",\"2022-03-23T00:00:00-04:00\",\"2022-03-24T00:00:00-04:00\",\"2022-03-25T00:00:00-04:00\",\"2022-03-28T00:00:00-04:00\",\"2022-03-29T00:00:00-04:00\",\"2022-03-30T00:00:00-04:00\",\"2022-03-31T00:00:00-04:00\",\"2022-04-01T00:00:00-04:00\",\"2022-04-04T00:00:00-04:00\",\"2022-04-05T00:00:00-04:00\",\"2022-04-06T00:00:00-04:00\",\"2022-04-07T00:00:00-04:00\",\"2022-04-08T00:00:00-04:00\",\"2022-04-11T00:00:00-04:00\",\"2022-04-12T00:00:00-04:00\",\"2022-04-13T00:00:00-04:00\",\"2022-04-14T00:00:00-04:00\",\"2022-04-18T00:00:00-04:00\",\"2022-04-19T00:00:00-04:00\",\"2022-04-20T00:00:00-04:00\",\"2022-04-21T00:00:00-04:00\",\"2022-04-22T00:00:00-04:00\",\"2022-04-25T00:00:00-04:00\",\"2022-04-26T00:00:00-04:00\",\"2022-04-27T00:00:00-04:00\",\"2022-04-28T00:00:00-04:00\",\"2022-04-29T00:00:00-04:00\",\"2022-05-02T00:00:00-04:00\",\"2022-05-03T00:00:00-04:00\",\"2022-05-04T00:00:00-04:00\",\"2022-05-05T00:00:00-04:00\",\"2022-05-06T00:00:00-04:00\",\"2022-05-09T00:00:00-04:00\",\"2022-05-10T00:00:00-04:00\",\"2022-05-11T00:00:00-04:00\",\"2022-05-12T00:00:00-04:00\",\"2022-05-13T00:00:00-04:00\",\"2022-05-16T00:00:00-04:00\",\"2022-05-17T00:00:00-04:00\",\"2022-05-18T00:00:00-04:00\",\"2022-05-19T00:00:00-04:00\",\"2022-05-20T00:00:00-04:00\",\"2022-05-23T00:00:00-04:00\",\"2022-05-24T00:00:00-04:00\",\"2022-05-25T00:00:00-04:00\",\"2022-05-26T00:00:00-04:00\",\"2022-05-27T00:00:00-04:00\",\"2022-05-31T00:00:00-04:00\",\"2022-06-01T00:00:00-04:00\",\"2022-06-02T00:00:00-04:00\",\"2022-06-03T00:00:00-04:00\",\"2022-06-06T00:00:00-04:00\",\"2022-06-07T00:00:00-04:00\",\"2022-06-08T00:00:00-04:00\",\"2022-06-09T00:00:00-04:00\",\"2022-06-10T00:00:00-04:00\",\"2022-06-13T00:00:00-04:00\",\"2022-06-14T00:00:00-04:00\",\"2022-06-15T00:00:00-04:00\",\"2022-06-16T00:00:00-04:00\",\"2022-06-17T00:00:00-04:00\",\"2022-06-21T00:00:00-04:00\",\"2022-06-22T00:00:00-04:00\",\"2022-06-23T00:00:00-04:00\",\"2022-06-24T00:00:00-04:00\",\"2022-06-27T00:00:00-04:00\",\"2022-06-28T00:00:00-04:00\",\"2022-06-29T00:00:00-04:00\",\"2022-06-30T00:00:00-04:00\",\"2022-07-01T00:00:00-04:00\",\"2022-07-05T00:00:00-04:00\",\"2022-07-06T00:00:00-04:00\",\"2022-07-07T00:00:00-04:00\",\"2022-07-08T00:00:00-04:00\",\"2022-07-11T00:00:00-04:00\",\"2022-07-12T00:00:00-04:00\",\"2022-07-13T00:00:00-04:00\",\"2022-07-14T00:00:00-04:00\",\"2022-07-15T00:00:00-04:00\",\"2022-07-18T00:00:00-04:00\",\"2022-07-19T00:00:00-04:00\",\"2022-07-20T00:00:00-04:00\",\"2022-07-21T00:00:00-04:00\",\"2022-07-22T00:00:00-04:00\",\"2022-07-25T00:00:00-04:00\",\"2022-07-26T00:00:00-04:00\",\"2022-07-27T00:00:00-04:00\",\"2022-07-28T00:00:00-04:00\",\"2022-07-29T00:00:00-04:00\",\"2022-08-01T00:00:00-04:00\",\"2022-08-02T00:00:00-04:00\",\"2022-08-03T00:00:00-04:00\",\"2022-08-04T00:00:00-04:00\",\"2022-08-05T00:00:00-04:00\",\"2022-08-08T00:00:00-04:00\",\"2022-08-09T00:00:00-04:00\",\"2022-08-10T00:00:00-04:00\",\"2022-08-11T00:00:00-04:00\",\"2022-08-12T00:00:00-04:00\",\"2022-08-15T00:00:00-04:00\",\"2022-08-16T00:00:00-04:00\",\"2022-08-17T00:00:00-04:00\",\"2022-08-18T00:00:00-04:00\",\"2022-08-19T00:00:00-04:00\",\"2022-08-22T00:00:00-04:00\",\"2022-08-23T00:00:00-04:00\",\"2022-08-24T00:00:00-04:00\",\"2022-08-25T00:00:00-04:00\",\"2022-08-26T00:00:00-04:00\",\"2022-08-29T00:00:00-04:00\",\"2022-08-30T00:00:00-04:00\",\"2022-08-31T00:00:00-04:00\",\"2022-09-01T00:00:00-04:00\",\"2022-09-02T00:00:00-04:00\",\"2022-09-06T00:00:00-04:00\",\"2022-09-07T00:00:00-04:00\",\"2022-09-08T00:00:00-04:00\",\"2022-09-09T00:00:00-04:00\",\"2022-09-12T00:00:00-04:00\",\"2022-09-13T00:00:00-04:00\",\"2022-09-14T00:00:00-04:00\",\"2022-09-15T00:00:00-04:00\",\"2022-09-16T00:00:00-04:00\",\"2022-09-19T00:00:00-04:00\",\"2022-09-20T00:00:00-04:00\",\"2022-09-21T00:00:00-04:00\",\"2022-09-22T00:00:00-04:00\",\"2022-09-23T00:00:00-04:00\",\"2022-09-26T00:00:00-04:00\",\"2022-09-27T00:00:00-04:00\",\"2022-09-28T00:00:00-04:00\",\"2022-09-29T00:00:00-04:00\",\"2022-09-30T00:00:00-04:00\",\"2022-10-03T00:00:00-04:00\",\"2022-10-04T00:00:00-04:00\",\"2022-10-05T00:00:00-04:00\",\"2022-10-06T00:00:00-04:00\",\"2022-10-07T00:00:00-04:00\",\"2022-10-10T00:00:00-04:00\",\"2022-10-11T00:00:00-04:00\",\"2022-10-12T00:00:00-04:00\",\"2022-10-13T00:00:00-04:00\",\"2022-10-14T00:00:00-04:00\",\"2022-10-17T00:00:00-04:00\",\"2022-10-18T00:00:00-04:00\",\"2022-10-19T00:00:00-04:00\",\"2022-10-20T00:00:00-04:00\",\"2022-10-21T00:00:00-04:00\",\"2022-10-24T00:00:00-04:00\",\"2022-10-25T00:00:00-04:00\",\"2022-10-26T00:00:00-04:00\",\"2022-10-27T00:00:00-04:00\",\"2022-10-28T00:00:00-04:00\",\"2022-10-31T00:00:00-04:00\",\"2022-11-01T00:00:00-04:00\",\"2022-11-02T00:00:00-04:00\",\"2022-11-03T00:00:00-04:00\",\"2022-11-04T00:00:00-04:00\",\"2022-11-07T00:00:00-05:00\",\"2022-11-08T00:00:00-05:00\",\"2022-11-09T00:00:00-05:00\",\"2022-11-10T00:00:00-05:00\",\"2022-11-11T00:00:00-05:00\",\"2022-11-14T00:00:00-05:00\",\"2022-11-15T00:00:00-05:00\",\"2022-11-16T00:00:00-05:00\",\"2022-11-17T00:00:00-05:00\",\"2022-11-18T00:00:00-05:00\",\"2022-11-21T00:00:00-05:00\",\"2022-11-22T00:00:00-05:00\",\"2022-11-23T00:00:00-05:00\",\"2022-11-25T00:00:00-05:00\",\"2022-11-28T00:00:00-05:00\",\"2022-11-29T00:00:00-05:00\",\"2022-11-30T00:00:00-05:00\",\"2022-12-01T00:00:00-05:00\",\"2022-12-02T00:00:00-05:00\",\"2022-12-05T00:00:00-05:00\",\"2022-12-06T00:00:00-05:00\",\"2022-12-07T00:00:00-05:00\"],\"type\":\"candlestick\"}],                        {\"template\":{\"data\":{\"bar\":[{\"error_x\":{\"color\":\"#2a3f5f\"},\"error_y\":{\"color\":\"#2a3f5f\"},\"marker\":{\"line\":{\"color\":\"#E5ECF6\",\"width\":0.5},\"pattern\":{\"fillmode\":\"overlay\",\"size\":10,\"solidity\":0.2}},\"type\":\"bar\"}],\"barpolar\":[{\"marker\":{\"line\":{\"color\":\"#E5ECF6\",\"width\":0.5},\"pattern\":{\"fillmode\":\"overlay\",\"size\":10,\"solidity\":0.2}},\"type\":\"barpolar\"}],\"carpet\":[{\"aaxis\":{\"endlinecolor\":\"#2a3f5f\",\"gridcolor\":\"white\",\"linecolor\":\"white\",\"minorgridcolor\":\"white\",\"startlinecolor\":\"#2a3f5f\"},\"baxis\":{\"endlinecolor\":\"#2a3f5f\",\"gridcolor\":\"white\",\"linecolor\":\"white\",\"minorgridcolor\":\"white\",\"startlinecolor\":\"#2a3f5f\"},\"type\":\"carpet\"}],\"choropleth\":[{\"colorbar\":{\"outlinewidth\":0,\"ticks\":\"\"},\"type\":\"choropleth\"}],\"contour\":[{\"colorbar\":{\"outlinewidth\":0,\"ticks\":\"\"},\"colorscale\":[[0.0,\"#0d0887\"],[0.1111111111111111,\"#46039f\"],[0.2222222222222222,\"#7201a8\"],[0.3333333333333333,\"#9c179e\"],[0.4444444444444444,\"#bd3786\"],[0.5555555555555556,\"#d8576b\"],[0.6666666666666666,\"#ed7953\"],[0.7777777777777778,\"#fb9f3a\"],[0.8888888888888888,\"#fdca26\"],[1.0,\"#f0f921\"]],\"type\":\"contour\"}],\"contourcarpet\":[{\"colorbar\":{\"outlinewidth\":0,\"ticks\":\"\"},\"type\":\"contourcarpet\"}],\"heatmap\":[{\"colorbar\":{\"outlinewidth\":0,\"ticks\":\"\"},\"colorscale\":[[0.0,\"#0d0887\"],[0.1111111111111111,\"#46039f\"],[0.2222222222222222,\"#7201a8\"],[0.3333333333333333,\"#9c179e\"],[0.4444444444444444,\"#bd3786\"],[0.5555555555555556,\"#d8576b\"],[0.6666666666666666,\"#ed7953\"],[0.7777777777777778,\"#fb9f3a\"],[0.8888888888888888,\"#fdca26\"],[1.0,\"#f0f921\"]],\"type\":\"heatmap\"}],\"heatmapgl\":[{\"colorbar\":{\"outlinewidth\":0,\"ticks\":\"\"},\"colorscale\":[[0.0,\"#0d0887\"],[0.1111111111111111,\"#46039f\"],[0.2222222222222222,\"#7201a8\"],[0.3333333333333333,\"#9c179e\"],[0.4444444444444444,\"#bd3786\"],[0.5555555555555556,\"#d8576b\"],[0.6666666666666666,\"#ed7953\"],[0.7777777777777778,\"#fb9f3a\"],[0.8888888888888888,\"#fdca26\"],[1.0,\"#f0f921\"]],\"type\":\"heatmapgl\"}],\"histogram\":[{\"marker\":{\"pattern\":{\"fillmode\":\"overlay\",\"size\":10,\"solidity\":0.2}},\"type\":\"histogram\"}],\"histogram2d\":[{\"colorbar\":{\"outlinewidth\":0,\"ticks\":\"\"},\"colorscale\":[[0.0,\"#0d0887\"],[0.1111111111111111,\"#46039f\"],[0.2222222222222222,\"#7201a8\"],[0.3333333333333333,\"#9c179e\"],[0.4444444444444444,\"#bd3786\"],[0.5555555555555556,\"#d8576b\"],[0.6666666666666666,\"#ed7953\"],[0.7777777777777778,\"#fb9f3a\"],[0.8888888888888888,\"#fdca26\"],[1.0,\"#f0f921\"]],\"type\":\"histogram2d\"}],\"histogram2dcontour\":[{\"colorbar\":{\"outlinewidth\":0,\"ticks\":\"\"},\"colorscale\":[[0.0,\"#0d0887\"],[0.1111111111111111,\"#46039f\"],[0.2222222222222222,\"#7201a8\"],[0.3333333333333333,\"#9c179e\"],[0.4444444444444444,\"#bd3786\"],[0.5555555555555556,\"#d8576b\"],[0.6666666666666666,\"#ed7953\"],[0.7777777777777778,\"#fb9f3a\"],[0.8888888888888888,\"#fdca26\"],[1.0,\"#f0f921\"]],\"type\":\"histogram2dcontour\"}],\"mesh3d\":[{\"colorbar\":{\"outlinewidth\":0,\"ticks\":\"\"},\"type\":\"mesh3d\"}],\"parcoords\":[{\"line\":{\"colorbar\":{\"outlinewidth\":0,\"ticks\":\"\"}},\"type\":\"parcoords\"}],\"pie\":[{\"automargin\":true,\"type\":\"pie\"}],\"scatter\":[{\"marker\":{\"colorbar\":{\"outlinewidth\":0,\"ticks\":\"\"}},\"type\":\"scatter\"}],\"scatter3d\":[{\"line\":{\"colorbar\":{\"outlinewidth\":0,\"ticks\":\"\"}},\"marker\":{\"colorbar\":{\"outlinewidth\":0,\"ticks\":\"\"}},\"type\":\"scatter3d\"}],\"scattercarpet\":[{\"marker\":{\"colorbar\":{\"outlinewidth\":0,\"ticks\":\"\"}},\"type\":\"scattercarpet\"}],\"scattergeo\":[{\"marker\":{\"colorbar\":{\"outlinewidth\":0,\"ticks\":\"\"}},\"type\":\"scattergeo\"}],\"scattergl\":[{\"marker\":{\"colorbar\":{\"outlinewidth\":0,\"ticks\":\"\"}},\"type\":\"scattergl\"}],\"scattermapbox\":[{\"marker\":{\"colorbar\":{\"outlinewidth\":0,\"ticks\":\"\"}},\"type\":\"scattermapbox\"}],\"scatterpolar\":[{\"marker\":{\"colorbar\":{\"outlinewidth\":0,\"ticks\":\"\"}},\"type\":\"scatterpolar\"}],\"scatterpolargl\":[{\"marker\":{\"colorbar\":{\"outlinewidth\":0,\"ticks\":\"\"}},\"type\":\"scatterpolargl\"}],\"scatterternary\":[{\"marker\":{\"colorbar\":{\"outlinewidth\":0,\"ticks\":\"\"}},\"type\":\"scatterternary\"}],\"surface\":[{\"colorbar\":{\"outlinewidth\":0,\"ticks\":\"\"},\"colorscale\":[[0.0,\"#0d0887\"],[0.1111111111111111,\"#46039f\"],[0.2222222222222222,\"#7201a8\"],[0.3333333333333333,\"#9c179e\"],[0.4444444444444444,\"#bd3786\"],[0.5555555555555556,\"#d8576b\"],[0.6666666666666666,\"#ed7953\"],[0.7777777777777778,\"#fb9f3a\"],[0.8888888888888888,\"#fdca26\"],[1.0,\"#f0f921\"]],\"type\":\"surface\"}],\"table\":[{\"cells\":{\"fill\":{\"color\":\"#EBF0F8\"},\"line\":{\"color\":\"white\"}},\"header\":{\"fill\":{\"color\":\"#C8D4E3\"},\"line\":{\"color\":\"white\"}},\"type\":\"table\"}]},\"layout\":{\"annotationdefaults\":{\"arrowcolor\":\"#2a3f5f\",\"arrowhead\":0,\"arrowwidth\":1},\"autotypenumbers\":\"strict\",\"coloraxis\":{\"colorbar\":{\"outlinewidth\":0,\"ticks\":\"\"}},\"colorscale\":{\"diverging\":[[0,\"#8e0152\"],[0.1,\"#c51b7d\"],[0.2,\"#de77ae\"],[0.3,\"#f1b6da\"],[0.4,\"#fde0ef\"],[0.5,\"#f7f7f7\"],[0.6,\"#e6f5d0\"],[0.7,\"#b8e186\"],[0.8,\"#7fbc41\"],[0.9,\"#4d9221\"],[1,\"#276419\"]],\"sequential\":[[0.0,\"#0d0887\"],[0.1111111111111111,\"#46039f\"],[0.2222222222222222,\"#7201a8\"],[0.3333333333333333,\"#9c179e\"],[0.4444444444444444,\"#bd3786\"],[0.5555555555555556,\"#d8576b\"],[0.6666666666666666,\"#ed7953\"],[0.7777777777777778,\"#fb9f3a\"],[0.8888888888888888,\"#fdca26\"],[1.0,\"#f0f921\"]],\"sequentialminus\":[[0.0,\"#0d0887\"],[0.1111111111111111,\"#46039f\"],[0.2222222222222222,\"#7201a8\"],[0.3333333333333333,\"#9c179e\"],[0.4444444444444444,\"#bd3786\"],[0.5555555555555556,\"#d8576b\"],[0.6666666666666666,\"#ed7953\"],[0.7777777777777778,\"#fb9f3a\"],[0.8888888888888888,\"#fdca26\"],[1.0,\"#f0f921\"]]},\"colorway\":[\"#636efa\",\"#EF553B\",\"#00cc96\",\"#ab63fa\",\"#FFA15A\",\"#19d3f3\",\"#FF6692\",\"#B6E880\",\"#FF97FF\",\"#FECB52\"],\"font\":{\"color\":\"#2a3f5f\"},\"geo\":{\"bgcolor\":\"white\",\"lakecolor\":\"white\",\"landcolor\":\"#E5ECF6\",\"showlakes\":true,\"showland\":true,\"subunitcolor\":\"white\"},\"hoverlabel\":{\"align\":\"left\"},\"hovermode\":\"closest\",\"mapbox\":{\"style\":\"light\"},\"paper_bgcolor\":\"white\",\"plot_bgcolor\":\"#E5ECF6\",\"polar\":{\"angularaxis\":{\"gridcolor\":\"white\",\"linecolor\":\"white\",\"ticks\":\"\"},\"bgcolor\":\"#E5ECF6\",\"radialaxis\":{\"gridcolor\":\"white\",\"linecolor\":\"white\",\"ticks\":\"\"}},\"scene\":{\"xaxis\":{\"backgroundcolor\":\"#E5ECF6\",\"gridcolor\":\"white\",\"gridwidth\":2,\"linecolor\":\"white\",\"showbackground\":true,\"ticks\":\"\",\"zerolinecolor\":\"white\"},\"yaxis\":{\"backgroundcolor\":\"#E5ECF6\",\"gridcolor\":\"white\",\"gridwidth\":2,\"linecolor\":\"white\",\"showbackground\":true,\"ticks\":\"\",\"zerolinecolor\":\"white\"},\"zaxis\":{\"backgroundcolor\":\"#E5ECF6\",\"gridcolor\":\"white\",\"gridwidth\":2,\"linecolor\":\"white\",\"showbackground\":true,\"ticks\":\"\",\"zerolinecolor\":\"white\"}},\"shapedefaults\":{\"line\":{\"color\":\"#2a3f5f\"}},\"ternary\":{\"aaxis\":{\"gridcolor\":\"white\",\"linecolor\":\"white\",\"ticks\":\"\"},\"baxis\":{\"gridcolor\":\"white\",\"linecolor\":\"white\",\"ticks\":\"\"},\"bgcolor\":\"#E5ECF6\",\"caxis\":{\"gridcolor\":\"white\",\"linecolor\":\"white\",\"ticks\":\"\"}},\"title\":{\"x\":0.05},\"xaxis\":{\"automargin\":true,\"gridcolor\":\"white\",\"linecolor\":\"white\",\"ticks\":\"\",\"title\":{\"standoff\":15},\"zerolinecolor\":\"white\",\"zerolinewidth\":2},\"yaxis\":{\"automargin\":true,\"gridcolor\":\"white\",\"linecolor\":\"white\",\"ticks\":\"\",\"title\":{\"standoff\":15},\"zerolinecolor\":\"white\",\"zerolinewidth\":2}}},\"margin\":{\"l\":20,\"r\":20,\"t\":60,\"b\":20},\"height\":350,\"paper_bgcolor\":\"LightSteelBlue\",\"title\":{\"text\":\"NVDA\"}},                        {\"responsive\": true}                    ).then(function(){\n",
              "                            \n",
              "var gd = document.getElementById('b0971171-c0cd-4b84-8163-7f3e14c35e72');\n",
              "var x = new MutationObserver(function (mutations, observer) {{\n",
              "        var display = window.getComputedStyle(gd).display;\n",
              "        if (!display || display === 'none') {{\n",
              "            console.log([gd, 'removed!']);\n",
              "            Plotly.purge(gd);\n",
              "            observer.disconnect();\n",
              "        }}\n",
              "}});\n",
              "\n",
              "// Listen for the removal of the full notebook cells\n",
              "var notebookContainer = gd.closest('#notebook-container');\n",
              "if (notebookContainer) {{\n",
              "    x.observe(notebookContainer, {childList: true});\n",
              "}}\n",
              "\n",
              "// Listen for the clearing of the current output cell\n",
              "var outputEl = gd.closest('.output');\n",
              "if (outputEl) {{\n",
              "    x.observe(outputEl, {childList: true});\n",
              "}}\n",
              "\n",
              "                        })                };                            </script>        </div>\n",
              "</body>\n",
              "</html>"
            ]
          },
          "metadata": {},
          "output_type": "display_data"
        },
        {
          "data": {
            "text/html": [
              "<html>\n",
              "<head><meta charset=\"utf-8\" /></head>\n",
              "<body>\n",
              "    <div>            <script src=\"https://cdnjs.cloudflare.com/ajax/libs/mathjax/2.7.5/MathJax.js?config=TeX-AMS-MML_SVG\"></script><script type=\"text/javascript\">if (window.MathJax) {MathJax.Hub.Config({SVG: {font: \"STIX-Web\"}});}</script>                <script type=\"text/javascript\">window.PlotlyConfig = {MathJaxConfig: 'local'};</script>\n",
              "        <script src=\"https://cdn.plot.ly/plotly-2.8.3.min.js\"></script>                <div id=\"d3d08821-3f80-47b7-bbd0-dc32cdd57bb0\" class=\"plotly-graph-div\" style=\"height:350px; width:100%;\"></div>            <script type=\"text/javascript\">                                    window.PLOTLYENV=window.PLOTLYENV || {};                                    if (document.getElementById(\"d3d08821-3f80-47b7-bbd0-dc32cdd57bb0\")) {                    Plotly.newPlot(                        \"d3d08821-3f80-47b7-bbd0-dc32cdd57bb0\",                        [{\"close\":[147.1495361328125,146.92593383789062,147.48007202148438,148.97723388671875,150.23135375976562,151.20355224609375,150.3868865966797,150.07579040527344,151.37852478027344,153.03123474121094,153.03123474121094,153.0020751953125,154.25619506835938,154.5381317138672,153.20623779296875,153.3131561279297,156.1519317626953,154.20758056640625,154.60618591308594,153.19647216796875,155.63671875,157.5810546875,156.85191345214844,158.73793029785156,157.6199493408203,158.64073181152344,161.54757690429688,162.45169067382812,161.86837768554688,161.0906524658203,162.08229064941406,160.44895935058594,157.76577758789062,160.85731506347656,163.3655242919922,167.97369384765625,165.49461364746094,169.5291748046875,175.1094970703125,174.8956298828125,178.52186584472656,178.77464294433594,183.45082092285156,179.309326171875,179.5718231201172,178.59963989257812,180.1940460205078,182.021728515625,182.567626953125,179.7795867919922,174.09628295898438,166.59005737304688,163.8409881591797,165.88818359375,154.1998291015625,157.93348693847656,168.44223022460938,160.3705596923828,166.25860595703125,162.08627319335938,157.5045623779297,146.830078125,156.8708953857422,149.76434326171875,135.56094360351562,154.83351135253906,132.0125274658203,142.88198852539062,136.86721801757812,139.11911010742188,133.8939971923828,132.55845642089844,144.60745239257812,143.22317504882812,152.18194580078125,145.93321228027344,156.19827270507812,153.74169921875,148.28257751464844,151.3533477783203,149.9593048095703,161.1114501953125,159.37623596191406,160.9749755859375,160.98475646972656,161.3454132080078,169.32931518554688,167.55514526367188,172.58526611328125,174.10606384277344,170.6551055908203,163.5972900390625,169.15386962890625,167.10670471191406,170.15792846679688,169.67051696777344,165.53720092773438,172.9654541015625,174.70069885253906,170.17745971679688,174.33999633789062,176.211669921875,177.94686889648438,178.98023986816406,180.03305053710938,182.0412139892578,177.91763305664062,175.2270965576172,175.98745727539062,178.55126953125,180.2572479248047,179.0094757080078,181.49246215820312,179.31251525878906,179.39071655273438,177.4942626953125,177.72886657714844,177.3280792236328,179.1365509033203,178.72596740722656,180.75927734375,181.19918823242188,178.81398010253906,182.9978790283203,184.13185119628906,185.53953552246094,192.4215087890625,182.08876037597656,183.5257568359375,184.69883728027344,189.22491455078125,189.8798828125,191.91319274902344,190.76943969726562,196.0677947998047,197.37771606445312,193.39906311035156,195.8429412841797,191.92295837402344,193.98558044433594,198.9417724609375,200.10507202148438,201.63003540039062,205.9703369140625,203.5753631591797,208.0525665283203,209.50912475585938,208.8737030029297,202.42189025878906,203.6731414794922,203.3700714111328,199.3425750732422,198.32591247558594,206.85020446777344,204.0641632080078,206.99681091308594,197.99354553222656,196.78138732910156,199.274169921875,197.48521423339844,199.47943115234375,199.32302856445312,200.4080810546875,211.67929077148438,208.5022430419922,208.16009521484375,211.49359130859375,207.71043395996094,203.5753631591797,198.814697265625,204.4942626953125,204.0152587890625,204.21078491210938,205.55979919433594,206.74264526367188,205.48834228515625,210.27037048339844,208.74169921875,209.39822387695312,212.1223907470703,216.7084197998047,222.02935791015625,224.31256103515625,221.00042724609375,222.7054901123047,226.99749755859375,212.93572998046875,209.9469757080078,198.58975219726562,207.04641723632812,201.2453155517578,199.93223571777344,201.28453063964844,204.5868377685547,200.9317626953125,198.83474731445312,196.36532592773438,198.47215270996094,203.25416564941406,196.5613250732422,199.10910034179688,203.6461181640625,205.2335968017578,203.0973663330078,206.10569763183594,208.19293212890625,202.0488739013672,206.1547088623047,201.77450561523438,205.61575317382812,206.35067749023438,211.4756622314453,216.953369140625,218.38404846191406,216.4242401123047,215.2483367919922,215.2483367919922,209.9176025390625,210.3389129638672,210.48594665527344,210.57415771484375,211.88719177246094,205.86073303222656,208.96705627441406,198.60934448242188,200.60838317871094,198.40357971191406,198.2664031982422,202.2840118408203,212.04400634765625,218.805419921875,219.22679138183594,214.0038299560547,206.77206420898438,212.20079040527344,211.1130828857422,212.1615753173828,212.8671112060547,210.15277099609375,207.38217163085938,208.6986846923828,206.7042694091797,206.42916870117188,210.1134490966797,210.12327575683594,211.4594268798828,210.31979370117188,212.4223175048828,211.5970001220703,210.48680114746094,210.60467529296875,210.53590393066406,212.22581481933594,208.0895538330078,206.8319854736328,209.5239715576172,210.447509765625,210.37875366210938,215.43850708007812,215.57608032226562,214.76060485839844,218.69053649902344,220.01686096191406,217.14801025390625,218.8477325439453,221.01901245117188,220.2231903076172,217.7964630126953,218.5235137939453,213.87635803222656,214.08267211914062,208.5316619873047,214.46583557128906,215.7725372314453,213.6798858642578,211.16473388671875,212.55001831054688,209.28819274902344,208.92466735839844,212.6482696533203,220.4098663330078,221.02882385253906,221.9916534423828,225.50894165039062,228.2598876953125,228.81991577148438,234.74424743652344,227.89639282226562,235.45166015625,235.31410217285156,238.7429656982422,237.7703094482422,237.95700073242188,238.22225952148438,239.4994659423828,238.56613159179688,240.20689392089844,240.69810485839844,239.4307098388672,240.4745330810547,240.07077026367188,237.29379272460938,230.93235778808594,229.71128845214844,230.9717559814453,225.49658203125,228.83485412597656,233.32530212402344,230.30209350585938,224.08839416503906,223.2710418701172,228.06675720214844,223.92098999023438,230.2135009765625,228.87423706054688,233.5124053955078,232.15342712402344,231.22776794433594,234.0835418701172,233.4237518310547,227.20018005371094,226.83584594726562,232.38978576660156,233.9555206298828,231.8678741455078,228.79547119140625,232.872314453125,231.65122985839844,228.31292724609375,232.1731414794922,238.65277099609375,245.27023315429688,244.0786895751953,246.0875701904297,249.386474609375,251.94680786132812,252.00588989257812,254.54653930664062,251.69076538085938,255.54110717773438,256.7621765136719,254.792724609375,254.32005310058594,256.6046142578125,253.24667358398438,257.1659240722656,257.5598449707031,257.97344970703125,250.6764678955078,248.65774536132812,248.33277893066406,248.01768493652344,244.00975036621094,242.7099151611328,245.92015075683594,248.60853576660156,243.40908813476562,242.47354125976562,235.35386657714844,239.3223876953125,244.3642578125,241.4395751953125,239.3716278076172,239.96380615234375,243.28021240234375,241.9872283935547,247.52439880371094,248.4521942138672,248.2251739501953,246.07347106933594,246.4386749267578,244.1882781982422,244.08956909179688,242.52020263671875,247.53424072265625,250.5150604248047,249.29116821289062,250.29791259765625,253.90052795410156,254.54209899902344,256.51611328125,255.00596618652344,254.0386962890625,257.5130310058594,256.0621032714844,259.2205505371094,262.06317138671875,261.8262634277344,263.2278747558594,261.5794982910156,265.23150634765625,267.8766784667969,267.3832092285156,268.0741271972656,274.0455627441406,274.055419921875,276.29595947265625,273.8185729980469,274.331787109375,273.7198486328125,277.3323669433594,278.8424987792969,277.3817138671875,277.10528564453125,273.4139099121094,275.69390869140625,277.74688720703125,282.4253845214844,285.9095458984375,285.29754638671875,282.8201599121094,282.5042724609375,282.7807312011719,281.2113342285156,281.12249755859375,283.39263916015625,282.7905578613281,285.76141357421875,285.7022399902344,284.5869140625,282.7214660644531,283.224853515625,286.0476989746094,289.0482482910156,290.7755432128906,289.2752380371094,287.505126953125,293.4781188964844,300.98388671875,301.2707214355469,299.2632141113281,298.6600036621094,295.77239990234375,296.3954162597656,300.22247314453125,298.53143310546875,298.4819641113281,297.8095397949219,297.7996520996094,296.85028076171875,296.8799133300781,293.9527893066406,292.42987060546875,293.6956481933594,296.4646301269531,301.4388427734375,301.8343811035156,296.543701171875,291.0354919433594,291.5299377441406,295.26800537109375,296.2371826171875,296.0295104980469,290.9069519042969,280.37506103515625,280.84979248046875,278.7928466796875,285.8932189941406,279.9696044921875,285.5569763183594,289.8586730957031,291.5794372558594,291.5794372558594,290.9663391113281,289.6312561035156,293.023193359375,299.39178466796875,300.8356018066406,303.8814392089844,304.8110046386719,304.0001220703125,307.3129577636719,305.7306823730469,304.71209716796875,306.67010498046875,319.5852966308594,320.7521667480469,327.9414978027344,325.71649169921875,329.4348449707031,330.2951354980469,332.7080993652344,332.33233642578125,333.251953125,332.2235412597656,327.1306457519531,328.7425537109375,332.9849548339844,332.3421936035156,335.74407958984375,335.9718933105469,338.1019287109375,339.9248352050781,336.6752624511719,334.5452575683594,334.77313232421875,326.6195068359375,333.5050048828125,327.5210876464844,327.01580810546875,326.4313049316406,320.0114440917969,323.16192626953125,331.81085205078125,331.8604431152344,330.0077819824219,339.3601379394531,336.2492980957031,325.2919616699219,331.54339599609375,321.8838806152344,320.7940979003906,316.9402160644531,324.251708984375,330.1068420410156,331.5830078125,339.2709655761719,338.0821228027344,338.775634765625,336.1700134277344,333.1979064941406,331.6424560546875,325.95574951171875,313.4430236816406,310.9661865234375,311.1247253417969,311.3525695800781,312.0559997558594,315.3154296875,301.9704895019531,307.32037353515625,299.8404235839844,300.51409912109375,298.8001708984375,293.2818908691406,293.6187744140625,285.8119201660156,293.9555969238281,297.0565185546875,305.39837646484375,308.0931396484375,305.89373779296875,310.5500793457031,298.45343017578125,303.09991455078125,298.15625,301.7326965332031,308.32098388671875,299.5729675292969,292.30108642578125,292.261474609375,297.6806640625,297.33319091796875,288.6266784667969,285.8468933105469,285.6384582519531,278.2423400878906,292.4587097167969,295.1590881347656,296.62835693359375,292.816162109375,298.01824951171875,293.7791442871094,287.762939453125,276.8921813964844,273.85430908203125,286.4128112792969,283.5238342285156,278.0437927246094,274.4400634765625,285.07257080078125,292.26019287109375,293.0841979980469,298.2564697265625,296.9956970214844,301.8602294921875,297.3232727050781,301.89996337890625,301.48297119140625,308.45220947265625,313.1281433105469,311.5893249511719,306.0794677734375,307.18145751953125,312.6912841796875,308.63092041015625,297.33319091796875,299.189697265625,294.821533203125,283.1962890625,280.0194091796875,285.5391845703125,277.8055114746094,278.4905090332031,283.2359619140625,284.2882995605469,278.7784118652344,272.0474853515625,278.6890869140625,268.2650451660156,281.1710205078125,287.5346374511719,275.5122375488281,282.4119567871094,279.7414245605469,287.8821105957031,275.3434753417969,272.742431640625,262.6658630371094,267.55029296875,258.6650085449219,253.5026397705078,259.23089599609375,259.6081237792969,264.8896789550781,252.82933044433594,251.89395141601562,251.31680297851562,259.3669738769531,258.342041015625,261.227783203125,264.59112548828125,271.8949890136719,270.5317687988281,271.07904052734375,273.2283935546875,268.69085693359375,267.4270935058594,271.1586608886719,269.0789489746094,263.48663330078125,251.74468994140625,241.0675048828125,243.28652954101562,250.52073669433594,243.76416015625,246.43096923828125,252.49099731445312,251.88400268554688,257.5857849121094,266.3822937011719,263.58612060546875,255.21751403808594,258.9789123535156,255.56578063964844,258.3022155761719,261.55615234375,264.89959716796875,267.0788269042969,266.34246826171875,263.2079772949219,252.42132568359375,251.47601318359375,252.82933044433594,255.45631408691406,252.99847412109375,258.25250244140625,260.97900390625,263.5363464355469,259.0783996582031,257.555908203125,250.6600341796875,267.4171447753906,275.0494079589844,279.35809326171875,276.64154052734375,273.46722412109375,281.0795593261719,282.2537536621094,281.51739501953125,278.9401550292969,280.910400390625,287.73663330078125,285.6071472167969,290.4731140136719,292.02545166015625,291.2691650390625,290.5013427734375,289.35455322265625,285.3458557128906,276.9694519042969,275.66314697265625,275.0149841308594,278.0663757324219,267.33660888671875,264.4846496582031,262.2309875488281,260.7351989746094,259.668212890625,255.3404083251953,252.53829956054688,257.3647155761719,257.7934875488281,263.716796875,265.900634765625,251.2818603515625,251.51119995117188,244.6904296875,244.05223083496094,243.8328399658203,241.76866149902344,238.2784881591797,240.3027801513672,237.2513885498047,236.78269958496094,235.74563598632812,240.39254760742188,236.8325653076172,232.2454833984375,240.06346130371094,248.1805877685547,248.4996795654297,246.09645080566406,233.5817413330078,228.6057586669922,224.77655029296875,225.11558532714844,233.5817413330078,227.91769409179688,236.86248779296875,237.8297576904297,235.8154296875,235.48635864257812,241.4395751953125,246.55517578125,249.95558166503906,230.66993713378906,226.11277770996094,235.20713806152344,231.4776611328125,227.52879333496094,219.48147583007812,213.6479034423828,220.76783752441406,227.22962951660156,228.22682189941406,223.8790740966797,242.2971649169922,246.41555786132812,240.87118530273438,241.29000854492188,241.72999572753906,241.67999267578125,241.22000122070312,242.0500030517578,245.02999877929688,247.5800018310547,247.49000549316406,241.75999450683594,240.3300018310547,255.13999938964844,254.69000244140625,255.02000427246094,250.1999969482422,245.1199951171875,244.3699951171875],\"high\":[147.97589714852347,147.66478713651338,147.64534125486563,149.17166739668255,150.58134003734725,151.5632550460137,151.37851672422343,151.15491344872748,151.43685334952866,154.08119351056487,153.72147593617044,153.32289717652426,154.31452364470567,155.1117158100214,154.59646649251047,153.3812160140156,156.2588724196723,155.50058504774108,154.67424581037903,155.2283293966042,156.32697496690645,157.7074431569365,158.6796212113017,158.76709458112356,159.04905876511006,159.37959999888886,161.61563680510756,162.811393427465,163.5113683971087,162.83086761205792,162.16006704060018,162.86969860414834,158.83518428975157,161.1489579316666,164.05578032446084,169.20836979599946,167.60424777539745,169.64583194786775,175.6150360948156,179.07601769687733,178.70658288144693,180.46624586887813,183.5869258691953,185.3951827214431,180.68011049662144,181.0495289238057,180.25237460145385,182.47865548538965,183.4449750470188,182.53837957400657,178.8827402321619,170.1579678548424,170.44062903196826,168.9004294967858,162.8271491919549,159.59072331152694,168.568963908572,170.5966134780997,166.40482569133397,166.5705178170831,159.005806158346,153.78067703559265,156.97812813763863,153.7319255658685,149.60836002852002,157.83601398413703,145.5920251761021,143.78858057144095,142.32631552177563,146.37189090317636,143.3986671204049,137.0329737861513,145.83575768241894,150.446727082843,152.71810962299392,150.9926227242078,156.5589728433267,160.63379577147094,153.78066208057012,151.5678133357519,153.4199820726319,162.3104965453759,165.72242463260704,162.47621929881493,163.15864117635877,161.4039159760567,169.37806004829932,169.20262371678717,172.8192325246978,175.47083102301377,174.25225950976628,169.30008235929904,169.62178763674058,170.65511393869542,170.1676714891373,172.44879568940252,171.24975090959097,173.2091635380184,175.86074340719784,174.1450422435936,174.49597396279222,179.0289504817275,179.5651030637555,179.906332874798,180.34500579516734,182.79182837655551,182.33364689051197,179.41890212061253,176.14343488487262,182.35313045862816,181.51478204948452,181.90474525673707,181.67819958267097,182.4797919181652,180.31940368506835,182.31359066680156,177.90483383206114,180.01634953384718,180.1336589375648,178.89214958136603,180.84725350879523,181.76617064833886,181.66843286717878,183.51598081293594,184.31758862012947,186.41932712858238,194.06380541353863,191.3657267050794,187.41641256582136,186.5366414056565,191.18979043243849,191.91319465743993,192.07937495229683,194.81650804782467,196.25351732349074,199.3719174824152,198.6876279053517,196.10688473952877,195.40304423393982,194.07355661662376,199.8117938890982,201.7180432270266,203.35053787687178,206.39069230296613,209.85125011583904,208.47290707718562,211.522881151674,209.2745032270296,210.95592307191743,204.1619179026095,206.5862283728558,201.08261795024484,200.4374151407827,207.53448853060036,209.13766502957947,207.53446795066012,206.18544309974274,198.30636735471614,199.39147149978163,200.1050484900436,200.05618375095432,199.87047071323673,200.49607213730098,212.7546048892271,209.9490320151731,210.17385159233424,211.51313162830218,210.85815546011327,207.1238844666858,202.98883706648633,205.55979161570139,206.60578256247956,204.88529876690953,206.44937581187077,207.59311141915,207.8401491996221,210.68193339621828,211.90682354094014,211.19147170668955,212.2595783715351,217.62954324229707,226.5075660297697,226.00781142184084,224.10675879177796,222.88186779665773,228.18320229985824,224.70451466274693,213.97443054255334,205.81172731603434,210.52512155929676,210.42713733522066,204.43985474484666,204.99840535911704,205.56675365592292,206.419282884349,200.2262261573563,199.5598460425467,198.6387515650541,203.92051627421492,203.92050298736729,201.4413048072333,204.84160173928367,208.30073847774395,205.8509426029021,207.72255276502017,209.69220221244933,206.75247349323584,206.18410514269559,205.95873613775885,205.89012842708306,206.94842674524904,211.52466102021182,219.36396877655622,220.68685670650902,219.71675834495264,215.93427495258868,217.82550552054255,217.83532545578854,213.00428504069566,212.56336366088794,211.7206576899628,211.93619055351056,211.9950011525749,210.35853499553744,204.64562992524768,203.19536054287772,200.187018930818,201.1571523658429,203.94007193866358,213.93525185753833,219.61875193244623,219.853936974154,223.53840734956563,212.1518082869523,213.66085552175807,214.70937242738287,213.05330232951212,213.36687784800426,213.30808644550342,211.40051687984655,209.29799891015563,209.5534595864832,208.57097096916917,210.49661619978812,211.5183974365461,212.48121573471215,210.99769325243741,213.51287249660786,211.69525425206783,212.58931055016438,211.60681033676153,211.76400551337272,213.14934979055363,211.45945768225084,209.3471354218834,209.58293303265376,212.42230694492926,211.64614811211945,216.2539683914225,217.02032926890965,215.84134039111595,220.07583890436695,221.6772567291842,219.64350603474108,219.6926671502836,222.07025970656804,223.20010762180235,221.67727641928272,219.0933548117153,219.09333137163256,214.69182072744076,212.6973882173391,215.49744393069042,216.71572587098524,215.07500765838196,213.29673185635238,212.962658691479,213.6504125787378,210.75208339393936,213.178802995703,221.83446131723866,222.33552580766482,226.03948671485824,225.7545619863486,230.07746914896268,236.22783404275808,238.38925961887003,233.8502277254472,238.25173812670073,238.0650529444981,240.79634810156102,238.97877231953782,239.01808248197372,239.41105358664393,240.47211281552305,241.6118148200695,240.85532028117277,241.00267167006916,241.81814739313114,240.58285554519676,240.20863384394562,240.1397026414765,234.30018116144095,231.24748703149183,231.61183370344426,231.01114059101135,231.77922956596478,233.8472153680118,233.6797735185409,230.0165586260845,228.94317791645918,229.71127817316537,229.80975628181332,231.7890977281988,233.38436714004453,235.5212770246843,232.22236642515247,231.60197552397173,236.39768164025355,234.91072514685393,230.61724358508718,228.9234989668848,233.28589155572502,237.3725840860622,234.36911778267108,233.32530066771653,233.09881644781206,233.18742839855213,230.28241546033306,235.45234142960533,239.13528605385972,246.14665484854808,245.5951889793279,247.1018555169082,250.26289636727793,252.08467144734732,253.73904928790827,255.23587232340714,254.88132695838797,255.9645399501716,257.0182196057832,257.49094436366954,256.2304593007617,256.70309468201395,257.7863298214802,257.5204475868437,258.43628177273683,259.1748388816888,252.62627212715182,252.19298835713448,249.21905770409336,250.46970350397038,247.3775886379805,245.6936890200981,246.04817230381602,250.42046154975085,247.88967769158896,242.83790680304887,240.65179524398465,241.85318756494104,245.37854309737352,242.8280681204008,242.65082787713138,240.07237873242428,244.73113018635607,245.10620923794167,247.89947050248475,249.46882163923232,249.6563471055613,248.21529846043757,248.80752743151456,248.02777810359754,246.03399587359155,243.1420137437247,248.38307681581537,250.7914242867059,252.68651287934,252.21273009255202,254.11767314228234,255.13428573103357,256.5753319494149,256.61481041007744,257.19713579918556,258.35200246316276,258.89484045235594,260.0989809223717,262.33953523511644,263.3660091533692,264.3728194327906,263.7805592644091,265.40916237739776,268.12343296614387,267.83722914083603,268.31100190702324,274.3910250949793,275.74321225819773,277.0461028402702,275.1115642919807,274.44034463180776,276.1380247451701,279.17808603989454,279.9775635932575,278.8425115959466,280.4118017557534,276.73027646866586,277.3224825662119,277.8653245595606,282.70174839532297,286.22536879775004,285.9292523772464,285.8206730906656,286.383245687523,284.87320509080956,282.9386159265059,283.0471647471195,283.50122681700867,283.8565241272313,285.8700012071084,285.7417291467339,287.7651135330837,285.494984506821,284.9126460187598,286.2056254773507,289.097587146035,290.9926884034273,289.6207003803184,291.54975554985543,294.1703663383733,302.44748075374423,302.01240220233996,302.25960294245823,301.21137207443127,299.07534799361633,297.5326540759155,300.84548979953524,301.12236620607916,301.80470930128035,299.9950173028967,299.2434487597718,297.7501903132628,297.27547029587157,298.7885620422455,296.5931935106303,295.2284730271808,298.04688838826723,301.9332966077175,301.9233791666837,301.12234794130757,295.40647677412284,294.239564990786,296.88982825206676,297.5623152887366,296.47450083225726,293.18142723396534,287.5545395905635,283.5890560004086,284.63726409699416,286.7634625893197,284.5581500510728,287.1787691351639,290.3729243284995,293.3495904639562,293.3495904639562,294.664844451284,292.16285708738656,293.9824348888368,299.9060057705648,301.07296017549146,304.79121734368437,305.86911284925316,306.2647291712691,307.5700532365891,307.639266830131,305.9679989289264,308.9347117137257,322.48278878517146,321.2663878045657,328.31728747849814,327.8129709846014,329.7513026950098,331.1851462944143,332.8069961681834,335.0320654507935,333.9046357441918,334.9628046201897,330.91817903513373,330.0676863036248,333.4893073469205,334.13211399489325,336.8912162004097,339.0134012960568,339.2709975726664,341.8963822455096,346.42394195267025,336.29884573711894,335.02081153517446,334.7929204226287,335.8827191820603,334.6443443870887,336.1304153184202,330.39417257079947,329.6114923280032,324.41023915444543,332.6826573541519,332.38552186588976,333.3662963128985,339.81585919756077,340.5985596475969,331.5334958651202,332.0783915739084,333.6337975245389,321.90372614830665,319.80337190319597,324.6876267938357,330.51300931323874,333.2672384641881,339.30068586951506,340.61835550303965,341.10379514693733,339.94464181034044,336.2096640239942,334.86228572512135,332.08828902535015,323.043073045828,315.7414486405225,313.5618803060659,311.79840425058336,313.67084280106366,320.40772862682127,317.90123368268473,307.93461313382164,306.9240424235012,310.995899289844,308.7568619106903,301.2868692493151,294.35189527405254,292.2515802719687,305.63615740163146,304.4472573392357,305.6163353745126,309.4801372039668,307.74637342568974,312.19467286013924,308.3407945311725,305.9333502203815,304.98227341814606,302.7234133014982,309.03430123147655,306.25038945874195,301.46521661535456,294.0051459633698,298.00758728799565,298.69327445631734,294.6527410604985,291.73398401608193,289.4308293000959,289.5896713229307,293.02459317734366,295.4767803442051,296.97583085318087,297.7998334298659,299.28898801893354,300.93697418666596,293.5209964539925,287.5941904254149,281.90562097609046,287.5048592534123,284.526536861767,287.4154998460352,283.3352327789948,285.7377369312884,292.4388833548794,293.47136074363414,298.82235321484404,297.96861800828174,302.7934313436787,301.0362355626527,301.9992459779956,303.28981138150533,308.55146177122134,313.53518076648106,313.6642312387506,312.8600717509182,307.88631241104673,312.8302555657673,312.59204476399464,304.77893025648217,301.4532011166921,298.9415034301374,290.49309106551357,288.63660566906697,286.49223088813125,286.2241724559578,280.4164761250047,284.0996932778772,287.60416282287395,291.17804034008884,281.15115686478396,279.07624964157594,276.34613909189466,288.8649524319123,288.8748767529952,287.7828334087833,282.87855770763355,282.0744292378531,288.7755933621942,284.2783634742719,277.2297200520797,270.3895768382419,271.76954619738524,269.396799916511,257.99986562231925,261.1370188917101,263.8968771106669,266.3887341505828,262.3024738979241,256.40166706259373,257.2673781186334,260.21279592187267,260.0436152045651,263.27764080694834,265.7951608710536,271.994502845426,273.4174880485142,276.32308830283796,273.29805627472814,272.1039963626127,272.83035735345857,271.785564669871,271.6561964248129,271.3676316974514,259.2973101711852,247.79423948255544,244.5303765494561,254.04331997971963,246.2020972322088,249.26694656004105,253.49602023079416,255.90412477123104,258.09328422921294,266.6609142228809,266.97930850546845,265.59616612840506,260.68048658909925,258.25250245370097,258.49128273896895,261.68551729008726,266.6708340663959,267.7355817770138,266.78030482557557,265.21802305053484,264.6309317345829,252.3019294165809,253.88411032106976,259.0883411311724,259.55603171381716,258.44156962513813,263.5662118654889,263.5861185356778,264.0239367414858,260.2127786160231,258.60076413226255,268.720694003313,276.4723616641626,280.61190083406456,279.89543343217946,276.5221195384971,282.10448799732325,282.4030092278421,282.25374269343655,284.5125955610673,281.6865597206678,288.3834276467207,289.7765245770073,290.4731140136719,292.73194831903663,292.5926352947949,292.5256368706083,291.08965358996124,288.4371501849878,281.666207086248,278.0763292138014,276.4509398808924,278.23588095289534,279.5521838936085,266.64853438460597,266.29950830429345,266.35933320686496,260.1568565769592,263.9960081659574,257.1054151418701,258.10262630073066,259.6981236551687,264.4846524708319,266.69840480675657,259.66821491108385,253.5155458708565,250.69350112428185,244.61065467401227,244.45109273674828,242.8256802416888,246.9640175927127,243.1746914820149,240.45237441051572,240.7714585258435,241.1204882108334,241.6490012526996,239.27567714866154,239.86401237187025,240.9310115005364,249.6564243257283,249.87580627240095,249.636477448373,240.6418468553623,233.9008340013529,228.41628687658542,227.21965630141167,235.43651494664252,236.57330931002247,238.28847709405372,243.24449078200982,238.93663849881446,240.63186151947062,242.31710703638663,247.1435141060181,250.3345034160636,237.6303172335911,233.03327706758068,235.93509752394849,234.2598138354599,235.0775273746614,230.64999828044301,219.7905959399654,220.9672724306729,227.768120516855,230.99900829264706,227.987506375022,242.64618742121752,247.29308970375996,243.22455370326696,246.30587184332504,243.8000030517578,243.25,243.74000549316406,244.6699981689453,245.30999755859375,248.27999877929688,248.6999969482422,246.64999389648438,242.7899932861328,255.3300018310547,256.1199951171875,256.05999755859375,253.82000732421875,251.86000061035156,246.16000366210938],\"low\":[146.71205699745306,146.5662162552556,146.1481868361417,146.81898780717106,148.57864655120184,150.51331093628363,150.15355749775026,149.8910733781638,149.4730407900899,151.94238036873676,152.89512979894243,152.74929827017965,153.02151914316153,153.8187113468473,152.37016024316594,152.0979281706152,153.92564060204407,153.66316074991315,152.1562817941117,152.94371013746047,153.55624844735277,156.55054363177032,156.69636069938497,156.77411782969565,157.2213509660288,158.04771473277867,159.46710678463728,160.8281329546538,161.80031779367062,161.0712046603756,160.67262879069898,159.8753753570924,155.7436361734895,158.53379959615867,161.08090454806947,166.0390453013805,164.8627009912211,165.6598781001758,171.4054843320798,173.4470874181018,175.05116742043805,177.40386203139633,178.15242966502714,178.3954723324834,176.79138077775372,177.78299538117568,177.5691412033048,180.33985691472216,181.77801069365162,176.5431330038902,172.79000384823266,159.1227950750411,163.4315432133758,163.97750941004705,154.0048645253345,148.17536466020633,158.22593343844167,158.17717466195012,161.45264740005592,161.52086552615967,152.07470828203628,146.22568339359046,148.74075178690146,147.34673469018617,135.093025619241,137.1889387390433,131.6030973922479,131.60310764165783,131.62260088927238,135.5024552952572,132.44148330484802,129.18552554190617,137.71535608506065,140.8055813472734,144.63669506826452,145.44579339164537,146.23542816732936,152.6206266544096,147.02504330468966,146.57664736246662,148.36057136724807,153.6149450019203,159.15201255987623,159.3859851635009,159.2203019628963,158.21619192287048,163.77274295317574,164.9815737680803,168.5494384841166,171.4447455290348,170.58687467865875,161.9303108224736,166.5218103819259,166.6095427566646,166.4145551597119,168.93938863973779,165.12777084539783,167.55511651211614,171.7956713295448,169.631537996727,169.42682015224995,175.37330884481628,177.05977788597284,177.9859010703283,178.74627228473375,178.24909558678192,177.7129254582947,172.09786063883328,171.2594882525175,172.5462659704518,179.33115505781186,178.87299900662995,179.81107009581444,179.17565845404104,178.44248910328895,177.03481170247514,172.63582500285742,176.33098606646953,176.36030452652477,177.3867249403979,177.2791920412111,179.4591454356952,178.20790205936063,177.92437766928052,180.29984590219746,183.0565429088129,186.7223736059422,181.89325280337172,181.0232092910724,179.8794939885846,187.16227741646983,189.34222572816694,189.6452628581253,190.00694963964386,190.84765091122267,196.90847991741285,192.1477965854795,191.08226351027673,190.5055096838359,189.20534783849584,193.30130333193136,197.24084923618616,200.3983242407687,203.41892394374304,203.32120481032726,204.00549848795177,206.7230932894031,206.34184485487327,201.86467793470268,197.4950003314785,200.42764294758052,197.7687143905294,196.86935346576095,198.45301352306006,203.3603239428029,203.71223282095465,197.61230052150506,193.07645375656148,196.3512813034192,197.2115006518466,197.47544483695728,195.09023767155315,194.54276463818454,205.71622724622586,205.5891396944108,206.82085265464846,206.80133406306936,206.1952239967006,201.7180188735757,198.58007921901321,200.15392608732822,203.4776017858045,202.85198704384274,204.2303268051837,204.51382609214363,205.0473831612966,204.71424873183372,208.57511530203797,208.1635203158362,208.82007903167036,212.99454469803027,214.99355360871954,222.02935510453227,219.80492867616738,219.92251760087316,222.78387142324155,210.6427303423524,201.06894029447835,198.13898432168486,202.5486069893414,200.01062694996384,197.19827699272582,199.93224189925067,202.77398739599153,200.52999357893566,195.943998276969,192.30847512697065,192.43588234557814,198.02141803679072,196.01257456641457,195.19923078838804,198.4721487443114,203.88130802023514,202.65640716351953,202.3918082751992,207.07582863622065,201.41191955686207,202.8229858788158,200.7064007719107,202.56821415515446,204.13607309497013,206.98764531285676,212.4555588547128,216.0028451544894,214.72898968354676,211.6716346757677,214.91516896432114,209.42764454881214,208.81024676293018,208.83968010279486,207.4482231477846,208.8788580058207,203.92050374662486,206.1057037694144,198.041006426921,199.28549073980508,195.61081332810824,196.10078229063066,199.04049292839525,208.15373893041237,216.7084004442285,213.6510673903376,213.5040782365416,205.5079791820509,207.93815027400936,210.15276949495538,209.85878204109886,210.21154768452743,209.78039816845674,207.23479042887317,206.252300755938,206.32110224752194,204.51333295881727,205.2010426509437,208.73798848490014,210.29027183996925,207.14636808780153,209.61242000314385,209.07203088906945,209.90712578132593,209.44533965574303,209.25869027782656,209.16047746080685,207.50989343194178,206.6747848539981,205.44667986893432,209.15064213239538,208.52186435678297,210.95839456739515,214.10235813111686,212.23563546501504,213.4735625379178,217.9634786779476,216.93186317940786,217.32488337082123,219.11299622181673,219.66318372935726,217.59015032012047,215.8315093289236,211.0468070719487,211.92121622870405,208.2270951740865,209.96608442677046,213.22791427510379,212.9331904029826,209.582953121309,210.182234585018,209.01309915539068,208.31553367704367,208.90501804049674,213.4833696955342,218.5234934871919,221.84428723952132,220.29196811327998,226.04930471736407,226.10827246047316,230.97152288067278,227.29707856681304,228.3581432898194,234.508475263366,235.0684800885068,236.15904061132386,236.2081849761633,236.59133684564506,237.15133628167345,236.66993476697294,237.90787594573206,238.4776874725856,238.6643755600852,237.26427236575938,237.18547711008395,236.51583645221152,228.8545469173489,225.24054127790112,225.50642264574714,224.4035153572359,226.038169274498,229.59311304795042,229.88850279479675,223.79296789137814,220.8387225636344,223.00517273787952,223.66496189964556,228.13569008551917,228.50002946946958,230.73541943864126,229.67186772542752,228.2735355392191,232.3405404923013,229.67187894131587,226.81613042177548,225.851101688803,226.6290262705021,233.4533065148664,231.730010559617,228.03722895170566,228.0175325460377,228.3424887619121,227.574369165754,228.844701314764,234.41836778689668,238.99740268829342,243.11364449983824,243.41892181625946,248.1555443299605,248.58882655599922,250.73556146977327,252.91186019568872,251.2673325891766,253.79812084923287,253.6700955523543,253.8867767036785,252.92170307855702,253.32542950114683,251.74000116709723,253.34511203162324,256.20092315781187,256.1516668529673,249.09102921628389,245.20129872837379,245.79215218110969,247.28896878941757,242.0107209106189,242.0698374125645,240.95704688487865,247.33820729099904,243.35000588110293,238.86938918844473,234.43806167282398,237.73694889271366,241.74484976110034,239.80491124678719,239.19436603374928,235.50249573250488,240.69422984939428,241.56281783508933,244.29684538810227,247.56388395931344,247.49477517389187,246.01425239522166,246.32023757276536,243.7540028740579,242.64851609842356,239.84537719438623,244.29682284658432,246.56698804255788,249.23193447602853,249.92285596657723,250.37688114716963,253.2786869803341,253.46620126376922,254.33480114890585,251.1171163981146,252.6865278837176,255.39093817999338,254.57170404085613,258.99352959637923,260.99717189250026,262.0237113992079,261.32289409476886,262.4579878826614,264.5010937837136,266.10009768966967,266.10009095887835,268.9624256776326,270.739023797779,273.5520504591328,271.3016587845209,271.7458047520229,272.9894348045273,273.7889754465399,276.90792157627595,276.19728001993377,275.83202407258307,270.8871458343319,272.67363565190414,273.6902572758916,279.740693980737,282.7806852722008,282.91885946739905,279.2767687343048,280.14528515554935,282.3661702789763,280.2243161153784,280.05650116123667,280.31314743034585,280.9546885815934,282.38582920045803,283.8861303694657,284.0736754968325,281.4975732632379,282.1489772886343,282.6227451324959,285.544316064011,286.25498337028256,287.3012019289442,287.05020771310205,285.43832487514317,294.75378124014003,298.50179197781296,298.65009622587246,297.08764414837776,295.63396851767874,293.53745852844395,297.720537969672,298.1556433863148,298.1457391527787,296.8502981446053,296.9294085743394,294.8922629977368,294.17031642637806,293.70556240226165,292.1035443621303,290.81792355653306,294.7933737994426,298.4721197677575,297.42386162515066,296.2074762275168,286.30851486580696,290.80805453714885,291.2431745463642,294.2297012311669,293.6363407108273,289.6905847339244,279.61361307709274,279.8707834949691,278.4961562892593,278.1698523555275,277.14134335990667,280.8991996615556,282.3429999730104,290.65976035084634,290.5015314995966,289.50274477201225,289.10713629464544,290.2344668288907,294.5263458546912,297.18652999338843,299.3324579982852,303.8121982915226,302.71452394275684,302.9617398642461,304.3857523213414,303.0606082321309,305.17687510593925,312.49481554368964,317.7953126806401,320.3071307542044,322.7497688963417,326.33955887154315,326.9822890313404,325.8549764457156,330.71054340706684,330.7302508873142,330.8192791003477,326.2604323512065,326.84386797597824,330.08746292595407,330.32481359335844,331.7884485930243,334.8622952761107,333.9904598279125,339.0233095007799,336.3978629683992,330.4635089970626,330.81026494892825,325.0739910491963,331.63253559780276,325.9359346017176,326.33224128706263,324.75699093535354,315.0776635303702,316.2665455754324,327.03559027776356,327.729140315338,329.03686860508606,331.6820828118115,335.9322614425238,321.10121857747214,321.4876257670318,320.02132820334333,314.3049147486993,314.62194237362974,316.83121961488087,322.7259899619886,329.6412113524298,332.31611459111514,337.1607633946197,336.5266881939723,335.67465505485404,332.732268353746,326.7185922416067,323.09256339922825,313.04674296088297,308.5983589160777,307.2113817245184,301.86151558163925,307.013254690862,314.1364742594245,301.17792810066317,300.9302378718211,298.9388676976057,299.8899729640424,298.34444966963224,292.8657765132162,273.4873989546043,282.52276290533666,290.30976606259014,295.16424585850746,291.71657960580694,303.5259192073298,302.2974308662617,306.01260970941246,297.17539706312397,297.1853337655839,297.11597916030775,297.1655067438155,304.536468479803,297.90857046869655,291.48869141220894,288.64536410597924,294.2626791700301,291.55528992005253,287.90194886109384,284.23861844094085,282.441752495145,278.07358694074395,269.5556082568976,289.5400321545899,290.8802372769975,290.0364008562891,291.5752117247621,291.9226475790536,285.09242863077634,276.5149257241825,268.0466261233339,278.74866135658914,278.55007045356984,277.40840837213614,273.8245537897828,276.7135033262328,281.1511466771903,287.27651443987634,290.61219514797915,292.766506774886,296.6084923146325,295.5660890149484,296.1617805943724,297.12474710297374,302.1282686801092,306.8141395141959,309.32582111606257,305.6625233128865,303.32952324455715,307.46932906638614,307.62821763515603,294.5633674009403,294.2060259724917,294.13652267393655,282.9381603440529,278.460760214429,279.2648998596805,277.2992217535522,276.3262879660998,276.3958239316778,283.3054714605716,278.0338379158852,271.4021939388699,268.81105968157755,268.0466355844085,277.1403953687375,279.42373109026045,274.49962776734634,274.2216427522526,278.12321216103675,274.72796954846757,272.3552419491839,269.3074417646947,261.41499920237754,263.15234922754524,257.4240518155818,248.21119860403982,253.50265055387666,253.9295050989067,260.56120593164275,251.52578115578075,250.64015906453173,245.22693276168187,252.18251229302007,252.2521709774324,255.8643302664761,260.14312743988614,266.2429556313892,267.6062379383752,268.71075109087633,260.31230576503935,267.08879648857993,265.9046260579901,264.63095390363986,268.28286864012813,263.3274172243263,251.28694756013027,240.34110245317822,240.3211873406444,245.20702583596884,241.82376187880027,242.82879307291765,248.2818081071255,249.13757873814217,252.38154825773285,260.43171854145044,261.9840298750074,255.05829797784207,254.5010478581407,251.65513274569028,253.35669415020678,253.4860724278544,261.1083539732041,263.7154596928188,261.99398410316405,260.8894295551831,250.79934438363634,246.88870482388575,244.72939900277933,253.5159158689722,252.05315345904867,252.4312920894763,257.6355575840531,255.76479285329867,257.79477136767616,255.54586248985007,248.34151679980096,257.5758430925195,266.55143660076675,275.2683386450446,274.48220871724254,271.03923242937947,275.24838903897574,278.7909030676758,277.30820602529076,277.94507744745783,276.2434839165987,285.5275598844067,285.0996783165472,285.52757698815617,288.68197482201373,288.9904591272263,288.65653553844305,288.26758965244085,284.7575173816175,276.4409425562796,274.62606107394527,274.336871937031,273.7485269510762,267.2269326163783,263.10852292729527,259.9274816804267,260.59557780564444,254.69224562152854,253.75488025355793,251.23198344652624,252.50840604857825,254.07397397924618,259.55853259449657,264.41483180975206,250.88297530650667,249.15783153263942,243.3342509968968,241.37975432761874,240.17315543871644,238.96656062417063,238.22862562840606,236.90237468979407,234.539031154733,236.234242187408,233.840999883434,234.07035283710084,233.75125263606446,232.07596296924808,234.00054591369974,244.29153864661237,243.41402103324117,245.38845460666704,232.51474095660376,226.09283614332807,223.4802005454106,223.33062237547864,218.51420303322863,227.69831112253,234.47920482170156,234.7085488734521,233.63158168315587,234.2099569513052,233.84099423881756,240.62189956902853,245.13915343761474,229.41346832771077,225.14550242707125,225.41474277042659,230.50040422406337,226.6911575603201,219.42163166214243,213.3786579500525,212.83020044168666,220.6581525408613,225.20533805919308,223.6995872382589,234.33959485019315,241.25010708325152,238.5377649575026,239.35545796715368,240.4199981689453,237.6300048828125,239.02999877929688,241.19000244140625,240.7100067138672,244.27000427246094,246.72999572753906,240.8000030517578,238.2100067138672,239.86000061035156,250.9199981689453,249.69000244140625,248.05999755859375,243.77999877929688,242.2100067138672],\"open\":[146.8676097495937,147.08147175095624,147.32451927206907,147.4314526218407,148.74391578862551,150.7952373513479,151.12573982513527,150.00774535200074,149.71608638487052,152.97290617085673,153.72147593617044,153.09928453747187,153.17707190297008,155.01449162944428,154.56730220403242,152.409033648164,154.36311971355858,153.9159376892331,152.71043295437352,154.8880745287265,154.5089833021983,157.33800906740044,158.29075416372004,157.26020899666221,158.84489391835697,158.09631198988214,159.77821232949384,162.76278133889406,162.04336340581108,162.74335990472133,161.56703503784462,162.85025080464825,156.66720659728145,159.22404082997764,163.1710907784729,169.20836979599946,167.4195455714714,165.68904238597088,172.21239754073753,178.91074844815392,175.93585699929514,177.7635796510084,178.47325164590737,185.34657063405126,180.4176170869864,177.98716021760794,178.152456681423,180.44679758497193,183.32799926779157,182.245925256596,178.56104196610906,163.54856771635386,169.81673346552736,165.43976643577483,159.2105094471682,148.57505177958183,161.15044706948873,169.42681110350443,164.25044227342963,161.87180770322007,158.51838722154457,147.20052128288108,154.1803484402188,153.17627572774876,141.64393689846383,143.78859573893303,136.47728618455338,136.47729681357106,134.52761330140436,139.17759799591954,142.32633943499712,133.5625382902094,140.13294994347643,145.16310772407783,144.6659390153992,147.9316326986173,148.60429200157012,155.38916285487088,149.15018255674948,148.0389044132195,151.19735301561917,156.28600597568916,165.32273756794226,161.50138146906872,162.17406009170523,160.21461256477247,164.7475807088494,166.89224774784356,169.91422023844817,174.98341204794986,172.18560810098535,169.13436171493436,167.07746022719567,169.7290209436957,167.7305771681429,172.14659836045615,171.17176210226341,168.86139552155737,175.47081421443718,171.3765061714743,170.09946064414876,176.07519322909073,177.49845188015422,179.53588972220624,180.32550487282737,178.54153502347236,182.09969534954521,177.9566454038591,173.07268705692576,174.55442917182808,181.07610804668195,180.3742427217865,180.66153628545936,181.23829560034713,179.07790739995286,182.1571786445013,176.1550060221254,176.6829056855485,178.62821926990344,178.44246876242855,180.11408896754338,180.67131628175272,180.16300791867064,178.52068546693064,181.76617514354092,183.77993739394518,186.83969009672344,188.7947730385963,186.26289257579285,180.43670627112968,188.560170848533,190.65214304907028,189.6452628581253,194.13222401101967,191.3950781555627,197.5536684323877,197.07467157890255,193.35996352092096,195.24663219351652,191.38528641072392,193.43816013244182,198.58009191171587,201.06305298575677,204.14231826245629,205.7259762573189,205.35452614016535,211.47400052806964,208.82482238013938,209.66554605799556,201.50297296754954,204.85595579592245,200.7893491124446,199.8802178134981,200.3983492096366,208.86395141714124,204.5040482234401,202.5391751852761,195.92113606695077,196.947589184901,199.03951955355456,197.95445110083722,196.48813114626512,199.81177328902552,206.77198613011697,209.36249433239456,210.07609034601506,207.5735943472404,210.0272444531,206.91859182302971,202.50984573119499,200.68179801055305,204.7386532040161,204.0739281094161,204.8950704578957,205.80418802058384,207.24239995766567,205.33158562489797,209.56482502567914,210.4761223585623,208.82007903167036,213.5041052102811,218.4134656595982,223.59721163448623,222.44090478604883,220.9808285639815,223.39141445716453,224.66532460541876,210.7799101806634,202.3526255190857,203.43054024221868,209.11403871795216,203.038567261813,200.13803081935345,204.23406745100894,206.38988660289024,196.03218712316067,198.72692658664224,193.22961180382296,200.94156339686552,203.7245078472175,195.83618505073048,199.46187331763622,206.64467814728923,205.1454019507888,203.55791050138865,209.20224427789722,203.82251939410642,203.05817107427274,204.62606474212436,202.90138196948834,206.28207620494516,206.98764531285676,214.39578810410694,218.24686084004435,218.52125967431473,212.73975440333626,215.7284860282445,215.99307862770107,211.46582506494727,208.83968010279486,209.63343173528511,210.7112957889132,209.5550201433223,207.3403923650319,203.49913013357076,199.97144382802585,199.41289192448548,200.18703015707607,199.79503228262857,209.7216103908639,217.58052501782143,217.79610755593478,219.93232406265508,210.19197633972874,208.1243366867415,212.8475382071572,212.01459392080292,210.55450925305297,211.75983247784757,209.9071409836144,207.67691069381513,208.48255841562914,207.25444948380513,205.9182497944082,211.3415579943108,211.0860942138449,210.34926694290183,210.752087073402,211.11559386291876,210.85031443470953,210.46712852158336,210.61450423093436,210.22155923679244,211.39069178301924,208.0600872055111,206.37021475531913,209.36678923651303,211.40052775431715,210.98786780828314,216.0181939813148,214.76060485839844,213.73883671992496,218.7887593578947,219.2013924701668,217.54103047882472,220.5179373650466,222.3453536379697,221.28427487620405,217.81612597819475,218.63156395821292,213.45388467844134,208.4530616820427,210.29029006204888,214.84900241542024,214.64271344216502,212.70723698129132,210.27066930280614,212.12756340517873,209.77943638551508,210.00539237520212,213.8861906540648,220.7635496984146,223.10186214219075,225.10612070146547,227.79812027393413,233.8305769892738,231.4824173491134,231.85579167679666,230.9420741541979,237.07275218032757,235.37306189684602,238.40893132957606,237.9864739761752,238.89033965868543,237.63274251456923,240.70793376572226,240.4918069437411,239.65666206257478,240.73741187614314,237.63847997388734,238.1111390173521,240.0313801868136,233.79796702694205,226.8161380406147,226.5010088821158,228.53943803355799,227.99781557439258,232.30115970208067,233.3941893203772,228.618223625161,223.2808989284777,226.01848751267724,227.84026782065607,229.3272371950197,233.38436714004453,231.37551220738226,230.43996693970675,231.37548858019363,232.67534990186942,232.54733011934667,229.01210575176526,227.49562279731498,226.75704782294994,233.86689726123348,234.221412164218,231.71032072873714,228.0175325460377,232.980625506145,229.9672901335735,229.35677249995382,234.83195856184088,239.05648493325364,243.83250353370602,244.0294584134784,248.91380158936104,249.01225934662816,250.8241998668555,253.33532307559355,253.55194633575636,253.99505164822372,255.5115622791399,256.22061583180135,253.88676323753523,254.98964949853158,256.24027424889834,253.94582157921172,257.66818246457683,257.58938502853806,252.17326818165463,251.5627526883507,245.9300157646204,249.53418445498153,247.14124462869736,245.26039914832677,242.6901911681329,248.3032524324148,247.04279699507728,240.81917834519248,238.4755039248629,238.11115650637188,241.83347312944773,242.78868496393198,242.51296428679163,236.2032700633618,240.79293768178044,244.35608089566048,244.57320925224053,248.501548130387,248.1659402164138,247.90932527038024,247.7415460634792,247.9685594257861,244.9087958883495,242.0365583884255,244.54357734970384,246.73477931151925,251.8475414718542,250.51505778124448,250.9888275534786,254.6407767067582,254.55192704912187,256.39766523656584,256.0324617946039,252.74574656339513,256.2595189437594,256.44703227718463,259.30938260066245,262.5369176181351,262.7047563373946,262.77381175282846,262.73435174717116,265.37952413826144,267.1759438522351,266.1099406575166,269.27827869105084,274.4206117603554,275.7728411035047,273.30530431126886,272.1406059303043,275.53595820222966,273.91726250235524,278.684572265495,278.3391226926531,278.4081565497156,275.3089679097406,274.42064688176436,275.27934195799685,280.15522473079324,283.63938619862927,285.24820753432107,285.6726264077435,285.23830127686483,282.5240968149838,281.4679685767801,282.64248371862294,281.7147264209148,282.504314186037,283.1557019630172,284.764590903526,285.9884930107408,285.05081431468875,283.4814577369625,282.90898880130203,285.72200220916307,289.38384405373324,288.59422329148094,288.800593537789,285.48775818710646,296.39537139073724,299.88625670667994,301.63658632366776,300.9245804109509,297.65131849354975,295.6735027762287,297.77987001499935,301.04326687634074,299.5104364533449,298.84791095938454,297.65129181488794,297.6710909828159,296.45469034632674,297.4831967441486,295.10983204641394,294.249434015663,296.23717050507355,299.8961492248093,300.3905844470138,300.7960217297157,293.04297314581424,292.410079961896,293.4385505321547,295.53506661355294,294.9219387608124,292.85510101604604,286.5853993156123,281.9375970082843,282.54078479252206,278.99063245880416,284.2120263696723,280.8991996615556,282.60999414299573,291.90576351345294,292.9342359570423,289.67087236886005,292.06396029383166,291.6387288269207,295.89104321130804,298.98634924342343,300.2027015560444,304.92966872366674,305.78014387269025,303.76278284319227,306.95691816034395,305.92843417562557,307.5502471834393,312.49481554368964,320.7323692826395,320.5345903419198,327.68440816782635,326.64611786100596,330.1962387031028,329.1974892035485,334.75517248764373,333.55851205808136,333.3706475905876,330.85884698915254,327.57564995934115,330.2160257374134,333.7958890230447,331.95654601011023,335.7935715337865,335.0406172707783,339.45922732238336,341.42080418594156,333.92110111739606,333.1582590313033,331.24616758748596,331.8306910536891,332.207189343399,332.01894639301025,327.23378320982783,328.9080616294576,320.94273023793124,328.56130246864245,332.19728323506234,331.3056186104391,331.8703214207797,337.5174144741413,330.1266646576605,325.5594576086685,332.5935267493306,317.9012216840176,317.0789006950439,320.2888417960249,325.2523056484869,329.66101480406616,332.34583488445827,339.96447875829676,338.13164463365837,338.7359661711414,335.3675788680776,332.2368921945463,331.72169840640663,322.8350007241485,310.2429523925364,311.23368968189817,306.6169443070618,310.470846772073,316.70245741531426,317.4950361383828,301.425596288071,301.24725469666714,303.4466424760829,306.20082605821074,299.8800683351855,289.4875017090657,288.8137912829578,305.13088211799146,299.85034715748384,297.4429216133484,306.0819856343502,307.52841451394147,306.7556473086547,306.6169267735046,297.42309613386396,303.32779319930575,298.4534264488886,306.9934269295294,301.21756113713263,300.3754221135229,291.04288198344284,297.224942821596,296.21136134347955,294.21592188675885,290.9298465812789,282.9381351884581,288.0806485665425,270.53846645068694,293.0048041137464,292.1807574158235,294.25565373799884,293.2231756367722,300.69872019067805,292.1609128209234,286.44257900878574,275.79018320373564,281.389420895161,280.97242017374685,285.8766954093354,278.311842390818,278.3217783830236,287.0183629723706,291.1681680773621,293.2330797673587,296.7276612736503,297.63103941188854,298.3359127102316,296.975855491391,303.02177564654096,302.1282686801092,311.63899518742966,311.4900726514594,311.62902217487033,307.13180107563727,307.846584723562,311.003614023407,302.9820275865309,294.5137808160775,298.2664302496254,289.67904640166904,287.14745755375407,280.6845774324518,286.00576286951167,276.8921714542337,277.35880759995274,287.3063150099622,286.49218707364656,279.6421341555773,271.31284772345464,275.49237546175317,280.0591280965912,283.1267568077675,286.52200198532796,275.7008534102406,281.90564579447573,280.5455600276515,283.47422596609266,272.8218395369083,268.1062284775376,269.72445176207293,263.75789980962065,255.82570706845073,255.4881813507791,258.0792567469785,264.18479368701264,261.70542123608084,252.65020495098815,255.97375898346388,254.23238493105478,256.62057620698306,256.86936844691724,260.97898897260603,267.15844036922607,271.1885237233544,273.84535491180026,263.1482829934077,268.9794379558275,270.72079779090575,265.32752040882997,270.37253776302174,266.46190591316923,259.2973101711852,243.90348224537252,242.65962578998423,247.08772193454504,244.7691830631139,243.4954932636315,249.02811631192665,250.65010097122885,254.312001320698,260.52127188406837,266.8897551653595,262.68059604562563,256.32204173360503,255.78469893832946,255.12794614796542,254.89908079300633,262.45171479539147,263.8149735282048,263.4866004706693,264.3423499316991,264.5712295096949,248.95846806130913,249.33661336848868,254.4612365204127,258.47140079824624,256.31208886830956,258.6206747383861,258.5112167311757,263.934383398009,259.7152398423787,258.5808431457244,259.8744699214426,268.42218738086405,276.33307903212045,276.45247334901126,274.64140836142974,275.3976749667225,280.4128540384497,277.7758936913175,282.6517749744476,278.2635206408229,286.75151622569444,289.41831123565464,287.0600050380318,289.56760854475544,290.5527079296252,288.92576583170774,289.3744860615188,288.08812766797695,281.287270113742,275.66314697265625,274.63604713684816,276.55062779322236,278.2957150118611,265.1029024371754,265.9206017652353,264.6441960920291,258.1425137429407,260.96457319679956,255.48002144187575,253.98424271360486,256.78634657803,259.7679339243523,265.03308457174444,258.1126012751376,252.81751608906893,249.06809215227153,243.57356878785257,241.78859795160977,241.3897397257092,243.58354494260868,237.20151944014657,238.86683111013843,236.3838297772358,239.3055955349678,236.14450940574795,238.21865844962338,237.6203354661562,234.74843821190314,244.40123012682912,245.29870902865895,247.23324650786185,240.2230137545566,232.39508290072817,226.9803311695,224.7665628294253,219.2321808975975,234.8780745082495,235.15730178599676,242.556442629174,236.3738535173781,235.10743687592137,234.08032525435812,243.07497793354688,246.56512744954154,230.52034954378038,230.39071507836036,225.60421125473152,233.10307007565976,233.94073161881778,228.81517274403552,219.47148791706906,216.93863254697632,221.36616397722162,228.05730146137128,226.7310375024422,234.7683791456448,242.30714099159349,241.30995122390436,244.96964121064886,242.7899932861328,237.77999877929688,243.50999450683594,241.42999267578125,243.58999633789062,245.11000061035156,247.30999755859375,246.0800018310547,241.39999389648438,240.57000732421875,253.8699951171875,249.82000732421875,252.00999450683594,250.82000732421875,244.8300018310547],\"x\":[\"2019-12-09T00:00:00-05:00\",\"2019-12-10T00:00:00-05:00\",\"2019-12-11T00:00:00-05:00\",\"2019-12-12T00:00:00-05:00\",\"2019-12-13T00:00:00-05:00\",\"2019-12-16T00:00:00-05:00\",\"2019-12-17T00:00:00-05:00\",\"2019-12-18T00:00:00-05:00\",\"2019-12-19T00:00:00-05:00\",\"2019-12-20T00:00:00-05:00\",\"2019-12-23T00:00:00-05:00\",\"2019-12-24T00:00:00-05:00\",\"2019-12-26T00:00:00-05:00\",\"2019-12-27T00:00:00-05:00\",\"2019-12-30T00:00:00-05:00\",\"2019-12-31T00:00:00-05:00\",\"2020-01-02T00:00:00-05:00\",\"2020-01-03T00:00:00-05:00\",\"2020-01-06T00:00:00-05:00\",\"2020-01-07T00:00:00-05:00\",\"2020-01-08T00:00:00-05:00\",\"2020-01-09T00:00:00-05:00\",\"2020-01-10T00:00:00-05:00\",\"2020-01-13T00:00:00-05:00\",\"2020-01-14T00:00:00-05:00\",\"2020-01-15T00:00:00-05:00\",\"2020-01-16T00:00:00-05:00\",\"2020-01-17T00:00:00-05:00\",\"2020-01-21T00:00:00-05:00\",\"2020-01-22T00:00:00-05:00\",\"2020-01-23T00:00:00-05:00\",\"2020-01-24T00:00:00-05:00\",\"2020-01-27T00:00:00-05:00\",\"2020-01-28T00:00:00-05:00\",\"2020-01-29T00:00:00-05:00\",\"2020-01-30T00:00:00-05:00\",\"2020-01-31T00:00:00-05:00\",\"2020-02-03T00:00:00-05:00\",\"2020-02-04T00:00:00-05:00\",\"2020-02-05T00:00:00-05:00\",\"2020-02-06T00:00:00-05:00\",\"2020-02-07T00:00:00-05:00\",\"2020-02-10T00:00:00-05:00\",\"2020-02-11T00:00:00-05:00\",\"2020-02-12T00:00:00-05:00\",\"2020-02-13T00:00:00-05:00\",\"2020-02-14T00:00:00-05:00\",\"2020-02-18T00:00:00-05:00\",\"2020-02-19T00:00:00-05:00\",\"2020-02-20T00:00:00-05:00\",\"2020-02-21T00:00:00-05:00\",\"2020-02-24T00:00:00-05:00\",\"2020-02-25T00:00:00-05:00\",\"2020-02-26T00:00:00-05:00\",\"2020-02-27T00:00:00-05:00\",\"2020-02-28T00:00:00-05:00\",\"2020-03-02T00:00:00-05:00\",\"2020-03-03T00:00:00-05:00\",\"2020-03-04T00:00:00-05:00\",\"2020-03-05T00:00:00-05:00\",\"2020-03-06T00:00:00-05:00\",\"2020-03-09T00:00:00-04:00\",\"2020-03-10T00:00:00-04:00\",\"2020-03-11T00:00:00-04:00\",\"2020-03-12T00:00:00-04:00\",\"2020-03-13T00:00:00-04:00\",\"2020-03-16T00:00:00-04:00\",\"2020-03-17T00:00:00-04:00\",\"2020-03-18T00:00:00-04:00\",\"2020-03-19T00:00:00-04:00\",\"2020-03-20T00:00:00-04:00\",\"2020-03-23T00:00:00-04:00\",\"2020-03-24T00:00:00-04:00\",\"2020-03-25T00:00:00-04:00\",\"2020-03-26T00:00:00-04:00\",\"2020-03-27T00:00:00-04:00\",\"2020-03-30T00:00:00-04:00\",\"2020-03-31T00:00:00-04:00\",\"2020-04-01T00:00:00-04:00\",\"2020-04-02T00:00:00-04:00\",\"2020-04-03T00:00:00-04:00\",\"2020-04-06T00:00:00-04:00\",\"2020-04-07T00:00:00-04:00\",\"2020-04-08T00:00:00-04:00\",\"2020-04-09T00:00:00-04:00\",\"2020-04-13T00:00:00-04:00\",\"2020-04-14T00:00:00-04:00\",\"2020-04-15T00:00:00-04:00\",\"2020-04-16T00:00:00-04:00\",\"2020-04-17T00:00:00-04:00\",\"2020-04-20T00:00:00-04:00\",\"2020-04-21T00:00:00-04:00\",\"2020-04-22T00:00:00-04:00\",\"2020-04-23T00:00:00-04:00\",\"2020-04-24T00:00:00-04:00\",\"2020-04-27T00:00:00-04:00\",\"2020-04-28T00:00:00-04:00\",\"2020-04-29T00:00:00-04:00\",\"2020-04-30T00:00:00-04:00\",\"2020-05-01T00:00:00-04:00\",\"2020-05-04T00:00:00-04:00\",\"2020-05-05T00:00:00-04:00\",\"2020-05-06T00:00:00-04:00\",\"2020-05-07T00:00:00-04:00\",\"2020-05-08T00:00:00-04:00\",\"2020-05-11T00:00:00-04:00\",\"2020-05-12T00:00:00-04:00\",\"2020-05-13T00:00:00-04:00\",\"2020-05-14T00:00:00-04:00\",\"2020-05-15T00:00:00-04:00\",\"2020-05-18T00:00:00-04:00\",\"2020-05-19T00:00:00-04:00\",\"2020-05-20T00:00:00-04:00\",\"2020-05-21T00:00:00-04:00\",\"2020-05-22T00:00:00-04:00\",\"2020-05-26T00:00:00-04:00\",\"2020-05-27T00:00:00-04:00\",\"2020-05-28T00:00:00-04:00\",\"2020-05-29T00:00:00-04:00\",\"2020-06-01T00:00:00-04:00\",\"2020-06-02T00:00:00-04:00\",\"2020-06-03T00:00:00-04:00\",\"2020-06-04T00:00:00-04:00\",\"2020-06-05T00:00:00-04:00\",\"2020-06-08T00:00:00-04:00\",\"2020-06-09T00:00:00-04:00\",\"2020-06-10T00:00:00-04:00\",\"2020-06-11T00:00:00-04:00\",\"2020-06-12T00:00:00-04:00\",\"2020-06-15T00:00:00-04:00\",\"2020-06-16T00:00:00-04:00\",\"2020-06-17T00:00:00-04:00\",\"2020-06-18T00:00:00-04:00\",\"2020-06-19T00:00:00-04:00\",\"2020-06-22T00:00:00-04:00\",\"2020-06-23T00:00:00-04:00\",\"2020-06-24T00:00:00-04:00\",\"2020-06-25T00:00:00-04:00\",\"2020-06-26T00:00:00-04:00\",\"2020-06-29T00:00:00-04:00\",\"2020-06-30T00:00:00-04:00\",\"2020-07-01T00:00:00-04:00\",\"2020-07-02T00:00:00-04:00\",\"2020-07-06T00:00:00-04:00\",\"2020-07-07T00:00:00-04:00\",\"2020-07-08T00:00:00-04:00\",\"2020-07-09T00:00:00-04:00\",\"2020-07-10T00:00:00-04:00\",\"2020-07-13T00:00:00-04:00\",\"2020-07-14T00:00:00-04:00\",\"2020-07-15T00:00:00-04:00\",\"2020-07-16T00:00:00-04:00\",\"2020-07-17T00:00:00-04:00\",\"2020-07-20T00:00:00-04:00\",\"2020-07-21T00:00:00-04:00\",\"2020-07-22T00:00:00-04:00\",\"2020-07-23T00:00:00-04:00\",\"2020-07-24T00:00:00-04:00\",\"2020-07-27T00:00:00-04:00\",\"2020-07-28T00:00:00-04:00\",\"2020-07-29T00:00:00-04:00\",\"2020-07-30T00:00:00-04:00\",\"2020-07-31T00:00:00-04:00\",\"2020-08-03T00:00:00-04:00\",\"2020-08-04T00:00:00-04:00\",\"2020-08-05T00:00:00-04:00\",\"2020-08-06T00:00:00-04:00\",\"2020-08-07T00:00:00-04:00\",\"2020-08-10T00:00:00-04:00\",\"2020-08-11T00:00:00-04:00\",\"2020-08-12T00:00:00-04:00\",\"2020-08-13T00:00:00-04:00\",\"2020-08-14T00:00:00-04:00\",\"2020-08-17T00:00:00-04:00\",\"2020-08-18T00:00:00-04:00\",\"2020-08-19T00:00:00-04:00\",\"2020-08-20T00:00:00-04:00\",\"2020-08-21T00:00:00-04:00\",\"2020-08-24T00:00:00-04:00\",\"2020-08-25T00:00:00-04:00\",\"2020-08-26T00:00:00-04:00\",\"2020-08-27T00:00:00-04:00\",\"2020-08-28T00:00:00-04:00\",\"2020-08-31T00:00:00-04:00\",\"2020-09-01T00:00:00-04:00\",\"2020-09-02T00:00:00-04:00\",\"2020-09-03T00:00:00-04:00\",\"2020-09-04T00:00:00-04:00\",\"2020-09-08T00:00:00-04:00\",\"2020-09-09T00:00:00-04:00\",\"2020-09-10T00:00:00-04:00\",\"2020-09-11T00:00:00-04:00\",\"2020-09-14T00:00:00-04:00\",\"2020-09-15T00:00:00-04:00\",\"2020-09-16T00:00:00-04:00\",\"2020-09-17T00:00:00-04:00\",\"2020-09-18T00:00:00-04:00\",\"2020-09-21T00:00:00-04:00\",\"2020-09-22T00:00:00-04:00\",\"2020-09-23T00:00:00-04:00\",\"2020-09-24T00:00:00-04:00\",\"2020-09-25T00:00:00-04:00\",\"2020-09-28T00:00:00-04:00\",\"2020-09-29T00:00:00-04:00\",\"2020-09-30T00:00:00-04:00\",\"2020-10-01T00:00:00-04:00\",\"2020-10-02T00:00:00-04:00\",\"2020-10-05T00:00:00-04:00\",\"2020-10-06T00:00:00-04:00\",\"2020-10-07T00:00:00-04:00\",\"2020-10-08T00:00:00-04:00\",\"2020-10-09T00:00:00-04:00\",\"2020-10-12T00:00:00-04:00\",\"2020-10-13T00:00:00-04:00\",\"2020-10-14T00:00:00-04:00\",\"2020-10-15T00:00:00-04:00\",\"2020-10-16T00:00:00-04:00\",\"2020-10-19T00:00:00-04:00\",\"2020-10-20T00:00:00-04:00\",\"2020-10-21T00:00:00-04:00\",\"2020-10-22T00:00:00-04:00\",\"2020-10-23T00:00:00-04:00\",\"2020-10-26T00:00:00-04:00\",\"2020-10-27T00:00:00-04:00\",\"2020-10-28T00:00:00-04:00\",\"2020-10-29T00:00:00-04:00\",\"2020-10-30T00:00:00-04:00\",\"2020-11-02T00:00:00-05:00\",\"2020-11-03T00:00:00-05:00\",\"2020-11-04T00:00:00-05:00\",\"2020-11-05T00:00:00-05:00\",\"2020-11-06T00:00:00-05:00\",\"2020-11-09T00:00:00-05:00\",\"2020-11-10T00:00:00-05:00\",\"2020-11-11T00:00:00-05:00\",\"2020-11-12T00:00:00-05:00\",\"2020-11-13T00:00:00-05:00\",\"2020-11-16T00:00:00-05:00\",\"2020-11-17T00:00:00-05:00\",\"2020-11-18T00:00:00-05:00\",\"2020-11-19T00:00:00-05:00\",\"2020-11-20T00:00:00-05:00\",\"2020-11-23T00:00:00-05:00\",\"2020-11-24T00:00:00-05:00\",\"2020-11-25T00:00:00-05:00\",\"2020-11-27T00:00:00-05:00\",\"2020-11-30T00:00:00-05:00\",\"2020-12-01T00:00:00-05:00\",\"2020-12-02T00:00:00-05:00\",\"2020-12-03T00:00:00-05:00\",\"2020-12-04T00:00:00-05:00\",\"2020-12-07T00:00:00-05:00\",\"2020-12-08T00:00:00-05:00\",\"2020-12-09T00:00:00-05:00\",\"2020-12-10T00:00:00-05:00\",\"2020-12-11T00:00:00-05:00\",\"2020-12-14T00:00:00-05:00\",\"2020-12-15T00:00:00-05:00\",\"2020-12-16T00:00:00-05:00\",\"2020-12-17T00:00:00-05:00\",\"2020-12-18T00:00:00-05:00\",\"2020-12-21T00:00:00-05:00\",\"2020-12-22T00:00:00-05:00\",\"2020-12-23T00:00:00-05:00\",\"2020-12-24T00:00:00-05:00\",\"2020-12-28T00:00:00-05:00\",\"2020-12-29T00:00:00-05:00\",\"2020-12-30T00:00:00-05:00\",\"2020-12-31T00:00:00-05:00\",\"2021-01-04T00:00:00-05:00\",\"2021-01-05T00:00:00-05:00\",\"2021-01-06T00:00:00-05:00\",\"2021-01-07T00:00:00-05:00\",\"2021-01-08T00:00:00-05:00\",\"2021-01-11T00:00:00-05:00\",\"2021-01-12T00:00:00-05:00\",\"2021-01-13T00:00:00-05:00\",\"2021-01-14T00:00:00-05:00\",\"2021-01-15T00:00:00-05:00\",\"2021-01-19T00:00:00-05:00\",\"2021-01-20T00:00:00-05:00\",\"2021-01-21T00:00:00-05:00\",\"2021-01-22T00:00:00-05:00\",\"2021-01-25T00:00:00-05:00\",\"2021-01-26T00:00:00-05:00\",\"2021-01-27T00:00:00-05:00\",\"2021-01-28T00:00:00-05:00\",\"2021-01-29T00:00:00-05:00\",\"2021-02-01T00:00:00-05:00\",\"2021-02-02T00:00:00-05:00\",\"2021-02-03T00:00:00-05:00\",\"2021-02-04T00:00:00-05:00\",\"2021-02-05T00:00:00-05:00\",\"2021-02-08T00:00:00-05:00\",\"2021-02-09T00:00:00-05:00\",\"2021-02-10T00:00:00-05:00\",\"2021-02-11T00:00:00-05:00\",\"2021-02-12T00:00:00-05:00\",\"2021-02-16T00:00:00-05:00\",\"2021-02-17T00:00:00-05:00\",\"2021-02-18T00:00:00-05:00\",\"2021-02-19T00:00:00-05:00\",\"2021-02-22T00:00:00-05:00\",\"2021-02-23T00:00:00-05:00\",\"2021-02-24T00:00:00-05:00\",\"2021-02-25T00:00:00-05:00\",\"2021-02-26T00:00:00-05:00\",\"2021-03-01T00:00:00-05:00\",\"2021-03-02T00:00:00-05:00\",\"2021-03-03T00:00:00-05:00\",\"2021-03-04T00:00:00-05:00\",\"2021-03-05T00:00:00-05:00\",\"2021-03-08T00:00:00-05:00\",\"2021-03-09T00:00:00-05:00\",\"2021-03-10T00:00:00-05:00\",\"2021-03-11T00:00:00-05:00\",\"2021-03-12T00:00:00-05:00\",\"2021-03-15T00:00:00-04:00\",\"2021-03-16T00:00:00-04:00\",\"2021-03-17T00:00:00-04:00\",\"2021-03-18T00:00:00-04:00\",\"2021-03-19T00:00:00-04:00\",\"2021-03-22T00:00:00-04:00\",\"2021-03-23T00:00:00-04:00\",\"2021-03-24T00:00:00-04:00\",\"2021-03-25T00:00:00-04:00\",\"2021-03-26T00:00:00-04:00\",\"2021-03-29T00:00:00-04:00\",\"2021-03-30T00:00:00-04:00\",\"2021-03-31T00:00:00-04:00\",\"2021-04-01T00:00:00-04:00\",\"2021-04-05T00:00:00-04:00\",\"2021-04-06T00:00:00-04:00\",\"2021-04-07T00:00:00-04:00\",\"2021-04-08T00:00:00-04:00\",\"2021-04-09T00:00:00-04:00\",\"2021-04-12T00:00:00-04:00\",\"2021-04-13T00:00:00-04:00\",\"2021-04-14T00:00:00-04:00\",\"2021-04-15T00:00:00-04:00\",\"2021-04-16T00:00:00-04:00\",\"2021-04-19T00:00:00-04:00\",\"2021-04-20T00:00:00-04:00\",\"2021-04-21T00:00:00-04:00\",\"2021-04-22T00:00:00-04:00\",\"2021-04-23T00:00:00-04:00\",\"2021-04-26T00:00:00-04:00\",\"2021-04-27T00:00:00-04:00\",\"2021-04-28T00:00:00-04:00\",\"2021-04-29T00:00:00-04:00\",\"2021-04-30T00:00:00-04:00\",\"2021-05-03T00:00:00-04:00\",\"2021-05-04T00:00:00-04:00\",\"2021-05-05T00:00:00-04:00\",\"2021-05-06T00:00:00-04:00\",\"2021-05-07T00:00:00-04:00\",\"2021-05-10T00:00:00-04:00\",\"2021-05-11T00:00:00-04:00\",\"2021-05-12T00:00:00-04:00\",\"2021-05-13T00:00:00-04:00\",\"2021-05-14T00:00:00-04:00\",\"2021-05-17T00:00:00-04:00\",\"2021-05-18T00:00:00-04:00\",\"2021-05-19T00:00:00-04:00\",\"2021-05-20T00:00:00-04:00\",\"2021-05-21T00:00:00-04:00\",\"2021-05-24T00:00:00-04:00\",\"2021-05-25T00:00:00-04:00\",\"2021-05-26T00:00:00-04:00\",\"2021-05-27T00:00:00-04:00\",\"2021-05-28T00:00:00-04:00\",\"2021-06-01T00:00:00-04:00\",\"2021-06-02T00:00:00-04:00\",\"2021-06-03T00:00:00-04:00\",\"2021-06-04T00:00:00-04:00\",\"2021-06-07T00:00:00-04:00\",\"2021-06-08T00:00:00-04:00\",\"2021-06-09T00:00:00-04:00\",\"2021-06-10T00:00:00-04:00\",\"2021-06-11T00:00:00-04:00\",\"2021-06-14T00:00:00-04:00\",\"2021-06-15T00:00:00-04:00\",\"2021-06-16T00:00:00-04:00\",\"2021-06-17T00:00:00-04:00\",\"2021-06-18T00:00:00-04:00\",\"2021-06-21T00:00:00-04:00\",\"2021-06-22T00:00:00-04:00\",\"2021-06-23T00:00:00-04:00\",\"2021-06-24T00:00:00-04:00\",\"2021-06-25T00:00:00-04:00\",\"2021-06-28T00:00:00-04:00\",\"2021-06-29T00:00:00-04:00\",\"2021-06-30T00:00:00-04:00\",\"2021-07-01T00:00:00-04:00\",\"2021-07-02T00:00:00-04:00\",\"2021-07-06T00:00:00-04:00\",\"2021-07-07T00:00:00-04:00\",\"2021-07-08T00:00:00-04:00\",\"2021-07-09T00:00:00-04:00\",\"2021-07-12T00:00:00-04:00\",\"2021-07-13T00:00:00-04:00\",\"2021-07-14T00:00:00-04:00\",\"2021-07-15T00:00:00-04:00\",\"2021-07-16T00:00:00-04:00\",\"2021-07-19T00:00:00-04:00\",\"2021-07-20T00:00:00-04:00\",\"2021-07-21T00:00:00-04:00\",\"2021-07-22T00:00:00-04:00\",\"2021-07-23T00:00:00-04:00\",\"2021-07-26T00:00:00-04:00\",\"2021-07-27T00:00:00-04:00\",\"2021-07-28T00:00:00-04:00\",\"2021-07-29T00:00:00-04:00\",\"2021-07-30T00:00:00-04:00\",\"2021-08-02T00:00:00-04:00\",\"2021-08-03T00:00:00-04:00\",\"2021-08-04T00:00:00-04:00\",\"2021-08-05T00:00:00-04:00\",\"2021-08-06T00:00:00-04:00\",\"2021-08-09T00:00:00-04:00\",\"2021-08-10T00:00:00-04:00\",\"2021-08-11T00:00:00-04:00\",\"2021-08-12T00:00:00-04:00\",\"2021-08-13T00:00:00-04:00\",\"2021-08-16T00:00:00-04:00\",\"2021-08-17T00:00:00-04:00\",\"2021-08-18T00:00:00-04:00\",\"2021-08-19T00:00:00-04:00\",\"2021-08-20T00:00:00-04:00\",\"2021-08-23T00:00:00-04:00\",\"2021-08-24T00:00:00-04:00\",\"2021-08-25T00:00:00-04:00\",\"2021-08-26T00:00:00-04:00\",\"2021-08-27T00:00:00-04:00\",\"2021-08-30T00:00:00-04:00\",\"2021-08-31T00:00:00-04:00\",\"2021-09-01T00:00:00-04:00\",\"2021-09-02T00:00:00-04:00\",\"2021-09-03T00:00:00-04:00\",\"2021-09-07T00:00:00-04:00\",\"2021-09-08T00:00:00-04:00\",\"2021-09-09T00:00:00-04:00\",\"2021-09-10T00:00:00-04:00\",\"2021-09-13T00:00:00-04:00\",\"2021-09-14T00:00:00-04:00\",\"2021-09-15T00:00:00-04:00\",\"2021-09-16T00:00:00-04:00\",\"2021-09-17T00:00:00-04:00\",\"2021-09-20T00:00:00-04:00\",\"2021-09-21T00:00:00-04:00\",\"2021-09-22T00:00:00-04:00\",\"2021-09-23T00:00:00-04:00\",\"2021-09-24T00:00:00-04:00\",\"2021-09-27T00:00:00-04:00\",\"2021-09-28T00:00:00-04:00\",\"2021-09-29T00:00:00-04:00\",\"2021-09-30T00:00:00-04:00\",\"2021-10-01T00:00:00-04:00\",\"2021-10-04T00:00:00-04:00\",\"2021-10-05T00:00:00-04:00\",\"2021-10-06T00:00:00-04:00\",\"2021-10-07T00:00:00-04:00\",\"2021-10-08T00:00:00-04:00\",\"2021-10-11T00:00:00-04:00\",\"2021-10-12T00:00:00-04:00\",\"2021-10-13T00:00:00-04:00\",\"2021-10-14T00:00:00-04:00\",\"2021-10-15T00:00:00-04:00\",\"2021-10-18T00:00:00-04:00\",\"2021-10-19T00:00:00-04:00\",\"2021-10-20T00:00:00-04:00\",\"2021-10-21T00:00:00-04:00\",\"2021-10-22T00:00:00-04:00\",\"2021-10-25T00:00:00-04:00\",\"2021-10-26T00:00:00-04:00\",\"2021-10-27T00:00:00-04:00\",\"2021-10-28T00:00:00-04:00\",\"2021-10-29T00:00:00-04:00\",\"2021-11-01T00:00:00-04:00\",\"2021-11-02T00:00:00-04:00\",\"2021-11-03T00:00:00-04:00\",\"2021-11-04T00:00:00-04:00\",\"2021-11-05T00:00:00-04:00\",\"2021-11-08T00:00:00-05:00\",\"2021-11-09T00:00:00-05:00\",\"2021-11-10T00:00:00-05:00\",\"2021-11-11T00:00:00-05:00\",\"2021-11-12T00:00:00-05:00\",\"2021-11-15T00:00:00-05:00\",\"2021-11-16T00:00:00-05:00\",\"2021-11-17T00:00:00-05:00\",\"2021-11-18T00:00:00-05:00\",\"2021-11-19T00:00:00-05:00\",\"2021-11-22T00:00:00-05:00\",\"2021-11-23T00:00:00-05:00\",\"2021-11-24T00:00:00-05:00\",\"2021-11-26T00:00:00-05:00\",\"2021-11-29T00:00:00-05:00\",\"2021-11-30T00:00:00-05:00\",\"2021-12-01T00:00:00-05:00\",\"2021-12-02T00:00:00-05:00\",\"2021-12-03T00:00:00-05:00\",\"2021-12-06T00:00:00-05:00\",\"2021-12-07T00:00:00-05:00\",\"2021-12-08T00:00:00-05:00\",\"2021-12-09T00:00:00-05:00\",\"2021-12-10T00:00:00-05:00\",\"2021-12-13T00:00:00-05:00\",\"2021-12-14T00:00:00-05:00\",\"2021-12-15T00:00:00-05:00\",\"2021-12-16T00:00:00-05:00\",\"2021-12-17T00:00:00-05:00\",\"2021-12-20T00:00:00-05:00\",\"2021-12-21T00:00:00-05:00\",\"2021-12-22T00:00:00-05:00\",\"2021-12-23T00:00:00-05:00\",\"2021-12-27T00:00:00-05:00\",\"2021-12-28T00:00:00-05:00\",\"2021-12-29T00:00:00-05:00\",\"2021-12-30T00:00:00-05:00\",\"2021-12-31T00:00:00-05:00\",\"2022-01-03T00:00:00-05:00\",\"2022-01-04T00:00:00-05:00\",\"2022-01-05T00:00:00-05:00\",\"2022-01-06T00:00:00-05:00\",\"2022-01-07T00:00:00-05:00\",\"2022-01-10T00:00:00-05:00\",\"2022-01-11T00:00:00-05:00\",\"2022-01-12T00:00:00-05:00\",\"2022-01-13T00:00:00-05:00\",\"2022-01-14T00:00:00-05:00\",\"2022-01-18T00:00:00-05:00\",\"2022-01-19T00:00:00-05:00\",\"2022-01-20T00:00:00-05:00\",\"2022-01-21T00:00:00-05:00\",\"2022-01-24T00:00:00-05:00\",\"2022-01-25T00:00:00-05:00\",\"2022-01-26T00:00:00-05:00\",\"2022-01-27T00:00:00-05:00\",\"2022-01-28T00:00:00-05:00\",\"2022-01-31T00:00:00-05:00\",\"2022-02-01T00:00:00-05:00\",\"2022-02-02T00:00:00-05:00\",\"2022-02-03T00:00:00-05:00\",\"2022-02-04T00:00:00-05:00\",\"2022-02-07T00:00:00-05:00\",\"2022-02-08T00:00:00-05:00\",\"2022-02-09T00:00:00-05:00\",\"2022-02-10T00:00:00-05:00\",\"2022-02-11T00:00:00-05:00\",\"2022-02-14T00:00:00-05:00\",\"2022-02-15T00:00:00-05:00\",\"2022-02-16T00:00:00-05:00\",\"2022-02-17T00:00:00-05:00\",\"2022-02-18T00:00:00-05:00\",\"2022-02-22T00:00:00-05:00\",\"2022-02-23T00:00:00-05:00\",\"2022-02-24T00:00:00-05:00\",\"2022-02-25T00:00:00-05:00\",\"2022-02-28T00:00:00-05:00\",\"2022-03-01T00:00:00-05:00\",\"2022-03-02T00:00:00-05:00\",\"2022-03-03T00:00:00-05:00\",\"2022-03-04T00:00:00-05:00\",\"2022-03-07T00:00:00-05:00\",\"2022-03-08T00:00:00-05:00\",\"2022-03-09T00:00:00-05:00\",\"2022-03-10T00:00:00-05:00\",\"2022-03-11T00:00:00-05:00\",\"2022-03-14T00:00:00-04:00\",\"2022-03-15T00:00:00-04:00\",\"2022-03-16T00:00:00-04:00\",\"2022-03-17T00:00:00-04:00\",\"2022-03-18T00:00:00-04:00\",\"2022-03-21T00:00:00-04:00\",\"2022-03-22T00:00:00-04:00\",\"2022-03-23T00:00:00-04:00\",\"2022-03-24T00:00:00-04:00\",\"2022-03-25T00:00:00-04:00\",\"2022-03-28T00:00:00-04:00\",\"2022-03-29T00:00:00-04:00\",\"2022-03-30T00:00:00-04:00\",\"2022-03-31T00:00:00-04:00\",\"2022-04-01T00:00:00-04:00\",\"2022-04-04T00:00:00-04:00\",\"2022-04-05T00:00:00-04:00\",\"2022-04-06T00:00:00-04:00\",\"2022-04-07T00:00:00-04:00\",\"2022-04-08T00:00:00-04:00\",\"2022-04-11T00:00:00-04:00\",\"2022-04-12T00:00:00-04:00\",\"2022-04-13T00:00:00-04:00\",\"2022-04-14T00:00:00-04:00\",\"2022-04-18T00:00:00-04:00\",\"2022-04-19T00:00:00-04:00\",\"2022-04-20T00:00:00-04:00\",\"2022-04-21T00:00:00-04:00\",\"2022-04-22T00:00:00-04:00\",\"2022-04-25T00:00:00-04:00\",\"2022-04-26T00:00:00-04:00\",\"2022-04-27T00:00:00-04:00\",\"2022-04-28T00:00:00-04:00\",\"2022-04-29T00:00:00-04:00\",\"2022-05-02T00:00:00-04:00\",\"2022-05-03T00:00:00-04:00\",\"2022-05-04T00:00:00-04:00\",\"2022-05-05T00:00:00-04:00\",\"2022-05-06T00:00:00-04:00\",\"2022-05-09T00:00:00-04:00\",\"2022-05-10T00:00:00-04:00\",\"2022-05-11T00:00:00-04:00\",\"2022-05-12T00:00:00-04:00\",\"2022-05-13T00:00:00-04:00\",\"2022-05-16T00:00:00-04:00\",\"2022-05-17T00:00:00-04:00\",\"2022-05-18T00:00:00-04:00\",\"2022-05-19T00:00:00-04:00\",\"2022-05-20T00:00:00-04:00\",\"2022-05-23T00:00:00-04:00\",\"2022-05-24T00:00:00-04:00\",\"2022-05-25T00:00:00-04:00\",\"2022-05-26T00:00:00-04:00\",\"2022-05-27T00:00:00-04:00\",\"2022-05-31T00:00:00-04:00\",\"2022-06-01T00:00:00-04:00\",\"2022-06-02T00:00:00-04:00\",\"2022-06-03T00:00:00-04:00\",\"2022-06-06T00:00:00-04:00\",\"2022-06-07T00:00:00-04:00\",\"2022-06-08T00:00:00-04:00\",\"2022-06-09T00:00:00-04:00\",\"2022-06-10T00:00:00-04:00\",\"2022-06-13T00:00:00-04:00\",\"2022-06-14T00:00:00-04:00\",\"2022-06-15T00:00:00-04:00\",\"2022-06-16T00:00:00-04:00\",\"2022-06-17T00:00:00-04:00\",\"2022-06-21T00:00:00-04:00\",\"2022-06-22T00:00:00-04:00\",\"2022-06-23T00:00:00-04:00\",\"2022-06-24T00:00:00-04:00\",\"2022-06-27T00:00:00-04:00\",\"2022-06-28T00:00:00-04:00\",\"2022-06-29T00:00:00-04:00\",\"2022-06-30T00:00:00-04:00\",\"2022-07-01T00:00:00-04:00\",\"2022-07-05T00:00:00-04:00\",\"2022-07-06T00:00:00-04:00\",\"2022-07-07T00:00:00-04:00\",\"2022-07-08T00:00:00-04:00\",\"2022-07-11T00:00:00-04:00\",\"2022-07-12T00:00:00-04:00\",\"2022-07-13T00:00:00-04:00\",\"2022-07-14T00:00:00-04:00\",\"2022-07-15T00:00:00-04:00\",\"2022-07-18T00:00:00-04:00\",\"2022-07-19T00:00:00-04:00\",\"2022-07-20T00:00:00-04:00\",\"2022-07-21T00:00:00-04:00\",\"2022-07-22T00:00:00-04:00\",\"2022-07-25T00:00:00-04:00\",\"2022-07-26T00:00:00-04:00\",\"2022-07-27T00:00:00-04:00\",\"2022-07-28T00:00:00-04:00\",\"2022-07-29T00:00:00-04:00\",\"2022-08-01T00:00:00-04:00\",\"2022-08-02T00:00:00-04:00\",\"2022-08-03T00:00:00-04:00\",\"2022-08-04T00:00:00-04:00\",\"2022-08-05T00:00:00-04:00\",\"2022-08-08T00:00:00-04:00\",\"2022-08-09T00:00:00-04:00\",\"2022-08-10T00:00:00-04:00\",\"2022-08-11T00:00:00-04:00\",\"2022-08-12T00:00:00-04:00\",\"2022-08-15T00:00:00-04:00\",\"2022-08-16T00:00:00-04:00\",\"2022-08-17T00:00:00-04:00\",\"2022-08-18T00:00:00-04:00\",\"2022-08-19T00:00:00-04:00\",\"2022-08-22T00:00:00-04:00\",\"2022-08-23T00:00:00-04:00\",\"2022-08-24T00:00:00-04:00\",\"2022-08-25T00:00:00-04:00\",\"2022-08-26T00:00:00-04:00\",\"2022-08-29T00:00:00-04:00\",\"2022-08-30T00:00:00-04:00\",\"2022-08-31T00:00:00-04:00\",\"2022-09-01T00:00:00-04:00\",\"2022-09-02T00:00:00-04:00\",\"2022-09-06T00:00:00-04:00\",\"2022-09-07T00:00:00-04:00\",\"2022-09-08T00:00:00-04:00\",\"2022-09-09T00:00:00-04:00\",\"2022-09-12T00:00:00-04:00\",\"2022-09-13T00:00:00-04:00\",\"2022-09-14T00:00:00-04:00\",\"2022-09-15T00:00:00-04:00\",\"2022-09-16T00:00:00-04:00\",\"2022-09-19T00:00:00-04:00\",\"2022-09-20T00:00:00-04:00\",\"2022-09-21T00:00:00-04:00\",\"2022-09-22T00:00:00-04:00\",\"2022-09-23T00:00:00-04:00\",\"2022-09-26T00:00:00-04:00\",\"2022-09-27T00:00:00-04:00\",\"2022-09-28T00:00:00-04:00\",\"2022-09-29T00:00:00-04:00\",\"2022-09-30T00:00:00-04:00\",\"2022-10-03T00:00:00-04:00\",\"2022-10-04T00:00:00-04:00\",\"2022-10-05T00:00:00-04:00\",\"2022-10-06T00:00:00-04:00\",\"2022-10-07T00:00:00-04:00\",\"2022-10-10T00:00:00-04:00\",\"2022-10-11T00:00:00-04:00\",\"2022-10-12T00:00:00-04:00\",\"2022-10-13T00:00:00-04:00\",\"2022-10-14T00:00:00-04:00\",\"2022-10-17T00:00:00-04:00\",\"2022-10-18T00:00:00-04:00\",\"2022-10-19T00:00:00-04:00\",\"2022-10-20T00:00:00-04:00\",\"2022-10-21T00:00:00-04:00\",\"2022-10-24T00:00:00-04:00\",\"2022-10-25T00:00:00-04:00\",\"2022-10-26T00:00:00-04:00\",\"2022-10-27T00:00:00-04:00\",\"2022-10-28T00:00:00-04:00\",\"2022-10-31T00:00:00-04:00\",\"2022-11-01T00:00:00-04:00\",\"2022-11-02T00:00:00-04:00\",\"2022-11-03T00:00:00-04:00\",\"2022-11-04T00:00:00-04:00\",\"2022-11-07T00:00:00-05:00\",\"2022-11-08T00:00:00-05:00\",\"2022-11-09T00:00:00-05:00\",\"2022-11-10T00:00:00-05:00\",\"2022-11-11T00:00:00-05:00\",\"2022-11-14T00:00:00-05:00\",\"2022-11-15T00:00:00-05:00\",\"2022-11-16T00:00:00-05:00\",\"2022-11-17T00:00:00-05:00\",\"2022-11-18T00:00:00-05:00\",\"2022-11-21T00:00:00-05:00\",\"2022-11-22T00:00:00-05:00\",\"2022-11-23T00:00:00-05:00\",\"2022-11-25T00:00:00-05:00\",\"2022-11-28T00:00:00-05:00\",\"2022-11-29T00:00:00-05:00\",\"2022-11-30T00:00:00-05:00\",\"2022-12-01T00:00:00-05:00\",\"2022-12-02T00:00:00-05:00\",\"2022-12-05T00:00:00-05:00\",\"2022-12-06T00:00:00-05:00\",\"2022-12-07T00:00:00-05:00\"],\"type\":\"candlestick\"}],                        {\"template\":{\"data\":{\"bar\":[{\"error_x\":{\"color\":\"#2a3f5f\"},\"error_y\":{\"color\":\"#2a3f5f\"},\"marker\":{\"line\":{\"color\":\"#E5ECF6\",\"width\":0.5},\"pattern\":{\"fillmode\":\"overlay\",\"size\":10,\"solidity\":0.2}},\"type\":\"bar\"}],\"barpolar\":[{\"marker\":{\"line\":{\"color\":\"#E5ECF6\",\"width\":0.5},\"pattern\":{\"fillmode\":\"overlay\",\"size\":10,\"solidity\":0.2}},\"type\":\"barpolar\"}],\"carpet\":[{\"aaxis\":{\"endlinecolor\":\"#2a3f5f\",\"gridcolor\":\"white\",\"linecolor\":\"white\",\"minorgridcolor\":\"white\",\"startlinecolor\":\"#2a3f5f\"},\"baxis\":{\"endlinecolor\":\"#2a3f5f\",\"gridcolor\":\"white\",\"linecolor\":\"white\",\"minorgridcolor\":\"white\",\"startlinecolor\":\"#2a3f5f\"},\"type\":\"carpet\"}],\"choropleth\":[{\"colorbar\":{\"outlinewidth\":0,\"ticks\":\"\"},\"type\":\"choropleth\"}],\"contour\":[{\"colorbar\":{\"outlinewidth\":0,\"ticks\":\"\"},\"colorscale\":[[0.0,\"#0d0887\"],[0.1111111111111111,\"#46039f\"],[0.2222222222222222,\"#7201a8\"],[0.3333333333333333,\"#9c179e\"],[0.4444444444444444,\"#bd3786\"],[0.5555555555555556,\"#d8576b\"],[0.6666666666666666,\"#ed7953\"],[0.7777777777777778,\"#fb9f3a\"],[0.8888888888888888,\"#fdca26\"],[1.0,\"#f0f921\"]],\"type\":\"contour\"}],\"contourcarpet\":[{\"colorbar\":{\"outlinewidth\":0,\"ticks\":\"\"},\"type\":\"contourcarpet\"}],\"heatmap\":[{\"colorbar\":{\"outlinewidth\":0,\"ticks\":\"\"},\"colorscale\":[[0.0,\"#0d0887\"],[0.1111111111111111,\"#46039f\"],[0.2222222222222222,\"#7201a8\"],[0.3333333333333333,\"#9c179e\"],[0.4444444444444444,\"#bd3786\"],[0.5555555555555556,\"#d8576b\"],[0.6666666666666666,\"#ed7953\"],[0.7777777777777778,\"#fb9f3a\"],[0.8888888888888888,\"#fdca26\"],[1.0,\"#f0f921\"]],\"type\":\"heatmap\"}],\"heatmapgl\":[{\"colorbar\":{\"outlinewidth\":0,\"ticks\":\"\"},\"colorscale\":[[0.0,\"#0d0887\"],[0.1111111111111111,\"#46039f\"],[0.2222222222222222,\"#7201a8\"],[0.3333333333333333,\"#9c179e\"],[0.4444444444444444,\"#bd3786\"],[0.5555555555555556,\"#d8576b\"],[0.6666666666666666,\"#ed7953\"],[0.7777777777777778,\"#fb9f3a\"],[0.8888888888888888,\"#fdca26\"],[1.0,\"#f0f921\"]],\"type\":\"heatmapgl\"}],\"histogram\":[{\"marker\":{\"pattern\":{\"fillmode\":\"overlay\",\"size\":10,\"solidity\":0.2}},\"type\":\"histogram\"}],\"histogram2d\":[{\"colorbar\":{\"outlinewidth\":0,\"ticks\":\"\"},\"colorscale\":[[0.0,\"#0d0887\"],[0.1111111111111111,\"#46039f\"],[0.2222222222222222,\"#7201a8\"],[0.3333333333333333,\"#9c179e\"],[0.4444444444444444,\"#bd3786\"],[0.5555555555555556,\"#d8576b\"],[0.6666666666666666,\"#ed7953\"],[0.7777777777777778,\"#fb9f3a\"],[0.8888888888888888,\"#fdca26\"],[1.0,\"#f0f921\"]],\"type\":\"histogram2d\"}],\"histogram2dcontour\":[{\"colorbar\":{\"outlinewidth\":0,\"ticks\":\"\"},\"colorscale\":[[0.0,\"#0d0887\"],[0.1111111111111111,\"#46039f\"],[0.2222222222222222,\"#7201a8\"],[0.3333333333333333,\"#9c179e\"],[0.4444444444444444,\"#bd3786\"],[0.5555555555555556,\"#d8576b\"],[0.6666666666666666,\"#ed7953\"],[0.7777777777777778,\"#fb9f3a\"],[0.8888888888888888,\"#fdca26\"],[1.0,\"#f0f921\"]],\"type\":\"histogram2dcontour\"}],\"mesh3d\":[{\"colorbar\":{\"outlinewidth\":0,\"ticks\":\"\"},\"type\":\"mesh3d\"}],\"parcoords\":[{\"line\":{\"colorbar\":{\"outlinewidth\":0,\"ticks\":\"\"}},\"type\":\"parcoords\"}],\"pie\":[{\"automargin\":true,\"type\":\"pie\"}],\"scatter\":[{\"marker\":{\"colorbar\":{\"outlinewidth\":0,\"ticks\":\"\"}},\"type\":\"scatter\"}],\"scatter3d\":[{\"line\":{\"colorbar\":{\"outlinewidth\":0,\"ticks\":\"\"}},\"marker\":{\"colorbar\":{\"outlinewidth\":0,\"ticks\":\"\"}},\"type\":\"scatter3d\"}],\"scattercarpet\":[{\"marker\":{\"colorbar\":{\"outlinewidth\":0,\"ticks\":\"\"}},\"type\":\"scattercarpet\"}],\"scattergeo\":[{\"marker\":{\"colorbar\":{\"outlinewidth\":0,\"ticks\":\"\"}},\"type\":\"scattergeo\"}],\"scattergl\":[{\"marker\":{\"colorbar\":{\"outlinewidth\":0,\"ticks\":\"\"}},\"type\":\"scattergl\"}],\"scattermapbox\":[{\"marker\":{\"colorbar\":{\"outlinewidth\":0,\"ticks\":\"\"}},\"type\":\"scattermapbox\"}],\"scatterpolar\":[{\"marker\":{\"colorbar\":{\"outlinewidth\":0,\"ticks\":\"\"}},\"type\":\"scatterpolar\"}],\"scatterpolargl\":[{\"marker\":{\"colorbar\":{\"outlinewidth\":0,\"ticks\":\"\"}},\"type\":\"scatterpolargl\"}],\"scatterternary\":[{\"marker\":{\"colorbar\":{\"outlinewidth\":0,\"ticks\":\"\"}},\"type\":\"scatterternary\"}],\"surface\":[{\"colorbar\":{\"outlinewidth\":0,\"ticks\":\"\"},\"colorscale\":[[0.0,\"#0d0887\"],[0.1111111111111111,\"#46039f\"],[0.2222222222222222,\"#7201a8\"],[0.3333333333333333,\"#9c179e\"],[0.4444444444444444,\"#bd3786\"],[0.5555555555555556,\"#d8576b\"],[0.6666666666666666,\"#ed7953\"],[0.7777777777777778,\"#fb9f3a\"],[0.8888888888888888,\"#fdca26\"],[1.0,\"#f0f921\"]],\"type\":\"surface\"}],\"table\":[{\"cells\":{\"fill\":{\"color\":\"#EBF0F8\"},\"line\":{\"color\":\"white\"}},\"header\":{\"fill\":{\"color\":\"#C8D4E3\"},\"line\":{\"color\":\"white\"}},\"type\":\"table\"}]},\"layout\":{\"annotationdefaults\":{\"arrowcolor\":\"#2a3f5f\",\"arrowhead\":0,\"arrowwidth\":1},\"autotypenumbers\":\"strict\",\"coloraxis\":{\"colorbar\":{\"outlinewidth\":0,\"ticks\":\"\"}},\"colorscale\":{\"diverging\":[[0,\"#8e0152\"],[0.1,\"#c51b7d\"],[0.2,\"#de77ae\"],[0.3,\"#f1b6da\"],[0.4,\"#fde0ef\"],[0.5,\"#f7f7f7\"],[0.6,\"#e6f5d0\"],[0.7,\"#b8e186\"],[0.8,\"#7fbc41\"],[0.9,\"#4d9221\"],[1,\"#276419\"]],\"sequential\":[[0.0,\"#0d0887\"],[0.1111111111111111,\"#46039f\"],[0.2222222222222222,\"#7201a8\"],[0.3333333333333333,\"#9c179e\"],[0.4444444444444444,\"#bd3786\"],[0.5555555555555556,\"#d8576b\"],[0.6666666666666666,\"#ed7953\"],[0.7777777777777778,\"#fb9f3a\"],[0.8888888888888888,\"#fdca26\"],[1.0,\"#f0f921\"]],\"sequentialminus\":[[0.0,\"#0d0887\"],[0.1111111111111111,\"#46039f\"],[0.2222222222222222,\"#7201a8\"],[0.3333333333333333,\"#9c179e\"],[0.4444444444444444,\"#bd3786\"],[0.5555555555555556,\"#d8576b\"],[0.6666666666666666,\"#ed7953\"],[0.7777777777777778,\"#fb9f3a\"],[0.8888888888888888,\"#fdca26\"],[1.0,\"#f0f921\"]]},\"colorway\":[\"#636efa\",\"#EF553B\",\"#00cc96\",\"#ab63fa\",\"#FFA15A\",\"#19d3f3\",\"#FF6692\",\"#B6E880\",\"#FF97FF\",\"#FECB52\"],\"font\":{\"color\":\"#2a3f5f\"},\"geo\":{\"bgcolor\":\"white\",\"lakecolor\":\"white\",\"landcolor\":\"#E5ECF6\",\"showlakes\":true,\"showland\":true,\"subunitcolor\":\"white\"},\"hoverlabel\":{\"align\":\"left\"},\"hovermode\":\"closest\",\"mapbox\":{\"style\":\"light\"},\"paper_bgcolor\":\"white\",\"plot_bgcolor\":\"#E5ECF6\",\"polar\":{\"angularaxis\":{\"gridcolor\":\"white\",\"linecolor\":\"white\",\"ticks\":\"\"},\"bgcolor\":\"#E5ECF6\",\"radialaxis\":{\"gridcolor\":\"white\",\"linecolor\":\"white\",\"ticks\":\"\"}},\"scene\":{\"xaxis\":{\"backgroundcolor\":\"#E5ECF6\",\"gridcolor\":\"white\",\"gridwidth\":2,\"linecolor\":\"white\",\"showbackground\":true,\"ticks\":\"\",\"zerolinecolor\":\"white\"},\"yaxis\":{\"backgroundcolor\":\"#E5ECF6\",\"gridcolor\":\"white\",\"gridwidth\":2,\"linecolor\":\"white\",\"showbackground\":true,\"ticks\":\"\",\"zerolinecolor\":\"white\"},\"zaxis\":{\"backgroundcolor\":\"#E5ECF6\",\"gridcolor\":\"white\",\"gridwidth\":2,\"linecolor\":\"white\",\"showbackground\":true,\"ticks\":\"\",\"zerolinecolor\":\"white\"}},\"shapedefaults\":{\"line\":{\"color\":\"#2a3f5f\"}},\"ternary\":{\"aaxis\":{\"gridcolor\":\"white\",\"linecolor\":\"white\",\"ticks\":\"\"},\"baxis\":{\"gridcolor\":\"white\",\"linecolor\":\"white\",\"ticks\":\"\"},\"bgcolor\":\"#E5ECF6\",\"caxis\":{\"gridcolor\":\"white\",\"linecolor\":\"white\",\"ticks\":\"\"}},\"title\":{\"x\":0.05},\"xaxis\":{\"automargin\":true,\"gridcolor\":\"white\",\"linecolor\":\"white\",\"ticks\":\"\",\"title\":{\"standoff\":15},\"zerolinecolor\":\"white\",\"zerolinewidth\":2},\"yaxis\":{\"automargin\":true,\"gridcolor\":\"white\",\"linecolor\":\"white\",\"ticks\":\"\",\"title\":{\"standoff\":15},\"zerolinecolor\":\"white\",\"zerolinewidth\":2}}},\"margin\":{\"l\":20,\"r\":20,\"t\":60,\"b\":20},\"height\":350,\"paper_bgcolor\":\"LightSteelBlue\",\"title\":{\"text\":\"MSFT\"}},                        {\"responsive\": true}                    ).then(function(){\n",
              "                            \n",
              "var gd = document.getElementById('d3d08821-3f80-47b7-bbd0-dc32cdd57bb0');\n",
              "var x = new MutationObserver(function (mutations, observer) {{\n",
              "        var display = window.getComputedStyle(gd).display;\n",
              "        if (!display || display === 'none') {{\n",
              "            console.log([gd, 'removed!']);\n",
              "            Plotly.purge(gd);\n",
              "            observer.disconnect();\n",
              "        }}\n",
              "}});\n",
              "\n",
              "// Listen for the removal of the full notebook cells\n",
              "var notebookContainer = gd.closest('#notebook-container');\n",
              "if (notebookContainer) {{\n",
              "    x.observe(notebookContainer, {childList: true});\n",
              "}}\n",
              "\n",
              "// Listen for the clearing of the current output cell\n",
              "var outputEl = gd.closest('.output');\n",
              "if (outputEl) {{\n",
              "    x.observe(outputEl, {childList: true});\n",
              "}}\n",
              "\n",
              "                        })                };                            </script>        </div>\n",
              "</body>\n",
              "</html>"
            ]
          },
          "metadata": {},
          "output_type": "display_data"
        },
        {
          "data": {
            "text/html": [
              "<html>\n",
              "<head><meta charset=\"utf-8\" /></head>\n",
              "<body>\n",
              "    <div>            <script src=\"https://cdnjs.cloudflare.com/ajax/libs/mathjax/2.7.5/MathJax.js?config=TeX-AMS-MML_SVG\"></script><script type=\"text/javascript\">if (window.MathJax) {MathJax.Hub.Config({SVG: {font: \"STIX-Web\"}});}</script>                <script type=\"text/javascript\">window.PlotlyConfig = {MathJaxConfig: 'local'};</script>\n",
              "        <script src=\"https://cdn.plot.ly/plotly-2.8.3.min.js\"></script>                <div id=\"e7312ee6-ed0a-4821-83d6-f190a14b274c\" class=\"plotly-graph-div\" style=\"height:350px; width:100%;\"></div>            <script type=\"text/javascript\">                                    window.PLOTLYENV=window.PLOTLYENV || {};                                    if (document.getElementById(\"e7312ee6-ed0a-4821-83d6-f190a14b274c\")) {                    Plotly.newPlot(                        \"e7312ee6-ed0a-4821-83d6-f190a14b274c\",                        [{\"close\":[201.33999633789062,200.8699951171875,202.25999450683594,196.75,194.11000061035156,197.9199981689453,198.38999938964844,202.5,206.05999755859375,206.3000030517578,206.17999267578125,205.1199951171875,207.7899932861328,208.10000610351562,204.41000366210938,205.25,209.77999877929688,208.6699981689453,212.60000610351562,213.05999755859375,215.22000122070312,218.3000030517578,218.05999755859375,221.91000366210938,219.05999755859375,221.14999389648438,221.77000427246094,222.13999938964844,221.44000244140625,221.32000732421875,219.75999450683594,217.94000244140625,214.8699951171875,217.7899932861328,223.22999572753906,209.52999877929688,201.91000366210938,204.19000244140625,209.8300018310547,210.11000061035156,210.85000610351562,212.3300018310547,213.05999755859375,207.19000244140625,210.75999450683594,213.13999938964844,214.17999267578125,217.8000030517578,217.49000549316406,214.5800018310547,210.17999267578125,200.72000122070312,196.77000427246094,197.1999969482422,189.75,192.47000122070312,196.44000244140625,185.88999938964844,191.75999450683594,185.1699981689453,181.08999633789062,169.5,178.19000244140625,170.24000549316406,154.47000122070312,170.27999877929688,146.00999450683594,149.4199981689453,146.9600067138672,153.1300048828125,149.72999572753906,148.10000610351562,160.97999572753906,156.2100067138672,163.33999633789062,156.7899932861328,165.9499969482422,166.8000030517578,159.60000610351562,158.19000244140625,154.17999267578125,165.5500030517578,168.8300018310547,174.27999877929688,175.19000244140625,174.7899932861328,178.1699981689453,176.97000122070312,176.25,179.24000549316406,178.24000549316406,170.8000030517578,182.27999877929688,185.1300048828125,190.07000732421875,187.5,182.91000366210938,194.19000244140625,204.7100067138672,202.27000427246094,205.25999450683594,207.07000732421875,208.47000122070312,211.25999450683594,212.35000610351562,213.17999267578125,210.10000610351562,205.10000610351562,206.80999755859375,210.8800048828125,213.19000244140625,216.8800048828125,229.97000122070312,231.38999938964844,234.91000366210938,232.1999969482422,229.13999938964844,225.4600067138672,225.08999633789062,231.91000366210938,232.72000122070312,230.16000366210938,226.2899932861328,230.77000427246094,231.39999389648438,238.6699981689453,236.72999572753906,224.42999267578125,228.5800018310547,232.5,235.64999389648438,235.52999877929688,235.94000244140625,238.7899932861328,239.22000122070312,242.24000549316406,234.02000427246094,235.67999267578125,216.0800018310547,220.63999938964844,227.07000732421875,237.5500030517578,233.4199981689453,240.27999877929688,240.86000061035156,243.5800018310547,244.5,245.07000732421875,239.0,239.72999572753906,240.27999877929688,240.92999267578125,242.02999877929688,245.4199981689453,241.75,239.8699951171875,232.60000610351562,230.7100067138672,233.5,230.1199951171875,233.2899932861328,234.5,253.6699981689453,251.9600067138672,249.8300018310547,249.1199951171875,265.2799987792969,268.44000244140625,263.0,256.1300048828125,259.8900146484375,261.29998779296875,261.239990234375,261.1600036621094,262.3399963378906,262.5899963378906,269.010009765625,267.010009765625,271.3900146484375,280.82000732421875,303.9100036621094,293.2200012207031,293.6600036621094,293.20001220703125,295.44000244140625,302.5,291.1199951171875,282.7300109863281,271.1600036621094,273.7200012207031,268.0899963378906,266.6099853515625,266.1499938964844,272.4200134277344,263.5199890136719,254.82000732421875,252.52999877929688,248.14999389648438,254.75,249.02000427246094,249.52999877929688,254.82000732421875,256.82000732421875,261.7900085449219,261.8999938964844,266.6300048828125,259.94000244140625,264.6499938964844,258.6600036621094,258.1199951171875,263.760009765625,264.45001220703125,275.75,276.1400146484375,271.82000732421875,266.7200012207031,265.92999267578125,261.3999938964844,267.55999755859375,278.7300109863281,278.1199951171875,284.7900085449219,277.1099853515625,283.2900085449219,267.6700134277344,280.8299865722656,263.1099853515625,261.3599853515625,265.29998779296875,287.3800048828125,294.67999267578125,293.4100036621094,278.7699890136719,272.42999267578125,276.4800109863281,275.0799865722656,276.95001220703125,278.9599914550781,275.0,271.9700012207031,272.94000244140625,269.70001220703125,268.42999267578125,276.9200134277344,275.5899963378906,277.80999755859375,276.9700012207031,286.54998779296875,287.5199890136719,281.8500061035156,279.70001220703125,285.5799865722656,283.3999938964844,277.9200134277344,277.1199951171875,273.54998779296875,274.19000244140625,275.54998779296875,275.6700134277344,274.4800109863281,276.3999938964844,272.7900085449219,267.0899963378906,268.1099853515625,267.3999938964844,277.0,276.7799987792969,271.8699951171875,273.1600036621094,268.94000244140625,270.9700012207031,263.30999755859375,268.739990234375,267.57000732421875,256.8399963378906,251.08999633789062,251.63999938964844,245.63999938964844,251.36000061035156,261.1000061035156,267.4800109863281,272.8699951171875,274.5,278.010009765625,282.04998779296875,272.1400146484375,265.0,258.3299865722656,262.010009765625,267.0799865722656,266.6499938964844,266.489990234375,268.1000061035156,266.5799865722656,269.45001220703125,271.8699951171875,270.3900146484375,270.5,273.9700012207031,273.57000732421875,269.3900146484375,261.55999755859375,260.3299865722656,265.8599853515625,264.30999755859375,254.69000244140625,257.6199951171875,264.9100036621094,259.0,255.41000366210938,257.6400146484375,264.2799987792969,255.30999755859375,265.739990234375,264.8999938964844,273.8800048828125,268.3999938964844,273.75,279.2799987792969,284.010009765625,278.6199951171875,290.1099853515625,293.5400085449219,290.6300048828125,282.1400146484375,278.739990234375,283.0199890136719,290.82000732421875,288.0,294.5299987792969,298.6600036621094,308.9100036621094,306.260009765625,313.0899963378906,313.0199890136719,312.4599914550781,311.5400085449219,309.760009765625,302.82000732421875,307.82000732421875,306.17999267578125,302.239990234375,302.6499938964844,301.4700012207031,296.5199890136719,301.1300048828125,303.0400085449219,303.57000732421875,307.1000061035156,329.510009765625,325.0799865722656,322.5799865722656,318.3599853515625,315.0199890136719,320.0199890136719,319.0799865722656,305.9700012207031,306.5299987792969,302.54998779296875,305.260009765625,315.94000244140625,315.4599914550781,309.9599914550781,313.5899963378906,318.6099853515625,316.2300109863281,324.6300048828125,327.7900085449219,327.6600036621094,332.75,328.7300109863281,329.1300048828125,329.1499938964844,326.0400085449219,330.3500061035156,336.5799865722656,333.67999267578125,330.25,332.4599914550781,331.260009765625,336.7699890136719,336.75,331.0799865722656,336.510009765625,329.6600036621094,332.2900085449219,339.0299987792969,340.5899963378906,343.17999267578125,341.3699951171875,355.6400146484375,351.8900146484375,347.7099914550781,354.3900146484375,354.70001220703125,352.7799987792969,350.489990234375,345.6499938964844,350.4200134277344,353.1600036621094,352.0899963378906,347.6300048828125,344.4599914550781,341.1600036621094,336.95001220703125,341.6600036621094,346.2300109863281,351.19000244140625,369.7900085449219,372.4599914550781,367.80999755859375,373.2799987792969,358.32000732421875,356.29998779296875,351.95001220703125,351.239990234375,358.9200134277344,362.9700012207031,363.510009765625,361.6099853515625,361.1300048828125,359.9599914550781,362.6499938964844,363.17999267578125,366.55999755859375,358.45001220703125,355.45001220703125,355.1199951171875,359.3699951171875,363.3500061035156,365.510009765625,368.3900146484375,364.3800048828125,372.6300048828125,380.6600036621094,379.3800048828125,382.04998779296875,375.2799987792969,376.260009765625,382.17999267578125,377.57000732421875,378.0,378.69000244140625,376.510009765625,376.5299987792969,373.9200134277344,373.05999755859375,364.7200012207031,355.70001220703125,357.4800109863281,343.2099914550781,345.9599914550781,352.9599914550781,353.5799865722656,340.6499938964844,339.6099853515625,339.3900146484375,343.010009765625,326.2300109863281,332.9599914550781,333.6400146484375,329.2200012207031,330.04998779296875,325.45001220703125,323.7699890136719,324.5400085449219,328.5299987792969,324.760009765625,335.3399963378906,339.989990234375,340.7799987792969,341.8800048828125,324.6099853515625,328.69000244140625,315.80999755859375,312.2200012207031,316.9200134277344,323.57000732421875,329.9800109863281,328.0799865722656,331.6199951171875,335.8500061035156,341.1300048828125,338.6199951171875,335.3699951171875,327.6400146484375,327.739990234375,340.8900146484375,347.55999755859375,342.9599914550781,340.7699890136719,338.69000244140625,345.29998779296875,341.010009765625,337.25,341.05999755859375,333.1199951171875,338.0299987792969,324.4599914550781,310.6000061035156,310.3900146484375,306.8399963378906,317.8699951171875,322.80999755859375,330.55999755859375,329.82000732421875,329.75,334.489990234375,333.739990234375,341.6600036621094,334.8999938964844,333.7900085449219,325.45001220703125,334.20001220703125,330.45001220703125,335.239990234375,346.17999267578125,346.2200012207031,342.94000244140625,344.3599853515625,336.3500061035156,338.5400085449219,336.5299987792969,324.1700134277344,332.4599914550781,331.7900085449219,328.07000732421875,334.3699951171875,333.260009765625,326.4800109863281,331.8999938964844,318.1499938964844,319.5899963378906,316.55999755859375,303.1700134277344,308.7099914550781,300.1499938964844,294.6300048828125,294.6400146484375,301.7099914550781,313.260009765625,319.0,323.0,237.75999450683594,237.08999633789062,224.91000366210938,220.17999267578125,232.0,228.07000732421875,219.5500030517578,217.6999969482422,221.0,216.5399932861328,207.7100067138672,206.16000366210938,202.0800018310547,198.4499969482422,207.60000610351562,210.47999572753906,211.02999877929688,203.49000549316406,208.11000061035156,202.97000122070312,200.05999755859375,187.47000122070312,190.2899932861328,198.5,195.2100067138672,187.61000061035156,186.6300048828125,192.02999877929688,203.6300048828125,207.83999633789062,216.49000549316406,211.49000549316406,216.64999389648438,213.4600067138672,219.57000732421875,221.82000732421875,223.58999633789062,229.86000061035156,227.85000610351562,222.36000061035156,224.85000610351562,233.88999938964844,231.83999633789062,223.3000030517578,222.9499969482422,222.3300018310547,216.4600067138672,214.13999938964844,214.99000549316406,210.17999267578125,210.77000427246094,217.30999755859375,200.4199981689453,188.07000732421875,184.11000061035156,186.99000549316406,180.9499969482422,174.9499969482422,205.72999572753906,200.47000122070312,211.1300048828125,212.02999877929688,223.41000366210938,208.27999877929688,203.77000427246094,196.2100067138672,197.64999389648438,188.74000549316406,191.24000549316406,198.6199951171875,200.0399932861328,202.6199951171875,192.24000549316406,191.2899932861328,193.5399932861328,196.22999572753906,181.27999877929688,183.8300018310547,191.6300048828125,195.1300048828125,193.63999938964844,188.63999938964844,198.86000061035156,190.77999877929688,194.25,195.64999389648438,196.63999938964844,184.0,175.57000732421875,164.25999450683594,163.72999572753906,169.35000610351562,160.8699951171875,163.74000549316406,157.0500030517578,155.85000610351562,158.75,170.16000366210938,169.49000549316406,160.67999267578125,163.94000244140625,161.25,160.02999877929688,168.19000244140625,169.77000427246094,172.19000244140625,170.8800048828125,162.8800048828125,163.27000427246094,163.49000549316406,158.0500030517578,164.6999969482422,167.22999572753906,175.77999877929688,183.08999633789062,183.1699981689453,169.27000427246094,166.64999389648438,159.14999389648438,169.5800018310547,160.72000122070312,159.10000610351562,159.92999267578125,160.19000244140625,168.8000030517578,170.57000732421875,167.11000061035156,170.25,168.52999877929688,178.33999633789062,177.49000549316406,180.5,180.88999938964844,179.47000122070312,174.85000610351562,174.66000366210938,167.9600067138672,163.0500030517578,161.11000061035156,163.25999450683594,168.77999877929688,161.77999877929688,159.1699981689453,157.16000366210938,162.92999267578125,165.36000061035156,160.32000732421875,158.5399932861328,160.38999938964844,162.05999755859375,169.14999389648438,168.9600067138672,153.1300048828125,151.47000122070312,149.5500030517578,146.2899932861328,148.02000427246094,146.08999633789062,142.1199951171875,142.82000732421875,140.41000366210938,136.3699951171875,134.39999389648438,141.61000061035156,136.41000366210938,135.67999267578125,138.61000061035156,140.27999877929688,138.97999572753906,139.07000732421875,133.4499969482422,133.7899932861328,128.5399932861328,127.5,130.2899932861328,126.76000213623047,134.0399932861328,132.8000030517578,133.22999572753906,131.52999877929688,130.00999450683594,129.72000122070312,137.50999450683594,129.82000732421875,97.94000244140625,99.19999694824219,93.16000366210938,95.19999694824219,90.54000091552734,88.91000366210938,90.79000091552734,96.72000122070312,96.47000122070312,101.47000122070312,111.87000274658203,113.0199966430664,114.22000122070312,117.08000183105469,113.2300033569336,111.44999694824219,112.05000305175781,109.86000061035156,111.44000244140625,112.23999786376953,111.41000366210938,108.77999877929688,109.45999908447266,118.0999984741211,120.44000244140625,123.48999786376953,122.43000030517578,114.12000274658203,113.93000030517578],\"high\":[203.13999938964844,202.0500030517578,202.6300048828125,203.66000366210938,196.8000030517578,199.1199951171875,199.0,204.3000030517578,206.3000030517578,207.7100067138672,208.58999633789062,206.7899932861328,207.82000732421875,208.92999267578125,207.89999389648438,205.55999755859375,209.7899932861328,210.39999389648438,212.77999877929688,214.5800018310547,216.24000549316406,218.3800048828125,219.8800048828125,221.97000122070312,222.3800048828125,221.67999267578125,222.6300048828125,222.2899932861328,222.3699951171875,222.75,221.49000549316406,221.77999877929688,216.05999755859375,218.74000549316406,224.1999969482422,211.42999267578125,208.69000244140625,205.13999938964844,210.60000610351562,212.72999572753906,211.19000244140625,212.82000732421875,213.8000030517578,210.86000061035156,211.22000122070312,214.3300018310547,214.92999267578125,217.97999572753906,218.32000732421875,218.77000427246094,214.24000549316406,203.64999389648438,203.5,201.2100067138672,195.8800048828125,192.74000549316406,196.57000732421875,197.24000549316406,191.8300018310547,188.99000549316406,183.77999877929688,175.0,178.2899932861328,175.8800048828125,166.60000610351562,170.7899932861328,159.1300048828125,153.94000244140625,148.17999267578125,159.92999267578125,159.27000427246094,152.30999755859375,161.30999755859375,162.99000549316406,164.0,160.08999633789062,166.75,170.92999267578125,164.14999389648438,161.35000610351562,157.91000366210938,166.1999969482422,173.38999938964844,175.0,177.0800018310547,175.0,181.22999572753906,178.19000244140625,178.0500030517578,180.27999877929688,180.5,175.3800048828125,184.77999877929688,187.0500030517578,190.41000366210938,193.75,189.1999969482422,196.91000366210938,209.69000244140625,207.27999877929688,205.91000366210938,210.3800048828125,211.60000610351562,211.60000610351562,213.2100067138672,215.0,215.27999877929688,210.77999877929688,206.92999267578125,211.33999633789062,214.63999938964844,220.49000549316406,231.33999633789062,237.1999969482422,235.99000549316406,240.89999389648438,230.55999755859375,231.6300048828125,227.49000549316406,232.44000244140625,233.0,232.64999389648438,231.6300048828125,231.35000610351562,231.5500030517578,239.77000427246094,241.2100067138672,232.88999938964844,231.66000366210938,233.77000427246094,238.4600067138672,237.58999633789062,236.13999938964844,240.8300018310547,240.6999969482422,245.19000244140625,243.22000122070312,237.3000030517578,233.08999633789062,220.75,227.5,239.0,240.0,240.39999389648438,247.64999389648438,246.99000549316406,246.52999877929688,245.49000549316406,250.14999389648438,240.3300018310547,244.82000732421875,241.75999450683594,244.16000366210938,246.0500030517578,246.91000366210938,241.89999389648438,242.4199981689453,233.49000549316406,234.9499969482422,234.9600067138672,233.6999969482422,234.88999938964844,255.85000610351562,255.39999389648438,252.8000030517578,252.27000427246094,266.6000061035156,278.8900146484375,273.8599853515625,265.9200134277344,263.8999938964844,265.1600036621094,262.6499938964844,264.1000061035156,265.1499938964844,267.9100036621094,269.6300048828125,270.489990234375,277.25,283.0899963378906,304.6700134277344,301.2300109863281,297.2300109863281,296.8800048828125,301.489990234375,303.6000061035156,297.6000061035156,289.0,279.29998779296875,278.4800109863281,279.1600036621094,271.3900146484375,276.6400146484375,274.5199890136719,272.44000244140625,261.5,259.20001220703125,249.9499969482422,255.32000732421875,257.989990234375,252.24000549316406,255.75,259.6000061035156,263.3299865722656,266.0799865722656,268.3299865722656,265.1499938964844,264.8699951171875,265.69000244140625,260.17999267578125,264.6199951171875,264.75,280.17999267578125,279.1000061035156,278.75,269.0400085449219,271.3699951171875,268.54998779296875,269.70001220703125,283.04998779296875,282.45001220703125,285.239990234375,285.2300109863281,284.510009765625,278.7900085449219,283.6000061035156,276.70001220703125,270.4700012207031,270.04998779296875,288.94000244140625,297.3800048828125,294.6000061035156,292.5799865722656,274.0,278.3999938964844,279.75,277.760009765625,279.4100036621094,277.67999267578125,277.3900146484375,273.4700012207031,273.0,270.95001220703125,277.82000732421875,280.17999267578125,279.1300048828125,277.70001220703125,289.29998779296875,291.7799987792969,286.6499938964844,283.4599914550781,288.489990234375,286.42999267578125,287.6300048828125,278.7300109863281,276.4800109863281,277.2200012207031,276.0799865722656,277.8599853515625,280.44000244140625,278.0,274.6700134277344,271.5,272.1700134277344,270.3999938964844,277.29998779296875,280.510009765625,278.0799865722656,277.0899963378906,275.0,272.3999938964844,267.75,271.6099853515625,268.95001220703125,263.4700012207031,259.7200012207031,253.9499969482422,255.02999877929688,253.86000061035156,262.20001220703125,270.32000732421875,273.6000061035156,278.4700012207031,280.1000061035156,285.3900146484375,283.45001220703125,286.7900085449219,266.55999755859375,264.1700134277344,268.8500061035156,269.20001220703125,268.1600036621094,269.1700134277344,269.8599853515625,273.3900146484375,273.79998779296875,273.5799865722656,271.17999267578125,276.6000061035156,273.9700012207031,271.95001220703125,270.2699890136719,263.07000732421875,267.4599914550781,266.3800048828125,266.94000244140625,265.54998779296875,266.6499938964844,266.7099914550781,260.989990234375,266.489990234375,265.45001220703125,265.5799865722656,268.5299987792969,268.9700012207031,277.8999938964844,269.739990234375,275.9599914550781,282.1400146484375,286.2300109863281,285.19000244140625,292.79998779296875,299.7099914550781,298.0,291.7200012207031,288.05999755859375,284.5,293.17999267578125,292.4700012207031,296.5,302.3999938964844,310.7699890136719,311.3500061035156,314.25,315.8800048828125,314.739990234375,312.1499938964844,314.42999267578125,308.0299987792969,310.1400146484375,308.95001220703125,307.70001220703125,305.1000061035156,301.9800109863281,302.9200134277344,302.5899963378906,305.79998779296875,305.3399963378906,310.9200134277344,331.80999755859375,329.82000732421875,328.54998779296875,322.19000244140625,321.05999755859375,320.239990234375,322.94000244140625,314.5799865722656,306.8399963378906,304.9599914550781,308.8599853515625,316.8500061035156,315.67999267578125,316.5,314.6600036621094,319.25,319.92999267578125,325.95001220703125,329.17999267578125,329.8299865722656,333.7799987792969,332.8699951171875,331.4200134277344,331.8699951171875,327.3800048828125,332.4599914550781,337.69000244140625,338.29998779296875,336.79998779296875,333.94000244140625,332.8299865722656,336.82000732421875,339.9200134277344,337.54998779296875,337.9800109863281,336.1499938964844,332.9200134277344,339.9200134277344,343.4200134277344,344.8999938964844,344.1199951171875,358.1400146484375,356.739990234375,352.9200134277344,354.6700134277344,356.44000244140625,358.7900085449219,356.489990234375,348.3299865722656,350.7099914550781,354.19000244140625,358.489990234375,355.20001220703125,349.2300109863281,345.989990234375,339.7900085449219,343.45001220703125,346.5199890136719,351.5400085449219,375.3299865722656,374.44000244140625,373.1499938964844,377.54998779296875,365.5199890136719,360.7300109863281,359.3999938964844,353.7699890136719,360.4800109863281,363.8999938964844,365.1499938964844,365.7799987792969,364.1000061035156,362.3599853515625,363.0,364.6600036621094,366.95001220703125,364.6700134277344,359.8599853515625,357.57000732421875,359.989990234375,365.69000244140625,367.9599914550781,370.8599853515625,369.44000244140625,373.739990234375,381.489990234375,382.760009765625,384.3299865722656,381.75,377.1600036621094,382.9599914550781,380.8699951171875,379.8299865722656,383.7900085449219,381.75,378.5899963378906,377.55999755859375,373.55999755859375,371.4100036621094,361.0299987792969,360.0400085449219,349.8399963378906,349.6700134277344,354.3500061035156,355.1499938964844,349.6000061035156,345.2300109863281,342.79998779296875,345.0199890136719,335.94000244140625,335.17999267578125,334.3800048828125,338.8399963378906,333.3999938964844,330.4599914550781,324.3800048828125,327.0,330.5199890136719,329.07000732421875,335.8900146484375,342.4599914550781,343.9800109863281,342.30999755859375,329.6300048828125,329.55999755859375,330.2099914550781,319.25,325.5199890136719,326.0,333.45001220703125,334.7900085449219,332.1499938964844,337.2699890136719,346.7900085449219,344.7900085449219,341.30999755859375,333.19000244140625,332.4599914550781,341.8599853515625,353.6499938964844,346.6499938964844,347.29998779296875,342.4599914550781,352.1000061035156,353.8299865722656,341.3999938964844,341.7799987792969,337.75,340.6700134277344,335.80999755859375,330.5,314.6000061035156,313.75,320.1000061035156,326.5400085449219,332.75,336.1300048828125,335.0299987792969,341.0899963378906,335.70001220703125,342.1099853515625,344.4599914550781,337.1099853515625,329.8999938964844,336.0,334.510009765625,336.6700134277344,347.8699951171875,352.7099914550781,349.69000244140625,347.2300109863281,343.44000244140625,341.0799865722656,343.0899963378906,335.760009765625,339.1700134277344,337.0,328.3399963378906,334.6300048828125,336.3699951171875,335.6300048828125,332.7300109863281,324.2099914550781,327.1000061035156,327.82000732421875,318.30999755859375,309.5299987792969,306.2300109863281,307.510009765625,301.7099914550781,301.8999938964844,313.7900085449219,319.6600036621094,328.0,248.0,242.61000061035156,238.3000030517578,225.77000427246094,233.3699951171875,235.0,230.4199981689453,221.0,221.14999389648438,217.4600067138672,217.5,210.75,207.47999572753906,206.94000244140625,208.35000610351562,211.32000732421875,213.14999389648438,211.75,209.14999389648438,209.0800018310547,205.88999938964844,200.88999938964844,196.6999969482422,199.10000610351562,196.27999877929688,193.55999755859375,192.2899932861328,192.27999877929688,203.72999572753906,208.0399932861328,216.8000030517578,214.7100067138672,219.4600067138672,216.8000030517578,220.6699981689453,225.5,224.0399932861328,230.88999938964844,231.14999389648438,228.49000549316406,227.27999877929688,234.35000610351562,236.86000061035156,228.99000549316406,225.52000427246094,225.1300048828125,220.61000061035156,222.02999877929688,216.61000061035156,214.99000549316406,213.3800048828125,218.42999267578125,214.16000366210938,202.97000122070312,192.72000122070312,187.17999267578125,187.19000244140625,181.2100067138672,208.52999877929688,212.47999572753906,211.8800048828125,214.89999389648438,224.3000030517578,220.1699981689453,209.3800048828125,202.57000732421875,202.9600067138672,200.6699981689453,198.0500030517578,199.88999938964844,205.3699951171875,205.4600067138672,201.0,195.2899932861328,197.91000366210938,196.99000549316406,183.67999267578125,185.4499969482422,192.8300018310547,195.3300018310547,197.60000610351562,199.52999877929688,200.94000244140625,196.61000061035156,196.9199981689453,196.52999877929688,202.02999877929688,199.4499969482422,183.10000610351562,172.5800018310547,166.75,172.16000366210938,165.0800018310547,165.89999389648438,167.75999450683594,160.7899932861328,159.75,170.25,171.75,171.3000030517578,166.3300018310547,165.22999572753906,160.6199951171875,168.25,171.58999633789062,172.72000122070312,172.39999389648438,167.49000549316406,165.91000366210938,164.97999572753906,162.58999633789062,164.97999572753906,171.69000244140625,176.49000549316406,183.60000610351562,183.85000610351562,175.60000610351562,170.57000732421875,166.0,170.8699951171875,161.50999450683594,160.13999938964844,165.19000244140625,162.24000549316406,169.5399932861328,172.14999389648438,171.61000061035156,177.50999450683594,169.52999877929688,180.47999572753906,183.10000610351562,181.4600067138672,181.44000244140625,180.99000549316406,178.13999938964844,175.75999450683594,172.32000732421875,165.49000549316406,165.0500030517578,165.4600067138672,168.8800048828125,170.9199981689453,163.0500030517578,161.66000366210938,167.83999633789062,167.36000061035156,167.92999267578125,161.69000244140625,160.9600067138672,162.22999572753906,169.5399932861328,171.38999938964844,161.6300048828125,153.5399932861328,154.1999969482422,148.5800018310547,148.5800018310547,148.83999633789062,149.60000610351562,144.5800018310547,142.6199951171875,142.24000549316406,139.4199981689453,142.02999877929688,139.83999633789062,140.99000549316406,139.6199951171875,142.38999938964844,140.2100067138672,141.4499969482422,138.2899932861328,136.11000061035156,132.66000366210938,129.6699981689453,131.13999938964844,131.7899932861328,134.7899932861328,137.83999633789062,137.0,136.77000427246094,130.1199951171875,133.47999572753906,138.35000610351562,135.5500030517578,102.5,100.8499984741211,99.31999969482422,97.48999786376953,95.19999694824219,90.45999908447266,91.38999938964844,96.87999725341797,97.80000305175781,104.9000015258789,112.75,114.9000015258789,116.2699966430664,118.73999786376953,116.08000183105469,112.33000183105469,114.31999969482422,112.37000274658203,111.62000274658203,112.66999816894531,112.7300033569336,112.04000091552734,110.94000244140625,118.16000366210938,121.19999694824219,124.04000091552734,124.66999816894531,120.55000305175781,115.87999725341797],\"low\":[200.2100067138672,200.14999389648438,200.27999877929688,194.10000610351562,193.1699981689453,194.80999755859375,196.1300048828125,200.08999633789062,202.50999450683594,203.42999267578125,205.67999267578125,205.0,205.30999755859375,206.58999633789062,203.89999389648438,203.60000610351562,206.27000427246094,206.9499969482422,206.52000427246094,211.75,212.61000061035156,216.27999877929688,217.4199981689453,219.2100067138672,218.6300048828125,220.13999938964844,220.38999938964844,220.52999877929688,219.1199951171875,221.27999877929688,219.27000427246094,216.11000061035156,212.5,213.52000427246094,218.4499969482422,204.75,201.05999755859375,202.5,205.1999969482422,208.7100067138672,209.33999633789062,209.92999267578125,210.66000366210938,206.50999450683594,207.39999389648438,209.17999267578125,212.64999389648438,213.39999389648438,216.11000061035156,212.9499969482422,208.8300018310547,198.1699981689453,195.9499969482422,195.49000549316406,189.5,181.82000732421875,188.85000610351562,183.97000122070312,186.38999938964844,183.88999938964844,176.25999450683594,165.19000244140625,169.5,167.66000366210938,154.33999633789062,157.60000610351562,143.10000610351562,140.0,137.10000610351562,144.8000030517578,148.0,142.25,152.57000732421875,153.05999755859375,157.02000427246094,154.75,158.05999755859375,164.1999969482422,158.0399932861328,155.9199981689453,150.8300018310547,158.50999450683594,166.00999450683594,167.74000549316406,171.57000732421875,169.4499969482422,176.6199951171875,172.82000732421875,172.50999450683594,176.66000366210938,176.77000427246094,168.33999633789062,178.13999938964844,183.14999389648438,180.8300018310547,187.41000366210938,182.55999755859375,190.0,201.57000732421875,199.0500030517578,198.75999450683594,206.5,206.66000366210938,209.0399932861328,210.85000610351562,210.3699951171875,210.0,202.11000061035156,200.69000244140625,204.1199951171875,210.94000244140625,212.8300018310547,223.19000244140625,231.1999969482422,228.74000549316406,231.6699981689453,221.1300048828125,224.0,222.8800048828125,223.5,226.55999755859375,228.52999877929688,224.61000061035156,225.30999755859375,227.41000366210938,230.41000366210938,235.27999877929688,223.5500030517578,224.5,224.8000030517578,233.0,231.72999572753906,232.14999389648438,235.5500030517578,236.91000366210938,239.86000061035156,232.67999267578125,232.74000549316406,215.39999389648438,207.11000061035156,218.47000122070312,227.55999755859375,232.61000061035156,232.27000427246094,238.82000732421875,236.58999633789062,239.24000549316406,239.32000732421875,238.4199981689453,232.02999877929688,238.0500030517578,236.3300018310547,237.86000061035156,235.63999938964844,240.0800018310547,238.1199951171875,231.75,226.89999389648438,230.8300018310547,229.8300018310547,230.30999755859375,229.0,249.0,250.3300018310547,247.42999267578125,247.77000427246094,248.6699981689453,263.42999267578125,259.69000244140625,255.1300048828125,258.1099853515625,259.57000732421875,258.67999267578125,259.3999938964844,259.260009765625,261.3500061035156,261.4599914550781,266.4200134277344,268.7699890136719,270.260009765625,284.0,292.0199890136719,290.9800109863281,291.54998779296875,292.7099914550781,293.04998779296875,283.6300048828125,271.1400146484375,269.4200134277344,271.3500061035156,267.0299987792969,262.6400146484375,265.70001220703125,269.29998779296875,261.7900085449219,250.19000244140625,250.0500030517578,244.1300048828125,248.22000122070312,248.14999389648438,245.6199951171875,246.61000061035156,254.82000732421875,256.8999938964844,260.1000061035156,264.79998779296875,259.17999267578125,260.8399963378906,258.239990234375,254.82000732421875,259.1499938964844,262.1700134277344,267.8699951171875,273.3900146484375,271.5,263.6700134277344,265.29998779296875,259.8800048828125,262.8800048828125,276.3699951171875,275.0400085449219,276.82000732421875,274.260009765625,276.30999755859375,267.260009765625,273.7799987792969,259.1000061035156,257.3399963378906,260.8800048828125,278.6199951171875,288.95001220703125,288.05999755859375,278.5299987792969,264.0,272.4800109863281,274.42999267578125,273.1000061035156,274.6300048828125,273.2900085449219,271.8399963378906,269.19000244140625,269.4100036621094,264.5299987792969,267.8699951171875,272.6499938964844,274.82000732421875,271.010009765625,278.9599914550781,280.8299865722656,281.07000732421875,279.29998779296875,278.20001220703125,281.54998779296875,271.75,271.8599853515625,270.25,271.55999755859375,267.4700012207031,272.510009765625,273.6099853515625,271.1400146484375,267.7900085449219,264.6300048828125,266.2300109863281,266.20001220703125,265.6600036621094,276.2799987792969,271.7099914550781,269.80999755859375,265.20001220703125,268.2099914550781,260.010009765625,264.7799987792969,263.17999267578125,255.89999389648438,250.3000030517578,249.1999969482422,244.61000061035156,247.16000366210938,252.72000122070312,263.6000061035156,267.489990234375,272.0,271.510009765625,277.80999755859375,268.1199951171875,264.70001220703125,254.85000610351562,254.91000366210938,263.2699890136719,263.8399963378906,264.0,265.6700134277344,265.0,265.75,267.7200012207031,268.489990234375,268.3399963378906,270.04998779296875,269.5799865722656,266.0299987792969,260.1499938964844,257.5299987792969,254.9600067138672,258.3900146484375,254.0399932861328,256.4700012207031,257.8999938964844,258.6499938964844,255.10000610351562,253.5,255.61000061035156,255.0500030517578,259.80999755859375,262.8699951171875,267.82000732421875,264.0199890136719,268.5,274.79998779296875,275.4100036621094,278.2799987792969,281.20001220703125,286.75,289.80999755859375,281.1600036621094,277.75,277.7699890136719,284.70001220703125,286.70001220703125,288.6099853515625,296.6000061035156,300.67999267578125,305.25,305.5,310.04998779296875,310.3299865722656,307.92999267578125,309.32000732421875,301.95001220703125,304.1000061035156,304.6099853515625,300.55999755859375,297.2099914550781,297.3900146484375,296.0400085449219,297.1499938964844,301.55999755859375,301.1099853515625,305.3699951171875,321.6099853515625,324.5,321.8399963378906,313.1199951171875,314.489990234375,313.2699890136719,318.75,304.8299865722656,299.69000244140625,298.19000244140625,302.7699890136719,309.0799865722656,311.5799865722656,309.80999755859375,303.57000732421875,313.1600036621094,315.80999755859375,318.0299987792969,324.79998779296875,325.82000732421875,326.760009765625,328.3299865722656,326.6400146484375,327.1199951171875,323.4800109863281,325.17999267578125,328.92999267578125,332.239990234375,330.0,328.54998779296875,328.92999267578125,329.80999755859375,335.0299987792969,328.7200012207031,330.1499938964844,329.0,327.6499938964844,332.6000061035156,338.20001220703125,341.7900085449219,339.67999267578125,341.7699890136719,349.04998779296875,347.1700134277344,346.5,352.6199951171875,349.17999267578125,350.0,342.55999755859375,345.2699890136719,349.6400146484375,348.79998779296875,346.7300109863281,340.2200012207031,340.1400146484375,334.5400085449219,334.5,341.25,345.2099914550781,357.19000244140625,368.2200012207031,364.54998779296875,366.92999267578125,356.739990234375,352.94000244140625,350.739990234375,347.70001220703125,351.510009765625,356.8999938964844,361.3999938964844,360.75,359.0400085449219,357.80999755859375,357.1099853515625,361.4800109863281,357.3800048828125,355.07000732421875,355.1499938964844,351.0,353.30999755859375,359.1000061035156,361.8399963378906,365.3999938964844,364.1300048828125,364.0799865722656,370.5199890136719,378.79998779296875,378.80999755859375,374.05999755859375,373.1099853515625,373.1499938964844,374.7900085449219,376.57000732421875,378.260009765625,374.3500061035156,375.1099853515625,367.6700134277344,369.7099914550781,361.5899963378906,349.79998779296875,355.19000244140625,340.69000244140625,343.0,342.3699951171875,347.0799865722656,338.9200134277344,338.8800048828125,338.1499938964844,338.6400146484375,322.70001220703125,326.1600036621094,325.79998779296875,328.9800109863281,328.7099914550781,325.30999755859375,317.3699951171875,322.6600036621094,327.1000061035156,322.510009765625,327.5,337.2799987792969,339.45001220703125,337.79998779296875,321.1099853515625,319.7200012207031,309.6000061035156,312.05999755859375,308.1099853515625,319.6000061035156,326.0,323.79998779296875,323.20001220703125,332.6499938964844,339.6400146484375,338.3399963378906,334.4700012207031,325.510009765625,327.0,329.7799987792969,343.20001220703125,340.8699951171875,340.1000061035156,335.29998779296875,339.8999938964844,340.510009765625,333.5,332.80999755859375,331.8999938964844,335.30999755859375,323.42999267578125,310.2900085449219,307.20001220703125,299.5,306.3399963378906,321.0,323.07000732421875,328.0,326.3699951171875,329.5899963378906,327.6499938964844,323.9800109863281,333.739990234375,330.75,322.5299987792969,323.75,328.260009765625,328.3599853515625,338.010009765625,345.20001220703125,341.6400146484375,343.2200012207031,336.2699890136719,337.19000244140625,331.8699951171875,323.8399963378906,322.7200012207031,328.8800048828125,315.42999267578125,325.2799987792969,330.0299987792969,325.760009765625,321.2099914550781,317.6400146484375,319.3299865722656,315.9800109863281,303.0400085449219,289.010009765625,297.5799865722656,290.8500061035156,294.260009765625,293.0299987792969,299.32000732421875,312.1199951171875,316.8699951171875,235.75,230.11000061035156,224.00999450683594,216.14999389648438,222.2100067138672,226.6999969482422,218.77000427246094,214.77999877929688,215.05999755859375,212.36000061035156,207.16000366210938,205.17999267578125,200.05999755859375,198.0500030517578,190.22000122070312,203.17999267578125,206.8300018310547,202.22000122070312,202.02000427246094,201.4199981689453,198.7899932861328,187.27999877929688,186.11000061035156,193.9199981689453,191.07000732421875,186.6699981689453,185.82000732421875,185.91000366210938,194.52000427246094,201.11000061035156,206.0,207.6300048828125,210.17999267578125,212.16000366210938,214.7899932861328,218.88999938964844,219.5399932861328,225.2899932861328,226.7100067138672,222.25999450683594,222.6999969482422,225.86000061035156,231.02000427246094,221.41000366210938,218.55999755859375,220.02999877929688,215.22000122070312,213.1300048828125,211.3300018310547,210.0,208.3000030517578,209.0,198.9199981689453,185.5800018310547,183.27000427246094,181.66000366210938,179.5,169.0,192.89999389648438,199.89999389648438,200.99000549316406,208.08999633789062,206.9600067138672,206.16000366210938,201.02000427246094,195.5800018310547,194.19000244140625,188.27000427246094,184.77999877929688,191.27999877929688,195.92999267578125,198.36000061035156,191.6300048828125,189.60000610351562,187.8699951171875,191.24000549316406,176.11000061035156,179.32000732421875,182.25999450683594,189.8000030517578,192.00999450683594,185.0,187.72999572753906,189.77999877929688,188.39999389648438,191.49000549316406,194.41000366210938,183.67999267578125,175.02000427246094,164.02999877929688,161.36000061035156,163.97999572753906,159.61000061035156,159.89999389648438,155.97000122070312,155.44000244140625,154.25,161.3000030517578,168.00999450683594,160.61000061035156,160.32000732421875,158.49000549316406,155.0,157.02000427246094,165.4600067138672,167.77999877929688,168.14999389648438,161.91000366210938,162.10000610351562,159.61000061035156,157.27999877929688,159.82000732421875,165.63999938964844,169.50999450683594,176.6999969482422,178.8699951171875,168.41000366210938,164.80999755859375,157.9499969482422,162.02000427246094,154.85000610351562,155.1699981689453,155.22999572753906,158.00999450683594,161.57000732421875,166.8000030517578,165.8000030517578,167.1300048828125,166.60000610351562,173.9499969482422,176.3699951171875,178.91000366210938,178.1999969482422,177.0399932861328,174.1699981689453,171.86000061035156,167.0500030517578,162.25999450683594,160.6999969482422,159.77000427246094,164.02000427246094,161.6699981689453,159.00999450683594,155.91000366210938,162.13999938964844,160.35000610351562,159.22000122070312,157.69000244140625,156.80999755859375,157.74000549316406,163.02000427246094,167.27999877929688,152.6699981689453,149.0500030517578,148.6999969482422,144.2899932861328,145.10000610351562,145.22000122070312,142.0,140.8699951171875,138.88999938964844,136.19000244140625,134.1199951171875,134.27000427246094,135.1999969482422,135.5,136.10000610351562,139.33999633789062,134.77999877929688,136.60000610351562,132.44000244140625,131.8699951171875,126.98999786376953,126.25,122.52999877929688,126.5199966430664,130.17999267578125,131.39999389648438,132.22000122070312,131.30999755859375,125.44000244140625,124.56999969482422,130.58999633789062,128.52999877929688,96.37999725341797,97.51000213623047,92.5999984741211,93.55000305175781,90.4800033569336,88.41000366210938,88.08999633789062,93.0999984741211,94.79000091552734,100.73999786376953,104.61000061035156,108.80999755859375,110.80000305175781,114.41000366210938,112.66000366210938,109.80000305175781,110.62000274658203,109.19000244140625,108.31999969482422,110.7300033569336,111.0199966430664,108.37999725341797,108.54000091552734,109.37999725341797,118.4000015258789,117.61000061035156,121.3499984741211,113.73999786376953,112.87999725341797],\"open\":[200.64999389648438,201.66000366210938,200.27999877929688,202.35000610351562,196.39999389648438,195.27000427246094,198.83999633789062,200.08999633789062,202.77999877929688,207.47999572753906,206.6999969482422,206.3000030517578,205.57000732421875,208.6699981689453,207.86000061035156,204.0,206.75,207.2100067138672,206.6999969482422,212.82000732421875,213.0,217.5399932861328,219.1999969482422,219.60000610351562,221.61000061035156,220.61000061035156,222.57000732421875,222.02999877929688,222.16000366210938,222.30999755859375,220.75,220.8000030517578,213.10000610351562,216.13999938964844,221.44000244140625,206.52999877929688,208.42999267578125,203.44000244140625,206.6199951171875,212.50999450683594,210.47000122070312,210.3000030517578,211.52000427246094,210.19000244140625,207.85000610351562,209.52000427246094,214.0,213.5500030517578,217.99000549316406,216.52000427246094,213.47999572753906,201.8000030517578,202.25,197.19000244140625,191.82000732421875,182.6999969482422,194.02999877929688,196.22000122070312,189.1699981689453,186.77999877929688,178.3300018310547,169.60000610351562,174.6699981689453,174.00999450683594,159.5399932861328,163.52999877929688,152.32000732421875,150.74000549316406,139.75,146.6199951171875,156.02000427246094,149.66000366210938,155.2100067138672,158.9199981689453,158.25,158.1999969482422,159.17999267578125,165.47999572753906,161.6199951171875,159.10000610351562,157.14999389648438,160.14999389648438,171.7899932861328,171.25,175.89999389648438,173.6699981689453,178.97999572753906,175.19000244140625,177.9499969482422,179.1999969482422,177.41000366210938,175.25,178.4499969482422,184.0800018310547,183.22999572753906,192.66000366210938,188.66000366210938,190.92999267578125,206.9199981689453,201.60000610351562,200.1999969482422,207.02000427246094,208.1199951171875,211.16000366210938,212.24000549316406,210.88999938964844,213.2899932861328,209.42999267578125,202.55999755859375,205.27000427246094,212.14999389648438,213.27000427246094,223.5,234.72000122070312,231.50999450683594,239.77000427246094,229.07000732421875,224.3000030517578,225.1999969482422,224.58999633789062,230.94000244140625,232.11000061035156,229.55999755859375,226.7100067138672,229.02999877929688,231.52000427246094,240.9600067138672,229.94000244140625,229.89999389648438,225.08999633789062,237.13999938964844,235.0,234.99000549316406,237.7899932861328,238.55999755859375,241.27999877929688,241.1999969482422,234.6199951171875,232.63999938964844,209.75,220.58999633789062,228.5,239.0,233.75999450683594,239.41000366210938,238.11000061035156,245.0,243.69000244140625,247.00999450683594,236.75999450683594,241.5500030517578,238.0,241.0,240.05999755859375,246.22000122070312,240.25999450683594,239.6300048828125,230.19000244140625,231.4600067138672,234.6300048828125,231.13999938964844,230.22000122070312,255.82000732421875,252.64999389648438,251.55999755859375,250.19000244140625,249.0399932861328,264.0799865722656,268.0400085449219,260.19000244140625,258.9700012207031,261.54998779296875,262.30999755859375,262.5,260.95001220703125,261.3900146484375,261.5,268.69000244140625,271.07000732421875,272.4100036621094,284.0,300.1600036621094,295.0,293.95001220703125,294.7099914550781,298.8800048828125,295.989990234375,287.25,271.2799987792969,275.7699890136719,275.510009765625,270.05999755859375,270.95001220703125,270.6700134277344,267.2900085449219,258.2799987792969,258.3999938964844,247.5399932861328,253.30999755859375,255.25999450683594,246.5,249.39999389648438,259.3999938964844,257.80999755859375,261.9800109863281,265.3500061035156,261.2099914550781,262.20001220703125,261.7799987792969,259.2099914550781,259.75,264.5199890136719,270.20001220703125,277.5799865722656,277.6199951171875,267.6000061035156,267.3800048828125,265.5299987792969,263.05999755859375,279.55999755859375,279.8699951171875,278.79998779296875,283.1600036621094,278.760009765625,278.7900085449219,276.54998779296875,274.5,264.6000061035156,263.1600036621094,281.0,291.8999938964844,293.95001220703125,289.8699951171875,273.1000061035156,273.4700012207031,277.17999267578125,277.7200012207031,275.04998779296875,277.67999267578125,274.5199890136719,271.0199890136719,272.55999755859375,270.8900146484375,268.489990234375,278.1400146484375,277.3900146484375,276.0299987792969,279.1600036621094,285.3599853515625,286.25,280.29998779296875,279.19000244140625,286.010009765625,283.6600036621094,275.5400085449219,274.5299987792969,273.3699951171875,274.8299865722656,274.760009765625,277.07000732421875,275.7699890136719,272.9800109863281,271.5,266.8900146484375,268.8800048828125,268.739990234375,276.95001220703125,277.95001220703125,272.0,274.7799987792969,268.2900085449219,262.0,265.8999938964844,268.30999755859375,260.4800109863281,256.6300048828125,251.5500030517578,253.39999389648438,247.89999389648438,256.8999938964844,268.92999267578125,269.260009765625,272.010009765625,278.1400146484375,278.1400146484375,282.5299987792969,277.17999267578125,265.29998779296875,259.5199890136719,264.0,265.6199951171875,267.010009765625,266.79998779296875,268.75,266.44000244140625,272.45001220703125,271.8900146484375,270.5199890136719,270.79998779296875,271.239990234375,269.57000732421875,269.8599853515625,257.95001220703125,259.5,262.3299865722656,262.29998779296875,256.4700012207031,260.82000732421875,265.7799987792969,260.2900085449219,256.4700012207031,260.6700134277344,265.54998779296875,261.17999267578125,268.6400146484375,268.1099853515625,269.1400146484375,269.0799865722656,276.0799865722656,275.7099914550781,279.8699951171875,281.2200012207031,290.45001220703125,293.1499938964844,291.0,280.9800109863281,278.29998779296875,285.7699890136719,289.8299865722656,289.989990234375,298.3999938964844,300.8900146484375,308.8399963378906,306.3399963378906,314.8500061035156,311.3999938964844,311.04998779296875,312.2099914550781,307.29998779296875,306.3399963378906,308.1700134277344,305.010009765625,301.989990234375,301.95001220703125,301.3299865722656,298.760009765625,303.3399963378906,304.2799987792969,307.3599853515625,330.1199951171875,326.1400146484375,326.1700134277344,320.0199890136719,318.19000244140625,314.5199890136719,322.3800048828125,314.3500061035156,300.75,301.1300048828125,306.0799865722656,309.5400085449219,313.54998779296875,315.5899963378906,304.19000244140625,313.5799865722656,319.2900085449219,318.2099914550781,327.0799865722656,328.3500061035156,328.0,331.0,330.1499938964844,330.3800048828125,325.7799987792969,325.8999938964844,329.4800109863281,336.70001220703125,335.739990234375,330.7900085449219,332.5799865722656,331.8999938964844,336.989990234375,336.70001220703125,330.489990234375,334.5299987792969,331.0899963378906,332.69000244140625,339.3500061035156,341.8500061035156,342.5899963378906,342.4599914550781,356.2699890136719,352.1700134277344,346.82000732421875,355.1000061035156,356.5,355.260009765625,345.7300109863281,345.32000732421875,351.2300109863281,351.5,354.55999755859375,349.2300109863281,344.9100036621094,337.57000732421875,338.79998779296875,341.5,346.67999267578125,360.9100036621094,369.5799865722656,371.9100036621094,374.55999755859375,361.0,354.0,358.1000061035156,352.7300109863281,352.4200134277344,359.6400146484375,361.3999938964844,363.760009765625,361.8299865722656,362.1000061035156,358.45001220703125,362.9700012207031,362.5199890136719,362.9800109863281,356.25,351.3500061035156,354.6000061035156,359.44000244140625,363.6600036621094,365.6000061035156,368.3800048828125,365.1000061035156,372.55999755859375,379.95001220703125,379.5899963378906,381.5,374.75,375.8800048828125,380.1600036621094,377.6400146484375,381.3599853515625,381.67999267578125,377.3999938964844,377.0,372.7900085449219,371.4100036621094,359.29998779296875,358.5,347.2300109863281,345.3599853515625,343.239990234375,349.80999755859375,347.9700012207031,343.1499938964844,340.45001220703125,341.6099853515625,335.5299987792969,328.5799865722656,329.739990234375,337.0,331.510009765625,327.6300048828125,323.0299987792969,326.9700012207031,328.3599853515625,328.67999267578125,328.95001220703125,339.6499938964844,343.45001220703125,340.2799987792969,326.3500061035156,320.29998779296875,328.260009765625,314.19000244140625,312.989990234375,320.19000244140625,326.0400085449219,331.3800048828125,327.489990234375,334.010009765625,340.30999755859375,344.4200134277344,340.0,332.489990234375,329.82000732421875,330.17999267578125,344.3399963378906,343.8299865722656,344.239990234375,339.7200012207031,342.20001220703125,349.04998779296875,338.92999267578125,336.0,335.79998779296875,336.8900146484375,335.0,330.2900085449219,311.3999938964844,313.7300109863281,308.1300048828125,321.57000732421875,325.0,329.5400085449219,332.55999755859375,330.95001220703125,328.04998779296875,332.489990234375,338.9800109863281,332.79998779296875,329.7799987792969,326.4100036621094,333.79998779296875,330.1000061035156,338.8500061035156,346.6300048828125,346.9100036621094,344.0,343.0199890136719,338.29998779296875,339.95001220703125,333.0199890136719,322.82000732421875,332.739990234375,325.30999755859375,326.7799987792969,335.17999267578125,334.9800109863281,321.7900085449219,323.2900085449219,319.5799865722656,323.8999938964844,314.80999755859375,297.8399963378906,299.95001220703125,307.010009765625,297.75,295.6199951171875,300.67999267578125,314.55999755859375,327.82000732421875,244.64999389648438,234.97000122070312,237.6999969482422,220.85000610351562,224.1999969482422,228.27000427246094,228.4600067138672,219.30999755859375,220.47000122070312,212.41000366210938,214.02000427246094,209.38999938964844,202.33999633789062,204.16000366210938,191.05999755859375,204.94000244140625,207.67999267578125,209.8699951171875,204.77999877929688,209.02000427246094,202.3699951171875,200.7899932861328,187.85000610351562,195.74000549316406,194.83999633789062,192.63999938964844,187.02999877929688,190.8000030517578,194.6999969482422,201.6999969482422,206.6999969482422,214.5,211.3699951171875,213.3300018310547,215.0,220.50999450683594,222.1300048828125,226.07000732421875,228.91000366210938,228.4499969482422,224.5500030517578,225.97999572753906,234.0800018310547,226.91000366210938,223.92999267578125,222.3800048828125,218.4199981689453,220.24000549316406,211.82000732421875,214.88999938964844,210.0,210.52000427246094,213.61000061035156,201.60000610351562,190.3699951171875,182.72999572753906,186.6300048828125,174.42999267578125,202.9199981689453,204.4600067138672,201.1699981689453,210.4499969482422,210.64999389648438,218.74000549316406,207.33999633789062,199.83999633789062,199.50999450683594,196.3300018310547,187.05999755859375,192.5800018310547,197.0500030517578,202.1199951171875,200.0,191.1999969482422,194.97000122070312,195.19000244140625,180.5500030517578,180.39999389648438,182.8800048828125,191.36000061035156,194.88999938964844,196.50999450683594,188.4499969482422,195.97999572753906,193.99000549316406,191.92999267578125,194.6699981689453,194.27999877929688,183.0399932861328,170.58999633789062,166.02999877929688,167.1999969482422,163.72000122070312,161.67999267578125,165.92999267578125,158.3800048828125,156.27000427246094,161.72999572753906,171.32000732421875,169.89999389648438,163.57000732421875,162.14999389648438,160.30999755859375,158.13999938964844,168.1999969482422,169.4499969482422,169.97999572753906,167.07000732421875,164.8000030517578,160.16000366210938,161.22000122070312,160.5399932861328,166.75,170.3699951171875,177.49000549316406,180.6300048828125,173.07000732421875,169.0,165.94000244140625,162.58999633789062,161.05999755859375,157.69000244140625,157.25,158.30999755859375,162.69000244140625,168.3000030517578,166.99000549316406,168.0,168.9499969482422,175.99000549316406,179.7100067138672,180.80999755859375,178.9600067138672,179.44000244140625,176.75999450683594,174.33999633789062,170.1999969482422,165.49000549316406,162.47999572753906,160.60000610351562,165.17999267578125,168.47999572753906,160.66000366210938,160.35000610351562,167.07000732421875,163.5800018310547,167.4499969482422,160.10000610351562,157.75999450683594,158.7100067138672,163.25,167.38999938964844,161.5399932861328,153.3300018310547,149.8000030517578,148.0500030517578,145.24000549316406,145.77999877929688,146.38999938964844,141.5500030517578,141.4199981689453,140.1199951171875,137.9199981689453,134.6199951171875,139.36000061035156,136.0500030517578,137.13999938964844,140.49000549316406,138.24000549316406,137.72000122070312,136.75999450683594,133.5500030517578,131.6199951171875,128.32000732421875,123.52999877929688,131.0,130.3000030517578,137.08999633789062,132.88999938964844,132.92999267578125,126.30999755859375,127.25,130.8800048828125,131.67999267578125,97.9800033569336,99.58000183105469,98.22000122070312,94.33000183105469,94.20999908447266,90.08000183105469,90.3499984741211,94.77999877929688,95.91999816894531,101.72000122070312,107.12000274658203,109.2300033569336,110.98999786376953,116.06999969482422,114.5,110.41000366210938,113.80000305175781,111.5199966430664,109.86000061035156,111.72000122070312,111.30000305175781,110.77999877929688,109.54000091552734,109.51000213623047,119.19999694824219,117.83000183105469,121.75,119.91000366210938,113.76000213623047],\"x\":[\"2019-12-09T00:00:00-05:00\",\"2019-12-10T00:00:00-05:00\",\"2019-12-11T00:00:00-05:00\",\"2019-12-12T00:00:00-05:00\",\"2019-12-13T00:00:00-05:00\",\"2019-12-16T00:00:00-05:00\",\"2019-12-17T00:00:00-05:00\",\"2019-12-18T00:00:00-05:00\",\"2019-12-19T00:00:00-05:00\",\"2019-12-20T00:00:00-05:00\",\"2019-12-23T00:00:00-05:00\",\"2019-12-24T00:00:00-05:00\",\"2019-12-26T00:00:00-05:00\",\"2019-12-27T00:00:00-05:00\",\"2019-12-30T00:00:00-05:00\",\"2019-12-31T00:00:00-05:00\",\"2020-01-02T00:00:00-05:00\",\"2020-01-03T00:00:00-05:00\",\"2020-01-06T00:00:00-05:00\",\"2020-01-07T00:00:00-05:00\",\"2020-01-08T00:00:00-05:00\",\"2020-01-09T00:00:00-05:00\",\"2020-01-10T00:00:00-05:00\",\"2020-01-13T00:00:00-05:00\",\"2020-01-14T00:00:00-05:00\",\"2020-01-15T00:00:00-05:00\",\"2020-01-16T00:00:00-05:00\",\"2020-01-17T00:00:00-05:00\",\"2020-01-21T00:00:00-05:00\",\"2020-01-22T00:00:00-05:00\",\"2020-01-23T00:00:00-05:00\",\"2020-01-24T00:00:00-05:00\",\"2020-01-27T00:00:00-05:00\",\"2020-01-28T00:00:00-05:00\",\"2020-01-29T00:00:00-05:00\",\"2020-01-30T00:00:00-05:00\",\"2020-01-31T00:00:00-05:00\",\"2020-02-03T00:00:00-05:00\",\"2020-02-04T00:00:00-05:00\",\"2020-02-05T00:00:00-05:00\",\"2020-02-06T00:00:00-05:00\",\"2020-02-07T00:00:00-05:00\",\"2020-02-10T00:00:00-05:00\",\"2020-02-11T00:00:00-05:00\",\"2020-02-12T00:00:00-05:00\",\"2020-02-13T00:00:00-05:00\",\"2020-02-14T00:00:00-05:00\",\"2020-02-18T00:00:00-05:00\",\"2020-02-19T00:00:00-05:00\",\"2020-02-20T00:00:00-05:00\",\"2020-02-21T00:00:00-05:00\",\"2020-02-24T00:00:00-05:00\",\"2020-02-25T00:00:00-05:00\",\"2020-02-26T00:00:00-05:00\",\"2020-02-27T00:00:00-05:00\",\"2020-02-28T00:00:00-05:00\",\"2020-03-02T00:00:00-05:00\",\"2020-03-03T00:00:00-05:00\",\"2020-03-04T00:00:00-05:00\",\"2020-03-05T00:00:00-05:00\",\"2020-03-06T00:00:00-05:00\",\"2020-03-09T00:00:00-04:00\",\"2020-03-10T00:00:00-04:00\",\"2020-03-11T00:00:00-04:00\",\"2020-03-12T00:00:00-04:00\",\"2020-03-13T00:00:00-04:00\",\"2020-03-16T00:00:00-04:00\",\"2020-03-17T00:00:00-04:00\",\"2020-03-18T00:00:00-04:00\",\"2020-03-19T00:00:00-04:00\",\"2020-03-20T00:00:00-04:00\",\"2020-03-23T00:00:00-04:00\",\"2020-03-24T00:00:00-04:00\",\"2020-03-25T00:00:00-04:00\",\"2020-03-26T00:00:00-04:00\",\"2020-03-27T00:00:00-04:00\",\"2020-03-30T00:00:00-04:00\",\"2020-03-31T00:00:00-04:00\",\"2020-04-01T00:00:00-04:00\",\"2020-04-02T00:00:00-04:00\",\"2020-04-03T00:00:00-04:00\",\"2020-04-06T00:00:00-04:00\",\"2020-04-07T00:00:00-04:00\",\"2020-04-08T00:00:00-04:00\",\"2020-04-09T00:00:00-04:00\",\"2020-04-13T00:00:00-04:00\",\"2020-04-14T00:00:00-04:00\",\"2020-04-15T00:00:00-04:00\",\"2020-04-16T00:00:00-04:00\",\"2020-04-17T00:00:00-04:00\",\"2020-04-20T00:00:00-04:00\",\"2020-04-21T00:00:00-04:00\",\"2020-04-22T00:00:00-04:00\",\"2020-04-23T00:00:00-04:00\",\"2020-04-24T00:00:00-04:00\",\"2020-04-27T00:00:00-04:00\",\"2020-04-28T00:00:00-04:00\",\"2020-04-29T00:00:00-04:00\",\"2020-04-30T00:00:00-04:00\",\"2020-05-01T00:00:00-04:00\",\"2020-05-04T00:00:00-04:00\",\"2020-05-05T00:00:00-04:00\",\"2020-05-06T00:00:00-04:00\",\"2020-05-07T00:00:00-04:00\",\"2020-05-08T00:00:00-04:00\",\"2020-05-11T00:00:00-04:00\",\"2020-05-12T00:00:00-04:00\",\"2020-05-13T00:00:00-04:00\",\"2020-05-14T00:00:00-04:00\",\"2020-05-15T00:00:00-04:00\",\"2020-05-18T00:00:00-04:00\",\"2020-05-19T00:00:00-04:00\",\"2020-05-20T00:00:00-04:00\",\"2020-05-21T00:00:00-04:00\",\"2020-05-22T00:00:00-04:00\",\"2020-05-26T00:00:00-04:00\",\"2020-05-27T00:00:00-04:00\",\"2020-05-28T00:00:00-04:00\",\"2020-05-29T00:00:00-04:00\",\"2020-06-01T00:00:00-04:00\",\"2020-06-02T00:00:00-04:00\",\"2020-06-03T00:00:00-04:00\",\"2020-06-04T00:00:00-04:00\",\"2020-06-05T00:00:00-04:00\",\"2020-06-08T00:00:00-04:00\",\"2020-06-09T00:00:00-04:00\",\"2020-06-10T00:00:00-04:00\",\"2020-06-11T00:00:00-04:00\",\"2020-06-12T00:00:00-04:00\",\"2020-06-15T00:00:00-04:00\",\"2020-06-16T00:00:00-04:00\",\"2020-06-17T00:00:00-04:00\",\"2020-06-18T00:00:00-04:00\",\"2020-06-19T00:00:00-04:00\",\"2020-06-22T00:00:00-04:00\",\"2020-06-23T00:00:00-04:00\",\"2020-06-24T00:00:00-04:00\",\"2020-06-25T00:00:00-04:00\",\"2020-06-26T00:00:00-04:00\",\"2020-06-29T00:00:00-04:00\",\"2020-06-30T00:00:00-04:00\",\"2020-07-01T00:00:00-04:00\",\"2020-07-02T00:00:00-04:00\",\"2020-07-06T00:00:00-04:00\",\"2020-07-07T00:00:00-04:00\",\"2020-07-08T00:00:00-04:00\",\"2020-07-09T00:00:00-04:00\",\"2020-07-10T00:00:00-04:00\",\"2020-07-13T00:00:00-04:00\",\"2020-07-14T00:00:00-04:00\",\"2020-07-15T00:00:00-04:00\",\"2020-07-16T00:00:00-04:00\",\"2020-07-17T00:00:00-04:00\",\"2020-07-20T00:00:00-04:00\",\"2020-07-21T00:00:00-04:00\",\"2020-07-22T00:00:00-04:00\",\"2020-07-23T00:00:00-04:00\",\"2020-07-24T00:00:00-04:00\",\"2020-07-27T00:00:00-04:00\",\"2020-07-28T00:00:00-04:00\",\"2020-07-29T00:00:00-04:00\",\"2020-07-30T00:00:00-04:00\",\"2020-07-31T00:00:00-04:00\",\"2020-08-03T00:00:00-04:00\",\"2020-08-04T00:00:00-04:00\",\"2020-08-05T00:00:00-04:00\",\"2020-08-06T00:00:00-04:00\",\"2020-08-07T00:00:00-04:00\",\"2020-08-10T00:00:00-04:00\",\"2020-08-11T00:00:00-04:00\",\"2020-08-12T00:00:00-04:00\",\"2020-08-13T00:00:00-04:00\",\"2020-08-14T00:00:00-04:00\",\"2020-08-17T00:00:00-04:00\",\"2020-08-18T00:00:00-04:00\",\"2020-08-19T00:00:00-04:00\",\"2020-08-20T00:00:00-04:00\",\"2020-08-21T00:00:00-04:00\",\"2020-08-24T00:00:00-04:00\",\"2020-08-25T00:00:00-04:00\",\"2020-08-26T00:00:00-04:00\",\"2020-08-27T00:00:00-04:00\",\"2020-08-28T00:00:00-04:00\",\"2020-08-31T00:00:00-04:00\",\"2020-09-01T00:00:00-04:00\",\"2020-09-02T00:00:00-04:00\",\"2020-09-03T00:00:00-04:00\",\"2020-09-04T00:00:00-04:00\",\"2020-09-08T00:00:00-04:00\",\"2020-09-09T00:00:00-04:00\",\"2020-09-10T00:00:00-04:00\",\"2020-09-11T00:00:00-04:00\",\"2020-09-14T00:00:00-04:00\",\"2020-09-15T00:00:00-04:00\",\"2020-09-16T00:00:00-04:00\",\"2020-09-17T00:00:00-04:00\",\"2020-09-18T00:00:00-04:00\",\"2020-09-21T00:00:00-04:00\",\"2020-09-22T00:00:00-04:00\",\"2020-09-23T00:00:00-04:00\",\"2020-09-24T00:00:00-04:00\",\"2020-09-25T00:00:00-04:00\",\"2020-09-28T00:00:00-04:00\",\"2020-09-29T00:00:00-04:00\",\"2020-09-30T00:00:00-04:00\",\"2020-10-01T00:00:00-04:00\",\"2020-10-02T00:00:00-04:00\",\"2020-10-05T00:00:00-04:00\",\"2020-10-06T00:00:00-04:00\",\"2020-10-07T00:00:00-04:00\",\"2020-10-08T00:00:00-04:00\",\"2020-10-09T00:00:00-04:00\",\"2020-10-12T00:00:00-04:00\",\"2020-10-13T00:00:00-04:00\",\"2020-10-14T00:00:00-04:00\",\"2020-10-15T00:00:00-04:00\",\"2020-10-16T00:00:00-04:00\",\"2020-10-19T00:00:00-04:00\",\"2020-10-20T00:00:00-04:00\",\"2020-10-21T00:00:00-04:00\",\"2020-10-22T00:00:00-04:00\",\"2020-10-23T00:00:00-04:00\",\"2020-10-26T00:00:00-04:00\",\"2020-10-27T00:00:00-04:00\",\"2020-10-28T00:00:00-04:00\",\"2020-10-29T00:00:00-04:00\",\"2020-10-30T00:00:00-04:00\",\"2020-11-02T00:00:00-05:00\",\"2020-11-03T00:00:00-05:00\",\"2020-11-04T00:00:00-05:00\",\"2020-11-05T00:00:00-05:00\",\"2020-11-06T00:00:00-05:00\",\"2020-11-09T00:00:00-05:00\",\"2020-11-10T00:00:00-05:00\",\"2020-11-11T00:00:00-05:00\",\"2020-11-12T00:00:00-05:00\",\"2020-11-13T00:00:00-05:00\",\"2020-11-16T00:00:00-05:00\",\"2020-11-17T00:00:00-05:00\",\"2020-11-18T00:00:00-05:00\",\"2020-11-19T00:00:00-05:00\",\"2020-11-20T00:00:00-05:00\",\"2020-11-23T00:00:00-05:00\",\"2020-11-24T00:00:00-05:00\",\"2020-11-25T00:00:00-05:00\",\"2020-11-27T00:00:00-05:00\",\"2020-11-30T00:00:00-05:00\",\"2020-12-01T00:00:00-05:00\",\"2020-12-02T00:00:00-05:00\",\"2020-12-03T00:00:00-05:00\",\"2020-12-04T00:00:00-05:00\",\"2020-12-07T00:00:00-05:00\",\"2020-12-08T00:00:00-05:00\",\"2020-12-09T00:00:00-05:00\",\"2020-12-10T00:00:00-05:00\",\"2020-12-11T00:00:00-05:00\",\"2020-12-14T00:00:00-05:00\",\"2020-12-15T00:00:00-05:00\",\"2020-12-16T00:00:00-05:00\",\"2020-12-17T00:00:00-05:00\",\"2020-12-18T00:00:00-05:00\",\"2020-12-21T00:00:00-05:00\",\"2020-12-22T00:00:00-05:00\",\"2020-12-23T00:00:00-05:00\",\"2020-12-24T00:00:00-05:00\",\"2020-12-28T00:00:00-05:00\",\"2020-12-29T00:00:00-05:00\",\"2020-12-30T00:00:00-05:00\",\"2020-12-31T00:00:00-05:00\",\"2021-01-04T00:00:00-05:00\",\"2021-01-05T00:00:00-05:00\",\"2021-01-06T00:00:00-05:00\",\"2021-01-07T00:00:00-05:00\",\"2021-01-08T00:00:00-05:00\",\"2021-01-11T00:00:00-05:00\",\"2021-01-12T00:00:00-05:00\",\"2021-01-13T00:00:00-05:00\",\"2021-01-14T00:00:00-05:00\",\"2021-01-15T00:00:00-05:00\",\"2021-01-19T00:00:00-05:00\",\"2021-01-20T00:00:00-05:00\",\"2021-01-21T00:00:00-05:00\",\"2021-01-22T00:00:00-05:00\",\"2021-01-25T00:00:00-05:00\",\"2021-01-26T00:00:00-05:00\",\"2021-01-27T00:00:00-05:00\",\"2021-01-28T00:00:00-05:00\",\"2021-01-29T00:00:00-05:00\",\"2021-02-01T00:00:00-05:00\",\"2021-02-02T00:00:00-05:00\",\"2021-02-03T00:00:00-05:00\",\"2021-02-04T00:00:00-05:00\",\"2021-02-05T00:00:00-05:00\",\"2021-02-08T00:00:00-05:00\",\"2021-02-09T00:00:00-05:00\",\"2021-02-10T00:00:00-05:00\",\"2021-02-11T00:00:00-05:00\",\"2021-02-12T00:00:00-05:00\",\"2021-02-16T00:00:00-05:00\",\"2021-02-17T00:00:00-05:00\",\"2021-02-18T00:00:00-05:00\",\"2021-02-19T00:00:00-05:00\",\"2021-02-22T00:00:00-05:00\",\"2021-02-23T00:00:00-05:00\",\"2021-02-24T00:00:00-05:00\",\"2021-02-25T00:00:00-05:00\",\"2021-02-26T00:00:00-05:00\",\"2021-03-01T00:00:00-05:00\",\"2021-03-02T00:00:00-05:00\",\"2021-03-03T00:00:00-05:00\",\"2021-03-04T00:00:00-05:00\",\"2021-03-05T00:00:00-05:00\",\"2021-03-08T00:00:00-05:00\",\"2021-03-09T00:00:00-05:00\",\"2021-03-10T00:00:00-05:00\",\"2021-03-11T00:00:00-05:00\",\"2021-03-12T00:00:00-05:00\",\"2021-03-15T00:00:00-04:00\",\"2021-03-16T00:00:00-04:00\",\"2021-03-17T00:00:00-04:00\",\"2021-03-18T00:00:00-04:00\",\"2021-03-19T00:00:00-04:00\",\"2021-03-22T00:00:00-04:00\",\"2021-03-23T00:00:00-04:00\",\"2021-03-24T00:00:00-04:00\",\"2021-03-25T00:00:00-04:00\",\"2021-03-26T00:00:00-04:00\",\"2021-03-29T00:00:00-04:00\",\"2021-03-30T00:00:00-04:00\",\"2021-03-31T00:00:00-04:00\",\"2021-04-01T00:00:00-04:00\",\"2021-04-05T00:00:00-04:00\",\"2021-04-06T00:00:00-04:00\",\"2021-04-07T00:00:00-04:00\",\"2021-04-08T00:00:00-04:00\",\"2021-04-09T00:00:00-04:00\",\"2021-04-12T00:00:00-04:00\",\"2021-04-13T00:00:00-04:00\",\"2021-04-14T00:00:00-04:00\",\"2021-04-15T00:00:00-04:00\",\"2021-04-16T00:00:00-04:00\",\"2021-04-19T00:00:00-04:00\",\"2021-04-20T00:00:00-04:00\",\"2021-04-21T00:00:00-04:00\",\"2021-04-22T00:00:00-04:00\",\"2021-04-23T00:00:00-04:00\",\"2021-04-26T00:00:00-04:00\",\"2021-04-27T00:00:00-04:00\",\"2021-04-28T00:00:00-04:00\",\"2021-04-29T00:00:00-04:00\",\"2021-04-30T00:00:00-04:00\",\"2021-05-03T00:00:00-04:00\",\"2021-05-04T00:00:00-04:00\",\"2021-05-05T00:00:00-04:00\",\"2021-05-06T00:00:00-04:00\",\"2021-05-07T00:00:00-04:00\",\"2021-05-10T00:00:00-04:00\",\"2021-05-11T00:00:00-04:00\",\"2021-05-12T00:00:00-04:00\",\"2021-05-13T00:00:00-04:00\",\"2021-05-14T00:00:00-04:00\",\"2021-05-17T00:00:00-04:00\",\"2021-05-18T00:00:00-04:00\",\"2021-05-19T00:00:00-04:00\",\"2021-05-20T00:00:00-04:00\",\"2021-05-21T00:00:00-04:00\",\"2021-05-24T00:00:00-04:00\",\"2021-05-25T00:00:00-04:00\",\"2021-05-26T00:00:00-04:00\",\"2021-05-27T00:00:00-04:00\",\"2021-05-28T00:00:00-04:00\",\"2021-06-01T00:00:00-04:00\",\"2021-06-02T00:00:00-04:00\",\"2021-06-03T00:00:00-04:00\",\"2021-06-04T00:00:00-04:00\",\"2021-06-07T00:00:00-04:00\",\"2021-06-08T00:00:00-04:00\",\"2021-06-09T00:00:00-04:00\",\"2021-06-10T00:00:00-04:00\",\"2021-06-11T00:00:00-04:00\",\"2021-06-14T00:00:00-04:00\",\"2021-06-15T00:00:00-04:00\",\"2021-06-16T00:00:00-04:00\",\"2021-06-17T00:00:00-04:00\",\"2021-06-18T00:00:00-04:00\",\"2021-06-21T00:00:00-04:00\",\"2021-06-22T00:00:00-04:00\",\"2021-06-23T00:00:00-04:00\",\"2021-06-24T00:00:00-04:00\",\"2021-06-25T00:00:00-04:00\",\"2021-06-28T00:00:00-04:00\",\"2021-06-29T00:00:00-04:00\",\"2021-06-30T00:00:00-04:00\",\"2021-07-01T00:00:00-04:00\",\"2021-07-02T00:00:00-04:00\",\"2021-07-06T00:00:00-04:00\",\"2021-07-07T00:00:00-04:00\",\"2021-07-08T00:00:00-04:00\",\"2021-07-09T00:00:00-04:00\",\"2021-07-12T00:00:00-04:00\",\"2021-07-13T00:00:00-04:00\",\"2021-07-14T00:00:00-04:00\",\"2021-07-15T00:00:00-04:00\",\"2021-07-16T00:00:00-04:00\",\"2021-07-19T00:00:00-04:00\",\"2021-07-20T00:00:00-04:00\",\"2021-07-21T00:00:00-04:00\",\"2021-07-22T00:00:00-04:00\",\"2021-07-23T00:00:00-04:00\",\"2021-07-26T00:00:00-04:00\",\"2021-07-27T00:00:00-04:00\",\"2021-07-28T00:00:00-04:00\",\"2021-07-29T00:00:00-04:00\",\"2021-07-30T00:00:00-04:00\",\"2021-08-02T00:00:00-04:00\",\"2021-08-03T00:00:00-04:00\",\"2021-08-04T00:00:00-04:00\",\"2021-08-05T00:00:00-04:00\",\"2021-08-06T00:00:00-04:00\",\"2021-08-09T00:00:00-04:00\",\"2021-08-10T00:00:00-04:00\",\"2021-08-11T00:00:00-04:00\",\"2021-08-12T00:00:00-04:00\",\"2021-08-13T00:00:00-04:00\",\"2021-08-16T00:00:00-04:00\",\"2021-08-17T00:00:00-04:00\",\"2021-08-18T00:00:00-04:00\",\"2021-08-19T00:00:00-04:00\",\"2021-08-20T00:00:00-04:00\",\"2021-08-23T00:00:00-04:00\",\"2021-08-24T00:00:00-04:00\",\"2021-08-25T00:00:00-04:00\",\"2021-08-26T00:00:00-04:00\",\"2021-08-27T00:00:00-04:00\",\"2021-08-30T00:00:00-04:00\",\"2021-08-31T00:00:00-04:00\",\"2021-09-01T00:00:00-04:00\",\"2021-09-02T00:00:00-04:00\",\"2021-09-03T00:00:00-04:00\",\"2021-09-07T00:00:00-04:00\",\"2021-09-08T00:00:00-04:00\",\"2021-09-09T00:00:00-04:00\",\"2021-09-10T00:00:00-04:00\",\"2021-09-13T00:00:00-04:00\",\"2021-09-14T00:00:00-04:00\",\"2021-09-15T00:00:00-04:00\",\"2021-09-16T00:00:00-04:00\",\"2021-09-17T00:00:00-04:00\",\"2021-09-20T00:00:00-04:00\",\"2021-09-21T00:00:00-04:00\",\"2021-09-22T00:00:00-04:00\",\"2021-09-23T00:00:00-04:00\",\"2021-09-24T00:00:00-04:00\",\"2021-09-27T00:00:00-04:00\",\"2021-09-28T00:00:00-04:00\",\"2021-09-29T00:00:00-04:00\",\"2021-09-30T00:00:00-04:00\",\"2021-10-01T00:00:00-04:00\",\"2021-10-04T00:00:00-04:00\",\"2021-10-05T00:00:00-04:00\",\"2021-10-06T00:00:00-04:00\",\"2021-10-07T00:00:00-04:00\",\"2021-10-08T00:00:00-04:00\",\"2021-10-11T00:00:00-04:00\",\"2021-10-12T00:00:00-04:00\",\"2021-10-13T00:00:00-04:00\",\"2021-10-14T00:00:00-04:00\",\"2021-10-15T00:00:00-04:00\",\"2021-10-18T00:00:00-04:00\",\"2021-10-19T00:00:00-04:00\",\"2021-10-20T00:00:00-04:00\",\"2021-10-21T00:00:00-04:00\",\"2021-10-22T00:00:00-04:00\",\"2021-10-25T00:00:00-04:00\",\"2021-10-26T00:00:00-04:00\",\"2021-10-27T00:00:00-04:00\",\"2021-10-28T00:00:00-04:00\",\"2021-10-29T00:00:00-04:00\",\"2021-11-01T00:00:00-04:00\",\"2021-11-02T00:00:00-04:00\",\"2021-11-03T00:00:00-04:00\",\"2021-11-04T00:00:00-04:00\",\"2021-11-05T00:00:00-04:00\",\"2021-11-08T00:00:00-05:00\",\"2021-11-09T00:00:00-05:00\",\"2021-11-10T00:00:00-05:00\",\"2021-11-11T00:00:00-05:00\",\"2021-11-12T00:00:00-05:00\",\"2021-11-15T00:00:00-05:00\",\"2021-11-16T00:00:00-05:00\",\"2021-11-17T00:00:00-05:00\",\"2021-11-18T00:00:00-05:00\",\"2021-11-19T00:00:00-05:00\",\"2021-11-22T00:00:00-05:00\",\"2021-11-23T00:00:00-05:00\",\"2021-11-24T00:00:00-05:00\",\"2021-11-26T00:00:00-05:00\",\"2021-11-29T00:00:00-05:00\",\"2021-11-30T00:00:00-05:00\",\"2021-12-01T00:00:00-05:00\",\"2021-12-02T00:00:00-05:00\",\"2021-12-03T00:00:00-05:00\",\"2021-12-06T00:00:00-05:00\",\"2021-12-07T00:00:00-05:00\",\"2021-12-08T00:00:00-05:00\",\"2021-12-09T00:00:00-05:00\",\"2021-12-10T00:00:00-05:00\",\"2021-12-13T00:00:00-05:00\",\"2021-12-14T00:00:00-05:00\",\"2021-12-15T00:00:00-05:00\",\"2021-12-16T00:00:00-05:00\",\"2021-12-17T00:00:00-05:00\",\"2021-12-20T00:00:00-05:00\",\"2021-12-21T00:00:00-05:00\",\"2021-12-22T00:00:00-05:00\",\"2021-12-23T00:00:00-05:00\",\"2021-12-27T00:00:00-05:00\",\"2021-12-28T00:00:00-05:00\",\"2021-12-29T00:00:00-05:00\",\"2021-12-30T00:00:00-05:00\",\"2021-12-31T00:00:00-05:00\",\"2022-01-03T00:00:00-05:00\",\"2022-01-04T00:00:00-05:00\",\"2022-01-05T00:00:00-05:00\",\"2022-01-06T00:00:00-05:00\",\"2022-01-07T00:00:00-05:00\",\"2022-01-10T00:00:00-05:00\",\"2022-01-11T00:00:00-05:00\",\"2022-01-12T00:00:00-05:00\",\"2022-01-13T00:00:00-05:00\",\"2022-01-14T00:00:00-05:00\",\"2022-01-18T00:00:00-05:00\",\"2022-01-19T00:00:00-05:00\",\"2022-01-20T00:00:00-05:00\",\"2022-01-21T00:00:00-05:00\",\"2022-01-24T00:00:00-05:00\",\"2022-01-25T00:00:00-05:00\",\"2022-01-26T00:00:00-05:00\",\"2022-01-27T00:00:00-05:00\",\"2022-01-28T00:00:00-05:00\",\"2022-01-31T00:00:00-05:00\",\"2022-02-01T00:00:00-05:00\",\"2022-02-02T00:00:00-05:00\",\"2022-02-03T00:00:00-05:00\",\"2022-02-04T00:00:00-05:00\",\"2022-02-07T00:00:00-05:00\",\"2022-02-08T00:00:00-05:00\",\"2022-02-09T00:00:00-05:00\",\"2022-02-10T00:00:00-05:00\",\"2022-02-11T00:00:00-05:00\",\"2022-02-14T00:00:00-05:00\",\"2022-02-15T00:00:00-05:00\",\"2022-02-16T00:00:00-05:00\",\"2022-02-17T00:00:00-05:00\",\"2022-02-18T00:00:00-05:00\",\"2022-02-22T00:00:00-05:00\",\"2022-02-23T00:00:00-05:00\",\"2022-02-24T00:00:00-05:00\",\"2022-02-25T00:00:00-05:00\",\"2022-02-28T00:00:00-05:00\",\"2022-03-01T00:00:00-05:00\",\"2022-03-02T00:00:00-05:00\",\"2022-03-03T00:00:00-05:00\",\"2022-03-04T00:00:00-05:00\",\"2022-03-07T00:00:00-05:00\",\"2022-03-08T00:00:00-05:00\",\"2022-03-09T00:00:00-05:00\",\"2022-03-10T00:00:00-05:00\",\"2022-03-11T00:00:00-05:00\",\"2022-03-14T00:00:00-04:00\",\"2022-03-15T00:00:00-04:00\",\"2022-03-16T00:00:00-04:00\",\"2022-03-17T00:00:00-04:00\",\"2022-03-18T00:00:00-04:00\",\"2022-03-21T00:00:00-04:00\",\"2022-03-22T00:00:00-04:00\",\"2022-03-23T00:00:00-04:00\",\"2022-03-24T00:00:00-04:00\",\"2022-03-25T00:00:00-04:00\",\"2022-03-28T00:00:00-04:00\",\"2022-03-29T00:00:00-04:00\",\"2022-03-30T00:00:00-04:00\",\"2022-03-31T00:00:00-04:00\",\"2022-04-01T00:00:00-04:00\",\"2022-04-04T00:00:00-04:00\",\"2022-04-05T00:00:00-04:00\",\"2022-04-06T00:00:00-04:00\",\"2022-04-07T00:00:00-04:00\",\"2022-04-08T00:00:00-04:00\",\"2022-04-11T00:00:00-04:00\",\"2022-04-12T00:00:00-04:00\",\"2022-04-13T00:00:00-04:00\",\"2022-04-14T00:00:00-04:00\",\"2022-04-18T00:00:00-04:00\",\"2022-04-19T00:00:00-04:00\",\"2022-04-20T00:00:00-04:00\",\"2022-04-21T00:00:00-04:00\",\"2022-04-22T00:00:00-04:00\",\"2022-04-25T00:00:00-04:00\",\"2022-04-26T00:00:00-04:00\",\"2022-04-27T00:00:00-04:00\",\"2022-04-28T00:00:00-04:00\",\"2022-04-29T00:00:00-04:00\",\"2022-05-02T00:00:00-04:00\",\"2022-05-03T00:00:00-04:00\",\"2022-05-04T00:00:00-04:00\",\"2022-05-05T00:00:00-04:00\",\"2022-05-06T00:00:00-04:00\",\"2022-05-09T00:00:00-04:00\",\"2022-05-10T00:00:00-04:00\",\"2022-05-11T00:00:00-04:00\",\"2022-05-12T00:00:00-04:00\",\"2022-05-13T00:00:00-04:00\",\"2022-05-16T00:00:00-04:00\",\"2022-05-17T00:00:00-04:00\",\"2022-05-18T00:00:00-04:00\",\"2022-05-19T00:00:00-04:00\",\"2022-05-20T00:00:00-04:00\",\"2022-05-23T00:00:00-04:00\",\"2022-05-24T00:00:00-04:00\",\"2022-05-25T00:00:00-04:00\",\"2022-05-26T00:00:00-04:00\",\"2022-05-27T00:00:00-04:00\",\"2022-05-31T00:00:00-04:00\",\"2022-06-01T00:00:00-04:00\",\"2022-06-02T00:00:00-04:00\",\"2022-06-03T00:00:00-04:00\",\"2022-06-06T00:00:00-04:00\",\"2022-06-07T00:00:00-04:00\",\"2022-06-08T00:00:00-04:00\",\"2022-06-09T00:00:00-04:00\",\"2022-06-10T00:00:00-04:00\",\"2022-06-13T00:00:00-04:00\",\"2022-06-14T00:00:00-04:00\",\"2022-06-15T00:00:00-04:00\",\"2022-06-16T00:00:00-04:00\",\"2022-06-17T00:00:00-04:00\",\"2022-06-21T00:00:00-04:00\",\"2022-06-22T00:00:00-04:00\",\"2022-06-23T00:00:00-04:00\",\"2022-06-24T00:00:00-04:00\",\"2022-06-27T00:00:00-04:00\",\"2022-06-28T00:00:00-04:00\",\"2022-06-29T00:00:00-04:00\",\"2022-06-30T00:00:00-04:00\",\"2022-07-01T00:00:00-04:00\",\"2022-07-05T00:00:00-04:00\",\"2022-07-06T00:00:00-04:00\",\"2022-07-07T00:00:00-04:00\",\"2022-07-08T00:00:00-04:00\",\"2022-07-11T00:00:00-04:00\",\"2022-07-12T00:00:00-04:00\",\"2022-07-13T00:00:00-04:00\",\"2022-07-14T00:00:00-04:00\",\"2022-07-15T00:00:00-04:00\",\"2022-07-18T00:00:00-04:00\",\"2022-07-19T00:00:00-04:00\",\"2022-07-20T00:00:00-04:00\",\"2022-07-21T00:00:00-04:00\",\"2022-07-22T00:00:00-04:00\",\"2022-07-25T00:00:00-04:00\",\"2022-07-26T00:00:00-04:00\",\"2022-07-27T00:00:00-04:00\",\"2022-07-28T00:00:00-04:00\",\"2022-07-29T00:00:00-04:00\",\"2022-08-01T00:00:00-04:00\",\"2022-08-02T00:00:00-04:00\",\"2022-08-03T00:00:00-04:00\",\"2022-08-04T00:00:00-04:00\",\"2022-08-05T00:00:00-04:00\",\"2022-08-08T00:00:00-04:00\",\"2022-08-09T00:00:00-04:00\",\"2022-08-10T00:00:00-04:00\",\"2022-08-11T00:00:00-04:00\",\"2022-08-12T00:00:00-04:00\",\"2022-08-15T00:00:00-04:00\",\"2022-08-16T00:00:00-04:00\",\"2022-08-17T00:00:00-04:00\",\"2022-08-18T00:00:00-04:00\",\"2022-08-19T00:00:00-04:00\",\"2022-08-22T00:00:00-04:00\",\"2022-08-23T00:00:00-04:00\",\"2022-08-24T00:00:00-04:00\",\"2022-08-25T00:00:00-04:00\",\"2022-08-26T00:00:00-04:00\",\"2022-08-29T00:00:00-04:00\",\"2022-08-30T00:00:00-04:00\",\"2022-08-31T00:00:00-04:00\",\"2022-09-01T00:00:00-04:00\",\"2022-09-02T00:00:00-04:00\",\"2022-09-06T00:00:00-04:00\",\"2022-09-07T00:00:00-04:00\",\"2022-09-08T00:00:00-04:00\",\"2022-09-09T00:00:00-04:00\",\"2022-09-12T00:00:00-04:00\",\"2022-09-13T00:00:00-04:00\",\"2022-09-14T00:00:00-04:00\",\"2022-09-15T00:00:00-04:00\",\"2022-09-16T00:00:00-04:00\",\"2022-09-19T00:00:00-04:00\",\"2022-09-20T00:00:00-04:00\",\"2022-09-21T00:00:00-04:00\",\"2022-09-22T00:00:00-04:00\",\"2022-09-23T00:00:00-04:00\",\"2022-09-26T00:00:00-04:00\",\"2022-09-27T00:00:00-04:00\",\"2022-09-28T00:00:00-04:00\",\"2022-09-29T00:00:00-04:00\",\"2022-09-30T00:00:00-04:00\",\"2022-10-03T00:00:00-04:00\",\"2022-10-04T00:00:00-04:00\",\"2022-10-05T00:00:00-04:00\",\"2022-10-06T00:00:00-04:00\",\"2022-10-07T00:00:00-04:00\",\"2022-10-10T00:00:00-04:00\",\"2022-10-11T00:00:00-04:00\",\"2022-10-12T00:00:00-04:00\",\"2022-10-13T00:00:00-04:00\",\"2022-10-14T00:00:00-04:00\",\"2022-10-17T00:00:00-04:00\",\"2022-10-18T00:00:00-04:00\",\"2022-10-19T00:00:00-04:00\",\"2022-10-20T00:00:00-04:00\",\"2022-10-21T00:00:00-04:00\",\"2022-10-24T00:00:00-04:00\",\"2022-10-25T00:00:00-04:00\",\"2022-10-26T00:00:00-04:00\",\"2022-10-27T00:00:00-04:00\",\"2022-10-28T00:00:00-04:00\",\"2022-10-31T00:00:00-04:00\",\"2022-11-01T00:00:00-04:00\",\"2022-11-02T00:00:00-04:00\",\"2022-11-03T00:00:00-04:00\",\"2022-11-04T00:00:00-04:00\",\"2022-11-07T00:00:00-05:00\",\"2022-11-08T00:00:00-05:00\",\"2022-11-09T00:00:00-05:00\",\"2022-11-10T00:00:00-05:00\",\"2022-11-11T00:00:00-05:00\",\"2022-11-14T00:00:00-05:00\",\"2022-11-15T00:00:00-05:00\",\"2022-11-16T00:00:00-05:00\",\"2022-11-17T00:00:00-05:00\",\"2022-11-18T00:00:00-05:00\",\"2022-11-21T00:00:00-05:00\",\"2022-11-22T00:00:00-05:00\",\"2022-11-23T00:00:00-05:00\",\"2022-11-25T00:00:00-05:00\",\"2022-11-28T00:00:00-05:00\",\"2022-11-29T00:00:00-05:00\",\"2022-11-30T00:00:00-05:00\",\"2022-12-01T00:00:00-05:00\",\"2022-12-02T00:00:00-05:00\",\"2022-12-05T00:00:00-05:00\",\"2022-12-06T00:00:00-05:00\",\"2022-12-07T00:00:00-05:00\"],\"type\":\"candlestick\"}],                        {\"template\":{\"data\":{\"bar\":[{\"error_x\":{\"color\":\"#2a3f5f\"},\"error_y\":{\"color\":\"#2a3f5f\"},\"marker\":{\"line\":{\"color\":\"#E5ECF6\",\"width\":0.5},\"pattern\":{\"fillmode\":\"overlay\",\"size\":10,\"solidity\":0.2}},\"type\":\"bar\"}],\"barpolar\":[{\"marker\":{\"line\":{\"color\":\"#E5ECF6\",\"width\":0.5},\"pattern\":{\"fillmode\":\"overlay\",\"size\":10,\"solidity\":0.2}},\"type\":\"barpolar\"}],\"carpet\":[{\"aaxis\":{\"endlinecolor\":\"#2a3f5f\",\"gridcolor\":\"white\",\"linecolor\":\"white\",\"minorgridcolor\":\"white\",\"startlinecolor\":\"#2a3f5f\"},\"baxis\":{\"endlinecolor\":\"#2a3f5f\",\"gridcolor\":\"white\",\"linecolor\":\"white\",\"minorgridcolor\":\"white\",\"startlinecolor\":\"#2a3f5f\"},\"type\":\"carpet\"}],\"choropleth\":[{\"colorbar\":{\"outlinewidth\":0,\"ticks\":\"\"},\"type\":\"choropleth\"}],\"contour\":[{\"colorbar\":{\"outlinewidth\":0,\"ticks\":\"\"},\"colorscale\":[[0.0,\"#0d0887\"],[0.1111111111111111,\"#46039f\"],[0.2222222222222222,\"#7201a8\"],[0.3333333333333333,\"#9c179e\"],[0.4444444444444444,\"#bd3786\"],[0.5555555555555556,\"#d8576b\"],[0.6666666666666666,\"#ed7953\"],[0.7777777777777778,\"#fb9f3a\"],[0.8888888888888888,\"#fdca26\"],[1.0,\"#f0f921\"]],\"type\":\"contour\"}],\"contourcarpet\":[{\"colorbar\":{\"outlinewidth\":0,\"ticks\":\"\"},\"type\":\"contourcarpet\"}],\"heatmap\":[{\"colorbar\":{\"outlinewidth\":0,\"ticks\":\"\"},\"colorscale\":[[0.0,\"#0d0887\"],[0.1111111111111111,\"#46039f\"],[0.2222222222222222,\"#7201a8\"],[0.3333333333333333,\"#9c179e\"],[0.4444444444444444,\"#bd3786\"],[0.5555555555555556,\"#d8576b\"],[0.6666666666666666,\"#ed7953\"],[0.7777777777777778,\"#fb9f3a\"],[0.8888888888888888,\"#fdca26\"],[1.0,\"#f0f921\"]],\"type\":\"heatmap\"}],\"heatmapgl\":[{\"colorbar\":{\"outlinewidth\":0,\"ticks\":\"\"},\"colorscale\":[[0.0,\"#0d0887\"],[0.1111111111111111,\"#46039f\"],[0.2222222222222222,\"#7201a8\"],[0.3333333333333333,\"#9c179e\"],[0.4444444444444444,\"#bd3786\"],[0.5555555555555556,\"#d8576b\"],[0.6666666666666666,\"#ed7953\"],[0.7777777777777778,\"#fb9f3a\"],[0.8888888888888888,\"#fdca26\"],[1.0,\"#f0f921\"]],\"type\":\"heatmapgl\"}],\"histogram\":[{\"marker\":{\"pattern\":{\"fillmode\":\"overlay\",\"size\":10,\"solidity\":0.2}},\"type\":\"histogram\"}],\"histogram2d\":[{\"colorbar\":{\"outlinewidth\":0,\"ticks\":\"\"},\"colorscale\":[[0.0,\"#0d0887\"],[0.1111111111111111,\"#46039f\"],[0.2222222222222222,\"#7201a8\"],[0.3333333333333333,\"#9c179e\"],[0.4444444444444444,\"#bd3786\"],[0.5555555555555556,\"#d8576b\"],[0.6666666666666666,\"#ed7953\"],[0.7777777777777778,\"#fb9f3a\"],[0.8888888888888888,\"#fdca26\"],[1.0,\"#f0f921\"]],\"type\":\"histogram2d\"}],\"histogram2dcontour\":[{\"colorbar\":{\"outlinewidth\":0,\"ticks\":\"\"},\"colorscale\":[[0.0,\"#0d0887\"],[0.1111111111111111,\"#46039f\"],[0.2222222222222222,\"#7201a8\"],[0.3333333333333333,\"#9c179e\"],[0.4444444444444444,\"#bd3786\"],[0.5555555555555556,\"#d8576b\"],[0.6666666666666666,\"#ed7953\"],[0.7777777777777778,\"#fb9f3a\"],[0.8888888888888888,\"#fdca26\"],[1.0,\"#f0f921\"]],\"type\":\"histogram2dcontour\"}],\"mesh3d\":[{\"colorbar\":{\"outlinewidth\":0,\"ticks\":\"\"},\"type\":\"mesh3d\"}],\"parcoords\":[{\"line\":{\"colorbar\":{\"outlinewidth\":0,\"ticks\":\"\"}},\"type\":\"parcoords\"}],\"pie\":[{\"automargin\":true,\"type\":\"pie\"}],\"scatter\":[{\"marker\":{\"colorbar\":{\"outlinewidth\":0,\"ticks\":\"\"}},\"type\":\"scatter\"}],\"scatter3d\":[{\"line\":{\"colorbar\":{\"outlinewidth\":0,\"ticks\":\"\"}},\"marker\":{\"colorbar\":{\"outlinewidth\":0,\"ticks\":\"\"}},\"type\":\"scatter3d\"}],\"scattercarpet\":[{\"marker\":{\"colorbar\":{\"outlinewidth\":0,\"ticks\":\"\"}},\"type\":\"scattercarpet\"}],\"scattergeo\":[{\"marker\":{\"colorbar\":{\"outlinewidth\":0,\"ticks\":\"\"}},\"type\":\"scattergeo\"}],\"scattergl\":[{\"marker\":{\"colorbar\":{\"outlinewidth\":0,\"ticks\":\"\"}},\"type\":\"scattergl\"}],\"scattermapbox\":[{\"marker\":{\"colorbar\":{\"outlinewidth\":0,\"ticks\":\"\"}},\"type\":\"scattermapbox\"}],\"scatterpolar\":[{\"marker\":{\"colorbar\":{\"outlinewidth\":0,\"ticks\":\"\"}},\"type\":\"scatterpolar\"}],\"scatterpolargl\":[{\"marker\":{\"colorbar\":{\"outlinewidth\":0,\"ticks\":\"\"}},\"type\":\"scatterpolargl\"}],\"scatterternary\":[{\"marker\":{\"colorbar\":{\"outlinewidth\":0,\"ticks\":\"\"}},\"type\":\"scatterternary\"}],\"surface\":[{\"colorbar\":{\"outlinewidth\":0,\"ticks\":\"\"},\"colorscale\":[[0.0,\"#0d0887\"],[0.1111111111111111,\"#46039f\"],[0.2222222222222222,\"#7201a8\"],[0.3333333333333333,\"#9c179e\"],[0.4444444444444444,\"#bd3786\"],[0.5555555555555556,\"#d8576b\"],[0.6666666666666666,\"#ed7953\"],[0.7777777777777778,\"#fb9f3a\"],[0.8888888888888888,\"#fdca26\"],[1.0,\"#f0f921\"]],\"type\":\"surface\"}],\"table\":[{\"cells\":{\"fill\":{\"color\":\"#EBF0F8\"},\"line\":{\"color\":\"white\"}},\"header\":{\"fill\":{\"color\":\"#C8D4E3\"},\"line\":{\"color\":\"white\"}},\"type\":\"table\"}]},\"layout\":{\"annotationdefaults\":{\"arrowcolor\":\"#2a3f5f\",\"arrowhead\":0,\"arrowwidth\":1},\"autotypenumbers\":\"strict\",\"coloraxis\":{\"colorbar\":{\"outlinewidth\":0,\"ticks\":\"\"}},\"colorscale\":{\"diverging\":[[0,\"#8e0152\"],[0.1,\"#c51b7d\"],[0.2,\"#de77ae\"],[0.3,\"#f1b6da\"],[0.4,\"#fde0ef\"],[0.5,\"#f7f7f7\"],[0.6,\"#e6f5d0\"],[0.7,\"#b8e186\"],[0.8,\"#7fbc41\"],[0.9,\"#4d9221\"],[1,\"#276419\"]],\"sequential\":[[0.0,\"#0d0887\"],[0.1111111111111111,\"#46039f\"],[0.2222222222222222,\"#7201a8\"],[0.3333333333333333,\"#9c179e\"],[0.4444444444444444,\"#bd3786\"],[0.5555555555555556,\"#d8576b\"],[0.6666666666666666,\"#ed7953\"],[0.7777777777777778,\"#fb9f3a\"],[0.8888888888888888,\"#fdca26\"],[1.0,\"#f0f921\"]],\"sequentialminus\":[[0.0,\"#0d0887\"],[0.1111111111111111,\"#46039f\"],[0.2222222222222222,\"#7201a8\"],[0.3333333333333333,\"#9c179e\"],[0.4444444444444444,\"#bd3786\"],[0.5555555555555556,\"#d8576b\"],[0.6666666666666666,\"#ed7953\"],[0.7777777777777778,\"#fb9f3a\"],[0.8888888888888888,\"#fdca26\"],[1.0,\"#f0f921\"]]},\"colorway\":[\"#636efa\",\"#EF553B\",\"#00cc96\",\"#ab63fa\",\"#FFA15A\",\"#19d3f3\",\"#FF6692\",\"#B6E880\",\"#FF97FF\",\"#FECB52\"],\"font\":{\"color\":\"#2a3f5f\"},\"geo\":{\"bgcolor\":\"white\",\"lakecolor\":\"white\",\"landcolor\":\"#E5ECF6\",\"showlakes\":true,\"showland\":true,\"subunitcolor\":\"white\"},\"hoverlabel\":{\"align\":\"left\"},\"hovermode\":\"closest\",\"mapbox\":{\"style\":\"light\"},\"paper_bgcolor\":\"white\",\"plot_bgcolor\":\"#E5ECF6\",\"polar\":{\"angularaxis\":{\"gridcolor\":\"white\",\"linecolor\":\"white\",\"ticks\":\"\"},\"bgcolor\":\"#E5ECF6\",\"radialaxis\":{\"gridcolor\":\"white\",\"linecolor\":\"white\",\"ticks\":\"\"}},\"scene\":{\"xaxis\":{\"backgroundcolor\":\"#E5ECF6\",\"gridcolor\":\"white\",\"gridwidth\":2,\"linecolor\":\"white\",\"showbackground\":true,\"ticks\":\"\",\"zerolinecolor\":\"white\"},\"yaxis\":{\"backgroundcolor\":\"#E5ECF6\",\"gridcolor\":\"white\",\"gridwidth\":2,\"linecolor\":\"white\",\"showbackground\":true,\"ticks\":\"\",\"zerolinecolor\":\"white\"},\"zaxis\":{\"backgroundcolor\":\"#E5ECF6\",\"gridcolor\":\"white\",\"gridwidth\":2,\"linecolor\":\"white\",\"showbackground\":true,\"ticks\":\"\",\"zerolinecolor\":\"white\"}},\"shapedefaults\":{\"line\":{\"color\":\"#2a3f5f\"}},\"ternary\":{\"aaxis\":{\"gridcolor\":\"white\",\"linecolor\":\"white\",\"ticks\":\"\"},\"baxis\":{\"gridcolor\":\"white\",\"linecolor\":\"white\",\"ticks\":\"\"},\"bgcolor\":\"#E5ECF6\",\"caxis\":{\"gridcolor\":\"white\",\"linecolor\":\"white\",\"ticks\":\"\"}},\"title\":{\"x\":0.05},\"xaxis\":{\"automargin\":true,\"gridcolor\":\"white\",\"linecolor\":\"white\",\"ticks\":\"\",\"title\":{\"standoff\":15},\"zerolinecolor\":\"white\",\"zerolinewidth\":2},\"yaxis\":{\"automargin\":true,\"gridcolor\":\"white\",\"linecolor\":\"white\",\"ticks\":\"\",\"title\":{\"standoff\":15},\"zerolinecolor\":\"white\",\"zerolinewidth\":2}}},\"margin\":{\"l\":20,\"r\":20,\"t\":60,\"b\":20},\"height\":350,\"paper_bgcolor\":\"LightSteelBlue\",\"title\":{\"text\":\"META\"}},                        {\"responsive\": true}                    ).then(function(){\n",
              "                            \n",
              "var gd = document.getElementById('e7312ee6-ed0a-4821-83d6-f190a14b274c');\n",
              "var x = new MutationObserver(function (mutations, observer) {{\n",
              "        var display = window.getComputedStyle(gd).display;\n",
              "        if (!display || display === 'none') {{\n",
              "            console.log([gd, 'removed!']);\n",
              "            Plotly.purge(gd);\n",
              "            observer.disconnect();\n",
              "        }}\n",
              "}});\n",
              "\n",
              "// Listen for the removal of the full notebook cells\n",
              "var notebookContainer = gd.closest('#notebook-container');\n",
              "if (notebookContainer) {{\n",
              "    x.observe(notebookContainer, {childList: true});\n",
              "}}\n",
              "\n",
              "// Listen for the clearing of the current output cell\n",
              "var outputEl = gd.closest('.output');\n",
              "if (outputEl) {{\n",
              "    x.observe(outputEl, {childList: true});\n",
              "}}\n",
              "\n",
              "                        })                };                            </script>        </div>\n",
              "</body>\n",
              "</html>"
            ]
          },
          "metadata": {},
          "output_type": "display_data"
        }
      ],
      "source": [
        "for stock in stock_list:\n",
        "    temp_df = company_histories[stock].copy()\n",
        "\n",
        "    fig = graph_obj.Figure(data=[graph_obj.Candlestick( x=temp_df.index, open=temp_df[\"Open\"], high=temp_df[\"High\"], low=temp_df[\"Low\"], close=temp_df[\"Close\"],)])\n",
        "\n",
        "    fig.update_layout( margin=dict(l=20, r=20, t=60, b=20), height=350, paper_bgcolor=\"LightSteelBlue\", title=stock,)\n",
        "\n",
        "    fig.show()"
      ]
    },
    {
      "cell_type": "markdown",
      "source": [
        "## Data Preprocessing"
      ],
      "metadata": {
        "id": "V465xuHQXojQ"
      }
    },
    {
      "cell_type": "markdown",
      "source": [
        "training dataset\n",
        "\n",
        "---\n",
        "\n"
      ],
      "metadata": {
        "id": "XuA4uB92of1i"
      }
    },
    {
      "cell_type": "code",
      "source": [
        "import pandas as pd\n",
        "import nltk\n",
        "from nltk.corpus import stopwords\n",
        "from nltk.tokenize import word_tokenize\n",
        "from nltk.stem import PorterStemmer"
      ],
      "metadata": {
        "id": "xspeG62ZXqjX"
      },
      "execution_count": null,
      "outputs": []
    },
    {
      "cell_type": "code",
      "source": [
        "# Load the dataset\n",
        "data = pd.read_csv(\"train.csv\")\n",
        "\n",
        "# Add column names\n",
        "data.columns = ['label', 'review', 'description']\n",
        "\n",
        "# Print the DataFrame\n",
        "data.head()"
      ],
      "metadata": {
        "colab": {
          "base_uri": "https://localhost:8080/",
          "height": 206
        },
        "id": "RPJbeRFzXyi7",
        "outputId": "5c6acab3-ebd2-48c3-9077-8023860cea15"
      },
      "execution_count": null,
      "outputs": [
        {
          "output_type": "execute_result",
          "data": {
            "text/plain": [
              "   label                                             review  \\\n",
              "0      2              The best soundtrack ever to anything.   \n",
              "1      2                                           Amazing!   \n",
              "2      2                               Excellent Soundtrack   \n",
              "3      2  Remember, Pull Your Jaw Off The Floor After He...   \n",
              "4      2                            an absolute masterpiece   \n",
              "\n",
              "                                         description  \n",
              "0  I'm reading a lot of reviews saying that this ...  \n",
              "1  This soundtrack is my favorite music of all ti...  \n",
              "2  I truly like this soundtrack and I enjoy video...  \n",
              "3  If you've played the game, you know how divine...  \n",
              "4  I am quite sure any of you actually taking the...  "
            ],
            "text/html": [
              "\n",
              "  <div id=\"df-38d7f42b-731f-471d-91e3-057e03c62875\">\n",
              "    <div class=\"colab-df-container\">\n",
              "      <div>\n",
              "<style scoped>\n",
              "    .dataframe tbody tr th:only-of-type {\n",
              "        vertical-align: middle;\n",
              "    }\n",
              "\n",
              "    .dataframe tbody tr th {\n",
              "        vertical-align: top;\n",
              "    }\n",
              "\n",
              "    .dataframe thead th {\n",
              "        text-align: right;\n",
              "    }\n",
              "</style>\n",
              "<table border=\"1\" class=\"dataframe\">\n",
              "  <thead>\n",
              "    <tr style=\"text-align: right;\">\n",
              "      <th></th>\n",
              "      <th>label</th>\n",
              "      <th>review</th>\n",
              "      <th>description</th>\n",
              "    </tr>\n",
              "  </thead>\n",
              "  <tbody>\n",
              "    <tr>\n",
              "      <th>0</th>\n",
              "      <td>2</td>\n",
              "      <td>The best soundtrack ever to anything.</td>\n",
              "      <td>I'm reading a lot of reviews saying that this ...</td>\n",
              "    </tr>\n",
              "    <tr>\n",
              "      <th>1</th>\n",
              "      <td>2</td>\n",
              "      <td>Amazing!</td>\n",
              "      <td>This soundtrack is my favorite music of all ti...</td>\n",
              "    </tr>\n",
              "    <tr>\n",
              "      <th>2</th>\n",
              "      <td>2</td>\n",
              "      <td>Excellent Soundtrack</td>\n",
              "      <td>I truly like this soundtrack and I enjoy video...</td>\n",
              "    </tr>\n",
              "    <tr>\n",
              "      <th>3</th>\n",
              "      <td>2</td>\n",
              "      <td>Remember, Pull Your Jaw Off The Floor After He...</td>\n",
              "      <td>If you've played the game, you know how divine...</td>\n",
              "    </tr>\n",
              "    <tr>\n",
              "      <th>4</th>\n",
              "      <td>2</td>\n",
              "      <td>an absolute masterpiece</td>\n",
              "      <td>I am quite sure any of you actually taking the...</td>\n",
              "    </tr>\n",
              "  </tbody>\n",
              "</table>\n",
              "</div>\n",
              "      <button class=\"colab-df-convert\" onclick=\"convertToInteractive('df-38d7f42b-731f-471d-91e3-057e03c62875')\"\n",
              "              title=\"Convert this dataframe to an interactive table.\"\n",
              "              style=\"display:none;\">\n",
              "        \n",
              "  <svg xmlns=\"http://www.w3.org/2000/svg\" height=\"24px\"viewBox=\"0 0 24 24\"\n",
              "       width=\"24px\">\n",
              "    <path d=\"M0 0h24v24H0V0z\" fill=\"none\"/>\n",
              "    <path d=\"M18.56 5.44l.94 2.06.94-2.06 2.06-.94-2.06-.94-.94-2.06-.94 2.06-2.06.94zm-11 1L8.5 8.5l.94-2.06 2.06-.94-2.06-.94L8.5 2.5l-.94 2.06-2.06.94zm10 10l.94 2.06.94-2.06 2.06-.94-2.06-.94-.94-2.06-.94 2.06-2.06.94z\"/><path d=\"M17.41 7.96l-1.37-1.37c-.4-.4-.92-.59-1.43-.59-.52 0-1.04.2-1.43.59L10.3 9.45l-7.72 7.72c-.78.78-.78 2.05 0 2.83L4 21.41c.39.39.9.59 1.41.59.51 0 1.02-.2 1.41-.59l7.78-7.78 2.81-2.81c.8-.78.8-2.07 0-2.86zM5.41 20L4 18.59l7.72-7.72 1.47 1.35L5.41 20z\"/>\n",
              "  </svg>\n",
              "      </button>\n",
              "      \n",
              "  <style>\n",
              "    .colab-df-container {\n",
              "      display:flex;\n",
              "      flex-wrap:wrap;\n",
              "      gap: 12px;\n",
              "    }\n",
              "\n",
              "    .colab-df-convert {\n",
              "      background-color: #E8F0FE;\n",
              "      border: none;\n",
              "      border-radius: 50%;\n",
              "      cursor: pointer;\n",
              "      display: none;\n",
              "      fill: #1967D2;\n",
              "      height: 32px;\n",
              "      padding: 0 0 0 0;\n",
              "      width: 32px;\n",
              "    }\n",
              "\n",
              "    .colab-df-convert:hover {\n",
              "      background-color: #E2EBFA;\n",
              "      box-shadow: 0px 1px 2px rgba(60, 64, 67, 0.3), 0px 1px 3px 1px rgba(60, 64, 67, 0.15);\n",
              "      fill: #174EA6;\n",
              "    }\n",
              "\n",
              "    [theme=dark] .colab-df-convert {\n",
              "      background-color: #3B4455;\n",
              "      fill: #D2E3FC;\n",
              "    }\n",
              "\n",
              "    [theme=dark] .colab-df-convert:hover {\n",
              "      background-color: #434B5C;\n",
              "      box-shadow: 0px 1px 3px 1px rgba(0, 0, 0, 0.15);\n",
              "      filter: drop-shadow(0px 1px 2px rgba(0, 0, 0, 0.3));\n",
              "      fill: #FFFFFF;\n",
              "    }\n",
              "  </style>\n",
              "\n",
              "      <script>\n",
              "        const buttonEl =\n",
              "          document.querySelector('#df-38d7f42b-731f-471d-91e3-057e03c62875 button.colab-df-convert');\n",
              "        buttonEl.style.display =\n",
              "          google.colab.kernel.accessAllowed ? 'block' : 'none';\n",
              "\n",
              "        async function convertToInteractive(key) {\n",
              "          const element = document.querySelector('#df-38d7f42b-731f-471d-91e3-057e03c62875');\n",
              "          const dataTable =\n",
              "            await google.colab.kernel.invokeFunction('convertToInteractive',\n",
              "                                                     [key], {});\n",
              "          if (!dataTable) return;\n",
              "\n",
              "          const docLinkHtml = 'Like what you see? Visit the ' +\n",
              "            '<a target=\"_blank\" href=https://colab.research.google.com/notebooks/data_table.ipynb>data table notebook</a>'\n",
              "            + ' to learn more about interactive tables.';\n",
              "          element.innerHTML = '';\n",
              "          dataTable['output_type'] = 'display_data';\n",
              "          await google.colab.output.renderOutput(dataTable, element);\n",
              "          const docLink = document.createElement('div');\n",
              "          docLink.innerHTML = docLinkHtml;\n",
              "          element.appendChild(docLink);\n",
              "        }\n",
              "      </script>\n",
              "    </div>\n",
              "  </div>\n",
              "  "
            ]
          },
          "metadata": {},
          "execution_count": 11
        }
      ]
    },
    {
      "cell_type": "code",
      "source": [
        "df = data.head(50000)"
      ],
      "metadata": {
        "id": "ks-zaYJsnfDc"
      },
      "execution_count": null,
      "outputs": []
    },
    {
      "cell_type": "code",
      "source": [
        "# Define the features and labels\n",
        "x_train = df['description']\n",
        "y_train = df['label']\n",
        "\n",
        "# Define the stop words\n",
        "nltk.download('stopwords')\n",
        "nltk.download('punkt')\n",
        "stop_words = set(stopwords.words('english'))\n",
        "stemmer = PorterStemmer()\n",
        "\n",
        "# Define a function to preprocess the text\n",
        "def preprocess_text(text):\n",
        "    tokens = word_tokenize(text)\n",
        "    # remove stop words\n",
        "    tokens = [token for token in tokens if token.lower() not in stop_words]\n",
        "    # perform stemming\n",
        "    tokens = [stemmer.stem(token) for token in tokens]\n",
        "    return \" \".join(tokens)"
      ],
      "metadata": {
        "colab": {
          "base_uri": "https://localhost:8080/"
        },
        "id": "Xi6EHwTeXsw7",
        "outputId": "e935eeeb-e1b1-4c9e-dc63-6301e2fbafc0"
      },
      "execution_count": null,
      "outputs": [
        {
          "output_type": "stream",
          "name": "stderr",
          "text": [
            "[nltk_data] Downloading package stopwords to /root/nltk_data...\n",
            "[nltk_data]   Unzipping corpora/stopwords.zip.\n",
            "[nltk_data] Downloading package punkt to /root/nltk_data...\n",
            "[nltk_data]   Unzipping tokenizers/punkt.zip.\n"
          ]
        }
      ]
    },
    {
      "cell_type": "code",
      "source": [
        "x_train = x_train.apply(preprocess_text)"
      ],
      "metadata": {
        "id": "u3V6_ZlObF83"
      },
      "execution_count": null,
      "outputs": []
    },
    {
      "cell_type": "markdown",
      "source": [
        "testing dataset\n",
        "\n",
        "---\n",
        "\n"
      ],
      "metadata": {
        "id": "n2qCDT10oiBn"
      }
    },
    {
      "cell_type": "code",
      "source": [
        "# Load the dataset\n",
        "data = pd.read_csv(\"test.csv\")\n",
        "\n",
        "# Add column names\n",
        "data.columns = ['label', 'review', 'description']\n",
        "\n",
        "# Print the DataFrame\n",
        "data.head()"
      ],
      "metadata": {
        "colab": {
          "base_uri": "https://localhost:8080/",
          "height": 206
        },
        "id": "s3vcpWNDoj7g",
        "outputId": "e616e859-a05a-4304-abe2-9c0abee4d64e"
      },
      "execution_count": null,
      "outputs": [
        {
          "output_type": "execute_result",
          "data": {
            "text/plain": [
              "   label                                             review  \\\n",
              "0      2  One of the best game music soundtracks - for a...   \n",
              "1      1                   Batteries died within a year ...   \n",
              "2      2              works fine, but Maha Energy is better   \n",
              "3      2                       Great for the non-audiophile   \n",
              "4      1              DVD Player crapped out after one year   \n",
              "\n",
              "                                         description  \n",
              "0  Despite the fact that I have only played a sma...  \n",
              "1  I bought this charger in Jul 2003 and it worke...  \n",
              "2  Check out Maha Energy's website. Their Powerex...  \n",
              "3  Reviewed quite a bit of the combo players and ...  \n",
              "4  I also began having the incorrect disc problem...  "
            ],
            "text/html": [
              "\n",
              "  <div id=\"df-73ca5440-91f4-45a5-a950-2a6e0cb7dd6b\">\n",
              "    <div class=\"colab-df-container\">\n",
              "      <div>\n",
              "<style scoped>\n",
              "    .dataframe tbody tr th:only-of-type {\n",
              "        vertical-align: middle;\n",
              "    }\n",
              "\n",
              "    .dataframe tbody tr th {\n",
              "        vertical-align: top;\n",
              "    }\n",
              "\n",
              "    .dataframe thead th {\n",
              "        text-align: right;\n",
              "    }\n",
              "</style>\n",
              "<table border=\"1\" class=\"dataframe\">\n",
              "  <thead>\n",
              "    <tr style=\"text-align: right;\">\n",
              "      <th></th>\n",
              "      <th>label</th>\n",
              "      <th>review</th>\n",
              "      <th>description</th>\n",
              "    </tr>\n",
              "  </thead>\n",
              "  <tbody>\n",
              "    <tr>\n",
              "      <th>0</th>\n",
              "      <td>2</td>\n",
              "      <td>One of the best game music soundtracks - for a...</td>\n",
              "      <td>Despite the fact that I have only played a sma...</td>\n",
              "    </tr>\n",
              "    <tr>\n",
              "      <th>1</th>\n",
              "      <td>1</td>\n",
              "      <td>Batteries died within a year ...</td>\n",
              "      <td>I bought this charger in Jul 2003 and it worke...</td>\n",
              "    </tr>\n",
              "    <tr>\n",
              "      <th>2</th>\n",
              "      <td>2</td>\n",
              "      <td>works fine, but Maha Energy is better</td>\n",
              "      <td>Check out Maha Energy's website. Their Powerex...</td>\n",
              "    </tr>\n",
              "    <tr>\n",
              "      <th>3</th>\n",
              "      <td>2</td>\n",
              "      <td>Great for the non-audiophile</td>\n",
              "      <td>Reviewed quite a bit of the combo players and ...</td>\n",
              "    </tr>\n",
              "    <tr>\n",
              "      <th>4</th>\n",
              "      <td>1</td>\n",
              "      <td>DVD Player crapped out after one year</td>\n",
              "      <td>I also began having the incorrect disc problem...</td>\n",
              "    </tr>\n",
              "  </tbody>\n",
              "</table>\n",
              "</div>\n",
              "      <button class=\"colab-df-convert\" onclick=\"convertToInteractive('df-73ca5440-91f4-45a5-a950-2a6e0cb7dd6b')\"\n",
              "              title=\"Convert this dataframe to an interactive table.\"\n",
              "              style=\"display:none;\">\n",
              "        \n",
              "  <svg xmlns=\"http://www.w3.org/2000/svg\" height=\"24px\"viewBox=\"0 0 24 24\"\n",
              "       width=\"24px\">\n",
              "    <path d=\"M0 0h24v24H0V0z\" fill=\"none\"/>\n",
              "    <path d=\"M18.56 5.44l.94 2.06.94-2.06 2.06-.94-2.06-.94-.94-2.06-.94 2.06-2.06.94zm-11 1L8.5 8.5l.94-2.06 2.06-.94-2.06-.94L8.5 2.5l-.94 2.06-2.06.94zm10 10l.94 2.06.94-2.06 2.06-.94-2.06-.94-.94-2.06-.94 2.06-2.06.94z\"/><path d=\"M17.41 7.96l-1.37-1.37c-.4-.4-.92-.59-1.43-.59-.52 0-1.04.2-1.43.59L10.3 9.45l-7.72 7.72c-.78.78-.78 2.05 0 2.83L4 21.41c.39.39.9.59 1.41.59.51 0 1.02-.2 1.41-.59l7.78-7.78 2.81-2.81c.8-.78.8-2.07 0-2.86zM5.41 20L4 18.59l7.72-7.72 1.47 1.35L5.41 20z\"/>\n",
              "  </svg>\n",
              "      </button>\n",
              "      \n",
              "  <style>\n",
              "    .colab-df-container {\n",
              "      display:flex;\n",
              "      flex-wrap:wrap;\n",
              "      gap: 12px;\n",
              "    }\n",
              "\n",
              "    .colab-df-convert {\n",
              "      background-color: #E8F0FE;\n",
              "      border: none;\n",
              "      border-radius: 50%;\n",
              "      cursor: pointer;\n",
              "      display: none;\n",
              "      fill: #1967D2;\n",
              "      height: 32px;\n",
              "      padding: 0 0 0 0;\n",
              "      width: 32px;\n",
              "    }\n",
              "\n",
              "    .colab-df-convert:hover {\n",
              "      background-color: #E2EBFA;\n",
              "      box-shadow: 0px 1px 2px rgba(60, 64, 67, 0.3), 0px 1px 3px 1px rgba(60, 64, 67, 0.15);\n",
              "      fill: #174EA6;\n",
              "    }\n",
              "\n",
              "    [theme=dark] .colab-df-convert {\n",
              "      background-color: #3B4455;\n",
              "      fill: #D2E3FC;\n",
              "    }\n",
              "\n",
              "    [theme=dark] .colab-df-convert:hover {\n",
              "      background-color: #434B5C;\n",
              "      box-shadow: 0px 1px 3px 1px rgba(0, 0, 0, 0.15);\n",
              "      filter: drop-shadow(0px 1px 2px rgba(0, 0, 0, 0.3));\n",
              "      fill: #FFFFFF;\n",
              "    }\n",
              "  </style>\n",
              "\n",
              "      <script>\n",
              "        const buttonEl =\n",
              "          document.querySelector('#df-73ca5440-91f4-45a5-a950-2a6e0cb7dd6b button.colab-df-convert');\n",
              "        buttonEl.style.display =\n",
              "          google.colab.kernel.accessAllowed ? 'block' : 'none';\n",
              "\n",
              "        async function convertToInteractive(key) {\n",
              "          const element = document.querySelector('#df-73ca5440-91f4-45a5-a950-2a6e0cb7dd6b');\n",
              "          const dataTable =\n",
              "            await google.colab.kernel.invokeFunction('convertToInteractive',\n",
              "                                                     [key], {});\n",
              "          if (!dataTable) return;\n",
              "\n",
              "          const docLinkHtml = 'Like what you see? Visit the ' +\n",
              "            '<a target=\"_blank\" href=https://colab.research.google.com/notebooks/data_table.ipynb>data table notebook</a>'\n",
              "            + ' to learn more about interactive tables.';\n",
              "          element.innerHTML = '';\n",
              "          dataTable['output_type'] = 'display_data';\n",
              "          await google.colab.output.renderOutput(dataTable, element);\n",
              "          const docLink = document.createElement('div');\n",
              "          docLink.innerHTML = docLinkHtml;\n",
              "          element.appendChild(docLink);\n",
              "        }\n",
              "      </script>\n",
              "    </div>\n",
              "  </div>\n",
              "  "
            ]
          },
          "metadata": {},
          "execution_count": 15
        }
      ]
    },
    {
      "cell_type": "code",
      "source": [
        "# Define the features and labels\n",
        "x_test = df['description']\n",
        "y_test = df['label']\n",
        "\n",
        "# Define the stop words\n",
        "nltk.download('stopwords')\n",
        "nltk.download('punkt')\n",
        "stop_words = set(stopwords.words('english'))\n",
        "stemmer = PorterStemmer()\n",
        "\n",
        "# Define a function to preprocess the text\n",
        "def preprocess_text(text):\n",
        "    tokens = word_tokenize(text)\n",
        "    # remove stop words\n",
        "    tokens = [token for token in tokens if token.lower() not in stop_words]\n",
        "    # perform stemming\n",
        "    tokens = [stemmer.stem(token) for token in tokens]\n",
        "    return \" \".join(tokens)"
      ],
      "metadata": {
        "colab": {
          "base_uri": "https://localhost:8080/"
        },
        "id": "Kk9DTlGgoqB9",
        "outputId": "d5e903d8-c341-49c7-cedc-4e51fbd0999c"
      },
      "execution_count": null,
      "outputs": [
        {
          "output_type": "stream",
          "name": "stderr",
          "text": [
            "[nltk_data] Downloading package stopwords to /root/nltk_data...\n",
            "[nltk_data]   Package stopwords is already up-to-date!\n",
            "[nltk_data] Downloading package punkt to /root/nltk_data...\n",
            "[nltk_data]   Package punkt is already up-to-date!\n"
          ]
        }
      ]
    },
    {
      "cell_type": "code",
      "source": [
        "x_test = x_test.apply(preprocess_text)"
      ],
      "metadata": {
        "id": "fO2Pcp34otkY"
      },
      "execution_count": null,
      "outputs": []
    },
    {
      "cell_type": "markdown",
      "source": [
        "## Create Model"
      ],
      "metadata": {
        "id": "97n1rvdcpPlD"
      }
    },
    {
      "cell_type": "code",
      "source": [
        "import pandas as pd\n",
        "from sklearn.feature_extraction.text import CountVectorizer\n",
        "from sklearn.naive_bayes import MultinomialNB\n",
        "from sklearn.metrics import accuracy_score, precision_score, recall_score, f1_score\n",
        "from sklearn.model_selection import train_test_split\n",
        "from sklearn.metrics import confusion_matrix\n",
        "import matplotlib.pyplot as plt\n",
        "import seaborn as sns"
      ],
      "metadata": {
        "id": "i6m4qV7SpjLX"
      },
      "execution_count": null,
      "outputs": []
    },
    {
      "cell_type": "code",
      "source": [
        "# Convert the text into numerical features using CountVectorizer\n",
        "vect = CountVectorizer()\n",
        "x_train_vect = vect.fit_transform(x_train)\n",
        "x_test_vect = vect.transform(x_test)\n",
        "\n",
        "# Train the model using Multinomial Naive Bayes\n",
        "clf = MultinomialNB()\n",
        "clf.fit(x_train_vect, y_train)\n",
        "\n",
        "# Make predictions on the test set\n",
        "y_pred = clf.predict(x_test_vect)\n",
        "\n",
        "# Calculate the evaluation metrics\n",
        "acc = accuracy_score(y_test, y_pred)\n",
        "prec = precision_score(y_test, y_pred)\n",
        "recall = recall_score(y_test, y_pred)\n",
        "f1 = f1_score(y_test, y_pred)\n",
        "\n",
        "# Create the confusion matrix\n",
        "confusion_matrix = confusion_matrix(y_test, y_pred)"
      ],
      "metadata": {
        "id": "BMeFeMAmp6Pz"
      },
      "execution_count": null,
      "outputs": []
    },
    {
      "cell_type": "code",
      "source": [
        "# Plot the confusion matrix as a heatmap\n",
        "sns.heatmap(confusion_matrix, annot=True, fmt='d')\n",
        "\n",
        "# Add labels and title\n",
        "plt.xlabel('Predicted label')\n",
        "plt.ylabel('True label')\n",
        "plt.title('Confusion Matrix')\n",
        "\n",
        "# Show the plot\n",
        "plt.show()"
      ],
      "metadata": {
        "colab": {
          "base_uri": "https://localhost:8080/",
          "height": 295
        },
        "id": "BBnbQST2reNn",
        "outputId": "062ca216-7edc-44fc-ebd7-218720bb5151"
      },
      "execution_count": null,
      "outputs": [
        {
          "output_type": "display_data",
          "data": {
            "text/plain": [
              "<Figure size 432x288 with 2 Axes>"
            ],
            "image/png": "[encoded data removed]"
          },
          "metadata": {
            "needs_background": "light"
          }
        }
      ]
    },
    {
      "cell_type": "code",
      "source": [
        "print('accuracy: ', acc * 100, '%')\n",
        "print('precision: ', prec * 100, '%')\n",
        "print('recall: ', recall * 100, '%')\n",
        "print('f1-score: ', f1 * 100, '%')"
      ],
      "metadata": {
        "colab": {
          "base_uri": "https://localhost:8080/"
        },
        "id": "VgRVJ3G1rxt1",
        "outputId": "6c9b66b8-8ef4-4fe7-ec20-d40340af9ad4"
      },
      "execution_count": null,
      "outputs": [
        {
          "output_type": "stream",
          "name": "stdout",
          "text": [
            "accuracy:  87.128 %\n",
            "precision:  85.522070973326 %\n",
            "recall:  88.7482648811954 %\n",
            "f1-score:  87.10530533739382 %\n"
          ]
        }
      ]
    },
    {
      "cell_type": "markdown",
      "metadata": {
        "id": "q7jWxP29ftLk"
      },
      "source": [
        "# Sentiment Analysis\n",
        "analize response from the stock community from twitter about the companies."
      ]
    },
    {
      "cell_type": "markdown",
      "source": [
        "The sentiment analysis method will be carried out with the following process:\n",
        "1. scrape the dataset from twitter from 3/11/2019 until 2/12/2022\n",
        "2. convert tweet to csv\n",
        "3. validate null data preprocess the data if exists\n",
        "4. remove unecessary character that could affect the result\n",
        "5. analyze the clean tweet data\n",
        "6. gives the sentiment analysis score using TextBlob and check the score\n",
        "  - if the score less than equal to 0, the result is negative (because the 0 result is mostly a negative comments).\n",
        "  - if the score is more than 0, the result is positive\n",
        "\n",
        "7. plot the analysis result \n",
        "\n",
        "Note: the same process was carried out in 6 different companies"
      ],
      "metadata": {
        "id": "cyZS13Ulgf9_"
      }
    },
    {
      "cell_type": "markdown",
      "metadata": {
        "id": "k5jp3FORgaEp"
      },
      "source": [
        "## AAPL"
      ]
    },
    {
      "cell_type": "code",
      "execution_count": null,
      "metadata": {
        "colab": {
          "base_uri": "https://localhost:8080/",
          "height": 49,
          "referenced_widgets": [
            "6498d7cc29124ce5b06e9510b17f8abb",
            "36d3d7d83af94b8cb561d3a048ffbc63",
            "1b439723c6484b0ea7769368ac1320fa",
            "2ad78682f3c8493c9610f657df4dcd65",
            "2d480d06aaf1424a8ac12fefe1d4753f",
            "38d57b9c21eb45ad8be35f8806294c72",
            "f30ee1f6189445bb8f788855b8f48166",
            "6617f7471f9347539c7664b80d821b70",
            "5ce681f6c41d489db2c669bc4eab7ff2",
            "a13dbe07c76646e9a42b8c63a8c7b088",
            "69bb4b2d70164a218e2894979795eef7"
          ]
        },
        "id": "SmK2i8Mdg3OA",
        "outputId": "5fc661d0-2e3f-4a8f-b7c8-c6b8ccbb3df1"
      },
      "outputs": [
        {
          "output_type": "display_data",
          "data": {
            "text/plain": [
              "  0%|          | 0/15000 [00:00<?, ?it/s]"
            ],
            "application/vnd.jupyter.widget-view+json": {
              "version_major": 2,
              "version_minor": 0,
              "model_id": "6498d7cc29124ce5b06e9510b17f8abb"
            }
          },
          "metadata": {}
        }
      ],
      "source": [
        "tweets_list = []\n",
        "# Using TwitterSearchScraper to scrape data and append tweets to list\n",
        "for i, tweet in tqdm(enumerate(sntwitter.TwitterSearchScraper(f\"$AAPL since:2019-11-03 until:2022-12-02\").get_items()),total=15000,):  # declare a username\n",
        "    if i > 15000:  # number of tweets you want to scrape\n",
        "        break\n",
        "    tweets_list.append(\n",
        "        [tweet.date, tweet.id, tweet.content, tweet.user.username]\n",
        "    )  # declare the attributes to be returned\n",
        "# Creating a dataframe from the tweets list above\n",
        "tweet_df = pd.DataFrame(\n",
        "    tweets_list, columns=[\"Datetime\", \"Tweet Id\", \"Text\", \"Username\"]\n",
        ")\n"
      ]
    },
    {
      "cell_type": "code",
      "execution_count": null,
      "metadata": {
        "id": "XvBJkItjXAwK"
      },
      "outputs": [],
      "source": [
        "tweet_df.to_csv('aapl_tweet.csv', encoding='utf-8')"
      ]
    },
    {
      "cell_type": "code",
      "execution_count": null,
      "metadata": {
        "colab": {
          "base_uri": "https://localhost:8080/",
          "height": 206
        },
        "id": "8GAOeVIzCqOu",
        "outputId": "a5bc7983-3db6-4cec-d5c7-44e8422ed0c6"
      },
      "outputs": [
        {
          "output_type": "execute_result",
          "data": {
            "text/plain": [
              "  Unnamed: 0                   Datetime      Tweet Id  \\\n",
              "0          0  2022-12-01 23:58:16+00:00  1.598467e+18   \n",
              "1          1  2022-12-01 23:57:34+00:00  1.598466e+18   \n",
              "2          2  2022-12-01 23:55:08+00:00  1.598466e+18   \n",
              "3          3  2022-12-01 23:54:10+00:00  1.598466e+18   \n",
              "4          4  2022-12-01 23:53:59+00:00  1.598465e+18   \n",
              "\n",
              "                                                Text       Username  \n",
              "0  $TSLA \\n#WINNER\\nhttps://t.co/ZBTRgq18CE\\nAnot...     Smith28301  \n",
              "1  StableDiffusion can generate an image on Apple...    MacHashNews  \n",
              "2  $BNB $BCH $THETA $TRX $TZX $AMZN $SPY $XVG $DD...     Smith28301  \n",
              "3  This weeks blog talks about this epic tax loss...  Dynamicbrands  \n",
              "4  Top tweeted stocks:\\n$TSLA $AAPL $SPX $SNOW $A...   StockmanDuck  "
            ],
            "text/html": [
              "\n",
              "  <div id=\"df-98d0fc25-7c35-4db9-b009-2bfdab98038c\">\n",
              "    <div class=\"colab-df-container\">\n",
              "      <div>\n",
              "<style scoped>\n",
              "    .dataframe tbody tr th:only-of-type {\n",
              "        vertical-align: middle;\n",
              "    }\n",
              "\n",
              "    .dataframe tbody tr th {\n",
              "        vertical-align: top;\n",
              "    }\n",
              "\n",
              "    .dataframe thead th {\n",
              "        text-align: right;\n",
              "    }\n",
              "</style>\n",
              "<table border=\"1\" class=\"dataframe\">\n",
              "  <thead>\n",
              "    <tr style=\"text-align: right;\">\n",
              "      <th></th>\n",
              "      <th>Unnamed: 0</th>\n",
              "      <th>Datetime</th>\n",
              "      <th>Tweet Id</th>\n",
              "      <th>Text</th>\n",
              "      <th>Username</th>\n",
              "    </tr>\n",
              "  </thead>\n",
              "  <tbody>\n",
              "    <tr>\n",
              "      <th>0</th>\n",
              "      <td>0</td>\n",
              "      <td>2022-12-01 23:58:16+00:00</td>\n",
              "      <td>1.598467e+18</td>\n",
              "      <td>$TSLA \\n#WINNER\\nhttps://t.co/ZBTRgq18CE\\nAnot...</td>\n",
              "      <td>Smith28301</td>\n",
              "    </tr>\n",
              "    <tr>\n",
              "      <th>1</th>\n",
              "      <td>1</td>\n",
              "      <td>2022-12-01 23:57:34+00:00</td>\n",
              "      <td>1.598466e+18</td>\n",
              "      <td>StableDiffusion can generate an image on Apple...</td>\n",
              "      <td>MacHashNews</td>\n",
              "    </tr>\n",
              "    <tr>\n",
              "      <th>2</th>\n",
              "      <td>2</td>\n",
              "      <td>2022-12-01 23:55:08+00:00</td>\n",
              "      <td>1.598466e+18</td>\n",
              "      <td>$BNB $BCH $THETA $TRX $TZX $AMZN $SPY $XVG $DD...</td>\n",
              "      <td>Smith28301</td>\n",
              "    </tr>\n",
              "    <tr>\n",
              "      <th>3</th>\n",
              "      <td>3</td>\n",
              "      <td>2022-12-01 23:54:10+00:00</td>\n",
              "      <td>1.598466e+18</td>\n",
              "      <td>This weeks blog talks about this epic tax loss...</td>\n",
              "      <td>Dynamicbrands</td>\n",
              "    </tr>\n",
              "    <tr>\n",
              "      <th>4</th>\n",
              "      <td>4</td>\n",
              "      <td>2022-12-01 23:53:59+00:00</td>\n",
              "      <td>1.598465e+18</td>\n",
              "      <td>Top tweeted stocks:\\n$TSLA $AAPL $SPX $SNOW $A...</td>\n",
              "      <td>StockmanDuck</td>\n",
              "    </tr>\n",
              "  </tbody>\n",
              "</table>\n",
              "</div>\n",
              "      <button class=\"colab-df-convert\" onclick=\"convertToInteractive('df-98d0fc25-7c35-4db9-b009-2bfdab98038c')\"\n",
              "              title=\"Convert this dataframe to an interactive table.\"\n",
              "              style=\"display:none;\">\n",
              "        \n",
              "  <svg xmlns=\"http://www.w3.org/2000/svg\" height=\"24px\"viewBox=\"0 0 24 24\"\n",
              "       width=\"24px\">\n",
              "    <path d=\"M0 0h24v24H0V0z\" fill=\"none\"/>\n",
              "    <path d=\"M18.56 5.44l.94 2.06.94-2.06 2.06-.94-2.06-.94-.94-2.06-.94 2.06-2.06.94zm-11 1L8.5 8.5l.94-2.06 2.06-.94-2.06-.94L8.5 2.5l-.94 2.06-2.06.94zm10 10l.94 2.06.94-2.06 2.06-.94-2.06-.94-.94-2.06-.94 2.06-2.06.94z\"/><path d=\"M17.41 7.96l-1.37-1.37c-.4-.4-.92-.59-1.43-.59-.52 0-1.04.2-1.43.59L10.3 9.45l-7.72 7.72c-.78.78-.78 2.05 0 2.83L4 21.41c.39.39.9.59 1.41.59.51 0 1.02-.2 1.41-.59l7.78-7.78 2.81-2.81c.8-.78.8-2.07 0-2.86zM5.41 20L4 18.59l7.72-7.72 1.47 1.35L5.41 20z\"/>\n",
              "  </svg>\n",
              "      </button>\n",
              "      \n",
              "  <style>\n",
              "    .colab-df-container {\n",
              "      display:flex;\n",
              "      flex-wrap:wrap;\n",
              "      gap: 12px;\n",
              "    }\n",
              "\n",
              "    .colab-df-convert {\n",
              "      background-color: #E8F0FE;\n",
              "      border: none;\n",
              "      border-radius: 50%;\n",
              "      cursor: pointer;\n",
              "      display: none;\n",
              "      fill: #1967D2;\n",
              "      height: 32px;\n",
              "      padding: 0 0 0 0;\n",
              "      width: 32px;\n",
              "    }\n",
              "\n",
              "    .colab-df-convert:hover {\n",
              "      background-color: #E2EBFA;\n",
              "      box-shadow: 0px 1px 2px rgba(60, 64, 67, 0.3), 0px 1px 3px 1px rgba(60, 64, 67, 0.15);\n",
              "      fill: #174EA6;\n",
              "    }\n",
              "\n",
              "    [theme=dark] .colab-df-convert {\n",
              "      background-color: #3B4455;\n",
              "      fill: #D2E3FC;\n",
              "    }\n",
              "\n",
              "    [theme=dark] .colab-df-convert:hover {\n",
              "      background-color: #434B5C;\n",
              "      box-shadow: 0px 1px 3px 1px rgba(0, 0, 0, 0.15);\n",
              "      filter: drop-shadow(0px 1px 2px rgba(0, 0, 0, 0.3));\n",
              "      fill: #FFFFFF;\n",
              "    }\n",
              "  </style>\n",
              "\n",
              "      <script>\n",
              "        const buttonEl =\n",
              "          document.querySelector('#df-98d0fc25-7c35-4db9-b009-2bfdab98038c button.colab-df-convert');\n",
              "        buttonEl.style.display =\n",
              "          google.colab.kernel.accessAllowed ? 'block' : 'none';\n",
              "\n",
              "        async function convertToInteractive(key) {\n",
              "          const element = document.querySelector('#df-98d0fc25-7c35-4db9-b009-2bfdab98038c');\n",
              "          const dataTable =\n",
              "            await google.colab.kernel.invokeFunction('convertToInteractive',\n",
              "                                                     [key], {});\n",
              "          if (!dataTable) return;\n",
              "\n",
              "          const docLinkHtml = 'Like what you see? Visit the ' +\n",
              "            '<a target=\"_blank\" href=https://colab.research.google.com/notebooks/data_table.ipynb>data table notebook</a>'\n",
              "            + ' to learn more about interactive tables.';\n",
              "          element.innerHTML = '';\n",
              "          dataTable['output_type'] = 'display_data';\n",
              "          await google.colab.output.renderOutput(dataTable, element);\n",
              "          const docLink = document.createElement('div');\n",
              "          docLink.innerHTML = docLinkHtml;\n",
              "          element.appendChild(docLink);\n",
              "        }\n",
              "      </script>\n",
              "    </div>\n",
              "  </div>\n",
              "  "
            ]
          },
          "metadata": {},
          "execution_count": 22
        }
      ],
      "source": [
        "# Load the dataset\n",
        "tweet_df = pd.read_csv(\"aapl_tweet.csv\")\n",
        "tweet_df.head()"
      ]
    },
    {
      "cell_type": "code",
      "source": [
        "dataset = tweet_df['Text']\n",
        "dataset = dataset.dropna()\n",
        "dataset = dataset.astype(str)\n",
        "\n",
        "# Define the stop words\n",
        "nltk.download('stopwords')\n",
        "nltk.download('punkt')\n",
        "stop_words = set(stopwords.words('english'))\n",
        "stemmer = PorterStemmer()\n",
        "\n",
        "# Define a function to preprocess the text\n",
        "def preprocess_text(text):\n",
        "    tokens = word_tokenize(text)\n",
        "    # remove stop words\n",
        "    tokens = [token for token in tokens if token.lower() not in stop_words]\n",
        "    # perform stemming\n",
        "    tokens = [stemmer.stem(token) for token in tokens]\n",
        "    return \" \".join(tokens)"
      ],
      "metadata": {
        "colab": {
          "base_uri": "https://localhost:8080/"
        },
        "id": "7sd4kpcgjZTq",
        "outputId": "c053d845-f8ab-45b3-b617-fa6440be18c8"
      },
      "execution_count": null,
      "outputs": [
        {
          "output_type": "stream",
          "name": "stderr",
          "text": [
            "[nltk_data] Downloading package stopwords to /root/nltk_data...\n",
            "[nltk_data]   Package stopwords is already up-to-date!\n",
            "[nltk_data] Downloading package punkt to /root/nltk_data...\n",
            "[nltk_data]   Package punkt is already up-to-date!\n"
          ]
        }
      ]
    },
    {
      "cell_type": "code",
      "source": [
        "import re\n",
        "dataset = dataset.apply(lambda x: x.replace(\"#\", \"\"))\n",
        "dataset = dataset.apply(lambda x: x.replace(\"$\", \"\"))\n",
        "dataset = dataset.apply(lambda x: x.replace(\"@\", \"\"))\n",
        "dataset = dataset.apply(lambda x: x.replace(\"!\", \"\"))\n",
        "dataset = dataset.apply(lambda x: re.sub(r'http\\S+', '', x))\n",
        "dataset = dataset.apply(lambda x: \" \".join([word for word in nltk.word_tokenize(x) if not any(letter in word for letter in \"#@\")]))"
      ],
      "metadata": {
        "id": "Ei6IBMUkmAND"
      },
      "execution_count": null,
      "outputs": []
    },
    {
      "cell_type": "code",
      "source": [
        "import emoji\n",
        "def convert_emoji_to_word(text):\n",
        "    return emoji.demojize(text)\n",
        "\n",
        "dataset = dataset.apply(lambda x: convert_emoji_to_word(x))"
      ],
      "metadata": {
        "id": "L2O2IC2Ms8jh"
      },
      "execution_count": null,
      "outputs": []
    },
    {
      "cell_type": "code",
      "source": [
        "dataset = dataset.apply(preprocess_text)\n",
        "dataset"
      ],
      "metadata": {
        "colab": {
          "base_uri": "https://localhost:8080/"
        },
        "id": "33mT5Fb1kynb",
        "outputId": "cbfbf3b1-2b2e-442b-cb69-86e3ec73e2e1"
      },
      "execution_count": null,
      "outputs": [
        {
          "output_type": "execute_result",
          "data": {
            "text/plain": [
              "0        tsla winner anoth earli long entri one level ....\n",
              "1        stablediffus gener imag appl silicon mac 18 se...\n",
              "2        bnb bch theta trx tzx amzn spi xvg ddtg xlm us...\n",
              "3        week blog talk epic tax loss sell season remin...\n",
              "4        top tweet stock : tsla aapl spx snow aehr meta...\n",
              "                               ...                        \n",
              "15068                 got littl sell spx spi qqq aapl msft\n",
              "15069                                 shame aapl say shame\n",
              "15070    trend : djia aapl -1.89 % nke -0.01 % unh -0.4...\n",
              "15071    chang charact aapl . unabl reclaim 200sma , ri...\n",
              "15072                                 short aapl gift morn\n",
              "Name: Text, Length: 15001, dtype: object"
            ]
          },
          "metadata": {},
          "execution_count": 26
        }
      ]
    },
    {
      "cell_type": "code",
      "execution_count": null,
      "metadata": {
        "id": "VwAkAQl4bzZ5",
        "colab": {
          "base_uri": "https://localhost:8080/"
        },
        "outputId": "51b86fbe-3a57-42b0-bfb5-432a1064bd92"
      },
      "outputs": [
        {
          "output_type": "stream",
          "name": "stdout",
          "text": [
            "[2 2 1 ... 1 2 2]\n"
          ]
        }
      ],
      "source": [
        "# Convert the text into numerical features using the same CountVectorizer as the training data\n",
        "new_data_vect = vect.transform(dataset)\n",
        "\n",
        "# Make predictions on the new data\n",
        "predictions = clf.predict(new_data_vect)\n",
        "\n",
        "# Print the predictions\n",
        "print(predictions)"
      ]
    },
    {
      "cell_type": "code",
      "execution_count": null,
      "metadata": {
        "colab": {
          "base_uri": "https://localhost:8080/",
          "height": 301
        },
        "id": "TaMNUdf-BDc6",
        "outputId": "02bb9c9e-7c4b-43b0-9993-994a833f5a1d"
      },
      "outputs": [
        {
          "output_type": "display_data",
          "data": {
            "text/plain": [
              "<Figure size 432x288 with 1 Axes>"
            ],
            "image/png": "[encoded data removed]"
          },
          "metadata": {
            "needs_background": "light"
          }
        },
        {
          "output_type": "stream",
          "name": "stdout",
          "text": [
            "5248\n",
            "9753\n"
          ]
        }
      ],
      "source": [
        "import matplotlib.pyplot as plt\n",
        "\n",
        "# Count the number of positive and negative predictions\n",
        "positive = len([p for p in predictions if p == 2])\n",
        "negative = len([p for p in predictions if p == 1])\n",
        "\n",
        "# Create a bar chart\n",
        "bar_chart = plt.bar(['Positive', 'Negative'], [positive, negative])\n",
        "bar_chart[0].set_color('g')\n",
        "bar_chart[1].set_color('r')\n",
        "#bar_chart.set_title('Apple Tweet Sentiment Result')\n",
        "plt.show()\n",
        "\n",
        "print(positive)\n",
        "print(negative)"
      ]
    },
    {
      "cell_type": "markdown",
      "metadata": {
        "id": "SG5xC-6jUSUz"
      },
      "source": [
        "## TSLA"
      ]
    },
    {
      "cell_type": "code",
      "execution_count": null,
      "metadata": {
        "colab": {
          "base_uri": "https://localhost:8080/",
          "height": 49,
          "referenced_widgets": [
            "1b7803cf259c4f898a0bbcb828bea0ef",
            "e84b99f4cfe9457480b9fb175a224961",
            "637ac3f4c1c24643b15f18a5d5404923",
            "e5e044d66b204ff2809fb48546a15eba",
            "dc2521a3423b45aeba1d98f554632c4e",
            "e4357c97d4e54dbd94798b03c4f629d7",
            "2f0555b30de94de4951e9652e1bd9531",
            "7c92fc548ac64a7fb50e760db1258c0f",
            "5f970a02f4a44a4a98fa8e74580213ad",
            "0d59698273ea4641b406bb763178bb14",
            "99282e52f2f3471bb33711a57d7fc5a6"
          ]
        },
        "id": "JCe3EbZQUWIx",
        "outputId": "8df5fba5-5038-49f4-ad21-ba65ec4af1c3"
      },
      "outputs": [
        {
          "output_type": "display_data",
          "data": {
            "text/plain": [
              "  0%|          | 0/15000 [00:00<?, ?it/s]"
            ],
            "application/vnd.jupyter.widget-view+json": {
              "version_major": 2,
              "version_minor": 0,
              "model_id": "1b7803cf259c4f898a0bbcb828bea0ef"
            }
          },
          "metadata": {}
        }
      ],
      "source": [
        "tweets_list = []\n",
        "\n",
        "for i, tweet in tqdm(enumerate(sntwitter.TwitterSearchScraper(f\"$TSLA since:2019-11-03 until:2022-12-02\").get_items()), total=15000):\n",
        "    if i > 15000:\n",
        "        break\n",
        "    tweets_list.append([tweet.date, tweet.id, tweet.content, tweet.user.username])\n",
        "tweet_df = pd.DataFrame(\n",
        "    tweets_list, columns=[\"Datetime\", \"Tweet Id\", \"Text\", \"Username\"]\n",
        ")"
      ]
    },
    {
      "cell_type": "code",
      "source": [
        "tweet_df.to_csv('tsla_tweet.csv', encoding='utf-8')"
      ],
      "metadata": {
        "id": "h3Z2S1cwcw3R"
      },
      "execution_count": null,
      "outputs": []
    },
    {
      "cell_type": "code",
      "execution_count": null,
      "metadata": {
        "colab": {
          "base_uri": "https://localhost:8080/",
          "height": 206
        },
        "id": "IuTPZefVIi7I",
        "outputId": "094c30ad-7b5a-43a5-8e6c-508a40331ab1"
      },
      "outputs": [
        {
          "output_type": "execute_result",
          "data": {
            "text/plain": [
              "  Unnamed: 0                   Datetime      Tweet Id  \\\n",
              "0          0  2022-12-01 23:59:55+00:00  1.598467e+18   \n",
              "1          1  2022-12-01 23:59:40+00:00  1.598467e+18   \n",
              "2          2  2022-12-01 23:59:40+00:00  1.598467e+18   \n",
              "3          3  2022-12-01 23:59:35+00:00  1.598467e+18   \n",
              "4          4  2022-12-01 23:59:28+00:00  1.598467e+18   \n",
              "\n",
              "                                                Text         Username  \n",
              "0  @BeardedTesla @Tesla Yay !! I’m picking mine u...  MICHAEL18964408  \n",
              "1  @Virus_City_ @Tesla @elonmusk Even in the phot...     Gary79699215  \n",
              "2  @TZdisruption @elonmusk @Tesla @WholeMarsBlog ...        TeslaLisa  \n",
              "3  @klwtts @Tesla @elonmusk That sucks. Elon, why...    PancakesTesla  \n",
              "4  @yusranwatampon1 @Tesla Tesla's naysayers have...          CrisBCT  "
            ],
            "text/html": [
              "\n",
              "  <div id=\"df-b9c2edd6-3455-4e61-99ae-c1ced0714998\">\n",
              "    <div class=\"colab-df-container\">\n",
              "      <div>\n",
              "<style scoped>\n",
              "    .dataframe tbody tr th:only-of-type {\n",
              "        vertical-align: middle;\n",
              "    }\n",
              "\n",
              "    .dataframe tbody tr th {\n",
              "        vertical-align: top;\n",
              "    }\n",
              "\n",
              "    .dataframe thead th {\n",
              "        text-align: right;\n",
              "    }\n",
              "</style>\n",
              "<table border=\"1\" class=\"dataframe\">\n",
              "  <thead>\n",
              "    <tr style=\"text-align: right;\">\n",
              "      <th></th>\n",
              "      <th>Unnamed: 0</th>\n",
              "      <th>Datetime</th>\n",
              "      <th>Tweet Id</th>\n",
              "      <th>Text</th>\n",
              "      <th>Username</th>\n",
              "    </tr>\n",
              "  </thead>\n",
              "  <tbody>\n",
              "    <tr>\n",
              "      <th>0</th>\n",
              "      <td>0</td>\n",
              "      <td>2022-12-01 23:59:55+00:00</td>\n",
              "      <td>1.598467e+18</td>\n",
              "      <td>@BeardedTesla @Tesla Yay !! I’m picking mine u...</td>\n",
              "      <td>MICHAEL18964408</td>\n",
              "    </tr>\n",
              "    <tr>\n",
              "      <th>1</th>\n",
              "      <td>1</td>\n",
              "      <td>2022-12-01 23:59:40+00:00</td>\n",
              "      <td>1.598467e+18</td>\n",
              "      <td>@Virus_City_ @Tesla @elonmusk Even in the phot...</td>\n",
              "      <td>Gary79699215</td>\n",
              "    </tr>\n",
              "    <tr>\n",
              "      <th>2</th>\n",
              "      <td>2</td>\n",
              "      <td>2022-12-01 23:59:40+00:00</td>\n",
              "      <td>1.598467e+18</td>\n",
              "      <td>@TZdisruption @elonmusk @Tesla @WholeMarsBlog ...</td>\n",
              "      <td>TeslaLisa</td>\n",
              "    </tr>\n",
              "    <tr>\n",
              "      <th>3</th>\n",
              "      <td>3</td>\n",
              "      <td>2022-12-01 23:59:35+00:00</td>\n",
              "      <td>1.598467e+18</td>\n",
              "      <td>@klwtts @Tesla @elonmusk That sucks. Elon, why...</td>\n",
              "      <td>PancakesTesla</td>\n",
              "    </tr>\n",
              "    <tr>\n",
              "      <th>4</th>\n",
              "      <td>4</td>\n",
              "      <td>2022-12-01 23:59:28+00:00</td>\n",
              "      <td>1.598467e+18</td>\n",
              "      <td>@yusranwatampon1 @Tesla Tesla's naysayers have...</td>\n",
              "      <td>CrisBCT</td>\n",
              "    </tr>\n",
              "  </tbody>\n",
              "</table>\n",
              "</div>\n",
              "      <button class=\"colab-df-convert\" onclick=\"convertToInteractive('df-b9c2edd6-3455-4e61-99ae-c1ced0714998')\"\n",
              "              title=\"Convert this dataframe to an interactive table.\"\n",
              "              style=\"display:none;\">\n",
              "        \n",
              "  <svg xmlns=\"http://www.w3.org/2000/svg\" height=\"24px\"viewBox=\"0 0 24 24\"\n",
              "       width=\"24px\">\n",
              "    <path d=\"M0 0h24v24H0V0z\" fill=\"none\"/>\n",
              "    <path d=\"M18.56 5.44l.94 2.06.94-2.06 2.06-.94-2.06-.94-.94-2.06-.94 2.06-2.06.94zm-11 1L8.5 8.5l.94-2.06 2.06-.94-2.06-.94L8.5 2.5l-.94 2.06-2.06.94zm10 10l.94 2.06.94-2.06 2.06-.94-2.06-.94-.94-2.06-.94 2.06-2.06.94z\"/><path d=\"M17.41 7.96l-1.37-1.37c-.4-.4-.92-.59-1.43-.59-.52 0-1.04.2-1.43.59L10.3 9.45l-7.72 7.72c-.78.78-.78 2.05 0 2.83L4 21.41c.39.39.9.59 1.41.59.51 0 1.02-.2 1.41-.59l7.78-7.78 2.81-2.81c.8-.78.8-2.07 0-2.86zM5.41 20L4 18.59l7.72-7.72 1.47 1.35L5.41 20z\"/>\n",
              "  </svg>\n",
              "      </button>\n",
              "      \n",
              "  <style>\n",
              "    .colab-df-container {\n",
              "      display:flex;\n",
              "      flex-wrap:wrap;\n",
              "      gap: 12px;\n",
              "    }\n",
              "\n",
              "    .colab-df-convert {\n",
              "      background-color: #E8F0FE;\n",
              "      border: none;\n",
              "      border-radius: 50%;\n",
              "      cursor: pointer;\n",
              "      display: none;\n",
              "      fill: #1967D2;\n",
              "      height: 32px;\n",
              "      padding: 0 0 0 0;\n",
              "      width: 32px;\n",
              "    }\n",
              "\n",
              "    .colab-df-convert:hover {\n",
              "      background-color: #E2EBFA;\n",
              "      box-shadow: 0px 1px 2px rgba(60, 64, 67, 0.3), 0px 1px 3px 1px rgba(60, 64, 67, 0.15);\n",
              "      fill: #174EA6;\n",
              "    }\n",
              "\n",
              "    [theme=dark] .colab-df-convert {\n",
              "      background-color: #3B4455;\n",
              "      fill: #D2E3FC;\n",
              "    }\n",
              "\n",
              "    [theme=dark] .colab-df-convert:hover {\n",
              "      background-color: #434B5C;\n",
              "      box-shadow: 0px 1px 3px 1px rgba(0, 0, 0, 0.15);\n",
              "      filter: drop-shadow(0px 1px 2px rgba(0, 0, 0, 0.3));\n",
              "      fill: #FFFFFF;\n",
              "    }\n",
              "  </style>\n",
              "\n",
              "      <script>\n",
              "        const buttonEl =\n",
              "          document.querySelector('#df-b9c2edd6-3455-4e61-99ae-c1ced0714998 button.colab-df-convert');\n",
              "        buttonEl.style.display =\n",
              "          google.colab.kernel.accessAllowed ? 'block' : 'none';\n",
              "\n",
              "        async function convertToInteractive(key) {\n",
              "          const element = document.querySelector('#df-b9c2edd6-3455-4e61-99ae-c1ced0714998');\n",
              "          const dataTable =\n",
              "            await google.colab.kernel.invokeFunction('convertToInteractive',\n",
              "                                                     [key], {});\n",
              "          if (!dataTable) return;\n",
              "\n",
              "          const docLinkHtml = 'Like what you see? Visit the ' +\n",
              "            '<a target=\"_blank\" href=https://colab.research.google.com/notebooks/data_table.ipynb>data table notebook</a>'\n",
              "            + ' to learn more about interactive tables.';\n",
              "          element.innerHTML = '';\n",
              "          dataTable['output_type'] = 'display_data';\n",
              "          await google.colab.output.renderOutput(dataTable, element);\n",
              "          const docLink = document.createElement('div');\n",
              "          docLink.innerHTML = docLinkHtml;\n",
              "          element.appendChild(docLink);\n",
              "        }\n",
              "      </script>\n",
              "    </div>\n",
              "  </div>\n",
              "  "
            ]
          },
          "metadata": {},
          "execution_count": 107
        }
      ],
      "source": [
        "# Load the dataset\n",
        "tweet_df = pd.read_csv(\"tsla_tweet.csv\")\n",
        "tweet_df.head()"
      ]
    },
    {
      "cell_type": "code",
      "source": [
        "dataset = tweet_df['Text']\n",
        "dataset = dataset.dropna()\n",
        "dataset = dataset.astype(str)\n",
        "\n",
        "# Define the stop words\n",
        "nltk.download('stopwords')\n",
        "nltk.download('punkt')\n",
        "stop_words = set(stopwords.words('english'))\n",
        "stemmer = PorterStemmer()\n",
        "\n",
        "# Define a function to preprocess the text\n",
        "def preprocess_text(text):\n",
        "    tokens = word_tokenize(text)\n",
        "    # remove stop words\n",
        "    tokens = [token for token in tokens if token.lower() not in stop_words]\n",
        "    # perform stemming\n",
        "    tokens = [stemmer.stem(token) for token in tokens]\n",
        "    return \" \".join(tokens)"
      ],
      "metadata": {
        "colab": {
          "base_uri": "https://localhost:8080/"
        },
        "id": "i1TpFCLvo9QD",
        "outputId": "ddd2e45f-6dc8-4a70-822c-49e581b90519"
      },
      "execution_count": null,
      "outputs": [
        {
          "output_type": "stream",
          "name": "stderr",
          "text": [
            "[nltk_data] Downloading package stopwords to /root/nltk_data...\n",
            "[nltk_data]   Package stopwords is already up-to-date!\n",
            "[nltk_data] Downloading package punkt to /root/nltk_data...\n",
            "[nltk_data]   Package punkt is already up-to-date!\n"
          ]
        }
      ]
    },
    {
      "cell_type": "code",
      "source": [
        "import re\n",
        "dataset = dataset.apply(lambda x: x.replace(\"#\", \"\"))\n",
        "dataset = dataset.apply(lambda x: x.replace(\"$\", \"\"))\n",
        "dataset = dataset.apply(lambda x: x.replace(\"@\", \"\"))\n",
        "dataset = dataset.apply(lambda x: x.replace(\"!\", \"\"))\n",
        "dataset = dataset.apply(lambda x: re.sub(r'http\\S+', '', x))\n",
        "dataset = dataset.apply(lambda x: \" \".join([word for word in nltk.word_tokenize(x) if not any(letter in word for letter in \"#@\")]))"
      ],
      "metadata": {
        "id": "jcegTtaWpI-O"
      },
      "execution_count": null,
      "outputs": []
    },
    {
      "cell_type": "code",
      "source": [
        "import emoji\n",
        "def convert_emoji_to_word(text):\n",
        "    return emoji.demojize(text)\n",
        "\n",
        "dataset = dataset.apply(lambda x: convert_emoji_to_word(x))"
      ],
      "metadata": {
        "id": "qHyiY-77ugE5"
      },
      "execution_count": null,
      "outputs": []
    },
    {
      "cell_type": "code",
      "source": [
        "dataset = dataset.apply(preprocess_text)\n",
        "dataset"
      ],
      "metadata": {
        "colab": {
          "base_uri": "https://localhost:8080/"
        },
        "id": "iqOHp7WqpKpR",
        "outputId": "6e4af898-d96b-420e-eef3-c2b95e93ed36"
      },
      "execution_count": null,
      "outputs": [
        {
          "output_type": "execute_result",
          "data": {
            "text/plain": [
              "0                beardedtesla tesla yay ’ pick mine monday\n",
              "1        virus_city_ tesla elonmusk even photo see bodi...\n",
              "2        tzdisrupt elonmusk tesla wholemarsblog rule 'v...\n",
              "3        klwtt tesla elonmusk suck . elon , ppl get can...\n",
              "4        yusranwatampon1 tesla tesla 's naysay fake exa...\n",
              "                               ...                        \n",
              "15010    brandenflasch rivian cultur , result . thank ,...\n",
              "15011                                         tsla oh wait\n",
              "15012    fadequeen77 pryzmrulezz thenewannefrank astral...\n",
              "15013    pennybritish appl twitter tesla preach glad 'm...\n",
              "15014         expens premium today .. small put posit tsla\n",
              "Name: Text, Length: 15001, dtype: object"
            ]
          },
          "metadata": {},
          "execution_count": 112
        }
      ]
    },
    {
      "cell_type": "code",
      "source": [
        "# Convert the text into numerical features using the same CountVectorizer as the training data\n",
        "new_data_vect = vect.transform(dataset)\n",
        "\n",
        "# Make predictions on the new data\n",
        "predictions = clf.predict(new_data_vect)\n",
        "\n",
        "# Print the predictions\n",
        "print(predictions)"
      ],
      "metadata": {
        "colab": {
          "base_uri": "https://localhost:8080/"
        },
        "id": "10pHFmQupSAo",
        "outputId": "367e54df-7fac-4981-a324-5f0e38ce1302"
      },
      "execution_count": null,
      "outputs": [
        {
          "output_type": "stream",
          "name": "stdout",
          "text": [
            "[2 2 1 ... 2 2 1]\n"
          ]
        }
      ]
    },
    {
      "cell_type": "code",
      "source": [
        "import matplotlib.pyplot as plt\n",
        "\n",
        "# Count the number of positive and negative predictions\n",
        "positive = len([p for p in predictions if p == 2])\n",
        "negative = len([p for p in predictions if p == 1])\n",
        "\n",
        "# Create a bar chart\n",
        "bar_chart = plt.bar(['Positive', 'Negative'], [positive, negative])\n",
        "bar_chart[0].set_color('g')\n",
        "bar_chart[1].set_color('r')\n",
        "plt.show()\n",
        "\n",
        "print(positive)\n",
        "print(negative)"
      ],
      "metadata": {
        "colab": {
          "base_uri": "https://localhost:8080/",
          "height": 303
        },
        "id": "Ty2TL0QGprxs",
        "outputId": "e69ffaaa-beda-420b-b049-0cdfc5c60227"
      },
      "execution_count": null,
      "outputs": [
        {
          "output_type": "display_data",
          "data": {
            "text/plain": [
              "<Figure size 432x288 with 1 Axes>"
            ],
            "image/png": "[encoded data removed]"
          },
          "metadata": {
            "needs_background": "light"
          }
        },
        {
          "output_type": "stream",
          "name": "stdout",
          "text": [
            "7288\n",
            "7713\n"
          ]
        }
      ]
    },
    {
      "cell_type": "markdown",
      "metadata": {
        "id": "pMQX2ejvXc9j"
      },
      "source": [
        "## AMZN"
      ]
    },
    {
      "cell_type": "code",
      "execution_count": null,
      "metadata": {
        "colab": {
          "base_uri": "https://localhost:8080/",
          "height": 49,
          "referenced_widgets": [
            "b7b94f79faba4d0282cbaf4db291b149",
            "8f27efd1c687424e96863f1afc61d57c",
            "d7f985660c614eda8a125a27524a0f86",
            "567756efb4cd464bb4fb5efd8718d8c8",
            "1b80a825890d4669b1c4e181e3b7a04d",
            "e184fcef83cc431a9119363858d094d5",
            "6491878290aa406f8d4dd8b78ffc0fbc",
            "7bb8f665845c478d8604cdee1f58fca3",
            "eb12ac979c7341baa7102355f252161c",
            "a42b2df22fb248d4a9b2a8662298c436",
            "55d9d1ee39b147afbc657240de1ff718"
          ]
        },
        "id": "HymVVd8kWZ9o",
        "outputId": "77d7398b-c21b-4028-ab1a-45e004c5dae9"
      },
      "outputs": [
        {
          "output_type": "display_data",
          "data": {
            "text/plain": [
              "  0%|          | 0/15000 [00:00<?, ?it/s]"
            ],
            "application/vnd.jupyter.widget-view+json": {
              "version_major": 2,
              "version_minor": 0,
              "model_id": "b7b94f79faba4d0282cbaf4db291b149"
            }
          },
          "metadata": {}
        }
      ],
      "source": [
        "tweets_list = []\n",
        "\n",
        "for i, tweet in tqdm(enumerate(sntwitter.TwitterSearchScraper(f\"$AMZN since:2019-11-03 until:2022-12-02\").get_items()), total=15000):\n",
        "    if i > 15000:\n",
        "        break\n",
        "    tweets_list.append([tweet.date, tweet.id, tweet.content, tweet.user.username])\n",
        "tweet_df = pd.DataFrame(\n",
        "    tweets_list, columns=[\"Datetime\", \"Tweet Id\", \"Text\", \"Username\"]\n",
        ")"
      ]
    },
    {
      "cell_type": "code",
      "source": [
        "tweet_df.to_csv('amzn_tweet.csv', encoding='utf-8')"
      ],
      "metadata": {
        "id": "VXrVWchPgcxg"
      },
      "execution_count": null,
      "outputs": []
    },
    {
      "cell_type": "code",
      "execution_count": null,
      "metadata": {
        "colab": {
          "base_uri": "https://localhost:8080/",
          "height": 206
        },
        "id": "6DcpbL_OhMmC",
        "outputId": "ae8cea1d-b32c-4480-cd0a-06f64947924c"
      },
      "outputs": [
        {
          "output_type": "execute_result",
          "data": {
            "text/plain": [
              "  Unnamed: 0                   Datetime      Tweet Id  \\\n",
              "0          0  2022-12-01 23:56:24+00:00  1.598466e+18   \n",
              "1          1  2022-12-01 23:55:08+00:00  1.598466e+18   \n",
              "2          2  2022-12-01 23:54:10+00:00  1.598466e+18   \n",
              "3          3  2022-12-01 23:53:59+00:00  1.598465e+18   \n",
              "4          4  2022-12-01 23:53:47+00:00  1.598465e+18   \n",
              "\n",
              "                                                Text       Username  \n",
              "0  “Most winning trading community, Get next winn...     Smith28301  \n",
              "1  $BNB $BCH $THETA $TRX $TZX $AMZN $SPY $XVG $DD...     Smith28301  \n",
              "2  This weeks blog talks about this epic tax loss...  Dynamicbrands  \n",
              "3  Top tweeted stocks:\\n$TSLA $AAPL $SPX $SNOW $A...   StockmanDuck  \n",
              "4  $AAPL Trade idea💡\\nhttps://t.co/ZBTRgq18CE\\n\\n...     Smith28301  "
            ],
            "text/html": [
              "\n",
              "  <div id=\"df-26782ca2-c3b6-4bec-a7d8-3cfa949a435d\">\n",
              "    <div class=\"colab-df-container\">\n",
              "      <div>\n",
              "<style scoped>\n",
              "    .dataframe tbody tr th:only-of-type {\n",
              "        vertical-align: middle;\n",
              "    }\n",
              "\n",
              "    .dataframe tbody tr th {\n",
              "        vertical-align: top;\n",
              "    }\n",
              "\n",
              "    .dataframe thead th {\n",
              "        text-align: right;\n",
              "    }\n",
              "</style>\n",
              "<table border=\"1\" class=\"dataframe\">\n",
              "  <thead>\n",
              "    <tr style=\"text-align: right;\">\n",
              "      <th></th>\n",
              "      <th>Unnamed: 0</th>\n",
              "      <th>Datetime</th>\n",
              "      <th>Tweet Id</th>\n",
              "      <th>Text</th>\n",
              "      <th>Username</th>\n",
              "    </tr>\n",
              "  </thead>\n",
              "  <tbody>\n",
              "    <tr>\n",
              "      <th>0</th>\n",
              "      <td>0</td>\n",
              "      <td>2022-12-01 23:56:24+00:00</td>\n",
              "      <td>1.598466e+18</td>\n",
              "      <td>“Most winning trading community, Get next winn...</td>\n",
              "      <td>Smith28301</td>\n",
              "    </tr>\n",
              "    <tr>\n",
              "      <th>1</th>\n",
              "      <td>1</td>\n",
              "      <td>2022-12-01 23:55:08+00:00</td>\n",
              "      <td>1.598466e+18</td>\n",
              "      <td>$BNB $BCH $THETA $TRX $TZX $AMZN $SPY $XVG $DD...</td>\n",
              "      <td>Smith28301</td>\n",
              "    </tr>\n",
              "    <tr>\n",
              "      <th>2</th>\n",
              "      <td>2</td>\n",
              "      <td>2022-12-01 23:54:10+00:00</td>\n",
              "      <td>1.598466e+18</td>\n",
              "      <td>This weeks blog talks about this epic tax loss...</td>\n",
              "      <td>Dynamicbrands</td>\n",
              "    </tr>\n",
              "    <tr>\n",
              "      <th>3</th>\n",
              "      <td>3</td>\n",
              "      <td>2022-12-01 23:53:59+00:00</td>\n",
              "      <td>1.598465e+18</td>\n",
              "      <td>Top tweeted stocks:\\n$TSLA $AAPL $SPX $SNOW $A...</td>\n",
              "      <td>StockmanDuck</td>\n",
              "    </tr>\n",
              "    <tr>\n",
              "      <th>4</th>\n",
              "      <td>4</td>\n",
              "      <td>2022-12-01 23:53:47+00:00</td>\n",
              "      <td>1.598465e+18</td>\n",
              "      <td>$AAPL Trade idea💡\\nhttps://t.co/ZBTRgq18CE\\n\\n...</td>\n",
              "      <td>Smith28301</td>\n",
              "    </tr>\n",
              "  </tbody>\n",
              "</table>\n",
              "</div>\n",
              "      <button class=\"colab-df-convert\" onclick=\"convertToInteractive('df-26782ca2-c3b6-4bec-a7d8-3cfa949a435d')\"\n",
              "              title=\"Convert this dataframe to an interactive table.\"\n",
              "              style=\"display:none;\">\n",
              "        \n",
              "  <svg xmlns=\"http://www.w3.org/2000/svg\" height=\"24px\"viewBox=\"0 0 24 24\"\n",
              "       width=\"24px\">\n",
              "    <path d=\"M0 0h24v24H0V0z\" fill=\"none\"/>\n",
              "    <path d=\"M18.56 5.44l.94 2.06.94-2.06 2.06-.94-2.06-.94-.94-2.06-.94 2.06-2.06.94zm-11 1L8.5 8.5l.94-2.06 2.06-.94-2.06-.94L8.5 2.5l-.94 2.06-2.06.94zm10 10l.94 2.06.94-2.06 2.06-.94-2.06-.94-.94-2.06-.94 2.06-2.06.94z\"/><path d=\"M17.41 7.96l-1.37-1.37c-.4-.4-.92-.59-1.43-.59-.52 0-1.04.2-1.43.59L10.3 9.45l-7.72 7.72c-.78.78-.78 2.05 0 2.83L4 21.41c.39.39.9.59 1.41.59.51 0 1.02-.2 1.41-.59l7.78-7.78 2.81-2.81c.8-.78.8-2.07 0-2.86zM5.41 20L4 18.59l7.72-7.72 1.47 1.35L5.41 20z\"/>\n",
              "  </svg>\n",
              "      </button>\n",
              "      \n",
              "  <style>\n",
              "    .colab-df-container {\n",
              "      display:flex;\n",
              "      flex-wrap:wrap;\n",
              "      gap: 12px;\n",
              "    }\n",
              "\n",
              "    .colab-df-convert {\n",
              "      background-color: #E8F0FE;\n",
              "      border: none;\n",
              "      border-radius: 50%;\n",
              "      cursor: pointer;\n",
              "      display: none;\n",
              "      fill: #1967D2;\n",
              "      height: 32px;\n",
              "      padding: 0 0 0 0;\n",
              "      width: 32px;\n",
              "    }\n",
              "\n",
              "    .colab-df-convert:hover {\n",
              "      background-color: #E2EBFA;\n",
              "      box-shadow: 0px 1px 2px rgba(60, 64, 67, 0.3), 0px 1px 3px 1px rgba(60, 64, 67, 0.15);\n",
              "      fill: #174EA6;\n",
              "    }\n",
              "\n",
              "    [theme=dark] .colab-df-convert {\n",
              "      background-color: #3B4455;\n",
              "      fill: #D2E3FC;\n",
              "    }\n",
              "\n",
              "    [theme=dark] .colab-df-convert:hover {\n",
              "      background-color: #434B5C;\n",
              "      box-shadow: 0px 1px 3px 1px rgba(0, 0, 0, 0.15);\n",
              "      filter: drop-shadow(0px 1px 2px rgba(0, 0, 0, 0.3));\n",
              "      fill: #FFFFFF;\n",
              "    }\n",
              "  </style>\n",
              "\n",
              "      <script>\n",
              "        const buttonEl =\n",
              "          document.querySelector('#df-26782ca2-c3b6-4bec-a7d8-3cfa949a435d button.colab-df-convert');\n",
              "        buttonEl.style.display =\n",
              "          google.colab.kernel.accessAllowed ? 'block' : 'none';\n",
              "\n",
              "        async function convertToInteractive(key) {\n",
              "          const element = document.querySelector('#df-26782ca2-c3b6-4bec-a7d8-3cfa949a435d');\n",
              "          const dataTable =\n",
              "            await google.colab.kernel.invokeFunction('convertToInteractive',\n",
              "                                                     [key], {});\n",
              "          if (!dataTable) return;\n",
              "\n",
              "          const docLinkHtml = 'Like what you see? Visit the ' +\n",
              "            '<a target=\"_blank\" href=https://colab.research.google.com/notebooks/data_table.ipynb>data table notebook</a>'\n",
              "            + ' to learn more about interactive tables.';\n",
              "          element.innerHTML = '';\n",
              "          dataTable['output_type'] = 'display_data';\n",
              "          await google.colab.output.renderOutput(dataTable, element);\n",
              "          const docLink = document.createElement('div');\n",
              "          docLink.innerHTML = docLinkHtml;\n",
              "          element.appendChild(docLink);\n",
              "        }\n",
              "      </script>\n",
              "    </div>\n",
              "  </div>\n",
              "  "
            ]
          },
          "metadata": {},
          "execution_count": 186
        }
      ],
      "source": [
        "# Load the dataset\n",
        "tweet_df = pd.read_csv(\"amzn_tweet.csv\")\n",
        "tweet_df.head()"
      ]
    },
    {
      "cell_type": "code",
      "source": [
        "dataset = tweet_df['Text']\n",
        "dataset = dataset.dropna()\n",
        "dataset = dataset.astype(str)\n",
        "\n",
        "# Define the stop words\n",
        "nltk.download('stopwords')\n",
        "nltk.download('punkt')\n",
        "stop_words = set(stopwords.words('english'))\n",
        "stemmer = PorterStemmer()\n",
        "\n",
        "# Define a function to preprocess the text\n",
        "def preprocess_text(text):\n",
        "    tokens = word_tokenize(text)\n",
        "    # remove stop words\n",
        "    tokens = [token for token in tokens if token.lower() not in stop_words]\n",
        "    # perform stemming\n",
        "    tokens = [stemmer.stem(token) for token in tokens]\n",
        "    return \" \".join(tokens)"
      ],
      "metadata": {
        "colab": {
          "base_uri": "https://localhost:8080/"
        },
        "id": "SqSFvtwuqWsi",
        "outputId": "553bec8c-26ca-4924-955b-5f7c2f44f557"
      },
      "execution_count": null,
      "outputs": [
        {
          "output_type": "stream",
          "name": "stderr",
          "text": [
            "[nltk_data] Downloading package stopwords to /root/nltk_data...\n",
            "[nltk_data]   Package stopwords is already up-to-date!\n",
            "[nltk_data] Downloading package punkt to /root/nltk_data...\n",
            "[nltk_data]   Package punkt is already up-to-date!\n"
          ]
        }
      ]
    },
    {
      "cell_type": "code",
      "source": [
        "import re\n",
        "dataset = dataset.apply(lambda x: x.replace(\"#\", \"\"))\n",
        "dataset = dataset.apply(lambda x: x.replace(\"$\", \"\"))\n",
        "dataset = dataset.apply(lambda x: x.replace(\"@\", \"\"))\n",
        "dataset = dataset.apply(lambda x: x.replace(\"!\", \"\"))\n",
        "dataset = dataset.apply(lambda x: re.sub(r'http\\S+', '', x))\n",
        "dataset = dataset.apply(lambda x: \" \".join([word for word in nltk.word_tokenize(x) if not any(letter in word for letter in \"#@\")]))"
      ],
      "metadata": {
        "id": "fbR4nJZYqaUB"
      },
      "execution_count": null,
      "outputs": []
    },
    {
      "cell_type": "code",
      "source": [
        "import emoji\n",
        "def convert_emoji_to_word(text):\n",
        "    return emoji.demojize(text)\n",
        "\n",
        "dataset = dataset.apply(lambda x: convert_emoji_to_word(x))"
      ],
      "metadata": {
        "id": "l3SbAM0Ruv2L"
      },
      "execution_count": null,
      "outputs": []
    },
    {
      "cell_type": "code",
      "source": [
        "dataset = dataset.apply(preprocess_text)\n",
        "dataset"
      ],
      "metadata": {
        "colab": {
          "base_uri": "https://localhost:8080/"
        },
        "id": "JNYB4FqSqeid",
        "outputId": "17166e49-e74f-4910-aec9-d5428fc5f2e5"
      },
      "execution_count": null,
      "outputs": [
        {
          "output_type": "execute_result",
          "data": {
            "text/plain": [
              "0        “ win trade commun , get next win alert : spi ...\n",
              "1        bnb bch theta trx tzx amzn spi xvg ddtg xlm us...\n",
              "2        week blog talk epic tax loss sell season remin...\n",
              "3        top tweet stock : tsla aapl spx snow aehr meta...\n",
              "4        aapl trade idea : light_bulb : amc spi gme qqq...\n",
              "                               ...                        \n",
              "15066           amzn `` top analyst price target next week\n",
              "15067    stock ath : amzn -54 % baba -75 % bynd -94 % c...\n",
              "15068        netflix : de-faang , bargain di amzn wbd nflx\n",
              "15069    stock ath : amzn -54 % baba -75 % bynd -94 % c...\n",
              "15070    hit : red_heart : need free alert close . spi ...\n",
              "Name: Text, Length: 15001, dtype: object"
            ]
          },
          "metadata": {},
          "execution_count": 190
        }
      ]
    },
    {
      "cell_type": "code",
      "source": [
        "# Convert the text into numerical features using the same CountVectorizer as the training data\n",
        "new_data_vect = vect.transform(dataset)\n",
        "\n",
        "# Make predictions on the new data\n",
        "predictions = clf.predict(new_data_vect)\n",
        "\n",
        "# Print the predictions\n",
        "print(predictions)"
      ],
      "metadata": {
        "colab": {
          "base_uri": "https://localhost:8080/"
        },
        "id": "bZ7PmKMIqhyr",
        "outputId": "a054bb18-0960-4829-db4c-848b2a52ae4d"
      },
      "execution_count": null,
      "outputs": [
        {
          "output_type": "stream",
          "name": "stdout",
          "text": [
            "[2 1 1 ... 1 1 1]\n"
          ]
        }
      ]
    },
    {
      "cell_type": "code",
      "source": [
        "import matplotlib.pyplot as plt\n",
        "\n",
        "# Count the number of positive and negative predictions\n",
        "positive = len([p for p in predictions if p == 2])\n",
        "negative = len([p for p in predictions if p == 1])\n",
        "\n",
        "# Create a bar chart\n",
        "bar_chart = plt.bar(['Positive', 'Negative'], [positive, negative])\n",
        "bar_chart[0].set_color('g')\n",
        "bar_chart[1].set_color('r')\n",
        "plt.show()\n",
        "\n",
        "print(positive)\n",
        "print(negative)"
      ],
      "metadata": {
        "colab": {
          "base_uri": "https://localhost:8080/",
          "height": 304
        },
        "id": "bUihOSc4qk98",
        "outputId": "eccb8ee6-6a88-4a3f-8f95-9598a08711cd"
      },
      "execution_count": null,
      "outputs": [
        {
          "output_type": "display_data",
          "data": {
            "text/plain": [
              "<Figure size 432x288 with 1 Axes>"
            ],
            "image/png": "[encoded data removed]"
          },
          "metadata": {
            "needs_background": "light"
          }
        },
        {
          "output_type": "stream",
          "name": "stdout",
          "text": [
            "3501\n",
            "11500\n"
          ]
        }
      ]
    },
    {
      "cell_type": "markdown",
      "metadata": {
        "id": "d5WGPE3OMUka"
      },
      "source": [
        "## NVDA"
      ]
    },
    {
      "cell_type": "code",
      "execution_count": null,
      "metadata": {
        "colab": {
          "base_uri": "https://localhost:8080/",
          "height": 49,
          "referenced_widgets": [
            "80f341aaf5c94300b74c9da31a54661c",
            "09ae86808be14c9189aaadf4630ac4b8",
            "02267afaa0b845c09e0af727e9d5fc30",
            "216636d8fe2f4386bde5a78842474e59",
            "765b3e92ff9048b69b3c24252aada2f1",
            "c7d73c81a8f4477cb7cb82f98df8c4ee",
            "4818fde84e1048bba37eaeca6ae44d20",
            "0afd8396ba2640c18b5229fc481c68b3",
            "6d641cbbb86248d7b42b52b64b453f21",
            "276ed4843423483baf82ae0e9a353fa8",
            "f939c8ca5cd443ea9dcfca5f4732627f"
          ]
        },
        "id": "nSXe6JYoZv_q",
        "outputId": "63073c4b-37ad-4155-f1d2-b323771539ae"
      },
      "outputs": [
        {
          "output_type": "display_data",
          "data": {
            "text/plain": [
              "  0%|          | 0/15000 [00:00<?, ?it/s]"
            ],
            "application/vnd.jupyter.widget-view+json": {
              "version_major": 2,
              "version_minor": 0,
              "model_id": "80f341aaf5c94300b74c9da31a54661c"
            }
          },
          "metadata": {}
        }
      ],
      "source": [
        "tweets_list = []\n",
        "\n",
        "for i, tweet in tqdm(enumerate(sntwitter.TwitterSearchScraper(f\"$NVDA since:2019-11-03 until:2022-12-02\").get_items()), total=15000):\n",
        "    if i > 15000:\n",
        "        break\n",
        "    tweets_list.append([tweet.date, tweet.id, tweet.content, tweet.user.username])\n",
        "tweet_df = pd.DataFrame(\n",
        "    tweets_list, columns=[\"Datetime\", \"Tweet Id\", \"Text\", \"Username\"]\n",
        ")"
      ]
    },
    {
      "cell_type": "code",
      "source": [
        "tweet_df.to_csv('nvda_tweet.csv', encoding='utf-8')"
      ],
      "metadata": {
        "id": "jZ57jGxyh6y0"
      },
      "execution_count": null,
      "outputs": []
    },
    {
      "cell_type": "code",
      "execution_count": null,
      "metadata": {
        "colab": {
          "base_uri": "https://localhost:8080/",
          "height": 206
        },
        "id": "oQV7vPFmhHJM",
        "outputId": "84d2ac37-062e-48aa-ec99-cc8c02d887b1"
      },
      "outputs": [
        {
          "output_type": "execute_result",
          "data": {
            "text/plain": [
              "  Unnamed: 0                   Datetime      Tweet Id  \\\n",
              "0          0  2022-12-01 23:58:16+00:00  1.598467e+18   \n",
              "1          1  2022-12-01 23:57:43+00:00  1.598466e+18   \n",
              "2          2  2022-12-01 23:56:24+00:00  1.598466e+18   \n",
              "3          3  2022-12-01 23:53:59+00:00  1.598465e+18   \n",
              "4          4  2022-12-01 23:51:50+00:00  1.598465e+18   \n",
              "\n",
              "                                                Text      Username  \n",
              "0  $TSLA \\n#WINNER\\nhttps://t.co/ZBTRgq18CE\\nAnot...    Smith28301  \n",
              "1  @StockMKTNewz Your Best Buy is $NVDA. You boug...    Meiyubense  \n",
              "2  “Most winning trading community, Get next winn...    Smith28301  \n",
              "3  Top tweeted stocks:\\n$TSLA $AAPL $SPX $SNOW $A...  StockmanDuck  \n",
              "4  https://t.co/ZBTRgq18CE\\nJoin now\\n$TSLA $NVDA...    Smith28301  "
            ],
            "text/html": [
              "\n",
              "  <div id=\"df-27cb82f2-fb42-49c1-8637-b354a0b4006e\">\n",
              "    <div class=\"colab-df-container\">\n",
              "      <div>\n",
              "<style scoped>\n",
              "    .dataframe tbody tr th:only-of-type {\n",
              "        vertical-align: middle;\n",
              "    }\n",
              "\n",
              "    .dataframe tbody tr th {\n",
              "        vertical-align: top;\n",
              "    }\n",
              "\n",
              "    .dataframe thead th {\n",
              "        text-align: right;\n",
              "    }\n",
              "</style>\n",
              "<table border=\"1\" class=\"dataframe\">\n",
              "  <thead>\n",
              "    <tr style=\"text-align: right;\">\n",
              "      <th></th>\n",
              "      <th>Unnamed: 0</th>\n",
              "      <th>Datetime</th>\n",
              "      <th>Tweet Id</th>\n",
              "      <th>Text</th>\n",
              "      <th>Username</th>\n",
              "    </tr>\n",
              "  </thead>\n",
              "  <tbody>\n",
              "    <tr>\n",
              "      <th>0</th>\n",
              "      <td>0</td>\n",
              "      <td>2022-12-01 23:58:16+00:00</td>\n",
              "      <td>1.598467e+18</td>\n",
              "      <td>$TSLA \\n#WINNER\\nhttps://t.co/ZBTRgq18CE\\nAnot...</td>\n",
              "      <td>Smith28301</td>\n",
              "    </tr>\n",
              "    <tr>\n",
              "      <th>1</th>\n",
              "      <td>1</td>\n",
              "      <td>2022-12-01 23:57:43+00:00</td>\n",
              "      <td>1.598466e+18</td>\n",
              "      <td>@StockMKTNewz Your Best Buy is $NVDA. You boug...</td>\n",
              "      <td>Meiyubense</td>\n",
              "    </tr>\n",
              "    <tr>\n",
              "      <th>2</th>\n",
              "      <td>2</td>\n",
              "      <td>2022-12-01 23:56:24+00:00</td>\n",
              "      <td>1.598466e+18</td>\n",
              "      <td>“Most winning trading community, Get next winn...</td>\n",
              "      <td>Smith28301</td>\n",
              "    </tr>\n",
              "    <tr>\n",
              "      <th>3</th>\n",
              "      <td>3</td>\n",
              "      <td>2022-12-01 23:53:59+00:00</td>\n",
              "      <td>1.598465e+18</td>\n",
              "      <td>Top tweeted stocks:\\n$TSLA $AAPL $SPX $SNOW $A...</td>\n",
              "      <td>StockmanDuck</td>\n",
              "    </tr>\n",
              "    <tr>\n",
              "      <th>4</th>\n",
              "      <td>4</td>\n",
              "      <td>2022-12-01 23:51:50+00:00</td>\n",
              "      <td>1.598465e+18</td>\n",
              "      <td>https://t.co/ZBTRgq18CE\\nJoin now\\n$TSLA $NVDA...</td>\n",
              "      <td>Smith28301</td>\n",
              "    </tr>\n",
              "  </tbody>\n",
              "</table>\n",
              "</div>\n",
              "      <button class=\"colab-df-convert\" onclick=\"convertToInteractive('df-27cb82f2-fb42-49c1-8637-b354a0b4006e')\"\n",
              "              title=\"Convert this dataframe to an interactive table.\"\n",
              "              style=\"display:none;\">\n",
              "        \n",
              "  <svg xmlns=\"http://www.w3.org/2000/svg\" height=\"24px\"viewBox=\"0 0 24 24\"\n",
              "       width=\"24px\">\n",
              "    <path d=\"M0 0h24v24H0V0z\" fill=\"none\"/>\n",
              "    <path d=\"M18.56 5.44l.94 2.06.94-2.06 2.06-.94-2.06-.94-.94-2.06-.94 2.06-2.06.94zm-11 1L8.5 8.5l.94-2.06 2.06-.94-2.06-.94L8.5 2.5l-.94 2.06-2.06.94zm10 10l.94 2.06.94-2.06 2.06-.94-2.06-.94-.94-2.06-.94 2.06-2.06.94z\"/><path d=\"M17.41 7.96l-1.37-1.37c-.4-.4-.92-.59-1.43-.59-.52 0-1.04.2-1.43.59L10.3 9.45l-7.72 7.72c-.78.78-.78 2.05 0 2.83L4 21.41c.39.39.9.59 1.41.59.51 0 1.02-.2 1.41-.59l7.78-7.78 2.81-2.81c.8-.78.8-2.07 0-2.86zM5.41 20L4 18.59l7.72-7.72 1.47 1.35L5.41 20z\"/>\n",
              "  </svg>\n",
              "      </button>\n",
              "      \n",
              "  <style>\n",
              "    .colab-df-container {\n",
              "      display:flex;\n",
              "      flex-wrap:wrap;\n",
              "      gap: 12px;\n",
              "    }\n",
              "\n",
              "    .colab-df-convert {\n",
              "      background-color: #E8F0FE;\n",
              "      border: none;\n",
              "      border-radius: 50%;\n",
              "      cursor: pointer;\n",
              "      display: none;\n",
              "      fill: #1967D2;\n",
              "      height: 32px;\n",
              "      padding: 0 0 0 0;\n",
              "      width: 32px;\n",
              "    }\n",
              "\n",
              "    .colab-df-convert:hover {\n",
              "      background-color: #E2EBFA;\n",
              "      box-shadow: 0px 1px 2px rgba(60, 64, 67, 0.3), 0px 1px 3px 1px rgba(60, 64, 67, 0.15);\n",
              "      fill: #174EA6;\n",
              "    }\n",
              "\n",
              "    [theme=dark] .colab-df-convert {\n",
              "      background-color: #3B4455;\n",
              "      fill: #D2E3FC;\n",
              "    }\n",
              "\n",
              "    [theme=dark] .colab-df-convert:hover {\n",
              "      background-color: #434B5C;\n",
              "      box-shadow: 0px 1px 3px 1px rgba(0, 0, 0, 0.15);\n",
              "      filter: drop-shadow(0px 1px 2px rgba(0, 0, 0, 0.3));\n",
              "      fill: #FFFFFF;\n",
              "    }\n",
              "  </style>\n",
              "\n",
              "      <script>\n",
              "        const buttonEl =\n",
              "          document.querySelector('#df-27cb82f2-fb42-49c1-8637-b354a0b4006e button.colab-df-convert');\n",
              "        buttonEl.style.display =\n",
              "          google.colab.kernel.accessAllowed ? 'block' : 'none';\n",
              "\n",
              "        async function convertToInteractive(key) {\n",
              "          const element = document.querySelector('#df-27cb82f2-fb42-49c1-8637-b354a0b4006e');\n",
              "          const dataTable =\n",
              "            await google.colab.kernel.invokeFunction('convertToInteractive',\n",
              "                                                     [key], {});\n",
              "          if (!dataTable) return;\n",
              "\n",
              "          const docLinkHtml = 'Like what you see? Visit the ' +\n",
              "            '<a target=\"_blank\" href=https://colab.research.google.com/notebooks/data_table.ipynb>data table notebook</a>'\n",
              "            + ' to learn more about interactive tables.';\n",
              "          element.innerHTML = '';\n",
              "          dataTable['output_type'] = 'display_data';\n",
              "          await google.colab.output.renderOutput(dataTable, element);\n",
              "          const docLink = document.createElement('div');\n",
              "          docLink.innerHTML = docLinkHtml;\n",
              "          element.appendChild(docLink);\n",
              "        }\n",
              "      </script>\n",
              "    </div>\n",
              "  </div>\n",
              "  "
            ]
          },
          "metadata": {},
          "execution_count": 179
        }
      ],
      "source": [
        "# Load the dataset\n",
        "tweet_df = pd.read_csv(\"nvda_tweet.csv\")\n",
        "tweet_df.head()"
      ]
    },
    {
      "cell_type": "code",
      "source": [
        "dataset = tweet_df['Text']\n",
        "dataset = dataset.dropna()\n",
        "dataset = dataset.astype(str)\n",
        "\n",
        "# Define the stop words\n",
        "nltk.download('stopwords')\n",
        "nltk.download('punkt')\n",
        "stop_words = set(stopwords.words('english'))\n",
        "stemmer = PorterStemmer()\n",
        "\n",
        "# Define a function to preprocess the text\n",
        "def preprocess_text(text):\n",
        "    tokens = word_tokenize(text)\n",
        "    # remove stop words\n",
        "    tokens = [token for token in tokens if token.lower() not in stop_words]\n",
        "    # perform stemming\n",
        "    tokens = [stemmer.stem(token) for token in tokens]\n",
        "    return \" \".join(tokens)"
      ],
      "metadata": {
        "colab": {
          "base_uri": "https://localhost:8080/"
        },
        "id": "ao7KeqiTrMmy",
        "outputId": "a20265ba-17d2-4c28-a323-0b9083a10fec"
      },
      "execution_count": null,
      "outputs": [
        {
          "output_type": "stream",
          "name": "stderr",
          "text": [
            "[nltk_data] Downloading package stopwords to /root/nltk_data...\n",
            "[nltk_data]   Package stopwords is already up-to-date!\n",
            "[nltk_data] Downloading package punkt to /root/nltk_data...\n",
            "[nltk_data]   Package punkt is already up-to-date!\n"
          ]
        }
      ]
    },
    {
      "cell_type": "code",
      "source": [
        "import re\n",
        "dataset = dataset.apply(lambda x: x.replace(\"#\", \"\"))\n",
        "dataset = dataset.apply(lambda x: x.replace(\"$\", \"\"))\n",
        "dataset = dataset.apply(lambda x: x.replace(\"@\", \"\"))\n",
        "dataset = dataset.apply(lambda x: x.replace(\"!\", \"\"))\n",
        "dataset = dataset.apply(lambda x: re.sub(r'http\\S+', '', x))\n",
        "dataset = dataset.apply(lambda x: \" \".join([word for word in nltk.word_tokenize(x) if not any(letter in word for letter in \"#@\")]))"
      ],
      "metadata": {
        "id": "UqwJLk1ZrXJs"
      },
      "execution_count": null,
      "outputs": []
    },
    {
      "cell_type": "code",
      "source": [
        "import emoji\n",
        "def convert_emoji_to_word(text):\n",
        "    return emoji.demojize(text)\n",
        "\n",
        "dataset = dataset.apply(lambda x: convert_emoji_to_word(x))"
      ],
      "metadata": {
        "id": "lwfkBj7esaS7"
      },
      "execution_count": null,
      "outputs": []
    },
    {
      "cell_type": "code",
      "source": [
        "dataset = dataset.apply(preprocess_text)\n",
        "dataset"
      ],
      "metadata": {
        "colab": {
          "base_uri": "https://localhost:8080/"
        },
        "id": "I3CsHuVYrass",
        "outputId": "237178ef-dc28-4c23-f000-308a0e401be5"
      },
      "execution_count": null,
      "outputs": [
        {
          "output_type": "execute_result",
          "data": {
            "text/plain": [
              "0        tsla winner anoth earli long entri one level ....\n",
              "1        stockmktnewz best buy nvda . bought right time...\n",
              "2        “ win trade commun , get next win alert : spi ...\n",
              "3        top tweet stock : tsla aapl spx snow aehr meta...\n",
              "4        join tsla nvda mu amzn msft baba nflx adb axp ...\n",
              "                               ...                        \n",
              "15128    shop hold 36.80 level watch move back toward 3...\n",
              "15129    aapl keep eye downtrend break move toward 155 ...\n",
              "15130    cathi wood buy 3 million share dna plung sell ...\n",
              "15131    live day-trad room , free access room get live...\n",
              "15132    spi held 390 zone today put bounc back near 39...\n",
              "Name: Text, Length: 15001, dtype: object"
            ]
          },
          "metadata": {},
          "execution_count": 183
        }
      ]
    },
    {
      "cell_type": "code",
      "source": [
        "# Convert the text into numerical features using the same CountVectorizer as the training data\n",
        "new_data_vect = vect.transform(dataset)\n",
        "\n",
        "# Make predictions on the new data\n",
        "predictions = clf.predict(new_data_vect)\n",
        "\n",
        "# Print the predictions\n",
        "print(predictions)"
      ],
      "metadata": {
        "colab": {
          "base_uri": "https://localhost:8080/"
        },
        "id": "cJDewtsSrbIv",
        "outputId": "f0f95285-1a3f-4234-d7f4-7242075bd6b8"
      },
      "execution_count": null,
      "outputs": [
        {
          "output_type": "stream",
          "name": "stdout",
          "text": [
            "[2 2 2 ... 1 1 1]\n"
          ]
        }
      ]
    },
    {
      "cell_type": "code",
      "execution_count": null,
      "metadata": {
        "colab": {
          "base_uri": "https://localhost:8080/",
          "height": 301
        },
        "id": "fJiyIuCTBfNa",
        "outputId": "f981aea6-994f-4408-fc42-98aa53dac2be"
      },
      "outputs": [
        {
          "output_type": "display_data",
          "data": {
            "text/plain": [
              "<Figure size 432x288 with 1 Axes>"
            ],
            "image/png": "[encoded data removed]"
          },
          "metadata": {
            "needs_background": "light"
          }
        },
        {
          "output_type": "stream",
          "name": "stdout",
          "text": [
            "4022\n",
            "10979\n"
          ]
        }
      ],
      "source": [
        "import matplotlib.pyplot as plt\n",
        "\n",
        "# Count the number of positive and negative predictions\n",
        "positive = len([p for p in predictions if p == 2])\n",
        "negative = len([p for p in predictions if p == 1])\n",
        "\n",
        "# Create a bar chart\n",
        "bar_chart = plt.bar(['Positive', 'Negative'], [positive, negative])\n",
        "bar_chart[0].set_color('g')\n",
        "bar_chart[1].set_color('r')\n",
        "plt.show()\n",
        "\n",
        "print(positive)\n",
        "print(negative)"
      ]
    },
    {
      "cell_type": "markdown",
      "metadata": {
        "id": "TSYTB525gpHp"
      },
      "source": [
        "## MSFT"
      ]
    },
    {
      "cell_type": "code",
      "execution_count": null,
      "metadata": {
        "colab": {
          "base_uri": "https://localhost:8080/",
          "height": 49,
          "referenced_widgets": [
            "f09023d3150044fc9318b17fbb11d8b3",
            "98e95fb4f1584f079b8a618da39485a3",
            "e46ac9310fc9450b8f33c58855502acd",
            "98fa445bd53e490186626ed97bfdbb1f",
            "0f2418ab6b454cab801bae1aaa95fdff",
            "bd1f4d9b19d64aa5a123f6447aa20e81",
            "c6b7ca72c5ff4b5b81971cfd7b397ee0",
            "ada6e0ffcb1c486e8950ae6bbef69fc6",
            "a4f297ae1b5743389c32c07a05bfc9b8",
            "c26e02f3b15d46ca9f28558984d84f4c",
            "0c84ac1d4faf4b3c8bc22a6f7d8a8420"
          ]
        },
        "id": "l-FD0ThVgtrT",
        "outputId": "01819cc1-a534-44bf-9143-80ddea37621b"
      },
      "outputs": [
        {
          "output_type": "display_data",
          "data": {
            "text/plain": [
              "  0%|          | 0/15000 [00:00<?, ?it/s]"
            ],
            "application/vnd.jupyter.widget-view+json": {
              "version_major": 2,
              "version_minor": 0,
              "model_id": "f09023d3150044fc9318b17fbb11d8b3"
            }
          },
          "metadata": {}
        }
      ],
      "source": [
        "tweets_list = []\n",
        "\n",
        "for i, tweet in tqdm(enumerate(sntwitter.TwitterSearchScraper(f\"$MSFT since:2019-11-03 until:2022-12-02\").get_items()), total=15000):\n",
        "    if i > 15000:\n",
        "        break\n",
        "    tweets_list.append([tweet.date, tweet.id, tweet.content, tweet.user.username])\n",
        "tweet_df = pd.DataFrame(\n",
        "    tweets_list, columns=[\"Datetime\", \"Tweet Id\", \"Text\", \"Username\"]\n",
        ")"
      ]
    },
    {
      "cell_type": "code",
      "source": [
        "tweet_df.to_csv('msft_tweet.csv', encoding='utf-8')"
      ],
      "metadata": {
        "id": "fA5x086bh15A"
      },
      "execution_count": null,
      "outputs": []
    },
    {
      "cell_type": "code",
      "execution_count": null,
      "metadata": {
        "colab": {
          "base_uri": "https://localhost:8080/",
          "height": 206
        },
        "id": "Caw0gJfhNLbH",
        "outputId": "b2cfd5aa-88c0-4f1f-b4b7-fcbd89b7a546"
      },
      "outputs": [
        {
          "output_type": "execute_result",
          "data": {
            "text/plain": [
              "  Unnamed: 0                   Datetime      Tweet Id  \\\n",
              "0          0  2022-12-01 23:53:59+00:00  1.598465e+18   \n",
              "1          1  2022-12-01 23:53:47+00:00  1.598465e+18   \n",
              "2          2  2022-12-01 23:51:50+00:00  1.598465e+18   \n",
              "3          3  2022-12-01 23:50:14+00:00  1.598465e+18   \n",
              "4          4  2022-12-01 23:49:24+00:00  1.598464e+18   \n",
              "\n",
              "                                                Text        Username  \n",
              "0  Top tweeted stocks:\\n$TSLA $AAPL $SPX $SNOW $A...    StockmanDuck  \n",
              "1  $AAPL Trade idea💡\\nhttps://t.co/ZBTRgq18CE\\n\\n...      Smith28301  \n",
              "2  https://t.co/ZBTRgq18CE\\nJoin now\\n$TSLA $NVDA...      Smith28301  \n",
              "3  $AMD $AAPL $SQ $AMZN \\n$EA $SEDG $MA $V $KO $P...  SheldonKooper7  \n",
              "4  Learn To Trade While You're Working From Home&...      Smith28301  "
            ],
            "text/html": [
              "\n",
              "  <div id=\"df-e587db05-f2d4-4c8e-9efb-bc92d6e1fa54\">\n",
              "    <div class=\"colab-df-container\">\n",
              "      <div>\n",
              "<style scoped>\n",
              "    .dataframe tbody tr th:only-of-type {\n",
              "        vertical-align: middle;\n",
              "    }\n",
              "\n",
              "    .dataframe tbody tr th {\n",
              "        vertical-align: top;\n",
              "    }\n",
              "\n",
              "    .dataframe thead th {\n",
              "        text-align: right;\n",
              "    }\n",
              "</style>\n",
              "<table border=\"1\" class=\"dataframe\">\n",
              "  <thead>\n",
              "    <tr style=\"text-align: right;\">\n",
              "      <th></th>\n",
              "      <th>Unnamed: 0</th>\n",
              "      <th>Datetime</th>\n",
              "      <th>Tweet Id</th>\n",
              "      <th>Text</th>\n",
              "      <th>Username</th>\n",
              "    </tr>\n",
              "  </thead>\n",
              "  <tbody>\n",
              "    <tr>\n",
              "      <th>0</th>\n",
              "      <td>0</td>\n",
              "      <td>2022-12-01 23:53:59+00:00</td>\n",
              "      <td>1.598465e+18</td>\n",
              "      <td>Top tweeted stocks:\\n$TSLA $AAPL $SPX $SNOW $A...</td>\n",
              "      <td>StockmanDuck</td>\n",
              "    </tr>\n",
              "    <tr>\n",
              "      <th>1</th>\n",
              "      <td>1</td>\n",
              "      <td>2022-12-01 23:53:47+00:00</td>\n",
              "      <td>1.598465e+18</td>\n",
              "      <td>$AAPL Trade idea💡\\nhttps://t.co/ZBTRgq18CE\\n\\n...</td>\n",
              "      <td>Smith28301</td>\n",
              "    </tr>\n",
              "    <tr>\n",
              "      <th>2</th>\n",
              "      <td>2</td>\n",
              "      <td>2022-12-01 23:51:50+00:00</td>\n",
              "      <td>1.598465e+18</td>\n",
              "      <td>https://t.co/ZBTRgq18CE\\nJoin now\\n$TSLA $NVDA...</td>\n",
              "      <td>Smith28301</td>\n",
              "    </tr>\n",
              "    <tr>\n",
              "      <th>3</th>\n",
              "      <td>3</td>\n",
              "      <td>2022-12-01 23:50:14+00:00</td>\n",
              "      <td>1.598465e+18</td>\n",
              "      <td>$AMD $AAPL $SQ $AMZN \\n$EA $SEDG $MA $V $KO $P...</td>\n",
              "      <td>SheldonKooper7</td>\n",
              "    </tr>\n",
              "    <tr>\n",
              "      <th>4</th>\n",
              "      <td>4</td>\n",
              "      <td>2022-12-01 23:49:24+00:00</td>\n",
              "      <td>1.598464e+18</td>\n",
              "      <td>Learn To Trade While You're Working From Home&amp;...</td>\n",
              "      <td>Smith28301</td>\n",
              "    </tr>\n",
              "  </tbody>\n",
              "</table>\n",
              "</div>\n",
              "      <button class=\"colab-df-convert\" onclick=\"convertToInteractive('df-e587db05-f2d4-4c8e-9efb-bc92d6e1fa54')\"\n",
              "              title=\"Convert this dataframe to an interactive table.\"\n",
              "              style=\"display:none;\">\n",
              "        \n",
              "  <svg xmlns=\"http://www.w3.org/2000/svg\" height=\"24px\"viewBox=\"0 0 24 24\"\n",
              "       width=\"24px\">\n",
              "    <path d=\"M0 0h24v24H0V0z\" fill=\"none\"/>\n",
              "    <path d=\"M18.56 5.44l.94 2.06.94-2.06 2.06-.94-2.06-.94-.94-2.06-.94 2.06-2.06.94zm-11 1L8.5 8.5l.94-2.06 2.06-.94-2.06-.94L8.5 2.5l-.94 2.06-2.06.94zm10 10l.94 2.06.94-2.06 2.06-.94-2.06-.94-.94-2.06-.94 2.06-2.06.94z\"/><path d=\"M17.41 7.96l-1.37-1.37c-.4-.4-.92-.59-1.43-.59-.52 0-1.04.2-1.43.59L10.3 9.45l-7.72 7.72c-.78.78-.78 2.05 0 2.83L4 21.41c.39.39.9.59 1.41.59.51 0 1.02-.2 1.41-.59l7.78-7.78 2.81-2.81c.8-.78.8-2.07 0-2.86zM5.41 20L4 18.59l7.72-7.72 1.47 1.35L5.41 20z\"/>\n",
              "  </svg>\n",
              "      </button>\n",
              "      \n",
              "  <style>\n",
              "    .colab-df-container {\n",
              "      display:flex;\n",
              "      flex-wrap:wrap;\n",
              "      gap: 12px;\n",
              "    }\n",
              "\n",
              "    .colab-df-convert {\n",
              "      background-color: #E8F0FE;\n",
              "      border: none;\n",
              "      border-radius: 50%;\n",
              "      cursor: pointer;\n",
              "      display: none;\n",
              "      fill: #1967D2;\n",
              "      height: 32px;\n",
              "      padding: 0 0 0 0;\n",
              "      width: 32px;\n",
              "    }\n",
              "\n",
              "    .colab-df-convert:hover {\n",
              "      background-color: #E2EBFA;\n",
              "      box-shadow: 0px 1px 2px rgba(60, 64, 67, 0.3), 0px 1px 3px 1px rgba(60, 64, 67, 0.15);\n",
              "      fill: #174EA6;\n",
              "    }\n",
              "\n",
              "    [theme=dark] .colab-df-convert {\n",
              "      background-color: #3B4455;\n",
              "      fill: #D2E3FC;\n",
              "    }\n",
              "\n",
              "    [theme=dark] .colab-df-convert:hover {\n",
              "      background-color: #434B5C;\n",
              "      box-shadow: 0px 1px 3px 1px rgba(0, 0, 0, 0.15);\n",
              "      filter: drop-shadow(0px 1px 2px rgba(0, 0, 0, 0.3));\n",
              "      fill: #FFFFFF;\n",
              "    }\n",
              "  </style>\n",
              "\n",
              "      <script>\n",
              "        const buttonEl =\n",
              "          document.querySelector('#df-e587db05-f2d4-4c8e-9efb-bc92d6e1fa54 button.colab-df-convert');\n",
              "        buttonEl.style.display =\n",
              "          google.colab.kernel.accessAllowed ? 'block' : 'none';\n",
              "\n",
              "        async function convertToInteractive(key) {\n",
              "          const element = document.querySelector('#df-e587db05-f2d4-4c8e-9efb-bc92d6e1fa54');\n",
              "          const dataTable =\n",
              "            await google.colab.kernel.invokeFunction('convertToInteractive',\n",
              "                                                     [key], {});\n",
              "          if (!dataTable) return;\n",
              "\n",
              "          const docLinkHtml = 'Like what you see? Visit the ' +\n",
              "            '<a target=\"_blank\" href=https://colab.research.google.com/notebooks/data_table.ipynb>data table notebook</a>'\n",
              "            + ' to learn more about interactive tables.';\n",
              "          element.innerHTML = '';\n",
              "          dataTable['output_type'] = 'display_data';\n",
              "          await google.colab.output.renderOutput(dataTable, element);\n",
              "          const docLink = document.createElement('div');\n",
              "          docLink.innerHTML = docLinkHtml;\n",
              "          element.appendChild(docLink);\n",
              "        }\n",
              "      </script>\n",
              "    </div>\n",
              "  </div>\n",
              "  "
            ]
          },
          "metadata": {},
          "execution_count": 152
        }
      ],
      "source": [
        "# Load the dataset\n",
        "tweet_df = pd.read_csv(\"msft_tweet.csv\")\n",
        "tweet_df.head()"
      ]
    },
    {
      "cell_type": "code",
      "source": [
        "dataset = tweet_df['Text']\n",
        "dataset = dataset.dropna()\n",
        "dataset = dataset.astype(str)\n",
        "\n",
        "# Define the stop words\n",
        "nltk.download('stopwords')\n",
        "nltk.download('punkt')\n",
        "stop_words = set(stopwords.words('english'))\n",
        "stemmer = PorterStemmer()\n",
        "\n",
        "# Define a function to preprocess the text\n",
        "def preprocess_text(text):\n",
        "    tokens = word_tokenize(text)\n",
        "    # remove stop words\n",
        "    tokens = [token for token in tokens if token.lower() not in stop_words]\n",
        "    # perform stemming\n",
        "    tokens = [stemmer.stem(token) for token in tokens]\n",
        "    return \" \".join(tokens)"
      ],
      "metadata": {
        "colab": {
          "base_uri": "https://localhost:8080/"
        },
        "id": "LTODnhZXwGsi",
        "outputId": "dbdb925a-49de-4e0b-a388-766de1341ea2"
      },
      "execution_count": null,
      "outputs": [
        {
          "output_type": "stream",
          "name": "stderr",
          "text": [
            "[nltk_data] Downloading package stopwords to /root/nltk_data...\n",
            "[nltk_data]   Package stopwords is already up-to-date!\n",
            "[nltk_data] Downloading package punkt to /root/nltk_data...\n",
            "[nltk_data]   Package punkt is already up-to-date!\n"
          ]
        }
      ]
    },
    {
      "cell_type": "code",
      "source": [
        "import re\n",
        "dataset = dataset.apply(lambda x: x.replace(\"#\", \"\"))\n",
        "dataset = dataset.apply(lambda x: x.replace(\"$\", \"\"))\n",
        "dataset = dataset.apply(lambda x: x.replace(\"@\", \"\"))\n",
        "dataset = dataset.apply(lambda x: x.replace(\"!\", \"\"))\n",
        "dataset = dataset.apply(lambda x: re.sub(r'http\\S+', '', x))\n",
        "dataset = dataset.apply(lambda x: \" \".join([word for word in nltk.word_tokenize(x) if not any(letter in word for letter in \"#@\")]))"
      ],
      "metadata": {
        "id": "MS9fh03nwFsv"
      },
      "execution_count": null,
      "outputs": []
    },
    {
      "cell_type": "code",
      "source": [
        "import emoji\n",
        "def convert_emoji_to_word(text):\n",
        "    return emoji.demojize(text)\n",
        "\n",
        "dataset = dataset.apply(lambda x: convert_emoji_to_word(x))"
      ],
      "metadata": {
        "id": "-Aa-IC4mwIWQ"
      },
      "execution_count": null,
      "outputs": []
    },
    {
      "cell_type": "code",
      "source": [
        "dataset = dataset.apply(preprocess_text)\n",
        "dataset"
      ],
      "metadata": {
        "colab": {
          "base_uri": "https://localhost:8080/"
        },
        "id": "Osxirq5swJ4n",
        "outputId": "88821e9c-bf72-4f91-9e9b-ae2d98512270"
      },
      "execution_count": null,
      "outputs": [
        {
          "output_type": "execute_result",
          "data": {
            "text/plain": [
              "0        top tweet stock : tsla aapl spx snow aehr meta...\n",
              "1        aapl trade idea : light_bulb : amc spi gme qqq...\n",
              "2        join tsla nvda mu amzn msft baba nflx adb axp ...\n",
              "3        amd aapl sq amzn ea sedg v ko pypl rcl goog nk...\n",
              "4        learn trade 're work home & gt ; aapl amzn btc...\n",
              "                               ...                        \n",
              "15019    msft : dollar_banknot : :money-mouth_fac : pro...\n",
              "15020    : green_circl : videogam maker bounc back 2022...\n",
              "15021    today 's market heatmap - novemb 16 tgt -16.19...\n",
              "15022                     msft put st240 وقف اختراق 244.65\n",
              "15023                        aiというワードにほんと期待するもんだね、市場は msft\n",
              "Name: Text, Length: 15001, dtype: object"
            ]
          },
          "metadata": {},
          "execution_count": 156
        }
      ]
    },
    {
      "cell_type": "code",
      "source": [
        "# Convert the text into numerical features using the same CountVectorizer as the training data\n",
        "new_data_vect = vect.transform(dataset)\n",
        "\n",
        "# Make predictions on the new data\n",
        "predictions = clf.predict(new_data_vect)\n",
        "\n",
        "# Print the predictions\n",
        "print(predictions)"
      ],
      "metadata": {
        "colab": {
          "base_uri": "https://localhost:8080/"
        },
        "id": "hS8GnPmrwMOE",
        "outputId": "0695606b-58e4-4682-96f8-ca4f4ca1a891"
      },
      "execution_count": null,
      "outputs": [
        {
          "output_type": "stream",
          "name": "stdout",
          "text": [
            "[2 1 1 ... 1 1 2]\n"
          ]
        }
      ]
    },
    {
      "cell_type": "code",
      "source": [
        "import matplotlib.pyplot as plt\n",
        "\n",
        "# Count the number of positive and negative predictions\n",
        "positive = len([p for p in predictions if p == 2])\n",
        "negative = len([p for p in predictions if p == 1])\n",
        "\n",
        "# Create a bar chart\n",
        "bar_chart = plt.bar(['Positive', 'Negative'], [positive, negative])\n",
        "bar_chart[0].set_color('g')\n",
        "bar_chart[1].set_color('r')\n",
        "plt.show()\n",
        "\n",
        "print(positive)\n",
        "print(negative)"
      ],
      "metadata": {
        "colab": {
          "base_uri": "https://localhost:8080/",
          "height": 301
        },
        "id": "hEEbm8CCwPKY",
        "outputId": "a9666657-5d01-4584-9680-e4b74a60320e"
      },
      "execution_count": null,
      "outputs": [
        {
          "output_type": "display_data",
          "data": {
            "text/plain": [
              "<Figure size 432x288 with 1 Axes>"
            ],
            "image/png": "[encoded data removed]"
          },
          "metadata": {
            "needs_background": "light"
          }
        },
        {
          "output_type": "stream",
          "name": "stdout",
          "text": [
            "3943\n",
            "11058\n"
          ]
        }
      ]
    },
    {
      "cell_type": "markdown",
      "metadata": {
        "id": "YhjCuytE6dQK"
      },
      "source": [
        "## META"
      ]
    },
    {
      "cell_type": "code",
      "execution_count": null,
      "metadata": {
        "colab": {
          "base_uri": "https://localhost:8080/",
          "height": 49,
          "referenced_widgets": [
            "5777f5ccbef04a11a244198614ab88d7",
            "155de91b2e604520b89d4970baeca5f2",
            "954b1888c86d48799188b6e4ef373246",
            "6501b7e2aeda463ca3219398602219ce",
            "c3b87aa1c4144c92b0b58ebe6263a536",
            "8ca667a594c8420c84f7ba1154aaf275",
            "c736f547bc9b4fd88e058b8ace537580",
            "58e4469167314fbe93f529f3f29a270c",
            "cc878fe189704555a340c98bf2409ea6",
            "3b3f29ee5f4a4ce0b17ecafcb0d48afb",
            "8e953ae0c85b4081abe94875d125b2d0"
          ]
        },
        "id": "jRuNr-XG6c7v",
        "outputId": "30c2aa22-56f5-41cb-f00a-30f4f9081cda"
      },
      "outputs": [
        {
          "output_type": "display_data",
          "data": {
            "text/plain": [
              "  0%|          | 0/15000 [00:00<?, ?it/s]"
            ],
            "application/vnd.jupyter.widget-view+json": {
              "version_major": 2,
              "version_minor": 0,
              "model_id": "5777f5ccbef04a11a244198614ab88d7"
            }
          },
          "metadata": {}
        }
      ],
      "source": [
        "tweets_list = []\n",
        "\n",
        "for i, tweet in tqdm(enumerate(sntwitter.TwitterSearchScraper(f\"$META since:2019-11-03 until:2022-12-02\").get_items()), total=15000):\n",
        "    if i > 15000:\n",
        "        break\n",
        "    tweets_list.append([tweet.date, tweet.id, tweet.content, tweet.user.username])\n",
        "tweet_df = pd.DataFrame(\n",
        "    tweets_list, columns=[\"Datetime\", \"Tweet Id\", \"Text\", \"Username\"]\n",
        ")"
      ]
    },
    {
      "cell_type": "code",
      "source": [
        "tweet_df.to_csv('meta_tweet.csv', encoding='utf-8')"
      ],
      "metadata": {
        "id": "K0O1ZUXNliNT"
      },
      "execution_count": null,
      "outputs": []
    },
    {
      "cell_type": "code",
      "execution_count": null,
      "metadata": {
        "colab": {
          "base_uri": "https://localhost:8080/",
          "height": 206
        },
        "id": "zs3aZuAyRE0P",
        "outputId": "a3cb6169-8404-4fc2-ca47-6404336045f3"
      },
      "outputs": [
        {
          "output_type": "execute_result",
          "data": {
            "text/plain": [
              "  Unnamed: 0                   Datetime      Tweet Id  \\\n",
              "0          0  2022-12-01 23:58:46+00:00  1.598467e+18   \n",
              "1          1  2022-12-01 23:56:04+00:00  1.598466e+18   \n",
              "2          2  2022-12-01 23:55:55+00:00  1.598466e+18   \n",
              "3          3  2022-12-01 23:54:52+00:00  1.598466e+18   \n",
              "4          4  2022-12-01 23:54:48+00:00  1.598466e+18   \n",
              "\n",
              "                                                Text       Username  \n",
              "0  @Reyhaneh @Meta @plfmse @IllinoisCS Thank you ...  LingmingZhang  \n",
              "1       @LingmingZhang @Meta @plfmse @IllinoisCS 🎉🎉🎉       Reyhaneh  \n",
              "2  Just found out my Meta Quest is bricked\\n\\nTha...        Mylodi_  \n",
              "3  Today's update. Good afternoon. Hoping @Meta-b...  MsElephantGun  \n",
              "4  Instead of responding (see previous) @Meta-boo...  MsElephantGun  "
            ],
            "text/html": [
              "\n",
              "  <div id=\"df-48339d7e-78d2-479a-b095-0afff8ce32eb\">\n",
              "    <div class=\"colab-df-container\">\n",
              "      <div>\n",
              "<style scoped>\n",
              "    .dataframe tbody tr th:only-of-type {\n",
              "        vertical-align: middle;\n",
              "    }\n",
              "\n",
              "    .dataframe tbody tr th {\n",
              "        vertical-align: top;\n",
              "    }\n",
              "\n",
              "    .dataframe thead th {\n",
              "        text-align: right;\n",
              "    }\n",
              "</style>\n",
              "<table border=\"1\" class=\"dataframe\">\n",
              "  <thead>\n",
              "    <tr style=\"text-align: right;\">\n",
              "      <th></th>\n",
              "      <th>Unnamed: 0</th>\n",
              "      <th>Datetime</th>\n",
              "      <th>Tweet Id</th>\n",
              "      <th>Text</th>\n",
              "      <th>Username</th>\n",
              "    </tr>\n",
              "  </thead>\n",
              "  <tbody>\n",
              "    <tr>\n",
              "      <th>0</th>\n",
              "      <td>0</td>\n",
              "      <td>2022-12-01 23:58:46+00:00</td>\n",
              "      <td>1.598467e+18</td>\n",
              "      <td>@Reyhaneh @Meta @plfmse @IllinoisCS Thank you ...</td>\n",
              "      <td>LingmingZhang</td>\n",
              "    </tr>\n",
              "    <tr>\n",
              "      <th>1</th>\n",
              "      <td>1</td>\n",
              "      <td>2022-12-01 23:56:04+00:00</td>\n",
              "      <td>1.598466e+18</td>\n",
              "      <td>@LingmingZhang @Meta @plfmse @IllinoisCS 🎉🎉🎉</td>\n",
              "      <td>Reyhaneh</td>\n",
              "    </tr>\n",
              "    <tr>\n",
              "      <th>2</th>\n",
              "      <td>2</td>\n",
              "      <td>2022-12-01 23:55:55+00:00</td>\n",
              "      <td>1.598466e+18</td>\n",
              "      <td>Just found out my Meta Quest is bricked\\n\\nTha...</td>\n",
              "      <td>Mylodi_</td>\n",
              "    </tr>\n",
              "    <tr>\n",
              "      <th>3</th>\n",
              "      <td>3</td>\n",
              "      <td>2022-12-01 23:54:52+00:00</td>\n",
              "      <td>1.598466e+18</td>\n",
              "      <td>Today's update. Good afternoon. Hoping @Meta-b...</td>\n",
              "      <td>MsElephantGun</td>\n",
              "    </tr>\n",
              "    <tr>\n",
              "      <th>4</th>\n",
              "      <td>4</td>\n",
              "      <td>2022-12-01 23:54:48+00:00</td>\n",
              "      <td>1.598466e+18</td>\n",
              "      <td>Instead of responding (see previous) @Meta-boo...</td>\n",
              "      <td>MsElephantGun</td>\n",
              "    </tr>\n",
              "  </tbody>\n",
              "</table>\n",
              "</div>\n",
              "      <button class=\"colab-df-convert\" onclick=\"convertToInteractive('df-48339d7e-78d2-479a-b095-0afff8ce32eb')\"\n",
              "              title=\"Convert this dataframe to an interactive table.\"\n",
              "              style=\"display:none;\">\n",
              "        \n",
              "  <svg xmlns=\"http://www.w3.org/2000/svg\" height=\"24px\"viewBox=\"0 0 24 24\"\n",
              "       width=\"24px\">\n",
              "    <path d=\"M0 0h24v24H0V0z\" fill=\"none\"/>\n",
              "    <path d=\"M18.56 5.44l.94 2.06.94-2.06 2.06-.94-2.06-.94-.94-2.06-.94 2.06-2.06.94zm-11 1L8.5 8.5l.94-2.06 2.06-.94-2.06-.94L8.5 2.5l-.94 2.06-2.06.94zm10 10l.94 2.06.94-2.06 2.06-.94-2.06-.94-.94-2.06-.94 2.06-2.06.94z\"/><path d=\"M17.41 7.96l-1.37-1.37c-.4-.4-.92-.59-1.43-.59-.52 0-1.04.2-1.43.59L10.3 9.45l-7.72 7.72c-.78.78-.78 2.05 0 2.83L4 21.41c.39.39.9.59 1.41.59.51 0 1.02-.2 1.41-.59l7.78-7.78 2.81-2.81c.8-.78.8-2.07 0-2.86zM5.41 20L4 18.59l7.72-7.72 1.47 1.35L5.41 20z\"/>\n",
              "  </svg>\n",
              "      </button>\n",
              "      \n",
              "  <style>\n",
              "    .colab-df-container {\n",
              "      display:flex;\n",
              "      flex-wrap:wrap;\n",
              "      gap: 12px;\n",
              "    }\n",
              "\n",
              "    .colab-df-convert {\n",
              "      background-color: #E8F0FE;\n",
              "      border: none;\n",
              "      border-radius: 50%;\n",
              "      cursor: pointer;\n",
              "      display: none;\n",
              "      fill: #1967D2;\n",
              "      height: 32px;\n",
              "      padding: 0 0 0 0;\n",
              "      width: 32px;\n",
              "    }\n",
              "\n",
              "    .colab-df-convert:hover {\n",
              "      background-color: #E2EBFA;\n",
              "      box-shadow: 0px 1px 2px rgba(60, 64, 67, 0.3), 0px 1px 3px 1px rgba(60, 64, 67, 0.15);\n",
              "      fill: #174EA6;\n",
              "    }\n",
              "\n",
              "    [theme=dark] .colab-df-convert {\n",
              "      background-color: #3B4455;\n",
              "      fill: #D2E3FC;\n",
              "    }\n",
              "\n",
              "    [theme=dark] .colab-df-convert:hover {\n",
              "      background-color: #434B5C;\n",
              "      box-shadow: 0px 1px 3px 1px rgba(0, 0, 0, 0.15);\n",
              "      filter: drop-shadow(0px 1px 2px rgba(0, 0, 0, 0.3));\n",
              "      fill: #FFFFFF;\n",
              "    }\n",
              "  </style>\n",
              "\n",
              "      <script>\n",
              "        const buttonEl =\n",
              "          document.querySelector('#df-48339d7e-78d2-479a-b095-0afff8ce32eb button.colab-df-convert');\n",
              "        buttonEl.style.display =\n",
              "          google.colab.kernel.accessAllowed ? 'block' : 'none';\n",
              "\n",
              "        async function convertToInteractive(key) {\n",
              "          const element = document.querySelector('#df-48339d7e-78d2-479a-b095-0afff8ce32eb');\n",
              "          const dataTable =\n",
              "            await google.colab.kernel.invokeFunction('convertToInteractive',\n",
              "                                                     [key], {});\n",
              "          if (!dataTable) return;\n",
              "\n",
              "          const docLinkHtml = 'Like what you see? Visit the ' +\n",
              "            '<a target=\"_blank\" href=https://colab.research.google.com/notebooks/data_table.ipynb>data table notebook</a>'\n",
              "            + ' to learn more about interactive tables.';\n",
              "          element.innerHTML = '';\n",
              "          dataTable['output_type'] = 'display_data';\n",
              "          await google.colab.output.renderOutput(dataTable, element);\n",
              "          const docLink = document.createElement('div');\n",
              "          docLink.innerHTML = docLinkHtml;\n",
              "          element.appendChild(docLink);\n",
              "        }\n",
              "      </script>\n",
              "    </div>\n",
              "  </div>\n",
              "  "
            ]
          },
          "metadata": {},
          "execution_count": 165
        }
      ],
      "source": [
        "# Load the dataset\n",
        "tweet_df = pd.read_csv(\"meta_tweet.csv\")\n",
        "tweet_df.head()"
      ]
    },
    {
      "cell_type": "code",
      "source": [
        "dataset = tweet_df['Text']\n",
        "dataset = dataset.dropna()\n",
        "dataset = dataset.astype(str)\n",
        "\n",
        "# Define the stop words\n",
        "nltk.download('stopwords')\n",
        "nltk.download('punkt')\n",
        "stop_words = set(stopwords.words('english'))\n",
        "stemmer = PorterStemmer()\n",
        "\n",
        "# Define a function to preprocess the text\n",
        "def preprocess_text(text):\n",
        "    tokens = word_tokenize(text)\n",
        "    # remove stop words\n",
        "    tokens = [token for token in tokens if token.lower() not in stop_words]\n",
        "    # perform stemming\n",
        "    tokens = [stemmer.stem(token) for token in tokens]\n",
        "    return \" \".join(tokens)"
      ],
      "metadata": {
        "colab": {
          "base_uri": "https://localhost:8080/"
        },
        "id": "BGvTT5MCw4Hs",
        "outputId": "9110fd93-0b43-4dbc-c376-b66a95566d8b"
      },
      "execution_count": null,
      "outputs": [
        {
          "output_type": "stream",
          "name": "stderr",
          "text": [
            "[nltk_data] Downloading package stopwords to /root/nltk_data...\n",
            "[nltk_data]   Package stopwords is already up-to-date!\n",
            "[nltk_data] Downloading package punkt to /root/nltk_data...\n",
            "[nltk_data]   Package punkt is already up-to-date!\n"
          ]
        }
      ]
    },
    {
      "cell_type": "code",
      "source": [
        "import re\n",
        "dataset = dataset.apply(lambda x: x.replace(\"#\", \"\"))\n",
        "dataset = dataset.apply(lambda x: x.replace(\"$\", \"\"))\n",
        "dataset = dataset.apply(lambda x: x.replace(\"@\", \"\"))\n",
        "dataset = dataset.apply(lambda x: x.replace(\"!\", \"\"))\n",
        "dataset = dataset.apply(lambda x: re.sub(r'http\\S+', '', x))\n",
        "dataset = dataset.apply(lambda x: \" \".join([word for word in nltk.word_tokenize(x) if not any(letter in word for letter in \"#@\")]))"
      ],
      "metadata": {
        "id": "VqkP0-k8xqCb"
      },
      "execution_count": null,
      "outputs": []
    },
    {
      "cell_type": "code",
      "source": [
        "import emoji\n",
        "def convert_emoji_to_word(text):\n",
        "    return emoji.demojize(text)\n",
        "\n",
        "dataset = dataset.apply(lambda x: convert_emoji_to_word(x))"
      ],
      "metadata": {
        "id": "VAFGcPA9w2sX"
      },
      "execution_count": null,
      "outputs": []
    },
    {
      "cell_type": "code",
      "source": [
        "dataset = dataset.apply(preprocess_text)\n",
        "dataset"
      ],
      "metadata": {
        "colab": {
          "base_uri": "https://localhost:8080/"
        },
        "id": "2QgChyTiwz2a",
        "outputId": "c956a464-81a3-408f-c6a4-ba151af03102"
      },
      "execution_count": null,
      "outputs": [
        {
          "output_type": "execute_result",
          "data": {
            "text/plain": [
              "0              reyhaneh meta plfmse illinoisc thank reyhan\n",
              "1        lingmingzhang meta plfmse illinoisc : party_po...\n",
              "2        found meta quest brick thank wors actual garba...\n",
              "3        today 's updat . good afternoon . hope meta-bo...\n",
              "4        instead respond ( see previou ) meta-book deci...\n",
              "                               ...                        \n",
              "15174    oh look , meta tax file site collect person in...\n",
              "15175    sandip97922651 facebook meta till : disappoint...\n",
              "15176    rumor mark zuckerberg leav meta greener pastur...\n",
              "15177                              meta - 111 - see nhod .\n",
              "15178    instagramcomm still fix . ridicul . three plu ...\n",
              "Name: Text, Length: 15001, dtype: object"
            ]
          },
          "metadata": {},
          "execution_count": 169
        }
      ]
    },
    {
      "cell_type": "code",
      "source": [
        "# Convert the text into numerical features using the same CountVectorizer as the training data\n",
        "new_data_vect = vect.transform(dataset)\n",
        "\n",
        "# Make predictions on the new data\n",
        "predictions = clf.predict(new_data_vect)\n",
        "\n",
        "# Print the predictions\n",
        "print(predictions)"
      ],
      "metadata": {
        "colab": {
          "base_uri": "https://localhost:8080/"
        },
        "id": "Fgvmx6frw00w",
        "outputId": "e5b634f8-aef0-4531-ebbe-3099a535cc19"
      },
      "execution_count": null,
      "outputs": [
        {
          "output_type": "stream",
          "name": "stdout",
          "text": [
            "[2 2 1 ... 2 1 1]\n"
          ]
        }
      ]
    },
    {
      "cell_type": "code",
      "source": [
        "import matplotlib.pyplot as plt\n",
        "\n",
        "# Count the number of positive and negative predictions\n",
        "positive = len([p for p in predictions if p == 2])\n",
        "negative = len([p for p in predictions if p == 1])\n",
        "\n",
        "# Create a bar chart\n",
        "bar_chart = plt.bar(['Positive', 'Negative'], [positive, negative])\n",
        "bar_chart[0].set_color('g')\n",
        "bar_chart[1].set_color('r')\n",
        "plt.show()\n",
        "\n",
        "print(positive)\n",
        "print(negative)"
      ],
      "metadata": {
        "colab": {
          "base_uri": "https://localhost:8080/",
          "height": 301
        },
        "id": "2I4HM2JLwzeP",
        "outputId": "f8c04ad0-8e50-4c3d-cefd-de108fe5f5de"
      },
      "execution_count": null,
      "outputs": [
        {
          "output_type": "display_data",
          "data": {
            "text/plain": [
              "<Figure size 432x288 with 1 Axes>"
            ],
            "image/png": "[encoded data removed]"
          },
          "metadata": {
            "needs_background": "light"
          }
        },
        {
          "output_type": "stream",
          "name": "stdout",
          "text": [
            "6098\n",
            "8903\n"
          ]
        }
      ]
    }
  ],
  "metadata": {
    "colab": {
      "collapsed_sections": [
        "k5jp3FORgaEp",
        "SG5xC-6jUSUz",
        "pMQX2ejvXc9j",
        "d5WGPE3OMUka",
        "TSYTB525gpHp",
        "YhjCuytE6dQK"
      ],
      "provenance": []
    },
    "kernelspec": {
      "display_name": "Python 3",
      "name": "python3"
    },
    "language_info": {
      "name": "python"
    },
    "widgets": {
      "application/vnd.jupyter.widget-state+json": {
        "6498d7cc29124ce5b06e9510b17f8abb": {
          "model_module": "@jupyter-widgets/controls",
          "model_name": "HBoxModel",
          "model_module_version": "1.5.0",
          "state": {
            "_dom_classes": [],
            "_model_module": "@jupyter-widgets/controls",
            "_model_module_version": "1.5.0",
            "_model_name": "HBoxModel",
            "_view_count": null,
            "_view_module": "@jupyter-widgets/controls",
            "_view_module_version": "1.5.0",
            "_view_name": "HBoxView",
            "box_style": "",
            "children": [
              "IPY_MODEL_36d3d7d83af94b8cb561d3a048ffbc63",
              "IPY_MODEL_1b439723c6484b0ea7769368ac1320fa",
              "IPY_MODEL_2ad78682f3c8493c9610f657df4dcd65"
            ],
            "layout": "IPY_MODEL_2d480d06aaf1424a8ac12fefe1d4753f"
          }
        },
        "36d3d7d83af94b8cb561d3a048ffbc63": {
          "model_module": "@jupyter-widgets/controls",
          "model_name": "HTMLModel",
          "model_module_version": "1.5.0",
          "state": {
            "_dom_classes": [],
            "_model_module": "@jupyter-widgets/controls",
            "_model_module_version": "1.5.0",
            "_model_name": "HTMLModel",
            "_view_count": null,
            "_view_module": "@jupyter-widgets/controls",
            "_view_module_version": "1.5.0",
            "_view_name": "HTMLView",
            "description": "",
            "description_tooltip": null,
            "layout": "IPY_MODEL_38d57b9c21eb45ad8be35f8806294c72",
            "placeholder": "​",
            "style": "IPY_MODEL_f30ee1f6189445bb8f788855b8f48166",
            "value": ""
          }
        },
        "1b439723c6484b0ea7769368ac1320fa": {
          "model_module": "@jupyter-widgets/controls",
          "model_name": "FloatProgressModel",
          "model_module_version": "1.5.0",
          "state": {
            "_dom_classes": [],
            "_model_module": "@jupyter-widgets/controls",
            "_model_module_version": "1.5.0",
            "_model_name": "FloatProgressModel",
            "_view_count": null,
            "_view_module": "@jupyter-widgets/controls",
            "_view_module_version": "1.5.0",
            "_view_name": "ProgressView",
            "bar_style": "danger",
            "description": "",
            "description_tooltip": null,
            "layout": "IPY_MODEL_6617f7471f9347539c7664b80d821b70",
            "max": 15000,
            "min": 0,
            "orientation": "horizontal",
            "style": "IPY_MODEL_5ce681f6c41d489db2c669bc4eab7ff2",
            "value": 15000
          }
        },
        "2ad78682f3c8493c9610f657df4dcd65": {
          "model_module": "@jupyter-widgets/controls",
          "model_name": "HTMLModel",
          "model_module_version": "1.5.0",
          "state": {
            "_dom_classes": [],
            "_model_module": "@jupyter-widgets/controls",
            "_model_module_version": "1.5.0",
            "_model_name": "HTMLModel",
            "_view_count": null,
            "_view_module": "@jupyter-widgets/controls",
            "_view_module_version": "1.5.0",
            "_view_name": "HTMLView",
            "description": "",
            "description_tooltip": null,
            "layout": "IPY_MODEL_a13dbe07c76646e9a42b8c63a8c7b088",
            "placeholder": "​",
            "style": "IPY_MODEL_69bb4b2d70164a218e2894979795eef7",
            "value": " 15001/? [08:25&lt;00:00, 31.00it/s]"
          }
        },
        "2d480d06aaf1424a8ac12fefe1d4753f": {
          "model_module": "@jupyter-widgets/base",
          "model_name": "LayoutModel",
          "model_module_version": "1.2.0",
          "state": {
            "_model_module": "@jupyter-widgets/base",
            "_model_module_version": "1.2.0",
            "_model_name": "LayoutModel",
            "_view_count": null,
            "_view_module": "@jupyter-widgets/base",
            "_view_module_version": "1.2.0",
            "_view_name": "LayoutView",
            "align_content": null,
            "align_items": null,
            "align_self": null,
            "border": null,
            "bottom": null,
            "display": null,
            "flex": null,
            "flex_flow": null,
            "grid_area": null,
            "grid_auto_columns": null,
            "grid_auto_flow": null,
            "grid_auto_rows": null,
            "grid_column": null,
            "grid_gap": null,
            "grid_row": null,
            "grid_template_areas": null,
            "grid_template_columns": null,
            "grid_template_rows": null,
            "height": null,
            "justify_content": null,
            "justify_items": null,
            "left": null,
            "margin": null,
            "max_height": null,
            "max_width": null,
            "min_height": null,
            "min_width": null,
            "object_fit": null,
            "object_position": null,
            "order": null,
            "overflow": null,
            "overflow_x": null,
            "overflow_y": null,
            "padding": null,
            "right": null,
            "top": null,
            "visibility": null,
            "width": null
          }
        },
        "38d57b9c21eb45ad8be35f8806294c72": {
          "model_module": "@jupyter-widgets/base",
          "model_name": "LayoutModel",
          "model_module_version": "1.2.0",
          "state": {
            "_model_module": "@jupyter-widgets/base",
            "_model_module_version": "1.2.0",
            "_model_name": "LayoutModel",
            "_view_count": null,
            "_view_module": "@jupyter-widgets/base",
            "_view_module_version": "1.2.0",
            "_view_name": "LayoutView",
            "align_content": null,
            "align_items": null,
            "align_self": null,
            "border": null,
            "bottom": null,
            "display": null,
            "flex": null,
            "flex_flow": null,
            "grid_area": null,
            "grid_auto_columns": null,
            "grid_auto_flow": null,
            "grid_auto_rows": null,
            "grid_column": null,
            "grid_gap": null,
            "grid_row": null,
            "grid_template_areas": null,
            "grid_template_columns": null,
            "grid_template_rows": null,
            "height": null,
            "justify_content": null,
            "justify_items": null,
            "left": null,
            "margin": null,
            "max_height": null,
            "max_width": null,
            "min_height": null,
            "min_width": null,
            "object_fit": null,
            "object_position": null,
            "order": null,
            "overflow": null,
            "overflow_x": null,
            "overflow_y": null,
            "padding": null,
            "right": null,
            "top": null,
            "visibility": null,
            "width": null
          }
        },
        "f30ee1f6189445bb8f788855b8f48166": {
          "model_module": "@jupyter-widgets/controls",
          "model_name": "DescriptionStyleModel",
          "model_module_version": "1.5.0",
          "state": {
            "_model_module": "@jupyter-widgets/controls",
            "_model_module_version": "1.5.0",
            "_model_name": "DescriptionStyleModel",
            "_view_count": null,
            "_view_module": "@jupyter-widgets/base",
            "_view_module_version": "1.2.0",
            "_view_name": "StyleView",
            "description_width": ""
          }
        },
        "6617f7471f9347539c7664b80d821b70": {
          "model_module": "@jupyter-widgets/base",
          "model_name": "LayoutModel",
          "model_module_version": "1.2.0",
          "state": {
            "_model_module": "@jupyter-widgets/base",
            "_model_module_version": "1.2.0",
            "_model_name": "LayoutModel",
            "_view_count": null,
            "_view_module": "@jupyter-widgets/base",
            "_view_module_version": "1.2.0",
            "_view_name": "LayoutView",
            "align_content": null,
            "align_items": null,
            "align_self": null,
            "border": null,
            "bottom": null,
            "display": null,
            "flex": null,
            "flex_flow": null,
            "grid_area": null,
            "grid_auto_columns": null,
            "grid_auto_flow": null,
            "grid_auto_rows": null,
            "grid_column": null,
            "grid_gap": null,
            "grid_row": null,
            "grid_template_areas": null,
            "grid_template_columns": null,
            "grid_template_rows": null,
            "height": null,
            "justify_content": null,
            "justify_items": null,
            "left": null,
            "margin": null,
            "max_height": null,
            "max_width": null,
            "min_height": null,
            "min_width": null,
            "object_fit": null,
            "object_position": null,
            "order": null,
            "overflow": null,
            "overflow_x": null,
            "overflow_y": null,
            "padding": null,
            "right": null,
            "top": null,
            "visibility": null,
            "width": null
          }
        },
        "5ce681f6c41d489db2c669bc4eab7ff2": {
          "model_module": "@jupyter-widgets/controls",
          "model_name": "ProgressStyleModel",
          "model_module_version": "1.5.0",
          "state": {
            "_model_module": "@jupyter-widgets/controls",
            "_model_module_version": "1.5.0",
            "_model_name": "ProgressStyleModel",
            "_view_count": null,
            "_view_module": "@jupyter-widgets/base",
            "_view_module_version": "1.2.0",
            "_view_name": "StyleView",
            "bar_color": null,
            "description_width": ""
          }
        },
        "a13dbe07c76646e9a42b8c63a8c7b088": {
          "model_module": "@jupyter-widgets/base",
          "model_name": "LayoutModel",
          "model_module_version": "1.2.0",
          "state": {
            "_model_module": "@jupyter-widgets/base",
            "_model_module_version": "1.2.0",
            "_model_name": "LayoutModel",
            "_view_count": null,
            "_view_module": "@jupyter-widgets/base",
            "_view_module_version": "1.2.0",
            "_view_name": "LayoutView",
            "align_content": null,
            "align_items": null,
            "align_self": null,
            "border": null,
            "bottom": null,
            "display": null,
            "flex": null,
            "flex_flow": null,
            "grid_area": null,
            "grid_auto_columns": null,
            "grid_auto_flow": null,
            "grid_auto_rows": null,
            "grid_column": null,
            "grid_gap": null,
            "grid_row": null,
            "grid_template_areas": null,
            "grid_template_columns": null,
            "grid_template_rows": null,
            "height": null,
            "justify_content": null,
            "justify_items": null,
            "left": null,
            "margin": null,
            "max_height": null,
            "max_width": null,
            "min_height": null,
            "min_width": null,
            "object_fit": null,
            "object_position": null,
            "order": null,
            "overflow": null,
            "overflow_x": null,
            "overflow_y": null,
            "padding": null,
            "right": null,
            "top": null,
            "visibility": null,
            "width": null
          }
        },
        "69bb4b2d70164a218e2894979795eef7": {
          "model_module": "@jupyter-widgets/controls",
          "model_name": "DescriptionStyleModel",
          "model_module_version": "1.5.0",
          "state": {
            "_model_module": "@jupyter-widgets/controls",
            "_model_module_version": "1.5.0",
            "_model_name": "DescriptionStyleModel",
            "_view_count": null,
            "_view_module": "@jupyter-widgets/base",
            "_view_module_version": "1.2.0",
            "_view_name": "StyleView",
            "description_width": ""
          }
        },
        "1b7803cf259c4f898a0bbcb828bea0ef": {
          "model_module": "@jupyter-widgets/controls",
          "model_name": "HBoxModel",
          "model_module_version": "1.5.0",
          "state": {
            "_dom_classes": [],
            "_model_module": "@jupyter-widgets/controls",
            "_model_module_version": "1.5.0",
            "_model_name": "HBoxModel",
            "_view_count": null,
            "_view_module": "@jupyter-widgets/controls",
            "_view_module_version": "1.5.0",
            "_view_name": "HBoxView",
            "box_style": "",
            "children": [
              "IPY_MODEL_e84b99f4cfe9457480b9fb175a224961",
              "IPY_MODEL_637ac3f4c1c24643b15f18a5d5404923",
              "IPY_MODEL_e5e044d66b204ff2809fb48546a15eba"
            ],
            "layout": "IPY_MODEL_dc2521a3423b45aeba1d98f554632c4e"
          }
        },
        "e84b99f4cfe9457480b9fb175a224961": {
          "model_module": "@jupyter-widgets/controls",
          "model_name": "HTMLModel",
          "model_module_version": "1.5.0",
          "state": {
            "_dom_classes": [],
            "_model_module": "@jupyter-widgets/controls",
            "_model_module_version": "1.5.0",
            "_model_name": "HTMLModel",
            "_view_count": null,
            "_view_module": "@jupyter-widgets/controls",
            "_view_module_version": "1.5.0",
            "_view_name": "HTMLView",
            "description": "",
            "description_tooltip": null,
            "layout": "IPY_MODEL_e4357c97d4e54dbd94798b03c4f629d7",
            "placeholder": "​",
            "style": "IPY_MODEL_2f0555b30de94de4951e9652e1bd9531",
            "value": ""
          }
        },
        "637ac3f4c1c24643b15f18a5d5404923": {
          "model_module": "@jupyter-widgets/controls",
          "model_name": "FloatProgressModel",
          "model_module_version": "1.5.0",
          "state": {
            "_dom_classes": [],
            "_model_module": "@jupyter-widgets/controls",
            "_model_module_version": "1.5.0",
            "_model_name": "FloatProgressModel",
            "_view_count": null,
            "_view_module": "@jupyter-widgets/controls",
            "_view_module_version": "1.5.0",
            "_view_name": "ProgressView",
            "bar_style": "danger",
            "description": "",
            "description_tooltip": null,
            "layout": "IPY_MODEL_7c92fc548ac64a7fb50e760db1258c0f",
            "max": 15000,
            "min": 0,
            "orientation": "horizontal",
            "style": "IPY_MODEL_5f970a02f4a44a4a98fa8e74580213ad",
            "value": 15000
          }
        },
        "e5e044d66b204ff2809fb48546a15eba": {
          "model_module": "@jupyter-widgets/controls",
          "model_name": "HTMLModel",
          "model_module_version": "1.5.0",
          "state": {
            "_dom_classes": [],
            "_model_module": "@jupyter-widgets/controls",
            "_model_module_version": "1.5.0",
            "_model_name": "HTMLModel",
            "_view_count": null,
            "_view_module": "@jupyter-widgets/controls",
            "_view_module_version": "1.5.0",
            "_view_name": "HTMLView",
            "description": "",
            "description_tooltip": null,
            "layout": "IPY_MODEL_0d59698273ea4641b406bb763178bb14",
            "placeholder": "​",
            "style": "IPY_MODEL_99282e52f2f3471bb33711a57d7fc5a6",
            "value": " 15001/? [08:34&lt;00:00, 29.34it/s]"
          }
        },
        "dc2521a3423b45aeba1d98f554632c4e": {
          "model_module": "@jupyter-widgets/base",
          "model_name": "LayoutModel",
          "model_module_version": "1.2.0",
          "state": {
            "_model_module": "@jupyter-widgets/base",
            "_model_module_version": "1.2.0",
            "_model_name": "LayoutModel",
            "_view_count": null,
            "_view_module": "@jupyter-widgets/base",
            "_view_module_version": "1.2.0",
            "_view_name": "LayoutView",
            "align_content": null,
            "align_items": null,
            "align_self": null,
            "border": null,
            "bottom": null,
            "display": null,
            "flex": null,
            "flex_flow": null,
            "grid_area": null,
            "grid_auto_columns": null,
            "grid_auto_flow": null,
            "grid_auto_rows": null,
            "grid_column": null,
            "grid_gap": null,
            "grid_row": null,
            "grid_template_areas": null,
            "grid_template_columns": null,
            "grid_template_rows": null,
            "height": null,
            "justify_content": null,
            "justify_items": null,
            "left": null,
            "margin": null,
            "max_height": null,
            "max_width": null,
            "min_height": null,
            "min_width": null,
            "object_fit": null,
            "object_position": null,
            "order": null,
            "overflow": null,
            "overflow_x": null,
            "overflow_y": null,
            "padding": null,
            "right": null,
            "top": null,
            "visibility": null,
            "width": null
          }
        },
        "e4357c97d4e54dbd94798b03c4f629d7": {
          "model_module": "@jupyter-widgets/base",
          "model_name": "LayoutModel",
          "model_module_version": "1.2.0",
          "state": {
            "_model_module": "@jupyter-widgets/base",
            "_model_module_version": "1.2.0",
            "_model_name": "LayoutModel",
            "_view_count": null,
            "_view_module": "@jupyter-widgets/base",
            "_view_module_version": "1.2.0",
            "_view_name": "LayoutView",
            "align_content": null,
            "align_items": null,
            "align_self": null,
            "border": null,
            "bottom": null,
            "display": null,
            "flex": null,
            "flex_flow": null,
            "grid_area": null,
            "grid_auto_columns": null,
            "grid_auto_flow": null,
            "grid_auto_rows": null,
            "grid_column": null,
            "grid_gap": null,
            "grid_row": null,
            "grid_template_areas": null,
            "grid_template_columns": null,
            "grid_template_rows": null,
            "height": null,
            "justify_content": null,
            "justify_items": null,
            "left": null,
            "margin": null,
            "max_height": null,
            "max_width": null,
            "min_height": null,
            "min_width": null,
            "object_fit": null,
            "object_position": null,
            "order": null,
            "overflow": null,
            "overflow_x": null,
            "overflow_y": null,
            "padding": null,
            "right": null,
            "top": null,
            "visibility": null,
            "width": null
          }
        },
        "2f0555b30de94de4951e9652e1bd9531": {
          "model_module": "@jupyter-widgets/controls",
          "model_name": "DescriptionStyleModel",
          "model_module_version": "1.5.0",
          "state": {
            "_model_module": "@jupyter-widgets/controls",
            "_model_module_version": "1.5.0",
            "_model_name": "DescriptionStyleModel",
            "_view_count": null,
            "_view_module": "@jupyter-widgets/base",
            "_view_module_version": "1.2.0",
            "_view_name": "StyleView",
            "description_width": ""
          }
        },
        "7c92fc548ac64a7fb50e760db1258c0f": {
          "model_module": "@jupyter-widgets/base",
          "model_name": "LayoutModel",
          "model_module_version": "1.2.0",
          "state": {
            "_model_module": "@jupyter-widgets/base",
            "_model_module_version": "1.2.0",
            "_model_name": "LayoutModel",
            "_view_count": null,
            "_view_module": "@jupyter-widgets/base",
            "_view_module_version": "1.2.0",
            "_view_name": "LayoutView",
            "align_content": null,
            "align_items": null,
            "align_self": null,
            "border": null,
            "bottom": null,
            "display": null,
            "flex": null,
            "flex_flow": null,
            "grid_area": null,
            "grid_auto_columns": null,
            "grid_auto_flow": null,
            "grid_auto_rows": null,
            "grid_column": null,
            "grid_gap": null,
            "grid_row": null,
            "grid_template_areas": null,
            "grid_template_columns": null,
            "grid_template_rows": null,
            "height": null,
            "justify_content": null,
            "justify_items": null,
            "left": null,
            "margin": null,
            "max_height": null,
            "max_width": null,
            "min_height": null,
            "min_width": null,
            "object_fit": null,
            "object_position": null,
            "order": null,
            "overflow": null,
            "overflow_x": null,
            "overflow_y": null,
            "padding": null,
            "right": null,
            "top": null,
            "visibility": null,
            "width": null
          }
        },
        "5f970a02f4a44a4a98fa8e74580213ad": {
          "model_module": "@jupyter-widgets/controls",
          "model_name": "ProgressStyleModel",
          "model_module_version": "1.5.0",
          "state": {
            "_model_module": "@jupyter-widgets/controls",
            "_model_module_version": "1.5.0",
            "_model_name": "ProgressStyleModel",
            "_view_count": null,
            "_view_module": "@jupyter-widgets/base",
            "_view_module_version": "1.2.0",
            "_view_name": "StyleView",
            "bar_color": null,
            "description_width": ""
          }
        },
        "0d59698273ea4641b406bb763178bb14": {
          "model_module": "@jupyter-widgets/base",
          "model_name": "LayoutModel",
          "model_module_version": "1.2.0",
          "state": {
            "_model_module": "@jupyter-widgets/base",
            "_model_module_version": "1.2.0",
            "_model_name": "LayoutModel",
            "_view_count": null,
            "_view_module": "@jupyter-widgets/base",
            "_view_module_version": "1.2.0",
            "_view_name": "LayoutView",
            "align_content": null,
            "align_items": null,
            "align_self": null,
            "border": null,
            "bottom": null,
            "display": null,
            "flex": null,
            "flex_flow": null,
            "grid_area": null,
            "grid_auto_columns": null,
            "grid_auto_flow": null,
            "grid_auto_rows": null,
            "grid_column": null,
            "grid_gap": null,
            "grid_row": null,
            "grid_template_areas": null,
            "grid_template_columns": null,
            "grid_template_rows": null,
            "height": null,
            "justify_content": null,
            "justify_items": null,
            "left": null,
            "margin": null,
            "max_height": null,
            "max_width": null,
            "min_height": null,
            "min_width": null,
            "object_fit": null,
            "object_position": null,
            "order": null,
            "overflow": null,
            "overflow_x": null,
            "overflow_y": null,
            "padding": null,
            "right": null,
            "top": null,
            "visibility": null,
            "width": null
          }
        },
        "99282e52f2f3471bb33711a57d7fc5a6": {
          "model_module": "@jupyter-widgets/controls",
          "model_name": "DescriptionStyleModel",
          "model_module_version": "1.5.0",
          "state": {
            "_model_module": "@jupyter-widgets/controls",
            "_model_module_version": "1.5.0",
            "_model_name": "DescriptionStyleModel",
            "_view_count": null,
            "_view_module": "@jupyter-widgets/base",
            "_view_module_version": "1.2.0",
            "_view_name": "StyleView",
            "description_width": ""
          }
        },
        "b7b94f79faba4d0282cbaf4db291b149": {
          "model_module": "@jupyter-widgets/controls",
          "model_name": "HBoxModel",
          "model_module_version": "1.5.0",
          "state": {
            "_dom_classes": [],
            "_model_module": "@jupyter-widgets/controls",
            "_model_module_version": "1.5.0",
            "_model_name": "HBoxModel",
            "_view_count": null,
            "_view_module": "@jupyter-widgets/controls",
            "_view_module_version": "1.5.0",
            "_view_name": "HBoxView",
            "box_style": "",
            "children": [
              "IPY_MODEL_8f27efd1c687424e96863f1afc61d57c",
              "IPY_MODEL_d7f985660c614eda8a125a27524a0f86",
              "IPY_MODEL_567756efb4cd464bb4fb5efd8718d8c8"
            ],
            "layout": "IPY_MODEL_1b80a825890d4669b1c4e181e3b7a04d"
          }
        },
        "8f27efd1c687424e96863f1afc61d57c": {
          "model_module": "@jupyter-widgets/controls",
          "model_name": "HTMLModel",
          "model_module_version": "1.5.0",
          "state": {
            "_dom_classes": [],
            "_model_module": "@jupyter-widgets/controls",
            "_model_module_version": "1.5.0",
            "_model_name": "HTMLModel",
            "_view_count": null,
            "_view_module": "@jupyter-widgets/controls",
            "_view_module_version": "1.5.0",
            "_view_name": "HTMLView",
            "description": "",
            "description_tooltip": null,
            "layout": "IPY_MODEL_e184fcef83cc431a9119363858d094d5",
            "placeholder": "​",
            "style": "IPY_MODEL_6491878290aa406f8d4dd8b78ffc0fbc",
            "value": ""
          }
        },
        "d7f985660c614eda8a125a27524a0f86": {
          "model_module": "@jupyter-widgets/controls",
          "model_name": "FloatProgressModel",
          "model_module_version": "1.5.0",
          "state": {
            "_dom_classes": [],
            "_model_module": "@jupyter-widgets/controls",
            "_model_module_version": "1.5.0",
            "_model_name": "FloatProgressModel",
            "_view_count": null,
            "_view_module": "@jupyter-widgets/controls",
            "_view_module_version": "1.5.0",
            "_view_name": "ProgressView",
            "bar_style": "danger",
            "description": "",
            "description_tooltip": null,
            "layout": "IPY_MODEL_7bb8f665845c478d8604cdee1f58fca3",
            "max": 15000,
            "min": 0,
            "orientation": "horizontal",
            "style": "IPY_MODEL_eb12ac979c7341baa7102355f252161c",
            "value": 15000
          }
        },
        "567756efb4cd464bb4fb5efd8718d8c8": {
          "model_module": "@jupyter-widgets/controls",
          "model_name": "HTMLModel",
          "model_module_version": "1.5.0",
          "state": {
            "_dom_classes": [],
            "_model_module": "@jupyter-widgets/controls",
            "_model_module_version": "1.5.0",
            "_model_name": "HTMLModel",
            "_view_count": null,
            "_view_module": "@jupyter-widgets/controls",
            "_view_module_version": "1.5.0",
            "_view_name": "HTMLView",
            "description": "",
            "description_tooltip": null,
            "layout": "IPY_MODEL_a42b2df22fb248d4a9b2a8662298c436",
            "placeholder": "​",
            "style": "IPY_MODEL_55d9d1ee39b147afbc657240de1ff718",
            "value": " 15001/? [08:36&lt;00:00, 27.34it/s]"
          }
        },
        "1b80a825890d4669b1c4e181e3b7a04d": {
          "model_module": "@jupyter-widgets/base",
          "model_name": "LayoutModel",
          "model_module_version": "1.2.0",
          "state": {
            "_model_module": "@jupyter-widgets/base",
            "_model_module_version": "1.2.0",
            "_model_name": "LayoutModel",
            "_view_count": null,
            "_view_module": "@jupyter-widgets/base",
            "_view_module_version": "1.2.0",
            "_view_name": "LayoutView",
            "align_content": null,
            "align_items": null,
            "align_self": null,
            "border": null,
            "bottom": null,
            "display": null,
            "flex": null,
            "flex_flow": null,
            "grid_area": null,
            "grid_auto_columns": null,
            "grid_auto_flow": null,
            "grid_auto_rows": null,
            "grid_column": null,
            "grid_gap": null,
            "grid_row": null,
            "grid_template_areas": null,
            "grid_template_columns": null,
            "grid_template_rows": null,
            "height": null,
            "justify_content": null,
            "justify_items": null,
            "left": null,
            "margin": null,
            "max_height": null,
            "max_width": null,
            "min_height": null,
            "min_width": null,
            "object_fit": null,
            "object_position": null,
            "order": null,
            "overflow": null,
            "overflow_x": null,
            "overflow_y": null,
            "padding": null,
            "right": null,
            "top": null,
            "visibility": null,
            "width": null
          }
        },
        "e184fcef83cc431a9119363858d094d5": {
          "model_module": "@jupyter-widgets/base",
          "model_name": "LayoutModel",
          "model_module_version": "1.2.0",
          "state": {
            "_model_module": "@jupyter-widgets/base",
            "_model_module_version": "1.2.0",
            "_model_name": "LayoutModel",
            "_view_count": null,
            "_view_module": "@jupyter-widgets/base",
            "_view_module_version": "1.2.0",
            "_view_name": "LayoutView",
            "align_content": null,
            "align_items": null,
            "align_self": null,
            "border": null,
            "bottom": null,
            "display": null,
            "flex": null,
            "flex_flow": null,
            "grid_area": null,
            "grid_auto_columns": null,
            "grid_auto_flow": null,
            "grid_auto_rows": null,
            "grid_column": null,
            "grid_gap": null,
            "grid_row": null,
            "grid_template_areas": null,
            "grid_template_columns": null,
            "grid_template_rows": null,
            "height": null,
            "justify_content": null,
            "justify_items": null,
            "left": null,
            "margin": null,
            "max_height": null,
            "max_width": null,
            "min_height": null,
            "min_width": null,
            "object_fit": null,
            "object_position": null,
            "order": null,
            "overflow": null,
            "overflow_x": null,
            "overflow_y": null,
            "padding": null,
            "right": null,
            "top": null,
            "visibility": null,
            "width": null
          }
        },
        "6491878290aa406f8d4dd8b78ffc0fbc": {
          "model_module": "@jupyter-widgets/controls",
          "model_name": "DescriptionStyleModel",
          "model_module_version": "1.5.0",
          "state": {
            "_model_module": "@jupyter-widgets/controls",
            "_model_module_version": "1.5.0",
            "_model_name": "DescriptionStyleModel",
            "_view_count": null,
            "_view_module": "@jupyter-widgets/base",
            "_view_module_version": "1.2.0",
            "_view_name": "StyleView",
            "description_width": ""
          }
        },
        "7bb8f665845c478d8604cdee1f58fca3": {
          "model_module": "@jupyter-widgets/base",
          "model_name": "LayoutModel",
          "model_module_version": "1.2.0",
          "state": {
            "_model_module": "@jupyter-widgets/base",
            "_model_module_version": "1.2.0",
            "_model_name": "LayoutModel",
            "_view_count": null,
            "_view_module": "@jupyter-widgets/base",
            "_view_module_version": "1.2.0",
            "_view_name": "LayoutView",
            "align_content": null,
            "align_items": null,
            "align_self": null,
            "border": null,
            "bottom": null,
            "display": null,
            "flex": null,
            "flex_flow": null,
            "grid_area": null,
            "grid_auto_columns": null,
            "grid_auto_flow": null,
            "grid_auto_rows": null,
            "grid_column": null,
            "grid_gap": null,
            "grid_row": null,
            "grid_template_areas": null,
            "grid_template_columns": null,
            "grid_template_rows": null,
            "height": null,
            "justify_content": null,
            "justify_items": null,
            "left": null,
            "margin": null,
            "max_height": null,
            "max_width": null,
            "min_height": null,
            "min_width": null,
            "object_fit": null,
            "object_position": null,
            "order": null,
            "overflow": null,
            "overflow_x": null,
            "overflow_y": null,
            "padding": null,
            "right": null,
            "top": null,
            "visibility": null,
            "width": null
          }
        },
        "eb12ac979c7341baa7102355f252161c": {
          "model_module": "@jupyter-widgets/controls",
          "model_name": "ProgressStyleModel",
          "model_module_version": "1.5.0",
          "state": {
            "_model_module": "@jupyter-widgets/controls",
            "_model_module_version": "1.5.0",
            "_model_name": "ProgressStyleModel",
            "_view_count": null,
            "_view_module": "@jupyter-widgets/base",
            "_view_module_version": "1.2.0",
            "_view_name": "StyleView",
            "bar_color": null,
            "description_width": ""
          }
        },
        "a42b2df22fb248d4a9b2a8662298c436": {
          "model_module": "@jupyter-widgets/base",
          "model_name": "LayoutModel",
          "model_module_version": "1.2.0",
          "state": {
            "_model_module": "@jupyter-widgets/base",
            "_model_module_version": "1.2.0",
            "_model_name": "LayoutModel",
            "_view_count": null,
            "_view_module": "@jupyter-widgets/base",
            "_view_module_version": "1.2.0",
            "_view_name": "LayoutView",
            "align_content": null,
            "align_items": null,
            "align_self": null,
            "border": null,
            "bottom": null,
            "display": null,
            "flex": null,
            "flex_flow": null,
            "grid_area": null,
            "grid_auto_columns": null,
            "grid_auto_flow": null,
            "grid_auto_rows": null,
            "grid_column": null,
            "grid_gap": null,
            "grid_row": null,
            "grid_template_areas": null,
            "grid_template_columns": null,
            "grid_template_rows": null,
            "height": null,
            "justify_content": null,
            "justify_items": null,
            "left": null,
            "margin": null,
            "max_height": null,
            "max_width": null,
            "min_height": null,
            "min_width": null,
            "object_fit": null,
            "object_position": null,
            "order": null,
            "overflow": null,
            "overflow_x": null,
            "overflow_y": null,
            "padding": null,
            "right": null,
            "top": null,
            "visibility": null,
            "width": null
          }
        },
        "55d9d1ee39b147afbc657240de1ff718": {
          "model_module": "@jupyter-widgets/controls",
          "model_name": "DescriptionStyleModel",
          "model_module_version": "1.5.0",
          "state": {
            "_model_module": "@jupyter-widgets/controls",
            "_model_module_version": "1.5.0",
            "_model_name": "DescriptionStyleModel",
            "_view_count": null,
            "_view_module": "@jupyter-widgets/base",
            "_view_module_version": "1.2.0",
            "_view_name": "StyleView",
            "description_width": ""
          }
        },
        "80f341aaf5c94300b74c9da31a54661c": {
          "model_module": "@jupyter-widgets/controls",
          "model_name": "HBoxModel",
          "model_module_version": "1.5.0",
          "state": {
            "_dom_classes": [],
            "_model_module": "@jupyter-widgets/controls",
            "_model_module_version": "1.5.0",
            "_model_name": "HBoxModel",
            "_view_count": null,
            "_view_module": "@jupyter-widgets/controls",
            "_view_module_version": "1.5.0",
            "_view_name": "HBoxView",
            "box_style": "",
            "children": [
              "IPY_MODEL_09ae86808be14c9189aaadf4630ac4b8",
              "IPY_MODEL_02267afaa0b845c09e0af727e9d5fc30",
              "IPY_MODEL_216636d8fe2f4386bde5a78842474e59"
            ],
            "layout": "IPY_MODEL_765b3e92ff9048b69b3c24252aada2f1"
          }
        },
        "09ae86808be14c9189aaadf4630ac4b8": {
          "model_module": "@jupyter-widgets/controls",
          "model_name": "HTMLModel",
          "model_module_version": "1.5.0",
          "state": {
            "_dom_classes": [],
            "_model_module": "@jupyter-widgets/controls",
            "_model_module_version": "1.5.0",
            "_model_name": "HTMLModel",
            "_view_count": null,
            "_view_module": "@jupyter-widgets/controls",
            "_view_module_version": "1.5.0",
            "_view_name": "HTMLView",
            "description": "",
            "description_tooltip": null,
            "layout": "IPY_MODEL_c7d73c81a8f4477cb7cb82f98df8c4ee",
            "placeholder": "​",
            "style": "IPY_MODEL_4818fde84e1048bba37eaeca6ae44d20",
            "value": ""
          }
        },
        "02267afaa0b845c09e0af727e9d5fc30": {
          "model_module": "@jupyter-widgets/controls",
          "model_name": "FloatProgressModel",
          "model_module_version": "1.5.0",
          "state": {
            "_dom_classes": [],
            "_model_module": "@jupyter-widgets/controls",
            "_model_module_version": "1.5.0",
            "_model_name": "FloatProgressModel",
            "_view_count": null,
            "_view_module": "@jupyter-widgets/controls",
            "_view_module_version": "1.5.0",
            "_view_name": "ProgressView",
            "bar_style": "danger",
            "description": "",
            "description_tooltip": null,
            "layout": "IPY_MODEL_0afd8396ba2640c18b5229fc481c68b3",
            "max": 15000,
            "min": 0,
            "orientation": "horizontal",
            "style": "IPY_MODEL_6d641cbbb86248d7b42b52b64b453f21",
            "value": 15000
          }
        },
        "216636d8fe2f4386bde5a78842474e59": {
          "model_module": "@jupyter-widgets/controls",
          "model_name": "HTMLModel",
          "model_module_version": "1.5.0",
          "state": {
            "_dom_classes": [],
            "_model_module": "@jupyter-widgets/controls",
            "_model_module_version": "1.5.0",
            "_model_name": "HTMLModel",
            "_view_count": null,
            "_view_module": "@jupyter-widgets/controls",
            "_view_module_version": "1.5.0",
            "_view_name": "HTMLView",
            "description": "",
            "description_tooltip": null,
            "layout": "IPY_MODEL_276ed4843423483baf82ae0e9a353fa8",
            "placeholder": "​",
            "style": "IPY_MODEL_f939c8ca5cd443ea9dcfca5f4732627f",
            "value": " 15001/? [08:11&lt;00:00, 33.81it/s]"
          }
        },
        "765b3e92ff9048b69b3c24252aada2f1": {
          "model_module": "@jupyter-widgets/base",
          "model_name": "LayoutModel",
          "model_module_version": "1.2.0",
          "state": {
            "_model_module": "@jupyter-widgets/base",
            "_model_module_version": "1.2.0",
            "_model_name": "LayoutModel",
            "_view_count": null,
            "_view_module": "@jupyter-widgets/base",
            "_view_module_version": "1.2.0",
            "_view_name": "LayoutView",
            "align_content": null,
            "align_items": null,
            "align_self": null,
            "border": null,
            "bottom": null,
            "display": null,
            "flex": null,
            "flex_flow": null,
            "grid_area": null,
            "grid_auto_columns": null,
            "grid_auto_flow": null,
            "grid_auto_rows": null,
            "grid_column": null,
            "grid_gap": null,
            "grid_row": null,
            "grid_template_areas": null,
            "grid_template_columns": null,
            "grid_template_rows": null,
            "height": null,
            "justify_content": null,
            "justify_items": null,
            "left": null,
            "margin": null,
            "max_height": null,
            "max_width": null,
            "min_height": null,
            "min_width": null,
            "object_fit": null,
            "object_position": null,
            "order": null,
            "overflow": null,
            "overflow_x": null,
            "overflow_y": null,
            "padding": null,
            "right": null,
            "top": null,
            "visibility": null,
            "width": null
          }
        },
        "c7d73c81a8f4477cb7cb82f98df8c4ee": {
          "model_module": "@jupyter-widgets/base",
          "model_name": "LayoutModel",
          "model_module_version": "1.2.0",
          "state": {
            "_model_module": "@jupyter-widgets/base",
            "_model_module_version": "1.2.0",
            "_model_name": "LayoutModel",
            "_view_count": null,
            "_view_module": "@jupyter-widgets/base",
            "_view_module_version": "1.2.0",
            "_view_name": "LayoutView",
            "align_content": null,
            "align_items": null,
            "align_self": null,
            "border": null,
            "bottom": null,
            "display": null,
            "flex": null,
            "flex_flow": null,
            "grid_area": null,
            "grid_auto_columns": null,
            "grid_auto_flow": null,
            "grid_auto_rows": null,
            "grid_column": null,
            "grid_gap": null,
            "grid_row": null,
            "grid_template_areas": null,
            "grid_template_columns": null,
            "grid_template_rows": null,
            "height": null,
            "justify_content": null,
            "justify_items": null,
            "left": null,
            "margin": null,
            "max_height": null,
            "max_width": null,
            "min_height": null,
            "min_width": null,
            "object_fit": null,
            "object_position": null,
            "order": null,
            "overflow": null,
            "overflow_x": null,
            "overflow_y": null,
            "padding": null,
            "right": null,
            "top": null,
            "visibility": null,
            "width": null
          }
        },
        "4818fde84e1048bba37eaeca6ae44d20": {
          "model_module": "@jupyter-widgets/controls",
          "model_name": "DescriptionStyleModel",
          "model_module_version": "1.5.0",
          "state": {
            "_model_module": "@jupyter-widgets/controls",
            "_model_module_version": "1.5.0",
            "_model_name": "DescriptionStyleModel",
            "_view_count": null,
            "_view_module": "@jupyter-widgets/base",
            "_view_module_version": "1.2.0",
            "_view_name": "StyleView",
            "description_width": ""
          }
        },
        "0afd8396ba2640c18b5229fc481c68b3": {
          "model_module": "@jupyter-widgets/base",
          "model_name": "LayoutModel",
          "model_module_version": "1.2.0",
          "state": {
            "_model_module": "@jupyter-widgets/base",
            "_model_module_version": "1.2.0",
            "_model_name": "LayoutModel",
            "_view_count": null,
            "_view_module": "@jupyter-widgets/base",
            "_view_module_version": "1.2.0",
            "_view_name": "LayoutView",
            "align_content": null,
            "align_items": null,
            "align_self": null,
            "border": null,
            "bottom": null,
            "display": null,
            "flex": null,
            "flex_flow": null,
            "grid_area": null,
            "grid_auto_columns": null,
            "grid_auto_flow": null,
            "grid_auto_rows": null,
            "grid_column": null,
            "grid_gap": null,
            "grid_row": null,
            "grid_template_areas": null,
            "grid_template_columns": null,
            "grid_template_rows": null,
            "height": null,
            "justify_content": null,
            "justify_items": null,
            "left": null,
            "margin": null,
            "max_height": null,
            "max_width": null,
            "min_height": null,
            "min_width": null,
            "object_fit": null,
            "object_position": null,
            "order": null,
            "overflow": null,
            "overflow_x": null,
            "overflow_y": null,
            "padding": null,
            "right": null,
            "top": null,
            "visibility": null,
            "width": null
          }
        },
        "6d641cbbb86248d7b42b52b64b453f21": {
          "model_module": "@jupyter-widgets/controls",
          "model_name": "ProgressStyleModel",
          "model_module_version": "1.5.0",
          "state": {
            "_model_module": "@jupyter-widgets/controls",
            "_model_module_version": "1.5.0",
            "_model_name": "ProgressStyleModel",
            "_view_count": null,
            "_view_module": "@jupyter-widgets/base",
            "_view_module_version": "1.2.0",
            "_view_name": "StyleView",
            "bar_color": null,
            "description_width": ""
          }
        },
        "276ed4843423483baf82ae0e9a353fa8": {
          "model_module": "@jupyter-widgets/base",
          "model_name": "LayoutModel",
          "model_module_version": "1.2.0",
          "state": {
            "_model_module": "@jupyter-widgets/base",
            "_model_module_version": "1.2.0",
            "_model_name": "LayoutModel",
            "_view_count": null,
            "_view_module": "@jupyter-widgets/base",
            "_view_module_version": "1.2.0",
            "_view_name": "LayoutView",
            "align_content": null,
            "align_items": null,
            "align_self": null,
            "border": null,
            "bottom": null,
            "display": null,
            "flex": null,
            "flex_flow": null,
            "grid_area": null,
            "grid_auto_columns": null,
            "grid_auto_flow": null,
            "grid_auto_rows": null,
            "grid_column": null,
            "grid_gap": null,
            "grid_row": null,
            "grid_template_areas": null,
            "grid_template_columns": null,
            "grid_template_rows": null,
            "height": null,
            "justify_content": null,
            "justify_items": null,
            "left": null,
            "margin": null,
            "max_height": null,
            "max_width": null,
            "min_height": null,
            "min_width": null,
            "object_fit": null,
            "object_position": null,
            "order": null,
            "overflow": null,
            "overflow_x": null,
            "overflow_y": null,
            "padding": null,
            "right": null,
            "top": null,
            "visibility": null,
            "width": null
          }
        },
        "f939c8ca5cd443ea9dcfca5f4732627f": {
          "model_module": "@jupyter-widgets/controls",
          "model_name": "DescriptionStyleModel",
          "model_module_version": "1.5.0",
          "state": {
            "_model_module": "@jupyter-widgets/controls",
            "_model_module_version": "1.5.0",
            "_model_name": "DescriptionStyleModel",
            "_view_count": null,
            "_view_module": "@jupyter-widgets/base",
            "_view_module_version": "1.2.0",
            "_view_name": "StyleView",
            "description_width": ""
          }
        },
        "f09023d3150044fc9318b17fbb11d8b3": {
          "model_module": "@jupyter-widgets/controls",
          "model_name": "HBoxModel",
          "model_module_version": "1.5.0",
          "state": {
            "_dom_classes": [],
            "_model_module": "@jupyter-widgets/controls",
            "_model_module_version": "1.5.0",
            "_model_name": "HBoxModel",
            "_view_count": null,
            "_view_module": "@jupyter-widgets/controls",
            "_view_module_version": "1.5.0",
            "_view_name": "HBoxView",
            "box_style": "",
            "children": [
              "IPY_MODEL_98e95fb4f1584f079b8a618da39485a3",
              "IPY_MODEL_e46ac9310fc9450b8f33c58855502acd",
              "IPY_MODEL_98fa445bd53e490186626ed97bfdbb1f"
            ],
            "layout": "IPY_MODEL_0f2418ab6b454cab801bae1aaa95fdff"
          }
        },
        "98e95fb4f1584f079b8a618da39485a3": {
          "model_module": "@jupyter-widgets/controls",
          "model_name": "HTMLModel",
          "model_module_version": "1.5.0",
          "state": {
            "_dom_classes": [],
            "_model_module": "@jupyter-widgets/controls",
            "_model_module_version": "1.5.0",
            "_model_name": "HTMLModel",
            "_view_count": null,
            "_view_module": "@jupyter-widgets/controls",
            "_view_module_version": "1.5.0",
            "_view_name": "HTMLView",
            "description": "",
            "description_tooltip": null,
            "layout": "IPY_MODEL_bd1f4d9b19d64aa5a123f6447aa20e81",
            "placeholder": "​",
            "style": "IPY_MODEL_c6b7ca72c5ff4b5b81971cfd7b397ee0",
            "value": ""
          }
        },
        "e46ac9310fc9450b8f33c58855502acd": {
          "model_module": "@jupyter-widgets/controls",
          "model_name": "FloatProgressModel",
          "model_module_version": "1.5.0",
          "state": {
            "_dom_classes": [],
            "_model_module": "@jupyter-widgets/controls",
            "_model_module_version": "1.5.0",
            "_model_name": "FloatProgressModel",
            "_view_count": null,
            "_view_module": "@jupyter-widgets/controls",
            "_view_module_version": "1.5.0",
            "_view_name": "ProgressView",
            "bar_style": "danger",
            "description": "",
            "description_tooltip": null,
            "layout": "IPY_MODEL_ada6e0ffcb1c486e8950ae6bbef69fc6",
            "max": 15000,
            "min": 0,
            "orientation": "horizontal",
            "style": "IPY_MODEL_a4f297ae1b5743389c32c07a05bfc9b8",
            "value": 15000
          }
        },
        "98fa445bd53e490186626ed97bfdbb1f": {
          "model_module": "@jupyter-widgets/controls",
          "model_name": "HTMLModel",
          "model_module_version": "1.5.0",
          "state": {
            "_dom_classes": [],
            "_model_module": "@jupyter-widgets/controls",
            "_model_module_version": "1.5.0",
            "_model_name": "HTMLModel",
            "_view_count": null,
            "_view_module": "@jupyter-widgets/controls",
            "_view_module_version": "1.5.0",
            "_view_name": "HTMLView",
            "description": "",
            "description_tooltip": null,
            "layout": "IPY_MODEL_c26e02f3b15d46ca9f28558984d84f4c",
            "placeholder": "​",
            "style": "IPY_MODEL_0c84ac1d4faf4b3c8bc22a6f7d8a8420",
            "value": " 15001/? [08:48&lt;00:00, 29.48it/s]"
          }
        },
        "0f2418ab6b454cab801bae1aaa95fdff": {
          "model_module": "@jupyter-widgets/base",
          "model_name": "LayoutModel",
          "model_module_version": "1.2.0",
          "state": {
            "_model_module": "@jupyter-widgets/base",
            "_model_module_version": "1.2.0",
            "_model_name": "LayoutModel",
            "_view_count": null,
            "_view_module": "@jupyter-widgets/base",
            "_view_module_version": "1.2.0",
            "_view_name": "LayoutView",
            "align_content": null,
            "align_items": null,
            "align_self": null,
            "border": null,
            "bottom": null,
            "display": null,
            "flex": null,
            "flex_flow": null,
            "grid_area": null,
            "grid_auto_columns": null,
            "grid_auto_flow": null,
            "grid_auto_rows": null,
            "grid_column": null,
            "grid_gap": null,
            "grid_row": null,
            "grid_template_areas": null,
            "grid_template_columns": null,
            "grid_template_rows": null,
            "height": null,
            "justify_content": null,
            "justify_items": null,
            "left": null,
            "margin": null,
            "max_height": null,
            "max_width": null,
            "min_height": null,
            "min_width": null,
            "object_fit": null,
            "object_position": null,
            "order": null,
            "overflow": null,
            "overflow_x": null,
            "overflow_y": null,
            "padding": null,
            "right": null,
            "top": null,
            "visibility": null,
            "width": null
          }
        },
        "bd1f4d9b19d64aa5a123f6447aa20e81": {
          "model_module": "@jupyter-widgets/base",
          "model_name": "LayoutModel",
          "model_module_version": "1.2.0",
          "state": {
            "_model_module": "@jupyter-widgets/base",
            "_model_module_version": "1.2.0",
            "_model_name": "LayoutModel",
            "_view_count": null,
            "_view_module": "@jupyter-widgets/base",
            "_view_module_version": "1.2.0",
            "_view_name": "LayoutView",
            "align_content": null,
            "align_items": null,
            "align_self": null,
            "border": null,
            "bottom": null,
            "display": null,
            "flex": null,
            "flex_flow": null,
            "grid_area": null,
            "grid_auto_columns": null,
            "grid_auto_flow": null,
            "grid_auto_rows": null,
            "grid_column": null,
            "grid_gap": null,
            "grid_row": null,
            "grid_template_areas": null,
            "grid_template_columns": null,
            "grid_template_rows": null,
            "height": null,
            "justify_content": null,
            "justify_items": null,
            "left": null,
            "margin": null,
            "max_height": null,
            "max_width": null,
            "min_height": null,
            "min_width": null,
            "object_fit": null,
            "object_position": null,
            "order": null,
            "overflow": null,
            "overflow_x": null,
            "overflow_y": null,
            "padding": null,
            "right": null,
            "top": null,
            "visibility": null,
            "width": null
          }
        },
        "c6b7ca72c5ff4b5b81971cfd7b397ee0": {
          "model_module": "@jupyter-widgets/controls",
          "model_name": "DescriptionStyleModel",
          "model_module_version": "1.5.0",
          "state": {
            "_model_module": "@jupyter-widgets/controls",
            "_model_module_version": "1.5.0",
            "_model_name": "DescriptionStyleModel",
            "_view_count": null,
            "_view_module": "@jupyter-widgets/base",
            "_view_module_version": "1.2.0",
            "_view_name": "StyleView",
            "description_width": ""
          }
        },
        "ada6e0ffcb1c486e8950ae6bbef69fc6": {
          "model_module": "@jupyter-widgets/base",
          "model_name": "LayoutModel",
          "model_module_version": "1.2.0",
          "state": {
            "_model_module": "@jupyter-widgets/base",
            "_model_module_version": "1.2.0",
            "_model_name": "LayoutModel",
            "_view_count": null,
            "_view_module": "@jupyter-widgets/base",
            "_view_module_version": "1.2.0",
            "_view_name": "LayoutView",
            "align_content": null,
            "align_items": null,
            "align_self": null,
            "border": null,
            "bottom": null,
            "display": null,
            "flex": null,
            "flex_flow": null,
            "grid_area": null,
            "grid_auto_columns": null,
            "grid_auto_flow": null,
            "grid_auto_rows": null,
            "grid_column": null,
            "grid_gap": null,
            "grid_row": null,
            "grid_template_areas": null,
            "grid_template_columns": null,
            "grid_template_rows": null,
            "height": null,
            "justify_content": null,
            "justify_items": null,
            "left": null,
            "margin": null,
            "max_height": null,
            "max_width": null,
            "min_height": null,
            "min_width": null,
            "object_fit": null,
            "object_position": null,
            "order": null,
            "overflow": null,
            "overflow_x": null,
            "overflow_y": null,
            "padding": null,
            "right": null,
            "top": null,
            "visibility": null,
            "width": null
          }
        },
        "a4f297ae1b5743389c32c07a05bfc9b8": {
          "model_module": "@jupyter-widgets/controls",
          "model_name": "ProgressStyleModel",
          "model_module_version": "1.5.0",
          "state": {
            "_model_module": "@jupyter-widgets/controls",
            "_model_module_version": "1.5.0",
            "_model_name": "ProgressStyleModel",
            "_view_count": null,
            "_view_module": "@jupyter-widgets/base",
            "_view_module_version": "1.2.0",
            "_view_name": "StyleView",
            "bar_color": null,
            "description_width": ""
          }
        },
        "c26e02f3b15d46ca9f28558984d84f4c": {
          "model_module": "@jupyter-widgets/base",
          "model_name": "LayoutModel",
          "model_module_version": "1.2.0",
          "state": {
            "_model_module": "@jupyter-widgets/base",
            "_model_module_version": "1.2.0",
            "_model_name": "LayoutModel",
            "_view_count": null,
            "_view_module": "@jupyter-widgets/base",
            "_view_module_version": "1.2.0",
            "_view_name": "LayoutView",
            "align_content": null,
            "align_items": null,
            "align_self": null,
            "border": null,
            "bottom": null,
            "display": null,
            "flex": null,
            "flex_flow": null,
            "grid_area": null,
            "grid_auto_columns": null,
            "grid_auto_flow": null,
            "grid_auto_rows": null,
            "grid_column": null,
            "grid_gap": null,
            "grid_row": null,
            "grid_template_areas": null,
            "grid_template_columns": null,
            "grid_template_rows": null,
            "height": null,
            "justify_content": null,
            "justify_items": null,
            "left": null,
            "margin": null,
            "max_height": null,
            "max_width": null,
            "min_height": null,
            "min_width": null,
            "object_fit": null,
            "object_position": null,
            "order": null,
            "overflow": null,
            "overflow_x": null,
            "overflow_y": null,
            "padding": null,
            "right": null,
            "top": null,
            "visibility": null,
            "width": null
          }
        },
        "0c84ac1d4faf4b3c8bc22a6f7d8a8420": {
          "model_module": "@jupyter-widgets/controls",
          "model_name": "DescriptionStyleModel",
          "model_module_version": "1.5.0",
          "state": {
            "_model_module": "@jupyter-widgets/controls",
            "_model_module_version": "1.5.0",
            "_model_name": "DescriptionStyleModel",
            "_view_count": null,
            "_view_module": "@jupyter-widgets/base",
            "_view_module_version": "1.2.0",
            "_view_name": "StyleView",
            "description_width": ""
          }
        },
        "5777f5ccbef04a11a244198614ab88d7": {
          "model_module": "@jupyter-widgets/controls",
          "model_name": "HBoxModel",
          "model_module_version": "1.5.0",
          "state": {
            "_dom_classes": [],
            "_model_module": "@jupyter-widgets/controls",
            "_model_module_version": "1.5.0",
            "_model_name": "HBoxModel",
            "_view_count": null,
            "_view_module": "@jupyter-widgets/controls",
            "_view_module_version": "1.5.0",
            "_view_name": "HBoxView",
            "box_style": "",
            "children": [
              "IPY_MODEL_155de91b2e604520b89d4970baeca5f2",
              "IPY_MODEL_954b1888c86d48799188b6e4ef373246",
              "IPY_MODEL_6501b7e2aeda463ca3219398602219ce"
            ],
            "layout": "IPY_MODEL_c3b87aa1c4144c92b0b58ebe6263a536"
          }
        },
        "155de91b2e604520b89d4970baeca5f2": {
          "model_module": "@jupyter-widgets/controls",
          "model_name": "HTMLModel",
          "model_module_version": "1.5.0",
          "state": {
            "_dom_classes": [],
            "_model_module": "@jupyter-widgets/controls",
            "_model_module_version": "1.5.0",
            "_model_name": "HTMLModel",
            "_view_count": null,
            "_view_module": "@jupyter-widgets/controls",
            "_view_module_version": "1.5.0",
            "_view_name": "HTMLView",
            "description": "",
            "description_tooltip": null,
            "layout": "IPY_MODEL_8ca667a594c8420c84f7ba1154aaf275",
            "placeholder": "​",
            "style": "IPY_MODEL_c736f547bc9b4fd88e058b8ace537580",
            "value": ""
          }
        },
        "954b1888c86d48799188b6e4ef373246": {
          "model_module": "@jupyter-widgets/controls",
          "model_name": "FloatProgressModel",
          "model_module_version": "1.5.0",
          "state": {
            "_dom_classes": [],
            "_model_module": "@jupyter-widgets/controls",
            "_model_module_version": "1.5.0",
            "_model_name": "FloatProgressModel",
            "_view_count": null,
            "_view_module": "@jupyter-widgets/controls",
            "_view_module_version": "1.5.0",
            "_view_name": "ProgressView",
            "bar_style": "danger",
            "description": "",
            "description_tooltip": null,
            "layout": "IPY_MODEL_58e4469167314fbe93f529f3f29a270c",
            "max": 15000,
            "min": 0,
            "orientation": "horizontal",
            "style": "IPY_MODEL_cc878fe189704555a340c98bf2409ea6",
            "value": 15000
          }
        },
        "6501b7e2aeda463ca3219398602219ce": {
          "model_module": "@jupyter-widgets/controls",
          "model_name": "HTMLModel",
          "model_module_version": "1.5.0",
          "state": {
            "_dom_classes": [],
            "_model_module": "@jupyter-widgets/controls",
            "_model_module_version": "1.5.0",
            "_model_name": "HTMLModel",
            "_view_count": null,
            "_view_module": "@jupyter-widgets/controls",
            "_view_module_version": "1.5.0",
            "_view_name": "HTMLView",
            "description": "",
            "description_tooltip": null,
            "layout": "IPY_MODEL_3b3f29ee5f4a4ce0b17ecafcb0d48afb",
            "placeholder": "​",
            "style": "IPY_MODEL_8e953ae0c85b4081abe94875d125b2d0",
            "value": " 15001/? [09:33&lt;00:00, 32.29it/s]"
          }
        },
        "c3b87aa1c4144c92b0b58ebe6263a536": {
          "model_module": "@jupyter-widgets/base",
          "model_name": "LayoutModel",
          "model_module_version": "1.2.0",
          "state": {
            "_model_module": "@jupyter-widgets/base",
            "_model_module_version": "1.2.0",
            "_model_name": "LayoutModel",
            "_view_count": null,
            "_view_module": "@jupyter-widgets/base",
            "_view_module_version": "1.2.0",
            "_view_name": "LayoutView",
            "align_content": null,
            "align_items": null,
            "align_self": null,
            "border": null,
            "bottom": null,
            "display": null,
            "flex": null,
            "flex_flow": null,
            "grid_area": null,
            "grid_auto_columns": null,
            "grid_auto_flow": null,
            "grid_auto_rows": null,
            "grid_column": null,
            "grid_gap": null,
            "grid_row": null,
            "grid_template_areas": null,
            "grid_template_columns": null,
            "grid_template_rows": null,
            "height": null,
            "justify_content": null,
            "justify_items": null,
            "left": null,
            "margin": null,
            "max_height": null,
            "max_width": null,
            "min_height": null,
            "min_width": null,
            "object_fit": null,
            "object_position": null,
            "order": null,
            "overflow": null,
            "overflow_x": null,
            "overflow_y": null,
            "padding": null,
            "right": null,
            "top": null,
            "visibility": null,
            "width": null
          }
        },
        "8ca667a594c8420c84f7ba1154aaf275": {
          "model_module": "@jupyter-widgets/base",
          "model_name": "LayoutModel",
          "model_module_version": "1.2.0",
          "state": {
            "_model_module": "@jupyter-widgets/base",
            "_model_module_version": "1.2.0",
            "_model_name": "LayoutModel",
            "_view_count": null,
            "_view_module": "@jupyter-widgets/base",
            "_view_module_version": "1.2.0",
            "_view_name": "LayoutView",
            "align_content": null,
            "align_items": null,
            "align_self": null,
            "border": null,
            "bottom": null,
            "display": null,
            "flex": null,
            "flex_flow": null,
            "grid_area": null,
            "grid_auto_columns": null,
            "grid_auto_flow": null,
            "grid_auto_rows": null,
            "grid_column": null,
            "grid_gap": null,
            "grid_row": null,
            "grid_template_areas": null,
            "grid_template_columns": null,
            "grid_template_rows": null,
            "height": null,
            "justify_content": null,
            "justify_items": null,
            "left": null,
            "margin": null,
            "max_height": null,
            "max_width": null,
            "min_height": null,
            "min_width": null,
            "object_fit": null,
            "object_position": null,
            "order": null,
            "overflow": null,
            "overflow_x": null,
            "overflow_y": null,
            "padding": null,
            "right": null,
            "top": null,
            "visibility": null,
            "width": null
          }
        },
        "c736f547bc9b4fd88e058b8ace537580": {
          "model_module": "@jupyter-widgets/controls",
          "model_name": "DescriptionStyleModel",
          "model_module_version": "1.5.0",
          "state": {
            "_model_module": "@jupyter-widgets/controls",
            "_model_module_version": "1.5.0",
            "_model_name": "DescriptionStyleModel",
            "_view_count": null,
            "_view_module": "@jupyter-widgets/base",
            "_view_module_version": "1.2.0",
            "_view_name": "StyleView",
            "description_width": ""
          }
        },
        "58e4469167314fbe93f529f3f29a270c": {
          "model_module": "@jupyter-widgets/base",
          "model_name": "LayoutModel",
          "model_module_version": "1.2.0",
          "state": {
            "_model_module": "@jupyter-widgets/base",
            "_model_module_version": "1.2.0",
            "_model_name": "LayoutModel",
            "_view_count": null,
            "_view_module": "@jupyter-widgets/base",
            "_view_module_version": "1.2.0",
            "_view_name": "LayoutView",
            "align_content": null,
            "align_items": null,
            "align_self": null,
            "border": null,
            "bottom": null,
            "display": null,
            "flex": null,
            "flex_flow": null,
            "grid_area": null,
            "grid_auto_columns": null,
            "grid_auto_flow": null,
            "grid_auto_rows": null,
            "grid_column": null,
            "grid_gap": null,
            "grid_row": null,
            "grid_template_areas": null,
            "grid_template_columns": null,
            "grid_template_rows": null,
            "height": null,
            "justify_content": null,
            "justify_items": null,
            "left": null,
            "margin": null,
            "max_height": null,
            "max_width": null,
            "min_height": null,
            "min_width": null,
            "object_fit": null,
            "object_position": null,
            "order": null,
            "overflow": null,
            "overflow_x": null,
            "overflow_y": null,
            "padding": null,
            "right": null,
            "top": null,
            "visibility": null,
            "width": null
          }
        },
        "cc878fe189704555a340c98bf2409ea6": {
          "model_module": "@jupyter-widgets/controls",
          "model_name": "ProgressStyleModel",
          "model_module_version": "1.5.0",
          "state": {
            "_model_module": "@jupyter-widgets/controls",
            "_model_module_version": "1.5.0",
            "_model_name": "ProgressStyleModel",
            "_view_count": null,
            "_view_module": "@jupyter-widgets/base",
            "_view_module_version": "1.2.0",
            "_view_name": "StyleView",
            "bar_color": null,
            "description_width": ""
          }
        },
        "3b3f29ee5f4a4ce0b17ecafcb0d48afb": {
          "model_module": "@jupyter-widgets/base",
          "model_name": "LayoutModel",
          "model_module_version": "1.2.0",
          "state": {
            "_model_module": "@jupyter-widgets/base",
            "_model_module_version": "1.2.0",
            "_model_name": "LayoutModel",
            "_view_count": null,
            "_view_module": "@jupyter-widgets/base",
            "_view_module_version": "1.2.0",
            "_view_name": "LayoutView",
            "align_content": null,
            "align_items": null,
            "align_self": null,
            "border": null,
            "bottom": null,
            "display": null,
            "flex": null,
            "flex_flow": null,
            "grid_area": null,
            "grid_auto_columns": null,
            "grid_auto_flow": null,
            "grid_auto_rows": null,
            "grid_column": null,
            "grid_gap": null,
            "grid_row": null,
            "grid_template_areas": null,
            "grid_template_columns": null,
            "grid_template_rows": null,
            "height": null,
            "justify_content": null,
            "justify_items": null,
            "left": null,
            "margin": null,
            "max_height": null,
            "max_width": null,
            "min_height": null,
            "min_width": null,
            "object_fit": null,
            "object_position": null,
            "order": null,
            "overflow": null,
            "overflow_x": null,
            "overflow_y": null,
            "padding": null,
            "right": null,
            "top": null,
            "visibility": null,
            "width": null
          }
        },
        "8e953ae0c85b4081abe94875d125b2d0": {
          "model_module": "@jupyter-widgets/controls",
          "model_name": "DescriptionStyleModel",
          "model_module_version": "1.5.0",
          "state": {
            "_model_module": "@jupyter-widgets/controls",
            "_model_module_version": "1.5.0",
            "_model_name": "DescriptionStyleModel",
            "_view_count": null,
            "_view_module": "@jupyter-widgets/base",
            "_view_module_version": "1.2.0",
            "_view_name": "StyleView",
            "description_width": ""
          }
        }
      }
    }
  },
  "nbformat": 4,
  "nbformat_minor": 0
}